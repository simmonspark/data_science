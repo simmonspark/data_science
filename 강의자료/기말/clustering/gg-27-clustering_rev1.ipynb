{
 "nbformat": 4,
 "nbformat_minor": 0,
 "metadata": {
  "colab": {
   "provenance": []
  },
  "kernelspec": {
   "display_name": "Python 3",
   "language": "python",
   "name": "python3"
  },
  "language_info": {
   "codemirror_mode": {
    "name": "ipython",
    "version": 3
   },
   "file_extension": ".py",
   "mimetype": "text/x-python",
   "name": "python",
   "nbconvert_exporter": "python",
   "pygments_lexer": "ipython3",
   "version": "3.7.6"
  }
 },
 "cells": [
  {
   "cell_type": "markdown",
   "metadata": {
    "id": "Qet5-7QImPh1"
   },
   "source": [
    "# Clustering (군집화)\n",
    "- data from 전력거래소\n",
    "- 전력판매량(시도별/용도별) 액셀 파일 https://goo.gl/Cx8Rzw"
   ]
  },
  {
   "cell_type": "code",
   "metadata": {
    "id": "LXiyWd8EmPh4",
    "executionInfo": {
     "status": "ok",
     "timestamp": 1698387384215,
     "user_tz": -540,
     "elapsed": 745,
     "user": {
      "displayName": "Yongjin Jeong",
      "userId": "03658406798560557048"
     }
    },
    "ExecuteTime": {
     "end_time": "2024-11-24T04:51:17.289715Z",
     "start_time": "2024-11-24T04:51:17.017844Z"
    }
   },
   "source": [
    "import pandas as pd\n",
    "import numpy as np\n",
    "import matplotlib.pyplot as plt\n",
    "%matplotlib inline"
   ],
   "outputs": [],
   "execution_count": 1
  },
  {
   "cell_type": "markdown",
   "metadata": {
    "id": "UJYmluUhmPh8"
   },
   "source": [
    "### data read"
   ]
  },
  {
   "cell_type": "code",
   "metadata": {
    "colab": {
     "base_uri": "https://localhost:8080/"
    },
    "id": "Coq5iDkH--6z",
    "executionInfo": {
     "status": "ok",
     "timestamp": 1698387387530,
     "user_tz": -540,
     "elapsed": 2718,
     "user": {
      "displayName": "Yongjin Jeong",
      "userId": "03658406798560557048"
     }
    },
    "outputId": "eaf2fcb1-49c1-407d-84f1-3374ef754346",
    "ExecuteTime": {
     "end_time": "2024-11-24T04:51:18.894895Z",
     "start_time": "2024-11-24T04:51:17.290489Z"
    }
   },
   "source": [
    "!curl -L \"https://goo.gl/Cx8Rzw\" -o power_data.xls"
   ],
   "outputs": [
    {
     "name": "stdout",
     "output_type": "stream",
     "text": [
      "/bin/bash: warning: setlocale: LC_ALL: cannot change locale (en_US.UTF-8)\r\n",
      "  % Total    % Received % Xferd  Average Speed   Time    Time     Time  Current\r\n",
      "                                 Dload  Upload   Total   Spent    Left  Speed\r\n",
      "  0     0    0     0    0     0      0      0 --:--:-- --:--:-- --:--:--     0\r\n",
      "100   105  100   105    0     0    174      0 --:--:-- --:--:-- --:--:--   174\r\n",
      "100   297  100   297    0     0    330      0 --:--:-- --:--:-- --:--:--   330\r\n",
      "100   470    0   470    0     0    383      0 --:--:--  0:00:01 --:--:--  1506\r\n",
      "100 17920  100 17920    0     0  12094      0  0:00:01  0:00:01 --:--:-- 12094\r\n"
     ]
    }
   ],
   "execution_count": 2
  },
  {
   "cell_type": "code",
   "source": "#!pip install xlrd=='2.0.1'",
   "metadata": {
    "colab": {
     "base_uri": "https://localhost:8080/"
    },
    "id": "lMYIyKo897-U",
    "executionInfo": {
     "status": "ok",
     "timestamp": 1698387393159,
     "user_tz": -540,
     "elapsed": 5632,
     "user": {
      "displayName": "Yongjin Jeong",
      "userId": "03658406798560557048"
     }
    },
    "outputId": "e8d7f887-e439-4c18-cddd-b86244ace43b",
    "ExecuteTime": {
     "end_time": "2024-11-24T04:51:18.906371Z",
     "start_time": "2024-11-24T04:51:18.899990Z"
    }
   },
   "outputs": [],
   "execution_count": 3
  },
  {
   "cell_type": "code",
   "metadata": {
    "id": "Trnrg9-pmPh8",
    "colab": {
     "base_uri": "https://localhost:8080/",
     "height": 359
    },
    "executionInfo": {
     "status": "ok",
     "timestamp": 1698387393159,
     "user_tz": -540,
     "elapsed": 32,
     "user": {
      "displayName": "Yongjin Jeong",
      "userId": "03658406798560557048"
     }
    },
    "outputId": "24ec9206-3be9-4d3a-cec2-84ce42207fdb",
    "ExecuteTime": {
     "end_time": "2024-11-24T04:51:18.937332Z",
     "start_time": "2024-11-24T04:51:18.910049Z"
    }
   },
   "source": [
    "df = pd.read_excel('power_data.xls')\n",
    "df.head()"
   ],
   "outputs": [
    {
     "data": {
      "text/plain": [
       "   구분       주거용      공공용      서비스업     업무용합계     농림어업      광업       제조업  \\\n",
       "0  강원   1940933  1400421   6203749   7604170   607139  398287   6002286   \n",
       "1  개성         0        0         0         0        0       0         0   \n",
       "2  경기  16587710  5533662  33434551  38968213  2371347  317263  56603327   \n",
       "3  경남   4260988  1427560   8667737  10095297  2141813   95989  18053778   \n",
       "4  경북   3302463  1578115   8487402  10065517  1747462  224568  30115601   \n",
       "\n",
       "     식료품제조    섬유,의류  ...     기타기계    사무기기     전기기기     영상,음향      자동차  \\\n",
       "0   546621    13027  ...    35063    2019    38062     43986   113448   \n",
       "1        0        0  ...        0       0        0         0        0   \n",
       "2  2544420  2109963  ...  3613798  317244  1040171  24519644  2977165   \n",
       "3   932743   346974  ...  1902913    8070   924235    534196  2156059   \n",
       "4   566071  3780171  ...   782570   14468   750786   4174971  2356890   \n",
       "\n",
       "      기타운송    가구및기타    재생재료     산업용합계         합계  \n",
       "0   108629    12872    3418   7007712   16552816  \n",
       "1        0        0       0         0          0  \n",
       "2    67594  1833112  133041  59291937  114847859  \n",
       "3  2048646   262523   47662  20291580   34647864  \n",
       "4   123935    60280   77104  32087631   45455611  \n",
       "\n",
       "[5 rows x 28 columns]"
      ],
      "text/html": [
       "<div>\n",
       "<style scoped>\n",
       "    .dataframe tbody tr th:only-of-type {\n",
       "        vertical-align: middle;\n",
       "    }\n",
       "\n",
       "    .dataframe tbody tr th {\n",
       "        vertical-align: top;\n",
       "    }\n",
       "\n",
       "    .dataframe thead th {\n",
       "        text-align: right;\n",
       "    }\n",
       "</style>\n",
       "<table border=\"1\" class=\"dataframe\">\n",
       "  <thead>\n",
       "    <tr style=\"text-align: right;\">\n",
       "      <th></th>\n",
       "      <th>구분</th>\n",
       "      <th>주거용</th>\n",
       "      <th>공공용</th>\n",
       "      <th>서비스업</th>\n",
       "      <th>업무용합계</th>\n",
       "      <th>농림어업</th>\n",
       "      <th>광업</th>\n",
       "      <th>제조업</th>\n",
       "      <th>식료품제조</th>\n",
       "      <th>섬유,의류</th>\n",
       "      <th>...</th>\n",
       "      <th>기타기계</th>\n",
       "      <th>사무기기</th>\n",
       "      <th>전기기기</th>\n",
       "      <th>영상,음향</th>\n",
       "      <th>자동차</th>\n",
       "      <th>기타운송</th>\n",
       "      <th>가구및기타</th>\n",
       "      <th>재생재료</th>\n",
       "      <th>산업용합계</th>\n",
       "      <th>합계</th>\n",
       "    </tr>\n",
       "  </thead>\n",
       "  <tbody>\n",
       "    <tr>\n",
       "      <th>0</th>\n",
       "      <td>강원</td>\n",
       "      <td>1940933</td>\n",
       "      <td>1400421</td>\n",
       "      <td>6203749</td>\n",
       "      <td>7604170</td>\n",
       "      <td>607139</td>\n",
       "      <td>398287</td>\n",
       "      <td>6002286</td>\n",
       "      <td>546621</td>\n",
       "      <td>13027</td>\n",
       "      <td>...</td>\n",
       "      <td>35063</td>\n",
       "      <td>2019</td>\n",
       "      <td>38062</td>\n",
       "      <td>43986</td>\n",
       "      <td>113448</td>\n",
       "      <td>108629</td>\n",
       "      <td>12872</td>\n",
       "      <td>3418</td>\n",
       "      <td>7007712</td>\n",
       "      <td>16552816</td>\n",
       "    </tr>\n",
       "    <tr>\n",
       "      <th>1</th>\n",
       "      <td>개성</td>\n",
       "      <td>0</td>\n",
       "      <td>0</td>\n",
       "      <td>0</td>\n",
       "      <td>0</td>\n",
       "      <td>0</td>\n",
       "      <td>0</td>\n",
       "      <td>0</td>\n",
       "      <td>0</td>\n",
       "      <td>0</td>\n",
       "      <td>...</td>\n",
       "      <td>0</td>\n",
       "      <td>0</td>\n",
       "      <td>0</td>\n",
       "      <td>0</td>\n",
       "      <td>0</td>\n",
       "      <td>0</td>\n",
       "      <td>0</td>\n",
       "      <td>0</td>\n",
       "      <td>0</td>\n",
       "      <td>0</td>\n",
       "    </tr>\n",
       "    <tr>\n",
       "      <th>2</th>\n",
       "      <td>경기</td>\n",
       "      <td>16587710</td>\n",
       "      <td>5533662</td>\n",
       "      <td>33434551</td>\n",
       "      <td>38968213</td>\n",
       "      <td>2371347</td>\n",
       "      <td>317263</td>\n",
       "      <td>56603327</td>\n",
       "      <td>2544420</td>\n",
       "      <td>2109963</td>\n",
       "      <td>...</td>\n",
       "      <td>3613798</td>\n",
       "      <td>317244</td>\n",
       "      <td>1040171</td>\n",
       "      <td>24519644</td>\n",
       "      <td>2977165</td>\n",
       "      <td>67594</td>\n",
       "      <td>1833112</td>\n",
       "      <td>133041</td>\n",
       "      <td>59291937</td>\n",
       "      <td>114847859</td>\n",
       "    </tr>\n",
       "    <tr>\n",
       "      <th>3</th>\n",
       "      <td>경남</td>\n",
       "      <td>4260988</td>\n",
       "      <td>1427560</td>\n",
       "      <td>8667737</td>\n",
       "      <td>10095297</td>\n",
       "      <td>2141813</td>\n",
       "      <td>95989</td>\n",
       "      <td>18053778</td>\n",
       "      <td>932743</td>\n",
       "      <td>346974</td>\n",
       "      <td>...</td>\n",
       "      <td>1902913</td>\n",
       "      <td>8070</td>\n",
       "      <td>924235</td>\n",
       "      <td>534196</td>\n",
       "      <td>2156059</td>\n",
       "      <td>2048646</td>\n",
       "      <td>262523</td>\n",
       "      <td>47662</td>\n",
       "      <td>20291580</td>\n",
       "      <td>34647864</td>\n",
       "    </tr>\n",
       "    <tr>\n",
       "      <th>4</th>\n",
       "      <td>경북</td>\n",
       "      <td>3302463</td>\n",
       "      <td>1578115</td>\n",
       "      <td>8487402</td>\n",
       "      <td>10065517</td>\n",
       "      <td>1747462</td>\n",
       "      <td>224568</td>\n",
       "      <td>30115601</td>\n",
       "      <td>566071</td>\n",
       "      <td>3780171</td>\n",
       "      <td>...</td>\n",
       "      <td>782570</td>\n",
       "      <td>14468</td>\n",
       "      <td>750786</td>\n",
       "      <td>4174971</td>\n",
       "      <td>2356890</td>\n",
       "      <td>123935</td>\n",
       "      <td>60280</td>\n",
       "      <td>77104</td>\n",
       "      <td>32087631</td>\n",
       "      <td>45455611</td>\n",
       "    </tr>\n",
       "  </tbody>\n",
       "</table>\n",
       "<p>5 rows × 28 columns</p>\n",
       "</div>"
      ]
     },
     "execution_count": 4,
     "metadata": {},
     "output_type": "execute_result"
    }
   ],
   "execution_count": 4
  },
  {
   "cell_type": "code",
   "metadata": {
    "id": "wdbpLmnGmPiA",
    "colab": {
     "base_uri": "https://localhost:8080/"
    },
    "executionInfo": {
     "status": "ok",
     "timestamp": 1698387393159,
     "user_tz": -540,
     "elapsed": 30,
     "user": {
      "displayName": "Yongjin Jeong",
      "userId": "03658406798560557048"
     }
    },
    "outputId": "480d31d2-7dba-4ca7-bbf5-89ed8d520596",
    "ExecuteTime": {
     "end_time": "2024-11-24T04:51:18.940147Z",
     "start_time": "2024-11-24T04:51:18.938091Z"
    }
   },
   "source": [
    "print(df.columns)\n",
    "print(df.index)"
   ],
   "outputs": [
    {
     "name": "stdout",
     "output_type": "stream",
     "text": [
      "Index(['구분', '주거용', '공공용', '서비스업', '업무용합계', '농림어업', '광업', '제조업', '식료품제조',\n",
      "       '섬유,의류', '목재,나무', '펄프,종이', '출판,인쇄', '석유,화확', '의료,광학', '요업', '1차금속',\n",
      "       '조립금속', '기타기계', '사무기기', '전기기기', '영상,음향', '자동차', '기타운송', '가구및기타', '재생재료',\n",
      "       '산업용합계', '합계'],\n",
      "      dtype='object')\n",
      "RangeIndex(start=0, stop=19, step=1)\n"
     ]
    }
   ],
   "execution_count": 5
  },
  {
   "cell_type": "code",
   "metadata": {
    "colab": {
     "base_uri": "https://localhost:8080/"
    },
    "id": "Fu1xNEgAeSFn",
    "executionInfo": {
     "status": "ok",
     "timestamp": 1698387393159,
     "user_tz": -540,
     "elapsed": 28,
     "user": {
      "displayName": "Yongjin Jeong",
      "userId": "03658406798560557048"
     }
    },
    "outputId": "8b372eba-0a77-4598-96b9-95d79a3b630b",
    "ExecuteTime": {
     "end_time": "2024-11-24T04:51:18.942853Z",
     "start_time": "2024-11-24T04:51:18.940693Z"
    }
   },
   "source": [
    "df.shape"
   ],
   "outputs": [
    {
     "data": {
      "text/plain": [
       "(19, 28)"
      ]
     },
     "execution_count": 6,
     "metadata": {},
     "output_type": "execute_result"
    }
   ],
   "execution_count": 6
  },
  {
   "metadata": {
    "ExecuteTime": {
     "end_time": "2024-11-24T04:51:19.635759Z",
     "start_time": "2024-11-24T04:51:18.943401Z"
    }
   },
   "cell_type": "code",
   "source": [
    "import torch\n",
    "torch.cuda.is_available()\n",
    "torch.cuda.get_device_name()"
   ],
   "outputs": [
    {
     "data": {
      "text/plain": [
       "'NVIDIA GeForce RTX 4090'"
      ]
     },
     "execution_count": 7,
     "metadata": {},
     "output_type": "execute_result"
    }
   ],
   "execution_count": 7
  },
  {
   "cell_type": "code",
   "metadata": {
    "colab": {
     "base_uri": "https://localhost:8080/"
    },
    "id": "V0GqmYCd--60",
    "executionInfo": {
     "status": "ok",
     "timestamp": 1698387393160,
     "user_tz": -540,
     "elapsed": 27,
     "user": {
      "displayName": "Yongjin Jeong",
      "userId": "03658406798560557048"
     }
    },
    "outputId": "750ec32a-17dd-45ed-d27e-fc4d1a95a7b0",
    "ExecuteTime": {
     "end_time": "2024-11-24T04:51:19.641137Z",
     "start_time": "2024-11-24T04:51:19.636327Z"
    }
   },
   "source": [
    "df.info()"
   ],
   "outputs": [
    {
     "name": "stdout",
     "output_type": "stream",
     "text": [
      "<class 'pandas.core.frame.DataFrame'>\n",
      "RangeIndex: 19 entries, 0 to 18\n",
      "Data columns (total 28 columns):\n",
      " #   Column  Non-Null Count  Dtype \n",
      "---  ------  --------------  ----- \n",
      " 0   구분      19 non-null     object\n",
      " 1   주거용     19 non-null     int64 \n",
      " 2   공공용     19 non-null     int64 \n",
      " 3   서비스업    19 non-null     int64 \n",
      " 4   업무용합계   19 non-null     int64 \n",
      " 5   농림어업    19 non-null     int64 \n",
      " 6   광업      19 non-null     int64 \n",
      " 7   제조업     19 non-null     int64 \n",
      " 8   식료품제조   19 non-null     int64 \n",
      " 9   섬유,의류   19 non-null     int64 \n",
      " 10  목재,나무   19 non-null     int64 \n",
      " 11  펄프,종이   19 non-null     int64 \n",
      " 12  출판,인쇄   19 non-null     int64 \n",
      " 13  석유,화확   19 non-null     int64 \n",
      " 14  의료,광학   19 non-null     int64 \n",
      " 15  요업      19 non-null     int64 \n",
      " 16  1차금속    19 non-null     int64 \n",
      " 17  조립금속    19 non-null     int64 \n",
      " 18  기타기계    19 non-null     int64 \n",
      " 19  사무기기    19 non-null     int64 \n",
      " 20  전기기기    19 non-null     int64 \n",
      " 21  영상,음향   19 non-null     int64 \n",
      " 22  자동차     19 non-null     int64 \n",
      " 23  기타운송    19 non-null     int64 \n",
      " 24  가구및기타   19 non-null     int64 \n",
      " 25  재생재료    19 non-null     int64 \n",
      " 26  산업용합계   19 non-null     int64 \n",
      " 27  합계      19 non-null     int64 \n",
      "dtypes: int64(27), object(1)\n",
      "memory usage: 4.3+ KB\n"
     ]
    }
   ],
   "execution_count": 8
  },
  {
   "cell_type": "code",
   "metadata": {
    "colab": {
     "base_uri": "https://localhost:8080/",
     "height": 359
    },
    "id": "q2HibUIRJKqu",
    "executionInfo": {
     "status": "ok",
     "timestamp": 1698387393160,
     "user_tz": -540,
     "elapsed": 26,
     "user": {
      "displayName": "Yongjin Jeong",
      "userId": "03658406798560557048"
     }
    },
    "outputId": "52db4ae7-d018-4eca-bc27-3b4f9ef40c8b",
    "ExecuteTime": {
     "end_time": "2024-11-24T04:51:19.646654Z",
     "start_time": "2024-11-24T04:51:19.641731Z"
    }
   },
   "source": [
    "df.tail()"
   ],
   "outputs": [
    {
     "data": {
      "text/plain": [
       "    구분       주거용       공공용       서비스업      업무용합계      농림어업       광업  \\\n",
       "14  전북   2326183   1096968    4910318    6007286   1415004    85300   \n",
       "15  제주    782601    301727    2308732    2610459   1364930    14019   \n",
       "16  충남   2691823   1089613    7164439    8254052   1928066   248313   \n",
       "17  충북   2027281   1267140    4804638    6071778    721131   139856   \n",
       "18  합계  64576423  22204112  134748546  156952658  15373994  1347957   \n",
       "\n",
       "          제조업     식료품제조     섬유,의류  ...      기타기계    사무기기     전기기기     영상,음향  \\\n",
       "14   12965875   1459217    731651  ...    159699    7240   130692    420005   \n",
       "15     241537    155987      3497  ...      1167       0      771         0   \n",
       "16   37057955   1137035    269998  ...    611925   12208   428906  10953811   \n",
       "17   15883448   1152073    333846  ...    366871   23076  1125141   4103832   \n",
       "18  252942540  10735833  11247578  ...  10504640  487262  5763846  47655808   \n",
       "\n",
       "         자동차     기타운송    가구및기타    재생재료      산업용합계         합계  \n",
       "14    859741    70980    16175   99003   14466179   22799647  \n",
       "15       773      532     1743     743    1620486    5013545  \n",
       "16   2526658    33766    53804   19725   39234334   50180209  \n",
       "17    603349    82496   513501   46038   16744435   24843494  \n",
       "18  17790147  4311878  3396006  559909  269664491  491193571  \n",
       "\n",
       "[5 rows x 28 columns]"
      ],
      "text/html": [
       "<div>\n",
       "<style scoped>\n",
       "    .dataframe tbody tr th:only-of-type {\n",
       "        vertical-align: middle;\n",
       "    }\n",
       "\n",
       "    .dataframe tbody tr th {\n",
       "        vertical-align: top;\n",
       "    }\n",
       "\n",
       "    .dataframe thead th {\n",
       "        text-align: right;\n",
       "    }\n",
       "</style>\n",
       "<table border=\"1\" class=\"dataframe\">\n",
       "  <thead>\n",
       "    <tr style=\"text-align: right;\">\n",
       "      <th></th>\n",
       "      <th>구분</th>\n",
       "      <th>주거용</th>\n",
       "      <th>공공용</th>\n",
       "      <th>서비스업</th>\n",
       "      <th>업무용합계</th>\n",
       "      <th>농림어업</th>\n",
       "      <th>광업</th>\n",
       "      <th>제조업</th>\n",
       "      <th>식료품제조</th>\n",
       "      <th>섬유,의류</th>\n",
       "      <th>...</th>\n",
       "      <th>기타기계</th>\n",
       "      <th>사무기기</th>\n",
       "      <th>전기기기</th>\n",
       "      <th>영상,음향</th>\n",
       "      <th>자동차</th>\n",
       "      <th>기타운송</th>\n",
       "      <th>가구및기타</th>\n",
       "      <th>재생재료</th>\n",
       "      <th>산업용합계</th>\n",
       "      <th>합계</th>\n",
       "    </tr>\n",
       "  </thead>\n",
       "  <tbody>\n",
       "    <tr>\n",
       "      <th>14</th>\n",
       "      <td>전북</td>\n",
       "      <td>2326183</td>\n",
       "      <td>1096968</td>\n",
       "      <td>4910318</td>\n",
       "      <td>6007286</td>\n",
       "      <td>1415004</td>\n",
       "      <td>85300</td>\n",
       "      <td>12965875</td>\n",
       "      <td>1459217</td>\n",
       "      <td>731651</td>\n",
       "      <td>...</td>\n",
       "      <td>159699</td>\n",
       "      <td>7240</td>\n",
       "      <td>130692</td>\n",
       "      <td>420005</td>\n",
       "      <td>859741</td>\n",
       "      <td>70980</td>\n",
       "      <td>16175</td>\n",
       "      <td>99003</td>\n",
       "      <td>14466179</td>\n",
       "      <td>22799647</td>\n",
       "    </tr>\n",
       "    <tr>\n",
       "      <th>15</th>\n",
       "      <td>제주</td>\n",
       "      <td>782601</td>\n",
       "      <td>301727</td>\n",
       "      <td>2308732</td>\n",
       "      <td>2610459</td>\n",
       "      <td>1364930</td>\n",
       "      <td>14019</td>\n",
       "      <td>241537</td>\n",
       "      <td>155987</td>\n",
       "      <td>3497</td>\n",
       "      <td>...</td>\n",
       "      <td>1167</td>\n",
       "      <td>0</td>\n",
       "      <td>771</td>\n",
       "      <td>0</td>\n",
       "      <td>773</td>\n",
       "      <td>532</td>\n",
       "      <td>1743</td>\n",
       "      <td>743</td>\n",
       "      <td>1620486</td>\n",
       "      <td>5013545</td>\n",
       "    </tr>\n",
       "    <tr>\n",
       "      <th>16</th>\n",
       "      <td>충남</td>\n",
       "      <td>2691823</td>\n",
       "      <td>1089613</td>\n",
       "      <td>7164439</td>\n",
       "      <td>8254052</td>\n",
       "      <td>1928066</td>\n",
       "      <td>248313</td>\n",
       "      <td>37057955</td>\n",
       "      <td>1137035</td>\n",
       "      <td>269998</td>\n",
       "      <td>...</td>\n",
       "      <td>611925</td>\n",
       "      <td>12208</td>\n",
       "      <td>428906</td>\n",
       "      <td>10953811</td>\n",
       "      <td>2526658</td>\n",
       "      <td>33766</td>\n",
       "      <td>53804</td>\n",
       "      <td>19725</td>\n",
       "      <td>39234334</td>\n",
       "      <td>50180209</td>\n",
       "    </tr>\n",
       "    <tr>\n",
       "      <th>17</th>\n",
       "      <td>충북</td>\n",
       "      <td>2027281</td>\n",
       "      <td>1267140</td>\n",
       "      <td>4804638</td>\n",
       "      <td>6071778</td>\n",
       "      <td>721131</td>\n",
       "      <td>139856</td>\n",
       "      <td>15883448</td>\n",
       "      <td>1152073</td>\n",
       "      <td>333846</td>\n",
       "      <td>...</td>\n",
       "      <td>366871</td>\n",
       "      <td>23076</td>\n",
       "      <td>1125141</td>\n",
       "      <td>4103832</td>\n",
       "      <td>603349</td>\n",
       "      <td>82496</td>\n",
       "      <td>513501</td>\n",
       "      <td>46038</td>\n",
       "      <td>16744435</td>\n",
       "      <td>24843494</td>\n",
       "    </tr>\n",
       "    <tr>\n",
       "      <th>18</th>\n",
       "      <td>합계</td>\n",
       "      <td>64576423</td>\n",
       "      <td>22204112</td>\n",
       "      <td>134748546</td>\n",
       "      <td>156952658</td>\n",
       "      <td>15373994</td>\n",
       "      <td>1347957</td>\n",
       "      <td>252942540</td>\n",
       "      <td>10735833</td>\n",
       "      <td>11247578</td>\n",
       "      <td>...</td>\n",
       "      <td>10504640</td>\n",
       "      <td>487262</td>\n",
       "      <td>5763846</td>\n",
       "      <td>47655808</td>\n",
       "      <td>17790147</td>\n",
       "      <td>4311878</td>\n",
       "      <td>3396006</td>\n",
       "      <td>559909</td>\n",
       "      <td>269664491</td>\n",
       "      <td>491193571</td>\n",
       "    </tr>\n",
       "  </tbody>\n",
       "</table>\n",
       "<p>5 rows × 28 columns</p>\n",
       "</div>"
      ]
     },
     "execution_count": 9,
     "metadata": {},
     "output_type": "execute_result"
    }
   ],
   "execution_count": 9
  },
  {
   "cell_type": "code",
   "metadata": {
    "colab": {
     "base_uri": "https://localhost:8080/",
     "height": 349
    },
    "id": "1muTpqJM--61",
    "executionInfo": {
     "status": "ok",
     "timestamp": 1698387393160,
     "user_tz": -540,
     "elapsed": 24,
     "user": {
      "displayName": "Yongjin Jeong",
      "userId": "03658406798560557048"
     }
    },
    "outputId": "0cda717c-5ae7-4758-9a04-a5aa56f1a49c",
    "ExecuteTime": {
     "end_time": "2024-11-24T04:51:19.668624Z",
     "start_time": "2024-11-24T04:51:19.647084Z"
    }
   },
   "source": [
    "df.describe()"
   ],
   "outputs": [
    {
     "data": {
      "text/plain": [
       "                주거용           공공용          서비스업         업무용합계          농림어업  \\\n",
       "count  1.900000e+01  1.900000e+01  1.900000e+01  1.900000e+01  1.900000e+01   \n",
       "mean   6.899673e+06  2.410981e+06  1.451057e+07  1.692155e+07  1.650270e+06   \n",
       "std    1.457381e+07  4.957221e+06  3.031208e+07  3.526148e+07  3.464035e+06   \n",
       "min    0.000000e+00  0.000000e+00  0.000000e+00  0.000000e+00  0.000000e+00   \n",
       "25%    1.906912e+06  6.959615e+05  3.802654e+06  4.524926e+06  7.203850e+04   \n",
       "50%    2.326183e+06  1.089613e+06  5.690659e+06  6.654683e+06  6.071390e+05   \n",
       "75%    4.058920e+06  1.413990e+06  8.034786e+06  9.476781e+06  1.837764e+06   \n",
       "max    6.457642e+07  2.220411e+07  1.347485e+08  1.569527e+08  1.537399e+07   \n",
       "\n",
       "                 광업           제조업         식료품제조         섬유,의류         목재,나무  \\\n",
       "count  1.900000e+01  1.900000e+01  1.900000e+01  1.900000e+01  1.900000e+01   \n",
       "mean   1.628526e+05  2.694144e+07  1.158857e+06  1.184641e+06  2.016269e+05   \n",
       "std    3.102484e+05  5.669154e+07  2.399623e+06  2.604338e+06  4.514169e+05   \n",
       "min    0.000000e+00  0.000000e+00  0.000000e+00  0.000000e+00  0.000000e+00   \n",
       "25%    9.938500e+03  2.759556e+06  1.959545e+05  7.325600e+04  5.590500e+03   \n",
       "50%    7.152900e+04  1.236782e+07  5.329430e+05  3.338460e+05  2.799800e+04   \n",
       "75%    1.822120e+05  2.366853e+07  1.034889e+06  8.374750e+05  1.033945e+05   \n",
       "max    1.347957e+06  2.529425e+08  1.073583e+07  1.124758e+07  1.905882e+06   \n",
       "\n",
       "       ...          기타기계           사무기기          전기기기         영상,음향  \\\n",
       "count  ...  1.900000e+01      19.000000  1.900000e+01  1.900000e+01   \n",
       "mean   ...  1.107597e+06   51397.000000  6.087239e+05  5.018716e+06   \n",
       "std    ...  2.437518e+06  127516.047494  1.300814e+06  1.190370e+07   \n",
       "min    ...  0.000000e+00       0.000000  0.000000e+00  0.000000e+00   \n",
       "25%    ...  7.220050e+04    3672.000000  6.083550e+04  4.510550e+04   \n",
       "50%    ...  1.988470e+05    7240.000000  1.785020e+05  4.200050e+05   \n",
       "75%    ...  8.433595e+05   14393.500000  5.898460e+05  2.614198e+06   \n",
       "max    ...  1.050464e+07  487262.000000  5.763846e+06  4.765581e+07   \n",
       "\n",
       "                자동차          기타운송         가구및기타           재생재료         산업용합계  \\\n",
       "count  1.900000e+01  1.900000e+01  1.900000e+01      19.000000  1.900000e+01   \n",
       "mean   1.878618e+06  4.595993e+05  3.581517e+05   59117.789474  2.875456e+07   \n",
       "std    3.981244e+06  1.058183e+06  8.481672e+05  126709.246048  6.037040e+07   \n",
       "min    0.000000e+00  0.000000e+00  0.000000e+00       0.000000  0.000000e+00   \n",
       "25%    9.622850e+04  1.154750e+04  1.313200e+04    2739.000000  2.814293e+06   \n",
       "50%    6.128980e+05  6.812700e+04  4.181400e+04   19725.000000  1.258230e+07   \n",
       "75%    2.256474e+06  1.775380e+05  1.976150e+05   46850.000000  2.530336e+07   \n",
       "max    1.779015e+07  4.311878e+06  3.396006e+06  559909.000000  2.696645e+08   \n",
       "\n",
       "                 합계  \n",
       "count  1.900000e+01  \n",
       "mean   5.257579e+07  \n",
       "std    1.092609e+08  \n",
       "min    0.000000e+00  \n",
       "25%    1.240509e+07  \n",
       "50%    2.451531e+07  \n",
       "75%    4.005174e+07  \n",
       "max    4.911936e+08  \n",
       "\n",
       "[8 rows x 27 columns]"
      ],
      "text/html": [
       "<div>\n",
       "<style scoped>\n",
       "    .dataframe tbody tr th:only-of-type {\n",
       "        vertical-align: middle;\n",
       "    }\n",
       "\n",
       "    .dataframe tbody tr th {\n",
       "        vertical-align: top;\n",
       "    }\n",
       "\n",
       "    .dataframe thead th {\n",
       "        text-align: right;\n",
       "    }\n",
       "</style>\n",
       "<table border=\"1\" class=\"dataframe\">\n",
       "  <thead>\n",
       "    <tr style=\"text-align: right;\">\n",
       "      <th></th>\n",
       "      <th>주거용</th>\n",
       "      <th>공공용</th>\n",
       "      <th>서비스업</th>\n",
       "      <th>업무용합계</th>\n",
       "      <th>농림어업</th>\n",
       "      <th>광업</th>\n",
       "      <th>제조업</th>\n",
       "      <th>식료품제조</th>\n",
       "      <th>섬유,의류</th>\n",
       "      <th>목재,나무</th>\n",
       "      <th>...</th>\n",
       "      <th>기타기계</th>\n",
       "      <th>사무기기</th>\n",
       "      <th>전기기기</th>\n",
       "      <th>영상,음향</th>\n",
       "      <th>자동차</th>\n",
       "      <th>기타운송</th>\n",
       "      <th>가구및기타</th>\n",
       "      <th>재생재료</th>\n",
       "      <th>산업용합계</th>\n",
       "      <th>합계</th>\n",
       "    </tr>\n",
       "  </thead>\n",
       "  <tbody>\n",
       "    <tr>\n",
       "      <th>count</th>\n",
       "      <td>1.900000e+01</td>\n",
       "      <td>1.900000e+01</td>\n",
       "      <td>1.900000e+01</td>\n",
       "      <td>1.900000e+01</td>\n",
       "      <td>1.900000e+01</td>\n",
       "      <td>1.900000e+01</td>\n",
       "      <td>1.900000e+01</td>\n",
       "      <td>1.900000e+01</td>\n",
       "      <td>1.900000e+01</td>\n",
       "      <td>1.900000e+01</td>\n",
       "      <td>...</td>\n",
       "      <td>1.900000e+01</td>\n",
       "      <td>19.000000</td>\n",
       "      <td>1.900000e+01</td>\n",
       "      <td>1.900000e+01</td>\n",
       "      <td>1.900000e+01</td>\n",
       "      <td>1.900000e+01</td>\n",
       "      <td>1.900000e+01</td>\n",
       "      <td>19.000000</td>\n",
       "      <td>1.900000e+01</td>\n",
       "      <td>1.900000e+01</td>\n",
       "    </tr>\n",
       "    <tr>\n",
       "      <th>mean</th>\n",
       "      <td>6.899673e+06</td>\n",
       "      <td>2.410981e+06</td>\n",
       "      <td>1.451057e+07</td>\n",
       "      <td>1.692155e+07</td>\n",
       "      <td>1.650270e+06</td>\n",
       "      <td>1.628526e+05</td>\n",
       "      <td>2.694144e+07</td>\n",
       "      <td>1.158857e+06</td>\n",
       "      <td>1.184641e+06</td>\n",
       "      <td>2.016269e+05</td>\n",
       "      <td>...</td>\n",
       "      <td>1.107597e+06</td>\n",
       "      <td>51397.000000</td>\n",
       "      <td>6.087239e+05</td>\n",
       "      <td>5.018716e+06</td>\n",
       "      <td>1.878618e+06</td>\n",
       "      <td>4.595993e+05</td>\n",
       "      <td>3.581517e+05</td>\n",
       "      <td>59117.789474</td>\n",
       "      <td>2.875456e+07</td>\n",
       "      <td>5.257579e+07</td>\n",
       "    </tr>\n",
       "    <tr>\n",
       "      <th>std</th>\n",
       "      <td>1.457381e+07</td>\n",
       "      <td>4.957221e+06</td>\n",
       "      <td>3.031208e+07</td>\n",
       "      <td>3.526148e+07</td>\n",
       "      <td>3.464035e+06</td>\n",
       "      <td>3.102484e+05</td>\n",
       "      <td>5.669154e+07</td>\n",
       "      <td>2.399623e+06</td>\n",
       "      <td>2.604338e+06</td>\n",
       "      <td>4.514169e+05</td>\n",
       "      <td>...</td>\n",
       "      <td>2.437518e+06</td>\n",
       "      <td>127516.047494</td>\n",
       "      <td>1.300814e+06</td>\n",
       "      <td>1.190370e+07</td>\n",
       "      <td>3.981244e+06</td>\n",
       "      <td>1.058183e+06</td>\n",
       "      <td>8.481672e+05</td>\n",
       "      <td>126709.246048</td>\n",
       "      <td>6.037040e+07</td>\n",
       "      <td>1.092609e+08</td>\n",
       "    </tr>\n",
       "    <tr>\n",
       "      <th>min</th>\n",
       "      <td>0.000000e+00</td>\n",
       "      <td>0.000000e+00</td>\n",
       "      <td>0.000000e+00</td>\n",
       "      <td>0.000000e+00</td>\n",
       "      <td>0.000000e+00</td>\n",
       "      <td>0.000000e+00</td>\n",
       "      <td>0.000000e+00</td>\n",
       "      <td>0.000000e+00</td>\n",
       "      <td>0.000000e+00</td>\n",
       "      <td>0.000000e+00</td>\n",
       "      <td>...</td>\n",
       "      <td>0.000000e+00</td>\n",
       "      <td>0.000000</td>\n",
       "      <td>0.000000e+00</td>\n",
       "      <td>0.000000e+00</td>\n",
       "      <td>0.000000e+00</td>\n",
       "      <td>0.000000e+00</td>\n",
       "      <td>0.000000e+00</td>\n",
       "      <td>0.000000</td>\n",
       "      <td>0.000000e+00</td>\n",
       "      <td>0.000000e+00</td>\n",
       "    </tr>\n",
       "    <tr>\n",
       "      <th>25%</th>\n",
       "      <td>1.906912e+06</td>\n",
       "      <td>6.959615e+05</td>\n",
       "      <td>3.802654e+06</td>\n",
       "      <td>4.524926e+06</td>\n",
       "      <td>7.203850e+04</td>\n",
       "      <td>9.938500e+03</td>\n",
       "      <td>2.759556e+06</td>\n",
       "      <td>1.959545e+05</td>\n",
       "      <td>7.325600e+04</td>\n",
       "      <td>5.590500e+03</td>\n",
       "      <td>...</td>\n",
       "      <td>7.220050e+04</td>\n",
       "      <td>3672.000000</td>\n",
       "      <td>6.083550e+04</td>\n",
       "      <td>4.510550e+04</td>\n",
       "      <td>9.622850e+04</td>\n",
       "      <td>1.154750e+04</td>\n",
       "      <td>1.313200e+04</td>\n",
       "      <td>2739.000000</td>\n",
       "      <td>2.814293e+06</td>\n",
       "      <td>1.240509e+07</td>\n",
       "    </tr>\n",
       "    <tr>\n",
       "      <th>50%</th>\n",
       "      <td>2.326183e+06</td>\n",
       "      <td>1.089613e+06</td>\n",
       "      <td>5.690659e+06</td>\n",
       "      <td>6.654683e+06</td>\n",
       "      <td>6.071390e+05</td>\n",
       "      <td>7.152900e+04</td>\n",
       "      <td>1.236782e+07</td>\n",
       "      <td>5.329430e+05</td>\n",
       "      <td>3.338460e+05</td>\n",
       "      <td>2.799800e+04</td>\n",
       "      <td>...</td>\n",
       "      <td>1.988470e+05</td>\n",
       "      <td>7240.000000</td>\n",
       "      <td>1.785020e+05</td>\n",
       "      <td>4.200050e+05</td>\n",
       "      <td>6.128980e+05</td>\n",
       "      <td>6.812700e+04</td>\n",
       "      <td>4.181400e+04</td>\n",
       "      <td>19725.000000</td>\n",
       "      <td>1.258230e+07</td>\n",
       "      <td>2.451531e+07</td>\n",
       "    </tr>\n",
       "    <tr>\n",
       "      <th>75%</th>\n",
       "      <td>4.058920e+06</td>\n",
       "      <td>1.413990e+06</td>\n",
       "      <td>8.034786e+06</td>\n",
       "      <td>9.476781e+06</td>\n",
       "      <td>1.837764e+06</td>\n",
       "      <td>1.822120e+05</td>\n",
       "      <td>2.366853e+07</td>\n",
       "      <td>1.034889e+06</td>\n",
       "      <td>8.374750e+05</td>\n",
       "      <td>1.033945e+05</td>\n",
       "      <td>...</td>\n",
       "      <td>8.433595e+05</td>\n",
       "      <td>14393.500000</td>\n",
       "      <td>5.898460e+05</td>\n",
       "      <td>2.614198e+06</td>\n",
       "      <td>2.256474e+06</td>\n",
       "      <td>1.775380e+05</td>\n",
       "      <td>1.976150e+05</td>\n",
       "      <td>46850.000000</td>\n",
       "      <td>2.530336e+07</td>\n",
       "      <td>4.005174e+07</td>\n",
       "    </tr>\n",
       "    <tr>\n",
       "      <th>max</th>\n",
       "      <td>6.457642e+07</td>\n",
       "      <td>2.220411e+07</td>\n",
       "      <td>1.347485e+08</td>\n",
       "      <td>1.569527e+08</td>\n",
       "      <td>1.537399e+07</td>\n",
       "      <td>1.347957e+06</td>\n",
       "      <td>2.529425e+08</td>\n",
       "      <td>1.073583e+07</td>\n",
       "      <td>1.124758e+07</td>\n",
       "      <td>1.905882e+06</td>\n",
       "      <td>...</td>\n",
       "      <td>1.050464e+07</td>\n",
       "      <td>487262.000000</td>\n",
       "      <td>5.763846e+06</td>\n",
       "      <td>4.765581e+07</td>\n",
       "      <td>1.779015e+07</td>\n",
       "      <td>4.311878e+06</td>\n",
       "      <td>3.396006e+06</td>\n",
       "      <td>559909.000000</td>\n",
       "      <td>2.696645e+08</td>\n",
       "      <td>4.911936e+08</td>\n",
       "    </tr>\n",
       "  </tbody>\n",
       "</table>\n",
       "<p>8 rows × 27 columns</p>\n",
       "</div>"
      ]
     },
     "execution_count": 10,
     "metadata": {},
     "output_type": "execute_result"
    }
   ],
   "execution_count": 10
  },
  {
   "cell_type": "code",
   "metadata": {
    "id": "Oe8tN2HPmPiE",
    "colab": {
     "base_uri": "https://localhost:8080/"
    },
    "executionInfo": {
     "status": "ok",
     "timestamp": 1698387393160,
     "user_tz": -540,
     "elapsed": 23,
     "user": {
      "displayName": "Yongjin Jeong",
      "userId": "03658406798560557048"
     }
    },
    "outputId": "f42c45ea-5d22-43c4-9bbf-c3ca165b18de",
    "ExecuteTime": {
     "end_time": "2024-11-24T04:51:19.672286Z",
     "start_time": "2024-11-24T04:51:19.669755Z"
    }
   },
   "source": [
    "df = df.set_index('구분')\n",
    "df = df.drop(['합계', '개성'], errors='ignore')\n",
    "df.shape"
   ],
   "outputs": [
    {
     "data": {
      "text/plain": [
       "(17, 27)"
      ]
     },
     "execution_count": 11,
     "metadata": {},
     "output_type": "execute_result"
    }
   ],
   "execution_count": 11
  },
  {
   "cell_type": "code",
   "metadata": {
    "colab": {
     "base_uri": "https://localhost:8080/",
     "height": 408
    },
    "id": "-6KlirWcJoDd",
    "executionInfo": {
     "status": "ok",
     "timestamp": 1698387393160,
     "user_tz": -540,
     "elapsed": 21,
     "user": {
      "displayName": "Yongjin Jeong",
      "userId": "03658406798560557048"
     }
    },
    "outputId": "c3c6c68f-0763-4cb1-ea54-5abb45bfbc3d",
    "ExecuteTime": {
     "end_time": "2024-11-24T04:51:19.677650Z",
     "start_time": "2024-11-24T04:51:19.672703Z"
    }
   },
   "source": [
    "df.head()"
   ],
   "outputs": [
    {
     "data": {
      "text/plain": [
       "         주거용      공공용      서비스업     업무용합계     농림어업      광업       제조업    식료품제조  \\\n",
       "구분                                                                              \n",
       "강원   1940933  1400421   6203749   7604170   607139  398287   6002286   546621   \n",
       "경기  16587710  5533662  33434551  38968213  2371347  317263  56603327  2544420   \n",
       "경남   4260988  1427560   8667737  10095297  2141813   95989  18053778   932743   \n",
       "경북   3302463  1578115   8487402  10065517  1747462  224568  30115601   566071   \n",
       "광주   1954876   565527   3174973   3740500    74608    2898   2910768   161072   \n",
       "\n",
       "      섬유,의류   목재,나무  ...     기타기계    사무기기     전기기기     영상,음향      자동차  \\\n",
       "구분                   ...                                                \n",
       "강원    13027   19147  ...    35063    2019    38062     43986   113448   \n",
       "경기  2109963  529274  ...  3613798  317244  1040171  24519644  2977165   \n",
       "경남   346974   60160  ...  1902913    8070   924235    534196  2156059   \n",
       "경북  3780171   72680  ...   782570   14468   750786   4174971  2356890   \n",
       "광주   295922    6782  ...   198847    5967   236622    723764   512148   \n",
       "\n",
       "       기타운송    가구및기타    재생재료     산업용합계         합계  \n",
       "구분                                                 \n",
       "강원   108629    12872    3418   7007712   16552816  \n",
       "경기    67594  1833112  133041  59291937  114847859  \n",
       "경남  2048646   262523   47662  20291580   34647864  \n",
       "경북   123935    60280   77104  32087631   45455611  \n",
       "광주     5140    13392   16049   2988274    8683649  \n",
       "\n",
       "[5 rows x 27 columns]"
      ],
      "text/html": [
       "<div>\n",
       "<style scoped>\n",
       "    .dataframe tbody tr th:only-of-type {\n",
       "        vertical-align: middle;\n",
       "    }\n",
       "\n",
       "    .dataframe tbody tr th {\n",
       "        vertical-align: top;\n",
       "    }\n",
       "\n",
       "    .dataframe thead th {\n",
       "        text-align: right;\n",
       "    }\n",
       "</style>\n",
       "<table border=\"1\" class=\"dataframe\">\n",
       "  <thead>\n",
       "    <tr style=\"text-align: right;\">\n",
       "      <th></th>\n",
       "      <th>주거용</th>\n",
       "      <th>공공용</th>\n",
       "      <th>서비스업</th>\n",
       "      <th>업무용합계</th>\n",
       "      <th>농림어업</th>\n",
       "      <th>광업</th>\n",
       "      <th>제조업</th>\n",
       "      <th>식료품제조</th>\n",
       "      <th>섬유,의류</th>\n",
       "      <th>목재,나무</th>\n",
       "      <th>...</th>\n",
       "      <th>기타기계</th>\n",
       "      <th>사무기기</th>\n",
       "      <th>전기기기</th>\n",
       "      <th>영상,음향</th>\n",
       "      <th>자동차</th>\n",
       "      <th>기타운송</th>\n",
       "      <th>가구및기타</th>\n",
       "      <th>재생재료</th>\n",
       "      <th>산업용합계</th>\n",
       "      <th>합계</th>\n",
       "    </tr>\n",
       "    <tr>\n",
       "      <th>구분</th>\n",
       "      <th></th>\n",
       "      <th></th>\n",
       "      <th></th>\n",
       "      <th></th>\n",
       "      <th></th>\n",
       "      <th></th>\n",
       "      <th></th>\n",
       "      <th></th>\n",
       "      <th></th>\n",
       "      <th></th>\n",
       "      <th></th>\n",
       "      <th></th>\n",
       "      <th></th>\n",
       "      <th></th>\n",
       "      <th></th>\n",
       "      <th></th>\n",
       "      <th></th>\n",
       "      <th></th>\n",
       "      <th></th>\n",
       "      <th></th>\n",
       "      <th></th>\n",
       "    </tr>\n",
       "  </thead>\n",
       "  <tbody>\n",
       "    <tr>\n",
       "      <th>강원</th>\n",
       "      <td>1940933</td>\n",
       "      <td>1400421</td>\n",
       "      <td>6203749</td>\n",
       "      <td>7604170</td>\n",
       "      <td>607139</td>\n",
       "      <td>398287</td>\n",
       "      <td>6002286</td>\n",
       "      <td>546621</td>\n",
       "      <td>13027</td>\n",
       "      <td>19147</td>\n",
       "      <td>...</td>\n",
       "      <td>35063</td>\n",
       "      <td>2019</td>\n",
       "      <td>38062</td>\n",
       "      <td>43986</td>\n",
       "      <td>113448</td>\n",
       "      <td>108629</td>\n",
       "      <td>12872</td>\n",
       "      <td>3418</td>\n",
       "      <td>7007712</td>\n",
       "      <td>16552816</td>\n",
       "    </tr>\n",
       "    <tr>\n",
       "      <th>경기</th>\n",
       "      <td>16587710</td>\n",
       "      <td>5533662</td>\n",
       "      <td>33434551</td>\n",
       "      <td>38968213</td>\n",
       "      <td>2371347</td>\n",
       "      <td>317263</td>\n",
       "      <td>56603327</td>\n",
       "      <td>2544420</td>\n",
       "      <td>2109963</td>\n",
       "      <td>529274</td>\n",
       "      <td>...</td>\n",
       "      <td>3613798</td>\n",
       "      <td>317244</td>\n",
       "      <td>1040171</td>\n",
       "      <td>24519644</td>\n",
       "      <td>2977165</td>\n",
       "      <td>67594</td>\n",
       "      <td>1833112</td>\n",
       "      <td>133041</td>\n",
       "      <td>59291937</td>\n",
       "      <td>114847859</td>\n",
       "    </tr>\n",
       "    <tr>\n",
       "      <th>경남</th>\n",
       "      <td>4260988</td>\n",
       "      <td>1427560</td>\n",
       "      <td>8667737</td>\n",
       "      <td>10095297</td>\n",
       "      <td>2141813</td>\n",
       "      <td>95989</td>\n",
       "      <td>18053778</td>\n",
       "      <td>932743</td>\n",
       "      <td>346974</td>\n",
       "      <td>60160</td>\n",
       "      <td>...</td>\n",
       "      <td>1902913</td>\n",
       "      <td>8070</td>\n",
       "      <td>924235</td>\n",
       "      <td>534196</td>\n",
       "      <td>2156059</td>\n",
       "      <td>2048646</td>\n",
       "      <td>262523</td>\n",
       "      <td>47662</td>\n",
       "      <td>20291580</td>\n",
       "      <td>34647864</td>\n",
       "    </tr>\n",
       "    <tr>\n",
       "      <th>경북</th>\n",
       "      <td>3302463</td>\n",
       "      <td>1578115</td>\n",
       "      <td>8487402</td>\n",
       "      <td>10065517</td>\n",
       "      <td>1747462</td>\n",
       "      <td>224568</td>\n",
       "      <td>30115601</td>\n",
       "      <td>566071</td>\n",
       "      <td>3780171</td>\n",
       "      <td>72680</td>\n",
       "      <td>...</td>\n",
       "      <td>782570</td>\n",
       "      <td>14468</td>\n",
       "      <td>750786</td>\n",
       "      <td>4174971</td>\n",
       "      <td>2356890</td>\n",
       "      <td>123935</td>\n",
       "      <td>60280</td>\n",
       "      <td>77104</td>\n",
       "      <td>32087631</td>\n",
       "      <td>45455611</td>\n",
       "    </tr>\n",
       "    <tr>\n",
       "      <th>광주</th>\n",
       "      <td>1954876</td>\n",
       "      <td>565527</td>\n",
       "      <td>3174973</td>\n",
       "      <td>3740500</td>\n",
       "      <td>74608</td>\n",
       "      <td>2898</td>\n",
       "      <td>2910768</td>\n",
       "      <td>161072</td>\n",
       "      <td>295922</td>\n",
       "      <td>6782</td>\n",
       "      <td>...</td>\n",
       "      <td>198847</td>\n",
       "      <td>5967</td>\n",
       "      <td>236622</td>\n",
       "      <td>723764</td>\n",
       "      <td>512148</td>\n",
       "      <td>5140</td>\n",
       "      <td>13392</td>\n",
       "      <td>16049</td>\n",
       "      <td>2988274</td>\n",
       "      <td>8683649</td>\n",
       "    </tr>\n",
       "  </tbody>\n",
       "</table>\n",
       "<p>5 rows × 27 columns</p>\n",
       "</div>"
      ]
     },
     "execution_count": 12,
     "metadata": {},
     "output_type": "execute_result"
    }
   ],
   "execution_count": 12
  },
  {
   "cell_type": "markdown",
   "metadata": {
    "id": "1F9orsoZmPiJ"
   },
   "source": [
    "### Fonts for Korean Letters (한글폰트)"
   ]
  },
  {
   "cell_type": "code",
   "metadata": {
    "colab": {
     "base_uri": "https://localhost:8080/"
    },
    "id": "hB8MirrJFvuX",
    "executionInfo": {
     "status": "ok",
     "timestamp": 1698387395425,
     "user_tz": -540,
     "elapsed": 2285,
     "user": {
      "displayName": "Yongjin Jeong",
      "userId": "03658406798560557048"
     }
    },
    "outputId": "30f98c71-c07f-4576-bb20-0e691ef796fe",
    "ExecuteTime": {
     "end_time": "2024-11-24T04:51:19.925178Z",
     "start_time": "2024-11-24T04:51:19.678044Z"
    }
   },
   "source": [
    "# Colab 에서 한글 폰트 설정 - 설중 후에 꼭 다시 runtime restart 해 주어야 함\n",
    "import matplotlib as mpl\n",
    "import matplotlib.pyplot as plt\n",
    "\n",
    "%config InlineBackend.figure_format = 'retina'\n",
    "\n",
    "#!apt -qq -y install fonts-nanum\n",
    "\n",
    "import matplotlib.font_manager as fm\n",
    "fontpath = '/usr/share/fonts/truetype/nanum/NanumBarunGothic.ttf'\n",
    "font = fm.FontProperties(fname=fontpath, size=9)\n",
    "plt.rc('font', family='NanumBarunGothic')\n",
    "\n",
    "import matplotlib.font_manager\n",
    "matplotlib.font_manager._load_fontmanager(try_read_cache=False)"
   ],
   "outputs": [
    {
     "data": {
      "text/plain": [
       "<matplotlib.font_manager.FontManager at 0x7f1024d2f6b0>"
      ]
     },
     "execution_count": 13,
     "metadata": {},
     "output_type": "execute_result"
    }
   ],
   "execution_count": 13
  },
  {
   "cell_type": "code",
   "metadata": {
    "id": "jZg4Bp3CmttV",
    "executionInfo": {
     "status": "ok",
     "timestamp": 1698387395426,
     "user_tz": -540,
     "elapsed": 10,
     "user": {
      "displayName": "Yongjin Jeong",
      "userId": "03658406798560557048"
     }
    },
    "ExecuteTime": {
     "end_time": "2024-11-24T04:51:19.927343Z",
     "start_time": "2024-11-24T04:51:19.925723Z"
    }
   },
   "source": [
    "# '-' 기호 보이게 하기\n",
    "import platform\n",
    "import matplotlib\n",
    "from matplotlib import font_manager, rc\n",
    "matplotlib.rcParams['axes.unicode_minus'] = False"
   ],
   "outputs": [],
   "execution_count": 14
  },
  {
   "cell_type": "code",
   "metadata": {
    "id": "orYa2eEMmPiJ",
    "executionInfo": {
     "status": "ok",
     "timestamp": 1698387395426,
     "user_tz": -540,
     "elapsed": 10,
     "user": {
      "displayName": "Yongjin Jeong",
      "userId": "03658406798560557048"
     }
    },
    "ExecuteTime": {
     "end_time": "2024-11-24T04:51:19.929113Z",
     "start_time": "2024-11-24T04:51:19.927796Z"
    }
   },
   "source": [
    "import platform\n",
    "import matplotlib\n",
    "from matplotlib import font_manager, rc\n",
    "# '-' 기호 보이게 하기\n",
    "matplotlib.rcParams['axes.unicode_minus'] = False\n",
    "\n",
    "#rc('font', family='AppleGothic')\n",
    "#rc('font', family='NanumBarunGothic')"
   ],
   "outputs": [],
   "execution_count": 15
  },
  {
   "cell_type": "code",
   "metadata": {
    "colab": {
     "base_uri": "https://localhost:8080/",
     "height": 262
    },
    "id": "Nr5YTP40m0FN",
    "executionInfo": {
     "status": "ok",
     "timestamp": 1698387395426,
     "user_tz": -540,
     "elapsed": 9,
     "user": {
      "displayName": "Yongjin Jeong",
      "userId": "03658406798560557048"
     }
    },
    "outputId": "477ab054-0d9d-468d-a585-24a32531f4b9",
    "ExecuteTime": {
     "end_time": "2024-11-24T04:51:19.934343Z",
     "start_time": "2024-11-24T04:51:19.929466Z"
    }
   },
   "source": [
    "df.head(2)"
   ],
   "outputs": [
    {
     "data": {
      "text/plain": [
       "         주거용      공공용      서비스업     업무용합계     농림어업      광업       제조업    식료품제조  \\\n",
       "구분                                                                              \n",
       "강원   1940933  1400421   6203749   7604170   607139  398287   6002286   546621   \n",
       "경기  16587710  5533662  33434551  38968213  2371347  317263  56603327  2544420   \n",
       "\n",
       "      섬유,의류   목재,나무  ...     기타기계    사무기기     전기기기     영상,음향      자동차    기타운송  \\\n",
       "구분                   ...                                                        \n",
       "강원    13027   19147  ...    35063    2019    38062     43986   113448  108629   \n",
       "경기  2109963  529274  ...  3613798  317244  1040171  24519644  2977165   67594   \n",
       "\n",
       "      가구및기타    재생재료     산업용합계         합계  \n",
       "구분                                        \n",
       "강원    12872    3418   7007712   16552816  \n",
       "경기  1833112  133041  59291937  114847859  \n",
       "\n",
       "[2 rows x 27 columns]"
      ],
      "text/html": [
       "<div>\n",
       "<style scoped>\n",
       "    .dataframe tbody tr th:only-of-type {\n",
       "        vertical-align: middle;\n",
       "    }\n",
       "\n",
       "    .dataframe tbody tr th {\n",
       "        vertical-align: top;\n",
       "    }\n",
       "\n",
       "    .dataframe thead th {\n",
       "        text-align: right;\n",
       "    }\n",
       "</style>\n",
       "<table border=\"1\" class=\"dataframe\">\n",
       "  <thead>\n",
       "    <tr style=\"text-align: right;\">\n",
       "      <th></th>\n",
       "      <th>주거용</th>\n",
       "      <th>공공용</th>\n",
       "      <th>서비스업</th>\n",
       "      <th>업무용합계</th>\n",
       "      <th>농림어업</th>\n",
       "      <th>광업</th>\n",
       "      <th>제조업</th>\n",
       "      <th>식료품제조</th>\n",
       "      <th>섬유,의류</th>\n",
       "      <th>목재,나무</th>\n",
       "      <th>...</th>\n",
       "      <th>기타기계</th>\n",
       "      <th>사무기기</th>\n",
       "      <th>전기기기</th>\n",
       "      <th>영상,음향</th>\n",
       "      <th>자동차</th>\n",
       "      <th>기타운송</th>\n",
       "      <th>가구및기타</th>\n",
       "      <th>재생재료</th>\n",
       "      <th>산업용합계</th>\n",
       "      <th>합계</th>\n",
       "    </tr>\n",
       "    <tr>\n",
       "      <th>구분</th>\n",
       "      <th></th>\n",
       "      <th></th>\n",
       "      <th></th>\n",
       "      <th></th>\n",
       "      <th></th>\n",
       "      <th></th>\n",
       "      <th></th>\n",
       "      <th></th>\n",
       "      <th></th>\n",
       "      <th></th>\n",
       "      <th></th>\n",
       "      <th></th>\n",
       "      <th></th>\n",
       "      <th></th>\n",
       "      <th></th>\n",
       "      <th></th>\n",
       "      <th></th>\n",
       "      <th></th>\n",
       "      <th></th>\n",
       "      <th></th>\n",
       "      <th></th>\n",
       "    </tr>\n",
       "  </thead>\n",
       "  <tbody>\n",
       "    <tr>\n",
       "      <th>강원</th>\n",
       "      <td>1940933</td>\n",
       "      <td>1400421</td>\n",
       "      <td>6203749</td>\n",
       "      <td>7604170</td>\n",
       "      <td>607139</td>\n",
       "      <td>398287</td>\n",
       "      <td>6002286</td>\n",
       "      <td>546621</td>\n",
       "      <td>13027</td>\n",
       "      <td>19147</td>\n",
       "      <td>...</td>\n",
       "      <td>35063</td>\n",
       "      <td>2019</td>\n",
       "      <td>38062</td>\n",
       "      <td>43986</td>\n",
       "      <td>113448</td>\n",
       "      <td>108629</td>\n",
       "      <td>12872</td>\n",
       "      <td>3418</td>\n",
       "      <td>7007712</td>\n",
       "      <td>16552816</td>\n",
       "    </tr>\n",
       "    <tr>\n",
       "      <th>경기</th>\n",
       "      <td>16587710</td>\n",
       "      <td>5533662</td>\n",
       "      <td>33434551</td>\n",
       "      <td>38968213</td>\n",
       "      <td>2371347</td>\n",
       "      <td>317263</td>\n",
       "      <td>56603327</td>\n",
       "      <td>2544420</td>\n",
       "      <td>2109963</td>\n",
       "      <td>529274</td>\n",
       "      <td>...</td>\n",
       "      <td>3613798</td>\n",
       "      <td>317244</td>\n",
       "      <td>1040171</td>\n",
       "      <td>24519644</td>\n",
       "      <td>2977165</td>\n",
       "      <td>67594</td>\n",
       "      <td>1833112</td>\n",
       "      <td>133041</td>\n",
       "      <td>59291937</td>\n",
       "      <td>114847859</td>\n",
       "    </tr>\n",
       "  </tbody>\n",
       "</table>\n",
       "<p>2 rows × 27 columns</p>\n",
       "</div>"
      ]
     },
     "execution_count": 16,
     "metadata": {},
     "output_type": "execute_result"
    }
   ],
   "execution_count": 16
  },
  {
   "cell_type": "code",
   "metadata": {
    "id": "a7lluzHu--62",
    "executionInfo": {
     "status": "ok",
     "timestamp": 1698387395426,
     "user_tz": -540,
     "elapsed": 7,
     "user": {
      "displayName": "Yongjin Jeong",
      "userId": "03658406798560557048"
     }
    },
    "ExecuteTime": {
     "end_time": "2024-11-24T04:51:19.936324Z",
     "start_time": "2024-11-24T04:51:19.934750Z"
    }
   },
   "source": [
    "df = df.drop(\"합계\",axis=1)"
   ],
   "outputs": [],
   "execution_count": 17
  },
  {
   "cell_type": "code",
   "metadata": {
    "colab": {
     "base_uri": "https://localhost:8080/",
     "height": 635
    },
    "id": "tterNIfJnGw-",
    "executionInfo": {
     "status": "ok",
     "timestamp": 1698387398674,
     "user_tz": -540,
     "elapsed": 3254,
     "user": {
      "displayName": "Yongjin Jeong",
      "userId": "03658406798560557048"
     }
    },
    "outputId": "3fd181ca-f17d-44e3-ee2b-cc47c48ad870",
    "ExecuteTime": {
     "end_time": "2024-11-24T04:51:20.216839Z",
     "start_time": "2024-11-24T04:51:19.936662Z"
    }
   },
   "source": [
    "df.plot(kind='barh', figsize=(10,6), stacked=True)"
   ],
   "outputs": [
    {
     "data": {
      "text/plain": [
       "<Axes: ylabel='구분'>"
      ]
     },
     "execution_count": 18,
     "metadata": {},
     "output_type": "execute_result"
    },
    {
     "name": "stderr",
     "output_type": "stream",
     "text": [
      "findfont: Font family 'NanumBarunGothic' not found.\n",
      "findfont: Font family 'NanumBarunGothic' not found.\n",
      "findfont: Font family 'NanumBarunGothic' not found.\n",
      "findfont: Font family 'NanumBarunGothic' not found.\n",
      "findfont: Font family 'NanumBarunGothic' not found.\n",
      "findfont: Font family 'NanumBarunGothic' not found.\n",
      "findfont: Font family 'NanumBarunGothic' not found.\n",
      "findfont: Font family 'NanumBarunGothic' not found.\n",
      "findfont: Font family 'NanumBarunGothic' not found.\n",
      "findfont: Font family 'NanumBarunGothic' not found.\n",
      "findfont: Font family 'NanumBarunGothic' not found.\n",
      "findfont: Font family 'NanumBarunGothic' not found.\n",
      "findfont: Font family 'NanumBarunGothic' not found.\n",
      "findfont: Font family 'NanumBarunGothic' not found.\n",
      "findfont: Font family 'NanumBarunGothic' not found.\n",
      "findfont: Font family 'NanumBarunGothic' not found.\n",
      "/home/unsi/anaconda3/envs/forpytorch/lib/python3.12/site-packages/IPython/core/events.py:82: UserWarning: Glyph 44053 (\\N{HANGUL SYLLABLE GANG}) missing from font(s) DejaVu Sans.\n",
      "  func(*args, **kwargs)\n",
      "/home/unsi/anaconda3/envs/forpytorch/lib/python3.12/site-packages/IPython/core/events.py:82: UserWarning: Glyph 50896 (\\N{HANGUL SYLLABLE WEON}) missing from font(s) DejaVu Sans.\n",
      "  func(*args, **kwargs)\n",
      "findfont: Font family 'NanumBarunGothic' not found.\n",
      "/home/unsi/anaconda3/envs/forpytorch/lib/python3.12/site-packages/IPython/core/events.py:82: UserWarning: Glyph 44221 (\\N{HANGUL SYLLABLE GYEONG}) missing from font(s) DejaVu Sans.\n",
      "  func(*args, **kwargs)\n",
      "/home/unsi/anaconda3/envs/forpytorch/lib/python3.12/site-packages/IPython/core/events.py:82: UserWarning: Glyph 44592 (\\N{HANGUL SYLLABLE GI}) missing from font(s) DejaVu Sans.\n",
      "  func(*args, **kwargs)\n",
      "findfont: Font family 'NanumBarunGothic' not found.\n",
      "/home/unsi/anaconda3/envs/forpytorch/lib/python3.12/site-packages/IPython/core/events.py:82: UserWarning: Glyph 45224 (\\N{HANGUL SYLLABLE NAM}) missing from font(s) DejaVu Sans.\n",
      "  func(*args, **kwargs)\n",
      "findfont: Font family 'NanumBarunGothic' not found.\n",
      "/home/unsi/anaconda3/envs/forpytorch/lib/python3.12/site-packages/IPython/core/events.py:82: UserWarning: Glyph 48513 (\\N{HANGUL SYLLABLE BUG}) missing from font(s) DejaVu Sans.\n",
      "  func(*args, **kwargs)\n",
      "findfont: Font family 'NanumBarunGothic' not found.\n",
      "/home/unsi/anaconda3/envs/forpytorch/lib/python3.12/site-packages/IPython/core/events.py:82: UserWarning: Glyph 44305 (\\N{HANGUL SYLLABLE GWANG}) missing from font(s) DejaVu Sans.\n",
      "  func(*args, **kwargs)\n",
      "/home/unsi/anaconda3/envs/forpytorch/lib/python3.12/site-packages/IPython/core/events.py:82: UserWarning: Glyph 51452 (\\N{HANGUL SYLLABLE JU}) missing from font(s) DejaVu Sans.\n",
      "  func(*args, **kwargs)\n",
      "findfont: Font family 'NanumBarunGothic' not found.\n",
      "/home/unsi/anaconda3/envs/forpytorch/lib/python3.12/site-packages/IPython/core/events.py:82: UserWarning: Glyph 45824 (\\N{HANGUL SYLLABLE DAE}) missing from font(s) DejaVu Sans.\n",
      "  func(*args, **kwargs)\n",
      "/home/unsi/anaconda3/envs/forpytorch/lib/python3.12/site-packages/IPython/core/events.py:82: UserWarning: Glyph 44396 (\\N{HANGUL SYLLABLE GU}) missing from font(s) DejaVu Sans.\n",
      "  func(*args, **kwargs)\n",
      "findfont: Font family 'NanumBarunGothic' not found.\n",
      "/home/unsi/anaconda3/envs/forpytorch/lib/python3.12/site-packages/IPython/core/events.py:82: UserWarning: Glyph 51204 (\\N{HANGUL SYLLABLE JEON}) missing from font(s) DejaVu Sans.\n",
      "  func(*args, **kwargs)\n",
      "findfont: Font family 'NanumBarunGothic' not found.\n",
      "/home/unsi/anaconda3/envs/forpytorch/lib/python3.12/site-packages/IPython/core/events.py:82: UserWarning: Glyph 48512 (\\N{HANGUL SYLLABLE BU}) missing from font(s) DejaVu Sans.\n",
      "  func(*args, **kwargs)\n",
      "/home/unsi/anaconda3/envs/forpytorch/lib/python3.12/site-packages/IPython/core/events.py:82: UserWarning: Glyph 49328 (\\N{HANGUL SYLLABLE SAN}) missing from font(s) DejaVu Sans.\n",
      "  func(*args, **kwargs)\n",
      "findfont: Font family 'NanumBarunGothic' not found.\n",
      "/home/unsi/anaconda3/envs/forpytorch/lib/python3.12/site-packages/IPython/core/events.py:82: UserWarning: Glyph 49436 (\\N{HANGUL SYLLABLE SEO}) missing from font(s) DejaVu Sans.\n",
      "  func(*args, **kwargs)\n",
      "/home/unsi/anaconda3/envs/forpytorch/lib/python3.12/site-packages/IPython/core/events.py:82: UserWarning: Glyph 50872 (\\N{HANGUL SYLLABLE UL}) missing from font(s) DejaVu Sans.\n",
      "  func(*args, **kwargs)\n",
      "findfont: Font family 'NanumBarunGothic' not found.\n",
      "/home/unsi/anaconda3/envs/forpytorch/lib/python3.12/site-packages/IPython/core/events.py:82: UserWarning: Glyph 49464 (\\N{HANGUL SYLLABLE SE}) missing from font(s) DejaVu Sans.\n",
      "  func(*args, **kwargs)\n",
      "/home/unsi/anaconda3/envs/forpytorch/lib/python3.12/site-packages/IPython/core/events.py:82: UserWarning: Glyph 51333 (\\N{HANGUL SYLLABLE JONG}) missing from font(s) DejaVu Sans.\n",
      "  func(*args, **kwargs)\n",
      "findfont: Font family 'NanumBarunGothic' not found.\n",
      "findfont: Font family 'NanumBarunGothic' not found.\n",
      "/home/unsi/anaconda3/envs/forpytorch/lib/python3.12/site-packages/IPython/core/events.py:82: UserWarning: Glyph 51064 (\\N{HANGUL SYLLABLE IN}) missing from font(s) DejaVu Sans.\n",
      "  func(*args, **kwargs)\n",
      "/home/unsi/anaconda3/envs/forpytorch/lib/python3.12/site-packages/IPython/core/events.py:82: UserWarning: Glyph 52380 (\\N{HANGUL SYLLABLE CEON}) missing from font(s) DejaVu Sans.\n",
      "  func(*args, **kwargs)\n",
      "findfont: Font family 'NanumBarunGothic' not found.\n",
      "findfont: Font family 'NanumBarunGothic' not found.\n",
      "findfont: Font family 'NanumBarunGothic' not found.\n",
      "/home/unsi/anaconda3/envs/forpytorch/lib/python3.12/site-packages/IPython/core/events.py:82: UserWarning: Glyph 51228 (\\N{HANGUL SYLLABLE JE}) missing from font(s) DejaVu Sans.\n",
      "  func(*args, **kwargs)\n",
      "findfont: Font family 'NanumBarunGothic' not found.\n",
      "/home/unsi/anaconda3/envs/forpytorch/lib/python3.12/site-packages/IPython/core/events.py:82: UserWarning: Glyph 52649 (\\N{HANGUL SYLLABLE CUNG}) missing from font(s) DejaVu Sans.\n",
      "  func(*args, **kwargs)\n",
      "findfont: Font family 'NanumBarunGothic' not found.\n",
      "findfont: Font family 'NanumBarunGothic' not found.\n",
      "findfont: Font family 'NanumBarunGothic' not found.\n",
      "findfont: Font family 'NanumBarunGothic' not found.\n",
      "findfont: Font family 'NanumBarunGothic' not found.\n",
      "findfont: Font family 'NanumBarunGothic' not found.\n",
      "findfont: Font family 'NanumBarunGothic' not found.\n",
      "findfont: Font family 'NanumBarunGothic' not found.\n",
      "findfont: Font family 'NanumBarunGothic' not found.\n",
      "findfont: Font family 'NanumBarunGothic' not found.\n",
      "findfont: Font family 'NanumBarunGothic' not found.\n",
      "findfont: Font family 'NanumBarunGothic' not found.\n",
      "findfont: Font family 'NanumBarunGothic' not found.\n",
      "findfont: Font family 'NanumBarunGothic' not found.\n",
      "findfont: Font family 'NanumBarunGothic' not found.\n",
      "findfont: Font family 'NanumBarunGothic' not found.\n",
      "findfont: Font family 'NanumBarunGothic' not found.\n",
      "findfont: Font family 'NanumBarunGothic' not found.\n",
      "findfont: Font family 'NanumBarunGothic' not found.\n",
      "/home/unsi/anaconda3/envs/forpytorch/lib/python3.12/site-packages/IPython/core/events.py:82: UserWarning: Glyph 48516 (\\N{HANGUL SYLLABLE BUN}) missing from font(s) DejaVu Sans.\n",
      "  func(*args, **kwargs)\n",
      "findfont: Font family 'NanumBarunGothic' not found.\n",
      "findfont: Font family 'NanumBarunGothic' not found.\n",
      "findfont: Font family 'NanumBarunGothic' not found.\n",
      "/home/unsi/anaconda3/envs/forpytorch/lib/python3.12/site-packages/IPython/core/events.py:82: UserWarning: Glyph 44144 (\\N{HANGUL SYLLABLE GEO}) missing from font(s) DejaVu Sans.\n",
      "  func(*args, **kwargs)\n",
      "/home/unsi/anaconda3/envs/forpytorch/lib/python3.12/site-packages/IPython/core/events.py:82: UserWarning: Glyph 50857 (\\N{HANGUL SYLLABLE YONG}) missing from font(s) DejaVu Sans.\n",
      "  func(*args, **kwargs)\n",
      "findfont: Font family 'NanumBarunGothic' not found.\n",
      "findfont: Font family 'NanumBarunGothic' not found.\n",
      "/home/unsi/anaconda3/envs/forpytorch/lib/python3.12/site-packages/IPython/core/events.py:82: UserWarning: Glyph 44277 (\\N{HANGUL SYLLABLE GONG}) missing from font(s) DejaVu Sans.\n",
      "  func(*args, **kwargs)\n",
      "findfont: Font family 'NanumBarunGothic' not found.\n",
      "findfont: Font family 'NanumBarunGothic' not found.\n",
      "/home/unsi/anaconda3/envs/forpytorch/lib/python3.12/site-packages/IPython/core/events.py:82: UserWarning: Glyph 48708 (\\N{HANGUL SYLLABLE BI}) missing from font(s) DejaVu Sans.\n",
      "  func(*args, **kwargs)\n",
      "/home/unsi/anaconda3/envs/forpytorch/lib/python3.12/site-packages/IPython/core/events.py:82: UserWarning: Glyph 49828 (\\N{HANGUL SYLLABLE SEU}) missing from font(s) DejaVu Sans.\n",
      "  func(*args, **kwargs)\n",
      "/home/unsi/anaconda3/envs/forpytorch/lib/python3.12/site-packages/IPython/core/events.py:82: UserWarning: Glyph 50629 (\\N{HANGUL SYLLABLE EOB}) missing from font(s) DejaVu Sans.\n",
      "  func(*args, **kwargs)\n",
      "findfont: Font family 'NanumBarunGothic' not found.\n",
      "findfont: Font family 'NanumBarunGothic' not found.\n",
      "/home/unsi/anaconda3/envs/forpytorch/lib/python3.12/site-packages/IPython/core/events.py:82: UserWarning: Glyph 47924 (\\N{HANGUL SYLLABLE MU}) missing from font(s) DejaVu Sans.\n",
      "  func(*args, **kwargs)\n",
      "/home/unsi/anaconda3/envs/forpytorch/lib/python3.12/site-packages/IPython/core/events.py:82: UserWarning: Glyph 54633 (\\N{HANGUL SYLLABLE HAB}) missing from font(s) DejaVu Sans.\n",
      "  func(*args, **kwargs)\n",
      "/home/unsi/anaconda3/envs/forpytorch/lib/python3.12/site-packages/IPython/core/events.py:82: UserWarning: Glyph 44228 (\\N{HANGUL SYLLABLE GYE}) missing from font(s) DejaVu Sans.\n",
      "  func(*args, **kwargs)\n",
      "findfont: Font family 'NanumBarunGothic' not found.\n",
      "findfont: Font family 'NanumBarunGothic' not found.\n",
      "/home/unsi/anaconda3/envs/forpytorch/lib/python3.12/site-packages/IPython/core/events.py:82: UserWarning: Glyph 45453 (\\N{HANGUL SYLLABLE NONG}) missing from font(s) DejaVu Sans.\n",
      "  func(*args, **kwargs)\n",
      "/home/unsi/anaconda3/envs/forpytorch/lib/python3.12/site-packages/IPython/core/events.py:82: UserWarning: Glyph 47548 (\\N{HANGUL SYLLABLE RIM}) missing from font(s) DejaVu Sans.\n",
      "  func(*args, **kwargs)\n",
      "/home/unsi/anaconda3/envs/forpytorch/lib/python3.12/site-packages/IPython/core/events.py:82: UserWarning: Glyph 50612 (\\N{HANGUL SYLLABLE EO}) missing from font(s) DejaVu Sans.\n",
      "  func(*args, **kwargs)\n",
      "findfont: Font family 'NanumBarunGothic' not found.\n",
      "findfont: Font family 'NanumBarunGothic' not found.\n",
      "findfont: Font family 'NanumBarunGothic' not found.\n",
      "findfont: Font family 'NanumBarunGothic' not found.\n",
      "/home/unsi/anaconda3/envs/forpytorch/lib/python3.12/site-packages/IPython/core/events.py:82: UserWarning: Glyph 51312 (\\N{HANGUL SYLLABLE JO}) missing from font(s) DejaVu Sans.\n",
      "  func(*args, **kwargs)\n",
      "findfont: Font family 'NanumBarunGothic' not found.\n",
      "findfont: Font family 'NanumBarunGothic' not found.\n",
      "/home/unsi/anaconda3/envs/forpytorch/lib/python3.12/site-packages/IPython/core/events.py:82: UserWarning: Glyph 49885 (\\N{HANGUL SYLLABLE SIG}) missing from font(s) DejaVu Sans.\n",
      "  func(*args, **kwargs)\n",
      "/home/unsi/anaconda3/envs/forpytorch/lib/python3.12/site-packages/IPython/core/events.py:82: UserWarning: Glyph 47308 (\\N{HANGUL SYLLABLE RYO}) missing from font(s) DejaVu Sans.\n",
      "  func(*args, **kwargs)\n",
      "/home/unsi/anaconda3/envs/forpytorch/lib/python3.12/site-packages/IPython/core/events.py:82: UserWarning: Glyph 54408 (\\N{HANGUL SYLLABLE PUM}) missing from font(s) DejaVu Sans.\n",
      "  func(*args, **kwargs)\n",
      "findfont: Font family 'NanumBarunGothic' not found.\n",
      "findfont: Font family 'NanumBarunGothic' not found.\n",
      "/home/unsi/anaconda3/envs/forpytorch/lib/python3.12/site-packages/IPython/core/events.py:82: UserWarning: Glyph 49452 (\\N{HANGUL SYLLABLE SEOM}) missing from font(s) DejaVu Sans.\n",
      "  func(*args, **kwargs)\n",
      "/home/unsi/anaconda3/envs/forpytorch/lib/python3.12/site-packages/IPython/core/events.py:82: UserWarning: Glyph 50976 (\\N{HANGUL SYLLABLE YU}) missing from font(s) DejaVu Sans.\n",
      "  func(*args, **kwargs)\n",
      "/home/unsi/anaconda3/envs/forpytorch/lib/python3.12/site-packages/IPython/core/events.py:82: UserWarning: Glyph 51032 (\\N{HANGUL SYLLABLE YI}) missing from font(s) DejaVu Sans.\n",
      "  func(*args, **kwargs)\n",
      "/home/unsi/anaconda3/envs/forpytorch/lib/python3.12/site-packages/IPython/core/events.py:82: UserWarning: Glyph 47448 (\\N{HANGUL SYLLABLE RYU}) missing from font(s) DejaVu Sans.\n",
      "  func(*args, **kwargs)\n",
      "findfont: Font family 'NanumBarunGothic' not found.\n",
      "findfont: Font family 'NanumBarunGothic' not found.\n",
      "/home/unsi/anaconda3/envs/forpytorch/lib/python3.12/site-packages/IPython/core/events.py:82: UserWarning: Glyph 47785 (\\N{HANGUL SYLLABLE MOG}) missing from font(s) DejaVu Sans.\n",
      "  func(*args, **kwargs)\n",
      "/home/unsi/anaconda3/envs/forpytorch/lib/python3.12/site-packages/IPython/core/events.py:82: UserWarning: Glyph 51116 (\\N{HANGUL SYLLABLE JAE}) missing from font(s) DejaVu Sans.\n",
      "  func(*args, **kwargs)\n",
      "/home/unsi/anaconda3/envs/forpytorch/lib/python3.12/site-packages/IPython/core/events.py:82: UserWarning: Glyph 45208 (\\N{HANGUL SYLLABLE NA}) missing from font(s) DejaVu Sans.\n",
      "  func(*args, **kwargs)\n",
      "findfont: Font family 'NanumBarunGothic' not found.\n",
      "findfont: Font family 'NanumBarunGothic' not found.\n",
      "/home/unsi/anaconda3/envs/forpytorch/lib/python3.12/site-packages/IPython/core/events.py:82: UserWarning: Glyph 54148 (\\N{HANGUL SYLLABLE PEOL}) missing from font(s) DejaVu Sans.\n",
      "  func(*args, **kwargs)\n",
      "/home/unsi/anaconda3/envs/forpytorch/lib/python3.12/site-packages/IPython/core/events.py:82: UserWarning: Glyph 54532 (\\N{HANGUL SYLLABLE PEU}) missing from font(s) DejaVu Sans.\n",
      "  func(*args, **kwargs)\n",
      "/home/unsi/anaconda3/envs/forpytorch/lib/python3.12/site-packages/IPython/core/events.py:82: UserWarning: Glyph 51060 (\\N{HANGUL SYLLABLE I}) missing from font(s) DejaVu Sans.\n",
      "  func(*args, **kwargs)\n",
      "findfont: Font family 'NanumBarunGothic' not found.\n",
      "findfont: Font family 'NanumBarunGothic' not found.\n",
      "/home/unsi/anaconda3/envs/forpytorch/lib/python3.12/site-packages/IPython/core/events.py:82: UserWarning: Glyph 52636 (\\N{HANGUL SYLLABLE CUL}) missing from font(s) DejaVu Sans.\n",
      "  func(*args, **kwargs)\n",
      "/home/unsi/anaconda3/envs/forpytorch/lib/python3.12/site-packages/IPython/core/events.py:82: UserWarning: Glyph 54032 (\\N{HANGUL SYLLABLE PAN}) missing from font(s) DejaVu Sans.\n",
      "  func(*args, **kwargs)\n",
      "/home/unsi/anaconda3/envs/forpytorch/lib/python3.12/site-packages/IPython/core/events.py:82: UserWarning: Glyph 49604 (\\N{HANGUL SYLLABLE SWAE}) missing from font(s) DejaVu Sans.\n",
      "  func(*args, **kwargs)\n",
      "findfont: Font family 'NanumBarunGothic' not found.\n",
      "findfont: Font family 'NanumBarunGothic' not found.\n",
      "/home/unsi/anaconda3/envs/forpytorch/lib/python3.12/site-packages/IPython/core/events.py:82: UserWarning: Glyph 49437 (\\N{HANGUL SYLLABLE SEOG}) missing from font(s) DejaVu Sans.\n",
      "  func(*args, **kwargs)\n",
      "/home/unsi/anaconda3/envs/forpytorch/lib/python3.12/site-packages/IPython/core/events.py:82: UserWarning: Glyph 54868 (\\N{HANGUL SYLLABLE HWA}) missing from font(s) DejaVu Sans.\n",
      "  func(*args, **kwargs)\n",
      "/home/unsi/anaconda3/envs/forpytorch/lib/python3.12/site-packages/IPython/core/events.py:82: UserWarning: Glyph 54869 (\\N{HANGUL SYLLABLE HWAG}) missing from font(s) DejaVu Sans.\n",
      "  func(*args, **kwargs)\n",
      "findfont: Font family 'NanumBarunGothic' not found.\n",
      "findfont: Font family 'NanumBarunGothic' not found.\n",
      "/home/unsi/anaconda3/envs/forpytorch/lib/python3.12/site-packages/IPython/core/events.py:82: UserWarning: Glyph 54617 (\\N{HANGUL SYLLABLE HAG}) missing from font(s) DejaVu Sans.\n",
      "  func(*args, **kwargs)\n",
      "findfont: Font family 'NanumBarunGothic' not found.\n",
      "findfont: Font family 'NanumBarunGothic' not found.\n",
      "/home/unsi/anaconda3/envs/forpytorch/lib/python3.12/site-packages/IPython/core/events.py:82: UserWarning: Glyph 50836 (\\N{HANGUL SYLLABLE YO}) missing from font(s) DejaVu Sans.\n",
      "  func(*args, **kwargs)\n",
      "findfont: Font family 'NanumBarunGothic' not found.\n",
      "findfont: Font family 'NanumBarunGothic' not found.\n",
      "/home/unsi/anaconda3/envs/forpytorch/lib/python3.12/site-packages/IPython/core/events.py:82: UserWarning: Glyph 52264 (\\N{HANGUL SYLLABLE CA}) missing from font(s) DejaVu Sans.\n",
      "  func(*args, **kwargs)\n",
      "/home/unsi/anaconda3/envs/forpytorch/lib/python3.12/site-packages/IPython/core/events.py:82: UserWarning: Glyph 44552 (\\N{HANGUL SYLLABLE GEUM}) missing from font(s) DejaVu Sans.\n",
      "  func(*args, **kwargs)\n",
      "/home/unsi/anaconda3/envs/forpytorch/lib/python3.12/site-packages/IPython/core/events.py:82: UserWarning: Glyph 49549 (\\N{HANGUL SYLLABLE SOG}) missing from font(s) DejaVu Sans.\n",
      "  func(*args, **kwargs)\n",
      "findfont: Font family 'NanumBarunGothic' not found.\n",
      "findfont: Font family 'NanumBarunGothic' not found.\n",
      "/home/unsi/anaconda3/envs/forpytorch/lib/python3.12/site-packages/IPython/core/events.py:82: UserWarning: Glyph 47549 (\\N{HANGUL SYLLABLE RIB}) missing from font(s) DejaVu Sans.\n",
      "  func(*args, **kwargs)\n",
      "findfont: Font family 'NanumBarunGothic' not found.\n",
      "findfont: Font family 'NanumBarunGothic' not found.\n",
      "/home/unsi/anaconda3/envs/forpytorch/lib/python3.12/site-packages/IPython/core/events.py:82: UserWarning: Glyph 53440 (\\N{HANGUL SYLLABLE TA}) missing from font(s) DejaVu Sans.\n",
      "  func(*args, **kwargs)\n",
      "findfont: Font family 'NanumBarunGothic' not found.\n",
      "findfont: Font family 'NanumBarunGothic' not found.\n",
      "/home/unsi/anaconda3/envs/forpytorch/lib/python3.12/site-packages/IPython/core/events.py:82: UserWarning: Glyph 49324 (\\N{HANGUL SYLLABLE SA}) missing from font(s) DejaVu Sans.\n",
      "  func(*args, **kwargs)\n",
      "findfont: Font family 'NanumBarunGothic' not found.\n",
      "findfont: Font family 'NanumBarunGothic' not found.\n",
      "findfont: Font family 'NanumBarunGothic' not found.\n",
      "findfont: Font family 'NanumBarunGothic' not found.\n",
      "/home/unsi/anaconda3/envs/forpytorch/lib/python3.12/site-packages/IPython/core/events.py:82: UserWarning: Glyph 50689 (\\N{HANGUL SYLLABLE YEONG}) missing from font(s) DejaVu Sans.\n",
      "  func(*args, **kwargs)\n",
      "/home/unsi/anaconda3/envs/forpytorch/lib/python3.12/site-packages/IPython/core/events.py:82: UserWarning: Glyph 49345 (\\N{HANGUL SYLLABLE SANG}) missing from font(s) DejaVu Sans.\n",
      "  func(*args, **kwargs)\n",
      "/home/unsi/anaconda3/envs/forpytorch/lib/python3.12/site-packages/IPython/core/events.py:82: UserWarning: Glyph 51020 (\\N{HANGUL SYLLABLE EUM}) missing from font(s) DejaVu Sans.\n",
      "  func(*args, **kwargs)\n",
      "/home/unsi/anaconda3/envs/forpytorch/lib/python3.12/site-packages/IPython/core/events.py:82: UserWarning: Glyph 54693 (\\N{HANGUL SYLLABLE HYANG}) missing from font(s) DejaVu Sans.\n",
      "  func(*args, **kwargs)\n",
      "findfont: Font family 'NanumBarunGothic' not found.\n",
      "findfont: Font family 'NanumBarunGothic' not found.\n",
      "/home/unsi/anaconda3/envs/forpytorch/lib/python3.12/site-packages/IPython/core/events.py:82: UserWarning: Glyph 51088 (\\N{HANGUL SYLLABLE JA}) missing from font(s) DejaVu Sans.\n",
      "  func(*args, **kwargs)\n",
      "/home/unsi/anaconda3/envs/forpytorch/lib/python3.12/site-packages/IPython/core/events.py:82: UserWarning: Glyph 46041 (\\N{HANGUL SYLLABLE DONG}) missing from font(s) DejaVu Sans.\n",
      "  func(*args, **kwargs)\n",
      "findfont: Font family 'NanumBarunGothic' not found.\n",
      "findfont: Font family 'NanumBarunGothic' not found.\n",
      "/home/unsi/anaconda3/envs/forpytorch/lib/python3.12/site-packages/IPython/core/events.py:82: UserWarning: Glyph 50868 (\\N{HANGUL SYLLABLE UN}) missing from font(s) DejaVu Sans.\n",
      "  func(*args, **kwargs)\n",
      "/home/unsi/anaconda3/envs/forpytorch/lib/python3.12/site-packages/IPython/core/events.py:82: UserWarning: Glyph 49569 (\\N{HANGUL SYLLABLE SONG}) missing from font(s) DejaVu Sans.\n",
      "  func(*args, **kwargs)\n",
      "findfont: Font family 'NanumBarunGothic' not found.\n",
      "findfont: Font family 'NanumBarunGothic' not found.\n",
      "/home/unsi/anaconda3/envs/forpytorch/lib/python3.12/site-packages/IPython/core/events.py:82: UserWarning: Glyph 44032 (\\N{HANGUL SYLLABLE GA}) missing from font(s) DejaVu Sans.\n",
      "  func(*args, **kwargs)\n",
      "/home/unsi/anaconda3/envs/forpytorch/lib/python3.12/site-packages/IPython/core/events.py:82: UserWarning: Glyph 48143 (\\N{HANGUL SYLLABLE MIC}) missing from font(s) DejaVu Sans.\n",
      "  func(*args, **kwargs)\n",
      "findfont: Font family 'NanumBarunGothic' not found.\n",
      "findfont: Font family 'NanumBarunGothic' not found.\n",
      "/home/unsi/anaconda3/envs/forpytorch/lib/python3.12/site-packages/IPython/core/events.py:82: UserWarning: Glyph 49373 (\\N{HANGUL SYLLABLE SAENG}) missing from font(s) DejaVu Sans.\n",
      "  func(*args, **kwargs)\n",
      "findfont: Font family 'NanumBarunGothic' not found.\n",
      "findfont: Font family 'NanumBarunGothic' not found.\n",
      "findfont: Font family 'NanumBarunGothic' not found.\n",
      "findfont: Font family 'NanumBarunGothic' not found.\n",
      "findfont: Font family 'NanumBarunGothic' not found.\n",
      "findfont: Font family 'NanumBarunGothic' not found.\n",
      "findfont: Font family 'NanumBarunGothic' not found.\n",
      "findfont: Font family 'NanumBarunGothic' not found.\n",
      "findfont: Font family 'NanumBarunGothic' not found.\n",
      "findfont: Font family 'NanumBarunGothic' not found.\n",
      "findfont: Font family 'NanumBarunGothic' not found.\n",
      "findfont: Font family 'NanumBarunGothic' not found.\n",
      "findfont: Font family 'NanumBarunGothic' not found.\n",
      "findfont: Font family 'NanumBarunGothic' not found.\n",
      "findfont: Font family 'NanumBarunGothic' not found.\n",
      "findfont: Font family 'NanumBarunGothic' not found.\n",
      "findfont: Font family 'NanumBarunGothic' not found.\n",
      "findfont: Font family 'NanumBarunGothic' not found.\n",
      "findfont: Font family 'NanumBarunGothic' not found.\n",
      "findfont: Font family 'NanumBarunGothic' not found.\n",
      "findfont: Font family 'NanumBarunGothic' not found.\n",
      "findfont: Font family 'NanumBarunGothic' not found.\n",
      "findfont: Font family 'NanumBarunGothic' not found.\n",
      "findfont: Font family 'NanumBarunGothic' not found.\n",
      "findfont: Font family 'NanumBarunGothic' not found.\n",
      "findfont: Font family 'NanumBarunGothic' not found.\n",
      "findfont: Font family 'NanumBarunGothic' not found.\n",
      "findfont: Font family 'NanumBarunGothic' not found.\n",
      "findfont: Font family 'NanumBarunGothic' not found.\n",
      "findfont: Font family 'NanumBarunGothic' not found.\n",
      "findfont: Font family 'NanumBarunGothic' not found.\n",
      "findfont: Font family 'NanumBarunGothic' not found.\n",
      "findfont: Font family 'NanumBarunGothic' not found.\n",
      "findfont: Font family 'NanumBarunGothic' not found.\n",
      "findfont: Font family 'NanumBarunGothic' not found.\n",
      "findfont: Font family 'NanumBarunGothic' not found.\n",
      "findfont: Font family 'NanumBarunGothic' not found.\n",
      "findfont: Font family 'NanumBarunGothic' not found.\n",
      "findfont: Font family 'NanumBarunGothic' not found.\n",
      "findfont: Font family 'NanumBarunGothic' not found.\n",
      "findfont: Font family 'NanumBarunGothic' not found.\n",
      "findfont: Font family 'NanumBarunGothic' not found.\n",
      "findfont: Font family 'NanumBarunGothic' not found.\n",
      "findfont: Font family 'NanumBarunGothic' not found.\n",
      "findfont: Font family 'NanumBarunGothic' not found.\n",
      "findfont: Font family 'NanumBarunGothic' not found.\n",
      "findfont: Font family 'NanumBarunGothic' not found.\n",
      "findfont: Font family 'NanumBarunGothic' not found.\n",
      "findfont: Font family 'NanumBarunGothic' not found.\n",
      "findfont: Font family 'NanumBarunGothic' not found.\n",
      "findfont: Font family 'NanumBarunGothic' not found.\n",
      "findfont: Font family 'NanumBarunGothic' not found.\n",
      "findfont: Font family 'NanumBarunGothic' not found.\n",
      "findfont: Font family 'NanumBarunGothic' not found.\n",
      "findfont: Font family 'NanumBarunGothic' not found.\n",
      "findfont: Font family 'NanumBarunGothic' not found.\n",
      "findfont: Font family 'NanumBarunGothic' not found.\n",
      "findfont: Font family 'NanumBarunGothic' not found.\n",
      "findfont: Font family 'NanumBarunGothic' not found.\n",
      "findfont: Font family 'NanumBarunGothic' not found.\n",
      "findfont: Font family 'NanumBarunGothic' not found.\n",
      "findfont: Font family 'NanumBarunGothic' not found.\n",
      "findfont: Font family 'NanumBarunGothic' not found.\n",
      "findfont: Font family 'NanumBarunGothic' not found.\n",
      "findfont: Font family 'NanumBarunGothic' not found.\n",
      "findfont: Font family 'NanumBarunGothic' not found.\n",
      "findfont: Font family 'NanumBarunGothic' not found.\n",
      "findfont: Font family 'NanumBarunGothic' not found.\n",
      "findfont: Font family 'NanumBarunGothic' not found.\n",
      "findfont: Font family 'NanumBarunGothic' not found.\n",
      "findfont: Font family 'NanumBarunGothic' not found.\n",
      "findfont: Font family 'NanumBarunGothic' not found.\n",
      "findfont: Font family 'NanumBarunGothic' not found.\n",
      "findfont: Font family 'NanumBarunGothic' not found.\n",
      "findfont: Font family 'NanumBarunGothic' not found.\n",
      "findfont: Font family 'NanumBarunGothic' not found.\n",
      "findfont: Font family 'NanumBarunGothic' not found.\n",
      "findfont: Font family 'NanumBarunGothic' not found.\n",
      "findfont: Font family 'NanumBarunGothic' not found.\n",
      "findfont: Font family 'NanumBarunGothic' not found.\n",
      "findfont: Font family 'NanumBarunGothic' not found.\n",
      "findfont: Font family 'NanumBarunGothic' not found.\n",
      "findfont: Font family 'NanumBarunGothic' not found.\n",
      "findfont: Font family 'NanumBarunGothic' not found.\n",
      "findfont: Font family 'NanumBarunGothic' not found.\n",
      "findfont: Font family 'NanumBarunGothic' not found.\n",
      "findfont: Font family 'NanumBarunGothic' not found.\n",
      "findfont: Font family 'NanumBarunGothic' not found.\n",
      "findfont: Font family 'NanumBarunGothic' not found.\n",
      "findfont: Font family 'NanumBarunGothic' not found.\n",
      "findfont: Font family 'NanumBarunGothic' not found.\n",
      "findfont: Font family 'NanumBarunGothic' not found.\n",
      "findfont: Font family 'NanumBarunGothic' not found.\n",
      "findfont: Font family 'NanumBarunGothic' not found.\n",
      "findfont: Font family 'NanumBarunGothic' not found.\n",
      "findfont: Font family 'NanumBarunGothic' not found.\n",
      "findfont: Font family 'NanumBarunGothic' not found.\n",
      "findfont: Font family 'NanumBarunGothic' not found.\n",
      "findfont: Font family 'NanumBarunGothic' not found.\n",
      "findfont: Font family 'NanumBarunGothic' not found.\n",
      "findfont: Font family 'NanumBarunGothic' not found.\n",
      "findfont: Font family 'NanumBarunGothic' not found.\n",
      "findfont: Font family 'NanumBarunGothic' not found.\n",
      "findfont: Font family 'NanumBarunGothic' not found.\n",
      "findfont: Font family 'NanumBarunGothic' not found.\n",
      "findfont: Font family 'NanumBarunGothic' not found.\n",
      "findfont: Font family 'NanumBarunGothic' not found.\n",
      "findfont: Font family 'NanumBarunGothic' not found.\n",
      "findfont: Font family 'NanumBarunGothic' not found.\n",
      "findfont: Font family 'NanumBarunGothic' not found.\n",
      "findfont: Font family 'NanumBarunGothic' not found.\n",
      "findfont: Font family 'NanumBarunGothic' not found.\n",
      "findfont: Font family 'NanumBarunGothic' not found.\n",
      "findfont: Font family 'NanumBarunGothic' not found.\n",
      "findfont: Font family 'NanumBarunGothic' not found.\n",
      "findfont: Font family 'NanumBarunGothic' not found.\n",
      "findfont: Font family 'NanumBarunGothic' not found.\n",
      "findfont: Font family 'NanumBarunGothic' not found.\n",
      "findfont: Font family 'NanumBarunGothic' not found.\n",
      "findfont: Font family 'NanumBarunGothic' not found.\n",
      "findfont: Font family 'NanumBarunGothic' not found.\n",
      "findfont: Font family 'NanumBarunGothic' not found.\n",
      "findfont: Font family 'NanumBarunGothic' not found.\n",
      "findfont: Font family 'NanumBarunGothic' not found.\n",
      "findfont: Font family 'NanumBarunGothic' not found.\n",
      "findfont: Font family 'NanumBarunGothic' not found.\n",
      "findfont: Font family 'NanumBarunGothic' not found.\n",
      "findfont: Font family 'NanumBarunGothic' not found.\n",
      "findfont: Font family 'NanumBarunGothic' not found.\n",
      "findfont: Font family 'NanumBarunGothic' not found.\n",
      "findfont: Font family 'NanumBarunGothic' not found.\n",
      "findfont: Font family 'NanumBarunGothic' not found.\n"
     ]
    }
   ],
   "execution_count": 18
  },
  {
   "cell_type": "code",
   "metadata": {
    "id": "3x35y_e7mPiM",
    "colab": {
     "base_uri": "https://localhost:8080/",
     "height": 559
    },
    "executionInfo": {
     "status": "ok",
     "timestamp": 1698387414204,
     "user_tz": -540,
     "elapsed": 1085,
     "user": {
      "displayName": "Yongjin Jeong",
      "userId": "03658406798560557048"
     }
    },
    "outputId": "6c9a1d1a-02f6-4c0b-9df2-4c820ea752b2",
    "ExecuteTime": {
     "end_time": "2024-11-24T04:51:20.272163Z",
     "start_time": "2024-11-24T04:51:20.217383Z"
    }
   },
   "source": [
    "see_c = ['서비스업','제조업']\n",
    "df[see_c].plot(kind='barh', figsize=(10,6), stacked=True)"
   ],
   "outputs": [
    {
     "data": {
      "text/plain": [
       "<Axes: ylabel='구분'>"
      ]
     },
     "execution_count": 19,
     "metadata": {},
     "output_type": "execute_result"
    },
    {
     "name": "stderr",
     "output_type": "stream",
     "text": [
      "findfont: Font family 'NanumBarunGothic' not found.\n",
      "findfont: Font family 'NanumBarunGothic' not found.\n",
      "findfont: Font family 'NanumBarunGothic' not found.\n",
      "findfont: Font family 'NanumBarunGothic' not found.\n",
      "findfont: Font family 'NanumBarunGothic' not found.\n",
      "findfont: Font family 'NanumBarunGothic' not found.\n",
      "findfont: Font family 'NanumBarunGothic' not found.\n",
      "findfont: Font family 'NanumBarunGothic' not found.\n",
      "findfont: Font family 'NanumBarunGothic' not found.\n",
      "findfont: Font family 'NanumBarunGothic' not found.\n",
      "findfont: Font family 'NanumBarunGothic' not found.\n",
      "findfont: Font family 'NanumBarunGothic' not found.\n",
      "findfont: Font family 'NanumBarunGothic' not found.\n",
      "findfont: Font family 'NanumBarunGothic' not found.\n",
      "/home/unsi/anaconda3/envs/forpytorch/lib/python3.12/site-packages/IPython/core/events.py:82: UserWarning: Glyph 44053 (\\N{HANGUL SYLLABLE GANG}) missing from font(s) DejaVu Sans.\n",
      "  func(*args, **kwargs)\n",
      "/home/unsi/anaconda3/envs/forpytorch/lib/python3.12/site-packages/IPython/core/events.py:82: UserWarning: Glyph 50896 (\\N{HANGUL SYLLABLE WEON}) missing from font(s) DejaVu Sans.\n",
      "  func(*args, **kwargs)\n",
      "findfont: Font family 'NanumBarunGothic' not found.\n",
      "/home/unsi/anaconda3/envs/forpytorch/lib/python3.12/site-packages/IPython/core/events.py:82: UserWarning: Glyph 44221 (\\N{HANGUL SYLLABLE GYEONG}) missing from font(s) DejaVu Sans.\n",
      "  func(*args, **kwargs)\n",
      "/home/unsi/anaconda3/envs/forpytorch/lib/python3.12/site-packages/IPython/core/events.py:82: UserWarning: Glyph 44592 (\\N{HANGUL SYLLABLE GI}) missing from font(s) DejaVu Sans.\n",
      "  func(*args, **kwargs)\n",
      "findfont: Font family 'NanumBarunGothic' not found.\n",
      "/home/unsi/anaconda3/envs/forpytorch/lib/python3.12/site-packages/IPython/core/events.py:82: UserWarning: Glyph 45224 (\\N{HANGUL SYLLABLE NAM}) missing from font(s) DejaVu Sans.\n",
      "  func(*args, **kwargs)\n",
      "findfont: Font family 'NanumBarunGothic' not found.\n",
      "/home/unsi/anaconda3/envs/forpytorch/lib/python3.12/site-packages/IPython/core/events.py:82: UserWarning: Glyph 48513 (\\N{HANGUL SYLLABLE BUG}) missing from font(s) DejaVu Sans.\n",
      "  func(*args, **kwargs)\n",
      "findfont: Font family 'NanumBarunGothic' not found.\n",
      "/home/unsi/anaconda3/envs/forpytorch/lib/python3.12/site-packages/IPython/core/events.py:82: UserWarning: Glyph 44305 (\\N{HANGUL SYLLABLE GWANG}) missing from font(s) DejaVu Sans.\n",
      "  func(*args, **kwargs)\n",
      "/home/unsi/anaconda3/envs/forpytorch/lib/python3.12/site-packages/IPython/core/events.py:82: UserWarning: Glyph 51452 (\\N{HANGUL SYLLABLE JU}) missing from font(s) DejaVu Sans.\n",
      "  func(*args, **kwargs)\n",
      "findfont: Font family 'NanumBarunGothic' not found.\n",
      "/home/unsi/anaconda3/envs/forpytorch/lib/python3.12/site-packages/IPython/core/events.py:82: UserWarning: Glyph 45824 (\\N{HANGUL SYLLABLE DAE}) missing from font(s) DejaVu Sans.\n",
      "  func(*args, **kwargs)\n",
      "/home/unsi/anaconda3/envs/forpytorch/lib/python3.12/site-packages/IPython/core/events.py:82: UserWarning: Glyph 44396 (\\N{HANGUL SYLLABLE GU}) missing from font(s) DejaVu Sans.\n",
      "  func(*args, **kwargs)\n",
      "findfont: Font family 'NanumBarunGothic' not found.\n",
      "/home/unsi/anaconda3/envs/forpytorch/lib/python3.12/site-packages/IPython/core/events.py:82: UserWarning: Glyph 51204 (\\N{HANGUL SYLLABLE JEON}) missing from font(s) DejaVu Sans.\n",
      "  func(*args, **kwargs)\n",
      "findfont: Font family 'NanumBarunGothic' not found.\n",
      "/home/unsi/anaconda3/envs/forpytorch/lib/python3.12/site-packages/IPython/core/events.py:82: UserWarning: Glyph 48512 (\\N{HANGUL SYLLABLE BU}) missing from font(s) DejaVu Sans.\n",
      "  func(*args, **kwargs)\n",
      "/home/unsi/anaconda3/envs/forpytorch/lib/python3.12/site-packages/IPython/core/events.py:82: UserWarning: Glyph 49328 (\\N{HANGUL SYLLABLE SAN}) missing from font(s) DejaVu Sans.\n",
      "  func(*args, **kwargs)\n",
      "findfont: Font family 'NanumBarunGothic' not found.\n",
      "/home/unsi/anaconda3/envs/forpytorch/lib/python3.12/site-packages/IPython/core/events.py:82: UserWarning: Glyph 49436 (\\N{HANGUL SYLLABLE SEO}) missing from font(s) DejaVu Sans.\n",
      "  func(*args, **kwargs)\n",
      "/home/unsi/anaconda3/envs/forpytorch/lib/python3.12/site-packages/IPython/core/events.py:82: UserWarning: Glyph 50872 (\\N{HANGUL SYLLABLE UL}) missing from font(s) DejaVu Sans.\n",
      "  func(*args, **kwargs)\n",
      "findfont: Font family 'NanumBarunGothic' not found.\n",
      "/home/unsi/anaconda3/envs/forpytorch/lib/python3.12/site-packages/IPython/core/events.py:82: UserWarning: Glyph 49464 (\\N{HANGUL SYLLABLE SE}) missing from font(s) DejaVu Sans.\n",
      "  func(*args, **kwargs)\n",
      "/home/unsi/anaconda3/envs/forpytorch/lib/python3.12/site-packages/IPython/core/events.py:82: UserWarning: Glyph 51333 (\\N{HANGUL SYLLABLE JONG}) missing from font(s) DejaVu Sans.\n",
      "  func(*args, **kwargs)\n",
      "findfont: Font family 'NanumBarunGothic' not found.\n",
      "findfont: Font family 'NanumBarunGothic' not found.\n",
      "/home/unsi/anaconda3/envs/forpytorch/lib/python3.12/site-packages/IPython/core/events.py:82: UserWarning: Glyph 51064 (\\N{HANGUL SYLLABLE IN}) missing from font(s) DejaVu Sans.\n",
      "  func(*args, **kwargs)\n",
      "/home/unsi/anaconda3/envs/forpytorch/lib/python3.12/site-packages/IPython/core/events.py:82: UserWarning: Glyph 52380 (\\N{HANGUL SYLLABLE CEON}) missing from font(s) DejaVu Sans.\n",
      "  func(*args, **kwargs)\n",
      "findfont: Font family 'NanumBarunGothic' not found.\n",
      "findfont: Font family 'NanumBarunGothic' not found.\n",
      "findfont: Font family 'NanumBarunGothic' not found.\n",
      "/home/unsi/anaconda3/envs/forpytorch/lib/python3.12/site-packages/IPython/core/events.py:82: UserWarning: Glyph 51228 (\\N{HANGUL SYLLABLE JE}) missing from font(s) DejaVu Sans.\n",
      "  func(*args, **kwargs)\n",
      "findfont: Font family 'NanumBarunGothic' not found.\n",
      "/home/unsi/anaconda3/envs/forpytorch/lib/python3.12/site-packages/IPython/core/events.py:82: UserWarning: Glyph 52649 (\\N{HANGUL SYLLABLE CUNG}) missing from font(s) DejaVu Sans.\n",
      "  func(*args, **kwargs)\n",
      "findfont: Font family 'NanumBarunGothic' not found.\n",
      "findfont: Font family 'NanumBarunGothic' not found.\n",
      "findfont: Font family 'NanumBarunGothic' not found.\n",
      "findfont: Font family 'NanumBarunGothic' not found.\n",
      "findfont: Font family 'NanumBarunGothic' not found.\n",
      "findfont: Font family 'NanumBarunGothic' not found.\n",
      "findfont: Font family 'NanumBarunGothic' not found.\n",
      "findfont: Font family 'NanumBarunGothic' not found.\n",
      "findfont: Font family 'NanumBarunGothic' not found.\n",
      "findfont: Font family 'NanumBarunGothic' not found.\n",
      "findfont: Font family 'NanumBarunGothic' not found.\n",
      "findfont: Font family 'NanumBarunGothic' not found.\n",
      "findfont: Font family 'NanumBarunGothic' not found.\n",
      "findfont: Font family 'NanumBarunGothic' not found.\n",
      "findfont: Font family 'NanumBarunGothic' not found.\n",
      "findfont: Font family 'NanumBarunGothic' not found.\n",
      "findfont: Font family 'NanumBarunGothic' not found.\n",
      "findfont: Font family 'NanumBarunGothic' not found.\n",
      "findfont: Font family 'NanumBarunGothic' not found.\n",
      "/home/unsi/anaconda3/envs/forpytorch/lib/python3.12/site-packages/IPython/core/events.py:82: UserWarning: Glyph 48516 (\\N{HANGUL SYLLABLE BUN}) missing from font(s) DejaVu Sans.\n",
      "  func(*args, **kwargs)\n",
      "findfont: Font family 'NanumBarunGothic' not found.\n",
      "findfont: Font family 'NanumBarunGothic' not found.\n",
      "findfont: Font family 'NanumBarunGothic' not found.\n",
      "/home/unsi/anaconda3/envs/forpytorch/lib/python3.12/site-packages/IPython/core/events.py:82: UserWarning: Glyph 48708 (\\N{HANGUL SYLLABLE BI}) missing from font(s) DejaVu Sans.\n",
      "  func(*args, **kwargs)\n",
      "/home/unsi/anaconda3/envs/forpytorch/lib/python3.12/site-packages/IPython/core/events.py:82: UserWarning: Glyph 49828 (\\N{HANGUL SYLLABLE SEU}) missing from font(s) DejaVu Sans.\n",
      "  func(*args, **kwargs)\n",
      "/home/unsi/anaconda3/envs/forpytorch/lib/python3.12/site-packages/IPython/core/events.py:82: UserWarning: Glyph 50629 (\\N{HANGUL SYLLABLE EOB}) missing from font(s) DejaVu Sans.\n",
      "  func(*args, **kwargs)\n",
      "findfont: Font family 'NanumBarunGothic' not found.\n",
      "findfont: Font family 'NanumBarunGothic' not found.\n",
      "/home/unsi/anaconda3/envs/forpytorch/lib/python3.12/site-packages/IPython/core/events.py:82: UserWarning: Glyph 51312 (\\N{HANGUL SYLLABLE JO}) missing from font(s) DejaVu Sans.\n",
      "  func(*args, **kwargs)\n",
      "findfont: Font family 'NanumBarunGothic' not found.\n",
      "findfont: Font family 'NanumBarunGothic' not found.\n",
      "findfont: Font family 'NanumBarunGothic' not found.\n",
      "findfont: Font family 'NanumBarunGothic' not found.\n",
      "findfont: Font family 'NanumBarunGothic' not found.\n",
      "findfont: Font family 'NanumBarunGothic' not found.\n",
      "findfont: Font family 'NanumBarunGothic' not found.\n",
      "findfont: Font family 'NanumBarunGothic' not found.\n",
      "findfont: Font family 'NanumBarunGothic' not found.\n",
      "findfont: Font family 'NanumBarunGothic' not found.\n"
     ]
    }
   ],
   "execution_count": 19
  },
  {
   "cell_type": "code",
   "metadata": {
    "id": "n8EoArkimPiO",
    "scrolled": false,
    "colab": {
     "base_uri": "https://localhost:8080/",
     "height": 237
    },
    "executionInfo": {
     "status": "ok",
     "timestamp": 1698387418343,
     "user_tz": -540,
     "elapsed": 406,
     "user": {
      "displayName": "Yongjin Jeong",
      "userId": "03658406798560557048"
     }
    },
    "outputId": "f0d52713-ad47-4a73-9af2-2c9db6a8b84a",
    "ExecuteTime": {
     "end_time": "2024-11-24T04:51:20.275859Z",
     "start_time": "2024-11-24T04:51:20.272685Z"
    }
   },
   "source": [
    "df2 = df[see_c]\n",
    "df2.head(5)"
   ],
   "outputs": [
    {
     "data": {
      "text/plain": [
       "        서비스업       제조업\n",
       "구분                    \n",
       "강원   6203749   6002286\n",
       "경기  33434551  56603327\n",
       "경남   8667737  18053778\n",
       "경북   8487402  30115601\n",
       "광주   3174973   2910768"
      ],
      "text/html": [
       "<div>\n",
       "<style scoped>\n",
       "    .dataframe tbody tr th:only-of-type {\n",
       "        vertical-align: middle;\n",
       "    }\n",
       "\n",
       "    .dataframe tbody tr th {\n",
       "        vertical-align: top;\n",
       "    }\n",
       "\n",
       "    .dataframe thead th {\n",
       "        text-align: right;\n",
       "    }\n",
       "</style>\n",
       "<table border=\"1\" class=\"dataframe\">\n",
       "  <thead>\n",
       "    <tr style=\"text-align: right;\">\n",
       "      <th></th>\n",
       "      <th>서비스업</th>\n",
       "      <th>제조업</th>\n",
       "    </tr>\n",
       "    <tr>\n",
       "      <th>구분</th>\n",
       "      <th></th>\n",
       "      <th></th>\n",
       "    </tr>\n",
       "  </thead>\n",
       "  <tbody>\n",
       "    <tr>\n",
       "      <th>강원</th>\n",
       "      <td>6203749</td>\n",
       "      <td>6002286</td>\n",
       "    </tr>\n",
       "    <tr>\n",
       "      <th>경기</th>\n",
       "      <td>33434551</td>\n",
       "      <td>56603327</td>\n",
       "    </tr>\n",
       "    <tr>\n",
       "      <th>경남</th>\n",
       "      <td>8667737</td>\n",
       "      <td>18053778</td>\n",
       "    </tr>\n",
       "    <tr>\n",
       "      <th>경북</th>\n",
       "      <td>8487402</td>\n",
       "      <td>30115601</td>\n",
       "    </tr>\n",
       "    <tr>\n",
       "      <th>광주</th>\n",
       "      <td>3174973</td>\n",
       "      <td>2910768</td>\n",
       "    </tr>\n",
       "  </tbody>\n",
       "</table>\n",
       "</div>"
      ]
     },
     "execution_count": 20,
     "metadata": {},
     "output_type": "execute_result"
    }
   ],
   "execution_count": 20
  },
  {
   "cell_type": "markdown",
   "metadata": {
    "id": "F-WeHz3PmPiT"
   },
   "source": [
    "### scatter plot"
   ]
  },
  {
   "cell_type": "code",
   "metadata": {
    "id": "44VvZX-gmPiT",
    "colab": {
     "base_uri": "https://localhost:8080/",
     "height": 559
    },
    "executionInfo": {
     "status": "ok",
     "timestamp": 1698387422112,
     "user_tz": -540,
     "elapsed": 1175,
     "user": {
      "displayName": "Yongjin Jeong",
      "userId": "03658406798560557048"
     }
    },
    "outputId": "f0768113-a91b-4623-b406-fda6de2b5961",
    "ExecuteTime": {
     "end_time": "2024-11-24T04:51:20.321373Z",
     "start_time": "2024-11-24T04:51:20.276270Z"
    }
   },
   "source": [
    "plt.figure(figsize=(6,6))\n",
    "plt.scatter(df2['서비스업'], df2['제조업'],c='k',marker='o')\n",
    "plt.xlabel('서비스업')\n",
    "plt.ylabel('제조업')\n",
    "\n",
    "for n in range(df2.shape[0]):\n",
    "    plt.text(df2['서비스업'][n]*1.03, df2['제조업'][n]*0.98, df2.index[n])"
   ],
   "outputs": [
    {
     "name": "stderr",
     "output_type": "stream",
     "text": [
      "/tmp/ipykernel_6350/98822531.py:7: FutureWarning: Series.__getitem__ treating keys as positions is deprecated. In a future version, integer keys will always be treated as labels (consistent with DataFrame behavior). To access a value by position, use `ser.iloc[pos]`\n",
      "  plt.text(df2['서비스업'][n]*1.03, df2['제조업'][n]*0.98, df2.index[n])\n",
      "findfont: Font family 'NanumBarunGothic' not found.\n",
      "findfont: Font family 'NanumBarunGothic' not found.\n",
      "findfont: Font family 'NanumBarunGothic' not found.\n",
      "findfont: Font family 'NanumBarunGothic' not found.\n",
      "findfont: Font family 'NanumBarunGothic' not found.\n",
      "findfont: Font family 'NanumBarunGothic' not found.\n",
      "findfont: Font family 'NanumBarunGothic' not found.\n",
      "findfont: Font family 'NanumBarunGothic' not found.\n",
      "findfont: Font family 'NanumBarunGothic' not found.\n",
      "findfont: Font family 'NanumBarunGothic' not found.\n",
      "findfont: Font family 'NanumBarunGothic' not found.\n",
      "findfont: Font family 'NanumBarunGothic' not found.\n",
      "findfont: Font family 'NanumBarunGothic' not found.\n",
      "findfont: Font family 'NanumBarunGothic' not found.\n",
      "findfont: Font family 'NanumBarunGothic' not found.\n",
      "findfont: Font family 'NanumBarunGothic' not found.\n",
      "findfont: Font family 'NanumBarunGothic' not found.\n",
      "findfont: Font family 'NanumBarunGothic' not found.\n",
      "/home/unsi/anaconda3/envs/forpytorch/lib/python3.12/site-packages/IPython/core/events.py:82: UserWarning: Glyph 49436 (\\N{HANGUL SYLLABLE SEO}) missing from font(s) DejaVu Sans.\n",
      "  func(*args, **kwargs)\n",
      "/home/unsi/anaconda3/envs/forpytorch/lib/python3.12/site-packages/IPython/core/events.py:82: UserWarning: Glyph 48708 (\\N{HANGUL SYLLABLE BI}) missing from font(s) DejaVu Sans.\n",
      "  func(*args, **kwargs)\n",
      "/home/unsi/anaconda3/envs/forpytorch/lib/python3.12/site-packages/IPython/core/events.py:82: UserWarning: Glyph 49828 (\\N{HANGUL SYLLABLE SEU}) missing from font(s) DejaVu Sans.\n",
      "  func(*args, **kwargs)\n",
      "/home/unsi/anaconda3/envs/forpytorch/lib/python3.12/site-packages/IPython/core/events.py:82: UserWarning: Glyph 50629 (\\N{HANGUL SYLLABLE EOB}) missing from font(s) DejaVu Sans.\n",
      "  func(*args, **kwargs)\n",
      "findfont: Font family 'NanumBarunGothic' not found.\n",
      "findfont: Font family 'NanumBarunGothic' not found.\n",
      "findfont: Font family 'NanumBarunGothic' not found.\n",
      "findfont: Font family 'NanumBarunGothic' not found.\n",
      "findfont: Font family 'NanumBarunGothic' not found.\n",
      "findfont: Font family 'NanumBarunGothic' not found.\n",
      "findfont: Font family 'NanumBarunGothic' not found.\n",
      "findfont: Font family 'NanumBarunGothic' not found.\n",
      "findfont: Font family 'NanumBarunGothic' not found.\n",
      "findfont: Font family 'NanumBarunGothic' not found.\n",
      "findfont: Font family 'NanumBarunGothic' not found.\n",
      "findfont: Font family 'NanumBarunGothic' not found.\n",
      "findfont: Font family 'NanumBarunGothic' not found.\n",
      "findfont: Font family 'NanumBarunGothic' not found.\n",
      "findfont: Font family 'NanumBarunGothic' not found.\n",
      "findfont: Font family 'NanumBarunGothic' not found.\n",
      "/home/unsi/anaconda3/envs/forpytorch/lib/python3.12/site-packages/IPython/core/events.py:82: UserWarning: Glyph 51228 (\\N{HANGUL SYLLABLE JE}) missing from font(s) DejaVu Sans.\n",
      "  func(*args, **kwargs)\n",
      "/home/unsi/anaconda3/envs/forpytorch/lib/python3.12/site-packages/IPython/core/events.py:82: UserWarning: Glyph 51312 (\\N{HANGUL SYLLABLE JO}) missing from font(s) DejaVu Sans.\n",
      "  func(*args, **kwargs)\n",
      "findfont: Font family 'NanumBarunGothic' not found.\n",
      "findfont: Font family 'NanumBarunGothic' not found.\n",
      "findfont: Font family 'NanumBarunGothic' not found.\n",
      "/home/unsi/anaconda3/envs/forpytorch/lib/python3.12/site-packages/IPython/core/events.py:82: UserWarning: Glyph 44053 (\\N{HANGUL SYLLABLE GANG}) missing from font(s) DejaVu Sans.\n",
      "  func(*args, **kwargs)\n",
      "/home/unsi/anaconda3/envs/forpytorch/lib/python3.12/site-packages/IPython/core/events.py:82: UserWarning: Glyph 50896 (\\N{HANGUL SYLLABLE WEON}) missing from font(s) DejaVu Sans.\n",
      "  func(*args, **kwargs)\n",
      "findfont: Font family 'NanumBarunGothic' not found.\n",
      "findfont: Font family 'NanumBarunGothic' not found.\n",
      "/home/unsi/anaconda3/envs/forpytorch/lib/python3.12/site-packages/IPython/core/events.py:82: UserWarning: Glyph 44221 (\\N{HANGUL SYLLABLE GYEONG}) missing from font(s) DejaVu Sans.\n",
      "  func(*args, **kwargs)\n",
      "/home/unsi/anaconda3/envs/forpytorch/lib/python3.12/site-packages/IPython/core/events.py:82: UserWarning: Glyph 44592 (\\N{HANGUL SYLLABLE GI}) missing from font(s) DejaVu Sans.\n",
      "  func(*args, **kwargs)\n",
      "findfont: Font family 'NanumBarunGothic' not found.\n",
      "findfont: Font family 'NanumBarunGothic' not found.\n",
      "/home/unsi/anaconda3/envs/forpytorch/lib/python3.12/site-packages/IPython/core/events.py:82: UserWarning: Glyph 45224 (\\N{HANGUL SYLLABLE NAM}) missing from font(s) DejaVu Sans.\n",
      "  func(*args, **kwargs)\n",
      "findfont: Font family 'NanumBarunGothic' not found.\n",
      "findfont: Font family 'NanumBarunGothic' not found.\n",
      "/home/unsi/anaconda3/envs/forpytorch/lib/python3.12/site-packages/IPython/core/events.py:82: UserWarning: Glyph 48513 (\\N{HANGUL SYLLABLE BUG}) missing from font(s) DejaVu Sans.\n",
      "  func(*args, **kwargs)\n",
      "findfont: Font family 'NanumBarunGothic' not found.\n",
      "findfont: Font family 'NanumBarunGothic' not found.\n",
      "/home/unsi/anaconda3/envs/forpytorch/lib/python3.12/site-packages/IPython/core/events.py:82: UserWarning: Glyph 44305 (\\N{HANGUL SYLLABLE GWANG}) missing from font(s) DejaVu Sans.\n",
      "  func(*args, **kwargs)\n",
      "/home/unsi/anaconda3/envs/forpytorch/lib/python3.12/site-packages/IPython/core/events.py:82: UserWarning: Glyph 51452 (\\N{HANGUL SYLLABLE JU}) missing from font(s) DejaVu Sans.\n",
      "  func(*args, **kwargs)\n",
      "findfont: Font family 'NanumBarunGothic' not found.\n",
      "findfont: Font family 'NanumBarunGothic' not found.\n",
      "/home/unsi/anaconda3/envs/forpytorch/lib/python3.12/site-packages/IPython/core/events.py:82: UserWarning: Glyph 45824 (\\N{HANGUL SYLLABLE DAE}) missing from font(s) DejaVu Sans.\n",
      "  func(*args, **kwargs)\n",
      "/home/unsi/anaconda3/envs/forpytorch/lib/python3.12/site-packages/IPython/core/events.py:82: UserWarning: Glyph 44396 (\\N{HANGUL SYLLABLE GU}) missing from font(s) DejaVu Sans.\n",
      "  func(*args, **kwargs)\n",
      "findfont: Font family 'NanumBarunGothic' not found.\n",
      "findfont: Font family 'NanumBarunGothic' not found.\n",
      "/home/unsi/anaconda3/envs/forpytorch/lib/python3.12/site-packages/IPython/core/events.py:82: UserWarning: Glyph 51204 (\\N{HANGUL SYLLABLE JEON}) missing from font(s) DejaVu Sans.\n",
      "  func(*args, **kwargs)\n",
      "findfont: Font family 'NanumBarunGothic' not found.\n",
      "findfont: Font family 'NanumBarunGothic' not found.\n",
      "/home/unsi/anaconda3/envs/forpytorch/lib/python3.12/site-packages/IPython/core/events.py:82: UserWarning: Glyph 48512 (\\N{HANGUL SYLLABLE BU}) missing from font(s) DejaVu Sans.\n",
      "  func(*args, **kwargs)\n",
      "/home/unsi/anaconda3/envs/forpytorch/lib/python3.12/site-packages/IPython/core/events.py:82: UserWarning: Glyph 49328 (\\N{HANGUL SYLLABLE SAN}) missing from font(s) DejaVu Sans.\n",
      "  func(*args, **kwargs)\n",
      "findfont: Font family 'NanumBarunGothic' not found.\n",
      "findfont: Font family 'NanumBarunGothic' not found.\n",
      "/home/unsi/anaconda3/envs/forpytorch/lib/python3.12/site-packages/IPython/core/events.py:82: UserWarning: Glyph 50872 (\\N{HANGUL SYLLABLE UL}) missing from font(s) DejaVu Sans.\n",
      "  func(*args, **kwargs)\n",
      "findfont: Font family 'NanumBarunGothic' not found.\n",
      "findfont: Font family 'NanumBarunGothic' not found.\n",
      "/home/unsi/anaconda3/envs/forpytorch/lib/python3.12/site-packages/IPython/core/events.py:82: UserWarning: Glyph 49464 (\\N{HANGUL SYLLABLE SE}) missing from font(s) DejaVu Sans.\n",
      "  func(*args, **kwargs)\n",
      "/home/unsi/anaconda3/envs/forpytorch/lib/python3.12/site-packages/IPython/core/events.py:82: UserWarning: Glyph 51333 (\\N{HANGUL SYLLABLE JONG}) missing from font(s) DejaVu Sans.\n",
      "  func(*args, **kwargs)\n",
      "findfont: Font family 'NanumBarunGothic' not found.\n",
      "findfont: Font family 'NanumBarunGothic' not found.\n",
      "findfont: Font family 'NanumBarunGothic' not found.\n",
      "findfont: Font family 'NanumBarunGothic' not found.\n",
      "/home/unsi/anaconda3/envs/forpytorch/lib/python3.12/site-packages/IPython/core/events.py:82: UserWarning: Glyph 51064 (\\N{HANGUL SYLLABLE IN}) missing from font(s) DejaVu Sans.\n",
      "  func(*args, **kwargs)\n",
      "/home/unsi/anaconda3/envs/forpytorch/lib/python3.12/site-packages/IPython/core/events.py:82: UserWarning: Glyph 52380 (\\N{HANGUL SYLLABLE CEON}) missing from font(s) DejaVu Sans.\n",
      "  func(*args, **kwargs)\n",
      "findfont: Font family 'NanumBarunGothic' not found.\n",
      "findfont: Font family 'NanumBarunGothic' not found.\n",
      "findfont: Font family 'NanumBarunGothic' not found.\n",
      "findfont: Font family 'NanumBarunGothic' not found.\n",
      "findfont: Font family 'NanumBarunGothic' not found.\n",
      "findfont: Font family 'NanumBarunGothic' not found.\n",
      "findfont: Font family 'NanumBarunGothic' not found.\n",
      "findfont: Font family 'NanumBarunGothic' not found.\n",
      "/home/unsi/anaconda3/envs/forpytorch/lib/python3.12/site-packages/IPython/core/events.py:82: UserWarning: Glyph 52649 (\\N{HANGUL SYLLABLE CUNG}) missing from font(s) DejaVu Sans.\n",
      "  func(*args, **kwargs)\n",
      "findfont: Font family 'NanumBarunGothic' not found.\n",
      "findfont: Font family 'NanumBarunGothic' not found.\n",
      "findfont: Font family 'NanumBarunGothic' not found.\n"
     ]
    }
   ],
   "execution_count": 21
  },
  {
   "cell_type": "code",
   "metadata": {
    "id": "Btgs59xHmPiW",
    "colab": {
     "base_uri": "https://localhost:8080/"
    },
    "executionInfo": {
     "status": "ok",
     "timestamp": 1698387423208,
     "user_tz": -540,
     "elapsed": 2,
     "user": {
      "displayName": "Yongjin Jeong",
      "userId": "03658406798560557048"
     }
    },
    "outputId": "1232ea6a-1508-4417-e461-f4310c71c688",
    "ExecuteTime": {
     "end_time": "2024-11-24T04:51:20.323649Z",
     "start_time": "2024-11-24T04:51:20.321741Z"
    }
   },
   "source": [
    "df2 = df2.drop(['경기', '서울'])\n",
    "df2.shape"
   ],
   "outputs": [
    {
     "data": {
      "text/plain": [
       "(15, 2)"
      ]
     },
     "execution_count": 22,
     "metadata": {},
     "output_type": "execute_result"
    }
   ],
   "execution_count": 22
  },
  {
   "cell_type": "code",
   "metadata": {
    "colab": {
     "base_uri": "https://localhost:8080/",
     "height": 559
    },
    "id": "u8U8Ce0PmZ3w",
    "executionInfo": {
     "status": "ok",
     "timestamp": 1698387424496,
     "user_tz": -540,
     "elapsed": 810,
     "user": {
      "displayName": "Yongjin Jeong",
      "userId": "03658406798560557048"
     }
    },
    "outputId": "1d0caf48-80f4-4c7b-e6ec-6344596600cf",
    "ExecuteTime": {
     "end_time": "2024-11-24T04:51:20.368684Z",
     "start_time": "2024-11-24T04:51:20.324055Z"
    }
   },
   "source": [
    "plt.figure(figsize=(6,6))\n",
    "plt.scatter(df2['서비스업'], df2['제조업'],c='k',marker='o')\n",
    "plt.xlabel('서비스업')\n",
    "plt.ylabel('제조업')\n",
    "\n",
    "for n in range(df2.shape[0]):\n",
    "    plt.text(df2['서비스업'][n]*1.03, df2['제조업'][n]*0.98, df2.index[n])"
   ],
   "outputs": [
    {
     "name": "stderr",
     "output_type": "stream",
     "text": [
      "/tmp/ipykernel_6350/98822531.py:7: FutureWarning: Series.__getitem__ treating keys as positions is deprecated. In a future version, integer keys will always be treated as labels (consistent with DataFrame behavior). To access a value by position, use `ser.iloc[pos]`\n",
      "  plt.text(df2['서비스업'][n]*1.03, df2['제조업'][n]*0.98, df2.index[n])\n",
      "findfont: Font family 'NanumBarunGothic' not found.\n",
      "findfont: Font family 'NanumBarunGothic' not found.\n",
      "findfont: Font family 'NanumBarunGothic' not found.\n",
      "findfont: Font family 'NanumBarunGothic' not found.\n",
      "findfont: Font family 'NanumBarunGothic' not found.\n",
      "findfont: Font family 'NanumBarunGothic' not found.\n",
      "findfont: Font family 'NanumBarunGothic' not found.\n",
      "findfont: Font family 'NanumBarunGothic' not found.\n",
      "findfont: Font family 'NanumBarunGothic' not found.\n",
      "findfont: Font family 'NanumBarunGothic' not found.\n",
      "findfont: Font family 'NanumBarunGothic' not found.\n",
      "findfont: Font family 'NanumBarunGothic' not found.\n",
      "findfont: Font family 'NanumBarunGothic' not found.\n",
      "findfont: Font family 'NanumBarunGothic' not found.\n",
      "findfont: Font family 'NanumBarunGothic' not found.\n",
      "findfont: Font family 'NanumBarunGothic' not found.\n",
      "findfont: Font family 'NanumBarunGothic' not found.\n",
      "findfont: Font family 'NanumBarunGothic' not found.\n",
      "findfont: Font family 'NanumBarunGothic' not found.\n",
      "findfont: Font family 'NanumBarunGothic' not found.\n",
      "/home/unsi/anaconda3/envs/forpytorch/lib/python3.12/site-packages/IPython/core/events.py:82: UserWarning: Glyph 49436 (\\N{HANGUL SYLLABLE SEO}) missing from font(s) DejaVu Sans.\n",
      "  func(*args, **kwargs)\n",
      "/home/unsi/anaconda3/envs/forpytorch/lib/python3.12/site-packages/IPython/core/events.py:82: UserWarning: Glyph 48708 (\\N{HANGUL SYLLABLE BI}) missing from font(s) DejaVu Sans.\n",
      "  func(*args, **kwargs)\n",
      "/home/unsi/anaconda3/envs/forpytorch/lib/python3.12/site-packages/IPython/core/events.py:82: UserWarning: Glyph 49828 (\\N{HANGUL SYLLABLE SEU}) missing from font(s) DejaVu Sans.\n",
      "  func(*args, **kwargs)\n",
      "/home/unsi/anaconda3/envs/forpytorch/lib/python3.12/site-packages/IPython/core/events.py:82: UserWarning: Glyph 50629 (\\N{HANGUL SYLLABLE EOB}) missing from font(s) DejaVu Sans.\n",
      "  func(*args, **kwargs)\n",
      "findfont: Font family 'NanumBarunGothic' not found.\n",
      "findfont: Font family 'NanumBarunGothic' not found.\n",
      "findfont: Font family 'NanumBarunGothic' not found.\n",
      "findfont: Font family 'NanumBarunGothic' not found.\n",
      "findfont: Font family 'NanumBarunGothic' not found.\n",
      "findfont: Font family 'NanumBarunGothic' not found.\n",
      "findfont: Font family 'NanumBarunGothic' not found.\n",
      "findfont: Font family 'NanumBarunGothic' not found.\n",
      "findfont: Font family 'NanumBarunGothic' not found.\n",
      "findfont: Font family 'NanumBarunGothic' not found.\n",
      "findfont: Font family 'NanumBarunGothic' not found.\n",
      "findfont: Font family 'NanumBarunGothic' not found.\n",
      "findfont: Font family 'NanumBarunGothic' not found.\n",
      "findfont: Font family 'NanumBarunGothic' not found.\n",
      "findfont: Font family 'NanumBarunGothic' not found.\n",
      "findfont: Font family 'NanumBarunGothic' not found.\n",
      "findfont: Font family 'NanumBarunGothic' not found.\n",
      "findfont: Font family 'NanumBarunGothic' not found.\n",
      "findfont: Font family 'NanumBarunGothic' not found.\n",
      "findfont: Font family 'NanumBarunGothic' not found.\n",
      "/home/unsi/anaconda3/envs/forpytorch/lib/python3.12/site-packages/IPython/core/events.py:82: UserWarning: Glyph 51228 (\\N{HANGUL SYLLABLE JE}) missing from font(s) DejaVu Sans.\n",
      "  func(*args, **kwargs)\n",
      "/home/unsi/anaconda3/envs/forpytorch/lib/python3.12/site-packages/IPython/core/events.py:82: UserWarning: Glyph 51312 (\\N{HANGUL SYLLABLE JO}) missing from font(s) DejaVu Sans.\n",
      "  func(*args, **kwargs)\n",
      "findfont: Font family 'NanumBarunGothic' not found.\n",
      "findfont: Font family 'NanumBarunGothic' not found.\n",
      "findfont: Font family 'NanumBarunGothic' not found.\n",
      "findfont: Font family 'NanumBarunGothic' not found.\n",
      "/home/unsi/anaconda3/envs/forpytorch/lib/python3.12/site-packages/IPython/core/events.py:82: UserWarning: Glyph 44053 (\\N{HANGUL SYLLABLE GANG}) missing from font(s) DejaVu Sans.\n",
      "  func(*args, **kwargs)\n",
      "/home/unsi/anaconda3/envs/forpytorch/lib/python3.12/site-packages/IPython/core/events.py:82: UserWarning: Glyph 50896 (\\N{HANGUL SYLLABLE WEON}) missing from font(s) DejaVu Sans.\n",
      "  func(*args, **kwargs)\n",
      "findfont: Font family 'NanumBarunGothic' not found.\n",
      "findfont: Font family 'NanumBarunGothic' not found.\n",
      "/home/unsi/anaconda3/envs/forpytorch/lib/python3.12/site-packages/IPython/core/events.py:82: UserWarning: Glyph 44221 (\\N{HANGUL SYLLABLE GYEONG}) missing from font(s) DejaVu Sans.\n",
      "  func(*args, **kwargs)\n",
      "/home/unsi/anaconda3/envs/forpytorch/lib/python3.12/site-packages/IPython/core/events.py:82: UserWarning: Glyph 45224 (\\N{HANGUL SYLLABLE NAM}) missing from font(s) DejaVu Sans.\n",
      "  func(*args, **kwargs)\n",
      "findfont: Font family 'NanumBarunGothic' not found.\n",
      "findfont: Font family 'NanumBarunGothic' not found.\n",
      "/home/unsi/anaconda3/envs/forpytorch/lib/python3.12/site-packages/IPython/core/events.py:82: UserWarning: Glyph 48513 (\\N{HANGUL SYLLABLE BUG}) missing from font(s) DejaVu Sans.\n",
      "  func(*args, **kwargs)\n",
      "findfont: Font family 'NanumBarunGothic' not found.\n",
      "findfont: Font family 'NanumBarunGothic' not found.\n",
      "/home/unsi/anaconda3/envs/forpytorch/lib/python3.12/site-packages/IPython/core/events.py:82: UserWarning: Glyph 44305 (\\N{HANGUL SYLLABLE GWANG}) missing from font(s) DejaVu Sans.\n",
      "  func(*args, **kwargs)\n",
      "/home/unsi/anaconda3/envs/forpytorch/lib/python3.12/site-packages/IPython/core/events.py:82: UserWarning: Glyph 51452 (\\N{HANGUL SYLLABLE JU}) missing from font(s) DejaVu Sans.\n",
      "  func(*args, **kwargs)\n",
      "findfont: Font family 'NanumBarunGothic' not found.\n",
      "findfont: Font family 'NanumBarunGothic' not found.\n",
      "/home/unsi/anaconda3/envs/forpytorch/lib/python3.12/site-packages/IPython/core/events.py:82: UserWarning: Glyph 45824 (\\N{HANGUL SYLLABLE DAE}) missing from font(s) DejaVu Sans.\n",
      "  func(*args, **kwargs)\n",
      "/home/unsi/anaconda3/envs/forpytorch/lib/python3.12/site-packages/IPython/core/events.py:82: UserWarning: Glyph 44396 (\\N{HANGUL SYLLABLE GU}) missing from font(s) DejaVu Sans.\n",
      "  func(*args, **kwargs)\n",
      "findfont: Font family 'NanumBarunGothic' not found.\n",
      "findfont: Font family 'NanumBarunGothic' not found.\n",
      "/home/unsi/anaconda3/envs/forpytorch/lib/python3.12/site-packages/IPython/core/events.py:82: UserWarning: Glyph 51204 (\\N{HANGUL SYLLABLE JEON}) missing from font(s) DejaVu Sans.\n",
      "  func(*args, **kwargs)\n",
      "findfont: Font family 'NanumBarunGothic' not found.\n",
      "findfont: Font family 'NanumBarunGothic' not found.\n",
      "/home/unsi/anaconda3/envs/forpytorch/lib/python3.12/site-packages/IPython/core/events.py:82: UserWarning: Glyph 48512 (\\N{HANGUL SYLLABLE BU}) missing from font(s) DejaVu Sans.\n",
      "  func(*args, **kwargs)\n",
      "/home/unsi/anaconda3/envs/forpytorch/lib/python3.12/site-packages/IPython/core/events.py:82: UserWarning: Glyph 49328 (\\N{HANGUL SYLLABLE SAN}) missing from font(s) DejaVu Sans.\n",
      "  func(*args, **kwargs)\n",
      "findfont: Font family 'NanumBarunGothic' not found.\n",
      "findfont: Font family 'NanumBarunGothic' not found.\n",
      "/home/unsi/anaconda3/envs/forpytorch/lib/python3.12/site-packages/IPython/core/events.py:82: UserWarning: Glyph 49464 (\\N{HANGUL SYLLABLE SE}) missing from font(s) DejaVu Sans.\n",
      "  func(*args, **kwargs)\n",
      "/home/unsi/anaconda3/envs/forpytorch/lib/python3.12/site-packages/IPython/core/events.py:82: UserWarning: Glyph 51333 (\\N{HANGUL SYLLABLE JONG}) missing from font(s) DejaVu Sans.\n",
      "  func(*args, **kwargs)\n",
      "findfont: Font family 'NanumBarunGothic' not found.\n",
      "findfont: Font family 'NanumBarunGothic' not found.\n",
      "/home/unsi/anaconda3/envs/forpytorch/lib/python3.12/site-packages/IPython/core/events.py:82: UserWarning: Glyph 50872 (\\N{HANGUL SYLLABLE UL}) missing from font(s) DejaVu Sans.\n",
      "  func(*args, **kwargs)\n",
      "findfont: Font family 'NanumBarunGothic' not found.\n",
      "findfont: Font family 'NanumBarunGothic' not found.\n",
      "/home/unsi/anaconda3/envs/forpytorch/lib/python3.12/site-packages/IPython/core/events.py:82: UserWarning: Glyph 51064 (\\N{HANGUL SYLLABLE IN}) missing from font(s) DejaVu Sans.\n",
      "  func(*args, **kwargs)\n",
      "/home/unsi/anaconda3/envs/forpytorch/lib/python3.12/site-packages/IPython/core/events.py:82: UserWarning: Glyph 52380 (\\N{HANGUL SYLLABLE CEON}) missing from font(s) DejaVu Sans.\n",
      "  func(*args, **kwargs)\n",
      "findfont: Font family 'NanumBarunGothic' not found.\n",
      "findfont: Font family 'NanumBarunGothic' not found.\n",
      "findfont: Font family 'NanumBarunGothic' not found.\n",
      "findfont: Font family 'NanumBarunGothic' not found.\n",
      "findfont: Font family 'NanumBarunGothic' not found.\n",
      "findfont: Font family 'NanumBarunGothic' not found.\n",
      "findfont: Font family 'NanumBarunGothic' not found.\n",
      "findfont: Font family 'NanumBarunGothic' not found.\n",
      "/home/unsi/anaconda3/envs/forpytorch/lib/python3.12/site-packages/IPython/core/events.py:82: UserWarning: Glyph 52649 (\\N{HANGUL SYLLABLE CUNG}) missing from font(s) DejaVu Sans.\n",
      "  func(*args, **kwargs)\n",
      "findfont: Font family 'NanumBarunGothic' not found.\n",
      "findfont: Font family 'NanumBarunGothic' not found.\n",
      "findfont: Font family 'NanumBarunGothic' not found.\n"
     ]
    }
   ],
   "execution_count": 23
  },
  {
   "cell_type": "markdown",
   "metadata": {
    "id": "hk99jB6rmPic"
   },
   "source": [
    "### Agglomerative clustering (Hierarchical) and Dendrogram"
   ]
  },
  {
   "cell_type": "code",
   "metadata": {
    "id": "wtguZVoNmPic",
    "colab": {
     "base_uri": "https://localhost:8080/",
     "height": 277
    },
    "executionInfo": {
     "status": "ok",
     "timestamp": 1698387429105,
     "user_tz": -540,
     "elapsed": 386,
     "user": {
      "displayName": "Yongjin Jeong",
      "userId": "03658406798560557048"
     }
    },
    "outputId": "9d6d16d1-33a0-41ea-c7fb-e63feec1925d",
    "ExecuteTime": {
     "end_time": "2024-11-24T04:51:20.407836Z",
     "start_time": "2024-11-24T04:51:20.369152Z"
    }
   },
   "source": [
    "from scipy.cluster.hierarchy import dendrogram, linkage\n",
    "\n",
    "plt.figure(figsize=(10, 5))\n",
    "link_dist = linkage(df2, metric='euclidean', method='centroid')\n",
    "link_dist"
   ],
   "outputs": [
    {
     "data": {
      "text/plain": [
       "array([[0.00000000e+00, 4.00000000e+00, 7.46490444e+05, 2.00000000e+00],\n",
       "       [3.00000000e+00, 5.00000000e+00, 8.37460840e+05, 2.00000000e+00],\n",
       "       [7.00000000e+00, 1.20000000e+01, 2.08750703e+06, 2.00000000e+00],\n",
       "       [9.00000000e+00, 1.10000000e+01, 2.32242339e+06, 2.00000000e+00],\n",
       "       [6.00000000e+00, 1.50000000e+01, 2.35416537e+06, 3.00000000e+00],\n",
       "       [1.60000000e+01, 1.70000000e+01, 2.81483295e+06, 4.00000000e+00],\n",
       "       [1.40000000e+01, 1.80000000e+01, 3.44294208e+06, 3.00000000e+00],\n",
       "       [1.00000000e+00, 1.00000000e+01, 4.51929196e+06, 2.00000000e+00],\n",
       "       [1.90000000e+01, 2.00000000e+01, 6.06223563e+06, 7.00000000e+00],\n",
       "       [2.10000000e+01, 2.20000000e+01, 6.21282975e+06, 5.00000000e+00],\n",
       "       [2.00000000e+00, 8.00000000e+00, 6.42807846e+06, 2.00000000e+00],\n",
       "       [1.30000000e+01, 2.50000000e+01, 9.12465562e+06, 3.00000000e+00],\n",
       "       [2.30000000e+01, 2.40000000e+01, 1.25088770e+07, 1.20000000e+01],\n",
       "       [2.60000000e+01, 2.70000000e+01, 2.21152298e+07, 1.50000000e+01]])"
      ]
     },
     "execution_count": 24,
     "metadata": {},
     "output_type": "execute_result"
    }
   ],
   "execution_count": 24
  },
  {
   "cell_type": "code",
   "metadata": {
    "colab": {
     "base_uri": "https://localhost:8080/",
     "height": 448
    },
    "id": "V3uI_cqxnETP",
    "executionInfo": {
     "status": "ok",
     "timestamp": 1698387429811,
     "user_tz": -540,
     "elapsed": 12,
     "user": {
      "displayName": "Yongjin Jeong",
      "userId": "03658406798560557048"
     }
    },
    "outputId": "421a8ca2-d489-41c6-acf1-6a577699b630",
    "ExecuteTime": {
     "end_time": "2024-11-24T04:51:21.045339Z",
     "start_time": "2024-11-24T04:51:20.408288Z"
    }
   },
   "source": [
    "# method = ward, median, centroid, average, weightd, complete, single\n",
    "dendrogram(link_dist, labels=list(df2.index))\n",
    "plt.show()"
   ],
   "outputs": [
    {
     "name": "stderr",
     "output_type": "stream",
     "text": [
      "findfont: Font family 'NanumBarunGothic' not found.\n",
      "findfont: Font family 'NanumBarunGothic' not found.\n",
      "findfont: Font family 'NanumBarunGothic' not found.\n",
      "findfont: Font family 'NanumBarunGothic' not found.\n",
      "findfont: Font family 'NanumBarunGothic' not found.\n",
      "findfont: Font family 'NanumBarunGothic' not found.\n",
      "findfont: Font family 'NanumBarunGothic' not found.\n",
      "findfont: Font family 'NanumBarunGothic' not found.\n",
      "findfont: Font family 'NanumBarunGothic' not found.\n",
      "/home/unsi/anaconda3/envs/forpytorch/lib/python3.12/site-packages/IPython/core/pylabtools.py:170: UserWarning: Glyph 44053 (\\N{HANGUL SYLLABLE GANG}) missing from font(s) DejaVu Sans.\n",
      "  fig.canvas.print_figure(bytes_io, **kw)\n",
      "/home/unsi/anaconda3/envs/forpytorch/lib/python3.12/site-packages/IPython/core/pylabtools.py:170: UserWarning: Glyph 50896 (\\N{HANGUL SYLLABLE WEON}) missing from font(s) DejaVu Sans.\n",
      "  fig.canvas.print_figure(bytes_io, **kw)\n",
      "findfont: Font family 'NanumBarunGothic' not found.\n",
      "/home/unsi/anaconda3/envs/forpytorch/lib/python3.12/site-packages/IPython/core/pylabtools.py:170: UserWarning: Glyph 44221 (\\N{HANGUL SYLLABLE GYEONG}) missing from font(s) DejaVu Sans.\n",
      "  fig.canvas.print_figure(bytes_io, **kw)\n",
      "/home/unsi/anaconda3/envs/forpytorch/lib/python3.12/site-packages/IPython/core/pylabtools.py:170: UserWarning: Glyph 44592 (\\N{HANGUL SYLLABLE GI}) missing from font(s) DejaVu Sans.\n",
      "  fig.canvas.print_figure(bytes_io, **kw)\n",
      "findfont: Font family 'NanumBarunGothic' not found.\n",
      "/home/unsi/anaconda3/envs/forpytorch/lib/python3.12/site-packages/IPython/core/pylabtools.py:170: UserWarning: Glyph 45224 (\\N{HANGUL SYLLABLE NAM}) missing from font(s) DejaVu Sans.\n",
      "  fig.canvas.print_figure(bytes_io, **kw)\n",
      "findfont: Font family 'NanumBarunGothic' not found.\n",
      "/home/unsi/anaconda3/envs/forpytorch/lib/python3.12/site-packages/IPython/core/pylabtools.py:170: UserWarning: Glyph 48513 (\\N{HANGUL SYLLABLE BUG}) missing from font(s) DejaVu Sans.\n",
      "  fig.canvas.print_figure(bytes_io, **kw)\n",
      "findfont: Font family 'NanumBarunGothic' not found.\n",
      "/home/unsi/anaconda3/envs/forpytorch/lib/python3.12/site-packages/IPython/core/pylabtools.py:170: UserWarning: Glyph 44305 (\\N{HANGUL SYLLABLE GWANG}) missing from font(s) DejaVu Sans.\n",
      "  fig.canvas.print_figure(bytes_io, **kw)\n",
      "/home/unsi/anaconda3/envs/forpytorch/lib/python3.12/site-packages/IPython/core/pylabtools.py:170: UserWarning: Glyph 51452 (\\N{HANGUL SYLLABLE JU}) missing from font(s) DejaVu Sans.\n",
      "  fig.canvas.print_figure(bytes_io, **kw)\n",
      "findfont: Font family 'NanumBarunGothic' not found.\n",
      "/home/unsi/anaconda3/envs/forpytorch/lib/python3.12/site-packages/IPython/core/pylabtools.py:170: UserWarning: Glyph 45824 (\\N{HANGUL SYLLABLE DAE}) missing from font(s) DejaVu Sans.\n",
      "  fig.canvas.print_figure(bytes_io, **kw)\n",
      "/home/unsi/anaconda3/envs/forpytorch/lib/python3.12/site-packages/IPython/core/pylabtools.py:170: UserWarning: Glyph 44396 (\\N{HANGUL SYLLABLE GU}) missing from font(s) DejaVu Sans.\n",
      "  fig.canvas.print_figure(bytes_io, **kw)\n",
      "findfont: Font family 'NanumBarunGothic' not found.\n",
      "/home/unsi/anaconda3/envs/forpytorch/lib/python3.12/site-packages/IPython/core/pylabtools.py:170: UserWarning: Glyph 51204 (\\N{HANGUL SYLLABLE JEON}) missing from font(s) DejaVu Sans.\n",
      "  fig.canvas.print_figure(bytes_io, **kw)\n",
      "findfont: Font family 'NanumBarunGothic' not found.\n",
      "/home/unsi/anaconda3/envs/forpytorch/lib/python3.12/site-packages/IPython/core/pylabtools.py:170: UserWarning: Glyph 48512 (\\N{HANGUL SYLLABLE BU}) missing from font(s) DejaVu Sans.\n",
      "  fig.canvas.print_figure(bytes_io, **kw)\n",
      "/home/unsi/anaconda3/envs/forpytorch/lib/python3.12/site-packages/IPython/core/pylabtools.py:170: UserWarning: Glyph 49328 (\\N{HANGUL SYLLABLE SAN}) missing from font(s) DejaVu Sans.\n",
      "  fig.canvas.print_figure(bytes_io, **kw)\n",
      "findfont: Font family 'NanumBarunGothic' not found.\n",
      "/home/unsi/anaconda3/envs/forpytorch/lib/python3.12/site-packages/IPython/core/pylabtools.py:170: UserWarning: Glyph 49436 (\\N{HANGUL SYLLABLE SEO}) missing from font(s) DejaVu Sans.\n",
      "  fig.canvas.print_figure(bytes_io, **kw)\n",
      "/home/unsi/anaconda3/envs/forpytorch/lib/python3.12/site-packages/IPython/core/pylabtools.py:170: UserWarning: Glyph 50872 (\\N{HANGUL SYLLABLE UL}) missing from font(s) DejaVu Sans.\n",
      "  fig.canvas.print_figure(bytes_io, **kw)\n",
      "findfont: Font family 'NanumBarunGothic' not found.\n",
      "/home/unsi/anaconda3/envs/forpytorch/lib/python3.12/site-packages/IPython/core/pylabtools.py:170: UserWarning: Glyph 49464 (\\N{HANGUL SYLLABLE SE}) missing from font(s) DejaVu Sans.\n",
      "  fig.canvas.print_figure(bytes_io, **kw)\n",
      "/home/unsi/anaconda3/envs/forpytorch/lib/python3.12/site-packages/IPython/core/pylabtools.py:170: UserWarning: Glyph 51333 (\\N{HANGUL SYLLABLE JONG}) missing from font(s) DejaVu Sans.\n",
      "  fig.canvas.print_figure(bytes_io, **kw)\n",
      "findfont: Font family 'NanumBarunGothic' not found.\n",
      "findfont: Font family 'NanumBarunGothic' not found.\n",
      "/home/unsi/anaconda3/envs/forpytorch/lib/python3.12/site-packages/IPython/core/pylabtools.py:170: UserWarning: Glyph 51064 (\\N{HANGUL SYLLABLE IN}) missing from font(s) DejaVu Sans.\n",
      "  fig.canvas.print_figure(bytes_io, **kw)\n",
      "/home/unsi/anaconda3/envs/forpytorch/lib/python3.12/site-packages/IPython/core/pylabtools.py:170: UserWarning: Glyph 52380 (\\N{HANGUL SYLLABLE CEON}) missing from font(s) DejaVu Sans.\n",
      "  fig.canvas.print_figure(bytes_io, **kw)\n",
      "findfont: Font family 'NanumBarunGothic' not found.\n",
      "findfont: Font family 'NanumBarunGothic' not found.\n",
      "findfont: Font family 'NanumBarunGothic' not found.\n",
      "/home/unsi/anaconda3/envs/forpytorch/lib/python3.12/site-packages/IPython/core/pylabtools.py:170: UserWarning: Glyph 51228 (\\N{HANGUL SYLLABLE JE}) missing from font(s) DejaVu Sans.\n",
      "  fig.canvas.print_figure(bytes_io, **kw)\n",
      "findfont: Font family 'NanumBarunGothic' not found.\n",
      "/home/unsi/anaconda3/envs/forpytorch/lib/python3.12/site-packages/IPython/core/pylabtools.py:170: UserWarning: Glyph 52649 (\\N{HANGUL SYLLABLE CUNG}) missing from font(s) DejaVu Sans.\n",
      "  fig.canvas.print_figure(bytes_io, **kw)\n",
      "findfont: Font family 'NanumBarunGothic' not found.\n",
      "findfont: Font family 'NanumBarunGothic' not found.\n",
      "/home/unsi/anaconda3/envs/forpytorch/lib/python3.12/site-packages/IPython/core/pylabtools.py:170: UserWarning: Glyph 48516 (\\N{HANGUL SYLLABLE BUN}) missing from font(s) DejaVu Sans.\n",
      "  fig.canvas.print_figure(bytes_io, **kw)\n",
      "findfont: Font family 'NanumBarunGothic' not found.\n",
      "findfont: Font family 'NanumBarunGothic' not found.\n",
      "/home/unsi/anaconda3/envs/forpytorch/lib/python3.12/site-packages/IPython/core/pylabtools.py:170: UserWarning: Glyph 44144 (\\N{HANGUL SYLLABLE GEO}) missing from font(s) DejaVu Sans.\n",
      "  fig.canvas.print_figure(bytes_io, **kw)\n",
      "/home/unsi/anaconda3/envs/forpytorch/lib/python3.12/site-packages/IPython/core/pylabtools.py:170: UserWarning: Glyph 50857 (\\N{HANGUL SYLLABLE YONG}) missing from font(s) DejaVu Sans.\n",
      "  fig.canvas.print_figure(bytes_io, **kw)\n",
      "findfont: Font family 'NanumBarunGothic' not found.\n",
      "findfont: Font family 'NanumBarunGothic' not found.\n",
      "/home/unsi/anaconda3/envs/forpytorch/lib/python3.12/site-packages/IPython/core/pylabtools.py:170: UserWarning: Glyph 44277 (\\N{HANGUL SYLLABLE GONG}) missing from font(s) DejaVu Sans.\n",
      "  fig.canvas.print_figure(bytes_io, **kw)\n",
      "findfont: Font family 'NanumBarunGothic' not found.\n",
      "findfont: Font family 'NanumBarunGothic' not found.\n",
      "/home/unsi/anaconda3/envs/forpytorch/lib/python3.12/site-packages/IPython/core/pylabtools.py:170: UserWarning: Glyph 48708 (\\N{HANGUL SYLLABLE BI}) missing from font(s) DejaVu Sans.\n",
      "  fig.canvas.print_figure(bytes_io, **kw)\n",
      "/home/unsi/anaconda3/envs/forpytorch/lib/python3.12/site-packages/IPython/core/pylabtools.py:170: UserWarning: Glyph 49828 (\\N{HANGUL SYLLABLE SEU}) missing from font(s) DejaVu Sans.\n",
      "  fig.canvas.print_figure(bytes_io, **kw)\n",
      "/home/unsi/anaconda3/envs/forpytorch/lib/python3.12/site-packages/IPython/core/pylabtools.py:170: UserWarning: Glyph 50629 (\\N{HANGUL SYLLABLE EOB}) missing from font(s) DejaVu Sans.\n",
      "  fig.canvas.print_figure(bytes_io, **kw)\n",
      "findfont: Font family 'NanumBarunGothic' not found.\n",
      "findfont: Font family 'NanumBarunGothic' not found.\n",
      "/home/unsi/anaconda3/envs/forpytorch/lib/python3.12/site-packages/IPython/core/pylabtools.py:170: UserWarning: Glyph 47924 (\\N{HANGUL SYLLABLE MU}) missing from font(s) DejaVu Sans.\n",
      "  fig.canvas.print_figure(bytes_io, **kw)\n",
      "/home/unsi/anaconda3/envs/forpytorch/lib/python3.12/site-packages/IPython/core/pylabtools.py:170: UserWarning: Glyph 54633 (\\N{HANGUL SYLLABLE HAB}) missing from font(s) DejaVu Sans.\n",
      "  fig.canvas.print_figure(bytes_io, **kw)\n",
      "/home/unsi/anaconda3/envs/forpytorch/lib/python3.12/site-packages/IPython/core/pylabtools.py:170: UserWarning: Glyph 44228 (\\N{HANGUL SYLLABLE GYE}) missing from font(s) DejaVu Sans.\n",
      "  fig.canvas.print_figure(bytes_io, **kw)\n",
      "findfont: Font family 'NanumBarunGothic' not found.\n",
      "findfont: Font family 'NanumBarunGothic' not found.\n",
      "/home/unsi/anaconda3/envs/forpytorch/lib/python3.12/site-packages/IPython/core/pylabtools.py:170: UserWarning: Glyph 45453 (\\N{HANGUL SYLLABLE NONG}) missing from font(s) DejaVu Sans.\n",
      "  fig.canvas.print_figure(bytes_io, **kw)\n",
      "/home/unsi/anaconda3/envs/forpytorch/lib/python3.12/site-packages/IPython/core/pylabtools.py:170: UserWarning: Glyph 47548 (\\N{HANGUL SYLLABLE RIM}) missing from font(s) DejaVu Sans.\n",
      "  fig.canvas.print_figure(bytes_io, **kw)\n",
      "/home/unsi/anaconda3/envs/forpytorch/lib/python3.12/site-packages/IPython/core/pylabtools.py:170: UserWarning: Glyph 50612 (\\N{HANGUL SYLLABLE EO}) missing from font(s) DejaVu Sans.\n",
      "  fig.canvas.print_figure(bytes_io, **kw)\n",
      "findfont: Font family 'NanumBarunGothic' not found.\n",
      "findfont: Font family 'NanumBarunGothic' not found.\n",
      "findfont: Font family 'NanumBarunGothic' not found.\n",
      "findfont: Font family 'NanumBarunGothic' not found.\n",
      "/home/unsi/anaconda3/envs/forpytorch/lib/python3.12/site-packages/IPython/core/pylabtools.py:170: UserWarning: Glyph 51312 (\\N{HANGUL SYLLABLE JO}) missing from font(s) DejaVu Sans.\n",
      "  fig.canvas.print_figure(bytes_io, **kw)\n",
      "findfont: Font family 'NanumBarunGothic' not found.\n",
      "findfont: Font family 'NanumBarunGothic' not found.\n",
      "/home/unsi/anaconda3/envs/forpytorch/lib/python3.12/site-packages/IPython/core/pylabtools.py:170: UserWarning: Glyph 49885 (\\N{HANGUL SYLLABLE SIG}) missing from font(s) DejaVu Sans.\n",
      "  fig.canvas.print_figure(bytes_io, **kw)\n",
      "/home/unsi/anaconda3/envs/forpytorch/lib/python3.12/site-packages/IPython/core/pylabtools.py:170: UserWarning: Glyph 47308 (\\N{HANGUL SYLLABLE RYO}) missing from font(s) DejaVu Sans.\n",
      "  fig.canvas.print_figure(bytes_io, **kw)\n",
      "/home/unsi/anaconda3/envs/forpytorch/lib/python3.12/site-packages/IPython/core/pylabtools.py:170: UserWarning: Glyph 54408 (\\N{HANGUL SYLLABLE PUM}) missing from font(s) DejaVu Sans.\n",
      "  fig.canvas.print_figure(bytes_io, **kw)\n",
      "findfont: Font family 'NanumBarunGothic' not found.\n",
      "findfont: Font family 'NanumBarunGothic' not found.\n",
      "/home/unsi/anaconda3/envs/forpytorch/lib/python3.12/site-packages/IPython/core/pylabtools.py:170: UserWarning: Glyph 49452 (\\N{HANGUL SYLLABLE SEOM}) missing from font(s) DejaVu Sans.\n",
      "  fig.canvas.print_figure(bytes_io, **kw)\n",
      "/home/unsi/anaconda3/envs/forpytorch/lib/python3.12/site-packages/IPython/core/pylabtools.py:170: UserWarning: Glyph 50976 (\\N{HANGUL SYLLABLE YU}) missing from font(s) DejaVu Sans.\n",
      "  fig.canvas.print_figure(bytes_io, **kw)\n",
      "/home/unsi/anaconda3/envs/forpytorch/lib/python3.12/site-packages/IPython/core/pylabtools.py:170: UserWarning: Glyph 51032 (\\N{HANGUL SYLLABLE YI}) missing from font(s) DejaVu Sans.\n",
      "  fig.canvas.print_figure(bytes_io, **kw)\n",
      "/home/unsi/anaconda3/envs/forpytorch/lib/python3.12/site-packages/IPython/core/pylabtools.py:170: UserWarning: Glyph 47448 (\\N{HANGUL SYLLABLE RYU}) missing from font(s) DejaVu Sans.\n",
      "  fig.canvas.print_figure(bytes_io, **kw)\n",
      "findfont: Font family 'NanumBarunGothic' not found.\n",
      "findfont: Font family 'NanumBarunGothic' not found.\n",
      "/home/unsi/anaconda3/envs/forpytorch/lib/python3.12/site-packages/IPython/core/pylabtools.py:170: UserWarning: Glyph 47785 (\\N{HANGUL SYLLABLE MOG}) missing from font(s) DejaVu Sans.\n",
      "  fig.canvas.print_figure(bytes_io, **kw)\n",
      "/home/unsi/anaconda3/envs/forpytorch/lib/python3.12/site-packages/IPython/core/pylabtools.py:170: UserWarning: Glyph 51116 (\\N{HANGUL SYLLABLE JAE}) missing from font(s) DejaVu Sans.\n",
      "  fig.canvas.print_figure(bytes_io, **kw)\n",
      "/home/unsi/anaconda3/envs/forpytorch/lib/python3.12/site-packages/IPython/core/pylabtools.py:170: UserWarning: Glyph 45208 (\\N{HANGUL SYLLABLE NA}) missing from font(s) DejaVu Sans.\n",
      "  fig.canvas.print_figure(bytes_io, **kw)\n",
      "findfont: Font family 'NanumBarunGothic' not found.\n",
      "findfont: Font family 'NanumBarunGothic' not found.\n",
      "/home/unsi/anaconda3/envs/forpytorch/lib/python3.12/site-packages/IPython/core/pylabtools.py:170: UserWarning: Glyph 54148 (\\N{HANGUL SYLLABLE PEOL}) missing from font(s) DejaVu Sans.\n",
      "  fig.canvas.print_figure(bytes_io, **kw)\n",
      "/home/unsi/anaconda3/envs/forpytorch/lib/python3.12/site-packages/IPython/core/pylabtools.py:170: UserWarning: Glyph 54532 (\\N{HANGUL SYLLABLE PEU}) missing from font(s) DejaVu Sans.\n",
      "  fig.canvas.print_figure(bytes_io, **kw)\n",
      "/home/unsi/anaconda3/envs/forpytorch/lib/python3.12/site-packages/IPython/core/pylabtools.py:170: UserWarning: Glyph 51060 (\\N{HANGUL SYLLABLE I}) missing from font(s) DejaVu Sans.\n",
      "  fig.canvas.print_figure(bytes_io, **kw)\n",
      "findfont: Font family 'NanumBarunGothic' not found.\n",
      "findfont: Font family 'NanumBarunGothic' not found.\n",
      "/home/unsi/anaconda3/envs/forpytorch/lib/python3.12/site-packages/IPython/core/pylabtools.py:170: UserWarning: Glyph 52636 (\\N{HANGUL SYLLABLE CUL}) missing from font(s) DejaVu Sans.\n",
      "  fig.canvas.print_figure(bytes_io, **kw)\n",
      "/home/unsi/anaconda3/envs/forpytorch/lib/python3.12/site-packages/IPython/core/pylabtools.py:170: UserWarning: Glyph 54032 (\\N{HANGUL SYLLABLE PAN}) missing from font(s) DejaVu Sans.\n",
      "  fig.canvas.print_figure(bytes_io, **kw)\n",
      "/home/unsi/anaconda3/envs/forpytorch/lib/python3.12/site-packages/IPython/core/pylabtools.py:170: UserWarning: Glyph 49604 (\\N{HANGUL SYLLABLE SWAE}) missing from font(s) DejaVu Sans.\n",
      "  fig.canvas.print_figure(bytes_io, **kw)\n",
      "findfont: Font family 'NanumBarunGothic' not found.\n",
      "findfont: Font family 'NanumBarunGothic' not found.\n",
      "/home/unsi/anaconda3/envs/forpytorch/lib/python3.12/site-packages/IPython/core/pylabtools.py:170: UserWarning: Glyph 49437 (\\N{HANGUL SYLLABLE SEOG}) missing from font(s) DejaVu Sans.\n",
      "  fig.canvas.print_figure(bytes_io, **kw)\n",
      "/home/unsi/anaconda3/envs/forpytorch/lib/python3.12/site-packages/IPython/core/pylabtools.py:170: UserWarning: Glyph 54868 (\\N{HANGUL SYLLABLE HWA}) missing from font(s) DejaVu Sans.\n",
      "  fig.canvas.print_figure(bytes_io, **kw)\n",
      "/home/unsi/anaconda3/envs/forpytorch/lib/python3.12/site-packages/IPython/core/pylabtools.py:170: UserWarning: Glyph 54869 (\\N{HANGUL SYLLABLE HWAG}) missing from font(s) DejaVu Sans.\n",
      "  fig.canvas.print_figure(bytes_io, **kw)\n",
      "findfont: Font family 'NanumBarunGothic' not found.\n",
      "findfont: Font family 'NanumBarunGothic' not found.\n",
      "/home/unsi/anaconda3/envs/forpytorch/lib/python3.12/site-packages/IPython/core/pylabtools.py:170: UserWarning: Glyph 54617 (\\N{HANGUL SYLLABLE HAG}) missing from font(s) DejaVu Sans.\n",
      "  fig.canvas.print_figure(bytes_io, **kw)\n",
      "findfont: Font family 'NanumBarunGothic' not found.\n",
      "findfont: Font family 'NanumBarunGothic' not found.\n",
      "/home/unsi/anaconda3/envs/forpytorch/lib/python3.12/site-packages/IPython/core/pylabtools.py:170: UserWarning: Glyph 50836 (\\N{HANGUL SYLLABLE YO}) missing from font(s) DejaVu Sans.\n",
      "  fig.canvas.print_figure(bytes_io, **kw)\n",
      "findfont: Font family 'NanumBarunGothic' not found.\n",
      "findfont: Font family 'NanumBarunGothic' not found.\n",
      "/home/unsi/anaconda3/envs/forpytorch/lib/python3.12/site-packages/IPython/core/pylabtools.py:170: UserWarning: Glyph 52264 (\\N{HANGUL SYLLABLE CA}) missing from font(s) DejaVu Sans.\n",
      "  fig.canvas.print_figure(bytes_io, **kw)\n",
      "/home/unsi/anaconda3/envs/forpytorch/lib/python3.12/site-packages/IPython/core/pylabtools.py:170: UserWarning: Glyph 44552 (\\N{HANGUL SYLLABLE GEUM}) missing from font(s) DejaVu Sans.\n",
      "  fig.canvas.print_figure(bytes_io, **kw)\n",
      "/home/unsi/anaconda3/envs/forpytorch/lib/python3.12/site-packages/IPython/core/pylabtools.py:170: UserWarning: Glyph 49549 (\\N{HANGUL SYLLABLE SOG}) missing from font(s) DejaVu Sans.\n",
      "  fig.canvas.print_figure(bytes_io, **kw)\n",
      "findfont: Font family 'NanumBarunGothic' not found.\n",
      "findfont: Font family 'NanumBarunGothic' not found.\n",
      "/home/unsi/anaconda3/envs/forpytorch/lib/python3.12/site-packages/IPython/core/pylabtools.py:170: UserWarning: Glyph 47549 (\\N{HANGUL SYLLABLE RIB}) missing from font(s) DejaVu Sans.\n",
      "  fig.canvas.print_figure(bytes_io, **kw)\n",
      "findfont: Font family 'NanumBarunGothic' not found.\n",
      "findfont: Font family 'NanumBarunGothic' not found.\n",
      "/home/unsi/anaconda3/envs/forpytorch/lib/python3.12/site-packages/IPython/core/pylabtools.py:170: UserWarning: Glyph 53440 (\\N{HANGUL SYLLABLE TA}) missing from font(s) DejaVu Sans.\n",
      "  fig.canvas.print_figure(bytes_io, **kw)\n",
      "findfont: Font family 'NanumBarunGothic' not found.\n",
      "findfont: Font family 'NanumBarunGothic' not found.\n",
      "/home/unsi/anaconda3/envs/forpytorch/lib/python3.12/site-packages/IPython/core/pylabtools.py:170: UserWarning: Glyph 49324 (\\N{HANGUL SYLLABLE SA}) missing from font(s) DejaVu Sans.\n",
      "  fig.canvas.print_figure(bytes_io, **kw)\n",
      "findfont: Font family 'NanumBarunGothic' not found.\n",
      "findfont: Font family 'NanumBarunGothic' not found.\n",
      "findfont: Font family 'NanumBarunGothic' not found.\n",
      "findfont: Font family 'NanumBarunGothic' not found.\n",
      "/home/unsi/anaconda3/envs/forpytorch/lib/python3.12/site-packages/IPython/core/pylabtools.py:170: UserWarning: Glyph 50689 (\\N{HANGUL SYLLABLE YEONG}) missing from font(s) DejaVu Sans.\n",
      "  fig.canvas.print_figure(bytes_io, **kw)\n",
      "/home/unsi/anaconda3/envs/forpytorch/lib/python3.12/site-packages/IPython/core/pylabtools.py:170: UserWarning: Glyph 49345 (\\N{HANGUL SYLLABLE SANG}) missing from font(s) DejaVu Sans.\n",
      "  fig.canvas.print_figure(bytes_io, **kw)\n",
      "/home/unsi/anaconda3/envs/forpytorch/lib/python3.12/site-packages/IPython/core/pylabtools.py:170: UserWarning: Glyph 51020 (\\N{HANGUL SYLLABLE EUM}) missing from font(s) DejaVu Sans.\n",
      "  fig.canvas.print_figure(bytes_io, **kw)\n",
      "/home/unsi/anaconda3/envs/forpytorch/lib/python3.12/site-packages/IPython/core/pylabtools.py:170: UserWarning: Glyph 54693 (\\N{HANGUL SYLLABLE HYANG}) missing from font(s) DejaVu Sans.\n",
      "  fig.canvas.print_figure(bytes_io, **kw)\n",
      "findfont: Font family 'NanumBarunGothic' not found.\n",
      "findfont: Font family 'NanumBarunGothic' not found.\n",
      "/home/unsi/anaconda3/envs/forpytorch/lib/python3.12/site-packages/IPython/core/pylabtools.py:170: UserWarning: Glyph 51088 (\\N{HANGUL SYLLABLE JA}) missing from font(s) DejaVu Sans.\n",
      "  fig.canvas.print_figure(bytes_io, **kw)\n",
      "/home/unsi/anaconda3/envs/forpytorch/lib/python3.12/site-packages/IPython/core/pylabtools.py:170: UserWarning: Glyph 46041 (\\N{HANGUL SYLLABLE DONG}) missing from font(s) DejaVu Sans.\n",
      "  fig.canvas.print_figure(bytes_io, **kw)\n",
      "findfont: Font family 'NanumBarunGothic' not found.\n",
      "findfont: Font family 'NanumBarunGothic' not found.\n",
      "/home/unsi/anaconda3/envs/forpytorch/lib/python3.12/site-packages/IPython/core/pylabtools.py:170: UserWarning: Glyph 50868 (\\N{HANGUL SYLLABLE UN}) missing from font(s) DejaVu Sans.\n",
      "  fig.canvas.print_figure(bytes_io, **kw)\n",
      "/home/unsi/anaconda3/envs/forpytorch/lib/python3.12/site-packages/IPython/core/pylabtools.py:170: UserWarning: Glyph 49569 (\\N{HANGUL SYLLABLE SONG}) missing from font(s) DejaVu Sans.\n",
      "  fig.canvas.print_figure(bytes_io, **kw)\n",
      "findfont: Font family 'NanumBarunGothic' not found.\n",
      "findfont: Font family 'NanumBarunGothic' not found.\n",
      "/home/unsi/anaconda3/envs/forpytorch/lib/python3.12/site-packages/IPython/core/pylabtools.py:170: UserWarning: Glyph 44032 (\\N{HANGUL SYLLABLE GA}) missing from font(s) DejaVu Sans.\n",
      "  fig.canvas.print_figure(bytes_io, **kw)\n",
      "/home/unsi/anaconda3/envs/forpytorch/lib/python3.12/site-packages/IPython/core/pylabtools.py:170: UserWarning: Glyph 48143 (\\N{HANGUL SYLLABLE MIC}) missing from font(s) DejaVu Sans.\n",
      "  fig.canvas.print_figure(bytes_io, **kw)\n",
      "findfont: Font family 'NanumBarunGothic' not found.\n",
      "findfont: Font family 'NanumBarunGothic' not found.\n",
      "/home/unsi/anaconda3/envs/forpytorch/lib/python3.12/site-packages/IPython/core/pylabtools.py:170: UserWarning: Glyph 49373 (\\N{HANGUL SYLLABLE SAENG}) missing from font(s) DejaVu Sans.\n",
      "  fig.canvas.print_figure(bytes_io, **kw)\n",
      "findfont: Font family 'NanumBarunGothic' not found.\n",
      "findfont: Font family 'NanumBarunGothic' not found.\n",
      "findfont: Font family 'NanumBarunGothic' not found.\n",
      "findfont: Font family 'NanumBarunGothic' not found.\n",
      "findfont: Font family 'NanumBarunGothic' not found.\n",
      "findfont: Font family 'NanumBarunGothic' not found.\n",
      "findfont: Font family 'NanumBarunGothic' not found.\n",
      "findfont: Font family 'NanumBarunGothic' not found.\n",
      "findfont: Font family 'NanumBarunGothic' not found.\n",
      "findfont: Font family 'NanumBarunGothic' not found.\n",
      "findfont: Font family 'NanumBarunGothic' not found.\n",
      "findfont: Font family 'NanumBarunGothic' not found.\n",
      "findfont: Font family 'NanumBarunGothic' not found.\n",
      "findfont: Font family 'NanumBarunGothic' not found.\n",
      "findfont: Font family 'NanumBarunGothic' not found.\n",
      "findfont: Font family 'NanumBarunGothic' not found.\n",
      "findfont: Font family 'NanumBarunGothic' not found.\n",
      "findfont: Font family 'NanumBarunGothic' not found.\n",
      "findfont: Font family 'NanumBarunGothic' not found.\n",
      "findfont: Font family 'NanumBarunGothic' not found.\n",
      "findfont: Font family 'NanumBarunGothic' not found.\n",
      "findfont: Font family 'NanumBarunGothic' not found.\n",
      "findfont: Font family 'NanumBarunGothic' not found.\n",
      "findfont: Font family 'NanumBarunGothic' not found.\n",
      "findfont: Font family 'NanumBarunGothic' not found.\n",
      "findfont: Font family 'NanumBarunGothic' not found.\n",
      "findfont: Font family 'NanumBarunGothic' not found.\n",
      "findfont: Font family 'NanumBarunGothic' not found.\n",
      "findfont: Font family 'NanumBarunGothic' not found.\n",
      "findfont: Font family 'NanumBarunGothic' not found.\n",
      "findfont: Font family 'NanumBarunGothic' not found.\n",
      "findfont: Font family 'NanumBarunGothic' not found.\n",
      "findfont: Font family 'NanumBarunGothic' not found.\n",
      "findfont: Font family 'NanumBarunGothic' not found.\n",
      "findfont: Font family 'NanumBarunGothic' not found.\n",
      "findfont: Font family 'NanumBarunGothic' not found.\n",
      "findfont: Font family 'NanumBarunGothic' not found.\n",
      "findfont: Font family 'NanumBarunGothic' not found.\n",
      "findfont: Font family 'NanumBarunGothic' not found.\n",
      "findfont: Font family 'NanumBarunGothic' not found.\n",
      "findfont: Font family 'NanumBarunGothic' not found.\n",
      "findfont: Font family 'NanumBarunGothic' not found.\n",
      "findfont: Font family 'NanumBarunGothic' not found.\n",
      "findfont: Font family 'NanumBarunGothic' not found.\n",
      "findfont: Font family 'NanumBarunGothic' not found.\n",
      "findfont: Font family 'NanumBarunGothic' not found.\n",
      "findfont: Font family 'NanumBarunGothic' not found.\n",
      "findfont: Font family 'NanumBarunGothic' not found.\n",
      "findfont: Font family 'NanumBarunGothic' not found.\n",
      "findfont: Font family 'NanumBarunGothic' not found.\n",
      "findfont: Font family 'NanumBarunGothic' not found.\n",
      "findfont: Font family 'NanumBarunGothic' not found.\n",
      "findfont: Font family 'NanumBarunGothic' not found.\n",
      "findfont: Font family 'NanumBarunGothic' not found.\n",
      "findfont: Font family 'NanumBarunGothic' not found.\n",
      "findfont: Font family 'NanumBarunGothic' not found.\n",
      "findfont: Font family 'NanumBarunGothic' not found.\n",
      "findfont: Font family 'NanumBarunGothic' not found.\n",
      "findfont: Font family 'NanumBarunGothic' not found.\n",
      "findfont: Font family 'NanumBarunGothic' not found.\n",
      "findfont: Font family 'NanumBarunGothic' not found.\n",
      "findfont: Font family 'NanumBarunGothic' not found.\n",
      "findfont: Font family 'NanumBarunGothic' not found.\n",
      "findfont: Font family 'NanumBarunGothic' not found.\n",
      "findfont: Font family 'NanumBarunGothic' not found.\n",
      "findfont: Font family 'NanumBarunGothic' not found.\n",
      "findfont: Font family 'NanumBarunGothic' not found.\n",
      "findfont: Font family 'NanumBarunGothic' not found.\n",
      "findfont: Font family 'NanumBarunGothic' not found.\n",
      "findfont: Font family 'NanumBarunGothic' not found.\n",
      "findfont: Font family 'NanumBarunGothic' not found.\n",
      "findfont: Font family 'NanumBarunGothic' not found.\n",
      "findfont: Font family 'NanumBarunGothic' not found.\n",
      "findfont: Font family 'NanumBarunGothic' not found.\n",
      "findfont: Font family 'NanumBarunGothic' not found.\n",
      "findfont: Font family 'NanumBarunGothic' not found.\n",
      "findfont: Font family 'NanumBarunGothic' not found.\n",
      "findfont: Font family 'NanumBarunGothic' not found.\n",
      "findfont: Font family 'NanumBarunGothic' not found.\n",
      "findfont: Font family 'NanumBarunGothic' not found.\n",
      "findfont: Font family 'NanumBarunGothic' not found.\n",
      "findfont: Font family 'NanumBarunGothic' not found.\n",
      "findfont: Font family 'NanumBarunGothic' not found.\n",
      "findfont: Font family 'NanumBarunGothic' not found.\n",
      "findfont: Font family 'NanumBarunGothic' not found.\n",
      "findfont: Font family 'NanumBarunGothic' not found.\n",
      "findfont: Font family 'NanumBarunGothic' not found.\n",
      "findfont: Font family 'NanumBarunGothic' not found.\n",
      "findfont: Font family 'NanumBarunGothic' not found.\n",
      "findfont: Font family 'NanumBarunGothic' not found.\n",
      "findfont: Font family 'NanumBarunGothic' not found.\n",
      "findfont: Font family 'NanumBarunGothic' not found.\n",
      "findfont: Font family 'NanumBarunGothic' not found.\n",
      "findfont: Font family 'NanumBarunGothic' not found.\n",
      "findfont: Font family 'NanumBarunGothic' not found.\n",
      "findfont: Font family 'NanumBarunGothic' not found.\n",
      "findfont: Font family 'NanumBarunGothic' not found.\n",
      "findfont: Font family 'NanumBarunGothic' not found.\n",
      "findfont: Font family 'NanumBarunGothic' not found.\n",
      "findfont: Font family 'NanumBarunGothic' not found.\n",
      "findfont: Font family 'NanumBarunGothic' not found.\n",
      "findfont: Font family 'NanumBarunGothic' not found.\n",
      "findfont: Font family 'NanumBarunGothic' not found.\n",
      "findfont: Font family 'NanumBarunGothic' not found.\n",
      "findfont: Font family 'NanumBarunGothic' not found.\n",
      "findfont: Font family 'NanumBarunGothic' not found.\n",
      "findfont: Font family 'NanumBarunGothic' not found.\n",
      "findfont: Font family 'NanumBarunGothic' not found.\n",
      "findfont: Font family 'NanumBarunGothic' not found.\n",
      "findfont: Font family 'NanumBarunGothic' not found.\n",
      "findfont: Font family 'NanumBarunGothic' not found.\n",
      "findfont: Font family 'NanumBarunGothic' not found.\n",
      "findfont: Font family 'NanumBarunGothic' not found.\n",
      "findfont: Font family 'NanumBarunGothic' not found.\n",
      "findfont: Font family 'NanumBarunGothic' not found.\n",
      "findfont: Font family 'NanumBarunGothic' not found.\n",
      "findfont: Font family 'NanumBarunGothic' not found.\n",
      "findfont: Font family 'NanumBarunGothic' not found.\n",
      "findfont: Font family 'NanumBarunGothic' not found.\n",
      "findfont: Font family 'NanumBarunGothic' not found.\n",
      "findfont: Font family 'NanumBarunGothic' not found.\n",
      "findfont: Font family 'NanumBarunGothic' not found.\n",
      "findfont: Font family 'NanumBarunGothic' not found.\n",
      "findfont: Font family 'NanumBarunGothic' not found.\n",
      "findfont: Font family 'NanumBarunGothic' not found.\n",
      "findfont: Font family 'NanumBarunGothic' not found.\n",
      "findfont: Font family 'NanumBarunGothic' not found.\n",
      "findfont: Font family 'NanumBarunGothic' not found.\n",
      "findfont: Font family 'NanumBarunGothic' not found.\n",
      "findfont: Font family 'NanumBarunGothic' not found.\n",
      "findfont: Font family 'NanumBarunGothic' not found.\n",
      "findfont: Font family 'NanumBarunGothic' not found.\n",
      "findfont: Font family 'NanumBarunGothic' not found.\n",
      "findfont: Font family 'NanumBarunGothic' not found.\n",
      "findfont: Font family 'NanumBarunGothic' not found.\n",
      "findfont: Font family 'NanumBarunGothic' not found.\n",
      "findfont: Font family 'NanumBarunGothic' not found.\n",
      "findfont: Font family 'NanumBarunGothic' not found.\n",
      "findfont: Font family 'NanumBarunGothic' not found.\n",
      "findfont: Font family 'NanumBarunGothic' not found.\n",
      "findfont: Font family 'NanumBarunGothic' not found.\n",
      "findfont: Font family 'NanumBarunGothic' not found.\n",
      "findfont: Font family 'NanumBarunGothic' not found.\n",
      "findfont: Font family 'NanumBarunGothic' not found.\n",
      "findfont: Font family 'NanumBarunGothic' not found.\n",
      "findfont: Font family 'NanumBarunGothic' not found.\n",
      "findfont: Font family 'NanumBarunGothic' not found.\n",
      "findfont: Font family 'NanumBarunGothic' not found.\n",
      "findfont: Font family 'NanumBarunGothic' not found.\n",
      "findfont: Font family 'NanumBarunGothic' not found.\n",
      "findfont: Font family 'NanumBarunGothic' not found.\n",
      "findfont: Font family 'NanumBarunGothic' not found.\n",
      "findfont: Font family 'NanumBarunGothic' not found.\n",
      "findfont: Font family 'NanumBarunGothic' not found.\n",
      "findfont: Font family 'NanumBarunGothic' not found.\n",
      "findfont: Font family 'NanumBarunGothic' not found.\n",
      "findfont: Font family 'NanumBarunGothic' not found.\n",
      "findfont: Font family 'NanumBarunGothic' not found.\n",
      "findfont: Font family 'NanumBarunGothic' not found.\n",
      "findfont: Font family 'NanumBarunGothic' not found.\n",
      "findfont: Font family 'NanumBarunGothic' not found.\n",
      "findfont: Font family 'NanumBarunGothic' not found.\n",
      "findfont: Font family 'NanumBarunGothic' not found.\n",
      "findfont: Font family 'NanumBarunGothic' not found.\n",
      "findfont: Font family 'NanumBarunGothic' not found.\n",
      "findfont: Font family 'NanumBarunGothic' not found.\n",
      "findfont: Font family 'NanumBarunGothic' not found.\n",
      "findfont: Font family 'NanumBarunGothic' not found.\n",
      "findfont: Font family 'NanumBarunGothic' not found.\n",
      "findfont: Font family 'NanumBarunGothic' not found.\n",
      "findfont: Font family 'NanumBarunGothic' not found.\n",
      "findfont: Font family 'NanumBarunGothic' not found.\n",
      "findfont: Font family 'NanumBarunGothic' not found.\n",
      "findfont: Font family 'NanumBarunGothic' not found.\n",
      "findfont: Font family 'NanumBarunGothic' not found.\n",
      "findfont: Font family 'NanumBarunGothic' not found.\n",
      "findfont: Font family 'NanumBarunGothic' not found.\n",
      "findfont: Font family 'NanumBarunGothic' not found.\n",
      "findfont: Font family 'NanumBarunGothic' not found.\n",
      "findfont: Font family 'NanumBarunGothic' not found.\n",
      "findfont: Font family 'NanumBarunGothic' not found.\n",
      "findfont: Font family 'NanumBarunGothic' not found.\n",
      "findfont: Font family 'NanumBarunGothic' not found.\n",
      "findfont: Font family 'NanumBarunGothic' not found.\n",
      "findfont: Font family 'NanumBarunGothic' not found.\n",
      "findfont: Font family 'NanumBarunGothic' not found.\n",
      "findfont: Font family 'NanumBarunGothic' not found.\n",
      "findfont: Font family 'NanumBarunGothic' not found.\n",
      "findfont: Font family 'NanumBarunGothic' not found.\n",
      "findfont: Font family 'NanumBarunGothic' not found.\n",
      "findfont: Font family 'NanumBarunGothic' not found.\n",
      "findfont: Font family 'NanumBarunGothic' not found.\n",
      "findfont: Font family 'NanumBarunGothic' not found.\n",
      "findfont: Font family 'NanumBarunGothic' not found.\n",
      "findfont: Font family 'NanumBarunGothic' not found.\n",
      "findfont: Font family 'NanumBarunGothic' not found.\n",
      "findfont: Font family 'NanumBarunGothic' not found.\n",
      "findfont: Font family 'NanumBarunGothic' not found.\n",
      "findfont: Font family 'NanumBarunGothic' not found.\n",
      "findfont: Font family 'NanumBarunGothic' not found.\n",
      "findfont: Font family 'NanumBarunGothic' not found.\n",
      "findfont: Font family 'NanumBarunGothic' not found.\n",
      "findfont: Font family 'NanumBarunGothic' not found.\n",
      "findfont: Font family 'NanumBarunGothic' not found.\n",
      "findfont: Font family 'NanumBarunGothic' not found.\n",
      "findfont: Font family 'NanumBarunGothic' not found.\n",
      "findfont: Font family 'NanumBarunGothic' not found.\n",
      "findfont: Font family 'NanumBarunGothic' not found.\n",
      "findfont: Font family 'NanumBarunGothic' not found.\n",
      "findfont: Font family 'NanumBarunGothic' not found.\n",
      "findfont: Font family 'NanumBarunGothic' not found.\n",
      "findfont: Font family 'NanumBarunGothic' not found.\n",
      "findfont: Font family 'NanumBarunGothic' not found.\n",
      "findfont: Font family 'NanumBarunGothic' not found.\n",
      "findfont: Font family 'NanumBarunGothic' not found.\n",
      "findfont: Font family 'NanumBarunGothic' not found.\n",
      "findfont: Font family 'NanumBarunGothic' not found.\n",
      "findfont: Font family 'NanumBarunGothic' not found.\n",
      "findfont: Font family 'NanumBarunGothic' not found.\n",
      "findfont: Font family 'NanumBarunGothic' not found.\n",
      "findfont: Font family 'NanumBarunGothic' not found.\n",
      "findfont: Font family 'NanumBarunGothic' not found.\n",
      "findfont: Font family 'NanumBarunGothic' not found.\n",
      "findfont: Font family 'NanumBarunGothic' not found.\n",
      "findfont: Font family 'NanumBarunGothic' not found.\n",
      "findfont: Font family 'NanumBarunGothic' not found.\n",
      "findfont: Font family 'NanumBarunGothic' not found.\n",
      "findfont: Font family 'NanumBarunGothic' not found.\n",
      "findfont: Font family 'NanumBarunGothic' not found.\n",
      "findfont: Font family 'NanumBarunGothic' not found.\n",
      "findfont: Font family 'NanumBarunGothic' not found.\n",
      "findfont: Font family 'NanumBarunGothic' not found.\n",
      "findfont: Font family 'NanumBarunGothic' not found.\n",
      "findfont: Font family 'NanumBarunGothic' not found.\n",
      "findfont: Font family 'NanumBarunGothic' not found.\n",
      "findfont: Font family 'NanumBarunGothic' not found.\n",
      "findfont: Font family 'NanumBarunGothic' not found.\n",
      "findfont: Font family 'NanumBarunGothic' not found.\n",
      "findfont: Font family 'NanumBarunGothic' not found.\n",
      "findfont: Font family 'NanumBarunGothic' not found.\n",
      "findfont: Font family 'NanumBarunGothic' not found.\n",
      "findfont: Font family 'NanumBarunGothic' not found.\n",
      "findfont: Font family 'NanumBarunGothic' not found.\n",
      "findfont: Font family 'NanumBarunGothic' not found.\n",
      "findfont: Font family 'NanumBarunGothic' not found.\n",
      "findfont: Font family 'NanumBarunGothic' not found.\n",
      "findfont: Font family 'NanumBarunGothic' not found.\n",
      "findfont: Font family 'NanumBarunGothic' not found.\n",
      "findfont: Font family 'NanumBarunGothic' not found.\n",
      "findfont: Font family 'NanumBarunGothic' not found.\n",
      "findfont: Font family 'NanumBarunGothic' not found.\n",
      "findfont: Font family 'NanumBarunGothic' not found.\n",
      "findfont: Font family 'NanumBarunGothic' not found.\n",
      "findfont: Font family 'NanumBarunGothic' not found.\n",
      "findfont: Font family 'NanumBarunGothic' not found.\n",
      "findfont: Font family 'NanumBarunGothic' not found.\n",
      "findfont: Font family 'NanumBarunGothic' not found.\n",
      "findfont: Font family 'NanumBarunGothic' not found.\n",
      "findfont: Font family 'NanumBarunGothic' not found.\n",
      "findfont: Font family 'NanumBarunGothic' not found.\n",
      "findfont: Font family 'NanumBarunGothic' not found.\n",
      "findfont: Font family 'NanumBarunGothic' not found.\n",
      "findfont: Font family 'NanumBarunGothic' not found.\n",
      "findfont: Font family 'NanumBarunGothic' not found.\n",
      "findfont: Font family 'NanumBarunGothic' not found.\n",
      "findfont: Font family 'NanumBarunGothic' not found.\n",
      "findfont: Font family 'NanumBarunGothic' not found.\n",
      "findfont: Font family 'NanumBarunGothic' not found.\n",
      "findfont: Font family 'NanumBarunGothic' not found.\n",
      "findfont: Font family 'NanumBarunGothic' not found.\n",
      "findfont: Font family 'NanumBarunGothic' not found.\n",
      "findfont: Font family 'NanumBarunGothic' not found.\n",
      "findfont: Font family 'NanumBarunGothic' not found.\n",
      "findfont: Font family 'NanumBarunGothic' not found.\n",
      "findfont: Font family 'NanumBarunGothic' not found.\n",
      "findfont: Font family 'NanumBarunGothic' not found.\n",
      "findfont: Font family 'NanumBarunGothic' not found.\n",
      "findfont: Font family 'NanumBarunGothic' not found.\n",
      "findfont: Font family 'NanumBarunGothic' not found.\n",
      "findfont: Font family 'NanumBarunGothic' not found.\n",
      "findfont: Font family 'NanumBarunGothic' not found.\n",
      "findfont: Font family 'NanumBarunGothic' not found.\n",
      "findfont: Font family 'NanumBarunGothic' not found.\n",
      "findfont: Font family 'NanumBarunGothic' not found.\n",
      "findfont: Font family 'NanumBarunGothic' not found.\n",
      "findfont: Font family 'NanumBarunGothic' not found.\n",
      "findfont: Font family 'NanumBarunGothic' not found.\n",
      "findfont: Font family 'NanumBarunGothic' not found.\n",
      "findfont: Font family 'NanumBarunGothic' not found.\n",
      "findfont: Font family 'NanumBarunGothic' not found.\n",
      "findfont: Font family 'NanumBarunGothic' not found.\n",
      "findfont: Font family 'NanumBarunGothic' not found.\n",
      "findfont: Font family 'NanumBarunGothic' not found.\n",
      "findfont: Font family 'NanumBarunGothic' not found.\n",
      "findfont: Font family 'NanumBarunGothic' not found.\n",
      "findfont: Font family 'NanumBarunGothic' not found.\n",
      "findfont: Font family 'NanumBarunGothic' not found.\n",
      "findfont: Font family 'NanumBarunGothic' not found.\n",
      "findfont: Font family 'NanumBarunGothic' not found.\n",
      "findfont: Font family 'NanumBarunGothic' not found.\n",
      "findfont: Font family 'NanumBarunGothic' not found.\n",
      "findfont: Font family 'NanumBarunGothic' not found.\n",
      "findfont: Font family 'NanumBarunGothic' not found.\n",
      "findfont: Font family 'NanumBarunGothic' not found.\n",
      "findfont: Font family 'NanumBarunGothic' not found.\n",
      "findfont: Font family 'NanumBarunGothic' not found.\n",
      "findfont: Font family 'NanumBarunGothic' not found.\n",
      "findfont: Font family 'NanumBarunGothic' not found.\n",
      "findfont: Font family 'NanumBarunGothic' not found.\n",
      "findfont: Font family 'NanumBarunGothic' not found.\n",
      "findfont: Font family 'NanumBarunGothic' not found.\n",
      "findfont: Font family 'NanumBarunGothic' not found.\n",
      "findfont: Font family 'NanumBarunGothic' not found.\n",
      "findfont: Font family 'NanumBarunGothic' not found.\n",
      "findfont: Font family 'NanumBarunGothic' not found.\n",
      "findfont: Font family 'NanumBarunGothic' not found.\n",
      "findfont: Font family 'NanumBarunGothic' not found.\n",
      "findfont: Font family 'NanumBarunGothic' not found.\n",
      "findfont: Font family 'NanumBarunGothic' not found.\n",
      "findfont: Font family 'NanumBarunGothic' not found.\n",
      "findfont: Font family 'NanumBarunGothic' not found.\n",
      "findfont: Font family 'NanumBarunGothic' not found.\n",
      "findfont: Font family 'NanumBarunGothic' not found.\n",
      "findfont: Font family 'NanumBarunGothic' not found.\n",
      "findfont: Font family 'NanumBarunGothic' not found.\n",
      "findfont: Font family 'NanumBarunGothic' not found.\n",
      "findfont: Font family 'NanumBarunGothic' not found.\n",
      "findfont: Font family 'NanumBarunGothic' not found.\n",
      "findfont: Font family 'NanumBarunGothic' not found.\n",
      "findfont: Font family 'NanumBarunGothic' not found.\n",
      "findfont: Font family 'NanumBarunGothic' not found.\n",
      "findfont: Font family 'NanumBarunGothic' not found.\n",
      "findfont: Font family 'NanumBarunGothic' not found.\n",
      "findfont: Font family 'NanumBarunGothic' not found.\n",
      "findfont: Font family 'NanumBarunGothic' not found.\n",
      "findfont: Font family 'NanumBarunGothic' not found.\n",
      "findfont: Font family 'NanumBarunGothic' not found.\n",
      "findfont: Font family 'NanumBarunGothic' not found.\n",
      "findfont: Font family 'NanumBarunGothic' not found.\n",
      "findfont: Font family 'NanumBarunGothic' not found.\n",
      "findfont: Font family 'NanumBarunGothic' not found.\n",
      "findfont: Font family 'NanumBarunGothic' not found.\n",
      "findfont: Font family 'NanumBarunGothic' not found.\n",
      "findfont: Font family 'NanumBarunGothic' not found.\n",
      "findfont: Font family 'NanumBarunGothic' not found.\n",
      "findfont: Font family 'NanumBarunGothic' not found.\n",
      "findfont: Font family 'NanumBarunGothic' not found.\n",
      "findfont: Font family 'NanumBarunGothic' not found.\n",
      "findfont: Font family 'NanumBarunGothic' not found.\n",
      "findfont: Font family 'NanumBarunGothic' not found.\n",
      "findfont: Font family 'NanumBarunGothic' not found.\n",
      "findfont: Font family 'NanumBarunGothic' not found.\n",
      "findfont: Font family 'NanumBarunGothic' not found.\n",
      "findfont: Font family 'NanumBarunGothic' not found.\n",
      "findfont: Font family 'NanumBarunGothic' not found.\n",
      "findfont: Font family 'NanumBarunGothic' not found.\n",
      "findfont: Font family 'NanumBarunGothic' not found.\n",
      "findfont: Font family 'NanumBarunGothic' not found.\n",
      "findfont: Font family 'NanumBarunGothic' not found.\n",
      "findfont: Font family 'NanumBarunGothic' not found.\n",
      "findfont: Font family 'NanumBarunGothic' not found.\n",
      "findfont: Font family 'NanumBarunGothic' not found.\n",
      "findfont: Font family 'NanumBarunGothic' not found.\n",
      "findfont: Font family 'NanumBarunGothic' not found.\n",
      "findfont: Font family 'NanumBarunGothic' not found.\n"
     ]
    },
    {
     "data": {
      "text/plain": [
       "<Figure size 1000x600 with 1 Axes>"
      ],
      "image/png": "[encoded data removed]"
     },
     "metadata": {
      "image/png": {
       "width": 840,
       "height": 575
      }
     },
     "output_type": "display_data"
    },
    {
     "name": "stderr",
     "output_type": "stream",
     "text": [
      "findfont: Font family 'NanumBarunGothic' not found.\n",
      "findfont: Font family 'NanumBarunGothic' not found.\n",
      "findfont: Font family 'NanumBarunGothic' not found.\n",
      "findfont: Font family 'NanumBarunGothic' not found.\n",
      "findfont: Font family 'NanumBarunGothic' not found.\n",
      "findfont: Font family 'NanumBarunGothic' not found.\n",
      "findfont: Font family 'NanumBarunGothic' not found.\n",
      "findfont: Font family 'NanumBarunGothic' not found.\n",
      "findfont: Font family 'NanumBarunGothic' not found.\n",
      "findfont: Font family 'NanumBarunGothic' not found.\n",
      "findfont: Font family 'NanumBarunGothic' not found.\n",
      "findfont: Font family 'NanumBarunGothic' not found.\n",
      "findfont: Font family 'NanumBarunGothic' not found.\n",
      "findfont: Font family 'NanumBarunGothic' not found.\n",
      "findfont: Font family 'NanumBarunGothic' not found.\n",
      "findfont: Font family 'NanumBarunGothic' not found.\n",
      "findfont: Font family 'NanumBarunGothic' not found.\n",
      "findfont: Font family 'NanumBarunGothic' not found.\n",
      "findfont: Font family 'NanumBarunGothic' not found.\n",
      "findfont: Font family 'NanumBarunGothic' not found.\n",
      "findfont: Font family 'NanumBarunGothic' not found.\n",
      "findfont: Font family 'NanumBarunGothic' not found.\n",
      "findfont: Font family 'NanumBarunGothic' not found.\n",
      "findfont: Font family 'NanumBarunGothic' not found.\n",
      "findfont: Font family 'NanumBarunGothic' not found.\n",
      "findfont: Font family 'NanumBarunGothic' not found.\n",
      "findfont: Font family 'NanumBarunGothic' not found.\n",
      "findfont: Font family 'NanumBarunGothic' not found.\n",
      "findfont: Font family 'NanumBarunGothic' not found.\n",
      "findfont: Font family 'NanumBarunGothic' not found.\n",
      "findfont: Font family 'NanumBarunGothic' not found.\n",
      "findfont: Font family 'NanumBarunGothic' not found.\n",
      "findfont: Font family 'NanumBarunGothic' not found.\n",
      "findfont: Font family 'NanumBarunGothic' not found.\n",
      "findfont: Font family 'NanumBarunGothic' not found.\n",
      "findfont: Font family 'NanumBarunGothic' not found.\n",
      "findfont: Font family 'NanumBarunGothic' not found.\n",
      "findfont: Font family 'NanumBarunGothic' not found.\n",
      "findfont: Font family 'NanumBarunGothic' not found.\n",
      "findfont: Font family 'NanumBarunGothic' not found.\n",
      "findfont: Font family 'NanumBarunGothic' not found.\n",
      "findfont: Font family 'NanumBarunGothic' not found.\n",
      "findfont: Font family 'NanumBarunGothic' not found.\n",
      "findfont: Font family 'NanumBarunGothic' not found.\n",
      "findfont: Font family 'NanumBarunGothic' not found.\n",
      "findfont: Font family 'NanumBarunGothic' not found.\n",
      "findfont: Font family 'NanumBarunGothic' not found.\n",
      "findfont: Font family 'NanumBarunGothic' not found.\n",
      "findfont: Font family 'NanumBarunGothic' not found.\n",
      "findfont: Font family 'NanumBarunGothic' not found.\n",
      "findfont: Font family 'NanumBarunGothic' not found.\n",
      "findfont: Font family 'NanumBarunGothic' not found.\n",
      "findfont: Font family 'NanumBarunGothic' not found.\n",
      "findfont: Font family 'NanumBarunGothic' not found.\n",
      "findfont: Font family 'NanumBarunGothic' not found.\n",
      "findfont: Font family 'NanumBarunGothic' not found.\n",
      "findfont: Font family 'NanumBarunGothic' not found.\n",
      "findfont: Font family 'NanumBarunGothic' not found.\n",
      "findfont: Font family 'NanumBarunGothic' not found.\n",
      "findfont: Font family 'NanumBarunGothic' not found.\n",
      "findfont: Font family 'NanumBarunGothic' not found.\n",
      "findfont: Font family 'NanumBarunGothic' not found.\n",
      "findfont: Font family 'NanumBarunGothic' not found.\n",
      "findfont: Font family 'NanumBarunGothic' not found.\n",
      "findfont: Font family 'NanumBarunGothic' not found.\n",
      "findfont: Font family 'NanumBarunGothic' not found.\n",
      "findfont: Font family 'NanumBarunGothic' not found.\n",
      "findfont: Font family 'NanumBarunGothic' not found.\n",
      "findfont: Font family 'NanumBarunGothic' not found.\n",
      "findfont: Font family 'NanumBarunGothic' not found.\n",
      "findfont: Font family 'NanumBarunGothic' not found.\n",
      "findfont: Font family 'NanumBarunGothic' not found.\n",
      "findfont: Font family 'NanumBarunGothic' not found.\n",
      "findfont: Font family 'NanumBarunGothic' not found.\n",
      "findfont: Font family 'NanumBarunGothic' not found.\n",
      "findfont: Font family 'NanumBarunGothic' not found.\n",
      "findfont: Font family 'NanumBarunGothic' not found.\n",
      "findfont: Font family 'NanumBarunGothic' not found.\n",
      "findfont: Font family 'NanumBarunGothic' not found.\n",
      "findfont: Font family 'NanumBarunGothic' not found.\n",
      "findfont: Font family 'NanumBarunGothic' not found.\n",
      "findfont: Font family 'NanumBarunGothic' not found.\n",
      "findfont: Font family 'NanumBarunGothic' not found.\n",
      "findfont: Font family 'NanumBarunGothic' not found.\n",
      "findfont: Font family 'NanumBarunGothic' not found.\n",
      "findfont: Font family 'NanumBarunGothic' not found.\n",
      "findfont: Font family 'NanumBarunGothic' not found.\n",
      "findfont: Font family 'NanumBarunGothic' not found.\n",
      "findfont: Font family 'NanumBarunGothic' not found.\n",
      "findfont: Font family 'NanumBarunGothic' not found.\n",
      "findfont: Font family 'NanumBarunGothic' not found.\n",
      "findfont: Font family 'NanumBarunGothic' not found.\n",
      "findfont: Font family 'NanumBarunGothic' not found.\n",
      "findfont: Font family 'NanumBarunGothic' not found.\n",
      "findfont: Font family 'NanumBarunGothic' not found.\n",
      "findfont: Font family 'NanumBarunGothic' not found.\n",
      "findfont: Font family 'NanumBarunGothic' not found.\n",
      "findfont: Font family 'NanumBarunGothic' not found.\n",
      "findfont: Font family 'NanumBarunGothic' not found.\n",
      "findfont: Font family 'NanumBarunGothic' not found.\n",
      "findfont: Font family 'NanumBarunGothic' not found.\n",
      "findfont: Font family 'NanumBarunGothic' not found.\n"
     ]
    },
    {
     "data": {
      "text/plain": [
       "<Figure size 1000x600 with 1 Axes>"
      ],
      "image/png": "[encoded data removed]"
     },
     "metadata": {
      "image/png": {
       "width": 840,
       "height": 523
      }
     },
     "output_type": "display_data"
    },
    {
     "name": "stderr",
     "output_type": "stream",
     "text": [
      "findfont: Font family 'NanumBarunGothic' not found.\n",
      "findfont: Font family 'NanumBarunGothic' not found.\n",
      "findfont: Font family 'NanumBarunGothic' not found.\n",
      "findfont: Font family 'NanumBarunGothic' not found.\n",
      "findfont: Font family 'NanumBarunGothic' not found.\n",
      "findfont: Font family 'NanumBarunGothic' not found.\n",
      "findfont: Font family 'NanumBarunGothic' not found.\n",
      "findfont: Font family 'NanumBarunGothic' not found.\n",
      "findfont: Font family 'NanumBarunGothic' not found.\n",
      "findfont: Font family 'NanumBarunGothic' not found.\n",
      "findfont: Font family 'NanumBarunGothic' not found.\n",
      "findfont: Font family 'NanumBarunGothic' not found.\n",
      "findfont: Font family 'NanumBarunGothic' not found.\n",
      "findfont: Font family 'NanumBarunGothic' not found.\n",
      "findfont: Font family 'NanumBarunGothic' not found.\n",
      "findfont: Font family 'NanumBarunGothic' not found.\n",
      "findfont: Font family 'NanumBarunGothic' not found.\n",
      "findfont: Font family 'NanumBarunGothic' not found.\n",
      "findfont: Font family 'NanumBarunGothic' not found.\n",
      "findfont: Font family 'NanumBarunGothic' not found.\n",
      "findfont: Font family 'NanumBarunGothic' not found.\n",
      "findfont: Font family 'NanumBarunGothic' not found.\n",
      "findfont: Font family 'NanumBarunGothic' not found.\n",
      "findfont: Font family 'NanumBarunGothic' not found.\n",
      "findfont: Font family 'NanumBarunGothic' not found.\n",
      "findfont: Font family 'NanumBarunGothic' not found.\n",
      "findfont: Font family 'NanumBarunGothic' not found.\n",
      "findfont: Font family 'NanumBarunGothic' not found.\n",
      "findfont: Font family 'NanumBarunGothic' not found.\n",
      "findfont: Font family 'NanumBarunGothic' not found.\n",
      "findfont: Font family 'NanumBarunGothic' not found.\n",
      "findfont: Font family 'NanumBarunGothic' not found.\n",
      "findfont: Font family 'NanumBarunGothic' not found.\n",
      "findfont: Font family 'NanumBarunGothic' not found.\n",
      "findfont: Font family 'NanumBarunGothic' not found.\n",
      "findfont: Font family 'NanumBarunGothic' not found.\n",
      "findfont: Font family 'NanumBarunGothic' not found.\n",
      "findfont: Font family 'NanumBarunGothic' not found.\n",
      "findfont: Font family 'NanumBarunGothic' not found.\n",
      "findfont: Font family 'NanumBarunGothic' not found.\n",
      "findfont: Font family 'NanumBarunGothic' not found.\n",
      "findfont: Font family 'NanumBarunGothic' not found.\n",
      "findfont: Font family 'NanumBarunGothic' not found.\n",
      "findfont: Font family 'NanumBarunGothic' not found.\n",
      "findfont: Font family 'NanumBarunGothic' not found.\n",
      "findfont: Font family 'NanumBarunGothic' not found.\n",
      "findfont: Font family 'NanumBarunGothic' not found.\n",
      "findfont: Font family 'NanumBarunGothic' not found.\n",
      "findfont: Font family 'NanumBarunGothic' not found.\n",
      "findfont: Font family 'NanumBarunGothic' not found.\n",
      "findfont: Font family 'NanumBarunGothic' not found.\n",
      "findfont: Font family 'NanumBarunGothic' not found.\n",
      "findfont: Font family 'NanumBarunGothic' not found.\n",
      "findfont: Font family 'NanumBarunGothic' not found.\n",
      "findfont: Font family 'NanumBarunGothic' not found.\n",
      "findfont: Font family 'NanumBarunGothic' not found.\n",
      "findfont: Font family 'NanumBarunGothic' not found.\n",
      "findfont: Font family 'NanumBarunGothic' not found.\n",
      "findfont: Font family 'NanumBarunGothic' not found.\n",
      "findfont: Font family 'NanumBarunGothic' not found.\n",
      "findfont: Font family 'NanumBarunGothic' not found.\n",
      "findfont: Font family 'NanumBarunGothic' not found.\n",
      "findfont: Font family 'NanumBarunGothic' not found.\n",
      "findfont: Font family 'NanumBarunGothic' not found.\n",
      "findfont: Font family 'NanumBarunGothic' not found.\n",
      "findfont: Font family 'NanumBarunGothic' not found.\n",
      "findfont: Font family 'NanumBarunGothic' not found.\n",
      "findfont: Font family 'NanumBarunGothic' not found.\n",
      "findfont: Font family 'NanumBarunGothic' not found.\n",
      "findfont: Font family 'NanumBarunGothic' not found.\n",
      "findfont: Font family 'NanumBarunGothic' not found.\n",
      "findfont: Font family 'NanumBarunGothic' not found.\n",
      "findfont: Font family 'NanumBarunGothic' not found.\n",
      "findfont: Font family 'NanumBarunGothic' not found.\n",
      "findfont: Font family 'NanumBarunGothic' not found.\n",
      "findfont: Font family 'NanumBarunGothic' not found.\n",
      "findfont: Font family 'NanumBarunGothic' not found.\n",
      "findfont: Font family 'NanumBarunGothic' not found.\n",
      "findfont: Font family 'NanumBarunGothic' not found.\n",
      "findfont: Font family 'NanumBarunGothic' not found.\n",
      "findfont: Font family 'NanumBarunGothic' not found.\n",
      "findfont: Font family 'NanumBarunGothic' not found.\n",
      "findfont: Font family 'NanumBarunGothic' not found.\n",
      "findfont: Font family 'NanumBarunGothic' not found.\n",
      "findfont: Font family 'NanumBarunGothic' not found.\n",
      "findfont: Font family 'NanumBarunGothic' not found.\n",
      "findfont: Font family 'NanumBarunGothic' not found.\n",
      "findfont: Font family 'NanumBarunGothic' not found.\n",
      "findfont: Font family 'NanumBarunGothic' not found.\n",
      "findfont: Font family 'NanumBarunGothic' not found.\n",
      "findfont: Font family 'NanumBarunGothic' not found.\n",
      "findfont: Font family 'NanumBarunGothic' not found.\n",
      "findfont: Font family 'NanumBarunGothic' not found.\n",
      "findfont: Font family 'NanumBarunGothic' not found.\n",
      "findfont: Font family 'NanumBarunGothic' not found.\n",
      "findfont: Font family 'NanumBarunGothic' not found.\n",
      "findfont: Font family 'NanumBarunGothic' not found.\n",
      "findfont: Font family 'NanumBarunGothic' not found.\n",
      "findfont: Font family 'NanumBarunGothic' not found.\n",
      "findfont: Font family 'NanumBarunGothic' not found.\n",
      "findfont: Font family 'NanumBarunGothic' not found.\n",
      "findfont: Font family 'NanumBarunGothic' not found.\n",
      "findfont: Font family 'NanumBarunGothic' not found.\n",
      "findfont: Font family 'NanumBarunGothic' not found.\n",
      "findfont: Font family 'NanumBarunGothic' not found.\n"
     ]
    },
    {
     "data": {
      "text/plain": [
       "<Figure size 600x600 with 1 Axes>"
      ],
      "image/png": "[encoded data removed]"
     },
     "metadata": {
      "image/png": {
       "width": 533,
       "height": 540
      }
     },
     "output_type": "display_data"
    },
    {
     "name": "stderr",
     "output_type": "stream",
     "text": [
      "findfont: Font family 'NanumBarunGothic' not found.\n",
      "findfont: Font family 'NanumBarunGothic' not found.\n",
      "findfont: Font family 'NanumBarunGothic' not found.\n",
      "findfont: Font family 'NanumBarunGothic' not found.\n",
      "findfont: Font family 'NanumBarunGothic' not found.\n",
      "findfont: Font family 'NanumBarunGothic' not found.\n",
      "findfont: Font family 'NanumBarunGothic' not found.\n",
      "findfont: Font family 'NanumBarunGothic' not found.\n",
      "findfont: Font family 'NanumBarunGothic' not found.\n",
      "findfont: Font family 'NanumBarunGothic' not found.\n",
      "findfont: Font family 'NanumBarunGothic' not found.\n",
      "findfont: Font family 'NanumBarunGothic' not found.\n",
      "findfont: Font family 'NanumBarunGothic' not found.\n",
      "findfont: Font family 'NanumBarunGothic' not found.\n",
      "findfont: Font family 'NanumBarunGothic' not found.\n",
      "findfont: Font family 'NanumBarunGothic' not found.\n",
      "findfont: Font family 'NanumBarunGothic' not found.\n",
      "findfont: Font family 'NanumBarunGothic' not found.\n",
      "findfont: Font family 'NanumBarunGothic' not found.\n",
      "findfont: Font family 'NanumBarunGothic' not found.\n",
      "findfont: Font family 'NanumBarunGothic' not found.\n",
      "findfont: Font family 'NanumBarunGothic' not found.\n",
      "findfont: Font family 'NanumBarunGothic' not found.\n",
      "findfont: Font family 'NanumBarunGothic' not found.\n",
      "findfont: Font family 'NanumBarunGothic' not found.\n",
      "findfont: Font family 'NanumBarunGothic' not found.\n",
      "findfont: Font family 'NanumBarunGothic' not found.\n",
      "findfont: Font family 'NanumBarunGothic' not found.\n",
      "findfont: Font family 'NanumBarunGothic' not found.\n",
      "findfont: Font family 'NanumBarunGothic' not found.\n",
      "findfont: Font family 'NanumBarunGothic' not found.\n",
      "findfont: Font family 'NanumBarunGothic' not found.\n",
      "findfont: Font family 'NanumBarunGothic' not found.\n",
      "findfont: Font family 'NanumBarunGothic' not found.\n",
      "findfont: Font family 'NanumBarunGothic' not found.\n",
      "findfont: Font family 'NanumBarunGothic' not found.\n",
      "findfont: Font family 'NanumBarunGothic' not found.\n",
      "findfont: Font family 'NanumBarunGothic' not found.\n",
      "findfont: Font family 'NanumBarunGothic' not found.\n",
      "findfont: Font family 'NanumBarunGothic' not found.\n",
      "findfont: Font family 'NanumBarunGothic' not found.\n",
      "findfont: Font family 'NanumBarunGothic' not found.\n",
      "findfont: Font family 'NanumBarunGothic' not found.\n",
      "findfont: Font family 'NanumBarunGothic' not found.\n",
      "findfont: Font family 'NanumBarunGothic' not found.\n",
      "findfont: Font family 'NanumBarunGothic' not found.\n",
      "findfont: Font family 'NanumBarunGothic' not found.\n",
      "findfont: Font family 'NanumBarunGothic' not found.\n",
      "findfont: Font family 'NanumBarunGothic' not found.\n",
      "findfont: Font family 'NanumBarunGothic' not found.\n",
      "findfont: Font family 'NanumBarunGothic' not found.\n",
      "findfont: Font family 'NanumBarunGothic' not found.\n",
      "findfont: Font family 'NanumBarunGothic' not found.\n",
      "findfont: Font family 'NanumBarunGothic' not found.\n",
      "findfont: Font family 'NanumBarunGothic' not found.\n",
      "findfont: Font family 'NanumBarunGothic' not found.\n",
      "findfont: Font family 'NanumBarunGothic' not found.\n",
      "findfont: Font family 'NanumBarunGothic' not found.\n",
      "findfont: Font family 'NanumBarunGothic' not found.\n",
      "findfont: Font family 'NanumBarunGothic' not found.\n",
      "findfont: Font family 'NanumBarunGothic' not found.\n",
      "findfont: Font family 'NanumBarunGothic' not found.\n",
      "findfont: Font family 'NanumBarunGothic' not found.\n",
      "findfont: Font family 'NanumBarunGothic' not found.\n",
      "findfont: Font family 'NanumBarunGothic' not found.\n",
      "findfont: Font family 'NanumBarunGothic' not found.\n",
      "findfont: Font family 'NanumBarunGothic' not found.\n",
      "findfont: Font family 'NanumBarunGothic' not found.\n",
      "findfont: Font family 'NanumBarunGothic' not found.\n",
      "findfont: Font family 'NanumBarunGothic' not found.\n",
      "findfont: Font family 'NanumBarunGothic' not found.\n",
      "findfont: Font family 'NanumBarunGothic' not found.\n",
      "findfont: Font family 'NanumBarunGothic' not found.\n",
      "findfont: Font family 'NanumBarunGothic' not found.\n",
      "findfont: Font family 'NanumBarunGothic' not found.\n",
      "findfont: Font family 'NanumBarunGothic' not found.\n",
      "findfont: Font family 'NanumBarunGothic' not found.\n",
      "findfont: Font family 'NanumBarunGothic' not found.\n",
      "findfont: Font family 'NanumBarunGothic' not found.\n",
      "findfont: Font family 'NanumBarunGothic' not found.\n",
      "findfont: Font family 'NanumBarunGothic' not found.\n",
      "findfont: Font family 'NanumBarunGothic' not found.\n",
      "findfont: Font family 'NanumBarunGothic' not found.\n",
      "findfont: Font family 'NanumBarunGothic' not found.\n",
      "findfont: Font family 'NanumBarunGothic' not found.\n",
      "findfont: Font family 'NanumBarunGothic' not found.\n",
      "findfont: Font family 'NanumBarunGothic' not found.\n",
      "findfont: Font family 'NanumBarunGothic' not found.\n",
      "findfont: Font family 'NanumBarunGothic' not found.\n",
      "findfont: Font family 'NanumBarunGothic' not found.\n",
      "findfont: Font family 'NanumBarunGothic' not found.\n",
      "findfont: Font family 'NanumBarunGothic' not found.\n",
      "findfont: Font family 'NanumBarunGothic' not found.\n",
      "findfont: Font family 'NanumBarunGothic' not found.\n",
      "findfont: Font family 'NanumBarunGothic' not found.\n",
      "findfont: Font family 'NanumBarunGothic' not found.\n",
      "findfont: Font family 'NanumBarunGothic' not found.\n",
      "findfont: Font family 'NanumBarunGothic' not found.\n",
      "findfont: Font family 'NanumBarunGothic' not found.\n",
      "findfont: Font family 'NanumBarunGothic' not found.\n",
      "findfont: Font family 'NanumBarunGothic' not found.\n",
      "findfont: Font family 'NanumBarunGothic' not found.\n",
      "findfont: Font family 'NanumBarunGothic' not found.\n",
      "findfont: Font family 'NanumBarunGothic' not found.\n",
      "findfont: Font family 'NanumBarunGothic' not found.\n",
      "findfont: Font family 'NanumBarunGothic' not found.\n",
      "findfont: Font family 'NanumBarunGothic' not found.\n",
      "findfont: Font family 'NanumBarunGothic' not found.\n",
      "findfont: Font family 'NanumBarunGothic' not found.\n",
      "findfont: Font family 'NanumBarunGothic' not found.\n"
     ]
    },
    {
     "data": {
      "text/plain": [
       "<Figure size 600x600 with 1 Axes>"
      ],
      "image/png": "[encoded data removed]"
     },
     "metadata": {
      "image/png": {
       "width": 545,
       "height": 540
      }
     },
     "output_type": "display_data"
    },
    {
     "name": "stderr",
     "output_type": "stream",
     "text": [
      "findfont: Font family 'NanumBarunGothic' not found.\n",
      "findfont: Font family 'NanumBarunGothic' not found.\n",
      "findfont: Font family 'NanumBarunGothic' not found.\n",
      "findfont: Font family 'NanumBarunGothic' not found.\n",
      "findfont: Font family 'NanumBarunGothic' not found.\n",
      "findfont: Font family 'NanumBarunGothic' not found.\n",
      "findfont: Font family 'NanumBarunGothic' not found.\n",
      "findfont: Font family 'NanumBarunGothic' not found.\n",
      "findfont: Font family 'NanumBarunGothic' not found.\n",
      "findfont: Font family 'NanumBarunGothic' not found.\n",
      "findfont: Font family 'NanumBarunGothic' not found.\n",
      "findfont: Font family 'NanumBarunGothic' not found.\n",
      "findfont: Font family 'NanumBarunGothic' not found.\n",
      "findfont: Font family 'NanumBarunGothic' not found.\n",
      "findfont: Font family 'NanumBarunGothic' not found.\n",
      "findfont: Font family 'NanumBarunGothic' not found.\n",
      "findfont: Font family 'NanumBarunGothic' not found.\n",
      "findfont: Font family 'NanumBarunGothic' not found.\n",
      "findfont: Font family 'NanumBarunGothic' not found.\n",
      "findfont: Font family 'NanumBarunGothic' not found.\n",
      "findfont: Font family 'NanumBarunGothic' not found.\n",
      "findfont: Font family 'NanumBarunGothic' not found.\n",
      "findfont: Font family 'NanumBarunGothic' not found.\n",
      "findfont: Font family 'NanumBarunGothic' not found.\n",
      "findfont: Font family 'NanumBarunGothic' not found.\n",
      "findfont: Font family 'NanumBarunGothic' not found.\n",
      "findfont: Font family 'NanumBarunGothic' not found.\n",
      "findfont: Font family 'NanumBarunGothic' not found.\n",
      "findfont: Font family 'NanumBarunGothic' not found.\n",
      "findfont: Font family 'NanumBarunGothic' not found.\n",
      "findfont: Font family 'NanumBarunGothic' not found.\n",
      "findfont: Font family 'NanumBarunGothic' not found.\n",
      "findfont: Font family 'NanumBarunGothic' not found.\n",
      "findfont: Font family 'NanumBarunGothic' not found.\n",
      "findfont: Font family 'NanumBarunGothic' not found.\n",
      "findfont: Font family 'NanumBarunGothic' not found.\n",
      "findfont: Font family 'NanumBarunGothic' not found.\n",
      "findfont: Font family 'NanumBarunGothic' not found.\n",
      "findfont: Font family 'NanumBarunGothic' not found.\n",
      "findfont: Font family 'NanumBarunGothic' not found.\n",
      "findfont: Font family 'NanumBarunGothic' not found.\n",
      "findfont: Font family 'NanumBarunGothic' not found.\n",
      "findfont: Font family 'NanumBarunGothic' not found.\n",
      "findfont: Font family 'NanumBarunGothic' not found.\n",
      "findfont: Font family 'NanumBarunGothic' not found.\n",
      "findfont: Font family 'NanumBarunGothic' not found.\n",
      "findfont: Font family 'NanumBarunGothic' not found.\n",
      "findfont: Font family 'NanumBarunGothic' not found.\n",
      "findfont: Font family 'NanumBarunGothic' not found.\n",
      "findfont: Font family 'NanumBarunGothic' not found.\n",
      "findfont: Font family 'NanumBarunGothic' not found.\n",
      "findfont: Font family 'NanumBarunGothic' not found.\n",
      "findfont: Font family 'NanumBarunGothic' not found.\n",
      "findfont: Font family 'NanumBarunGothic' not found.\n",
      "findfont: Font family 'NanumBarunGothic' not found.\n",
      "findfont: Font family 'NanumBarunGothic' not found.\n",
      "findfont: Font family 'NanumBarunGothic' not found.\n",
      "findfont: Font family 'NanumBarunGothic' not found.\n",
      "findfont: Font family 'NanumBarunGothic' not found.\n",
      "findfont: Font family 'NanumBarunGothic' not found.\n",
      "findfont: Font family 'NanumBarunGothic' not found.\n",
      "findfont: Font family 'NanumBarunGothic' not found.\n",
      "findfont: Font family 'NanumBarunGothic' not found.\n",
      "findfont: Font family 'NanumBarunGothic' not found.\n",
      "findfont: Font family 'NanumBarunGothic' not found.\n",
      "findfont: Font family 'NanumBarunGothic' not found.\n",
      "findfont: Font family 'NanumBarunGothic' not found.\n"
     ]
    },
    {
     "data": {
      "text/plain": [
       "<Figure size 1000x500 with 1 Axes>"
      ],
      "image/png": "[encoded data removed]"
     },
     "metadata": {
      "image/png": {
       "width": 826,
       "height": 446
      }
     },
     "output_type": "display_data"
    }
   ],
   "execution_count": 25
  },
  {
   "cell_type": "markdown",
   "metadata": {
    "id": "HwNfwTZImPig"
   },
   "source": [
    "### KMeans\n",
    "1. Initialize k centroids.\n",
    "2. Assign each data to the nearest centroid, these step will create clusters.\n",
    "3. Recalculate centroid - which is mean of all data belonging to same cluster.\n",
    "4. Repeat steps 2 & 3, till there is no data to reassign a different centroid.\n",
    "\n",
    "Animation to explain algo - http://tech.nitoyon.com/en/blog/2013/11/07/k-means/"
   ]
  },
  {
   "cell_type": "code",
   "metadata": {
    "id": "PxeM4-5amPig",
    "colab": {
     "base_uri": "https://localhost:8080/"
    },
    "executionInfo": {
     "status": "ok",
     "timestamp": 1698387437452,
     "user_tz": -540,
     "elapsed": 1623,
     "user": {
      "displayName": "Yongjin Jeong",
      "userId": "03658406798560557048"
     }
    },
    "outputId": "85204b5f-62ba-4f5e-aca4-0e4b55cfbba2",
    "ExecuteTime": {
     "end_time": "2024-11-24T04:51:21.279687Z",
     "start_time": "2024-11-24T04:51:21.045806Z"
    }
   },
   "source": [
    "from sklearn.cluster import KMeans\n",
    "\n",
    "km = KMeans(n_clusters = 3).fit(df2)\n",
    "print(km.n_clusters)"
   ],
   "outputs": [
    {
     "name": "stdout",
     "output_type": "stream",
     "text": [
      "3\n"
     ]
    }
   ],
   "execution_count": 26
  },
  {
   "cell_type": "code",
   "metadata": {
    "id": "76fHUUgYmPii",
    "colab": {
     "base_uri": "https://localhost:8080/"
    },
    "executionInfo": {
     "status": "ok",
     "timestamp": 1698387441050,
     "user_tz": -540,
     "elapsed": 483,
     "user": {
      "displayName": "Yongjin Jeong",
      "userId": "03658406798560557048"
     }
    },
    "outputId": "a4aef979-acd7-4d4e-9c8b-5a1d1eb58db7",
    "ExecuteTime": {
     "end_time": "2024-11-24T04:51:21.282348Z",
     "start_time": "2024-11-24T04:51:21.280306Z"
    }
   },
   "source": [
    "km.labels_, km.cluster_centers_"
   ],
   "outputs": [
    {
     "data": {
      "text/plain": [
       "(array([0, 2, 1, 0, 0, 0, 0, 0, 1, 2, 2, 2, 0, 1, 2], dtype=int32),\n",
       " array([[ 4191629.42857143,  3805868.14285714],\n",
       "        [ 6433742.33333333, 31018896.        ],\n",
       "        [ 6245553.6       , 16144968.6       ]]))"
      ]
     },
     "execution_count": 27,
     "metadata": {},
     "output_type": "execute_result"
    }
   ],
   "execution_count": 27
  },
  {
   "cell_type": "code",
   "metadata": {
    "id": "m_6ADDkX--65",
    "executionInfo": {
     "status": "ok",
     "timestamp": 1698387443534,
     "user_tz": -540,
     "elapsed": 459,
     "user": {
      "displayName": "Yongjin Jeong",
      "userId": "03658406798560557048"
     }
    },
    "ExecuteTime": {
     "end_time": "2024-11-24T04:51:21.284048Z",
     "start_time": "2024-11-24T04:51:21.282741Z"
    }
   },
   "source": [
    "km_labels_two = km.labels_       # for compare later on"
   ],
   "outputs": [],
   "execution_count": 28
  },
  {
   "cell_type": "code",
   "metadata": {
    "id": "RRTMqrYfmPim",
    "colab": {
     "base_uri": "https://localhost:8080/",
     "height": 551
    },
    "executionInfo": {
     "status": "ok",
     "timestamp": 1698387445339,
     "user_tz": -540,
     "elapsed": 373,
     "user": {
      "displayName": "Yongjin Jeong",
      "userId": "03658406798560557048"
     }
    },
    "outputId": "e5fdf72d-1c71-493b-a7d5-6db9b78db6e5",
    "ExecuteTime": {
     "end_time": "2024-11-24T04:51:21.288660Z",
     "start_time": "2024-11-24T04:51:21.285506Z"
    }
   },
   "source": [
    "df2['클러스터'] = km.labels_\n",
    "df2"
   ],
   "outputs": [
    {
     "data": {
      "text/plain": [
       "       서비스업       제조업  클러스터\n",
       "구분                         \n",
       "강원  6203749   6002286     0\n",
       "경남  8667737  18053778     2\n",
       "경북  8487402  30115601     1\n",
       "광주  3174973   2910768     0\n",
       "대구  5470438   5862633     0\n",
       "대전  3955921   2608343     0\n",
       "부산  7582169   7512588     0\n",
       "세종   645424   1502922     0\n",
       "울산  3649386  25883132     1\n",
       "인천  7154416  12367816     2\n",
       "전남  5690659  21453926     2\n",
       "전북  4910318  12965875     2\n",
       "제주  2308732    241537     0\n",
       "충남  7164439  37057955     1\n",
       "충북  4804638  15883448     2"
      ],
      "text/html": [
       "<div>\n",
       "<style scoped>\n",
       "    .dataframe tbody tr th:only-of-type {\n",
       "        vertical-align: middle;\n",
       "    }\n",
       "\n",
       "    .dataframe tbody tr th {\n",
       "        vertical-align: top;\n",
       "    }\n",
       "\n",
       "    .dataframe thead th {\n",
       "        text-align: right;\n",
       "    }\n",
       "</style>\n",
       "<table border=\"1\" class=\"dataframe\">\n",
       "  <thead>\n",
       "    <tr style=\"text-align: right;\">\n",
       "      <th></th>\n",
       "      <th>서비스업</th>\n",
       "      <th>제조업</th>\n",
       "      <th>클러스터</th>\n",
       "    </tr>\n",
       "    <tr>\n",
       "      <th>구분</th>\n",
       "      <th></th>\n",
       "      <th></th>\n",
       "      <th></th>\n",
       "    </tr>\n",
       "  </thead>\n",
       "  <tbody>\n",
       "    <tr>\n",
       "      <th>강원</th>\n",
       "      <td>6203749</td>\n",
       "      <td>6002286</td>\n",
       "      <td>0</td>\n",
       "    </tr>\n",
       "    <tr>\n",
       "      <th>경남</th>\n",
       "      <td>8667737</td>\n",
       "      <td>18053778</td>\n",
       "      <td>2</td>\n",
       "    </tr>\n",
       "    <tr>\n",
       "      <th>경북</th>\n",
       "      <td>8487402</td>\n",
       "      <td>30115601</td>\n",
       "      <td>1</td>\n",
       "    </tr>\n",
       "    <tr>\n",
       "      <th>광주</th>\n",
       "      <td>3174973</td>\n",
       "      <td>2910768</td>\n",
       "      <td>0</td>\n",
       "    </tr>\n",
       "    <tr>\n",
       "      <th>대구</th>\n",
       "      <td>5470438</td>\n",
       "      <td>5862633</td>\n",
       "      <td>0</td>\n",
       "    </tr>\n",
       "    <tr>\n",
       "      <th>대전</th>\n",
       "      <td>3955921</td>\n",
       "      <td>2608343</td>\n",
       "      <td>0</td>\n",
       "    </tr>\n",
       "    <tr>\n",
       "      <th>부산</th>\n",
       "      <td>7582169</td>\n",
       "      <td>7512588</td>\n",
       "      <td>0</td>\n",
       "    </tr>\n",
       "    <tr>\n",
       "      <th>세종</th>\n",
       "      <td>645424</td>\n",
       "      <td>1502922</td>\n",
       "      <td>0</td>\n",
       "    </tr>\n",
       "    <tr>\n",
       "      <th>울산</th>\n",
       "      <td>3649386</td>\n",
       "      <td>25883132</td>\n",
       "      <td>1</td>\n",
       "    </tr>\n",
       "    <tr>\n",
       "      <th>인천</th>\n",
       "      <td>7154416</td>\n",
       "      <td>12367816</td>\n",
       "      <td>2</td>\n",
       "    </tr>\n",
       "    <tr>\n",
       "      <th>전남</th>\n",
       "      <td>5690659</td>\n",
       "      <td>21453926</td>\n",
       "      <td>2</td>\n",
       "    </tr>\n",
       "    <tr>\n",
       "      <th>전북</th>\n",
       "      <td>4910318</td>\n",
       "      <td>12965875</td>\n",
       "      <td>2</td>\n",
       "    </tr>\n",
       "    <tr>\n",
       "      <th>제주</th>\n",
       "      <td>2308732</td>\n",
       "      <td>241537</td>\n",
       "      <td>0</td>\n",
       "    </tr>\n",
       "    <tr>\n",
       "      <th>충남</th>\n",
       "      <td>7164439</td>\n",
       "      <td>37057955</td>\n",
       "      <td>1</td>\n",
       "    </tr>\n",
       "    <tr>\n",
       "      <th>충북</th>\n",
       "      <td>4804638</td>\n",
       "      <td>15883448</td>\n",
       "      <td>2</td>\n",
       "    </tr>\n",
       "  </tbody>\n",
       "</table>\n",
       "</div>"
      ]
     },
     "execution_count": 29,
     "metadata": {},
     "output_type": "execute_result"
    }
   ],
   "execution_count": 29
  },
  {
   "cell_type": "code",
   "metadata": {
    "id": "QIR_JsRLmPio",
    "colab": {
     "base_uri": "https://localhost:8080/",
     "height": 237
    },
    "executionInfo": {
     "status": "ok",
     "timestamp": 1698387448984,
     "user_tz": -540,
     "elapsed": 391,
     "user": {
      "displayName": "Yongjin Jeong",
      "userId": "03658406798560557048"
     }
    },
    "outputId": "41f69ff8-75ea-4d90-f330-e4472f6f96c0",
    "ExecuteTime": {
     "end_time": "2024-11-24T04:51:21.291814Z",
     "start_time": "2024-11-24T04:51:21.289106Z"
    }
   },
   "source": [
    "df2.drop('클러스터', axis = 1, inplace=True) ; df2.head()"
   ],
   "outputs": [
    {
     "data": {
      "text/plain": [
       "       서비스업       제조업\n",
       "구분                   \n",
       "강원  6203749   6002286\n",
       "경남  8667737  18053778\n",
       "경북  8487402  30115601\n",
       "광주  3174973   2910768\n",
       "대구  5470438   5862633"
      ],
      "text/html": [
       "<div>\n",
       "<style scoped>\n",
       "    .dataframe tbody tr th:only-of-type {\n",
       "        vertical-align: middle;\n",
       "    }\n",
       "\n",
       "    .dataframe tbody tr th {\n",
       "        vertical-align: top;\n",
       "    }\n",
       "\n",
       "    .dataframe thead th {\n",
       "        text-align: right;\n",
       "    }\n",
       "</style>\n",
       "<table border=\"1\" class=\"dataframe\">\n",
       "  <thead>\n",
       "    <tr style=\"text-align: right;\">\n",
       "      <th></th>\n",
       "      <th>서비스업</th>\n",
       "      <th>제조업</th>\n",
       "    </tr>\n",
       "    <tr>\n",
       "      <th>구분</th>\n",
       "      <th></th>\n",
       "      <th></th>\n",
       "    </tr>\n",
       "  </thead>\n",
       "  <tbody>\n",
       "    <tr>\n",
       "      <th>강원</th>\n",
       "      <td>6203749</td>\n",
       "      <td>6002286</td>\n",
       "    </tr>\n",
       "    <tr>\n",
       "      <th>경남</th>\n",
       "      <td>8667737</td>\n",
       "      <td>18053778</td>\n",
       "    </tr>\n",
       "    <tr>\n",
       "      <th>경북</th>\n",
       "      <td>8487402</td>\n",
       "      <td>30115601</td>\n",
       "    </tr>\n",
       "    <tr>\n",
       "      <th>광주</th>\n",
       "      <td>3174973</td>\n",
       "      <td>2910768</td>\n",
       "    </tr>\n",
       "    <tr>\n",
       "      <th>대구</th>\n",
       "      <td>5470438</td>\n",
       "      <td>5862633</td>\n",
       "    </tr>\n",
       "  </tbody>\n",
       "</table>\n",
       "</div>"
      ]
     },
     "execution_count": 30,
     "metadata": {},
     "output_type": "execute_result"
    }
   ],
   "execution_count": 30
  },
  {
   "cell_type": "code",
   "metadata": {
    "id": "F3a5v0DamPir",
    "scrolled": true,
    "colab": {
     "base_uri": "https://localhost:8080/"
    },
    "executionInfo": {
     "status": "ok",
     "timestamp": 1698387452268,
     "user_tz": -540,
     "elapsed": 350,
     "user": {
      "displayName": "Yongjin Jeong",
      "userId": "03658406798560557048"
     }
    },
    "outputId": "81790c7a-0e64-4e20-f1ec-0290d0cb0f58",
    "ExecuteTime": {
     "end_time": "2024-11-24T04:51:21.295662Z",
     "start_time": "2024-11-24T04:51:21.292205Z"
    }
   },
   "source": [
    "centers = km.cluster_centers_ ; centers"
   ],
   "outputs": [
    {
     "data": {
      "text/plain": [
       "array([[ 4191629.42857143,  3805868.14285714],\n",
       "       [ 6433742.33333333, 31018896.        ],\n",
       "       [ 6245553.6       , 16144968.6       ]])"
      ]
     },
     "execution_count": 31,
     "metadata": {},
     "output_type": "execute_result"
    }
   ],
   "execution_count": 31
  },
  {
   "cell_type": "code",
   "metadata": {
    "id": "fbEQXCynmPiv",
    "colab": {
     "base_uri": "https://localhost:8080/",
     "height": 713
    },
    "executionInfo": {
     "status": "ok",
     "timestamp": 1698387456062,
     "user_tz": -540,
     "elapsed": 849,
     "user": {
      "displayName": "Yongjin Jeong",
      "userId": "03658406798560557048"
     }
    },
    "outputId": "665faa86-5569-4670-df36-dba913d29f2d",
    "ExecuteTime": {
     "end_time": "2024-11-24T04:51:21.367108Z",
     "start_time": "2024-11-24T04:51:21.296132Z"
    }
   },
   "source": [
    "my_markers=['*','^', 'o','^','.',',','1','2']\n",
    "my_color =['r','c','g','b','g','k','r','y']\n",
    "\n",
    "plt.figure(figsize=(10, 8))\n",
    "plt.xlabel('서비스업')\n",
    "plt.ylabel('제조업')\n",
    "for n in range(df2.shape[0]):\n",
    "    label = km.labels_[n]\n",
    "    plt.scatter(df2['서비스업'][n], df2['제조업'][n], c=my_color[label], marker=my_markers[label], s=100)\n",
    "    plt.text(df2['서비스업'][n]*1.03, df2['제조업'][n]*0.98, df2.index[n])\n",
    "\n",
    "for i in range(km.n_clusters):\n",
    "    plt.scatter(centers[i][0], centers[i][1], c = 'b', s= 50)"
   ],
   "outputs": [
    {
     "name": "stderr",
     "output_type": "stream",
     "text": [
      "/tmp/ipykernel_6350/4284814493.py:9: FutureWarning: Series.__getitem__ treating keys as positions is deprecated. In a future version, integer keys will always be treated as labels (consistent with DataFrame behavior). To access a value by position, use `ser.iloc[pos]`\n",
      "  plt.scatter(df2['서비스업'][n], df2['제조업'][n], c=my_color[label], marker=my_markers[label], s=100)\n",
      "/tmp/ipykernel_6350/4284814493.py:10: FutureWarning: Series.__getitem__ treating keys as positions is deprecated. In a future version, integer keys will always be treated as labels (consistent with DataFrame behavior). To access a value by position, use `ser.iloc[pos]`\n",
      "  plt.text(df2['서비스업'][n]*1.03, df2['제조업'][n]*0.98, df2.index[n])\n",
      "findfont: Font family 'NanumBarunGothic' not found.\n",
      "findfont: Font family 'NanumBarunGothic' not found.\n",
      "findfont: Font family 'NanumBarunGothic' not found.\n",
      "findfont: Font family 'NanumBarunGothic' not found.\n",
      "findfont: Font family 'NanumBarunGothic' not found.\n",
      "findfont: Font family 'NanumBarunGothic' not found.\n",
      "findfont: Font family 'NanumBarunGothic' not found.\n",
      "findfont: Font family 'NanumBarunGothic' not found.\n",
      "findfont: Font family 'NanumBarunGothic' not found.\n",
      "findfont: Font family 'NanumBarunGothic' not found.\n",
      "findfont: Font family 'NanumBarunGothic' not found.\n",
      "findfont: Font family 'NanumBarunGothic' not found.\n",
      "findfont: Font family 'NanumBarunGothic' not found.\n",
      "findfont: Font family 'NanumBarunGothic' not found.\n",
      "findfont: Font family 'NanumBarunGothic' not found.\n",
      "findfont: Font family 'NanumBarunGothic' not found.\n",
      "findfont: Font family 'NanumBarunGothic' not found.\n",
      "findfont: Font family 'NanumBarunGothic' not found.\n",
      "findfont: Font family 'NanumBarunGothic' not found.\n",
      "findfont: Font family 'NanumBarunGothic' not found.\n",
      "/home/unsi/anaconda3/envs/forpytorch/lib/python3.12/site-packages/IPython/core/events.py:82: UserWarning: Glyph 49436 (\\N{HANGUL SYLLABLE SEO}) missing from font(s) DejaVu Sans.\n",
      "  func(*args, **kwargs)\n",
      "/home/unsi/anaconda3/envs/forpytorch/lib/python3.12/site-packages/IPython/core/events.py:82: UserWarning: Glyph 48708 (\\N{HANGUL SYLLABLE BI}) missing from font(s) DejaVu Sans.\n",
      "  func(*args, **kwargs)\n",
      "/home/unsi/anaconda3/envs/forpytorch/lib/python3.12/site-packages/IPython/core/events.py:82: UserWarning: Glyph 49828 (\\N{HANGUL SYLLABLE SEU}) missing from font(s) DejaVu Sans.\n",
      "  func(*args, **kwargs)\n",
      "/home/unsi/anaconda3/envs/forpytorch/lib/python3.12/site-packages/IPython/core/events.py:82: UserWarning: Glyph 50629 (\\N{HANGUL SYLLABLE EOB}) missing from font(s) DejaVu Sans.\n",
      "  func(*args, **kwargs)\n",
      "findfont: Font family 'NanumBarunGothic' not found.\n",
      "findfont: Font family 'NanumBarunGothic' not found.\n",
      "findfont: Font family 'NanumBarunGothic' not found.\n",
      "findfont: Font family 'NanumBarunGothic' not found.\n",
      "findfont: Font family 'NanumBarunGothic' not found.\n",
      "findfont: Font family 'NanumBarunGothic' not found.\n",
      "findfont: Font family 'NanumBarunGothic' not found.\n",
      "findfont: Font family 'NanumBarunGothic' not found.\n",
      "findfont: Font family 'NanumBarunGothic' not found.\n",
      "findfont: Font family 'NanumBarunGothic' not found.\n",
      "findfont: Font family 'NanumBarunGothic' not found.\n",
      "findfont: Font family 'NanumBarunGothic' not found.\n",
      "findfont: Font family 'NanumBarunGothic' not found.\n",
      "findfont: Font family 'NanumBarunGothic' not found.\n",
      "findfont: Font family 'NanumBarunGothic' not found.\n",
      "findfont: Font family 'NanumBarunGothic' not found.\n",
      "findfont: Font family 'NanumBarunGothic' not found.\n",
      "findfont: Font family 'NanumBarunGothic' not found.\n",
      "findfont: Font family 'NanumBarunGothic' not found.\n",
      "findfont: Font family 'NanumBarunGothic' not found.\n",
      "/home/unsi/anaconda3/envs/forpytorch/lib/python3.12/site-packages/IPython/core/events.py:82: UserWarning: Glyph 51228 (\\N{HANGUL SYLLABLE JE}) missing from font(s) DejaVu Sans.\n",
      "  func(*args, **kwargs)\n",
      "/home/unsi/anaconda3/envs/forpytorch/lib/python3.12/site-packages/IPython/core/events.py:82: UserWarning: Glyph 51312 (\\N{HANGUL SYLLABLE JO}) missing from font(s) DejaVu Sans.\n",
      "  func(*args, **kwargs)\n",
      "findfont: Font family 'NanumBarunGothic' not found.\n",
      "findfont: Font family 'NanumBarunGothic' not found.\n",
      "findfont: Font family 'NanumBarunGothic' not found.\n",
      "findfont: Font family 'NanumBarunGothic' not found.\n",
      "/home/unsi/anaconda3/envs/forpytorch/lib/python3.12/site-packages/IPython/core/events.py:82: UserWarning: Glyph 44053 (\\N{HANGUL SYLLABLE GANG}) missing from font(s) DejaVu Sans.\n",
      "  func(*args, **kwargs)\n",
      "/home/unsi/anaconda3/envs/forpytorch/lib/python3.12/site-packages/IPython/core/events.py:82: UserWarning: Glyph 50896 (\\N{HANGUL SYLLABLE WEON}) missing from font(s) DejaVu Sans.\n",
      "  func(*args, **kwargs)\n",
      "findfont: Font family 'NanumBarunGothic' not found.\n",
      "findfont: Font family 'NanumBarunGothic' not found.\n",
      "/home/unsi/anaconda3/envs/forpytorch/lib/python3.12/site-packages/IPython/core/events.py:82: UserWarning: Glyph 44221 (\\N{HANGUL SYLLABLE GYEONG}) missing from font(s) DejaVu Sans.\n",
      "  func(*args, **kwargs)\n",
      "/home/unsi/anaconda3/envs/forpytorch/lib/python3.12/site-packages/IPython/core/events.py:82: UserWarning: Glyph 45224 (\\N{HANGUL SYLLABLE NAM}) missing from font(s) DejaVu Sans.\n",
      "  func(*args, **kwargs)\n",
      "findfont: Font family 'NanumBarunGothic' not found.\n",
      "findfont: Font family 'NanumBarunGothic' not found.\n",
      "/home/unsi/anaconda3/envs/forpytorch/lib/python3.12/site-packages/IPython/core/events.py:82: UserWarning: Glyph 48513 (\\N{HANGUL SYLLABLE BUG}) missing from font(s) DejaVu Sans.\n",
      "  func(*args, **kwargs)\n",
      "findfont: Font family 'NanumBarunGothic' not found.\n",
      "findfont: Font family 'NanumBarunGothic' not found.\n",
      "/home/unsi/anaconda3/envs/forpytorch/lib/python3.12/site-packages/IPython/core/events.py:82: UserWarning: Glyph 44305 (\\N{HANGUL SYLLABLE GWANG}) missing from font(s) DejaVu Sans.\n",
      "  func(*args, **kwargs)\n",
      "/home/unsi/anaconda3/envs/forpytorch/lib/python3.12/site-packages/IPython/core/events.py:82: UserWarning: Glyph 51452 (\\N{HANGUL SYLLABLE JU}) missing from font(s) DejaVu Sans.\n",
      "  func(*args, **kwargs)\n",
      "findfont: Font family 'NanumBarunGothic' not found.\n",
      "findfont: Font family 'NanumBarunGothic' not found.\n",
      "/home/unsi/anaconda3/envs/forpytorch/lib/python3.12/site-packages/IPython/core/events.py:82: UserWarning: Glyph 45824 (\\N{HANGUL SYLLABLE DAE}) missing from font(s) DejaVu Sans.\n",
      "  func(*args, **kwargs)\n",
      "/home/unsi/anaconda3/envs/forpytorch/lib/python3.12/site-packages/IPython/core/events.py:82: UserWarning: Glyph 44396 (\\N{HANGUL SYLLABLE GU}) missing from font(s) DejaVu Sans.\n",
      "  func(*args, **kwargs)\n",
      "findfont: Font family 'NanumBarunGothic' not found.\n",
      "findfont: Font family 'NanumBarunGothic' not found.\n",
      "/home/unsi/anaconda3/envs/forpytorch/lib/python3.12/site-packages/IPython/core/events.py:82: UserWarning: Glyph 51204 (\\N{HANGUL SYLLABLE JEON}) missing from font(s) DejaVu Sans.\n",
      "  func(*args, **kwargs)\n",
      "findfont: Font family 'NanumBarunGothic' not found.\n",
      "findfont: Font family 'NanumBarunGothic' not found.\n",
      "/home/unsi/anaconda3/envs/forpytorch/lib/python3.12/site-packages/IPython/core/events.py:82: UserWarning: Glyph 48512 (\\N{HANGUL SYLLABLE BU}) missing from font(s) DejaVu Sans.\n",
      "  func(*args, **kwargs)\n",
      "/home/unsi/anaconda3/envs/forpytorch/lib/python3.12/site-packages/IPython/core/events.py:82: UserWarning: Glyph 49328 (\\N{HANGUL SYLLABLE SAN}) missing from font(s) DejaVu Sans.\n",
      "  func(*args, **kwargs)\n",
      "findfont: Font family 'NanumBarunGothic' not found.\n",
      "findfont: Font family 'NanumBarunGothic' not found.\n",
      "/home/unsi/anaconda3/envs/forpytorch/lib/python3.12/site-packages/IPython/core/events.py:82: UserWarning: Glyph 49464 (\\N{HANGUL SYLLABLE SE}) missing from font(s) DejaVu Sans.\n",
      "  func(*args, **kwargs)\n",
      "/home/unsi/anaconda3/envs/forpytorch/lib/python3.12/site-packages/IPython/core/events.py:82: UserWarning: Glyph 51333 (\\N{HANGUL SYLLABLE JONG}) missing from font(s) DejaVu Sans.\n",
      "  func(*args, **kwargs)\n",
      "findfont: Font family 'NanumBarunGothic' not found.\n",
      "findfont: Font family 'NanumBarunGothic' not found.\n",
      "/home/unsi/anaconda3/envs/forpytorch/lib/python3.12/site-packages/IPython/core/events.py:82: UserWarning: Glyph 50872 (\\N{HANGUL SYLLABLE UL}) missing from font(s) DejaVu Sans.\n",
      "  func(*args, **kwargs)\n",
      "findfont: Font family 'NanumBarunGothic' not found.\n",
      "findfont: Font family 'NanumBarunGothic' not found.\n",
      "/home/unsi/anaconda3/envs/forpytorch/lib/python3.12/site-packages/IPython/core/events.py:82: UserWarning: Glyph 51064 (\\N{HANGUL SYLLABLE IN}) missing from font(s) DejaVu Sans.\n",
      "  func(*args, **kwargs)\n",
      "/home/unsi/anaconda3/envs/forpytorch/lib/python3.12/site-packages/IPython/core/events.py:82: UserWarning: Glyph 52380 (\\N{HANGUL SYLLABLE CEON}) missing from font(s) DejaVu Sans.\n",
      "  func(*args, **kwargs)\n",
      "findfont: Font family 'NanumBarunGothic' not found.\n",
      "findfont: Font family 'NanumBarunGothic' not found.\n",
      "findfont: Font family 'NanumBarunGothic' not found.\n",
      "findfont: Font family 'NanumBarunGothic' not found.\n",
      "findfont: Font family 'NanumBarunGothic' not found.\n",
      "findfont: Font family 'NanumBarunGothic' not found.\n",
      "findfont: Font family 'NanumBarunGothic' not found.\n",
      "findfont: Font family 'NanumBarunGothic' not found.\n",
      "/home/unsi/anaconda3/envs/forpytorch/lib/python3.12/site-packages/IPython/core/events.py:82: UserWarning: Glyph 52649 (\\N{HANGUL SYLLABLE CUNG}) missing from font(s) DejaVu Sans.\n",
      "  func(*args, **kwargs)\n",
      "findfont: Font family 'NanumBarunGothic' not found.\n",
      "findfont: Font family 'NanumBarunGothic' not found.\n",
      "findfont: Font family 'NanumBarunGothic' not found.\n"
     ]
    }
   ],
   "execution_count": 32
  },
  {
   "cell_type": "markdown",
   "metadata": {
    "id": "2k00w8PrmPiz"
   },
   "source": [
    "### Scaling (don't forget !)"
   ]
  },
  {
   "cell_type": "code",
   "metadata": {
    "id": "rMpKWL_hmPi0",
    "colab": {
     "base_uri": "https://localhost:8080/",
     "height": 174
    },
    "executionInfo": {
     "status": "ok",
     "timestamp": 1698387463835,
     "user_tz": -540,
     "elapsed": 362,
     "user": {
      "displayName": "Yongjin Jeong",
      "userId": "03658406798560557048"
     }
    },
    "outputId": "adb1c181-8957-4784-eeef-e77682a65649",
    "ExecuteTime": {
     "end_time": "2024-11-24T04:51:21.372092Z",
     "start_time": "2024-11-24T04:51:21.367587Z"
    }
   },
   "source": [
    "from sklearn.preprocessing import StandardScaler\n",
    "scaler = StandardScaler()\n",
    "df2[['서비스업', '제조업']] = scaler.fit_transform(df2[['서비스업', '제조업']])\n",
    "df2.head(3)"
   ],
   "outputs": [
    {
     "data": {
      "text/plain": [
       "        서비스업       제조업\n",
       "구분                    \n",
       "강원  0.393992 -0.676282\n",
       "경남  1.498349  0.431200\n",
       "경북  1.417523  1.539632"
      ],
      "text/html": [
       "<div>\n",
       "<style scoped>\n",
       "    .dataframe tbody tr th:only-of-type {\n",
       "        vertical-align: middle;\n",
       "    }\n",
       "\n",
       "    .dataframe tbody tr th {\n",
       "        vertical-align: top;\n",
       "    }\n",
       "\n",
       "    .dataframe thead th {\n",
       "        text-align: right;\n",
       "    }\n",
       "</style>\n",
       "<table border=\"1\" class=\"dataframe\">\n",
       "  <thead>\n",
       "    <tr style=\"text-align: right;\">\n",
       "      <th></th>\n",
       "      <th>서비스업</th>\n",
       "      <th>제조업</th>\n",
       "    </tr>\n",
       "    <tr>\n",
       "      <th>구분</th>\n",
       "      <th></th>\n",
       "      <th></th>\n",
       "    </tr>\n",
       "  </thead>\n",
       "  <tbody>\n",
       "    <tr>\n",
       "      <th>강원</th>\n",
       "      <td>0.393992</td>\n",
       "      <td>-0.676282</td>\n",
       "    </tr>\n",
       "    <tr>\n",
       "      <th>경남</th>\n",
       "      <td>1.498349</td>\n",
       "      <td>0.431200</td>\n",
       "    </tr>\n",
       "    <tr>\n",
       "      <th>경북</th>\n",
       "      <td>1.417523</td>\n",
       "      <td>1.539632</td>\n",
       "    </tr>\n",
       "  </tbody>\n",
       "</table>\n",
       "</div>"
      ]
     },
     "execution_count": 33,
     "metadata": {},
     "output_type": "execute_result"
    }
   ],
   "execution_count": 33
  },
  {
   "cell_type": "markdown",
   "metadata": {
    "id": "4_HHzzP9mPi3"
   },
   "source": [
    "### Clustering after Scaling"
   ]
  },
  {
   "cell_type": "code",
   "metadata": {
    "id": "eSeNbEr-mPi3",
    "scrolled": true,
    "colab": {
     "base_uri": "https://localhost:8080/",
     "height": 469
    },
    "executionInfo": {
     "status": "ok",
     "timestamp": 1698387468458,
     "user_tz": -540,
     "elapsed": 1170,
     "user": {
      "displayName": "Yongjin Jeong",
      "userId": "03658406798560557048"
     }
    },
    "outputId": "0dc68303-cfa6-48e6-9c5d-275deb56b919",
    "ExecuteTime": {
     "end_time": "2024-11-24T04:51:21.598825Z",
     "start_time": "2024-11-24T04:51:21.372543Z"
    }
   },
   "source": [
    "Z = linkage(df2, metric='euclidean', method='centroid')\n",
    "plt.figure(figsize=(10, 5))\n",
    "plt.title('Dendrogram')\n",
    "dendrogram(Z, labels=df2.index)\n",
    "plt.show()"
   ],
   "outputs": [
    {
     "name": "stderr",
     "output_type": "stream",
     "text": [
      "findfont: Font family 'NanumBarunGothic' not found.\n",
      "findfont: Font family 'NanumBarunGothic' not found.\n",
      "findfont: Font family 'NanumBarunGothic' not found.\n",
      "findfont: Font family 'NanumBarunGothic' not found.\n",
      "findfont: Font family 'NanumBarunGothic' not found.\n",
      "findfont: Font family 'NanumBarunGothic' not found.\n",
      "findfont: Font family 'NanumBarunGothic' not found.\n",
      "findfont: Font family 'NanumBarunGothic' not found.\n",
      "findfont: Font family 'NanumBarunGothic' not found.\n",
      "findfont: Font family 'NanumBarunGothic' not found.\n",
      "findfont: Font family 'NanumBarunGothic' not found.\n",
      "/home/unsi/anaconda3/envs/forpytorch/lib/python3.12/site-packages/IPython/core/pylabtools.py:170: UserWarning: Glyph 49436 (\\N{HANGUL SYLLABLE SEO}) missing from font(s) DejaVu Sans.\n",
      "  fig.canvas.print_figure(bytes_io, **kw)\n",
      "/home/unsi/anaconda3/envs/forpytorch/lib/python3.12/site-packages/IPython/core/pylabtools.py:170: UserWarning: Glyph 48708 (\\N{HANGUL SYLLABLE BI}) missing from font(s) DejaVu Sans.\n",
      "  fig.canvas.print_figure(bytes_io, **kw)\n",
      "/home/unsi/anaconda3/envs/forpytorch/lib/python3.12/site-packages/IPython/core/pylabtools.py:170: UserWarning: Glyph 49828 (\\N{HANGUL SYLLABLE SEU}) missing from font(s) DejaVu Sans.\n",
      "  fig.canvas.print_figure(bytes_io, **kw)\n",
      "/home/unsi/anaconda3/envs/forpytorch/lib/python3.12/site-packages/IPython/core/pylabtools.py:170: UserWarning: Glyph 50629 (\\N{HANGUL SYLLABLE EOB}) missing from font(s) DejaVu Sans.\n",
      "  fig.canvas.print_figure(bytes_io, **kw)\n",
      "findfont: Font family 'NanumBarunGothic' not found.\n",
      "findfont: Font family 'NanumBarunGothic' not found.\n",
      "findfont: Font family 'NanumBarunGothic' not found.\n",
      "findfont: Font family 'NanumBarunGothic' not found.\n",
      "findfont: Font family 'NanumBarunGothic' not found.\n",
      "findfont: Font family 'NanumBarunGothic' not found.\n",
      "findfont: Font family 'NanumBarunGothic' not found.\n",
      "findfont: Font family 'NanumBarunGothic' not found.\n",
      "findfont: Font family 'NanumBarunGothic' not found.\n",
      "findfont: Font family 'NanumBarunGothic' not found.\n",
      "/home/unsi/anaconda3/envs/forpytorch/lib/python3.12/site-packages/IPython/core/pylabtools.py:170: UserWarning: Glyph 51228 (\\N{HANGUL SYLLABLE JE}) missing from font(s) DejaVu Sans.\n",
      "  fig.canvas.print_figure(bytes_io, **kw)\n",
      "/home/unsi/anaconda3/envs/forpytorch/lib/python3.12/site-packages/IPython/core/pylabtools.py:170: UserWarning: Glyph 51312 (\\N{HANGUL SYLLABLE JO}) missing from font(s) DejaVu Sans.\n",
      "  fig.canvas.print_figure(bytes_io, **kw)\n",
      "findfont: Font family 'NanumBarunGothic' not found.\n",
      "findfont: Font family 'NanumBarunGothic' not found.\n",
      "/home/unsi/anaconda3/envs/forpytorch/lib/python3.12/site-packages/IPython/core/pylabtools.py:170: UserWarning: Glyph 44053 (\\N{HANGUL SYLLABLE GANG}) missing from font(s) DejaVu Sans.\n",
      "  fig.canvas.print_figure(bytes_io, **kw)\n",
      "/home/unsi/anaconda3/envs/forpytorch/lib/python3.12/site-packages/IPython/core/pylabtools.py:170: UserWarning: Glyph 50896 (\\N{HANGUL SYLLABLE WEON}) missing from font(s) DejaVu Sans.\n",
      "  fig.canvas.print_figure(bytes_io, **kw)\n",
      "findfont: Font family 'NanumBarunGothic' not found.\n",
      "/home/unsi/anaconda3/envs/forpytorch/lib/python3.12/site-packages/IPython/core/pylabtools.py:170: UserWarning: Glyph 44221 (\\N{HANGUL SYLLABLE GYEONG}) missing from font(s) DejaVu Sans.\n",
      "  fig.canvas.print_figure(bytes_io, **kw)\n",
      "/home/unsi/anaconda3/envs/forpytorch/lib/python3.12/site-packages/IPython/core/pylabtools.py:170: UserWarning: Glyph 45224 (\\N{HANGUL SYLLABLE NAM}) missing from font(s) DejaVu Sans.\n",
      "  fig.canvas.print_figure(bytes_io, **kw)\n",
      "findfont: Font family 'NanumBarunGothic' not found.\n",
      "/home/unsi/anaconda3/envs/forpytorch/lib/python3.12/site-packages/IPython/core/pylabtools.py:170: UserWarning: Glyph 48513 (\\N{HANGUL SYLLABLE BUG}) missing from font(s) DejaVu Sans.\n",
      "  fig.canvas.print_figure(bytes_io, **kw)\n",
      "findfont: Font family 'NanumBarunGothic' not found.\n",
      "/home/unsi/anaconda3/envs/forpytorch/lib/python3.12/site-packages/IPython/core/pylabtools.py:170: UserWarning: Glyph 44305 (\\N{HANGUL SYLLABLE GWANG}) missing from font(s) DejaVu Sans.\n",
      "  fig.canvas.print_figure(bytes_io, **kw)\n",
      "/home/unsi/anaconda3/envs/forpytorch/lib/python3.12/site-packages/IPython/core/pylabtools.py:170: UserWarning: Glyph 51452 (\\N{HANGUL SYLLABLE JU}) missing from font(s) DejaVu Sans.\n",
      "  fig.canvas.print_figure(bytes_io, **kw)\n",
      "findfont: Font family 'NanumBarunGothic' not found.\n",
      "/home/unsi/anaconda3/envs/forpytorch/lib/python3.12/site-packages/IPython/core/pylabtools.py:170: UserWarning: Glyph 45824 (\\N{HANGUL SYLLABLE DAE}) missing from font(s) DejaVu Sans.\n",
      "  fig.canvas.print_figure(bytes_io, **kw)\n",
      "/home/unsi/anaconda3/envs/forpytorch/lib/python3.12/site-packages/IPython/core/pylabtools.py:170: UserWarning: Glyph 44396 (\\N{HANGUL SYLLABLE GU}) missing from font(s) DejaVu Sans.\n",
      "  fig.canvas.print_figure(bytes_io, **kw)\n",
      "findfont: Font family 'NanumBarunGothic' not found.\n",
      "/home/unsi/anaconda3/envs/forpytorch/lib/python3.12/site-packages/IPython/core/pylabtools.py:170: UserWarning: Glyph 51204 (\\N{HANGUL SYLLABLE JEON}) missing from font(s) DejaVu Sans.\n",
      "  fig.canvas.print_figure(bytes_io, **kw)\n",
      "findfont: Font family 'NanumBarunGothic' not found.\n",
      "/home/unsi/anaconda3/envs/forpytorch/lib/python3.12/site-packages/IPython/core/pylabtools.py:170: UserWarning: Glyph 48512 (\\N{HANGUL SYLLABLE BU}) missing from font(s) DejaVu Sans.\n",
      "  fig.canvas.print_figure(bytes_io, **kw)\n",
      "/home/unsi/anaconda3/envs/forpytorch/lib/python3.12/site-packages/IPython/core/pylabtools.py:170: UserWarning: Glyph 49328 (\\N{HANGUL SYLLABLE SAN}) missing from font(s) DejaVu Sans.\n",
      "  fig.canvas.print_figure(bytes_io, **kw)\n",
      "findfont: Font family 'NanumBarunGothic' not found.\n",
      "/home/unsi/anaconda3/envs/forpytorch/lib/python3.12/site-packages/IPython/core/pylabtools.py:170: UserWarning: Glyph 49464 (\\N{HANGUL SYLLABLE SE}) missing from font(s) DejaVu Sans.\n",
      "  fig.canvas.print_figure(bytes_io, **kw)\n",
      "/home/unsi/anaconda3/envs/forpytorch/lib/python3.12/site-packages/IPython/core/pylabtools.py:170: UserWarning: Glyph 51333 (\\N{HANGUL SYLLABLE JONG}) missing from font(s) DejaVu Sans.\n",
      "  fig.canvas.print_figure(bytes_io, **kw)\n",
      "findfont: Font family 'NanumBarunGothic' not found.\n",
      "/home/unsi/anaconda3/envs/forpytorch/lib/python3.12/site-packages/IPython/core/pylabtools.py:170: UserWarning: Glyph 50872 (\\N{HANGUL SYLLABLE UL}) missing from font(s) DejaVu Sans.\n",
      "  fig.canvas.print_figure(bytes_io, **kw)\n",
      "findfont: Font family 'NanumBarunGothic' not found.\n",
      "/home/unsi/anaconda3/envs/forpytorch/lib/python3.12/site-packages/IPython/core/pylabtools.py:170: UserWarning: Glyph 51064 (\\N{HANGUL SYLLABLE IN}) missing from font(s) DejaVu Sans.\n",
      "  fig.canvas.print_figure(bytes_io, **kw)\n",
      "/home/unsi/anaconda3/envs/forpytorch/lib/python3.12/site-packages/IPython/core/pylabtools.py:170: UserWarning: Glyph 52380 (\\N{HANGUL SYLLABLE CEON}) missing from font(s) DejaVu Sans.\n",
      "  fig.canvas.print_figure(bytes_io, **kw)\n",
      "findfont: Font family 'NanumBarunGothic' not found.\n",
      "findfont: Font family 'NanumBarunGothic' not found.\n",
      "findfont: Font family 'NanumBarunGothic' not found.\n",
      "findfont: Font family 'NanumBarunGothic' not found.\n",
      "/home/unsi/anaconda3/envs/forpytorch/lib/python3.12/site-packages/IPython/core/pylabtools.py:170: UserWarning: Glyph 52649 (\\N{HANGUL SYLLABLE CUNG}) missing from font(s) DejaVu Sans.\n",
      "  fig.canvas.print_figure(bytes_io, **kw)\n",
      "findfont: Font family 'NanumBarunGothic' not found.\n",
      "findfont: Font family 'NanumBarunGothic' not found.\n",
      "findfont: Font family 'NanumBarunGothic' not found.\n",
      "findfont: Font family 'NanumBarunGothic' not found.\n",
      "findfont: Font family 'NanumBarunGothic' not found.\n",
      "findfont: Font family 'NanumBarunGothic' not found.\n",
      "findfont: Font family 'NanumBarunGothic' not found.\n",
      "findfont: Font family 'NanumBarunGothic' not found.\n",
      "findfont: Font family 'NanumBarunGothic' not found.\n",
      "findfont: Font family 'NanumBarunGothic' not found.\n",
      "findfont: Font family 'NanumBarunGothic' not found.\n",
      "findfont: Font family 'NanumBarunGothic' not found.\n",
      "findfont: Font family 'NanumBarunGothic' not found.\n",
      "findfont: Font family 'NanumBarunGothic' not found.\n",
      "findfont: Font family 'NanumBarunGothic' not found.\n",
      "findfont: Font family 'NanumBarunGothic' not found.\n",
      "findfont: Font family 'NanumBarunGothic' not found.\n",
      "findfont: Font family 'NanumBarunGothic' not found.\n",
      "findfont: Font family 'NanumBarunGothic' not found.\n",
      "findfont: Font family 'NanumBarunGothic' not found.\n",
      "findfont: Font family 'NanumBarunGothic' not found.\n",
      "findfont: Font family 'NanumBarunGothic' not found.\n",
      "findfont: Font family 'NanumBarunGothic' not found.\n",
      "findfont: Font family 'NanumBarunGothic' not found.\n",
      "findfont: Font family 'NanumBarunGothic' not found.\n",
      "findfont: Font family 'NanumBarunGothic' not found.\n",
      "findfont: Font family 'NanumBarunGothic' not found.\n",
      "findfont: Font family 'NanumBarunGothic' not found.\n",
      "findfont: Font family 'NanumBarunGothic' not found.\n",
      "findfont: Font family 'NanumBarunGothic' not found.\n",
      "findfont: Font family 'NanumBarunGothic' not found.\n",
      "findfont: Font family 'NanumBarunGothic' not found.\n",
      "findfont: Font family 'NanumBarunGothic' not found.\n",
      "findfont: Font family 'NanumBarunGothic' not found.\n",
      "findfont: Font family 'NanumBarunGothic' not found.\n",
      "findfont: Font family 'NanumBarunGothic' not found.\n",
      "findfont: Font family 'NanumBarunGothic' not found.\n",
      "findfont: Font family 'NanumBarunGothic' not found.\n",
      "findfont: Font family 'NanumBarunGothic' not found.\n",
      "findfont: Font family 'NanumBarunGothic' not found.\n",
      "findfont: Font family 'NanumBarunGothic' not found.\n",
      "findfont: Font family 'NanumBarunGothic' not found.\n",
      "findfont: Font family 'NanumBarunGothic' not found.\n",
      "findfont: Font family 'NanumBarunGothic' not found.\n",
      "findfont: Font family 'NanumBarunGothic' not found.\n",
      "findfont: Font family 'NanumBarunGothic' not found.\n",
      "findfont: Font family 'NanumBarunGothic' not found.\n",
      "findfont: Font family 'NanumBarunGothic' not found.\n",
      "findfont: Font family 'NanumBarunGothic' not found.\n",
      "findfont: Font family 'NanumBarunGothic' not found.\n",
      "findfont: Font family 'NanumBarunGothic' not found.\n",
      "findfont: Font family 'NanumBarunGothic' not found.\n",
      "findfont: Font family 'NanumBarunGothic' not found.\n",
      "findfont: Font family 'NanumBarunGothic' not found.\n",
      "findfont: Font family 'NanumBarunGothic' not found.\n",
      "findfont: Font family 'NanumBarunGothic' not found.\n",
      "findfont: Font family 'NanumBarunGothic' not found.\n",
      "findfont: Font family 'NanumBarunGothic' not found.\n",
      "findfont: Font family 'NanumBarunGothic' not found.\n",
      "findfont: Font family 'NanumBarunGothic' not found.\n",
      "findfont: Font family 'NanumBarunGothic' not found.\n",
      "findfont: Font family 'NanumBarunGothic' not found.\n",
      "findfont: Font family 'NanumBarunGothic' not found.\n",
      "findfont: Font family 'NanumBarunGothic' not found.\n",
      "findfont: Font family 'NanumBarunGothic' not found.\n",
      "findfont: Font family 'NanumBarunGothic' not found.\n",
      "findfont: Font family 'NanumBarunGothic' not found.\n",
      "findfont: Font family 'NanumBarunGothic' not found.\n",
      "findfont: Font family 'NanumBarunGothic' not found.\n",
      "findfont: Font family 'NanumBarunGothic' not found.\n",
      "findfont: Font family 'NanumBarunGothic' not found.\n",
      "findfont: Font family 'NanumBarunGothic' not found.\n",
      "findfont: Font family 'NanumBarunGothic' not found.\n",
      "findfont: Font family 'NanumBarunGothic' not found.\n"
     ]
    },
    {
     "data": {
      "text/plain": [
       "<Figure size 1000x800 with 1 Axes>"
      ],
      "image/png": "[encoded data removed]"
     },
     "metadata": {
      "image/png": {
       "width": 850,
       "height": 694
      }
     },
     "output_type": "display_data"
    },
    {
     "name": "stderr",
     "output_type": "stream",
     "text": [
      "findfont: Font family 'NanumBarunGothic' not found.\n",
      "findfont: Font family 'NanumBarunGothic' not found.\n",
      "findfont: Font family 'NanumBarunGothic' not found.\n",
      "findfont: Font family 'NanumBarunGothic' not found.\n",
      "findfont: Font family 'NanumBarunGothic' not found.\n",
      "findfont: Font family 'NanumBarunGothic' not found.\n",
      "findfont: Font family 'NanumBarunGothic' not found.\n",
      "findfont: Font family 'NanumBarunGothic' not found.\n",
      "findfont: Font family 'NanumBarunGothic' not found.\n",
      "findfont: Font family 'NanumBarunGothic' not found.\n",
      "findfont: Font family 'NanumBarunGothic' not found.\n",
      "findfont: Font family 'NanumBarunGothic' not found.\n",
      "findfont: Font family 'NanumBarunGothic' not found.\n",
      "findfont: Font family 'NanumBarunGothic' not found.\n",
      "findfont: Font family 'NanumBarunGothic' not found.\n",
      "findfont: Font family 'NanumBarunGothic' not found.\n",
      "findfont: Font family 'NanumBarunGothic' not found.\n",
      "findfont: Font family 'NanumBarunGothic' not found.\n",
      "findfont: Font family 'NanumBarunGothic' not found.\n",
      "findfont: Font family 'NanumBarunGothic' not found.\n",
      "findfont: Font family 'NanumBarunGothic' not found.\n",
      "findfont: Font family 'NanumBarunGothic' not found.\n",
      "findfont: Font family 'NanumBarunGothic' not found.\n",
      "findfont: Font family 'NanumBarunGothic' not found.\n",
      "findfont: Font family 'NanumBarunGothic' not found.\n",
      "findfont: Font family 'NanumBarunGothic' not found.\n",
      "findfont: Font family 'NanumBarunGothic' not found.\n",
      "findfont: Font family 'NanumBarunGothic' not found.\n",
      "findfont: Font family 'NanumBarunGothic' not found.\n",
      "findfont: Font family 'NanumBarunGothic' not found.\n",
      "findfont: Font family 'NanumBarunGothic' not found.\n",
      "findfont: Font family 'NanumBarunGothic' not found.\n",
      "findfont: Font family 'NanumBarunGothic' not found.\n",
      "findfont: Font family 'NanumBarunGothic' not found.\n",
      "findfont: Font family 'NanumBarunGothic' not found.\n",
      "findfont: Font family 'NanumBarunGothic' not found.\n",
      "findfont: Font family 'NanumBarunGothic' not found.\n",
      "findfont: Font family 'NanumBarunGothic' not found.\n",
      "findfont: Font family 'NanumBarunGothic' not found.\n",
      "findfont: Font family 'NanumBarunGothic' not found.\n",
      "findfont: Font family 'NanumBarunGothic' not found.\n",
      "findfont: Font family 'NanumBarunGothic' not found.\n",
      "findfont: Font family 'NanumBarunGothic' not found.\n",
      "findfont: Font family 'NanumBarunGothic' not found.\n",
      "findfont: Font family 'NanumBarunGothic' not found.\n",
      "findfont: Font family 'NanumBarunGothic' not found.\n",
      "findfont: Font family 'NanumBarunGothic' not found.\n",
      "findfont: Font family 'NanumBarunGothic' not found.\n",
      "findfont: Font family 'NanumBarunGothic' not found.\n",
      "findfont: Font family 'NanumBarunGothic' not found.\n",
      "findfont: Font family 'NanumBarunGothic' not found.\n",
      "findfont: Font family 'NanumBarunGothic' not found.\n",
      "findfont: Font family 'NanumBarunGothic' not found.\n",
      "findfont: Font family 'NanumBarunGothic' not found.\n",
      "findfont: Font family 'NanumBarunGothic' not found.\n",
      "findfont: Font family 'NanumBarunGothic' not found.\n",
      "findfont: Font family 'NanumBarunGothic' not found.\n",
      "findfont: Font family 'NanumBarunGothic' not found.\n",
      "findfont: Font family 'NanumBarunGothic' not found.\n",
      "findfont: Font family 'NanumBarunGothic' not found.\n",
      "findfont: Font family 'NanumBarunGothic' not found.\n",
      "findfont: Font family 'NanumBarunGothic' not found.\n",
      "findfont: Font family 'NanumBarunGothic' not found.\n",
      "findfont: Font family 'NanumBarunGothic' not found.\n",
      "findfont: Font family 'NanumBarunGothic' not found.\n",
      "findfont: Font family 'NanumBarunGothic' not found.\n",
      "findfont: Font family 'NanumBarunGothic' not found.\n",
      "findfont: Font family 'NanumBarunGothic' not found.\n",
      "findfont: Font family 'NanumBarunGothic' not found.\n",
      "findfont: Font family 'NanumBarunGothic' not found.\n"
     ]
    },
    {
     "data": {
      "text/plain": [
       "<Figure size 1000x500 with 1 Axes>"
      ],
      "image/png": "[encoded data removed]"
     },
     "metadata": {
      "image/png": {
       "width": 826,
       "height": 452
      }
     },
     "output_type": "display_data"
    }
   ],
   "execution_count": 34
  },
  {
   "cell_type": "code",
   "metadata": {
    "id": "dSgX_6KemPi7",
    "executionInfo": {
     "status": "ok",
     "timestamp": 1698387476979,
     "user_tz": -540,
     "elapsed": 365,
     "user": {
      "displayName": "Yongjin Jeong",
      "userId": "03658406798560557048"
     }
    },
    "colab": {
     "base_uri": "https://localhost:8080/"
    },
    "outputId": "bbc3c753-3782-4ec3-bf5b-7a92fddfcf09",
    "ExecuteTime": {
     "end_time": "2024-11-24T04:51:21.602340Z",
     "start_time": "2024-11-24T04:51:21.599341Z"
    }
   },
   "source": [
    "km = KMeans(n_clusters= 3).fit(df2)"
   ],
   "outputs": [],
   "execution_count": 35
  },
  {
   "cell_type": "code",
   "metadata": {
    "id": "s7aldx6MmPi9",
    "executionInfo": {
     "status": "ok",
     "timestamp": 1698387477493,
     "user_tz": -540,
     "elapsed": 2,
     "user": {
      "displayName": "Yongjin Jeong",
      "userId": "03658406798560557048"
     }
    },
    "ExecuteTime": {
     "end_time": "2024-11-24T04:51:21.603974Z",
     "start_time": "2024-11-24T04:51:21.602752Z"
    }
   },
   "source": [
    "centers = km.cluster_centers_\n",
    "km_labels_two_scaled = km.labels_        # for compare later on"
   ],
   "outputs": [],
   "execution_count": 36
  },
  {
   "cell_type": "code",
   "metadata": {
    "id": "BRDRvLBCmPi_",
    "colab": {
     "base_uri": "https://localhost:8080/",
     "height": 561
    },
    "executionInfo": {
     "status": "ok",
     "timestamp": 1698387480101,
     "user_tz": -540,
     "elapsed": 1116,
     "user": {
      "displayName": "Yongjin Jeong",
      "userId": "03658406798560557048"
     }
    },
    "outputId": "e26e0f21-6cb5-471c-af50-ad04b5c069e6",
    "ExecuteTime": {
     "end_time": "2024-11-24T04:51:21.665679Z",
     "start_time": "2024-11-24T04:51:21.604399Z"
    }
   },
   "source": [
    "plt.clf()\n",
    "plt.figure(figsize=(8, 6))\n",
    "plt.xlabel('서비스업')\n",
    "plt.ylabel('제조업')\n",
    "\n",
    "for n in range(df2.shape[0]):\n",
    "    label = km.labels_[n]\n",
    "    plt.scatter(df2['서비스업'][n], df2['제조업'][n], c=my_color[label], marker=my_markers[label], s=100)\n",
    "    plt.text(df2['서비스업'][n]*1.05, df2['제조업'][n]*0.99, df2.index[n])\n",
    "\n",
    "for i in range(km.n_clusters):\n",
    "    plt.scatter(centers[i][0], centers[i][1], c = 'k', s= 50)"
   ],
   "outputs": [
    {
     "name": "stderr",
     "output_type": "stream",
     "text": [
      "/tmp/ipykernel_6350/3377867425.py:8: FutureWarning: Series.__getitem__ treating keys as positions is deprecated. In a future version, integer keys will always be treated as labels (consistent with DataFrame behavior). To access a value by position, use `ser.iloc[pos]`\n",
      "  plt.scatter(df2['서비스업'][n], df2['제조업'][n], c=my_color[label], marker=my_markers[label], s=100)\n",
      "/tmp/ipykernel_6350/3377867425.py:9: FutureWarning: Series.__getitem__ treating keys as positions is deprecated. In a future version, integer keys will always be treated as labels (consistent with DataFrame behavior). To access a value by position, use `ser.iloc[pos]`\n",
      "  plt.text(df2['서비스업'][n]*1.05, df2['제조업'][n]*0.99, df2.index[n])\n",
      "findfont: Font family 'NanumBarunGothic' not found.\n",
      "findfont: Font family 'NanumBarunGothic' not found.\n",
      "findfont: Font family 'NanumBarunGothic' not found.\n",
      "findfont: Font family 'NanumBarunGothic' not found.\n",
      "findfont: Font family 'NanumBarunGothic' not found.\n",
      "findfont: Font family 'NanumBarunGothic' not found.\n",
      "findfont: Font family 'NanumBarunGothic' not found.\n",
      "findfont: Font family 'NanumBarunGothic' not found.\n",
      "findfont: Font family 'NanumBarunGothic' not found.\n",
      "findfont: Font family 'NanumBarunGothic' not found.\n",
      "findfont: Font family 'NanumBarunGothic' not found.\n",
      "findfont: Font family 'NanumBarunGothic' not found.\n",
      "findfont: Font family 'NanumBarunGothic' not found.\n",
      "findfont: Font family 'NanumBarunGothic' not found.\n",
      "findfont: Font family 'NanumBarunGothic' not found.\n",
      "findfont: Font family 'NanumBarunGothic' not found.\n",
      "findfont: Font family 'NanumBarunGothic' not found.\n",
      "findfont: Font family 'NanumBarunGothic' not found.\n",
      "/home/unsi/anaconda3/envs/forpytorch/lib/python3.12/site-packages/IPython/core/events.py:82: UserWarning: Glyph 49436 (\\N{HANGUL SYLLABLE SEO}) missing from font(s) DejaVu Sans.\n",
      "  func(*args, **kwargs)\n",
      "/home/unsi/anaconda3/envs/forpytorch/lib/python3.12/site-packages/IPython/core/events.py:82: UserWarning: Glyph 48708 (\\N{HANGUL SYLLABLE BI}) missing from font(s) DejaVu Sans.\n",
      "  func(*args, **kwargs)\n",
      "/home/unsi/anaconda3/envs/forpytorch/lib/python3.12/site-packages/IPython/core/events.py:82: UserWarning: Glyph 49828 (\\N{HANGUL SYLLABLE SEU}) missing from font(s) DejaVu Sans.\n",
      "  func(*args, **kwargs)\n",
      "/home/unsi/anaconda3/envs/forpytorch/lib/python3.12/site-packages/IPython/core/events.py:82: UserWarning: Glyph 50629 (\\N{HANGUL SYLLABLE EOB}) missing from font(s) DejaVu Sans.\n",
      "  func(*args, **kwargs)\n",
      "findfont: Font family 'NanumBarunGothic' not found.\n",
      "findfont: Font family 'NanumBarunGothic' not found.\n",
      "findfont: Font family 'NanumBarunGothic' not found.\n",
      "findfont: Font family 'NanumBarunGothic' not found.\n",
      "findfont: Font family 'NanumBarunGothic' not found.\n",
      "findfont: Font family 'NanumBarunGothic' not found.\n",
      "findfont: Font family 'NanumBarunGothic' not found.\n",
      "findfont: Font family 'NanumBarunGothic' not found.\n",
      "findfont: Font family 'NanumBarunGothic' not found.\n",
      "findfont: Font family 'NanumBarunGothic' not found.\n",
      "/home/unsi/anaconda3/envs/forpytorch/lib/python3.12/site-packages/IPython/core/events.py:82: UserWarning: Glyph 51228 (\\N{HANGUL SYLLABLE JE}) missing from font(s) DejaVu Sans.\n",
      "  func(*args, **kwargs)\n",
      "/home/unsi/anaconda3/envs/forpytorch/lib/python3.12/site-packages/IPython/core/events.py:82: UserWarning: Glyph 51312 (\\N{HANGUL SYLLABLE JO}) missing from font(s) DejaVu Sans.\n",
      "  func(*args, **kwargs)\n",
      "findfont: Font family 'NanumBarunGothic' not found.\n",
      "findfont: Font family 'NanumBarunGothic' not found.\n",
      "/home/unsi/anaconda3/envs/forpytorch/lib/python3.12/site-packages/IPython/core/events.py:82: UserWarning: Glyph 44053 (\\N{HANGUL SYLLABLE GANG}) missing from font(s) DejaVu Sans.\n",
      "  func(*args, **kwargs)\n",
      "/home/unsi/anaconda3/envs/forpytorch/lib/python3.12/site-packages/IPython/core/events.py:82: UserWarning: Glyph 50896 (\\N{HANGUL SYLLABLE WEON}) missing from font(s) DejaVu Sans.\n",
      "  func(*args, **kwargs)\n",
      "findfont: Font family 'NanumBarunGothic' not found.\n",
      "findfont: Font family 'NanumBarunGothic' not found.\n",
      "/home/unsi/anaconda3/envs/forpytorch/lib/python3.12/site-packages/IPython/core/events.py:82: UserWarning: Glyph 44221 (\\N{HANGUL SYLLABLE GYEONG}) missing from font(s) DejaVu Sans.\n",
      "  func(*args, **kwargs)\n",
      "/home/unsi/anaconda3/envs/forpytorch/lib/python3.12/site-packages/IPython/core/events.py:82: UserWarning: Glyph 45224 (\\N{HANGUL SYLLABLE NAM}) missing from font(s) DejaVu Sans.\n",
      "  func(*args, **kwargs)\n",
      "findfont: Font family 'NanumBarunGothic' not found.\n",
      "findfont: Font family 'NanumBarunGothic' not found.\n",
      "/home/unsi/anaconda3/envs/forpytorch/lib/python3.12/site-packages/IPython/core/events.py:82: UserWarning: Glyph 48513 (\\N{HANGUL SYLLABLE BUG}) missing from font(s) DejaVu Sans.\n",
      "  func(*args, **kwargs)\n",
      "findfont: Font family 'NanumBarunGothic' not found.\n",
      "findfont: Font family 'NanumBarunGothic' not found.\n",
      "/home/unsi/anaconda3/envs/forpytorch/lib/python3.12/site-packages/IPython/core/events.py:82: UserWarning: Glyph 44305 (\\N{HANGUL SYLLABLE GWANG}) missing from font(s) DejaVu Sans.\n",
      "  func(*args, **kwargs)\n",
      "/home/unsi/anaconda3/envs/forpytorch/lib/python3.12/site-packages/IPython/core/events.py:82: UserWarning: Glyph 51452 (\\N{HANGUL SYLLABLE JU}) missing from font(s) DejaVu Sans.\n",
      "  func(*args, **kwargs)\n",
      "findfont: Font family 'NanumBarunGothic' not found.\n",
      "findfont: Font family 'NanumBarunGothic' not found.\n",
      "/home/unsi/anaconda3/envs/forpytorch/lib/python3.12/site-packages/IPython/core/events.py:82: UserWarning: Glyph 45824 (\\N{HANGUL SYLLABLE DAE}) missing from font(s) DejaVu Sans.\n",
      "  func(*args, **kwargs)\n",
      "/home/unsi/anaconda3/envs/forpytorch/lib/python3.12/site-packages/IPython/core/events.py:82: UserWarning: Glyph 44396 (\\N{HANGUL SYLLABLE GU}) missing from font(s) DejaVu Sans.\n",
      "  func(*args, **kwargs)\n",
      "findfont: Font family 'NanumBarunGothic' not found.\n",
      "findfont: Font family 'NanumBarunGothic' not found.\n",
      "/home/unsi/anaconda3/envs/forpytorch/lib/python3.12/site-packages/IPython/core/events.py:82: UserWarning: Glyph 51204 (\\N{HANGUL SYLLABLE JEON}) missing from font(s) DejaVu Sans.\n",
      "  func(*args, **kwargs)\n",
      "findfont: Font family 'NanumBarunGothic' not found.\n",
      "findfont: Font family 'NanumBarunGothic' not found.\n",
      "/home/unsi/anaconda3/envs/forpytorch/lib/python3.12/site-packages/IPython/core/events.py:82: UserWarning: Glyph 48512 (\\N{HANGUL SYLLABLE BU}) missing from font(s) DejaVu Sans.\n",
      "  func(*args, **kwargs)\n",
      "/home/unsi/anaconda3/envs/forpytorch/lib/python3.12/site-packages/IPython/core/events.py:82: UserWarning: Glyph 49328 (\\N{HANGUL SYLLABLE SAN}) missing from font(s) DejaVu Sans.\n",
      "  func(*args, **kwargs)\n",
      "findfont: Font family 'NanumBarunGothic' not found.\n",
      "findfont: Font family 'NanumBarunGothic' not found.\n",
      "/home/unsi/anaconda3/envs/forpytorch/lib/python3.12/site-packages/IPython/core/events.py:82: UserWarning: Glyph 49464 (\\N{HANGUL SYLLABLE SE}) missing from font(s) DejaVu Sans.\n",
      "  func(*args, **kwargs)\n",
      "/home/unsi/anaconda3/envs/forpytorch/lib/python3.12/site-packages/IPython/core/events.py:82: UserWarning: Glyph 51333 (\\N{HANGUL SYLLABLE JONG}) missing from font(s) DejaVu Sans.\n",
      "  func(*args, **kwargs)\n",
      "findfont: Font family 'NanumBarunGothic' not found.\n",
      "findfont: Font family 'NanumBarunGothic' not found.\n",
      "/home/unsi/anaconda3/envs/forpytorch/lib/python3.12/site-packages/IPython/core/events.py:82: UserWarning: Glyph 50872 (\\N{HANGUL SYLLABLE UL}) missing from font(s) DejaVu Sans.\n",
      "  func(*args, **kwargs)\n",
      "findfont: Font family 'NanumBarunGothic' not found.\n",
      "findfont: Font family 'NanumBarunGothic' not found.\n",
      "/home/unsi/anaconda3/envs/forpytorch/lib/python3.12/site-packages/IPython/core/events.py:82: UserWarning: Glyph 51064 (\\N{HANGUL SYLLABLE IN}) missing from font(s) DejaVu Sans.\n",
      "  func(*args, **kwargs)\n",
      "/home/unsi/anaconda3/envs/forpytorch/lib/python3.12/site-packages/IPython/core/events.py:82: UserWarning: Glyph 52380 (\\N{HANGUL SYLLABLE CEON}) missing from font(s) DejaVu Sans.\n",
      "  func(*args, **kwargs)\n",
      "findfont: Font family 'NanumBarunGothic' not found.\n",
      "findfont: Font family 'NanumBarunGothic' not found.\n",
      "findfont: Font family 'NanumBarunGothic' not found.\n",
      "findfont: Font family 'NanumBarunGothic' not found.\n",
      "findfont: Font family 'NanumBarunGothic' not found.\n",
      "findfont: Font family 'NanumBarunGothic' not found.\n",
      "findfont: Font family 'NanumBarunGothic' not found.\n",
      "findfont: Font family 'NanumBarunGothic' not found.\n",
      "/home/unsi/anaconda3/envs/forpytorch/lib/python3.12/site-packages/IPython/core/events.py:82: UserWarning: Glyph 52649 (\\N{HANGUL SYLLABLE CUNG}) missing from font(s) DejaVu Sans.\n",
      "  func(*args, **kwargs)\n",
      "findfont: Font family 'NanumBarunGothic' not found.\n",
      "findfont: Font family 'NanumBarunGothic' not found.\n",
      "findfont: Font family 'NanumBarunGothic' not found.\n"
     ]
    }
   ],
   "execution_count": 37
  },
  {
   "cell_type": "markdown",
   "metadata": {
    "id": "4jcn-NQpmPjC"
   },
   "source": [
    "### Let's use all features for clustering (instead of two)"
   ]
  },
  {
   "cell_type": "code",
   "metadata": {
    "id": "ee1ywusOmPjD",
    "colab": {
     "base_uri": "https://localhost:8080/",
     "height": 408
    },
    "executionInfo": {
     "status": "ok",
     "timestamp": 1698387490852,
     "user_tz": -540,
     "elapsed": 398,
     "user": {
      "displayName": "Yongjin Jeong",
      "userId": "03658406798560557048"
     }
    },
    "outputId": "2817fcc0-3cda-4890-f61f-261a1cdbcee1",
    "ExecuteTime": {
     "end_time": "2024-11-24T04:51:21.671147Z",
     "start_time": "2024-11-24T04:51:21.666116Z"
    }
   },
   "source": [
    "df.head()"
   ],
   "outputs": [
    {
     "data": {
      "text/plain": [
       "         주거용      공공용      서비스업     업무용합계     농림어업      광업       제조업    식료품제조  \\\n",
       "구분                                                                              \n",
       "강원   1940933  1400421   6203749   7604170   607139  398287   6002286   546621   \n",
       "경기  16587710  5533662  33434551  38968213  2371347  317263  56603327  2544420   \n",
       "경남   4260988  1427560   8667737  10095297  2141813   95989  18053778   932743   \n",
       "경북   3302463  1578115   8487402  10065517  1747462  224568  30115601   566071   \n",
       "광주   1954876   565527   3174973   3740500    74608    2898   2910768   161072   \n",
       "\n",
       "      섬유,의류   목재,나무  ...     조립금속     기타기계    사무기기     전기기기     영상,음향  \\\n",
       "구분                   ...                                                \n",
       "강원    13027   19147  ...    39477    35063    2019    38062     43986   \n",
       "경기  2109963  529274  ...  2302355  3613798  317244  1040171  24519644   \n",
       "경남   346974   60160  ...  1699879  1902913    8070   924235    534196   \n",
       "경북  3780171   72680  ...   933178   782570   14468   750786   4174971   \n",
       "광주   295922    6782  ...   156396   198847    5967   236622    723764   \n",
       "\n",
       "        자동차     기타운송    가구및기타    재생재료     산업용합계  \n",
       "구분                                               \n",
       "강원   113448   108629    12872    3418   7007712  \n",
       "경기  2977165    67594  1833112  133041  59291937  \n",
       "경남  2156059  2048646   262523   47662  20291580  \n",
       "경북  2356890   123935    60280   77104  32087631  \n",
       "광주   512148     5140    13392   16049   2988274  \n",
       "\n",
       "[5 rows x 26 columns]"
      ],
      "text/html": [
       "<div>\n",
       "<style scoped>\n",
       "    .dataframe tbody tr th:only-of-type {\n",
       "        vertical-align: middle;\n",
       "    }\n",
       "\n",
       "    .dataframe tbody tr th {\n",
       "        vertical-align: top;\n",
       "    }\n",
       "\n",
       "    .dataframe thead th {\n",
       "        text-align: right;\n",
       "    }\n",
       "</style>\n",
       "<table border=\"1\" class=\"dataframe\">\n",
       "  <thead>\n",
       "    <tr style=\"text-align: right;\">\n",
       "      <th></th>\n",
       "      <th>주거용</th>\n",
       "      <th>공공용</th>\n",
       "      <th>서비스업</th>\n",
       "      <th>업무용합계</th>\n",
       "      <th>농림어업</th>\n",
       "      <th>광업</th>\n",
       "      <th>제조업</th>\n",
       "      <th>식료품제조</th>\n",
       "      <th>섬유,의류</th>\n",
       "      <th>목재,나무</th>\n",
       "      <th>...</th>\n",
       "      <th>조립금속</th>\n",
       "      <th>기타기계</th>\n",
       "      <th>사무기기</th>\n",
       "      <th>전기기기</th>\n",
       "      <th>영상,음향</th>\n",
       "      <th>자동차</th>\n",
       "      <th>기타운송</th>\n",
       "      <th>가구및기타</th>\n",
       "      <th>재생재료</th>\n",
       "      <th>산업용합계</th>\n",
       "    </tr>\n",
       "    <tr>\n",
       "      <th>구분</th>\n",
       "      <th></th>\n",
       "      <th></th>\n",
       "      <th></th>\n",
       "      <th></th>\n",
       "      <th></th>\n",
       "      <th></th>\n",
       "      <th></th>\n",
       "      <th></th>\n",
       "      <th></th>\n",
       "      <th></th>\n",
       "      <th></th>\n",
       "      <th></th>\n",
       "      <th></th>\n",
       "      <th></th>\n",
       "      <th></th>\n",
       "      <th></th>\n",
       "      <th></th>\n",
       "      <th></th>\n",
       "      <th></th>\n",
       "      <th></th>\n",
       "      <th></th>\n",
       "    </tr>\n",
       "  </thead>\n",
       "  <tbody>\n",
       "    <tr>\n",
       "      <th>강원</th>\n",
       "      <td>1940933</td>\n",
       "      <td>1400421</td>\n",
       "      <td>6203749</td>\n",
       "      <td>7604170</td>\n",
       "      <td>607139</td>\n",
       "      <td>398287</td>\n",
       "      <td>6002286</td>\n",
       "      <td>546621</td>\n",
       "      <td>13027</td>\n",
       "      <td>19147</td>\n",
       "      <td>...</td>\n",
       "      <td>39477</td>\n",
       "      <td>35063</td>\n",
       "      <td>2019</td>\n",
       "      <td>38062</td>\n",
       "      <td>43986</td>\n",
       "      <td>113448</td>\n",
       "      <td>108629</td>\n",
       "      <td>12872</td>\n",
       "      <td>3418</td>\n",
       "      <td>7007712</td>\n",
       "    </tr>\n",
       "    <tr>\n",
       "      <th>경기</th>\n",
       "      <td>16587710</td>\n",
       "      <td>5533662</td>\n",
       "      <td>33434551</td>\n",
       "      <td>38968213</td>\n",
       "      <td>2371347</td>\n",
       "      <td>317263</td>\n",
       "      <td>56603327</td>\n",
       "      <td>2544420</td>\n",
       "      <td>2109963</td>\n",
       "      <td>529274</td>\n",
       "      <td>...</td>\n",
       "      <td>2302355</td>\n",
       "      <td>3613798</td>\n",
       "      <td>317244</td>\n",
       "      <td>1040171</td>\n",
       "      <td>24519644</td>\n",
       "      <td>2977165</td>\n",
       "      <td>67594</td>\n",
       "      <td>1833112</td>\n",
       "      <td>133041</td>\n",
       "      <td>59291937</td>\n",
       "    </tr>\n",
       "    <tr>\n",
       "      <th>경남</th>\n",
       "      <td>4260988</td>\n",
       "      <td>1427560</td>\n",
       "      <td>8667737</td>\n",
       "      <td>10095297</td>\n",
       "      <td>2141813</td>\n",
       "      <td>95989</td>\n",
       "      <td>18053778</td>\n",
       "      <td>932743</td>\n",
       "      <td>346974</td>\n",
       "      <td>60160</td>\n",
       "      <td>...</td>\n",
       "      <td>1699879</td>\n",
       "      <td>1902913</td>\n",
       "      <td>8070</td>\n",
       "      <td>924235</td>\n",
       "      <td>534196</td>\n",
       "      <td>2156059</td>\n",
       "      <td>2048646</td>\n",
       "      <td>262523</td>\n",
       "      <td>47662</td>\n",
       "      <td>20291580</td>\n",
       "    </tr>\n",
       "    <tr>\n",
       "      <th>경북</th>\n",
       "      <td>3302463</td>\n",
       "      <td>1578115</td>\n",
       "      <td>8487402</td>\n",
       "      <td>10065517</td>\n",
       "      <td>1747462</td>\n",
       "      <td>224568</td>\n",
       "      <td>30115601</td>\n",
       "      <td>566071</td>\n",
       "      <td>3780171</td>\n",
       "      <td>72680</td>\n",
       "      <td>...</td>\n",
       "      <td>933178</td>\n",
       "      <td>782570</td>\n",
       "      <td>14468</td>\n",
       "      <td>750786</td>\n",
       "      <td>4174971</td>\n",
       "      <td>2356890</td>\n",
       "      <td>123935</td>\n",
       "      <td>60280</td>\n",
       "      <td>77104</td>\n",
       "      <td>32087631</td>\n",
       "    </tr>\n",
       "    <tr>\n",
       "      <th>광주</th>\n",
       "      <td>1954876</td>\n",
       "      <td>565527</td>\n",
       "      <td>3174973</td>\n",
       "      <td>3740500</td>\n",
       "      <td>74608</td>\n",
       "      <td>2898</td>\n",
       "      <td>2910768</td>\n",
       "      <td>161072</td>\n",
       "      <td>295922</td>\n",
       "      <td>6782</td>\n",
       "      <td>...</td>\n",
       "      <td>156396</td>\n",
       "      <td>198847</td>\n",
       "      <td>5967</td>\n",
       "      <td>236622</td>\n",
       "      <td>723764</td>\n",
       "      <td>512148</td>\n",
       "      <td>5140</td>\n",
       "      <td>13392</td>\n",
       "      <td>16049</td>\n",
       "      <td>2988274</td>\n",
       "    </tr>\n",
       "  </tbody>\n",
       "</table>\n",
       "<p>5 rows × 26 columns</p>\n",
       "</div>"
      ]
     },
     "execution_count": 38,
     "metadata": {},
     "output_type": "execute_result"
    }
   ],
   "execution_count": 38
  },
  {
   "cell_type": "code",
   "metadata": {
    "id": "JHh1YO0EmPjI",
    "executionInfo": {
     "status": "ok",
     "timestamp": 1698387495025,
     "user_tz": -540,
     "elapsed": 346,
     "user": {
      "displayName": "Yongjin Jeong",
      "userId": "03658406798560557048"
     }
    },
    "ExecuteTime": {
     "end_time": "2024-11-24T04:51:21.673261Z",
     "start_time": "2024-11-24T04:51:21.671562Z"
    }
   },
   "source": [
    "df.drop(['업무용합계', '산업용합계', '합계'], axis=1, inplace=True, errors='ignore')\n",
    "df.drop(['경기','서울'], inplace=True,errors='ignore')"
   ],
   "outputs": [],
   "execution_count": 39
  },
  {
   "cell_type": "code",
   "metadata": {
    "id": "fSmUGZS5mPjK",
    "scrolled": false,
    "colab": {
     "base_uri": "https://localhost:8080/",
     "height": 408
    },
    "executionInfo": {
     "status": "ok",
     "timestamp": 1698387499692,
     "user_tz": -540,
     "elapsed": 366,
     "user": {
      "displayName": "Yongjin Jeong",
      "userId": "03658406798560557048"
     }
    },
    "outputId": "b65b13f8-b579-42ca-c60e-e575de35b21d",
    "ExecuteTime": {
     "end_time": "2024-11-24T04:51:21.678395Z",
     "start_time": "2024-11-24T04:51:21.673667Z"
    }
   },
   "source": [
    "df.head()"
   ],
   "outputs": [
    {
     "data": {
      "text/plain": [
       "        주거용      공공용     서비스업     농림어업      광업       제조업   식료품제조    섬유,의류  \\\n",
       "구분                                                                          \n",
       "강원  1940933  1400421  6203749   607139  398287   6002286  546621    13027   \n",
       "경남  4260988  1427560  8667737  2141813   95989  18053778  932743   346974   \n",
       "경북  3302463  1578115  8487402  1747462  224568  30115601  566071  3780171   \n",
       "광주  1954876   565527  3174973    74608    2898   2910768  161072   295922   \n",
       "대구  3151904   826396  5470438    69142    5858   5862633  212626  1057342   \n",
       "\n",
       "    목재,나무   펄프,종이  ...      1차금속     조립금속     기타기계   사무기기    전기기기    영상,음향  \\\n",
       "구분                 ...                                                       \n",
       "강원  19147   24382  ...   1038913    39477    35063   2019   38062    43986   \n",
       "경남  60160  817685  ...   3809547  1699879  1902913   8070  924235   534196   \n",
       "경북  72680  361772  ...  10874970   933178   782570  14468  750786  4174971   \n",
       "광주   6782   41827  ...     75702   156396   198847   5967  236622   723764   \n",
       "대구  16215  445646  ...    317580   661307   516493  58446  180189   252662   \n",
       "\n",
       "        자동차     기타운송   가구및기타   재생재료  \n",
       "구분                                   \n",
       "강원   113448   108629   12872   3418  \n",
       "경남  2156059  2048646  262523  47662  \n",
       "경북  2356890   123935   60280  77104  \n",
       "광주   512148     5140   13392  16049  \n",
       "대구  1381273    68127   41814  33616  \n",
       "\n",
       "[5 rows x 24 columns]"
      ],
      "text/html": [
       "<div>\n",
       "<style scoped>\n",
       "    .dataframe tbody tr th:only-of-type {\n",
       "        vertical-align: middle;\n",
       "    }\n",
       "\n",
       "    .dataframe tbody tr th {\n",
       "        vertical-align: top;\n",
       "    }\n",
       "\n",
       "    .dataframe thead th {\n",
       "        text-align: right;\n",
       "    }\n",
       "</style>\n",
       "<table border=\"1\" class=\"dataframe\">\n",
       "  <thead>\n",
       "    <tr style=\"text-align: right;\">\n",
       "      <th></th>\n",
       "      <th>주거용</th>\n",
       "      <th>공공용</th>\n",
       "      <th>서비스업</th>\n",
       "      <th>농림어업</th>\n",
       "      <th>광업</th>\n",
       "      <th>제조업</th>\n",
       "      <th>식료품제조</th>\n",
       "      <th>섬유,의류</th>\n",
       "      <th>목재,나무</th>\n",
       "      <th>펄프,종이</th>\n",
       "      <th>...</th>\n",
       "      <th>1차금속</th>\n",
       "      <th>조립금속</th>\n",
       "      <th>기타기계</th>\n",
       "      <th>사무기기</th>\n",
       "      <th>전기기기</th>\n",
       "      <th>영상,음향</th>\n",
       "      <th>자동차</th>\n",
       "      <th>기타운송</th>\n",
       "      <th>가구및기타</th>\n",
       "      <th>재생재료</th>\n",
       "    </tr>\n",
       "    <tr>\n",
       "      <th>구분</th>\n",
       "      <th></th>\n",
       "      <th></th>\n",
       "      <th></th>\n",
       "      <th></th>\n",
       "      <th></th>\n",
       "      <th></th>\n",
       "      <th></th>\n",
       "      <th></th>\n",
       "      <th></th>\n",
       "      <th></th>\n",
       "      <th></th>\n",
       "      <th></th>\n",
       "      <th></th>\n",
       "      <th></th>\n",
       "      <th></th>\n",
       "      <th></th>\n",
       "      <th></th>\n",
       "      <th></th>\n",
       "      <th></th>\n",
       "      <th></th>\n",
       "      <th></th>\n",
       "    </tr>\n",
       "  </thead>\n",
       "  <tbody>\n",
       "    <tr>\n",
       "      <th>강원</th>\n",
       "      <td>1940933</td>\n",
       "      <td>1400421</td>\n",
       "      <td>6203749</td>\n",
       "      <td>607139</td>\n",
       "      <td>398287</td>\n",
       "      <td>6002286</td>\n",
       "      <td>546621</td>\n",
       "      <td>13027</td>\n",
       "      <td>19147</td>\n",
       "      <td>24382</td>\n",
       "      <td>...</td>\n",
       "      <td>1038913</td>\n",
       "      <td>39477</td>\n",
       "      <td>35063</td>\n",
       "      <td>2019</td>\n",
       "      <td>38062</td>\n",
       "      <td>43986</td>\n",
       "      <td>113448</td>\n",
       "      <td>108629</td>\n",
       "      <td>12872</td>\n",
       "      <td>3418</td>\n",
       "    </tr>\n",
       "    <tr>\n",
       "      <th>경남</th>\n",
       "      <td>4260988</td>\n",
       "      <td>1427560</td>\n",
       "      <td>8667737</td>\n",
       "      <td>2141813</td>\n",
       "      <td>95989</td>\n",
       "      <td>18053778</td>\n",
       "      <td>932743</td>\n",
       "      <td>346974</td>\n",
       "      <td>60160</td>\n",
       "      <td>817685</td>\n",
       "      <td>...</td>\n",
       "      <td>3809547</td>\n",
       "      <td>1699879</td>\n",
       "      <td>1902913</td>\n",
       "      <td>8070</td>\n",
       "      <td>924235</td>\n",
       "      <td>534196</td>\n",
       "      <td>2156059</td>\n",
       "      <td>2048646</td>\n",
       "      <td>262523</td>\n",
       "      <td>47662</td>\n",
       "    </tr>\n",
       "    <tr>\n",
       "      <th>경북</th>\n",
       "      <td>3302463</td>\n",
       "      <td>1578115</td>\n",
       "      <td>8487402</td>\n",
       "      <td>1747462</td>\n",
       "      <td>224568</td>\n",
       "      <td>30115601</td>\n",
       "      <td>566071</td>\n",
       "      <td>3780171</td>\n",
       "      <td>72680</td>\n",
       "      <td>361772</td>\n",
       "      <td>...</td>\n",
       "      <td>10874970</td>\n",
       "      <td>933178</td>\n",
       "      <td>782570</td>\n",
       "      <td>14468</td>\n",
       "      <td>750786</td>\n",
       "      <td>4174971</td>\n",
       "      <td>2356890</td>\n",
       "      <td>123935</td>\n",
       "      <td>60280</td>\n",
       "      <td>77104</td>\n",
       "    </tr>\n",
       "    <tr>\n",
       "      <th>광주</th>\n",
       "      <td>1954876</td>\n",
       "      <td>565527</td>\n",
       "      <td>3174973</td>\n",
       "      <td>74608</td>\n",
       "      <td>2898</td>\n",
       "      <td>2910768</td>\n",
       "      <td>161072</td>\n",
       "      <td>295922</td>\n",
       "      <td>6782</td>\n",
       "      <td>41827</td>\n",
       "      <td>...</td>\n",
       "      <td>75702</td>\n",
       "      <td>156396</td>\n",
       "      <td>198847</td>\n",
       "      <td>5967</td>\n",
       "      <td>236622</td>\n",
       "      <td>723764</td>\n",
       "      <td>512148</td>\n",
       "      <td>5140</td>\n",
       "      <td>13392</td>\n",
       "      <td>16049</td>\n",
       "    </tr>\n",
       "    <tr>\n",
       "      <th>대구</th>\n",
       "      <td>3151904</td>\n",
       "      <td>826396</td>\n",
       "      <td>5470438</td>\n",
       "      <td>69142</td>\n",
       "      <td>5858</td>\n",
       "      <td>5862633</td>\n",
       "      <td>212626</td>\n",
       "      <td>1057342</td>\n",
       "      <td>16215</td>\n",
       "      <td>445646</td>\n",
       "      <td>...</td>\n",
       "      <td>317580</td>\n",
       "      <td>661307</td>\n",
       "      <td>516493</td>\n",
       "      <td>58446</td>\n",
       "      <td>180189</td>\n",
       "      <td>252662</td>\n",
       "      <td>1381273</td>\n",
       "      <td>68127</td>\n",
       "      <td>41814</td>\n",
       "      <td>33616</td>\n",
       "    </tr>\n",
       "  </tbody>\n",
       "</table>\n",
       "<p>5 rows × 24 columns</p>\n",
       "</div>"
      ]
     },
     "execution_count": 40,
     "metadata": {},
     "output_type": "execute_result"
    }
   ],
   "execution_count": 40
  },
  {
   "cell_type": "code",
   "metadata": {
    "id": "od0HDg2omPjN",
    "executionInfo": {
     "status": "ok",
     "timestamp": 1698387503932,
     "user_tz": -540,
     "elapsed": 341,
     "user": {
      "displayName": "Yongjin Jeong",
      "userId": "03658406798560557048"
     }
    },
    "ExecuteTime": {
     "end_time": "2024-11-24T04:51:21.679936Z",
     "start_time": "2024-11-24T04:51:21.678758Z"
    }
   },
   "source": [
    "index_ = df.index\n",
    "column_ = df.columns"
   ],
   "outputs": [],
   "execution_count": 41
  },
  {
   "cell_type": "code",
   "metadata": {
    "id": "x5L7apTAmPjR",
    "scrolled": true,
    "colab": {
     "base_uri": "https://localhost:8080/"
    },
    "executionInfo": {
     "status": "ok",
     "timestamp": 1698387518583,
     "user_tz": -540,
     "elapsed": 336,
     "user": {
      "displayName": "Yongjin Jeong",
      "userId": "03658406798560557048"
     }
    },
    "outputId": "a64a1f1e-9781-4ed5-c6ef-ddaa30e11ddb",
    "ExecuteTime": {
     "end_time": "2024-11-24T04:51:21.681901Z",
     "start_time": "2024-11-24T04:51:21.680275Z"
    }
   },
   "source": [
    "index_, column_"
   ],
   "outputs": [
    {
     "data": {
      "text/plain": [
       "(Index(['강원', '경남', '경북', '광주', '대구', '대전', '부산', '세종', '울산', '인천', '전남', '전북',\n",
       "        '제주', '충남', '충북'],\n",
       "       dtype='object', name='구분'),\n",
       " Index(['주거용', '공공용', '서비스업', '농림어업', '광업', '제조업', '식료품제조', '섬유,의류', '목재,나무',\n",
       "        '펄프,종이', '출판,인쇄', '석유,화확', '의료,광학', '요업', '1차금속', '조립금속', '기타기계',\n",
       "        '사무기기', '전기기기', '영상,음향', '자동차', '기타운송', '가구및기타', '재생재료'],\n",
       "       dtype='object'))"
      ]
     },
     "execution_count": 42,
     "metadata": {},
     "output_type": "execute_result"
    }
   ],
   "execution_count": 42
  },
  {
   "cell_type": "code",
   "metadata": {
    "colab": {
     "base_uri": "https://localhost:8080/"
    },
    "id": "SGxql6ws2HWy",
    "executionInfo": {
     "status": "ok",
     "timestamp": 1698387530669,
     "user_tz": -540,
     "elapsed": 334,
     "user": {
      "displayName": "Yongjin Jeong",
      "userId": "03658406798560557048"
     }
    },
    "outputId": "cff8c2c1-937d-4290-da6c-69a5bf5ea94b",
    "ExecuteTime": {
     "end_time": "2024-11-24T04:51:21.683900Z",
     "start_time": "2024-11-24T04:51:21.682254Z"
    }
   },
   "source": [
    "type(column_), list(column_)"
   ],
   "outputs": [
    {
     "data": {
      "text/plain": [
       "(pandas.core.indexes.base.Index,\n",
       " ['주거용',\n",
       "  '공공용',\n",
       "  '서비스업',\n",
       "  '농림어업',\n",
       "  '광업',\n",
       "  '제조업',\n",
       "  '식료품제조',\n",
       "  '섬유,의류',\n",
       "  '목재,나무',\n",
       "  '펄프,종이',\n",
       "  '출판,인쇄',\n",
       "  '석유,화확',\n",
       "  '의료,광학',\n",
       "  '요업',\n",
       "  '1차금속',\n",
       "  '조립금속',\n",
       "  '기타기계',\n",
       "  '사무기기',\n",
       "  '전기기기',\n",
       "  '영상,음향',\n",
       "  '자동차',\n",
       "  '기타운송',\n",
       "  '가구및기타',\n",
       "  '재생재료'])"
      ]
     },
     "execution_count": 43,
     "metadata": {},
     "output_type": "execute_result"
    }
   ],
   "execution_count": 43
  },
  {
   "cell_type": "code",
   "metadata": {
    "id": "HEQ-3paMmPjb",
    "colab": {
     "base_uri": "https://localhost:8080/"
    },
    "executionInfo": {
     "status": "ok",
     "timestamp": 1698387549493,
     "user_tz": -540,
     "elapsed": 362,
     "user": {
      "displayName": "Yongjin Jeong",
      "userId": "03658406798560557048"
     }
    },
    "outputId": "22310616-17ea-4f0a-de79-af78ec640bc2",
    "ExecuteTime": {
     "end_time": "2024-11-24T04:51:21.685908Z",
     "start_time": "2024-11-24T04:51:21.684289Z"
    }
   },
   "source": [
    "list(column_).index('제조업'), list(column_).index('서비스업')"
   ],
   "outputs": [
    {
     "data": {
      "text/plain": [
       "(5, 2)"
      ]
     },
     "execution_count": 44,
     "metadata": {},
     "output_type": "execute_result"
    }
   ],
   "execution_count": 44
  },
  {
   "cell_type": "code",
   "metadata": {
    "id": "x1_vu4cgmPjk",
    "executionInfo": {
     "status": "ok",
     "timestamp": 1698387584975,
     "user_tz": -540,
     "elapsed": 425,
     "user": {
      "displayName": "Yongjin Jeong",
      "userId": "03658406798560557048"
     }
    },
    "ExecuteTime": {
     "end_time": "2024-11-24T04:51:21.688709Z",
     "start_time": "2024-11-24T04:51:21.686284Z"
    }
   },
   "source": [
    "from sklearn.preprocessing import StandardScaler\n",
    "scaler = StandardScaler()\n",
    "df_scaled = scaler.fit_transform(df)    # returns an array (not dataframe)"
   ],
   "outputs": [],
   "execution_count": 45
  },
  {
   "cell_type": "code",
   "metadata": {
    "id": "-txdrcZNmPjm",
    "colab": {
     "base_uri": "https://localhost:8080/"
    },
    "executionInfo": {
     "status": "ok",
     "timestamp": 1698387587792,
     "user_tz": -540,
     "elapsed": 342,
     "user": {
      "displayName": "Yongjin Jeong",
      "userId": "03658406798560557048"
     }
    },
    "outputId": "6450d58f-129f-4eb3-f8e9-f346b59f46e3",
    "ExecuteTime": {
     "end_time": "2024-11-24T04:51:21.690508Z",
     "start_time": "2024-11-24T04:51:21.689130Z"
    }
   },
   "source": [
    "print(type(df), type(df_scaled))"
   ],
   "outputs": [
    {
     "name": "stdout",
     "output_type": "stream",
     "text": [
      "<class 'pandas.core.frame.DataFrame'> <class 'numpy.ndarray'>\n"
     ]
    }
   ],
   "execution_count": 46
  },
  {
   "cell_type": "code",
   "metadata": {
    "id": "luxR8xHZmPjo",
    "colab": {
     "base_uri": "https://localhost:8080/",
     "height": 470
    },
    "executionInfo": {
     "status": "ok",
     "timestamp": 1698387592835,
     "user_tz": -540,
     "elapsed": 1095,
     "user": {
      "displayName": "Yongjin Jeong",
      "userId": "03658406798560557048"
     }
    },
    "outputId": "0bc92874-8481-4727-b56a-97e950d36f7b",
    "ExecuteTime": {
     "end_time": "2024-11-24T04:51:21.893888Z",
     "start_time": "2024-11-24T04:51:21.690919Z"
    }
   },
   "source": [
    "Z = linkage(df_scaled, metric='euclidean', method='centroid')\n",
    "plt.figure(figsize=(10, 5))\n",
    "plt.title('Dendrogram for all features (scaled)')\n",
    "dendrogram(Z, labels=index_)   # version 에 따라 list(index_) 로 해야 할 수도 있음\n",
    "plt.show()"
   ],
   "outputs": [
    {
     "data": {
      "text/plain": [
       "<Figure size 640x480 with 0 Axes>"
      ]
     },
     "metadata": {},
     "output_type": "display_data"
    },
    {
     "name": "stderr",
     "output_type": "stream",
     "text": [
      "findfont: Font family 'NanumBarunGothic' not found.\n",
      "findfont: Font family 'NanumBarunGothic' not found.\n",
      "findfont: Font family 'NanumBarunGothic' not found.\n",
      "findfont: Font family 'NanumBarunGothic' not found.\n",
      "findfont: Font family 'NanumBarunGothic' not found.\n",
      "findfont: Font family 'NanumBarunGothic' not found.\n",
      "findfont: Font family 'NanumBarunGothic' not found.\n",
      "findfont: Font family 'NanumBarunGothic' not found.\n",
      "findfont: Font family 'NanumBarunGothic' not found.\n",
      "findfont: Font family 'NanumBarunGothic' not found.\n",
      "/home/unsi/anaconda3/envs/forpytorch/lib/python3.12/site-packages/IPython/core/pylabtools.py:170: UserWarning: Glyph 49436 (\\N{HANGUL SYLLABLE SEO}) missing from font(s) DejaVu Sans.\n",
      "  fig.canvas.print_figure(bytes_io, **kw)\n",
      "/home/unsi/anaconda3/envs/forpytorch/lib/python3.12/site-packages/IPython/core/pylabtools.py:170: UserWarning: Glyph 48708 (\\N{HANGUL SYLLABLE BI}) missing from font(s) DejaVu Sans.\n",
      "  fig.canvas.print_figure(bytes_io, **kw)\n",
      "/home/unsi/anaconda3/envs/forpytorch/lib/python3.12/site-packages/IPython/core/pylabtools.py:170: UserWarning: Glyph 49828 (\\N{HANGUL SYLLABLE SEU}) missing from font(s) DejaVu Sans.\n",
      "  fig.canvas.print_figure(bytes_io, **kw)\n",
      "/home/unsi/anaconda3/envs/forpytorch/lib/python3.12/site-packages/IPython/core/pylabtools.py:170: UserWarning: Glyph 50629 (\\N{HANGUL SYLLABLE EOB}) missing from font(s) DejaVu Sans.\n",
      "  fig.canvas.print_figure(bytes_io, **kw)\n",
      "findfont: Font family 'NanumBarunGothic' not found.\n",
      "findfont: Font family 'NanumBarunGothic' not found.\n",
      "/home/unsi/anaconda3/envs/forpytorch/lib/python3.12/site-packages/IPython/core/pylabtools.py:170: UserWarning: Glyph 51228 (\\N{HANGUL SYLLABLE JE}) missing from font(s) DejaVu Sans.\n",
      "  fig.canvas.print_figure(bytes_io, **kw)\n",
      "/home/unsi/anaconda3/envs/forpytorch/lib/python3.12/site-packages/IPython/core/pylabtools.py:170: UserWarning: Glyph 51312 (\\N{HANGUL SYLLABLE JO}) missing from font(s) DejaVu Sans.\n",
      "  fig.canvas.print_figure(bytes_io, **kw)\n",
      "findfont: Font family 'NanumBarunGothic' not found.\n",
      "/home/unsi/anaconda3/envs/forpytorch/lib/python3.12/site-packages/IPython/core/pylabtools.py:170: UserWarning: Glyph 44053 (\\N{HANGUL SYLLABLE GANG}) missing from font(s) DejaVu Sans.\n",
      "  fig.canvas.print_figure(bytes_io, **kw)\n",
      "/home/unsi/anaconda3/envs/forpytorch/lib/python3.12/site-packages/IPython/core/pylabtools.py:170: UserWarning: Glyph 50896 (\\N{HANGUL SYLLABLE WEON}) missing from font(s) DejaVu Sans.\n",
      "  fig.canvas.print_figure(bytes_io, **kw)\n",
      "findfont: Font family 'NanumBarunGothic' not found.\n",
      "/home/unsi/anaconda3/envs/forpytorch/lib/python3.12/site-packages/IPython/core/pylabtools.py:170: UserWarning: Glyph 44221 (\\N{HANGUL SYLLABLE GYEONG}) missing from font(s) DejaVu Sans.\n",
      "  fig.canvas.print_figure(bytes_io, **kw)\n",
      "/home/unsi/anaconda3/envs/forpytorch/lib/python3.12/site-packages/IPython/core/pylabtools.py:170: UserWarning: Glyph 45224 (\\N{HANGUL SYLLABLE NAM}) missing from font(s) DejaVu Sans.\n",
      "  fig.canvas.print_figure(bytes_io, **kw)\n",
      "findfont: Font family 'NanumBarunGothic' not found.\n",
      "/home/unsi/anaconda3/envs/forpytorch/lib/python3.12/site-packages/IPython/core/pylabtools.py:170: UserWarning: Glyph 48513 (\\N{HANGUL SYLLABLE BUG}) missing from font(s) DejaVu Sans.\n",
      "  fig.canvas.print_figure(bytes_io, **kw)\n",
      "findfont: Font family 'NanumBarunGothic' not found.\n",
      "/home/unsi/anaconda3/envs/forpytorch/lib/python3.12/site-packages/IPython/core/pylabtools.py:170: UserWarning: Glyph 44305 (\\N{HANGUL SYLLABLE GWANG}) missing from font(s) DejaVu Sans.\n",
      "  fig.canvas.print_figure(bytes_io, **kw)\n",
      "/home/unsi/anaconda3/envs/forpytorch/lib/python3.12/site-packages/IPython/core/pylabtools.py:170: UserWarning: Glyph 51452 (\\N{HANGUL SYLLABLE JU}) missing from font(s) DejaVu Sans.\n",
      "  fig.canvas.print_figure(bytes_io, **kw)\n",
      "findfont: Font family 'NanumBarunGothic' not found.\n",
      "/home/unsi/anaconda3/envs/forpytorch/lib/python3.12/site-packages/IPython/core/pylabtools.py:170: UserWarning: Glyph 45824 (\\N{HANGUL SYLLABLE DAE}) missing from font(s) DejaVu Sans.\n",
      "  fig.canvas.print_figure(bytes_io, **kw)\n",
      "/home/unsi/anaconda3/envs/forpytorch/lib/python3.12/site-packages/IPython/core/pylabtools.py:170: UserWarning: Glyph 44396 (\\N{HANGUL SYLLABLE GU}) missing from font(s) DejaVu Sans.\n",
      "  fig.canvas.print_figure(bytes_io, **kw)\n",
      "findfont: Font family 'NanumBarunGothic' not found.\n",
      "/home/unsi/anaconda3/envs/forpytorch/lib/python3.12/site-packages/IPython/core/pylabtools.py:170: UserWarning: Glyph 51204 (\\N{HANGUL SYLLABLE JEON}) missing from font(s) DejaVu Sans.\n",
      "  fig.canvas.print_figure(bytes_io, **kw)\n",
      "findfont: Font family 'NanumBarunGothic' not found.\n",
      "/home/unsi/anaconda3/envs/forpytorch/lib/python3.12/site-packages/IPython/core/pylabtools.py:170: UserWarning: Glyph 48512 (\\N{HANGUL SYLLABLE BU}) missing from font(s) DejaVu Sans.\n",
      "  fig.canvas.print_figure(bytes_io, **kw)\n",
      "/home/unsi/anaconda3/envs/forpytorch/lib/python3.12/site-packages/IPython/core/pylabtools.py:170: UserWarning: Glyph 49328 (\\N{HANGUL SYLLABLE SAN}) missing from font(s) DejaVu Sans.\n",
      "  fig.canvas.print_figure(bytes_io, **kw)\n",
      "findfont: Font family 'NanumBarunGothic' not found.\n",
      "/home/unsi/anaconda3/envs/forpytorch/lib/python3.12/site-packages/IPython/core/pylabtools.py:170: UserWarning: Glyph 49464 (\\N{HANGUL SYLLABLE SE}) missing from font(s) DejaVu Sans.\n",
      "  fig.canvas.print_figure(bytes_io, **kw)\n",
      "/home/unsi/anaconda3/envs/forpytorch/lib/python3.12/site-packages/IPython/core/pylabtools.py:170: UserWarning: Glyph 51333 (\\N{HANGUL SYLLABLE JONG}) missing from font(s) DejaVu Sans.\n",
      "  fig.canvas.print_figure(bytes_io, **kw)\n",
      "findfont: Font family 'NanumBarunGothic' not found.\n",
      "/home/unsi/anaconda3/envs/forpytorch/lib/python3.12/site-packages/IPython/core/pylabtools.py:170: UserWarning: Glyph 50872 (\\N{HANGUL SYLLABLE UL}) missing from font(s) DejaVu Sans.\n",
      "  fig.canvas.print_figure(bytes_io, **kw)\n",
      "findfont: Font family 'NanumBarunGothic' not found.\n",
      "/home/unsi/anaconda3/envs/forpytorch/lib/python3.12/site-packages/IPython/core/pylabtools.py:170: UserWarning: Glyph 51064 (\\N{HANGUL SYLLABLE IN}) missing from font(s) DejaVu Sans.\n",
      "  fig.canvas.print_figure(bytes_io, **kw)\n",
      "/home/unsi/anaconda3/envs/forpytorch/lib/python3.12/site-packages/IPython/core/pylabtools.py:170: UserWarning: Glyph 52380 (\\N{HANGUL SYLLABLE CEON}) missing from font(s) DejaVu Sans.\n",
      "  fig.canvas.print_figure(bytes_io, **kw)\n",
      "findfont: Font family 'NanumBarunGothic' not found.\n",
      "findfont: Font family 'NanumBarunGothic' not found.\n",
      "findfont: Font family 'NanumBarunGothic' not found.\n",
      "findfont: Font family 'NanumBarunGothic' not found.\n",
      "/home/unsi/anaconda3/envs/forpytorch/lib/python3.12/site-packages/IPython/core/pylabtools.py:170: UserWarning: Glyph 52649 (\\N{HANGUL SYLLABLE CUNG}) missing from font(s) DejaVu Sans.\n",
      "  fig.canvas.print_figure(bytes_io, **kw)\n",
      "findfont: Font family 'NanumBarunGothic' not found.\n",
      "findfont: Font family 'NanumBarunGothic' not found.\n",
      "findfont: Font family 'NanumBarunGothic' not found.\n",
      "findfont: Font family 'NanumBarunGothic' not found.\n",
      "findfont: Font family 'NanumBarunGothic' not found.\n",
      "findfont: Font family 'NanumBarunGothic' not found.\n",
      "findfont: Font family 'NanumBarunGothic' not found.\n",
      "findfont: Font family 'NanumBarunGothic' not found.\n",
      "findfont: Font family 'NanumBarunGothic' not found.\n",
      "findfont: Font family 'NanumBarunGothic' not found.\n",
      "findfont: Font family 'NanumBarunGothic' not found.\n",
      "findfont: Font family 'NanumBarunGothic' not found.\n",
      "findfont: Font family 'NanumBarunGothic' not found.\n",
      "findfont: Font family 'NanumBarunGothic' not found.\n",
      "findfont: Font family 'NanumBarunGothic' not found.\n",
      "findfont: Font family 'NanumBarunGothic' not found.\n",
      "findfont: Font family 'NanumBarunGothic' not found.\n",
      "findfont: Font family 'NanumBarunGothic' not found.\n",
      "findfont: Font family 'NanumBarunGothic' not found.\n",
      "findfont: Font family 'NanumBarunGothic' not found.\n",
      "findfont: Font family 'NanumBarunGothic' not found.\n",
      "findfont: Font family 'NanumBarunGothic' not found.\n",
      "findfont: Font family 'NanumBarunGothic' not found.\n",
      "findfont: Font family 'NanumBarunGothic' not found.\n",
      "findfont: Font family 'NanumBarunGothic' not found.\n",
      "findfont: Font family 'NanumBarunGothic' not found.\n",
      "findfont: Font family 'NanumBarunGothic' not found.\n",
      "findfont: Font family 'NanumBarunGothic' not found.\n",
      "findfont: Font family 'NanumBarunGothic' not found.\n",
      "findfont: Font family 'NanumBarunGothic' not found.\n",
      "findfont: Font family 'NanumBarunGothic' not found.\n",
      "findfont: Font family 'NanumBarunGothic' not found.\n",
      "findfont: Font family 'NanumBarunGothic' not found.\n",
      "findfont: Font family 'NanumBarunGothic' not found.\n",
      "findfont: Font family 'NanumBarunGothic' not found.\n",
      "findfont: Font family 'NanumBarunGothic' not found.\n",
      "findfont: Font family 'NanumBarunGothic' not found.\n",
      "findfont: Font family 'NanumBarunGothic' not found.\n",
      "findfont: Font family 'NanumBarunGothic' not found.\n",
      "findfont: Font family 'NanumBarunGothic' not found.\n",
      "findfont: Font family 'NanumBarunGothic' not found.\n",
      "findfont: Font family 'NanumBarunGothic' not found.\n",
      "findfont: Font family 'NanumBarunGothic' not found.\n",
      "findfont: Font family 'NanumBarunGothic' not found.\n",
      "findfont: Font family 'NanumBarunGothic' not found.\n",
      "findfont: Font family 'NanumBarunGothic' not found.\n",
      "findfont: Font family 'NanumBarunGothic' not found.\n",
      "findfont: Font family 'NanumBarunGothic' not found.\n",
      "findfont: Font family 'NanumBarunGothic' not found.\n",
      "findfont: Font family 'NanumBarunGothic' not found.\n",
      "findfont: Font family 'NanumBarunGothic' not found.\n",
      "findfont: Font family 'NanumBarunGothic' not found.\n",
      "findfont: Font family 'NanumBarunGothic' not found.\n",
      "findfont: Font family 'NanumBarunGothic' not found.\n",
      "findfont: Font family 'NanumBarunGothic' not found.\n",
      "findfont: Font family 'NanumBarunGothic' not found.\n",
      "findfont: Font family 'NanumBarunGothic' not found.\n",
      "findfont: Font family 'NanumBarunGothic' not found.\n",
      "findfont: Font family 'NanumBarunGothic' not found.\n",
      "findfont: Font family 'NanumBarunGothic' not found.\n"
     ]
    },
    {
     "data": {
      "text/plain": [
       "<Figure size 800x600 with 1 Axes>"
      ],
      "image/png": "[encoded data removed]"
     },
     "metadata": {
      "image/png": {
       "width": 696,
       "height": 525
      }
     },
     "output_type": "display_data"
    },
    {
     "name": "stderr",
     "output_type": "stream",
     "text": [
      "findfont: Font family 'NanumBarunGothic' not found.\n",
      "findfont: Font family 'NanumBarunGothic' not found.\n",
      "findfont: Font family 'NanumBarunGothic' not found.\n",
      "findfont: Font family 'NanumBarunGothic' not found.\n",
      "findfont: Font family 'NanumBarunGothic' not found.\n",
      "findfont: Font family 'NanumBarunGothic' not found.\n",
      "findfont: Font family 'NanumBarunGothic' not found.\n",
      "findfont: Font family 'NanumBarunGothic' not found.\n",
      "findfont: Font family 'NanumBarunGothic' not found.\n",
      "findfont: Font family 'NanumBarunGothic' not found.\n",
      "findfont: Font family 'NanumBarunGothic' not found.\n",
      "findfont: Font family 'NanumBarunGothic' not found.\n",
      "findfont: Font family 'NanumBarunGothic' not found.\n",
      "findfont: Font family 'NanumBarunGothic' not found.\n",
      "findfont: Font family 'NanumBarunGothic' not found.\n",
      "findfont: Font family 'NanumBarunGothic' not found.\n",
      "findfont: Font family 'NanumBarunGothic' not found.\n",
      "findfont: Font family 'NanumBarunGothic' not found.\n",
      "findfont: Font family 'NanumBarunGothic' not found.\n",
      "findfont: Font family 'NanumBarunGothic' not found.\n",
      "findfont: Font family 'NanumBarunGothic' not found.\n",
      "findfont: Font family 'NanumBarunGothic' not found.\n",
      "findfont: Font family 'NanumBarunGothic' not found.\n",
      "findfont: Font family 'NanumBarunGothic' not found.\n",
      "findfont: Font family 'NanumBarunGothic' not found.\n",
      "findfont: Font family 'NanumBarunGothic' not found.\n",
      "findfont: Font family 'NanumBarunGothic' not found.\n",
      "findfont: Font family 'NanumBarunGothic' not found.\n",
      "findfont: Font family 'NanumBarunGothic' not found.\n",
      "findfont: Font family 'NanumBarunGothic' not found.\n",
      "findfont: Font family 'NanumBarunGothic' not found.\n",
      "findfont: Font family 'NanumBarunGothic' not found.\n",
      "findfont: Font family 'NanumBarunGothic' not found.\n",
      "findfont: Font family 'NanumBarunGothic' not found.\n",
      "findfont: Font family 'NanumBarunGothic' not found.\n",
      "findfont: Font family 'NanumBarunGothic' not found.\n",
      "findfont: Font family 'NanumBarunGothic' not found.\n",
      "findfont: Font family 'NanumBarunGothic' not found.\n",
      "findfont: Font family 'NanumBarunGothic' not found.\n",
      "findfont: Font family 'NanumBarunGothic' not found.\n",
      "findfont: Font family 'NanumBarunGothic' not found.\n",
      "findfont: Font family 'NanumBarunGothic' not found.\n",
      "findfont: Font family 'NanumBarunGothic' not found.\n",
      "findfont: Font family 'NanumBarunGothic' not found.\n",
      "findfont: Font family 'NanumBarunGothic' not found.\n",
      "findfont: Font family 'NanumBarunGothic' not found.\n",
      "findfont: Font family 'NanumBarunGothic' not found.\n",
      "findfont: Font family 'NanumBarunGothic' not found.\n",
      "findfont: Font family 'NanumBarunGothic' not found.\n",
      "findfont: Font family 'NanumBarunGothic' not found.\n",
      "findfont: Font family 'NanumBarunGothic' not found.\n",
      "findfont: Font family 'NanumBarunGothic' not found.\n",
      "findfont: Font family 'NanumBarunGothic' not found.\n",
      "findfont: Font family 'NanumBarunGothic' not found.\n",
      "findfont: Font family 'NanumBarunGothic' not found.\n",
      "findfont: Font family 'NanumBarunGothic' not found.\n",
      "findfont: Font family 'NanumBarunGothic' not found.\n",
      "findfont: Font family 'NanumBarunGothic' not found.\n",
      "findfont: Font family 'NanumBarunGothic' not found.\n",
      "findfont: Font family 'NanumBarunGothic' not found.\n",
      "findfont: Font family 'NanumBarunGothic' not found.\n",
      "findfont: Font family 'NanumBarunGothic' not found.\n",
      "findfont: Font family 'NanumBarunGothic' not found.\n",
      "findfont: Font family 'NanumBarunGothic' not found.\n",
      "findfont: Font family 'NanumBarunGothic' not found.\n",
      "findfont: Font family 'NanumBarunGothic' not found.\n",
      "findfont: Font family 'NanumBarunGothic' not found.\n",
      "findfont: Font family 'NanumBarunGothic' not found.\n",
      "findfont: Font family 'NanumBarunGothic' not found.\n",
      "findfont: Font family 'NanumBarunGothic' not found.\n",
      "findfont: Font family 'NanumBarunGothic' not found.\n",
      "findfont: Font family 'NanumBarunGothic' not found.\n",
      "findfont: Font family 'NanumBarunGothic' not found.\n",
      "findfont: Font family 'NanumBarunGothic' not found.\n",
      "findfont: Font family 'NanumBarunGothic' not found.\n",
      "findfont: Font family 'NanumBarunGothic' not found.\n"
     ]
    },
    {
     "data": {
      "text/plain": [
       "<Figure size 1000x500 with 1 Axes>"
      ],
      "image/png": "[encoded data removed]"
     },
     "metadata": {
      "image/png": {
       "width": 813,
       "height": 452
      }
     },
     "output_type": "display_data"
    }
   ],
   "execution_count": 47
  },
  {
   "cell_type": "code",
   "metadata": {
    "id": "Ee-Nx-lZmPjq",
    "colab": {
     "base_uri": "https://localhost:8080/"
    },
    "executionInfo": {
     "status": "ok",
     "timestamp": 1698387596709,
     "user_tz": -540,
     "elapsed": 349,
     "user": {
      "displayName": "Yongjin Jeong",
      "userId": "03658406798560557048"
     }
    },
    "outputId": "7f1a1518-ebe0-4785-c3f3-d48894ab5f59",
    "ExecuteTime": {
     "end_time": "2024-11-24T04:51:21.897765Z",
     "start_time": "2024-11-24T04:51:21.894373Z"
    }
   },
   "source": [
    "km = KMeans(n_clusters=3).fit(df_scaled)\n",
    "print(km.cluster_centers_)\n",
    "print(km.labels_)"
   ],
   "outputs": [
    {
     "name": "stdout",
     "output_type": "stream",
     "text": [
      "[[-3.63563362e-01 -4.48986990e-01 -4.60190332e-01 -3.12164248e-01\n",
      "  -2.96981472e-01 -4.72502302e-01 -6.69269899e-01 -2.52330642e-01\n",
      "  -4.72397805e-01 -4.81203156e-01 -4.48406666e-01 -1.94988351e-02\n",
      "  -4.45090496e-01 -1.65293077e-01 -4.04183002e-01 -4.72551673e-01\n",
      "  -4.56786424e-01 -4.66795831e-02 -5.42247187e-01 -4.71402339e-01\n",
      "  -3.88567749e-01 -1.40798081e-01 -5.11701627e-01 -5.93287060e-01]\n",
      " [ 5.80481378e-01  5.41359486e-01  4.74904460e-01  2.10206963e-01\n",
      "   2.87015129e-02  1.33820787e-01  1.16131217e+00 -2.23857101e-01\n",
      "   1.03027615e+00  8.74777153e-01  4.39988176e-01 -1.85682185e-01\n",
      "   8.30715621e-01  1.89121773e-01 -2.03811324e-01  7.68514312e-01\n",
      "   7.82095735e-01  2.75107703e-02  8.13168696e-01  1.19192052e-03\n",
      "   7.12730828e-02  5.12634825e-01  1.28204977e+00  9.82934512e-01]\n",
      " [ 4.75072373e-01  9.37722483e-01  1.12104758e+00  9.84325190e-01\n",
      "   1.27901360e+00  1.85861879e+00  6.89090207e-01  1.58320209e+00\n",
      "   6.52378265e-02  4.15859896e-01  1.13785365e+00  4.59109128e-01\n",
      "   3.41475989e-01  3.65575300e-01  2.22644616e+00  5.89453903e-01\n",
      "   4.91347440e-01  1.55036583e-01  8.13774949e-01  2.11892669e+00\n",
      "   1.60600870e+00 -3.91678284e-01 -2.61442209e-01  7.03922748e-01]]\n",
      "[0 1 2 0 0 0 0 0 0 1 0 1 0 2 1]\n"
     ]
    }
   ],
   "execution_count": 48
  },
  {
   "cell_type": "code",
   "metadata": {
    "colab": {
     "base_uri": "https://localhost:8080/"
    },
    "id": "9iLjUwwG--6-",
    "executionInfo": {
     "status": "ok",
     "timestamp": 1698387611309,
     "user_tz": -540,
     "elapsed": 343,
     "user": {
      "displayName": "Yongjin Jeong",
      "userId": "03658406798560557048"
     }
    },
    "outputId": "aa5ac1cc-87b4-4685-936d-69e89ea5d879",
    "ExecuteTime": {
     "end_time": "2024-11-24T04:51:21.899908Z",
     "start_time": "2024-11-24T04:51:21.898220Z"
    }
   },
   "source": [
    "print(\"all features, scaled: \", km.labels_)\n",
    "print(\"two features:         \", km_labels_two)\n",
    "print(\"two features, scaled: \", km_labels_two_scaled)"
   ],
   "outputs": [
    {
     "name": "stdout",
     "output_type": "stream",
     "text": [
      "all features, scaled:  [0 1 2 0 0 0 0 0 0 1 0 1 0 2 1]\n",
      "two features:          [0 2 1 0 0 0 0 0 1 2 2 2 0 1 2]\n",
      "two features, scaled:  [0 1 1 2 0 2 0 2 0 0 0 0 2 1 0]\n"
     ]
    }
   ],
   "execution_count": 49
  },
  {
   "cell_type": "markdown",
   "metadata": {
    "id": "p5pDSHt4mPjw"
   },
   "source": [
    "## DBSCAN(eps=, min_samples=,metric=)\n",
    "- eps: The maximum distance between two samples for one to be considered as in the neighborhood of the other. This is the most important DBSCAN parameter to choose appropriately for your data set and distance function.\n",
    "- min_samples: The number of samples (or total weight) in a neighborhood for a point to be considered as a core point. This includes the point itself.\n",
    "- metric: The metric to use when calculating distance between instances in a feature array."
   ]
  },
  {
   "cell_type": "code",
   "metadata": {
    "colab": {
     "base_uri": "https://localhost:8080/"
    },
    "id": "hPmjkKcxmPjx",
    "executionInfo": {
     "status": "ok",
     "timestamp": 1698387611823,
     "user_tz": -540,
     "elapsed": 9,
     "user": {
      "displayName": "Yongjin Jeong",
      "userId": "03658406798560557048"
     }
    },
    "outputId": "49f79e7c-690a-451b-b257-ab1f2b59c164",
    "ExecuteTime": {
     "end_time": "2024-11-24T04:51:21.915689Z",
     "start_time": "2024-11-24T04:51:21.900313Z"
    }
   },
   "source": [
    "from sklearn.datasets import make_moons\n",
    "from sklearn.cluster import DBSCAN\n",
    "X, y = make_moons(n_samples=300, noise=0.1, random_state=11)   # X :samples, y: label\n",
    "\n",
    "X[:5],y[:5]"
   ],
   "outputs": [
    {
     "data": {
      "text/plain": [
       "(array([[ 0.07466556, -0.13809597],\n",
       "        [-0.96718677,  0.77131154],\n",
       "        [-0.211739  ,  1.01774394],\n",
       "        [ 1.22822953, -0.34209166],\n",
       "        [ 0.99307628,  0.13267972]]),\n",
       " array([1, 0, 0, 1, 0]))"
      ]
     },
     "execution_count": 50,
     "metadata": {},
     "output_type": "execute_result"
    }
   ],
   "execution_count": 50
  },
  {
   "cell_type": "code",
   "metadata": {
    "colab": {
     "base_uri": "https://localhost:8080/",
     "height": 431
    },
    "id": "8_32qOBG--6_",
    "executionInfo": {
     "status": "ok",
     "timestamp": 1698387612542,
     "user_tz": -540,
     "elapsed": 724,
     "user": {
      "displayName": "Yongjin Jeong",
      "userId": "03658406798560557048"
     }
    },
    "outputId": "e7e24ab2-5e8c-42db-ba0f-2f5f1253420c",
    "ExecuteTime": {
     "end_time": "2024-11-24T04:51:21.987503Z",
     "start_time": "2024-11-24T04:51:21.916116Z"
    }
   },
   "source": [
    "plt.scatter(X[:,0], X[:,1], c='b')\n",
    "plt.show()"
   ],
   "outputs": [
    {
     "name": "stderr",
     "output_type": "stream",
     "text": [
      "findfont: Font family 'NanumBarunGothic' not found.\n",
      "findfont: Font family 'NanumBarunGothic' not found.\n",
      "findfont: Font family 'NanumBarunGothic' not found.\n",
      "findfont: Font family 'NanumBarunGothic' not found.\n",
      "findfont: Font family 'NanumBarunGothic' not found.\n",
      "findfont: Font family 'NanumBarunGothic' not found.\n",
      "findfont: Font family 'NanumBarunGothic' not found.\n",
      "findfont: Font family 'NanumBarunGothic' not found.\n",
      "findfont: Font family 'NanumBarunGothic' not found.\n",
      "findfont: Font family 'NanumBarunGothic' not found.\n",
      "findfont: Font family 'NanumBarunGothic' not found.\n",
      "findfont: Font family 'NanumBarunGothic' not found.\n",
      "findfont: Font family 'NanumBarunGothic' not found.\n",
      "findfont: Font family 'NanumBarunGothic' not found.\n",
      "findfont: Font family 'NanumBarunGothic' not found.\n",
      "findfont: Font family 'NanumBarunGothic' not found.\n",
      "findfont: Font family 'NanumBarunGothic' not found.\n",
      "findfont: Font family 'NanumBarunGothic' not found.\n",
      "findfont: Font family 'NanumBarunGothic' not found.\n",
      "findfont: Font family 'NanumBarunGothic' not found.\n",
      "findfont: Font family 'NanumBarunGothic' not found.\n",
      "findfont: Font family 'NanumBarunGothic' not found.\n",
      "findfont: Font family 'NanumBarunGothic' not found.\n",
      "findfont: Font family 'NanumBarunGothic' not found.\n",
      "findfont: Font family 'NanumBarunGothic' not found.\n",
      "findfont: Font family 'NanumBarunGothic' not found.\n",
      "findfont: Font family 'NanumBarunGothic' not found.\n",
      "findfont: Font family 'NanumBarunGothic' not found.\n",
      "findfont: Font family 'NanumBarunGothic' not found.\n",
      "findfont: Font family 'NanumBarunGothic' not found.\n",
      "findfont: Font family 'NanumBarunGothic' not found.\n",
      "findfont: Font family 'NanumBarunGothic' not found.\n",
      "findfont: Font family 'NanumBarunGothic' not found.\n",
      "findfont: Font family 'NanumBarunGothic' not found.\n",
      "findfont: Font family 'NanumBarunGothic' not found.\n",
      "findfont: Font family 'NanumBarunGothic' not found.\n",
      "findfont: Font family 'NanumBarunGothic' not found.\n",
      "findfont: Font family 'NanumBarunGothic' not found.\n",
      "findfont: Font family 'NanumBarunGothic' not found.\n",
      "findfont: Font family 'NanumBarunGothic' not found.\n",
      "findfont: Font family 'NanumBarunGothic' not found.\n",
      "findfont: Font family 'NanumBarunGothic' not found.\n",
      "findfont: Font family 'NanumBarunGothic' not found.\n",
      "findfont: Font family 'NanumBarunGothic' not found.\n",
      "findfont: Font family 'NanumBarunGothic' not found.\n",
      "findfont: Font family 'NanumBarunGothic' not found.\n",
      "findfont: Font family 'NanumBarunGothic' not found.\n",
      "findfont: Font family 'NanumBarunGothic' not found.\n",
      "findfont: Font family 'NanumBarunGothic' not found.\n",
      "findfont: Font family 'NanumBarunGothic' not found.\n"
     ]
    },
    {
     "data": {
      "text/plain": [
       "<Figure size 640x480 with 1 Axes>"
      ],
      "image/png": "[encoded data removed]"
     },
     "metadata": {
      "image/png": {
       "width": 561,
       "height": 413
      }
     },
     "output_type": "display_data"
    }
   ],
   "execution_count": 51
  },
  {
   "cell_type": "code",
   "metadata": {
    "id": "dzaKCjbNmPjz",
    "colab": {
     "base_uri": "https://localhost:8080/"
    },
    "executionInfo": {
     "status": "ok",
     "timestamp": 1698387612542,
     "user_tz": -540,
     "elapsed": 9,
     "user": {
      "displayName": "Yongjin Jeong",
      "userId": "03658406798560557048"
     }
    },
    "outputId": "0e58ddbb-ed23-48c5-ddfc-be345842f6a5",
    "ExecuteTime": {
     "end_time": "2024-11-24T04:51:21.991703Z",
     "start_time": "2024-11-24T04:51:21.987939Z"
    }
   },
   "source": [
    "kmeans = KMeans(n_clusters=2)\n",
    "predict = kmeans.fit_predict(X)   # returns a predicted array\n",
    "\n",
    "predict"
   ],
   "outputs": [
    {
     "data": {
      "text/plain": [
       "array([0, 0, 0, 1, 1, 1, 1, 0, 1, 0, 0, 1, 0, 1, 0, 1, 0, 1, 0, 1, 1, 1,\n",
       "       1, 0, 1, 0, 1, 1, 0, 0, 1, 0, 0, 1, 0, 1, 0, 1, 1, 1, 0, 1, 0, 0,\n",
       "       1, 1, 0, 0, 1, 0, 1, 0, 1, 0, 0, 0, 0, 0, 1, 0, 1, 0, 1, 1, 1, 1,\n",
       "       1, 0, 0, 1, 0, 0, 1, 0, 1, 1, 0, 0, 0, 1, 1, 1, 1, 1, 1, 1, 0, 1,\n",
       "       0, 0, 1, 1, 1, 0, 0, 0, 0, 1, 0, 1, 1, 1, 0, 0, 1, 0, 0, 1, 1, 1,\n",
       "       0, 1, 1, 0, 0, 0, 0, 0, 1, 0, 0, 1, 1, 0, 1, 0, 0, 0, 1, 1, 1, 0,\n",
       "       1, 0, 1, 1, 0, 0, 1, 0, 1, 0, 1, 0, 0, 1, 0, 0, 1, 1, 0, 1, 1, 1,\n",
       "       0, 1, 1, 0, 0, 1, 0, 1, 1, 1, 0, 1, 1, 0, 1, 1, 1, 1, 1, 1, 0, 1,\n",
       "       1, 1, 1, 0, 1, 1, 1, 1, 1, 1, 0, 0, 1, 1, 1, 0, 0, 1, 0, 1, 0, 0,\n",
       "       1, 0, 0, 1, 1, 0, 0, 0, 0, 0, 0, 1, 1, 0, 0, 1, 0, 0, 1, 1, 0, 0,\n",
       "       0, 1, 1, 0, 0, 0, 0, 1, 0, 1, 1, 1, 0, 0, 1, 0, 0, 1, 0, 1, 0, 1,\n",
       "       1, 0, 0, 0, 0, 1, 0, 0, 0, 0, 0, 1, 1, 0, 0, 1, 0, 1, 0, 0, 0, 1,\n",
       "       1, 0, 1, 0, 1, 1, 0, 0, 1, 0, 0, 1, 1, 1, 0, 0, 0, 1, 0, 1, 0, 0,\n",
       "       1, 0, 1, 1, 0, 0, 0, 1, 0, 0, 1, 0, 0, 0], dtype=int32)"
      ]
     },
     "execution_count": 52,
     "metadata": {},
     "output_type": "execute_result"
    }
   ],
   "execution_count": 52
  },
  {
   "cell_type": "code",
   "metadata": {
    "id": "KeY7WRz9mPj3",
    "colab": {
     "base_uri": "https://localhost:8080/",
     "height": 448
    },
    "executionInfo": {
     "status": "ok",
     "timestamp": 1698387613954,
     "user_tz": -540,
     "elapsed": 1417,
     "user": {
      "displayName": "Yongjin Jeong",
      "userId": "03658406798560557048"
     }
    },
    "outputId": "fbf5eb2e-f5b1-411f-ecf2-2cd1cc00fbbf",
    "ExecuteTime": {
     "end_time": "2024-11-24T04:51:22.023Z",
     "start_time": "2024-11-24T04:51:21.992108Z"
    }
   },
   "source": [
    "plt.scatter(X[:,0], X[:,1],c=predict)"
   ],
   "outputs": [
    {
     "data": {
      "text/plain": [
       "<matplotlib.collections.PathCollection at 0x7f0f3c851850>"
      ]
     },
     "execution_count": 53,
     "metadata": {},
     "output_type": "execute_result"
    },
    {
     "name": "stderr",
     "output_type": "stream",
     "text": [
      "findfont: Font family 'NanumBarunGothic' not found.\n",
      "findfont: Font family 'NanumBarunGothic' not found.\n",
      "findfont: Font family 'NanumBarunGothic' not found.\n",
      "findfont: Font family 'NanumBarunGothic' not found.\n",
      "findfont: Font family 'NanumBarunGothic' not found.\n",
      "findfont: Font family 'NanumBarunGothic' not found.\n",
      "findfont: Font family 'NanumBarunGothic' not found.\n",
      "findfont: Font family 'NanumBarunGothic' not found.\n",
      "findfont: Font family 'NanumBarunGothic' not found.\n",
      "findfont: Font family 'NanumBarunGothic' not found.\n",
      "findfont: Font family 'NanumBarunGothic' not found.\n",
      "findfont: Font family 'NanumBarunGothic' not found.\n",
      "findfont: Font family 'NanumBarunGothic' not found.\n",
      "findfont: Font family 'NanumBarunGothic' not found.\n",
      "findfont: Font family 'NanumBarunGothic' not found.\n",
      "findfont: Font family 'NanumBarunGothic' not found.\n",
      "findfont: Font family 'NanumBarunGothic' not found.\n",
      "findfont: Font family 'NanumBarunGothic' not found.\n",
      "findfont: Font family 'NanumBarunGothic' not found.\n",
      "findfont: Font family 'NanumBarunGothic' not found.\n",
      "findfont: Font family 'NanumBarunGothic' not found.\n",
      "findfont: Font family 'NanumBarunGothic' not found.\n",
      "findfont: Font family 'NanumBarunGothic' not found.\n",
      "findfont: Font family 'NanumBarunGothic' not found.\n",
      "findfont: Font family 'NanumBarunGothic' not found.\n",
      "findfont: Font family 'NanumBarunGothic' not found.\n",
      "findfont: Font family 'NanumBarunGothic' not found.\n",
      "findfont: Font family 'NanumBarunGothic' not found.\n",
      "findfont: Font family 'NanumBarunGothic' not found.\n",
      "findfont: Font family 'NanumBarunGothic' not found.\n",
      "findfont: Font family 'NanumBarunGothic' not found.\n",
      "findfont: Font family 'NanumBarunGothic' not found.\n",
      "findfont: Font family 'NanumBarunGothic' not found.\n"
     ]
    }
   ],
   "execution_count": 53
  },
  {
   "cell_type": "code",
   "metadata": {
    "id": "xYZvqP1ZmPj6",
    "scrolled": true,
    "colab": {
     "base_uri": "https://localhost:8080/",
     "height": 448
    },
    "executionInfo": {
     "status": "ok",
     "timestamp": 1698387613954,
     "user_tz": -540,
     "elapsed": 15,
     "user": {
      "displayName": "Yongjin Jeong",
      "userId": "03658406798560557048"
     }
    },
    "outputId": "0018d4f7-dad5-4c8e-9314-eb217ef813e9",
    "ExecuteTime": {
     "end_time": "2024-11-24T04:51:22.043020Z",
     "start_time": "2024-11-24T04:51:22.023475Z"
    }
   },
   "source": [
    "dbscan = DBSCAN(eps=0.2, min_samples=5, metric='euclidean')\n",
    "predict = dbscan.fit_predict(X)\n",
    "plt.scatter(X[:,0], X[:,1],c=predict)"
   ],
   "outputs": [
    {
     "data": {
      "text/plain": [
       "<matplotlib.collections.PathCollection at 0x7f0f3c7f7a10>"
      ]
     },
     "execution_count": 54,
     "metadata": {},
     "output_type": "execute_result"
    },
    {
     "name": "stderr",
     "output_type": "stream",
     "text": [
      "findfont: Font family 'NanumBarunGothic' not found.\n",
      "findfont: Font family 'NanumBarunGothic' not found.\n",
      "findfont: Font family 'NanumBarunGothic' not found.\n",
      "findfont: Font family 'NanumBarunGothic' not found.\n",
      "findfont: Font family 'NanumBarunGothic' not found.\n",
      "findfont: Font family 'NanumBarunGothic' not found.\n",
      "findfont: Font family 'NanumBarunGothic' not found.\n",
      "findfont: Font family 'NanumBarunGothic' not found.\n",
      "findfont: Font family 'NanumBarunGothic' not found.\n",
      "findfont: Font family 'NanumBarunGothic' not found.\n",
      "findfont: Font family 'NanumBarunGothic' not found.\n",
      "findfont: Font family 'NanumBarunGothic' not found.\n",
      "findfont: Font family 'NanumBarunGothic' not found.\n",
      "findfont: Font family 'NanumBarunGothic' not found.\n",
      "findfont: Font family 'NanumBarunGothic' not found.\n",
      "findfont: Font family 'NanumBarunGothic' not found.\n"
     ]
    }
   ],
   "execution_count": 54
  },
  {
   "cell_type": "code",
   "metadata": {
    "colab": {
     "base_uri": "https://localhost:8080/"
    },
    "id": "u3dM8oZdzLcL",
    "executionInfo": {
     "status": "ok",
     "timestamp": 1698387613954,
     "user_tz": -540,
     "elapsed": 12,
     "user": {
      "displayName": "Yongjin Jeong",
      "userId": "03658406798560557048"
     }
    },
    "outputId": "2c66f29b-2da1-4ca5-db98-49a47ebb0722",
    "ExecuteTime": {
     "end_time": "2024-11-24T04:51:22.045312Z",
     "start_time": "2024-11-24T04:51:22.043500Z"
    }
   },
   "source": [
    "predict"
   ],
   "outputs": [
    {
     "data": {
      "text/plain": [
       "array([0, 1, 1, 0, 1, 0, 0, 1, 0, 1, 1, 0, 1, 0, 0, 0, 1, 0, 1, 1, 0, 0,\n",
       "       1, 0, 0, 1, 1, 0, 1, 0, 0, 0, 1, 1, 1, 1, 0, 0, 0, 0, 1, 0, 0, 1,\n",
       "       0, 0, 1, 1, 0, 1, 0, 1, 0, 1, 1, 1, 0, 0, 0, 1, 0, 1, 0, 1, 0, 0,\n",
       "       1, 1, 1, 1, 1, 1, 0, 1, 1, 1, 0, 0, 1, 0, 0, 1, 0, 1, 1, 0, 1, 1,\n",
       "       0, 1, 0, 1, 1, 0, 1, 1, 1, 0, 0, 1, 0, 0, 1, 1, 0, 1, 1, 0, 0, 0,\n",
       "       1, 0, 1, 1, 1, 1, 1, 1, 0, 1, 0, 1, 0, 1, 0, 1, 1, 0, 0, 0, 0, 1,\n",
       "       0, 1, 1, 0, 1, 0, 0, 0, 0, 1, 0, 1, 1, 0, 0, 1, 0, 1, 1, 0, 0, 0,\n",
       "       0, 1, 1, 1, 1, 0, 1, 0, 1, 0, 1, 0, 0, 0, 0, 0, 0, 0, 0, 0, 1, 1,\n",
       "       0, 0, 0, 1, 0, 0, 1, 0, 0, 0, 1, 1, 0, 1, 0, 1, 0, 0, 1, 0, 0, 1,\n",
       "       0, 1, 1, 0, 0, 1, 0, 1, 0, 1, 1, 0, 1, 1, 1, 0, 0, 1, 0, 0, 1, 1,\n",
       "       1, 0, 0, 0, 1, 1, 1, 0, 1, 0, 0, 1, 1, 0, 0, 1, 1, 0, 1, 1, 1, 1,\n",
       "       0, 0, 1, 1, 0, 1, 1, 0, 1, 1, 1, 0, 0, 1, 1, 1, 0, 0, 0, 0, 1, 0,\n",
       "       0, 0, 0, 1, 0, 1, 1, 1, 1, 1, 1, 0, 0, 0, 0, 1, 1, 0, 1, 0, 1, 1,\n",
       "       1, 1, 0, 0, 0, 1, 1, 0, 1, 0, 0, 1, 1, 0])"
      ]
     },
     "execution_count": 55,
     "metadata": {},
     "output_type": "execute_result"
    }
   ],
   "execution_count": 55
  },
  {
   "cell_type": "code",
   "metadata": {
    "id": "1B5Np9vfmPj9",
    "colab": {
     "base_uri": "https://localhost:8080/",
     "height": 448
    },
    "executionInfo": {
     "status": "ok",
     "timestamp": 1698387615227,
     "user_tz": -540,
     "elapsed": 1283,
     "user": {
      "displayName": "Yongjin Jeong",
      "userId": "03658406798560557048"
     }
    },
    "outputId": "a1910320-b8ca-45ca-ba2f-59f3da130d2a",
    "ExecuteTime": {
     "end_time": "2024-11-24T04:51:22.067449Z",
     "start_time": "2024-11-24T04:51:22.045695Z"
    }
   },
   "source": [
    "dbscan = DBSCAN(eps=0.1, min_samples=5, metric='euclidean')\n",
    "predict = dbscan.fit_predict(X)\n",
    "plt.scatter(X[:,0], X[:,1],c=predict)"
   ],
   "outputs": [
    {
     "data": {
      "text/plain": [
       "<matplotlib.collections.PathCollection at 0x7f0f3c64adb0>"
      ]
     },
     "execution_count": 56,
     "metadata": {},
     "output_type": "execute_result"
    },
    {
     "name": "stderr",
     "output_type": "stream",
     "text": [
      "findfont: Font family 'NanumBarunGothic' not found.\n",
      "findfont: Font family 'NanumBarunGothic' not found.\n",
      "findfont: Font family 'NanumBarunGothic' not found.\n",
      "findfont: Font family 'NanumBarunGothic' not found.\n",
      "findfont: Font family 'NanumBarunGothic' not found.\n",
      "findfont: Font family 'NanumBarunGothic' not found.\n",
      "findfont: Font family 'NanumBarunGothic' not found.\n",
      "findfont: Font family 'NanumBarunGothic' not found.\n",
      "findfont: Font family 'NanumBarunGothic' not found.\n",
      "findfont: Font family 'NanumBarunGothic' not found.\n",
      "findfont: Font family 'NanumBarunGothic' not found.\n",
      "findfont: Font family 'NanumBarunGothic' not found.\n",
      "findfont: Font family 'NanumBarunGothic' not found.\n",
      "findfont: Font family 'NanumBarunGothic' not found.\n",
      "findfont: Font family 'NanumBarunGothic' not found.\n",
      "findfont: Font family 'NanumBarunGothic' not found.\n"
     ]
    }
   ],
   "execution_count": 56
  },
  {
   "cell_type": "code",
   "metadata": {
    "colab": {
     "base_uri": "https://localhost:8080/"
    },
    "id": "bHTYoZrW5hIq",
    "executionInfo": {
     "status": "ok",
     "timestamp": 1698387615228,
     "user_tz": -540,
     "elapsed": 15,
     "user": {
      "displayName": "Yongjin Jeong",
      "userId": "03658406798560557048"
     }
    },
    "outputId": "0d0615cd-1c7a-476d-d7bc-edc93ece3265",
    "ExecuteTime": {
     "end_time": "2024-11-24T04:51:22.069385Z",
     "start_time": "2024-11-24T04:51:22.067817Z"
    }
   },
   "source": [
    "set(predict)"
   ],
   "outputs": [
    {
     "data": {
      "text/plain": [
       "{-1, 0, 1, 2, 3, 4, 5, 6, 7, 8, 9, 10, 11, 12, 13, 14, 15}"
      ]
     },
     "execution_count": 57,
     "metadata": {},
     "output_type": "execute_result"
    }
   ],
   "execution_count": 57
  },
  {
   "cell_type": "code",
   "metadata": {
    "id": "UGi1Soz_mPj_",
    "colab": {
     "base_uri": "https://localhost:8080/",
     "height": 674
    },
    "executionInfo": {
     "status": "ok",
     "timestamp": 1698387615228,
     "user_tz": -540,
     "elapsed": 11,
     "user": {
      "displayName": "Yongjin Jeong",
      "userId": "03658406798560557048"
     }
    },
    "outputId": "9f767c5c-001e-4ba9-e3f5-0f04a7264c38",
    "ExecuteTime": {
     "end_time": "2024-11-24T04:51:22.094121Z",
     "start_time": "2024-11-24T04:51:22.069784Z"
    }
   },
   "source": [
    "dbscan = DBSCAN(eps=0.1, min_samples=5, metric='euclidean')\n",
    "predict = dbscan.fit_predict(X)\n",
    "print(predict)\n",
    "plt.scatter(X[:,0], X[:,1],c=predict)"
   ],
   "outputs": [
    {
     "name": "stdout",
     "output_type": "stream",
     "text": [
      "[11 -1  0  9 -1 -1  1 12  2  3 -1 -1  4  2 -1  2  4  2  3  5  6 -1 -1  7\n",
      "  6  4  5  8 -1 -1  6  7  3  5  3  5 -1 10  2 -1  0  9  7 -1  8 -1  0  3\n",
      "  2  3  2  4 -1  4  3 -1  7  7 -1  3 10  3  2 -1  1 -1 -1 -1  4  5  0  0\n",
      "  1  3 -1 -1 11 11  0 -1  1 13 -1  5 -1  9 -1  5 -1 12 10 -1  5 -1 -1 -1\n",
      "  4  9 11 13  9 -1  3  4  2  3  3  9  9 -1 14 -1 -1  0  4  0  0 14  2  0\n",
      " -1 -1 -1  3  2  0 -1 -1  8 -1 -1 12  2  4 13 -1  3 -1  9  7  8  4 10 14\n",
      "  3  9 11  0  2 -1 -1  2 -1 15  7 13 -1  0  0 15  4  1 -1  9  0  2  1  7\n",
      "  2  2  2  6  9 -1  3 -1  2  6  1  0  6  8 -1  2  2  2  3  0  2 -1 -1 -1\n",
      "  7 -1 -1  2 11 -1 -1  0 -1  6 15  3 11 14 -1  4  0  2 -1  4  4  6 11 12\n",
      " 10  8  0  3  0 15  9 -1  3  4  0  8  4  6  2 -1 12  7 -1 -1  3  8  3  5\n",
      "  3 -1 -1  7  0  4 -1  5  0  7 -1  3  3  2  2  4  4 -1 11 10 -1 11  4  2\n",
      " -1  7  1 -1  9 -1  4  0 13  0 -1 -1 -1  9 11  3  4  6 -1 -1 12 14 -1 -1\n",
      " -1 -1 11 -1 -1  6 -1  7  8  0  0 11]\n"
     ]
    },
    {
     "data": {
      "text/plain": [
       "<matplotlib.collections.PathCollection at 0x7f0f3c658740>"
      ]
     },
     "execution_count": 58,
     "metadata": {},
     "output_type": "execute_result"
    },
    {
     "name": "stderr",
     "output_type": "stream",
     "text": [
      "findfont: Font family 'NanumBarunGothic' not found.\n",
      "findfont: Font family 'NanumBarunGothic' not found.\n",
      "findfont: Font family 'NanumBarunGothic' not found.\n",
      "findfont: Font family 'NanumBarunGothic' not found.\n",
      "findfont: Font family 'NanumBarunGothic' not found.\n",
      "findfont: Font family 'NanumBarunGothic' not found.\n",
      "findfont: Font family 'NanumBarunGothic' not found.\n",
      "findfont: Font family 'NanumBarunGothic' not found.\n",
      "findfont: Font family 'NanumBarunGothic' not found.\n",
      "findfont: Font family 'NanumBarunGothic' not found.\n",
      "findfont: Font family 'NanumBarunGothic' not found.\n",
      "findfont: Font family 'NanumBarunGothic' not found.\n",
      "findfont: Font family 'NanumBarunGothic' not found.\n",
      "findfont: Font family 'NanumBarunGothic' not found.\n",
      "findfont: Font family 'NanumBarunGothic' not found.\n",
      "findfont: Font family 'NanumBarunGothic' not found.\n"
     ]
    }
   ],
   "execution_count": 58
  },
  {
   "cell_type": "code",
   "metadata": {
    "id": "I0J8CiwemPkB",
    "colab": {
     "base_uri": "https://localhost:8080/",
     "height": 448
    },
    "executionInfo": {
     "status": "ok",
     "timestamp": 1698387616626,
     "user_tz": -540,
     "elapsed": 1406,
     "user": {
      "displayName": "Yongjin Jeong",
      "userId": "03658406798560557048"
     }
    },
    "outputId": "a1fcef5e-3672-4461-8aac-5abaf79367e5",
    "ExecuteTime": {
     "end_time": "2024-11-24T04:51:22.120882Z",
     "start_time": "2024-11-24T04:51:22.094601Z"
    }
   },
   "source": [
    "dbscan = DBSCAN(eps=0.5, min_samples=10, metric='euclidean')\n",
    "predict = dbscan.fit_predict(X)\n",
    "plt.scatter(X[:,0], X[:,1],c=predict)"
   ],
   "outputs": [
    {
     "data": {
      "text/plain": [
       "<matplotlib.collections.PathCollection at 0x7f0f3c851e50>"
      ]
     },
     "execution_count": 59,
     "metadata": {},
     "output_type": "execute_result"
    },
    {
     "name": "stderr",
     "output_type": "stream",
     "text": [
      "findfont: Font family 'NanumBarunGothic' not found.\n",
      "findfont: Font family 'NanumBarunGothic' not found.\n",
      "findfont: Font family 'NanumBarunGothic' not found.\n",
      "findfont: Font family 'NanumBarunGothic' not found.\n",
      "findfont: Font family 'NanumBarunGothic' not found.\n",
      "findfont: Font family 'NanumBarunGothic' not found.\n",
      "findfont: Font family 'NanumBarunGothic' not found.\n",
      "findfont: Font family 'NanumBarunGothic' not found.\n",
      "findfont: Font family 'NanumBarunGothic' not found.\n",
      "findfont: Font family 'NanumBarunGothic' not found.\n",
      "findfont: Font family 'NanumBarunGothic' not found.\n",
      "findfont: Font family 'NanumBarunGothic' not found.\n",
      "findfont: Font family 'NanumBarunGothic' not found.\n",
      "findfont: Font family 'NanumBarunGothic' not found.\n",
      "findfont: Font family 'NanumBarunGothic' not found.\n",
      "findfont: Font family 'NanumBarunGothic' not found.\n"
     ]
    }
   ],
   "execution_count": 59
  },
  {
   "cell_type": "code",
   "metadata": {
    "id": "OI2XqZ4imPkD",
    "colab": {
     "base_uri": "https://localhost:8080/",
     "height": 448
    },
    "executionInfo": {
     "status": "ok",
     "timestamp": 1698387616626,
     "user_tz": -540,
     "elapsed": 22,
     "user": {
      "displayName": "Yongjin Jeong",
      "userId": "03658406798560557048"
     }
    },
    "outputId": "7daa1107-a0df-4c34-efa5-10104810b477",
    "ExecuteTime": {
     "end_time": "2024-11-24T04:51:22.149649Z",
     "start_time": "2024-11-24T04:51:22.121343Z"
    }
   },
   "source": [
    "dbscan = DBSCAN(eps=0.2, min_samples=6, metric='euclidean')\n",
    "predict = dbscan.fit_predict(X)\n",
    "plt.scatter(X[:,0], X[:,1],c=predict)"
   ],
   "outputs": [
    {
     "data": {
      "text/plain": [
       "<matplotlib.collections.PathCollection at 0x7f0f3c673290>"
      ]
     },
     "execution_count": 60,
     "metadata": {},
     "output_type": "execute_result"
    },
    {
     "name": "stderr",
     "output_type": "stream",
     "text": [
      "findfont: Font family 'NanumBarunGothic' not found.\n",
      "findfont: Font family 'NanumBarunGothic' not found.\n",
      "findfont: Font family 'NanumBarunGothic' not found.\n",
      "findfont: Font family 'NanumBarunGothic' not found.\n",
      "findfont: Font family 'NanumBarunGothic' not found.\n",
      "findfont: Font family 'NanumBarunGothic' not found.\n",
      "findfont: Font family 'NanumBarunGothic' not found.\n",
      "findfont: Font family 'NanumBarunGothic' not found.\n",
      "findfont: Font family 'NanumBarunGothic' not found.\n",
      "findfont: Font family 'NanumBarunGothic' not found.\n",
      "findfont: Font family 'NanumBarunGothic' not found.\n",
      "findfont: Font family 'NanumBarunGothic' not found.\n",
      "findfont: Font family 'NanumBarunGothic' not found.\n",
      "findfont: Font family 'NanumBarunGothic' not found.\n",
      "findfont: Font family 'NanumBarunGothic' not found.\n",
      "findfont: Font family 'NanumBarunGothic' not found.\n"
     ]
    }
   ],
   "execution_count": 60
  },
  {
   "cell_type": "code",
   "metadata": {
    "id": "fS0lTY_ymPkE",
    "scrolled": false,
    "colab": {
     "base_uri": "https://localhost:8080/",
     "height": 448
    },
    "executionInfo": {
     "status": "ok",
     "timestamp": 1698387616626,
     "user_tz": -540,
     "elapsed": 18,
     "user": {
      "displayName": "Yongjin Jeong",
      "userId": "03658406798560557048"
     }
    },
    "outputId": "0714a4e9-a954-4faa-e24f-c1fd28fe8b0b",
    "ExecuteTime": {
     "end_time": "2024-11-24T04:51:22.182186Z",
     "start_time": "2024-11-24T04:51:22.150054Z"
    }
   },
   "source": [
    "dbscan = DBSCAN(eps=0.2, min_samples=15, metric='euclidean')\n",
    "predict = dbscan.fit_predict(X)\n",
    "plt.scatter(X[:,0], X[:,1],c=predict)"
   ],
   "outputs": [
    {
     "data": {
      "text/plain": [
       "<matplotlib.collections.PathCollection at 0x7f0f3c7f4380>"
      ]
     },
     "execution_count": 61,
     "metadata": {},
     "output_type": "execute_result"
    },
    {
     "name": "stderr",
     "output_type": "stream",
     "text": [
      "findfont: Font family 'NanumBarunGothic' not found.\n",
      "findfont: Font family 'NanumBarunGothic' not found.\n",
      "findfont: Font family 'NanumBarunGothic' not found.\n",
      "findfont: Font family 'NanumBarunGothic' not found.\n",
      "findfont: Font family 'NanumBarunGothic' not found.\n",
      "findfont: Font family 'NanumBarunGothic' not found.\n",
      "findfont: Font family 'NanumBarunGothic' not found.\n",
      "findfont: Font family 'NanumBarunGothic' not found.\n",
      "findfont: Font family 'NanumBarunGothic' not found.\n",
      "findfont: Font family 'NanumBarunGothic' not found.\n",
      "findfont: Font family 'NanumBarunGothic' not found.\n",
      "findfont: Font family 'NanumBarunGothic' not found.\n",
      "findfont: Font family 'NanumBarunGothic' not found.\n",
      "findfont: Font family 'NanumBarunGothic' not found.\n",
      "findfont: Font family 'NanumBarunGothic' not found.\n",
      "findfont: Font family 'NanumBarunGothic' not found.\n"
     ]
    }
   ],
   "execution_count": 61
  },
  {
   "cell_type": "markdown",
   "metadata": {
    "id": "2olBM0mW--7B"
   },
   "source": [
    "# Exercise"
   ]
  },
  {
   "cell_type": "code",
   "metadata": {
    "colab": {
     "base_uri": "https://localhost:8080/"
    },
    "id": "AVQ_MtK4--7B",
    "executionInfo": {
     "status": "ok",
     "timestamp": 1698387616627,
     "user_tz": -540,
     "elapsed": 15,
     "user": {
      "displayName": "Yongjin Jeong",
      "userId": "03658406798560557048"
     }
    },
    "outputId": "0593e27c-f769-43d1-b0b2-b585a5f38211",
    "ExecuteTime": {
     "end_time": "2024-11-24T04:51:22.185418Z",
     "start_time": "2024-11-24T04:51:22.182645Z"
    }
   },
   "source": [
    "from sklearn.metrics.pairwise import euclidean_distances,cosine_distances,manhattan_distances\n",
    "\n",
    "X = [[0, 1], [1, 1]]\n",
    "print(euclidean_distances(X, X))\n",
    "print(euclidean_distances(X, [[0,0]]))\n",
    "print(cosine_distances(X,X))       # defined as 1 - cos_similarity\n",
    "print(manhattan_distances(X,[[0,0]]))"
   ],
   "outputs": [
    {
     "name": "stdout",
     "output_type": "stream",
     "text": [
      "[[0. 1.]\n",
      " [1. 0.]]\n",
      "[[1.        ]\n",
      " [1.41421356]]\n",
      "[[0.         0.29289322]\n",
      " [0.29289322 0.        ]]\n",
      "[[1.]\n",
      " [2.]]\n"
     ]
    }
   ],
   "execution_count": 62
  },
  {
   "cell_type": "code",
   "metadata": {
    "scrolled": true,
    "colab": {
     "base_uri": "https://localhost:8080/",
     "height": 448
    },
    "id": "zbhVP0YP--7B",
    "executionInfo": {
     "status": "ok",
     "timestamp": 1698387616627,
     "user_tz": -540,
     "elapsed": 12,
     "user": {
      "displayName": "Yongjin Jeong",
      "userId": "03658406798560557048"
     }
    },
    "outputId": "2a552564-51e3-4ba9-d713-38dbb3c52d77",
    "ExecuteTime": {
     "end_time": "2024-11-24T04:51:22.220340Z",
     "start_time": "2024-11-24T04:51:22.185821Z"
    }
   },
   "source": [
    "from sklearn.datasets import make_blobs\n",
    "\n",
    "X,y = make_blobs(n_features=2, n_samples=1000, centers=5, cluster_std=1, random_state=3)\n",
    "plt.scatter(X[:,0], X[:,1], s=5, alpha=.5)"
   ],
   "outputs": [
    {
     "data": {
      "text/plain": [
       "<matplotlib.collections.PathCollection at 0x7f0f3c7f4e60>"
      ]
     },
     "execution_count": 63,
     "metadata": {},
     "output_type": "execute_result"
    },
    {
     "name": "stderr",
     "output_type": "stream",
     "text": [
      "findfont: Font family 'NanumBarunGothic' not found.\n",
      "findfont: Font family 'NanumBarunGothic' not found.\n",
      "findfont: Font family 'NanumBarunGothic' not found.\n",
      "findfont: Font family 'NanumBarunGothic' not found.\n",
      "findfont: Font family 'NanumBarunGothic' not found.\n",
      "findfont: Font family 'NanumBarunGothic' not found.\n",
      "findfont: Font family 'NanumBarunGothic' not found.\n",
      "findfont: Font family 'NanumBarunGothic' not found.\n",
      "findfont: Font family 'NanumBarunGothic' not found.\n",
      "findfont: Font family 'NanumBarunGothic' not found.\n",
      "findfont: Font family 'NanumBarunGothic' not found.\n",
      "findfont: Font family 'NanumBarunGothic' not found.\n",
      "findfont: Font family 'NanumBarunGothic' not found.\n",
      "findfont: Font family 'NanumBarunGothic' not found.\n",
      "findfont: Font family 'NanumBarunGothic' not found.\n",
      "findfont: Font family 'NanumBarunGothic' not found.\n",
      "findfont: Font family 'NanumBarunGothic' not found.\n",
      "findfont: Font family 'NanumBarunGothic' not found.\n",
      "findfont: Font family 'NanumBarunGothic' not found.\n",
      "findfont: Font family 'NanumBarunGothic' not found.\n",
      "findfont: Font family 'NanumBarunGothic' not found.\n",
      "findfont: Font family 'NanumBarunGothic' not found.\n",
      "findfont: Font family 'NanumBarunGothic' not found.\n",
      "findfont: Font family 'NanumBarunGothic' not found.\n",
      "findfont: Font family 'NanumBarunGothic' not found.\n"
     ]
    }
   ],
   "execution_count": 63
  }
 ]
}
