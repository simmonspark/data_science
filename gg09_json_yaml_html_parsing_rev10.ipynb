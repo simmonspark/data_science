{
 "cells": [
  {
   "cell_type": "markdown",
   "metadata": {
    "id": "XVUFUml_uyub"
   },
   "source": [
    "# Web Scraping using API\n",
    "- When you type www.google.com in your browser's address bar, your computer is actually asking the www.google.com server for a web page; the server returns the page to your browser.\n",
    "- APIs work much the same way, except instead of your web browser asking for a web page, your program asks for data. The API usually returns this data in JavaScript Object Notation (JSON) format.\n",
    "  - GET request: to retrieve information from the OpenNotify API.\n",
    "  -"
   ]
  },
  {
   "cell_type": "markdown",
   "metadata": {
    "id": "9Eas7Ig8CVxD"
   },
   "source": [
    "### Crawling and Scraping\n",
    "- Crawling refers to the process of automatically traversing through a website and following links to other pages in order to discover and index content.\n",
    "- Scraping, on the other hand, refers to the process of extracting specific data elements from web pages. Scraping involves sending HTTP requests to web pages and then parsing the HTML or other markup language in the response to extract the desired data.\n",
    "- Crawling focuses on discovering and indexing web pages, while scraping targets specific data extraction from those pages"
   ]
  },
  {
   "cell_type": "markdown",
   "metadata": {
    "id": "M70WK3Bb5wGQ"
   },
   "source": [
    "# JSON format\n",
    "- json: JavaScript Object Notation (자바 스크립트 객체 표기법)\n",
    "- 데이터를 쉽게 '교환' 하고 '저장' 하기 위한 텍스트 기반의 데이터 교환 표준"
   ]
  },
  {
   "cell_type": "code",
   "metadata": {
    "id": "0gnIXL3r5wGU",
    "executionInfo": {
     "status": "ok",
     "timestamp": 1727768783196,
     "user_tz": -540,
     "elapsed": 1559,
     "user": {
      "displayName": "Yongjin Jeong",
      "userId": "03658406798560557048"
     }
    },
    "ExecuteTime": {
     "end_time": "2024-10-16T15:22:58.100283Z",
     "start_time": "2024-10-16T15:22:57.996091Z"
    }
   },
   "source": [
    "import numpy as np\n",
    "import pandas as pd\n",
    "import matplotlib.pyplot as plt\n",
    "%matplotlib inline\n",
    "import json\n",
    "from bs4 import BeautifulSoup"
   ],
   "outputs": [],
   "execution_count": 4
  },
  {
   "cell_type": "code",
   "metadata": {
    "id": "_jP_W4fR5wGX",
    "executionInfo": {
     "status": "ok",
     "timestamp": 1727768783197,
     "user_tz": -540,
     "elapsed": 28,
     "user": {
      "displayName": "Yongjin Jeong",
      "userId": "03658406798560557048"
     }
    },
    "ExecuteTime": {
     "end_time": "2024-10-16T15:22:58.234387Z",
     "start_time": "2024-10-16T15:22:58.232287Z"
    }
   },
   "source": [
    "# exercise 1 : a simple json format\n",
    "obj = \"\"\"\n",
    "{\n",
    "    \"name\": \"Kim\",\n",
    "    \"places_lived\": [\"Seoul\", \"Korea\"],\n",
    "    \"pet\": null,\n",
    "    \"siblings\": [{\"name\": \"Scott\", \"age\":25, \"pet\":\"Zuko\"}]\n",
    "}\n",
    "\"\"\""
   ],
   "outputs": [],
   "execution_count": 5
  },
  {
   "cell_type": "code",
   "metadata": {
    "colab": {
     "base_uri": "https://localhost:8080/"
    },
    "executionInfo": {
     "elapsed": 28,
     "status": "ok",
     "timestamp": 1727768783197,
     "user": {
      "displayName": "Yongjin Jeong",
      "userId": "03658406798560557048"
     },
     "user_tz": -540
    },
    "id": "O5_FM8I75wGY",
    "outputId": "b6eaed7f-7fc5-4ea3-a4f7-1b8bf0241283",
    "ExecuteTime": {
     "end_time": "2024-10-16T15:22:58.513768Z",
     "start_time": "2024-10-16T15:22:58.510962Z"
    }
   },
   "source": [
    "type(obj)"
   ],
   "outputs": [
    {
     "data": {
      "text/plain": [
       "str"
      ]
     },
     "execution_count": 6,
     "metadata": {},
     "output_type": "execute_result"
    }
   ],
   "execution_count": 6
  },
  {
   "cell_type": "code",
   "metadata": {
    "colab": {
     "base_uri": "https://localhost:8080/"
    },
    "executionInfo": {
     "elapsed": 18,
     "status": "ok",
     "timestamp": 1727768783198,
     "user": {
      "displayName": "Yongjin Jeong",
      "userId": "03658406798560557048"
     },
     "user_tz": -540
    },
    "id": "KiOmxQht5wGa",
    "outputId": "6e6cff33-d00f-405f-f06e-67a96aeb8141",
    "ExecuteTime": {
     "end_time": "2024-10-16T15:22:58.931467Z",
     "start_time": "2024-10-16T15:22:58.928298Z"
    }
   },
   "source": [
    "r = json.loads(obj)   # decoding (json --> dict)\n",
    "print(r)\n",
    "type(r)"
   ],
   "outputs": [
    {
     "name": "stdout",
     "output_type": "stream",
     "text": [
      "{'name': 'Kim', 'places_lived': ['Seoul', 'Korea'], 'pet': None, 'siblings': [{'name': 'Scott', 'age': 25, 'pet': 'Zuko'}]}\n"
     ]
    },
    {
     "data": {
      "text/plain": [
       "dict"
      ]
     },
     "execution_count": 7,
     "metadata": {},
     "output_type": "execute_result"
    }
   ],
   "execution_count": 7
  },
  {
   "cell_type": "code",
   "metadata": {
    "colab": {
     "base_uri": "https://localhost:8080/",
     "height": 35
    },
    "executionInfo": {
     "elapsed": 14,
     "status": "ok",
     "timestamp": 1727768783198,
     "user": {
      "displayName": "Yongjin Jeong",
      "userId": "03658406798560557048"
     },
     "user_tz": -540
    },
    "id": "5dQdz9_o5wGb",
    "outputId": "0d1a8bb2-6992-49b3-f990-b12c4db81ac0",
    "ExecuteTime": {
     "end_time": "2024-10-16T15:23:00.500378Z",
     "start_time": "2024-10-16T15:23:00.496334Z"
    }
   },
   "source": [
    "json.dumps(r)    # encoding (dict --> json)"
   ],
   "outputs": [
    {
     "data": {
      "text/plain": [
       "'{\"name\": \"Kim\", \"places_lived\": [\"Seoul\", \"Korea\"], \"pet\": null, \"siblings\": [{\"name\": \"Scott\", \"age\": 25, \"pet\": \"Zuko\"}]}'"
      ]
     },
     "execution_count": 8,
     "metadata": {},
     "output_type": "execute_result"
    }
   ],
   "execution_count": 8
  },
  {
   "cell_type": "code",
   "metadata": {
    "id": "x6ubpQora7XA",
    "executionInfo": {
     "status": "ok",
     "timestamp": 1727768783198,
     "user_tz": -540,
     "elapsed": 13,
     "user": {
      "displayName": "Yongjin Jeong",
      "userId": "03658406798560557048"
     }
    },
    "ExecuteTime": {
     "end_time": "2024-10-16T15:27:55.165190Z",
     "start_time": "2024-10-16T15:27:55.159872Z"
    }
   },
   "source": [
    "# Exercise 2 (from https://rfriend.tistory.com/474)\n",
    "py_data = {\n",
    "\n",
    "    \"1.FirstName\": \"Gildong\",\n",
    "    \"2.LastName\": \"Hong\",\n",
    "    \"3.Age\": 20,\n",
    "    \"4.University\": \"Hangook University\",\n",
    "    \"5.Courses\": [\n",
    "        {\n",
    "            \"Classes\": [\n",
    "                \"Probability\",\n",
    "                \"Generalized Linear Model\",\n",
    "                \"Categorical Data Analysis\"\n",
    "            ],\n",
    "            \"Major\": \"Statistics\"\n",
    "        },\n",
    "        {\n",
    "            \"Classes\": [\n",
    "                \"Data Structure\",\n",
    "                \"Programming\",\n",
    "                \"Algorithms\"\n",
    "            ],\n",
    "            \"Minor\": \"ComputerScience\"\n",
    "        }\n",
    "    ]\n",
    "}"
   ],
   "outputs": [],
   "execution_count": 10
  },
  {
   "cell_type": "code",
   "metadata": {
    "colab": {
     "base_uri": "https://localhost:8080/"
    },
    "executionInfo": {
     "elapsed": 13,
     "status": "ok",
     "timestamp": 1727768783199,
     "user": {
      "displayName": "Yongjin Jeong",
      "userId": "03658406798560557048"
     },
     "user_tz": -540
    },
    "id": "EofaiBZRfXKv",
    "outputId": "6cb3d082-dca0-41be-b664-84216d848fec",
    "ExecuteTime": {
     "end_time": "2024-10-16T15:27:55.341877Z",
     "start_time": "2024-10-16T15:27:55.338072Z"
    }
   },
   "source": [
    "type(py_data)"
   ],
   "outputs": [
    {
     "data": {
      "text/plain": [
       "dict"
      ]
     },
     "execution_count": 11,
     "metadata": {},
     "output_type": "execute_result"
    }
   ],
   "execution_count": 11
  },
  {
   "cell_type": "code",
   "metadata": {
    "colab": {
     "base_uri": "https://localhost:8080/"
    },
    "executionInfo": {
     "elapsed": 424,
     "status": "ok",
     "timestamp": 1727768783612,
     "user": {
      "displayName": "Yongjin Jeong",
      "userId": "03658406798560557048"
     },
     "user_tz": -540
    },
    "id": "FXTH2Y-lJYpC",
    "outputId": "2381a4a9-8567-4899-ef07-edb00740cad4",
    "ExecuteTime": {
     "end_time": "2024-10-16T15:27:55.540539Z",
     "start_time": "2024-10-16T15:27:55.537595Z"
    }
   },
   "source": [
    "py_data.keys()"
   ],
   "outputs": [
    {
     "data": {
      "text/plain": [
       "dict_keys(['1.FirstName', '2.LastName', '3.Age', '4.University', '5.Courses'])"
      ]
     },
     "execution_count": 12,
     "metadata": {},
     "output_type": "execute_result"
    }
   ],
   "execution_count": 12
  },
  {
   "cell_type": "code",
   "metadata": {
    "colab": {
     "base_uri": "https://localhost:8080/"
    },
    "executionInfo": {
     "elapsed": 39,
     "status": "ok",
     "timestamp": 1727768783612,
     "user": {
      "displayName": "Yongjin Jeong",
      "userId": "03658406798560557048"
     },
     "user_tz": -540
    },
    "id": "V3Clc8rSsZGl",
    "outputId": "5a6a670d-7557-45a6-a4d7-ad0486603c04",
    "ExecuteTime": {
     "end_time": "2024-10-16T15:27:55.935798Z",
     "start_time": "2024-10-16T15:27:55.932139Z"
    }
   },
   "source": [
    "py_data.values()"
   ],
   "outputs": [
    {
     "data": {
      "text/plain": [
       "dict_values(['Gildong', 'Hong', 20, 'Hangook University', [{'Classes': ['Probability', 'Generalized Linear Model', 'Categorical Data Analysis'], 'Major': 'Statistics'}, {'Classes': ['Data Structure', 'Programming', 'Algorithms'], 'Minor': 'ComputerScience'}]])"
      ]
     },
     "execution_count": 13,
     "metadata": {},
     "output_type": "execute_result"
    }
   ],
   "execution_count": 13
  },
  {
   "cell_type": "code",
   "metadata": {
    "colab": {
     "base_uri": "https://localhost:8080/"
    },
    "executionInfo": {
     "elapsed": 34,
     "status": "ok",
     "timestamp": 1727768783612,
     "user": {
      "displayName": "Yongjin Jeong",
      "userId": "03658406798560557048"
     },
     "user_tz": -540
    },
    "id": "hDMeOckYccar",
    "outputId": "d6d212cb-29de-4633-e52d-00652d833a9e",
    "ExecuteTime": {
     "end_time": "2024-10-16T15:27:56.167661Z",
     "start_time": "2024-10-16T15:27:56.161909Z"
    }
   },
   "source": [
    "py_data.items()"
   ],
   "outputs": [
    {
     "data": {
      "text/plain": [
       "dict_items([('1.FirstName', 'Gildong'), ('2.LastName', 'Hong'), ('3.Age', 20), ('4.University', 'Hangook University'), ('5.Courses', [{'Classes': ['Probability', 'Generalized Linear Model', 'Categorical Data Analysis'], 'Major': 'Statistics'}, {'Classes': ['Data Structure', 'Programming', 'Algorithms'], 'Minor': 'ComputerScience'}])])"
      ]
     },
     "execution_count": 14,
     "metadata": {},
     "output_type": "execute_result"
    }
   ],
   "execution_count": 14
  },
  {
   "cell_type": "code",
   "metadata": {
    "colab": {
     "base_uri": "https://localhost:8080/"
    },
    "executionInfo": {
     "elapsed": 30,
     "status": "ok",
     "timestamp": 1727768783612,
     "user": {
      "displayName": "Yongjin Jeong",
      "userId": "03658406798560557048"
     },
     "user_tz": -540
    },
    "id": "nRKMzO1sJm9D",
    "outputId": "225116a1-f13a-4e7d-e1b9-7d670dece76d",
    "ExecuteTime": {
     "end_time": "2024-10-16T15:27:57.143552Z",
     "start_time": "2024-10-16T15:27:57.136400Z"
    }
   },
   "source": [
    "py_data['5.Courses']"
   ],
   "outputs": [
    {
     "data": {
      "text/plain": [
       "[{'Classes': ['Probability',\n",
       "   'Generalized Linear Model',\n",
       "   'Categorical Data Analysis'],\n",
       "  'Major': 'Statistics'},\n",
       " {'Classes': ['Data Structure', 'Programming', 'Algorithms'],\n",
       "  'Minor': 'ComputerScience'}]"
      ]
     },
     "execution_count": 15,
     "metadata": {},
     "output_type": "execute_result"
    }
   ],
   "execution_count": 15
  },
  {
   "metadata": {
    "ExecuteTime": {
     "end_time": "2024-10-16T15:36:41.829879Z",
     "start_time": "2024-10-16T15:36:41.795260Z"
    }
   },
   "cell_type": "code",
   "source": "pd.json_normalize(py_data,'5.Courses',['1.FirstName'])",
   "outputs": [
    {
     "data": {
      "text/plain": [
       "                                             Classes       Major  \\\n",
       "0  [Probability, Generalized Linear Model, Catego...  Statistics   \n",
       "1          [Data Structure, Programming, Algorithms]         NaN   \n",
       "\n",
       "             Minor 1.FirstName  \n",
       "0              NaN     Gildong  \n",
       "1  ComputerScience     Gildong  "
      ],
      "text/html": [
       "<div>\n",
       "<style scoped>\n",
       "    .dataframe tbody tr th:only-of-type {\n",
       "        vertical-align: middle;\n",
       "    }\n",
       "\n",
       "    .dataframe tbody tr th {\n",
       "        vertical-align: top;\n",
       "    }\n",
       "\n",
       "    .dataframe thead th {\n",
       "        text-align: right;\n",
       "    }\n",
       "</style>\n",
       "<table border=\"1\" class=\"dataframe\">\n",
       "  <thead>\n",
       "    <tr style=\"text-align: right;\">\n",
       "      <th></th>\n",
       "      <th>Classes</th>\n",
       "      <th>Major</th>\n",
       "      <th>Minor</th>\n",
       "      <th>1.FirstName</th>\n",
       "    </tr>\n",
       "  </thead>\n",
       "  <tbody>\n",
       "    <tr>\n",
       "      <th>0</th>\n",
       "      <td>[Probability, Generalized Linear Model, Catego...</td>\n",
       "      <td>Statistics</td>\n",
       "      <td>NaN</td>\n",
       "      <td>Gildong</td>\n",
       "    </tr>\n",
       "    <tr>\n",
       "      <th>1</th>\n",
       "      <td>[Data Structure, Programming, Algorithms]</td>\n",
       "      <td>NaN</td>\n",
       "      <td>ComputerScience</td>\n",
       "      <td>Gildong</td>\n",
       "    </tr>\n",
       "  </tbody>\n",
       "</table>\n",
       "</div>"
      ]
     },
     "execution_count": 22,
     "metadata": {},
     "output_type": "execute_result"
    }
   ],
   "execution_count": 22
  },
  {
   "cell_type": "code",
   "metadata": {
    "colab": {
     "base_uri": "https://localhost:8080/"
    },
    "executionInfo": {
     "elapsed": 30,
     "status": "ok",
     "timestamp": 1727768783613,
     "user": {
      "displayName": "Yongjin Jeong",
      "userId": "03658406798560557048"
     },
     "user_tz": -540
    },
    "id": "gKOZMI6vehyV",
    "outputId": "17f0adcc-aa04-48e5-f324-3f95ba8065a9",
    "ExecuteTime": {
     "end_time": "2024-10-16T15:27:57.912223Z",
     "start_time": "2024-10-16T15:27:57.909037Z"
    }
   },
   "source": [
    "import json\n",
    "json_str = json.dumps(py_data)\n",
    "print(json_str)\n",
    "type(json_str)"
   ],
   "outputs": [
    {
     "name": "stdout",
     "output_type": "stream",
     "text": [
      "{\"1.FirstName\": \"Gildong\", \"2.LastName\": \"Hong\", \"3.Age\": 20, \"4.University\": \"Hangook University\", \"5.Courses\": [{\"Classes\": [\"Probability\", \"Generalized Linear Model\", \"Categorical Data Analysis\"], \"Major\": \"Statistics\"}, {\"Classes\": [\"Data Structure\", \"Programming\", \"Algorithms\"], \"Minor\": \"ComputerScience\"}]}\n"
     ]
    },
    {
     "data": {
      "text/plain": [
       "str"
      ]
     },
     "execution_count": 16,
     "metadata": {},
     "output_type": "execute_result"
    }
   ],
   "execution_count": 16
  },
  {
   "cell_type": "code",
   "metadata": {
    "colab": {
     "base_uri": "https://localhost:8080/",
     "height": 241
    },
    "executionInfo": {
     "elapsed": 28,
     "status": "ok",
     "timestamp": 1727768783613,
     "user": {
      "displayName": "Yongjin Jeong",
      "userId": "03658406798560557048"
     },
     "user_tz": -540
    },
    "id": "IW4S96m5GA6Q",
    "outputId": "7b73cafc-2913-45b4-dad2-7b72df6399f7",
    "ExecuteTime": {
     "end_time": "2024-10-16T15:27:59.679024Z",
     "start_time": "2024-10-16T15:27:59.654971Z"
    }
   },
   "source": [
    "pd.Series(py_data)"
   ],
   "outputs": [
    {
     "data": {
      "text/plain": [
       "1.FirstName                                               Gildong\n",
       "2.LastName                                                   Hong\n",
       "3.Age                                                          20\n",
       "4.University                                   Hangook University\n",
       "5.Courses       [{'Classes': ['Probability', 'Generalized Line...\n",
       "dtype: object"
      ]
     },
     "execution_count": 17,
     "metadata": {},
     "output_type": "execute_result"
    }
   ],
   "execution_count": 17
  },
  {
   "cell_type": "code",
   "metadata": {
    "colab": {
     "base_uri": "https://localhost:8080/",
     "height": 112
    },
    "executionInfo": {
     "elapsed": 27,
     "status": "ok",
     "timestamp": 1727768783613,
     "user": {
      "displayName": "Yongjin Jeong",
      "userId": "03658406798560557048"
     },
     "user_tz": -540
    },
    "id": "UznEzTNsKGeO",
    "outputId": "109ff201-e890-40f2-b25c-59fc678a031e",
    "ExecuteTime": {
     "end_time": "2024-10-07T03:27:21.903766Z",
     "start_time": "2024-10-07T03:27:21.897218Z"
    }
   },
   "source": [
    "pd.DataFrame(py_data)"
   ],
   "outputs": [
    {
     "data": {
      "text/plain": [
       "  1.FirstName 2.LastName  3.Age        4.University  \\\n",
       "0     Gildong       Hong     20  Hangook University   \n",
       "1     Gildong       Hong     20  Hangook University   \n",
       "\n",
       "                                           5.Courses  \n",
       "0  {'Classes': ['Probability', 'Generalized Linea...  \n",
       "1  {'Classes': ['Data Structure', 'Programming', ...  "
      ],
      "text/html": [
       "<div>\n",
       "<style scoped>\n",
       "    .dataframe tbody tr th:only-of-type {\n",
       "        vertical-align: middle;\n",
       "    }\n",
       "\n",
       "    .dataframe tbody tr th {\n",
       "        vertical-align: top;\n",
       "    }\n",
       "\n",
       "    .dataframe thead th {\n",
       "        text-align: right;\n",
       "    }\n",
       "</style>\n",
       "<table border=\"1\" class=\"dataframe\">\n",
       "  <thead>\n",
       "    <tr style=\"text-align: right;\">\n",
       "      <th></th>\n",
       "      <th>1.FirstName</th>\n",
       "      <th>2.LastName</th>\n",
       "      <th>3.Age</th>\n",
       "      <th>4.University</th>\n",
       "      <th>5.Courses</th>\n",
       "    </tr>\n",
       "  </thead>\n",
       "  <tbody>\n",
       "    <tr>\n",
       "      <th>0</th>\n",
       "      <td>Gildong</td>\n",
       "      <td>Hong</td>\n",
       "      <td>20</td>\n",
       "      <td>Hangook University</td>\n",
       "      <td>{'Classes': ['Probability', 'Generalized Linea...</td>\n",
       "    </tr>\n",
       "    <tr>\n",
       "      <th>1</th>\n",
       "      <td>Gildong</td>\n",
       "      <td>Hong</td>\n",
       "      <td>20</td>\n",
       "      <td>Hangook University</td>\n",
       "      <td>{'Classes': ['Data Structure', 'Programming', ...</td>\n",
       "    </tr>\n",
       "  </tbody>\n",
       "</table>\n",
       "</div>"
      ]
     },
     "execution_count": 14,
     "metadata": {},
     "output_type": "execute_result"
    }
   ],
   "execution_count": 14
  },
  {
   "cell_type": "code",
   "metadata": {
    "colab": {
     "base_uri": "https://localhost:8080/",
     "height": 147
    },
    "executionInfo": {
     "elapsed": 26,
     "status": "ok",
     "timestamp": 1727768783613,
     "user": {
      "displayName": "Yongjin Jeong",
      "userId": "03658406798560557048"
     },
     "user_tz": -540
    },
    "id": "s4CqofO2inah",
    "outputId": "7d38fec5-192f-49f6-bb9d-09137e04ac34",
    "ExecuteTime": {
     "end_time": "2024-10-07T03:27:22.410285Z",
     "start_time": "2024-10-07T03:27:22.406023Z"
    }
   },
   "source": [
    "pd.DataFrame(py_data).iloc[:,-1]"
   ],
   "outputs": [
    {
     "data": {
      "text/plain": [
       "0    {'Classes': ['Probability', 'Generalized Linea...\n",
       "1    {'Classes': ['Data Structure', 'Programming', ...\n",
       "Name: 5.Courses, dtype: object"
      ]
     },
     "execution_count": 15,
     "metadata": {},
     "output_type": "execute_result"
    }
   ],
   "execution_count": 15
  },
  {
   "cell_type": "code",
   "metadata": {
    "colab": {
     "base_uri": "https://localhost:8080/",
     "height": 112
    },
    "executionInfo": {
     "elapsed": 25,
     "status": "ok",
     "timestamp": 1727768783613,
     "user": {
      "displayName": "Yongjin Jeong",
      "userId": "03658406798560557048"
     },
     "user_tz": -540
    },
    "id": "dcRqkEUFKwh_",
    "outputId": "0921306d-ce63-40a0-8d36-b05e3c253c75",
    "ExecuteTime": {
     "end_time": "2024-10-07T03:27:22.897942Z",
     "start_time": "2024-10-07T03:27:22.892534Z"
    }
   },
   "source": [
    "pd.DataFrame.from_dict(py_data)  # create a dataframe from a dict (more flexible)"
   ],
   "outputs": [
    {
     "data": {
      "text/plain": [
       "  1.FirstName 2.LastName  3.Age        4.University  \\\n",
       "0     Gildong       Hong     20  Hangook University   \n",
       "1     Gildong       Hong     20  Hangook University   \n",
       "\n",
       "                                           5.Courses  \n",
       "0  {'Classes': ['Probability', 'Generalized Linea...  \n",
       "1  {'Classes': ['Data Structure', 'Programming', ...  "
      ],
      "text/html": [
       "<div>\n",
       "<style scoped>\n",
       "    .dataframe tbody tr th:only-of-type {\n",
       "        vertical-align: middle;\n",
       "    }\n",
       "\n",
       "    .dataframe tbody tr th {\n",
       "        vertical-align: top;\n",
       "    }\n",
       "\n",
       "    .dataframe thead th {\n",
       "        text-align: right;\n",
       "    }\n",
       "</style>\n",
       "<table border=\"1\" class=\"dataframe\">\n",
       "  <thead>\n",
       "    <tr style=\"text-align: right;\">\n",
       "      <th></th>\n",
       "      <th>1.FirstName</th>\n",
       "      <th>2.LastName</th>\n",
       "      <th>3.Age</th>\n",
       "      <th>4.University</th>\n",
       "      <th>5.Courses</th>\n",
       "    </tr>\n",
       "  </thead>\n",
       "  <tbody>\n",
       "    <tr>\n",
       "      <th>0</th>\n",
       "      <td>Gildong</td>\n",
       "      <td>Hong</td>\n",
       "      <td>20</td>\n",
       "      <td>Hangook University</td>\n",
       "      <td>{'Classes': ['Probability', 'Generalized Linea...</td>\n",
       "    </tr>\n",
       "    <tr>\n",
       "      <th>1</th>\n",
       "      <td>Gildong</td>\n",
       "      <td>Hong</td>\n",
       "      <td>20</td>\n",
       "      <td>Hangook University</td>\n",
       "      <td>{'Classes': ['Data Structure', 'Programming', ...</td>\n",
       "    </tr>\n",
       "  </tbody>\n",
       "</table>\n",
       "</div>"
      ]
     },
     "execution_count": 16,
     "metadata": {},
     "output_type": "execute_result"
    }
   ],
   "execution_count": 16
  },
  {
   "cell_type": "code",
   "metadata": {
    "colab": {
     "base_uri": "https://localhost:8080/",
     "height": 81
    },
    "executionInfo": {
     "elapsed": 25,
     "status": "ok",
     "timestamp": 1727768783614,
     "user": {
      "displayName": "Yongjin Jeong",
      "userId": "03658406798560557048"
     },
     "user_tz": -540
    },
    "id": "B6Oy0RABbmN2",
    "outputId": "b38197c8-276f-43ce-ea3a-418e189ab778",
    "ExecuteTime": {
     "end_time": "2024-10-07T03:27:23.358617Z",
     "start_time": "2024-10-07T03:27:23.353885Z"
    }
   },
   "source": [
    "pd.json_normalize(py_data)  # transforms a complex nested data structures to a flat dataframe"
   ],
   "outputs": [
    {
     "data": {
      "text/plain": [
       "  1.FirstName 2.LastName  3.Age        4.University  \\\n",
       "0     Gildong       Hong     20  Hangook University   \n",
       "\n",
       "                                           5.Courses  \n",
       "0  [{'Classes': ['Probability', 'Generalized Line...  "
      ],
      "text/html": [
       "<div>\n",
       "<style scoped>\n",
       "    .dataframe tbody tr th:only-of-type {\n",
       "        vertical-align: middle;\n",
       "    }\n",
       "\n",
       "    .dataframe tbody tr th {\n",
       "        vertical-align: top;\n",
       "    }\n",
       "\n",
       "    .dataframe thead th {\n",
       "        text-align: right;\n",
       "    }\n",
       "</style>\n",
       "<table border=\"1\" class=\"dataframe\">\n",
       "  <thead>\n",
       "    <tr style=\"text-align: right;\">\n",
       "      <th></th>\n",
       "      <th>1.FirstName</th>\n",
       "      <th>2.LastName</th>\n",
       "      <th>3.Age</th>\n",
       "      <th>4.University</th>\n",
       "      <th>5.Courses</th>\n",
       "    </tr>\n",
       "  </thead>\n",
       "  <tbody>\n",
       "    <tr>\n",
       "      <th>0</th>\n",
       "      <td>Gildong</td>\n",
       "      <td>Hong</td>\n",
       "      <td>20</td>\n",
       "      <td>Hangook University</td>\n",
       "      <td>[{'Classes': ['Probability', 'Generalized Line...</td>\n",
       "    </tr>\n",
       "  </tbody>\n",
       "</table>\n",
       "</div>"
      ]
     },
     "execution_count": 17,
     "metadata": {},
     "output_type": "execute_result"
    }
   ],
   "execution_count": 17
  },
  {
   "cell_type": "code",
   "metadata": {
    "colab": {
     "base_uri": "https://localhost:8080/"
    },
    "executionInfo": {
     "elapsed": 24,
     "status": "ok",
     "timestamp": 1727768783614,
     "user": {
      "displayName": "Yongjin Jeong",
      "userId": "03658406798560557048"
     },
     "user_tz": -540
    },
    "id": "hwk_jZT7GbQy",
    "outputId": "54566382-abdd-4ad4-c39b-0d66ddb1715e",
    "ExecuteTime": {
     "end_time": "2024-10-07T03:27:23.819814Z",
     "start_time": "2024-10-07T03:27:23.816416Z"
    }
   },
   "source": [
    "py_data['5.Courses']"
   ],
   "outputs": [
    {
     "data": {
      "text/plain": [
       "[{'Classes': ['Probability',\n",
       "   'Generalized Linear Model',\n",
       "   'Categorical Data Analysis'],\n",
       "  'Major': 'Statistics'},\n",
       " {'Classes': ['Data Structure', 'Programming', 'Algorithms'],\n",
       "  'Minor': 'ComputerScience'}]"
      ]
     },
     "execution_count": 18,
     "metadata": {},
     "output_type": "execute_result"
    }
   ],
   "execution_count": 18
  },
  {
   "cell_type": "code",
   "metadata": {
    "colab": {
     "base_uri": "https://localhost:8080/",
     "height": 112
    },
    "executionInfo": {
     "elapsed": 21,
     "status": "ok",
     "timestamp": 1727768783614,
     "user": {
      "displayName": "Yongjin Jeong",
      "userId": "03658406798560557048"
     },
     "user_tz": -540
    },
    "id": "Jmxsz5YsenV3",
    "outputId": "985087d7-aa6a-4365-c609-cb834997f899",
    "ExecuteTime": {
     "end_time": "2024-10-07T03:27:24.304194Z",
     "start_time": "2024-10-07T03:27:24.300004Z"
    }
   },
   "source": [
    "pd.json_normalize(py_data, \"5.Courses\")"
   ],
   "outputs": [
    {
     "data": {
      "text/plain": [
       "                                             Classes       Major  \\\n",
       "0  [Probability, Generalized Linear Model, Catego...  Statistics   \n",
       "1          [Data Structure, Programming, Algorithms]         NaN   \n",
       "\n",
       "             Minor  \n",
       "0              NaN  \n",
       "1  ComputerScience  "
      ],
      "text/html": [
       "<div>\n",
       "<style scoped>\n",
       "    .dataframe tbody tr th:only-of-type {\n",
       "        vertical-align: middle;\n",
       "    }\n",
       "\n",
       "    .dataframe tbody tr th {\n",
       "        vertical-align: top;\n",
       "    }\n",
       "\n",
       "    .dataframe thead th {\n",
       "        text-align: right;\n",
       "    }\n",
       "</style>\n",
       "<table border=\"1\" class=\"dataframe\">\n",
       "  <thead>\n",
       "    <tr style=\"text-align: right;\">\n",
       "      <th></th>\n",
       "      <th>Classes</th>\n",
       "      <th>Major</th>\n",
       "      <th>Minor</th>\n",
       "    </tr>\n",
       "  </thead>\n",
       "  <tbody>\n",
       "    <tr>\n",
       "      <th>0</th>\n",
       "      <td>[Probability, Generalized Linear Model, Catego...</td>\n",
       "      <td>Statistics</td>\n",
       "      <td>NaN</td>\n",
       "    </tr>\n",
       "    <tr>\n",
       "      <th>1</th>\n",
       "      <td>[Data Structure, Programming, Algorithms]</td>\n",
       "      <td>NaN</td>\n",
       "      <td>ComputerScience</td>\n",
       "    </tr>\n",
       "  </tbody>\n",
       "</table>\n",
       "</div>"
      ]
     },
     "execution_count": 19,
     "metadata": {},
     "output_type": "execute_result"
    }
   ],
   "execution_count": 19
  },
  {
   "cell_type": "code",
   "metadata": {
    "colab": {
     "base_uri": "https://localhost:8080/",
     "height": 112
    },
    "executionInfo": {
     "elapsed": 20,
     "status": "ok",
     "timestamp": 1727768783614,
     "user": {
      "displayName": "Yongjin Jeong",
      "userId": "03658406798560557048"
     },
     "user_tz": -540
    },
    "id": "sRF63GHdNcKx",
    "outputId": "26193487-31b2-4b90-d34d-c7813d9d0f8e",
    "ExecuteTime": {
     "end_time": "2024-10-07T03:27:24.831096Z",
     "start_time": "2024-10-07T03:27:24.825304Z"
    }
   },
   "source": [
    "pd.json_normalize(py_data, \"5.Courses\", ['3.Age'])"
   ],
   "outputs": [
    {
     "data": {
      "text/plain": [
       "                                             Classes       Major  \\\n",
       "0  [Probability, Generalized Linear Model, Catego...  Statistics   \n",
       "1          [Data Structure, Programming, Algorithms]         NaN   \n",
       "\n",
       "             Minor 3.Age  \n",
       "0              NaN    20  \n",
       "1  ComputerScience    20  "
      ],
      "text/html": [
       "<div>\n",
       "<style scoped>\n",
       "    .dataframe tbody tr th:only-of-type {\n",
       "        vertical-align: middle;\n",
       "    }\n",
       "\n",
       "    .dataframe tbody tr th {\n",
       "        vertical-align: top;\n",
       "    }\n",
       "\n",
       "    .dataframe thead th {\n",
       "        text-align: right;\n",
       "    }\n",
       "</style>\n",
       "<table border=\"1\" class=\"dataframe\">\n",
       "  <thead>\n",
       "    <tr style=\"text-align: right;\">\n",
       "      <th></th>\n",
       "      <th>Classes</th>\n",
       "      <th>Major</th>\n",
       "      <th>Minor</th>\n",
       "      <th>3.Age</th>\n",
       "    </tr>\n",
       "  </thead>\n",
       "  <tbody>\n",
       "    <tr>\n",
       "      <th>0</th>\n",
       "      <td>[Probability, Generalized Linear Model, Catego...</td>\n",
       "      <td>Statistics</td>\n",
       "      <td>NaN</td>\n",
       "      <td>20</td>\n",
       "    </tr>\n",
       "    <tr>\n",
       "      <th>1</th>\n",
       "      <td>[Data Structure, Programming, Algorithms]</td>\n",
       "      <td>NaN</td>\n",
       "      <td>ComputerScience</td>\n",
       "      <td>20</td>\n",
       "    </tr>\n",
       "  </tbody>\n",
       "</table>\n",
       "</div>"
      ]
     },
     "execution_count": 20,
     "metadata": {},
     "output_type": "execute_result"
    }
   ],
   "execution_count": 20
  },
  {
   "cell_type": "markdown",
   "metadata": {
    "id": "-_EbwtxkDIBT"
   },
   "source": [
    "# json_normalize (data, record_path, meta, ...)\n",
    "- flatten nested structures\n",
    "- data: dict or list of dict\n",
    "- record_path : decode 해줘야할 열 지정 [{}, {}, {} ....]\n",
    "- meta : decode 하는 열과 동일 차원에 존재하는 열들 중 데이터 프레임에 포함시킬 열 선택"
   ]
  },
  {
   "cell_type": "code",
   "metadata": {
    "id": "67mNVQ8DglQM",
    "executionInfo": {
     "status": "ok",
     "timestamp": 1727769086165,
     "user_tz": -540,
     "elapsed": 314,
     "user": {
      "displayName": "Yongjin Jeong",
      "userId": "03658406798560557048"
     }
    },
    "ExecuteTime": {
     "end_time": "2024-10-16T15:31:03.341784Z",
     "start_time": "2024-10-16T15:31:03.336836Z"
    }
   },
   "source": [
    "# JSON exercise3\n",
    "# from https://pandas.pydata.org/pandas-docs/stable/reference/api/\\\n",
    "#              pandas.io.json.json_normalize.html\n",
    "data = [{'state': 'Florida',\n",
    "         'shortname': 'FL',\n",
    "         'info': {'governor': 'Rick Scott'},\n",
    "         'counties': [{'name': 'Dade', 'population': 12345},\n",
    "                      {'name': 'Broward', 'population': 40000},\n",
    "                      {'name': 'Palm Beach', 'population': 60000}]},\n",
    "        {'state': 'Ohio',\n",
    "         'shortname': 'OH',\n",
    "         'info': {'governor': 'John Kasich'},\n",
    "         'counties': [{'name': 'Summit', 'population': 1234},\n",
    "                      {'name': 'Cuyahoga', 'population': 1337}]}]"
   ],
   "outputs": [],
   "execution_count": 18
  },
  {
   "cell_type": "code",
   "metadata": {
    "colab": {
     "base_uri": "https://localhost:8080/"
    },
    "executionInfo": {
     "elapsed": 592,
     "status": "ok",
     "timestamp": 1727768784188,
     "user": {
      "displayName": "Yongjin Jeong",
      "userId": "03658406798560557048"
     },
     "user_tz": -540
    },
    "id": "g3JEFxt6g3Xt",
    "outputId": "1a64f7df-bab9-40c6-bda3-a64319c98888",
    "ExecuteTime": {
     "end_time": "2024-10-16T15:31:04.102958Z",
     "start_time": "2024-10-16T15:31:04.097670Z"
    }
   },
   "source": [
    "type(data), len(data)"
   ],
   "outputs": [
    {
     "data": {
      "text/plain": [
       "(list, 2)"
      ]
     },
     "execution_count": 19,
     "metadata": {},
     "output_type": "execute_result"
    }
   ],
   "execution_count": 19
  },
  {
   "metadata": {
    "ExecuteTime": {
     "end_time": "2024-10-16T15:31:23.252696Z",
     "start_time": "2024-10-16T15:31:23.234903Z"
    }
   },
   "cell_type": "code",
   "source": "pd.DataFrame.from_dict(data)",
   "outputs": [
    {
     "data": {
      "text/plain": [
       "     state shortname                         info  \\\n",
       "0  Florida        FL   {'governor': 'Rick Scott'}   \n",
       "1     Ohio        OH  {'governor': 'John Kasich'}   \n",
       "\n",
       "                                            counties  \n",
       "0  [{'name': 'Dade', 'population': 12345}, {'name...  \n",
       "1  [{'name': 'Summit', 'population': 1234}, {'nam...  "
      ],
      "text/html": [
       "<div>\n",
       "<style scoped>\n",
       "    .dataframe tbody tr th:only-of-type {\n",
       "        vertical-align: middle;\n",
       "    }\n",
       "\n",
       "    .dataframe tbody tr th {\n",
       "        vertical-align: top;\n",
       "    }\n",
       "\n",
       "    .dataframe thead th {\n",
       "        text-align: right;\n",
       "    }\n",
       "</style>\n",
       "<table border=\"1\" class=\"dataframe\">\n",
       "  <thead>\n",
       "    <tr style=\"text-align: right;\">\n",
       "      <th></th>\n",
       "      <th>state</th>\n",
       "      <th>shortname</th>\n",
       "      <th>info</th>\n",
       "      <th>counties</th>\n",
       "    </tr>\n",
       "  </thead>\n",
       "  <tbody>\n",
       "    <tr>\n",
       "      <th>0</th>\n",
       "      <td>Florida</td>\n",
       "      <td>FL</td>\n",
       "      <td>{'governor': 'Rick Scott'}</td>\n",
       "      <td>[{'name': 'Dade', 'population': 12345}, {'name...</td>\n",
       "    </tr>\n",
       "    <tr>\n",
       "      <th>1</th>\n",
       "      <td>Ohio</td>\n",
       "      <td>OH</td>\n",
       "      <td>{'governor': 'John Kasich'}</td>\n",
       "      <td>[{'name': 'Summit', 'population': 1234}, {'nam...</td>\n",
       "    </tr>\n",
       "  </tbody>\n",
       "</table>\n",
       "</div>"
      ]
     },
     "execution_count": 20,
     "metadata": {},
     "output_type": "execute_result"
    }
   ],
   "execution_count": 20
  },
  {
   "cell_type": "code",
   "metadata": {
    "colab": {
     "base_uri": "https://localhost:8080/",
     "height": 112
    },
    "executionInfo": {
     "elapsed": 50,
     "status": "ok",
     "timestamp": 1727768784188,
     "user": {
      "displayName": "Yongjin Jeong",
      "userId": "03658406798560557048"
     },
     "user_tz": -540
    },
    "id": "jIe0oFnLhGOL",
    "outputId": "e71eb769-046c-44b4-ccf6-40784a18824c",
    "ExecuteTime": {
     "end_time": "2024-10-07T03:27:27.214358Z",
     "start_time": "2024-10-07T03:27:27.208685Z"
    }
   },
   "source": [
    "pd.json_normalize(data)"
   ],
   "outputs": [
    {
     "data": {
      "text/plain": [
       "     state shortname                                           counties  \\\n",
       "0  Florida        FL  [{'name': 'Dade', 'population': 12345}, {'name...   \n",
       "1     Ohio        OH  [{'name': 'Summit', 'population': 1234}, {'nam...   \n",
       "\n",
       "  info.governor  \n",
       "0    Rick Scott  \n",
       "1   John Kasich  "
      ],
      "text/html": [
       "<div>\n",
       "<style scoped>\n",
       "    .dataframe tbody tr th:only-of-type {\n",
       "        vertical-align: middle;\n",
       "    }\n",
       "\n",
       "    .dataframe tbody tr th {\n",
       "        vertical-align: top;\n",
       "    }\n",
       "\n",
       "    .dataframe thead th {\n",
       "        text-align: right;\n",
       "    }\n",
       "</style>\n",
       "<table border=\"1\" class=\"dataframe\">\n",
       "  <thead>\n",
       "    <tr style=\"text-align: right;\">\n",
       "      <th></th>\n",
       "      <th>state</th>\n",
       "      <th>shortname</th>\n",
       "      <th>counties</th>\n",
       "      <th>info.governor</th>\n",
       "    </tr>\n",
       "  </thead>\n",
       "  <tbody>\n",
       "    <tr>\n",
       "      <th>0</th>\n",
       "      <td>Florida</td>\n",
       "      <td>FL</td>\n",
       "      <td>[{'name': 'Dade', 'population': 12345}, {'name...</td>\n",
       "      <td>Rick Scott</td>\n",
       "    </tr>\n",
       "    <tr>\n",
       "      <th>1</th>\n",
       "      <td>Ohio</td>\n",
       "      <td>OH</td>\n",
       "      <td>[{'name': 'Summit', 'population': 1234}, {'nam...</td>\n",
       "      <td>John Kasich</td>\n",
       "    </tr>\n",
       "  </tbody>\n",
       "</table>\n",
       "</div>"
      ]
     },
     "execution_count": 23,
     "metadata": {},
     "output_type": "execute_result"
    }
   ],
   "execution_count": 23
  },
  {
   "cell_type": "code",
   "metadata": {
    "colab": {
     "base_uri": "https://localhost:8080/",
     "height": 206
    },
    "executionInfo": {
     "elapsed": 48,
     "status": "ok",
     "timestamp": 1727768784189,
     "user": {
      "displayName": "Yongjin Jeong",
      "userId": "03658406798560557048"
     },
     "user_tz": -540
    },
    "id": "KXMHDs2IhRCU",
    "outputId": "ab3e7f29-803e-4a40-e608-f3fc3ceffe9e",
    "ExecuteTime": {
     "end_time": "2024-10-07T03:27:27.691202Z",
     "start_time": "2024-10-07T03:27:27.686702Z"
    }
   },
   "source": [
    "pd.json_normalize(data, 'counties')"
   ],
   "outputs": [
    {
     "data": {
      "text/plain": [
       "         name  population\n",
       "0        Dade       12345\n",
       "1     Broward       40000\n",
       "2  Palm Beach       60000\n",
       "3      Summit        1234\n",
       "4    Cuyahoga        1337"
      ],
      "text/html": [
       "<div>\n",
       "<style scoped>\n",
       "    .dataframe tbody tr th:only-of-type {\n",
       "        vertical-align: middle;\n",
       "    }\n",
       "\n",
       "    .dataframe tbody tr th {\n",
       "        vertical-align: top;\n",
       "    }\n",
       "\n",
       "    .dataframe thead th {\n",
       "        text-align: right;\n",
       "    }\n",
       "</style>\n",
       "<table border=\"1\" class=\"dataframe\">\n",
       "  <thead>\n",
       "    <tr style=\"text-align: right;\">\n",
       "      <th></th>\n",
       "      <th>name</th>\n",
       "      <th>population</th>\n",
       "    </tr>\n",
       "  </thead>\n",
       "  <tbody>\n",
       "    <tr>\n",
       "      <th>0</th>\n",
       "      <td>Dade</td>\n",
       "      <td>12345</td>\n",
       "    </tr>\n",
       "    <tr>\n",
       "      <th>1</th>\n",
       "      <td>Broward</td>\n",
       "      <td>40000</td>\n",
       "    </tr>\n",
       "    <tr>\n",
       "      <th>2</th>\n",
       "      <td>Palm Beach</td>\n",
       "      <td>60000</td>\n",
       "    </tr>\n",
       "    <tr>\n",
       "      <th>3</th>\n",
       "      <td>Summit</td>\n",
       "      <td>1234</td>\n",
       "    </tr>\n",
       "    <tr>\n",
       "      <th>4</th>\n",
       "      <td>Cuyahoga</td>\n",
       "      <td>1337</td>\n",
       "    </tr>\n",
       "  </tbody>\n",
       "</table>\n",
       "</div>"
      ]
     },
     "execution_count": 24,
     "metadata": {},
     "output_type": "execute_result"
    }
   ],
   "execution_count": 24
  },
  {
   "cell_type": "code",
   "metadata": {
    "colab": {
     "base_uri": "https://localhost:8080/",
     "height": 206
    },
    "executionInfo": {
     "elapsed": 46,
     "status": "ok",
     "timestamp": 1727768784189,
     "user": {
      "displayName": "Yongjin Jeong",
      "userId": "03658406798560557048"
     },
     "user_tz": -540
    },
    "id": "FoFHbEpWhESk",
    "outputId": "1a45c770-ad5b-4682-d987-8ac24382237d",
    "ExecuteTime": {
     "end_time": "2024-10-07T03:27:28.156708Z",
     "start_time": "2024-10-07T03:27:28.151709Z"
    }
   },
   "source": [
    "pd.json_normalize(data, 'counties', ['state', 'shortname', ['info', 'governor']])"
   ],
   "outputs": [
    {
     "data": {
      "text/plain": [
       "         name  population    state shortname info.governor\n",
       "0        Dade       12345  Florida        FL    Rick Scott\n",
       "1     Broward       40000  Florida        FL    Rick Scott\n",
       "2  Palm Beach       60000  Florida        FL    Rick Scott\n",
       "3      Summit        1234     Ohio        OH   John Kasich\n",
       "4    Cuyahoga        1337     Ohio        OH   John Kasich"
      ],
      "text/html": [
       "<div>\n",
       "<style scoped>\n",
       "    .dataframe tbody tr th:only-of-type {\n",
       "        vertical-align: middle;\n",
       "    }\n",
       "\n",
       "    .dataframe tbody tr th {\n",
       "        vertical-align: top;\n",
       "    }\n",
       "\n",
       "    .dataframe thead th {\n",
       "        text-align: right;\n",
       "    }\n",
       "</style>\n",
       "<table border=\"1\" class=\"dataframe\">\n",
       "  <thead>\n",
       "    <tr style=\"text-align: right;\">\n",
       "      <th></th>\n",
       "      <th>name</th>\n",
       "      <th>population</th>\n",
       "      <th>state</th>\n",
       "      <th>shortname</th>\n",
       "      <th>info.governor</th>\n",
       "    </tr>\n",
       "  </thead>\n",
       "  <tbody>\n",
       "    <tr>\n",
       "      <th>0</th>\n",
       "      <td>Dade</td>\n",
       "      <td>12345</td>\n",
       "      <td>Florida</td>\n",
       "      <td>FL</td>\n",
       "      <td>Rick Scott</td>\n",
       "    </tr>\n",
       "    <tr>\n",
       "      <th>1</th>\n",
       "      <td>Broward</td>\n",
       "      <td>40000</td>\n",
       "      <td>Florida</td>\n",
       "      <td>FL</td>\n",
       "      <td>Rick Scott</td>\n",
       "    </tr>\n",
       "    <tr>\n",
       "      <th>2</th>\n",
       "      <td>Palm Beach</td>\n",
       "      <td>60000</td>\n",
       "      <td>Florida</td>\n",
       "      <td>FL</td>\n",
       "      <td>Rick Scott</td>\n",
       "    </tr>\n",
       "    <tr>\n",
       "      <th>3</th>\n",
       "      <td>Summit</td>\n",
       "      <td>1234</td>\n",
       "      <td>Ohio</td>\n",
       "      <td>OH</td>\n",
       "      <td>John Kasich</td>\n",
       "    </tr>\n",
       "    <tr>\n",
       "      <th>4</th>\n",
       "      <td>Cuyahoga</td>\n",
       "      <td>1337</td>\n",
       "      <td>Ohio</td>\n",
       "      <td>OH</td>\n",
       "      <td>John Kasich</td>\n",
       "    </tr>\n",
       "  </tbody>\n",
       "</table>\n",
       "</div>"
      ]
     },
     "execution_count": 25,
     "metadata": {},
     "output_type": "execute_result"
    }
   ],
   "execution_count": 25
  },
  {
   "cell_type": "markdown",
   "metadata": {
    "id": "U2ITUXYU_Wye"
   },
   "source": [
    "# YAML parsing\n",
    "- YAML (short for \"YAML Ain't Markup Language\") is a human-readable data serialization format that is commonly used for configuration files, data exchange, and other structured data.\n",
    "- an alternative to more complex formats like XML and JSON.\n",
    "- pyyaml: Python library that enables parsing and serialization of data in YAML format (parsing and conversion)"
   ]
  },
  {
   "cell_type": "markdown",
   "source": [
    "- example 1"
   ],
   "metadata": {
    "id": "W-q_dR2LE9f3"
   }
  },
  {
   "cell_type": "code",
   "source": "import yaml",
   "metadata": {
    "id": "He_UZQeaFMkX",
    "ExecuteTime": {
     "end_time": "2024-10-07T03:28:01.113855Z",
     "start_time": "2024-10-07T03:28:01.093820Z"
    }
   },
   "outputs": [],
   "execution_count": 28
  },
  {
   "cell_type": "code",
   "source": [
    "yaml_data = \"\"\"\n",
    "name: John Doe\n",
    "age: 30\n",
    "hobbies:\n",
    "  - reading\n",
    "  - hiking\n",
    "  - cooking\n",
    "\"\"\"\n",
    "\n",
    "# Convert YAML to a Python dictionary\n",
    "data = yaml.safe_load(yaml_data)\n",
    "print(data)"
   ],
   "metadata": {
    "colab": {
     "base_uri": "https://localhost:8080/"
    },
    "id": "N0Jt1ySRE6gG",
    "executionInfo": {
     "status": "ok",
     "timestamp": 1727769355113,
     "user_tz": -540,
     "elapsed": 325,
     "user": {
      "displayName": "Yongjin Jeong",
      "userId": "03658406798560557048"
     }
    },
    "outputId": "b5c03eb8-ad45-49dd-9f00-52e8aec74dc4",
    "ExecuteTime": {
     "end_time": "2024-10-07T03:28:01.667362Z",
     "start_time": "2024-10-07T03:28:01.663466Z"
    }
   },
   "outputs": [
    {
     "name": "stdout",
     "output_type": "stream",
     "text": [
      "{'name': 'John Doe', 'age': 30, 'hobbies': ['reading', 'hiking', 'cooking']}\n"
     ]
    }
   ],
   "execution_count": 29
  },
  {
   "cell_type": "markdown",
   "source": [
    "- example 2"
   ],
   "metadata": {
    "id": "fl1lsiZjE7_Q"
   }
  },
  {
   "cell_type": "code",
   "metadata": {
    "colab": {
     "base_uri": "https://localhost:8080/"
    },
    "executionInfo": {
     "elapsed": 465,
     "status": "ok",
     "timestamp": 1727769297043,
     "user": {
      "displayName": "Yongjin Jeong",
      "userId": "03658406798560557048"
     },
     "user_tz": -540
    },
    "id": "tg2-43Ki_o8p",
    "outputId": "cb020522-8143-4d79-f22c-78d9300c8945",
    "ExecuteTime": {
     "end_time": "2024-10-07T03:28:11.043719Z",
     "start_time": "2024-10-07T03:28:11.040942Z"
    }
   },
   "source": [
    "%%writefile ./config.yaml\n",
    "# sample YAML configuration file (generateed by ChatGPT)\n",
    "\n",
    "server:\n",
    "  host: localhost\n",
    "  port: 8080\n",
    "\n",
    "database:\n",
    "  host: localhost\n",
    "  port: 5432\n",
    "  user: myuser\n",
    "  password: mypassword"
   ],
   "outputs": [
    {
     "name": "stdout",
     "output_type": "stream",
     "text": [
      "Overwriting ./config.yaml\n"
     ]
    }
   ],
   "execution_count": 31
  },
  {
   "cell_type": "code",
   "metadata": {
    "colab": {
     "base_uri": "https://localhost:8080/"
    },
    "executionInfo": {
     "elapsed": 35,
     "status": "ok",
     "timestamp": 1727768784189,
     "user": {
      "displayName": "Yongjin Jeong",
      "userId": "03658406798560557048"
     },
     "user_tz": -540
    },
    "id": "VRPh72nY_7Nd",
    "outputId": "acf3b698-b04d-445c-9752-488252f14eee",
    "ExecuteTime": {
     "end_time": "2024-10-07T03:28:35.023269Z",
     "start_time": "2024-10-07T03:28:34.900889Z"
    }
   },
   "source": "!cat ./config.yaml",
   "outputs": [
    {
     "name": "stdout",
     "output_type": "stream",
     "text": [
      "# sample YAML configuration file (generateed by ChatGPT)\r\n",
      "\r\n",
      "server:\r\n",
      "  host: localhost\r\n",
      "  port: 8080\r\n",
      "\r\n",
      "database:\r\n",
      "  host: localhost\r\n",
      "  port: 5432\r\n",
      "  user: myuser\r\n",
      "  password: mypassword\r\n"
     ]
    }
   ],
   "execution_count": 32
  },
  {
   "cell_type": "code",
   "execution_count": 29,
   "metadata": {
    "colab": {
     "base_uri": "https://localhost:8080/"
    },
    "executionInfo": {
     "elapsed": 26,
     "status": "ok",
     "timestamp": 1727768795114,
     "user": {
      "displayName": "Yongjin Jeong",
      "userId": "03658406798560557048"
     },
     "user_tz": -540
    },
    "id": "16oUzC32AQUO",
    "outputId": "eadb728f-d489-4673-b61e-7f5c4e32a9ea"
   },
   "outputs": [
    {
     "output_type": "stream",
     "name": "stdout",
     "text": [
      "{'server': {'host': 'localhost', 'port': 8080}, 'database': {'host': 'localhost', 'port': 5432, 'user': 'myuser', 'password': 'mypassword'}} <class 'dict'>\n"
     ]
    }
   ],
   "source": [
    "import yaml\n",
    "\n",
    "with open('config.yaml', 'r') as f:\n",
    "    config = yaml.safe_load(f)\n",
    "    # config = yaml.load(f)        # for more complex types\n",
    "print(config, type(config))"
   ]
  },
  {
   "cell_type": "code",
   "source": [
    "\n",
    "print(config['server'])\n",
    "print(config['server']['host'])    # Output: localhost\n",
    "print(config['database']['user'])  # Output: myuser"
   ],
   "metadata": {
    "colab": {
     "base_uri": "https://localhost:8080/"
    },
    "id": "XcJql90RAJcw",
    "executionInfo": {
     "status": "ok",
     "timestamp": 1727768795114,
     "user_tz": -540,
     "elapsed": 19,
     "user": {
      "displayName": "Yongjin Jeong",
      "userId": "03658406798560557048"
     }
    },
    "outputId": "e64776a1-4278-4ebb-d8bf-da1d2c02ebb3"
   },
   "execution_count": 30,
   "outputs": [
    {
     "output_type": "stream",
     "name": "stdout",
     "text": [
      "{'host': 'localhost', 'port': 8080}\n",
      "localhost\n",
      "myuser\n"
     ]
    }
   ]
  },
  {
   "cell_type": "markdown",
   "metadata": {
    "id": "1aeiqjD05wGg"
   },
   "source": [
    "# HTML Parsing\n",
    "- before you do this example, try to see and run some example HTML files which are in this directory"
   ]
  },
  {
   "cell_type": "code",
   "metadata": {
    "id": "L1pc5PFA5wGi",
    "executionInfo": {
     "status": "ok",
     "timestamp": 1727768795114,
     "user_tz": -540,
     "elapsed": 15,
     "user": {
      "displayName": "Yongjin Jeong",
      "userId": "03658406798560557048"
     }
    },
    "ExecuteTime": {
     "end_time": "2024-10-16T15:45:29.700685Z",
     "start_time": "2024-10-16T15:45:29.685536Z"
    }
   },
   "source": [
    "from bs4 import BeautifulSoup"
   ],
   "outputs": [],
   "execution_count": 25
  },
  {
   "cell_type": "code",
   "metadata": {
    "id": "l9nZUy1d5wGj",
    "executionInfo": {
     "status": "ok",
     "timestamp": 1727768795114,
     "user_tz": -540,
     "elapsed": 14,
     "user": {
      "displayName": "Yongjin Jeong",
      "userId": "03658406798560557048"
     }
    },
    "ExecuteTime": {
     "end_time": "2024-10-16T15:45:30.071547Z",
     "start_time": "2024-10-16T15:45:30.069237Z"
    }
   },
   "source": [
    "html_text = \"\"\"\n",
    "<html>\n",
    "<body>\n",
    "  <h1> reading web page with python </h1>\n",
    "     <p> page analysis </p>\n",
    "     <p> page alignment </p>\n",
    "     <td>some text</td><td></td><td><p>more text</p></td><td>even <p>more text</p></td>\n",
    "</body>\n",
    "</html>\n",
    "\"\"\""
   ],
   "outputs": [],
   "execution_count": 26
  },
  {
   "cell_type": "code",
   "metadata": {
    "colab": {
     "base_uri": "https://localhost:8080/"
    },
    "executionInfo": {
     "elapsed": 13,
     "status": "ok",
     "timestamp": 1727768795114,
     "user": {
      "displayName": "Yongjin Jeong",
      "userId": "03658406798560557048"
     },
     "user_tz": -540
    },
    "id": "T7eceX_I5wGk",
    "outputId": "c6aab20d-e9ea-4819-bd9f-b567d8cf98c1",
    "ExecuteTime": {
     "end_time": "2024-10-16T15:45:30.202929Z",
     "start_time": "2024-10-16T15:45:30.197403Z"
    }
   },
   "source": [
    "soup = BeautifulSoup(html_text, 'html.parser')\n",
    "soup"
   ],
   "outputs": [
    {
     "data": {
      "text/plain": [
       "\n",
       "<html>\n",
       "<body>\n",
       "<h1> reading web page with python </h1>\n",
       "<p> page analysis </p>\n",
       "<p> page alignment </p>\n",
       "<td>some text</td><td></td><td><p>more text</p></td><td>even <p>more text</p></td>\n",
       "</body>\n",
       "</html>"
      ]
     },
     "execution_count": 27,
     "metadata": {},
     "output_type": "execute_result"
    }
   ],
   "execution_count": 27
  },
  {
   "cell_type": "code",
   "metadata": {
    "colab": {
     "base_uri": "https://localhost:8080/",
     "height": 187
    },
    "executionInfo": {
     "elapsed": 382,
     "status": "ok",
     "timestamp": 1727768795486,
     "user": {
      "displayName": "Yongjin Jeong",
      "userId": "03658406798560557048"
     },
     "user_tz": -540
    },
    "id": "MNH7h6Y7gmtu",
    "outputId": "b2cec3b5-fa2f-4669-a00a-73d5de995f04",
    "ExecuteTime": {
     "end_time": "2024-10-16T15:45:30.325383Z",
     "start_time": "2024-10-16T15:45:30.322053Z"
    }
   },
   "source": [
    "type(soup)"
   ],
   "outputs": [
    {
     "data": {
      "text/plain": [
       "bs4.BeautifulSoup"
      ]
     },
     "execution_count": 28,
     "metadata": {},
     "output_type": "execute_result"
    }
   ],
   "execution_count": 28
  },
  {
   "cell_type": "code",
   "metadata": {
    "colab": {
     "base_uri": "https://localhost:8080/"
    },
    "executionInfo": {
     "elapsed": 41,
     "status": "ok",
     "timestamp": 1727768795486,
     "user": {
      "displayName": "Yongjin Jeong",
      "userId": "03658406798560557048"
     },
     "user_tz": -540
    },
    "id": "ehEPCzhKzBZS",
    "outputId": "b7a3f20a-374c-439b-9798-13b89f4cab82",
    "ExecuteTime": {
     "end_time": "2024-10-16T15:45:30.505775Z",
     "start_time": "2024-10-16T15:45:30.502681Z"
    }
   },
   "source": [
    "soup.h1"
   ],
   "outputs": [
    {
     "data": {
      "text/plain": [
       "<h1> reading web page with python </h1>"
      ]
     },
     "execution_count": 29,
     "metadata": {},
     "output_type": "execute_result"
    }
   ],
   "execution_count": 29
  },
  {
   "cell_type": "code",
   "metadata": {
    "colab": {
     "base_uri": "https://localhost:8080/",
     "height": 35
    },
    "executionInfo": {
     "elapsed": 33,
     "status": "ok",
     "timestamp": 1727768795486,
     "user": {
      "displayName": "Yongjin Jeong",
      "userId": "03658406798560557048"
     },
     "user_tz": -540
    },
    "id": "zErQ7nI85wGl",
    "outputId": "962f8e2d-ecce-441c-aceb-261c43f53a65",
    "ExecuteTime": {
     "end_time": "2024-10-16T15:45:30.627663Z",
     "start_time": "2024-10-16T15:45:30.623977Z"
    }
   },
   "source": [
    "soup.h1.text.strip()"
   ],
   "outputs": [
    {
     "data": {
      "text/plain": [
       "'reading web page with python'"
      ]
     },
     "execution_count": 30,
     "metadata": {},
     "output_type": "execute_result"
    }
   ],
   "execution_count": 30
  },
  {
   "cell_type": "code",
   "metadata": {
    "colab": {
     "base_uri": "https://localhost:8080/"
    },
    "executionInfo": {
     "elapsed": 29,
     "status": "ok",
     "timestamp": 1727768795486,
     "user": {
      "displayName": "Yongjin Jeong",
      "userId": "03658406798560557048"
     },
     "user_tz": -540
    },
    "id": "vLfnDeHv5wGl",
    "outputId": "defb756f-8102-4f07-fadf-d0099d6a95cc",
    "ExecuteTime": {
     "end_time": "2024-10-16T15:45:30.690799Z",
     "start_time": "2024-10-16T15:45:30.687672Z"
    }
   },
   "source": [
    "soup.p"
   ],
   "outputs": [
    {
     "data": {
      "text/plain": [
       "<p> page analysis </p>"
      ]
     },
     "execution_count": 31,
     "metadata": {},
     "output_type": "execute_result"
    }
   ],
   "execution_count": 31
  },
  {
   "cell_type": "code",
   "metadata": {
    "colab": {
     "base_uri": "https://localhost:8080/"
    },
    "executionInfo": {
     "elapsed": 25,
     "status": "ok",
     "timestamp": 1727768795486,
     "user": {
      "displayName": "Yongjin Jeong",
      "userId": "03658406798560557048"
     },
     "user_tz": -540
    },
    "id": "7ISR9s02llOk",
    "outputId": "19d272ac-5f38-49d9-f86c-b3fe338ba32c",
    "ExecuteTime": {
     "end_time": "2024-10-16T15:45:30.764079Z",
     "start_time": "2024-10-16T15:45:30.761346Z"
    }
   },
   "source": [
    "soup.p.next_sibling.next_sibling"
   ],
   "outputs": [
    {
     "data": {
      "text/plain": [
       "<p> page alignment </p>"
      ]
     },
     "execution_count": 32,
     "metadata": {},
     "output_type": "execute_result"
    }
   ],
   "execution_count": 32
  },
  {
   "cell_type": "code",
   "metadata": {
    "colab": {
     "base_uri": "https://localhost:8080/"
    },
    "executionInfo": {
     "elapsed": 21,
     "status": "ok",
     "timestamp": 1727768795486,
     "user": {
      "displayName": "Yongjin Jeong",
      "userId": "03658406798560557048"
     },
     "user_tz": -540
    },
    "id": "Zq81MwKrll5n",
    "outputId": "58cb0316-2671-4930-e6f5-527fa5ebada9",
    "ExecuteTime": {
     "end_time": "2024-10-16T15:45:30.838287Z",
     "start_time": "2024-10-16T15:45:30.835348Z"
    }
   },
   "source": [
    "soup.td.next_sibling.next_sibling"
   ],
   "outputs": [
    {
     "data": {
      "text/plain": [
       "<td><p>more text</p></td>"
      ]
     },
     "execution_count": 33,
     "metadata": {},
     "output_type": "execute_result"
    }
   ],
   "execution_count": 33
  },
  {
   "cell_type": "code",
   "metadata": {
    "colab": {
     "base_uri": "https://localhost:8080/"
    },
    "executionInfo": {
     "elapsed": 17,
     "status": "ok",
     "timestamp": 1727768795486,
     "user": {
      "displayName": "Yongjin Jeong",
      "userId": "03658406798560557048"
     },
     "user_tz": -540
    },
    "id": "7AHUShTblmqf",
    "outputId": "f34b5192-163f-459a-d528-1645c4d862e0",
    "ExecuteTime": {
     "end_time": "2024-10-16T15:45:30.888611Z",
     "start_time": "2024-10-16T15:45:30.886164Z"
    }
   },
   "source": [
    "print(soup.td.next_sibling, soup.td.next_sibling.text)"
   ],
   "outputs": [
    {
     "name": "stdout",
     "output_type": "stream",
     "text": [
      "<td></td> \n"
     ]
    }
   ],
   "execution_count": 34
  },
  {
   "cell_type": "code",
   "metadata": {
    "id": "SsFJFr6B5wGm",
    "executionInfo": {
     "status": "ok",
     "timestamp": 1727768795487,
     "user_tz": -540,
     "elapsed": 15,
     "user": {
      "displayName": "Yongjin Jeong",
      "userId": "03658406798560557048"
     }
    },
    "ExecuteTime": {
     "end_time": "2024-10-16T15:45:30.955049Z",
     "start_time": "2024-10-16T15:45:30.952911Z"
    }
   },
   "source": [
    "html_text2 = \"\"\"\n",
    "<html>\n",
    "<body>\n",
    "  <h1 id=\"title\"> reading web page with python </h1>\n",
    "     <p id=\"body\"> page analysis </p>\n",
    "     <p> page alignment </p>\n",
    "     <td>some text</td><td></td><td><p>more text</p></td><td>even <p>more text</p></td>\n",
    "     <ul>\n",
    "         <li><a href = \"http://www.naver.com\"> naver</a></li>\n",
    "         <li><a href = \"http://www.daum.net\"> daum</a></li>\n",
    "     </ul>\n",
    "  <div id=\"xxx\">\n",
    "    <h1> Wiki-books store </h1>\n",
    "    <ul class=\"item all\">\n",
    "      <li> introduction to game design </li>\n",
    "      <li> introduction to python </li>\n",
    "      <li> introduction to web design </li>\n",
    "    </ul>\n",
    "  </div>\n",
    "</body>\n",
    "</html>\n",
    "\"\"\""
   ],
   "outputs": [],
   "execution_count": 35
  },
  {
   "cell_type": "code",
   "metadata": {
    "id": "Q8QtB1ih5wGm",
    "executionInfo": {
     "status": "ok",
     "timestamp": 1727768795487,
     "user_tz": -540,
     "elapsed": 15,
     "user": {
      "displayName": "Yongjin Jeong",
      "userId": "03658406798560557048"
     }
    },
    "ExecuteTime": {
     "end_time": "2024-10-16T15:45:32.929692Z",
     "start_time": "2024-10-16T15:45:32.925632Z"
    }
   },
   "source": [
    "soup = BeautifulSoup(html_text2, 'html.parser')"
   ],
   "outputs": [],
   "execution_count": 36
  },
  {
   "cell_type": "code",
   "metadata": {
    "colab": {
     "base_uri": "https://localhost:8080/"
    },
    "executionInfo": {
     "elapsed": 13,
     "status": "ok",
     "timestamp": 1727768795487,
     "user": {
      "displayName": "Yongjin Jeong",
      "userId": "03658406798560557048"
     },
     "user_tz": -540
    },
    "id": "8YrObZQ8gTWS",
    "outputId": "ae06582c-b1b3-4892-928f-45a4375fa931",
    "ExecuteTime": {
     "end_time": "2024-10-16T15:45:33.169560Z",
     "start_time": "2024-10-16T15:45:33.166330Z"
    }
   },
   "source": [
    "soup"
   ],
   "outputs": [
    {
     "data": {
      "text/plain": [
       "\n",
       "<html>\n",
       "<body>\n",
       "<h1 id=\"title\"> reading web page with python </h1>\n",
       "<p id=\"body\"> page analysis </p>\n",
       "<p> page alignment </p>\n",
       "<td>some text</td><td></td><td><p>more text</p></td><td>even <p>more text</p></td>\n",
       "<ul>\n",
       "<li><a href=\"http://www.naver.com\"> naver</a></li>\n",
       "<li><a href=\"http://www.daum.net\"> daum</a></li>\n",
       "</ul>\n",
       "<div id=\"xxx\">\n",
       "<h1> Wiki-books store </h1>\n",
       "<ul class=\"item all\">\n",
       "<li> introduction to game design </li>\n",
       "<li> introduction to python </li>\n",
       "<li> introduction to web design </li>\n",
       "</ul>\n",
       "</div>\n",
       "</body>\n",
       "</html>"
      ]
     },
     "execution_count": 37,
     "metadata": {},
     "output_type": "execute_result"
    }
   ],
   "execution_count": 37
  },
  {
   "cell_type": "markdown",
   "metadata": {
    "id": "aIEg2UPN5wGn"
   },
   "source": [
    "## access by tags"
   ]
  },
  {
   "cell_type": "code",
   "metadata": {
    "colab": {
     "base_uri": "https://localhost:8080/"
    },
    "executionInfo": {
     "elapsed": 394,
     "status": "ok",
     "timestamp": 1727768795873,
     "user": {
      "displayName": "Yongjin Jeong",
      "userId": "03658406798560557048"
     },
     "user_tz": -540
    },
    "id": "fJc8yV0_5wGn",
    "outputId": "17d6b35d-941c-4478-c5ad-f0f3005ac257",
    "ExecuteTime": {
     "end_time": "2024-10-16T15:45:34.312054Z",
     "start_time": "2024-10-16T15:45:34.307277Z"
    }
   },
   "source": [
    "soup.find(id='title')"
   ],
   "outputs": [
    {
     "data": {
      "text/plain": [
       "<h1 id=\"title\"> reading web page with python </h1>"
      ]
     },
     "execution_count": 38,
     "metadata": {},
     "output_type": "execute_result"
    }
   ],
   "execution_count": 38
  },
  {
   "cell_type": "code",
   "metadata": {
    "colab": {
     "base_uri": "https://localhost:8080/",
     "height": 35
    },
    "executionInfo": {
     "elapsed": 27,
     "status": "ok",
     "timestamp": 1727768795873,
     "user": {
      "displayName": "Yongjin Jeong",
      "userId": "03658406798560557048"
     },
     "user_tz": -540
    },
    "id": "qSauNhKj5wGo",
    "outputId": "bebb87c5-441f-4326-fb21-9ff8078bc359",
    "ExecuteTime": {
     "end_time": "2024-10-16T15:45:35.191547Z",
     "start_time": "2024-10-16T15:45:35.187552Z"
    }
   },
   "source": [
    "soup.find(id='body').text"
   ],
   "outputs": [
    {
     "data": {
      "text/plain": [
       "' page analysis '"
      ]
     },
     "execution_count": 39,
     "metadata": {},
     "output_type": "execute_result"
    }
   ],
   "execution_count": 39
  },
  {
   "cell_type": "code",
   "metadata": {
    "colab": {
     "base_uri": "https://localhost:8080/"
    },
    "executionInfo": {
     "elapsed": 26,
     "status": "ok",
     "timestamp": 1727768795873,
     "user": {
      "displayName": "Yongjin Jeong",
      "userId": "03658406798560557048"
     },
     "user_tz": -540
    },
    "id": "O691EPRX5wGo",
    "outputId": "fbbabd86-24c5-4f44-a91d-edbc68630693",
    "ExecuteTime": {
     "end_time": "2024-10-16T15:45:35.543140Z",
     "start_time": "2024-10-16T15:45:35.539876Z"
    }
   },
   "source": [
    "soup.find_all('p')"
   ],
   "outputs": [
    {
     "data": {
      "text/plain": [
       "[<p id=\"body\"> page analysis </p>,\n",
       " <p> page alignment </p>,\n",
       " <p>more text</p>,\n",
       " <p>more text</p>]"
      ]
     },
     "execution_count": 40,
     "metadata": {},
     "output_type": "execute_result"
    }
   ],
   "execution_count": 40
  },
  {
   "cell_type": "code",
   "metadata": {
    "colab": {
     "base_uri": "https://localhost:8080/"
    },
    "executionInfo": {
     "elapsed": 24,
     "status": "ok",
     "timestamp": 1727768795873,
     "user": {
      "displayName": "Yongjin Jeong",
      "userId": "03658406798560557048"
     },
     "user_tz": -540
    },
    "id": "tUZVc6W6MG__",
    "outputId": "d68af154-7f34-44ba-ffee-9b9dbbef1cf4",
    "ExecuteTime": {
     "end_time": "2024-10-16T15:45:35.888366Z",
     "start_time": "2024-10-16T15:45:35.885610Z"
    }
   },
   "source": [
    "soup.find_all('li')"
   ],
   "outputs": [
    {
     "data": {
      "text/plain": [
       "[<li><a href=\"http://www.naver.com\"> naver</a></li>,\n",
       " <li><a href=\"http://www.daum.net\"> daum</a></li>,\n",
       " <li> introduction to game design </li>,\n",
       " <li> introduction to python </li>,\n",
       " <li> introduction to web design </li>]"
      ]
     },
     "execution_count": 41,
     "metadata": {},
     "output_type": "execute_result"
    }
   ],
   "execution_count": 41
  },
  {
   "cell_type": "code",
   "metadata": {
    "colab": {
     "base_uri": "https://localhost:8080/"
    },
    "executionInfo": {
     "elapsed": 22,
     "status": "ok",
     "timestamp": 1727768795873,
     "user": {
      "displayName": "Yongjin Jeong",
      "userId": "03658406798560557048"
     },
     "user_tz": -540
    },
    "id": "zdPbDZCS5wGp",
    "outputId": "97cb45ac-7d46-47d1-b349-8da1844176c1",
    "ExecuteTime": {
     "end_time": "2024-10-16T15:45:36.290200Z",
     "start_time": "2024-10-16T15:45:36.284874Z"
    }
   },
   "source": [
    "soup.find_all('li')[0]"
   ],
   "outputs": [
    {
     "data": {
      "text/plain": [
       "<li><a href=\"http://www.naver.com\"> naver</a></li>"
      ]
     },
     "execution_count": 42,
     "metadata": {},
     "output_type": "execute_result"
    }
   ],
   "execution_count": 42
  },
  {
   "cell_type": "code",
   "metadata": {
    "colab": {
     "base_uri": "https://localhost:8080/"
    },
    "executionInfo": {
     "elapsed": 21,
     "status": "ok",
     "timestamp": 1727768795873,
     "user": {
      "displayName": "Yongjin Jeong",
      "userId": "03658406798560557048"
     },
     "user_tz": -540
    },
    "id": "cDVoMV5s5wGq",
    "outputId": "04dd862f-142d-49ef-e0d0-6a509000c05b",
    "ExecuteTime": {
     "end_time": "2024-10-16T15:45:36.555847Z",
     "start_time": "2024-10-16T15:45:36.553Z"
    }
   },
   "source": [
    "soup.find_all('li')[0].text, soup.find_all('li')[0].attrs"
   ],
   "outputs": [
    {
     "data": {
      "text/plain": [
       "(' naver', {})"
      ]
     },
     "execution_count": 43,
     "metadata": {},
     "output_type": "execute_result"
    }
   ],
   "execution_count": 43
  },
  {
   "cell_type": "code",
   "metadata": {
    "colab": {
     "base_uri": "https://localhost:8080/"
    },
    "executionInfo": {
     "elapsed": 20,
     "status": "ok",
     "timestamp": 1727768795874,
     "user": {
      "displayName": "Yongjin Jeong",
      "userId": "03658406798560557048"
     },
     "user_tz": -540
    },
    "id": "_EvoKIaB5wGq",
    "outputId": "59eba09f-225f-497b-ce97-8dfda7895280",
    "ExecuteTime": {
     "end_time": "2024-10-16T15:45:36.904847Z",
     "start_time": "2024-10-16T15:45:36.901946Z"
    }
   },
   "source": [
    "soup.find_all('a')[0]"
   ],
   "outputs": [
    {
     "data": {
      "text/plain": [
       "<a href=\"http://www.naver.com\"> naver</a>"
      ]
     },
     "execution_count": 44,
     "metadata": {},
     "output_type": "execute_result"
    }
   ],
   "execution_count": 44
  },
  {
   "cell_type": "code",
   "metadata": {
    "colab": {
     "base_uri": "https://localhost:8080/"
    },
    "executionInfo": {
     "elapsed": 19,
     "status": "ok",
     "timestamp": 1727768795874,
     "user": {
      "displayName": "Yongjin Jeong",
      "userId": "03658406798560557048"
     },
     "user_tz": -540
    },
    "id": "_1pJfJ3Z5wGr",
    "outputId": "9e55b733-7e18-4e30-d646-3dc1f3b51ef0",
    "ExecuteTime": {
     "end_time": "2024-10-16T15:45:37.472090Z",
     "start_time": "2024-10-16T15:45:37.468295Z"
    }
   },
   "source": [
    "soup.find_all('a')[0].text, soup.find_all('a')[0].attrs"
   ],
   "outputs": [
    {
     "data": {
      "text/plain": [
       "(' naver', {'href': 'http://www.naver.com'})"
      ]
     },
     "execution_count": 45,
     "metadata": {},
     "output_type": "execute_result"
    }
   ],
   "execution_count": 45
  },
  {
   "cell_type": "code",
   "metadata": {
    "colab": {
     "base_uri": "https://localhost:8080/"
    },
    "executionInfo": {
     "elapsed": 17,
     "status": "ok",
     "timestamp": 1727768795874,
     "user": {
      "displayName": "Yongjin Jeong",
      "userId": "03658406798560557048"
     },
     "user_tz": -540
    },
    "id": "apyLHwaP5wGr",
    "outputId": "a03d52b9-6673-4279-db4e-c71a567b3269",
    "ExecuteTime": {
     "end_time": "2024-10-16T15:46:46.280463Z",
     "start_time": "2024-10-16T15:46:46.275088Z"
    }
   },
   "source": [
    "for aa in soup.find_all('a'):\n",
    "    href = aa.attrs['href']\n",
    "    text = aa.text\n",
    "    print (text, \"-->\", href)"
   ],
   "outputs": [
    {
     "name": "stdout",
     "output_type": "stream",
     "text": [
      " naver --> http://www.naver.com\n",
      " daum --> http://www.daum.net\n"
     ]
    }
   ],
   "execution_count": 48
  },
  {
   "cell_type": "markdown",
   "metadata": {
    "id": "qTwAdY9S5wGr"
   },
   "source": [
    "## access by regular expression"
   ]
  },
  {
   "cell_type": "code",
   "execution_count": 53,
   "metadata": {
    "colab": {
     "base_uri": "https://localhost:8080/"
    },
    "executionInfo": {
     "elapsed": 14,
     "status": "ok",
     "timestamp": 1727768795874,
     "user": {
      "displayName": "Yongjin Jeong",
      "userId": "03658406798560557048"
     },
     "user_tz": -540
    },
    "id": "eLMhbYg9KUWD",
    "outputId": "555f69e2-22ea-4c21-b56d-96f66ca8bdea"
   },
   "outputs": [
    {
     "output_type": "execute_result",
     "data": {
      "text/plain": [
       "\n",
       "<html>\n",
       "<body>\n",
       "<h1 id=\"title\"> reading web page with python </h1>\n",
       "<p id=\"body\"> page analysis </p>\n",
       "<p> page alignment </p>\n",
       "<td>some text</td><td></td><td><p>more text</p></td><td>even <p>more text</p></td>\n",
       "<ul>\n",
       "<li><a href=\"http://www.naver.com\"> naver</a></li>\n",
       "<li><a href=\"http://www.daum.net\"> daum</a></li>\n",
       "</ul>\n",
       "<div id=\"xxx\">\n",
       "<h1> Wiki-books store </h1>\n",
       "<ul class=\"item all\">\n",
       "<li> introduction to game design </li>\n",
       "<li> introduction to python </li>\n",
       "<li> introduction to web design </li>\n",
       "</ul>\n",
       "</div>\n",
       "</body>\n",
       "</html>"
      ]
     },
     "metadata": {},
     "execution_count": 53
    }
   ],
   "source": [
    "soup"
   ]
  },
  {
   "cell_type": "code",
   "execution_count": 54,
   "metadata": {
    "colab": {
     "base_uri": "https://localhost:8080/"
    },
    "executionInfo": {
     "elapsed": 13,
     "status": "ok",
     "timestamp": 1727768795874,
     "user": {
      "displayName": "Yongjin Jeong",
      "userId": "03658406798560557048"
     },
     "user_tz": -540
    },
    "id": "aN5DfvWq5wGs",
    "outputId": "50f2d904-233f-4735-9027-3543e82ee9be"
   },
   "outputs": [
    {
     "output_type": "execute_result",
     "data": {
      "text/plain": [
       "[<p id=\"body\"> page analysis </p>,\n",
       " <p> page alignment </p>,\n",
       " <p>more text</p>,\n",
       " <p>more text</p>]"
      ]
     },
     "metadata": {},
     "execution_count": 54
    }
   ],
   "source": [
    "import re\n",
    "soup.find_all(re.compile(\"^p\"))   # tags starting with a character 'p'"
   ]
  },
  {
   "cell_type": "code",
   "execution_count": 55,
   "metadata": {
    "colab": {
     "base_uri": "https://localhost:8080/"
    },
    "executionInfo": {
     "elapsed": 12,
     "status": "ok",
     "timestamp": 1727768795874,
     "user": {
      "displayName": "Yongjin Jeong",
      "userId": "03658406798560557048"
     },
     "user_tz": -540
    },
    "id": "4AL2y0xb5wGs",
    "outputId": "5526be9d-7fcc-47e9-974f-2cd08d31ea7b"
   },
   "outputs": [
    {
     "output_type": "execute_result",
     "data": {
      "text/plain": [
       "[<div id=\"xxx\">\n",
       " <h1> Wiki-books store </h1>\n",
       " <ul class=\"item all\">\n",
       " <li> introduction to game design </li>\n",
       " <li> introduction to python </li>\n",
       " <li> introduction to web design </li>\n",
       " </ul>\n",
       " </div>]"
      ]
     },
     "metadata": {},
     "execution_count": 55
    }
   ],
   "source": [
    "soup.find_all(re.compile(\"div\" ))"
   ]
  },
  {
   "cell_type": "code",
   "execution_count": 56,
   "metadata": {
    "colab": {
     "base_uri": "https://localhost:8080/"
    },
    "executionInfo": {
     "elapsed": 12,
     "status": "ok",
     "timestamp": 1727768795874,
     "user": {
      "displayName": "Yongjin Jeong",
      "userId": "03658406798560557048"
     },
     "user_tz": -540
    },
    "id": "eNS3YQsZ5wGs",
    "outputId": "f7f0ca8a-9e05-4d47-9790-bde0d20c3b3b"
   },
   "outputs": [
    {
     "output_type": "execute_result",
     "data": {
      "text/plain": [
       "[<a href=\"http://www.naver.com\"> naver</a>,\n",
       " <a href=\"http://www.daum.net\"> daum</a>]"
      ]
     },
     "metadata": {},
     "execution_count": 56
    }
   ],
   "source": [
    "soup.find_all(href=re.compile(\"^http://\"))"
   ]
  },
  {
   "cell_type": "markdown",
   "metadata": {
    "id": "TpJpZ3S35wGt"
   },
   "source": [
    "## access by css (Cascading Style Sheets) selector"
   ]
  },
  {
   "cell_type": "code",
   "execution_count": 57,
   "metadata": {
    "colab": {
     "base_uri": "https://localhost:8080/"
    },
    "executionInfo": {
     "elapsed": 11,
     "status": "ok",
     "timestamp": 1727768795874,
     "user": {
      "displayName": "Yongjin Jeong",
      "userId": "03658406798560557048"
     },
     "user_tz": -540
    },
    "id": "4yXwItSr5wGt",
    "outputId": "a291f844-2f01-478c-8ee6-2ba722cc5aff"
   },
   "outputs": [
    {
     "output_type": "execute_result",
     "data": {
      "text/plain": [
       "[<h1 id=\"title\"> reading web page with python </h1>,\n",
       " <h1> Wiki-books store </h1>]"
      ]
     },
     "metadata": {},
     "execution_count": 57
    }
   ],
   "source": [
    "soup.select('h1')    # by tags"
   ]
  },
  {
   "cell_type": "code",
   "execution_count": 58,
   "metadata": {
    "colab": {
     "base_uri": "https://localhost:8080/"
    },
    "executionInfo": {
     "elapsed": 11,
     "status": "ok",
     "timestamp": 1727768795874,
     "user": {
      "displayName": "Yongjin Jeong",
      "userId": "03658406798560557048"
     },
     "user_tz": -540
    },
    "id": "_0BR8KaH5wGt",
    "outputId": "2ffac9cc-b21f-4141-e400-b05f02175624"
   },
   "outputs": [
    {
     "output_type": "execute_result",
     "data": {
      "text/plain": [
       "[<div id=\"xxx\">\n",
       " <h1> Wiki-books store </h1>\n",
       " <ul class=\"item all\">\n",
       " <li> introduction to game design </li>\n",
       " <li> introduction to python </li>\n",
       " <li> introduction to web design </li>\n",
       " </ul>\n",
       " </div>]"
      ]
     },
     "metadata": {},
     "execution_count": 58
    }
   ],
   "source": [
    "soup.select('#xxx')  # by id"
   ]
  },
  {
   "cell_type": "code",
   "execution_count": 59,
   "metadata": {
    "colab": {
     "base_uri": "https://localhost:8080/"
    },
    "executionInfo": {
     "elapsed": 10,
     "status": "ok",
     "timestamp": 1727768795875,
     "user": {
      "displayName": "Yongjin Jeong",
      "userId": "03658406798560557048"
     },
     "user_tz": -540
    },
    "id": "FiWRVVTh5wGt",
    "outputId": "816bd1b3-7743-4471-eed8-3b5c3a7b4c50",
    "scrolled": true
   },
   "outputs": [
    {
     "output_type": "execute_result",
     "data": {
      "text/plain": [
       "[<ul class=\"item all\">\n",
       " <li> introduction to game design </li>\n",
       " <li> introduction to python </li>\n",
       " <li> introduction to web design </li>\n",
       " </ul>]"
      ]
     },
     "metadata": {},
     "execution_count": 59
    }
   ],
   "source": [
    "soup.select('.item') # by class name"
   ]
  },
  {
   "metadata": {},
   "cell_type": "code",
   "outputs": [],
   "execution_count": null,
   "source": [
    "html_text2 = \"\"\"\n",
    "<html>\n",
    "<body>\n",
    "  <h1 id=\"title\"> reading web page with python </h1>\n",
    "     <p id=\"body\"> page analysis </p>\n",
    "     <p> page alignment </p>\n",
    "     <td>some text</td><td></td><td><p>more text</p></td><td>even <p>more text</p></td>\n",
    "     <ul>\n",
    "         <li><a href = \"http://www.naver.com\"> naver</a></li>\n",
    "         <li><a href = \"http://www.daum.net\"> daum</a></li>\n",
    "     </ul>\n",
    "  <div id=\"xxx\">\n",
    "    <h1> Wiki-books store </h1>\n",
    "    <ul class=\"item all\">\n",
    "      <li> introduction to game design </li>\n",
    "      <li> introduction to python </li>\n",
    "      <li> introduction to web design </li>\n",
    "    </ul>\n",
    "  </div>\n",
    "</body>\n",
    "</html>\n",
    "\"\"\""
   ]
  },
  {
   "cell_type": "code",
   "execution_count": 60,
   "metadata": {
    "colab": {
     "base_uri": "https://localhost:8080/"
    },
    "executionInfo": {
     "elapsed": 339,
     "status": "ok",
     "timestamp": 1727768796205,
     "user": {
      "displayName": "Yongjin Jeong",
      "userId": "03658406798560557048"
     },
     "user_tz": -540
    },
    "id": "0rsqikqD5wGt",
    "outputId": "cf73115a-b586-461c-ce9b-41232232dc66"
   },
   "outputs": [
    {
     "output_type": "execute_result",
     "data": {
      "text/plain": [
       "[<ul class=\"item all\">\n",
       " <li> introduction to game design </li>\n",
       " <li> introduction to python </li>\n",
       " <li> introduction to web design </li>\n",
       " </ul>]"
      ]
     },
     "metadata": {},
     "execution_count": 60
    }
   ],
   "source": "soup.select('div .item')  # multi-components(tag=div, class=item)"
  },
  {
   "cell_type": "code",
   "execution_count": 61,
   "metadata": {
    "colab": {
     "base_uri": "https://localhost:8080/"
    },
    "executionInfo": {
     "elapsed": 13,
     "status": "ok",
     "timestamp": 1727768796206,
     "user": {
      "displayName": "Yongjin Jeong",
      "userId": "03658406798560557048"
     },
     "user_tz": -540
    },
    "id": "waPMFRCT5wGu",
    "outputId": "28e9c9b3-84e4-449e-a246-fc2f8d4c4c0e"
   },
   "outputs": [
    {
     "output_type": "execute_result",
     "data": {
      "text/plain": [
       "[<li> introduction to game design </li>,\n",
       " <li> introduction to python </li>,\n",
       " <li> introduction to web design </li>]"
      ]
     },
     "metadata": {},
     "execution_count": 61
    }
   ],
   "source": [
    "soup.select(\"#xxx > ul > li\")  # hierarchy (child)"
   ]
  },
  {
   "cell_type": "code",
   "execution_count": 62,
   "metadata": {
    "colab": {
     "base_uri": "https://localhost:8080/"
    },
    "executionInfo": {
     "elapsed": 12,
     "status": "ok",
     "timestamp": 1727768796206,
     "user": {
      "displayName": "Yongjin Jeong",
      "userId": "03658406798560557048"
     },
     "user_tz": -540
    },
    "id": "6aBQ71pvLFCj",
    "outputId": "bdbb6a6e-596c-4ea0-a685-35b1965fa381"
   },
   "outputs": [
    {
     "output_type": "execute_result",
     "data": {
      "text/plain": [
       "<li> introduction to game design </li>"
      ]
     },
     "metadata": {},
     "execution_count": 62
    }
   ],
   "source": [
    "soup.select_one(\"#xxx > ul > li\")  # hierarchy (child)"
   ]
  },
  {
   "cell_type": "code",
   "execution_count": 63,
   "metadata": {
    "colab": {
     "base_uri": "https://localhost:8080/"
    },
    "executionInfo": {
     "elapsed": 11,
     "status": "ok",
     "timestamp": 1727768796206,
     "user": {
      "displayName": "Yongjin Jeong",
      "userId": "03658406798560557048"
     },
     "user_tz": -540
    },
    "id": "Ze7cX5cjhfkV",
    "outputId": "c30c69ec-1aaa-4ea9-e8b2-4460533f78f7"
   },
   "outputs": [
    {
     "output_type": "execute_result",
     "data": {
      "text/plain": [
       "[<div id=\"xxx\">\n",
       " <h1> Wiki-books store </h1>\n",
       " <ul class=\"item all\">\n",
       " <li> introduction to game design </li>\n",
       " <li> introduction to python </li>\n",
       " <li> introduction to web design </li>\n",
       " </ul>\n",
       " </div>]"
      ]
     },
     "metadata": {},
     "execution_count": 63
    }
   ],
   "source": [
    "soup.select(\"div\")"
   ]
  },
  {
   "cell_type": "code",
   "execution_count": 64,
   "metadata": {
    "colab": {
     "base_uri": "https://localhost:8080/"
    },
    "executionInfo": {
     "elapsed": 11,
     "status": "ok",
     "timestamp": 1727768796207,
     "user": {
      "displayName": "Yongjin Jeong",
      "userId": "03658406798560557048"
     },
     "user_tz": -540
    },
    "id": "1_--qC3L5wGu",
    "outputId": "72b70193-4783-43bd-cfa8-e395e031708a"
   },
   "outputs": [
    {
     "output_type": "execute_result",
     "data": {
      "text/plain": [
       "[<li> introduction to game design </li>,\n",
       " <li> introduction to python </li>,\n",
       " <li> introduction to web design </li>]"
      ]
     },
     "metadata": {},
     "execution_count": 64
    }
   ],
   "source": [
    "soup.select(\"div li\")   # hierarchy (div tag >>> ul tag) (descendants)"
   ]
  },
  {
   "cell_type": "markdown",
   "metadata": {
    "id": "fxTzADFhLkES"
   },
   "source": [
    "- find with classes"
   ]
  },
  {
   "cell_type": "code",
   "execution_count": 65,
   "metadata": {
    "colab": {
     "base_uri": "https://localhost:8080/"
    },
    "executionInfo": {
     "elapsed": 10,
     "status": "ok",
     "timestamp": 1727768796207,
     "user": {
      "displayName": "Yongjin Jeong",
      "userId": "03658406798560557048"
     },
     "user_tz": -540
    },
    "id": "dKMGq5Ao5wGu",
    "outputId": "43f2f2d8-be1a-42f0-9820-8768c5a7df1d"
   },
   "outputs": [
    {
     "output_type": "execute_result",
     "data": {
      "text/plain": [
       "[<p class=\"body strikeout\"></p>]"
      ]
     },
     "metadata": {},
     "execution_count": 65
    }
   ],
   "source": [
    "text = '<p class=\"body strikeout\"></p>'\n",
    "\n",
    "css_soup = BeautifulSoup(text, 'html.parser')\n",
    "css_soup.find_all(\"p\", class_=\"strikeout\")  # can have multiple values for a class"
   ]
  },
  {
   "cell_type": "code",
   "execution_count": 66,
   "metadata": {
    "colab": {
     "base_uri": "https://localhost:8080/"
    },
    "executionInfo": {
     "elapsed": 8,
     "status": "ok",
     "timestamp": 1727768796207,
     "user": {
      "displayName": "Yongjin Jeong",
      "userId": "03658406798560557048"
     },
     "user_tz": -540
    },
    "id": "OzvMQ6lc5wGu",
    "outputId": "ec53218e-e9cc-43b8-f7bb-b85283ebd873"
   },
   "outputs": [
    {
     "output_type": "execute_result",
     "data": {
      "text/plain": [
       "[<p class=\"body strikeout\"></p>]"
      ]
     },
     "metadata": {},
     "execution_count": 66
    }
   ],
   "source": [
    "css_soup.find_all(\"p\", class_=\"body\")"
   ]
  },
  {
   "cell_type": "code",
   "execution_count": 67,
   "metadata": {
    "colab": {
     "base_uri": "https://localhost:8080/"
    },
    "executionInfo": {
     "elapsed": 7,
     "status": "ok",
     "timestamp": 1727768796207,
     "user": {
      "displayName": "Yongjin Jeong",
      "userId": "03658406798560557048"
     },
     "user_tz": -540
    },
    "id": "tlbTXmUO5wGu",
    "outputId": "41f565f8-a4dc-40eb-e20a-bca2d011d691"
   },
   "outputs": [
    {
     "output_type": "execute_result",
     "data": {
      "text/plain": [
       "[<p class=\"body strikeout\"></p>]"
      ]
     },
     "metadata": {},
     "execution_count": 67
    }
   ],
   "source": [
    "# If you want to search for tags that match two or more CSS classes,\n",
    "# you should use a CSS selector:\n",
    "css_soup.select(\"p.body.strikeout\")"
   ]
  },
  {
   "cell_type": "code",
   "execution_count": 68,
   "metadata": {
    "colab": {
     "base_uri": "https://localhost:8080/"
    },
    "executionInfo": {
     "elapsed": 6,
     "status": "ok",
     "timestamp": 1727768796207,
     "user": {
      "displayName": "Yongjin Jeong",
      "userId": "03658406798560557048"
     },
     "user_tz": -540
    },
    "id": "DaSoDjy_L6Ok",
    "outputId": "f1e12fa2-86d1-47e6-fb8c-a6639817a583"
   },
   "outputs": [
    {
     "output_type": "execute_result",
     "data": {
      "text/plain": [
       "[<p class=\"body strikeout\"></p>]"
      ]
     },
     "metadata": {},
     "execution_count": 68
    }
   ],
   "source": [
    "css_soup.select(\"p.strikeout\")"
   ]
  },
  {
   "cell_type": "markdown",
   "metadata": {
    "id": "ZgbOWw_x5wGv"
   },
   "source": [
    "# Example from JOBKOREA\n",
    "- confirmed on 2024.7.18\n",
    "- search for 'data scientist', 'seoul' in JobKorea\n",
    "- Remember that web pages are changing upon refreshing."
   ]
  },
  {
   "cell_type": "code",
   "metadata": {
    "executionInfo": {
     "elapsed": 1281,
     "status": "ok",
     "timestamp": 1727768797483,
     "user": {
      "displayName": "Yongjin Jeong",
      "userId": "03658406798560557048"
     },
     "user_tz": -540
    },
    "id": "rEJST_5ejFRc",
    "ExecuteTime": {
     "end_time": "2024-10-07T03:30:39.207755Z",
     "start_time": "2024-10-07T03:30:38.929560Z"
    }
   },
   "source": [
    "import requests\n",
    "from bs4 import BeautifulSoup\n",
    "import pandas as pd\n",
    "import numpy as np\n",
    "\n",
    "# search for 'data scientist', 'seoul' in JobaKorea\n",
    "url = 'https://www.jobkorea.co.kr/Search/?stext=data%20scientist&local=I000'\n",
    "# url = 'https://www.jobkorea.co.kr/Search/?stext=datascience&local=I000'\n",
    "response = requests.get(url)\n",
    "response.encoding = 'utf-8'\n",
    "soup = BeautifulSoup(response.text, 'html.parser')"
   ],
   "outputs": [],
   "execution_count": 46
  },
  {
   "cell_type": "code",
   "source": [
    "response"
   ],
   "metadata": {
    "colab": {
     "base_uri": "https://localhost:8080/"
    },
    "id": "MbebDVZIbuch",
    "executionInfo": {
     "status": "ok",
     "timestamp": 1727768797484,
     "user_tz": -540,
     "elapsed": 7,
     "user": {
      "displayName": "Yongjin Jeong",
      "userId": "03658406798560557048"
     }
    },
    "outputId": "7ab2f98e-6a57-4945-9e9d-d76bf93b5603",
    "ExecuteTime": {
     "end_time": "2024-10-07T03:30:41.745771Z",
     "start_time": "2024-10-07T03:30:41.742069Z"
    }
   },
   "outputs": [
    {
     "data": {
      "text/plain": [
       "<Response [200]>"
      ]
     },
     "execution_count": 47,
     "metadata": {},
     "output_type": "execute_result"
    }
   ],
   "execution_count": 47
  },
  {
   "cell_type": "code",
   "metadata": {
    "colab": {
     "base_uri": "https://localhost:8080/",
     "height": 70
    },
    "executionInfo": {
     "elapsed": 5,
     "status": "ok",
     "timestamp": 1727768797484,
     "user": {
      "displayName": "Yongjin Jeong",
      "userId": "03658406798560557048"
     },
     "user_tz": -540
    },
    "id": "Yb749hh5ngd8",
    "outputId": "75a7e15a-879d-4788-a37b-0fb69bc1cede",
    "ExecuteTime": {
     "end_time": "2024-10-07T03:30:43.771130Z",
     "start_time": "2024-10-07T03:30:43.768661Z"
    }
   },
   "source": [
    "response.text"
   ],
   "outputs": [
    {
     "data": {
      "text/plain": [
       "'<!DOCTYPE HTML PUBLIC \"-//W3C//DTD HTML 4.01 Transitional//EN\" \"http://www.w3.org/TR/html4/loose.dtd\">\\r\\n<html>\\r\\n<head>\\r\\n<meta http-equiv=\"content-type\" content=\"text/html; charset=utf-8\">\\r\\n</head>\\r\\n<body>\\r\\n<br>\\r\\n<br>\\r\\n<center>\\r\\n<h2>\\r\\n회원님께서는 현재 입력할 수 없는 문자열의 사용으로 인해 차단이 되었습니다.<br>\\r\\n문제가 지속적으로 발생할 경우 아래 고객센터로 문의하시기 바랍니다.<br>\\r\\n이용에 불편을 드려 죄송합니다.<br>\\r\\n\\r\\n문의(고객센터): 1588-9350<br>\\r\\n<br>\\r\\n</body>\\r\\n</html>'"
      ]
     },
     "execution_count": 48,
     "metadata": {},
     "output_type": "execute_result"
    }
   ],
   "execution_count": 48
  },
  {
   "cell_type": "markdown",
   "metadata": {
    "id": "4PLBusx3qMEN"
   },
   "source": [
    "- it seems that the direct access (automatic scraping) to this web page is not allowed.\n",
    "- we can modify our request to include headers that mimic a browser request.\n",
    "  - Added User-Agent Header: We added a User-Agent header to the request. This header is used by web browsers to identify themselves when making requests to web servers.\n",
    "  - By setting a User-Agent that mimics a popular browser (e.g., Google Chrome), **we made our request appear as though it was coming from a real user rather than an automated script.** This helps to avoid being blocked by websites that restrict automated access."
   ]
  },
  {
   "cell_type": "code",
   "execution_count": 72,
   "metadata": {
    "executionInfo": {
     "elapsed": 1728,
     "status": "ok",
     "timestamp": 1727768799208,
     "user": {
      "displayName": "Yongjin Jeong",
      "userId": "03658406798560557048"
     },
     "user_tz": -540
    },
    "id": "NQujp30nqtVw"
   },
   "outputs": [],
   "source": [
    "headers = {\n",
    "    'User-Agent': 'Mozilla/5.0 (Windows NT 10.0; Win64; x64) AppleWebKit/537.36 (KHTML, like Gecko) Chrome/91.0.4472.124 Safari/537.36'\n",
    "}\n",
    "\n",
    "# Fetch the HTML content from the URL with headers\n",
    "response = requests.get(url, headers=headers)\n",
    "response.encoding = 'utf-8'\n",
    "soup = BeautifulSoup(response.text, 'html.parser')"
   ]
  },
  {
   "cell_type": "code",
   "execution_count": 73,
   "metadata": {
    "colab": {
     "base_uri": "https://localhost:8080/",
     "height": 140
    },
    "executionInfo": {
     "elapsed": 9,
     "status": "ok",
     "timestamp": 1727768799210,
     "user": {
      "displayName": "Yongjin Jeong",
      "userId": "03658406798560557048"
     },
     "user_tz": -540
    },
    "id": "Q97dK1e6q2Kn",
    "outputId": "0d7f36d0-a790-485d-cafb-f6edeaa5854d"
   },
   "outputs": [
    {
     "output_type": "execute_result",
     "data": {
      "text/plain": [
       "'<!DOCTYPE html>\\n<html lang=\"ko\">\\n <head>\\n  <meta charset=\"utf-8\"/>\\n  <meta content=\"text/html; charset=utf-8\" http-equiv=\"Content-Type\"/>\\n  <meta content=\"IE=edge; chrome=1\" http-equiv=\"X-UA-Compatible\"/>\\n  <title>\\n   data scientist 채용공고 | 총 42건의 검색결과 - 잡코리아\\n  </title>\\n  <meta content=\"data scientist 채용공고 | 총 42건의 검색결과 - 잡코리아\" name=\"title\"/>\\n  <meta content=\"data scientist 검색결과 총 42건- 2024 data scientist 채용정보가 더 알고 싶다면? 기업정보, 취업정보를 No.1 커리어 플랫폼 잡코리아에서 확인해보세요.\" name=\"description\"/>\\n  <meta content=\"data scientist, 채용, 구인구직사이트, 취업, 공기업, 직업, 취업박람회, 자소서, 채용사이트, 구직사이트,취업정보사이트, 채용공고, WORK, 직업종류, 커리어, 이직, 공고, 구인, 구직, 헤드헌팅, 경력, 신입, 인턴, 공채, 취업정보, 취업 정보, 취업뉴스, 취업 속보, 취업 뉴스, 취업상담실, 해외취업, 취업센터,채용박람회, 직업적성검사, 면접, 대기업채용, 리쿠르팅, 구인사이트, 잡, 구인광고, 직업추천, 청년일자리, 일자리사이트, 취업지원센터, 리크루팅, 구직자, 채용공고사이트, 인턴십, 일자리박람회, 일자리구하기, 취업성공, 취업사이트, 채용, 채용포털, 채용정보, 고용정보, 알바, 일자리, 구인정보, 이력서, Work, Job, 전직, 재취업, 여성취업, 정보통신취업, IT취업, 임원, CEO, 리쿠르트, 리크루트, 기업, 대기업, 중소기업, 벤처기업, 잡코리아, Jobkorea, wkqzhfldk, 원픽, OnePick, onepick, dnjsv'"
      ],
      "application/vnd.google.colaboratory.intrinsic+json": {
       "type": "string"
      }
     },
     "metadata": {},
     "execution_count": 73
    }
   ],
   "source": [
    "soup.prettify()[:1000]"
   ]
  },
  {
   "cell_type": "code",
   "execution_count": 74,
   "metadata": {
    "colab": {
     "base_uri": "https://localhost:8080/"
    },
    "executionInfo": {
     "elapsed": 394,
     "status": "ok",
     "timestamp": 1727768799597,
     "user": {
      "displayName": "Yongjin Jeong",
      "userId": "03658406798560557048"
     },
     "user_tz": -540
    },
    "id": "JOMN2_U7hf0A",
    "outputId": "b63dde8a-8743-409d-875f-728b26b7d6b0",
    "collapsed": true
   },
   "outputs": [
    {
     "output_type": "execute_result",
     "data": {
      "text/plain": [
       "1"
      ]
     },
     "metadata": {},
     "execution_count": 74
    }
   ],
   "source": [
    "len(soup.select('article .content-list .list'))"
   ]
  },
  {
   "cell_type": "code",
   "execution_count": 75,
   "metadata": {
    "colab": {
     "base_uri": "https://localhost:8080/"
    },
    "executionInfo": {
     "elapsed": 27,
     "status": "ok",
     "timestamp": 1727768799597,
     "user": {
      "displayName": "Yongjin Jeong",
      "userId": "03658406798560557048"
     },
     "user_tz": -540
    },
    "id": "Aj7Y7xASOjLL",
    "outputId": "0b9816a3-f69b-497d-98db-a5d6e56de771",
    "collapsed": true
   },
   "outputs": [
    {
     "output_type": "execute_result",
     "data": {
      "text/plain": [
       "<article class=\"list\">\n",
       "<article class=\"list-item\" data-gainfo='{\"dimension42\":\"45605234\", \"dimension43\":\"회계·세무·법무\", \"dimension44\":\"컨설턴트,데이터사이언티스트\", \"dimension45\":\"컨설팅부문 Customer 팀 Data Scientist 컨설턴트 경력직\", \"dimension46\":\"서울\", \"dimension65\":\"N\", \"dimension66\":\"일반기업\", \"dimension70\":\"무료\", \"dimension47\":\"41416328\", \"dimension48\":\"한영회계법인\"}' data-gavirturl=\"https://www.jobkorea.co.kr/virtual/Recruit/GI_Read/45605234?Oem_Code=C1&amp;logpath=1&amp;stext=data scientist&amp;listno=1\" data-gino=\"47779836\" data-gno=\"45605234\" data-listno=\"1\" data-mem-sys=\"41416328\" data-mem-type=\"C\">\n",
       "<div class=\"list-section-corp\">\n",
       "<a class=\"corp-name-link dev-view\" href=\"/Recruit/GI_Read/45605234?Oem_Code=C1&amp;logpath=1&amp;stext=data scientist&amp;listno=1\" nav-src=\"/Search/_ContentsGIRead?Gno=45605234&amp;Mem_Type_Code=C&amp;Mem_Sys_No=41416328\" onclick=\"$(this).closest('.list-item').addClass('checked'); GA_Virtual_Dimension($(this).closest('.list-post[data-gno=45605234]').data('gainfo')); GA_Virtual('홈&gt;통합검색&gt;공고뷰', $(this).closest('.list-post[data-gno=45605234]').data('gavirturl')); GA_Event('통합검색_PC', '채용정보', '클릭');\" target=\"_blank\" title=\"한영회계법인\">\n",
       "                            한영회계법인\n",
       "                        </a>\n",
       "<button class=\"button-favorite dev_favor-41416328\" onclick=\"GA_Event('통합검색_PC', '채용정보','관심_' + ($(this).hasClass('on')?'해제':'등록'));\" type=\"button\">\n",
       "<i></i>\n",
       "</button>\n",
       "<ul class=\"chips-circle-group\">\n",
       "</ul>\n",
       "</div>\n",
       "<div class=\"list-section-information\">\n",
       "<div class=\"information-title\">\n",
       "<a class=\"information-title-link dev-view\" href=\"/Recruit/GI_Read/45605234?Oem_Code=C1&amp;logpath=1&amp;stext=data scientist&amp;listno=1\" onclick=\"$(this).closest('.list-item').addClass('checked'); GA_Virtual_Dimension($(this).closest('.list-post[data-gno=45605234]').data('gainfo'));GA_Virtual('홈&gt;통합검색&gt;공고뷰', $(this).closest('.list-post[data-gno=45605234]').data('gavirturl'));GA_Event('통합검색_PC', '채용정보', '클릭');\" target=\"_blank\">\n",
       "                                컨설팅부문 Customer 팀 <em class=\"match\">Data Scientist</em> 컨설턴트 경력직\n",
       "                            </a>\n",
       "<button class=\"button-scrap dev_scrap-47779836\" data-brazeinfo=\"컨설팅부문 Customer 팀 Data Scientist 컨설턴트 경력직|45605234|47779836|yyyy-MM-dd|yyyy-MM-dd|한영회계법인|41416328\" onclick=\"GA_Event('통합검색_PC', '채용정보','스크랩_' + ($(this).hasClass('on')?'해제':'등록'));\" type=\"button\">\n",
       "<i></i> <span>스크랩</span>\n",
       "</button>\n",
       "</div>\n",
       "<ul class=\"chip-information-group\">\n",
       "<li class=\"chip-information-item\">경력3년↑</li>\n",
       "<li class=\"chip-information-item\">대졸↑</li>\n",
       "<li class=\"chip-information-item\">정규직</li>\n",
       "<li class=\"chip-information-item\">서울 영등포구</li>\n",
       "<li class=\"chip-information-item\">D-5</li>\n",
       "</ul>\n",
       "</div>\n",
       "<div class=\"list-section-util\">\n",
       "<button class=\"button-apply-homepage dev_new_pop\" onclick=\"_LA.EVT('5283');GA_Event('통합검색_PC', '채용정보', '홈페이지 지원');\" src=\"/List_GI/GIB_Read_homepage_Link.asp?GI_NO=47779836\" type=\"button\"><span>홈페이지 지원</span></button>\n",
       "</div>\n",
       "</article>\n",
       "<article class=\"list-item\" data-gainfo='{\"dimension42\":\"45443401\", \"dimension43\":\"네트워크·통신서비스\", \"dimension44\":\"데이터사이언티스트\", \"dimension45\":\"Data Scientist\", \"dimension46\":\"서울\", \"dimension65\":\"N\", \"dimension66\":\"일반기업\", \"dimension70\":\"무료\", \"dimension47\":\"40499415\", \"dimension48\":\"야놀자\"}' data-gavirturl=\"https://www.jobkorea.co.kr/virtual/Recruit/GI_Read/45443401?Oem_Code=C1&amp;logpath=1&amp;stext=data scientist&amp;listno=2\" data-gino=\"47639876\" data-gno=\"45443401\" data-listno=\"2\" data-mem-sys=\"40499415\" data-mem-type=\"C\">\n",
       "<div class=\"list-section-corp\">\n",
       "<a class=\"corp-name-link dev-view\" href=\"/Recruit/GI_Read/45443401?Oem_Code=C1&amp;logpath=1&amp;stext=data scientist&amp;listno=2\" nav-src=\"/Search/_ContentsGIRead?Gno=45443401&amp;Mem_Type_Code=C&amp;Mem_Sys_No=40499415\" onclick=\"$(this).closest('.list-item').addClass('checked'); GA_Virtual_Dimension($(this).closest('.list-post[data-gno=45443401]').data('gainfo')); GA_Virtual('홈&gt;통합검색&gt;공고뷰', $(this).closest('.list-post[data-gno=45443401]').data('gavirturl')); GA_Event('통합검색_PC', '채용정보', '클릭');\" target=\"_blank\" title=\"야놀자\">\n",
       "                            야놀자\n",
       "                        </a>\n",
       "<button class=\"button-favorite dev_favor-40499415\" onclick=\"GA_Event('통합검색_PC', '채용정보','관심_' + ($(this).hasClass('on')?'해제':'등록'));\" type=\"button\">\n",
       "<i></i>\n",
       "</button>\n",
       "<ul class=\"chips-circle-group\">\n",
       "</ul>\n",
       "</div>\n",
       "<div class=\"list-section-information\">\n",
       "<div class=\"information-title\">\n",
       "<a class=\"information-title-link dev-view\" href=\"/Recruit/GI_Read/45443401?Oem_Code=C1&amp;logpath=1&amp;stext=data scientist&amp;listno=2\" onclick=\"$(this).closest('.list-item').addClass('checked'); GA_Virtual_Dimension($(this).closest('.list-post[data-gno=45443401]').data('gainfo'));GA_Virtual('홈&gt;통합검색&gt;공고뷰', $(this).closest('.list-post[data-gno=45443401]').data('gavirturl'));GA_Event('통합검색_PC', '채용정보', '클릭');\" target=\"_blank\">\n",
       "<em class=\"match\">Data Scientist</em>\n",
       "</a>\n",
       "<button class=\"button-scrap dev_scrap-47639876\" data-brazeinfo=\"Data Scientist|45443401|47639876|yyyy-MM-dd|yyyy-MM-dd|야놀자|40499415\" onclick=\"GA_Event('통합검색_PC', '채용정보','스크랩_' + ($(this).hasClass('on')?'해제':'등록'));\" type=\"button\">\n",
       "<i></i> <span>스크랩</span>\n",
       "</button>\n",
       "</div>\n",
       "<ul class=\"chip-information-group\">\n",
       "<li class=\"chip-information-item\">경력2년↑</li>\n",
       "<li class=\"chip-information-item\">학력무관</li>\n",
       "<li class=\"chip-information-item\">정규직</li>\n",
       "<li class=\"chip-information-item\">서울 강남구</li>\n",
       "<li class=\"chip-information-item\">D-25</li>\n",
       "</ul>\n",
       "<ul class=\"chip-benefit-group\">\n",
       "<li class=\"chip-benefit-item\">#상해보험</li>\n",
       "<li class=\"chip-benefit-item\">#명절선물/명절상여 지원</li>\n",
       "<li class=\"chip-benefit-item\">#보육수당</li>\n",
       "<li class=\"chip-benefit-item\">#출산 지원</li>\n",
       "<li class=\"chip-benefit-item\">외 8건</li>\n",
       "</ul>\n",
       "</div>\n",
       "<div class=\"list-section-util\">\n",
       "<button class=\"button-apply-homepage dev_new_pop\" onclick=\"_LA.EVT('5283');GA_Event('통합검색_PC', '채용정보', '홈페이지 지원');\" src=\"/List_GI/GIB_Read_homepage_Link.asp?GI_NO=47639876\" type=\"button\"><span>홈페이지 지원</span></button>\n",
       "</div>\n",
       "</article>\n",
       "<article class=\"list-item\" data-gainfo='{\"dimension42\":\"45396600\", \"dimension43\":\"제약·보건·바이오\", \"dimension44\":\"데이터사이언티스트\", \"dimension45\":\"Data Scientist 채용\", \"dimension46\":\"서울\", \"dimension65\":\"Y\", \"dimension66\":\"일반기업\", \"dimension70\":\"무료\", \"dimension47\":\"32481189\", \"dimension48\":\"바이온사이트\"}' data-gavirturl=\"https://www.jobkorea.co.kr/virtual/Recruit/GI_Read/45396600?Oem_Code=C1&amp;logpath=1&amp;stext=data scientist&amp;listno=3\" data-gino=\"47598616\" data-gno=\"45396600\" data-listno=\"3\" data-mem-sys=\"32481189\" data-mem-type=\"C\">\n",
       "<div class=\"list-section-corp\">\n",
       "<a class=\"corp-name-link dev-view\" href=\"/Recruit/GI_Read/45396600?Oem_Code=C1&amp;logpath=1&amp;stext=data scientist&amp;listno=3\" nav-src=\"/Search/_ContentsGIRead?Gno=45396600&amp;Mem_Type_Code=C&amp;Mem_Sys_No=32481189\" onclick=\"$(this).closest('.list-item').addClass('checked'); GA_Virtual_Dimension($(this).closest('.list-post[data-gno=45396600]').data('gainfo')); GA_Virtual('홈&gt;통합검색&gt;공고뷰', $(this).closest('.list-post[data-gno=45396600]').data('gavirturl')); GA_Event('통합검색_PC', '채용정보', '클릭');\" target=\"_blank\" title=\"바이온사이트\">\n",
       "                            바이온사이트\n",
       "                        </a>\n",
       "<button class=\"button-favorite dev_favor-32481189\" onclick=\"GA_Event('통합검색_PC', '채용정보','관심_' + ($(this).hasClass('on')?'해제':'등록'));\" type=\"button\">\n",
       "<i></i>\n",
       "</button>\n",
       "<ul class=\"chips-circle-group\">\n",
       "</ul>\n",
       "</div>\n",
       "<div class=\"list-section-information\">\n",
       "<div class=\"information-title\">\n",
       "<a class=\"information-title-link dev-view\" href=\"/Recruit/GI_Read/45396600?Oem_Code=C1&amp;logpath=1&amp;stext=data scientist&amp;listno=3\" onclick=\"$(this).closest('.list-item').addClass('checked'); GA_Virtual_Dimension($(this).closest('.list-post[data-gno=45396600]').data('gainfo'));GA_Virtual('홈&gt;통합검색&gt;공고뷰', $(this).closest('.list-post[data-gno=45396600]').data('gavirturl'));GA_Event('통합검색_PC', '채용정보', '클릭');\" target=\"_blank\">\n",
       "<em class=\"match\">Data Scientist</em> 채용\n",
       "                            </a>\n",
       "<button class=\"button-scrap dev_scrap-47598616\" data-brazeinfo=\"Data Scientist 채용|45396600|47598616|yyyy-MM-dd|yyyy-MM-dd|바이온사이트|32481189\" onclick=\"GA_Event('통합검색_PC', '채용정보','스크랩_' + ($(this).hasClass('on')?'해제':'등록'));\" type=\"button\">\n",
       "<i></i> <span>스크랩</span>\n",
       "</button>\n",
       "</div>\n",
       "<ul class=\"chip-information-group\">\n",
       "<li class=\"chip-information-item\">경력3년↑</li>\n",
       "<li class=\"chip-information-item\">대졸↑</li>\n",
       "<li class=\"chip-information-item\">정규직</li>\n",
       "<li class=\"chip-information-item\">서울 성동구</li>\n",
       "<li class=\"chip-information-item\">상시채용</li>\n",
       "</ul>\n",
       "</div>\n",
       "<div class=\"list-section-util\">\n",
       "<button class=\"button-apply-now dev_direct_apply_list\" onclick=\"GA_Event('통합검색_PC', '채용정보', '즉시지원');\" type=\"button\">즉시지원</button>\n",
       "</div>\n",
       "</article>\n",
       "<article class=\"list-item\" data-gainfo='{\"dimension42\":\"45542010\", \"dimension43\":\"솔루션·SI·CRM·ERP\", \"dimension44\":\"DBA,데이터엔지니어,머신러닝엔지니어\", \"dimension45\":\"[빅밸류] Data Scientist(공통) 모집\", \"dimension46\":\"서울\", \"dimension65\":\"Y\", \"dimension66\":\"일반기업\", \"dimension70\":\"무료\", \"dimension47\":\"18200253\", \"dimension48\":\"㈜빅밸류\"}' data-gavirturl=\"https://www.jobkorea.co.kr/virtual/Recruit/GI_Read/45542010?Oem_Code=C1&amp;logpath=1&amp;stext=data scientist&amp;listno=4\" data-gino=\"47725631\" data-gno=\"45542010\" data-listno=\"4\" data-mem-sys=\"18200253\" data-mem-type=\"C\">\n",
       "<div class=\"list-section-corp\">\n",
       "<a class=\"corp-name-link dev-view\" href=\"/Recruit/GI_Read/45542010?Oem_Code=C1&amp;logpath=1&amp;stext=data scientist&amp;listno=4\" nav-src=\"/Search/_ContentsGIRead?Gno=45542010&amp;Mem_Type_Code=C&amp;Mem_Sys_No=18200253\" onclick=\"$(this).closest('.list-item').addClass('checked'); GA_Virtual_Dimension($(this).closest('.list-post[data-gno=45542010]').data('gainfo')); GA_Virtual('홈&gt;통합검색&gt;공고뷰', $(this).closest('.list-post[data-gno=45542010]').data('gavirturl')); GA_Event('통합검색_PC', '채용정보', '클릭');\" target=\"_blank\" title=\"㈜빅밸류\">\n",
       "                            ㈜빅밸류\n",
       "                        </a>\n",
       "<button class=\"button-favorite dev_favor-18200253\" onclick=\"GA_Event('통합검색_PC', '채용정보','관심_' + ($(this).hasClass('on')?'해제':'등록'));\" type=\"button\">\n",
       "<i></i>\n",
       "</button>\n",
       "<ul class=\"chips-circle-group\">\n",
       "<li class=\"chips-circle-item\">수상기업</li>\n",
       "</ul>\n",
       "</div>\n",
       "<div class=\"list-section-information\">\n",
       "<div class=\"information-title\">\n",
       "<a class=\"information-title-link dev-view\" href=\"/Recruit/GI_Read/45542010?Oem_Code=C1&amp;logpath=1&amp;stext=data scientist&amp;listno=4\" onclick=\"$(this).closest('.list-item').addClass('checked'); GA_Virtual_Dimension($(this).closest('.list-post[data-gno=45542010]').data('gainfo'));GA_Virtual('홈&gt;통합검색&gt;공고뷰', $(this).closest('.list-post[data-gno=45542010]').data('gavirturl'));GA_Event('통합검색_PC', '채용정보', '클릭');\" target=\"_blank\">\n",
       "                                [빅밸류] <em class=\"match\">Data Scientist</em>(공통) 모집\n",
       "                            </a>\n",
       "<button class=\"button-scrap dev_scrap-47725631\" data-brazeinfo=\"[빅밸류] Data Scientist(공통) 모집|45542010|47725631|yyyy-MM-dd|yyyy-MM-dd|㈜빅밸류|18200253\" onclick=\"GA_Event('통합검색_PC', '채용정보','스크랩_' + ($(this).hasClass('on')?'해제':'등록'));\" type=\"button\">\n",
       "<i></i> <span>스크랩</span>\n",
       "</button>\n",
       "</div>\n",
       "<ul class=\"chip-information-group\">\n",
       "<li class=\"chip-information-item\">경력무관</li>\n",
       "<li class=\"chip-information-item\">학력무관</li>\n",
       "<li class=\"chip-information-item\">정규직</li>\n",
       "<li class=\"chip-information-item\">서울 중구</li>\n",
       "<li class=\"chip-information-item\">상시채용</li>\n",
       "</ul>\n",
       "</div>\n",
       "<div class=\"list-section-util\">\n",
       "<button class=\"button-apply-now dev_direct_apply_list\" onclick=\"GA_Event('통합검색_PC', '채용정보', '즉시지원');\" type=\"button\">즉시지원</button>\n",
       "</div>\n",
       "</article>\n",
       "<article class=\"list-item\" data-gainfo='{\"dimension42\":\"45578898\", \"dimension43\":\"솔루션·SI·CRM·ERP\", \"dimension44\":\"데이터사이언티스트\", \"dimension45\":\"[CORNERSTONE42] Data Scientist 모집\", \"dimension46\":\"서울\", \"dimension65\":\"Y\", \"dimension66\":\"일반기업\", \"dimension70\":\"무료\", \"dimension47\":\"38563104\", \"dimension48\":\"㈜코너스톤42\"}' data-gavirturl=\"https://www.jobkorea.co.kr/virtual/Recruit/GI_Read/45578898?Oem_Code=C1&amp;logpath=1&amp;stext=data scientist&amp;listno=5\" data-gino=\"47756667\" data-gno=\"45578898\" data-listno=\"5\" data-mem-sys=\"38563104\" data-mem-type=\"C\">\n",
       "<div class=\"list-section-corp\">\n",
       "<a class=\"corp-name-link dev-view\" href=\"/Recruit/GI_Read/45578898?Oem_Code=C1&amp;logpath=1&amp;stext=data scientist&amp;listno=5\" nav-src=\"/Search/_ContentsGIRead?Gno=45578898&amp;Mem_Type_Code=C&amp;Mem_Sys_No=38563104\" onclick=\"$(this).closest('.list-item').addClass('checked'); GA_Virtual_Dimension($(this).closest('.list-post[data-gno=45578898]').data('gainfo')); GA_Virtual('홈&gt;통합검색&gt;공고뷰', $(this).closest('.list-post[data-gno=45578898]').data('gavirturl')); GA_Event('통합검색_PC', '채용정보', '클릭');\" target=\"_blank\" title=\"㈜코너스톤42\">\n",
       "                            ㈜코너스톤42\n",
       "                        </a>\n",
       "<button class=\"button-favorite dev_favor-38563104\" onclick=\"GA_Event('통합검색_PC', '채용정보','관심_' + ($(this).hasClass('on')?'해제':'등록'));\" type=\"button\">\n",
       "<i></i>\n",
       "</button>\n",
       "<ul class=\"chips-circle-group\">\n",
       "</ul>\n",
       "</div>\n",
       "<div class=\"list-section-information\">\n",
       "<div class=\"information-title\">\n",
       "<a class=\"information-title-link dev-view\" href=\"/Recruit/GI_Read/45578898?Oem_Code=C1&amp;logpath=1&amp;stext=data scientist&amp;listno=5\" onclick=\"$(this).closest('.list-item').addClass('checked'); GA_Virtual_Dimension($(this).closest('.list-post[data-gno=45578898]').data('gainfo'));GA_Virtual('홈&gt;통합검색&gt;공고뷰', $(this).closest('.list-post[data-gno=45578898]').data('gavirturl'));GA_Event('통합검색_PC', '채용정보', '클릭');\" target=\"_blank\">\n",
       "                                [CORNERSTONE42] <em class=\"match\">Data Scientist</em> 모집\n",
       "                            </a>\n",
       "<button class=\"button-scrap dev_scrap-47756667\" data-brazeinfo=\"[CORNERSTONE42] Data Scientist 모집|45578898|47756667|yyyy-MM-dd|yyyy-MM-dd|㈜코너스톤42|38563104\" onclick=\"GA_Event('통합검색_PC', '채용정보','스크랩_' + ($(this).hasClass('on')?'해제':'등록'));\" type=\"button\">\n",
       "<i></i> <span>스크랩</span>\n",
       "</button>\n",
       "</div>\n",
       "<ul class=\"chip-information-group\">\n",
       "<li class=\"chip-information-item\">신입·경력3년↑</li>\n",
       "<li class=\"chip-information-item\">대졸↑</li>\n",
       "<li class=\"chip-information-item\">정규직</li>\n",
       "<li class=\"chip-information-item\">서울 송파구 외</li>\n",
       "<li class=\"chip-information-item\">D-18</li>\n",
       "</ul>\n",
       "<ul class=\"chip-benefit-group\">\n",
       "<li class=\"chip-benefit-item\">#웰컴키트</li>\n",
       "<li class=\"chip-benefit-item\">#재택근무</li>\n",
       "<li class=\"chip-benefit-item\">#사내 동호회 지원</li>\n",
       "<li class=\"chip-benefit-item\">#생일 이벤트</li>\n",
       "<li class=\"chip-benefit-item\">외 1건</li>\n",
       "</ul>\n",
       "</div>\n",
       "<div class=\"list-section-util\">\n",
       "<button class=\"button-apply-now dev_direct_apply_list\" onclick=\"GA_Event('통합검색_PC', '채용정보', '즉시지원');\" type=\"button\">즉시지원</button>\n",
       "</div>\n",
       "</article>\n",
       "<article class=\"list-item\" data-gainfo='{\"dimension42\":\"45414347\", \"dimension43\":\"솔루션·SI·CRM·ERP\", \"dimension44\":\"머신러닝엔지니어\", \"dimension45\":\"Data Scientist (영어회화 필수)\", \"dimension46\":\"서울\", \"dimension65\":\"Y\", \"dimension66\":\"일반기업\", \"dimension70\":\"무료\", \"dimension47\":\"25979467\", \"dimension48\":\"㈜마인드에이아이\"}' data-gavirturl=\"https://www.jobkorea.co.kr/virtual/Recruit/GI_Read/45414347?Oem_Code=C1&amp;logpath=1&amp;stext=data scientist&amp;listno=6\" data-gino=\"47614472\" data-gno=\"45414347\" data-listno=\"6\" data-mem-sys=\"25979467\" data-mem-type=\"C\">\n",
       "<div class=\"list-section-corp\">\n",
       "<a class=\"corp-name-link dev-view\" href=\"/Recruit/GI_Read/45414347?Oem_Code=C1&amp;logpath=1&amp;stext=data scientist&amp;listno=6\" nav-src=\"/Search/_ContentsGIRead?Gno=45414347&amp;Mem_Type_Code=C&amp;Mem_Sys_No=25979467\" onclick=\"$(this).closest('.list-item').addClass('checked'); GA_Virtual_Dimension($(this).closest('.list-post[data-gno=45414347]').data('gainfo')); GA_Virtual('홈&gt;통합검색&gt;공고뷰', $(this).closest('.list-post[data-gno=45414347]').data('gavirturl')); GA_Event('통합검색_PC', '채용정보', '클릭');\" target=\"_blank\" title=\"㈜마인드에이아이\">\n",
       "                            ㈜마인드에이아이\n",
       "                        </a>\n",
       "<button class=\"button-favorite dev_favor-25979467\" onclick=\"GA_Event('통합검색_PC', '채용정보','관심_' + ($(this).hasClass('on')?'해제':'등록'));\" type=\"button\">\n",
       "<i></i>\n",
       "</button>\n",
       "<ul class=\"chips-circle-group\">\n",
       "</ul>\n",
       "</div>\n",
       "<div class=\"list-section-information\">\n",
       "<div class=\"information-title\">\n",
       "<a class=\"information-title-link dev-view\" href=\"/Recruit/GI_Read/45414347?Oem_Code=C1&amp;logpath=1&amp;stext=data scientist&amp;listno=6\" onclick=\"$(this).closest('.list-item').addClass('checked'); GA_Virtual_Dimension($(this).closest('.list-post[data-gno=45414347]').data('gainfo'));GA_Virtual('홈&gt;통합검색&gt;공고뷰', $(this).closest('.list-post[data-gno=45414347]').data('gavirturl'));GA_Event('통합검색_PC', '채용정보', '클릭');\" target=\"_blank\">\n",
       "<em class=\"match\">Data Scientist</em> (영어회화 필수)\n",
       "                            </a>\n",
       "<button class=\"button-scrap dev_scrap-47614472\" data-brazeinfo=\"Data Scientist (영어회화 필수)|45414347|47614472|yyyy-MM-dd|yyyy-MM-dd|㈜마인드에이아이|25979467\" onclick=\"GA_Event('통합검색_PC', '채용정보','스크랩_' + ($(this).hasClass('on')?'해제':'등록'));\" type=\"button\">\n",
       "<i></i> <span>스크랩</span>\n",
       "</button>\n",
       "</div>\n",
       "<ul class=\"chip-information-group\">\n",
       "<li class=\"chip-information-item\">경력3년↑</li>\n",
       "<li class=\"chip-information-item\">석사↑</li>\n",
       "<li class=\"chip-information-item\">정규직</li>\n",
       "<li class=\"chip-information-item\">서울 중구</li>\n",
       "<li class=\"chip-information-item\">D-21</li>\n",
       "</ul>\n",
       "<ul class=\"chip-benefit-group\">\n",
       "<li class=\"chip-benefit-item\">#생일 이벤트</li>\n",
       "</ul>\n",
       "</div>\n",
       "<div class=\"list-section-util\">\n",
       "<button class=\"button-apply-now dev_direct_apply_list\" onclick=\"GA_Event('통합검색_PC', '채용정보', '즉시지원');\" type=\"button\">즉시지원</button>\n",
       "</div>\n",
       "</article>\n",
       "<article class=\"list-item\" data-gainfo='{\"dimension42\":\"45393276\", \"dimension43\":\"솔루션·SI·CRM·ERP\", \"dimension44\":\"데이터사이언티스트\", \"dimension45\":\"Senior Data Scientist (3년 이상)\", \"dimension46\":\"서울\", \"dimension65\":\"Y\", \"dimension66\":\"일반기업\", \"dimension70\":\"무료\", \"dimension47\":\"19717466\", \"dimension48\":\"주식회사 데이블\"}' data-gavirturl=\"https://www.jobkorea.co.kr/virtual/Recruit/GI_Read/45393276?Oem_Code=C1&amp;logpath=1&amp;stext=data scientist&amp;listno=7\" data-gino=\"47595763\" data-gno=\"45393276\" data-listno=\"7\" data-mem-sys=\"19717466\" data-mem-type=\"C\">\n",
       "<div class=\"list-section-corp\">\n",
       "<a class=\"corp-name-link dev-view\" href=\"/Recruit/GI_Read/45393276?Oem_Code=C1&amp;logpath=1&amp;stext=data scientist&amp;listno=7\" nav-src=\"/Search/_ContentsGIRead?Gno=45393276&amp;Mem_Type_Code=C&amp;Mem_Sys_No=19717466\" onclick=\"$(this).closest('.list-item').addClass('checked'); GA_Virtual_Dimension($(this).closest('.list-post[data-gno=45393276]').data('gainfo')); GA_Virtual('홈&gt;통합검색&gt;공고뷰', $(this).closest('.list-post[data-gno=45393276]').data('gavirturl')); GA_Event('통합검색_PC', '채용정보', '클릭');\" target=\"_blank\" title=\"주식회사 데이블\">\n",
       "                            주식회사 데이블\n",
       "                        </a>\n",
       "<button class=\"button-favorite dev_favor-19717466\" onclick=\"GA_Event('통합검색_PC', '채용정보','관심_' + ($(this).hasClass('on')?'해제':'등록'));\" type=\"button\">\n",
       "<i></i>\n",
       "</button>\n",
       "<ul class=\"chips-circle-group\">\n",
       "</ul>\n",
       "</div>\n",
       "<div class=\"list-section-information\">\n",
       "<div class=\"information-title\">\n",
       "<a class=\"information-title-link dev-view\" href=\"/Recruit/GI_Read/45393276?Oem_Code=C1&amp;logpath=1&amp;stext=data scientist&amp;listno=7\" onclick=\"$(this).closest('.list-item').addClass('checked'); GA_Virtual_Dimension($(this).closest('.list-post[data-gno=45393276]').data('gainfo'));GA_Virtual('홈&gt;통합검색&gt;공고뷰', $(this).closest('.list-post[data-gno=45393276]').data('gavirturl'));GA_Event('통합검색_PC', '채용정보', '클릭');\" target=\"_blank\">\n",
       "                                Senior <em class=\"match\">Data Scientist</em> (3년 이상)\n",
       "                            </a>\n",
       "<button class=\"button-scrap dev_scrap-47595763\" data-brazeinfo=\"Senior Data Scientist (3년 이상)|45393276|47595763|yyyy-MM-dd|yyyy-MM-dd|주식회사 데이블|19717466\" onclick=\"GA_Event('통합검색_PC', '채용정보','스크랩_' + ($(this).hasClass('on')?'해제':'등록'));\" type=\"button\">\n",
       "<i></i> <span>스크랩</span>\n",
       "</button>\n",
       "</div>\n",
       "<ul class=\"chip-information-group\">\n",
       "<li class=\"chip-information-item\">경력3년↑</li>\n",
       "<li class=\"chip-information-item\">대졸↑</li>\n",
       "<li class=\"chip-information-item\">정규직</li>\n",
       "<li class=\"chip-information-item\">서울 강남구</li>\n",
       "<li class=\"chip-information-item\">상시채용</li>\n",
       "</ul>\n",
       "</div>\n",
       "<div class=\"list-section-util\">\n",
       "<button class=\"button-apply-now dev_direct_apply_list\" onclick=\"GA_Event('통합검색_PC', '채용정보', '즉시지원');\" type=\"button\">즉시지원</button>\n",
       "</div>\n",
       "</article>\n",
       "<article class=\"list-item\" data-gainfo='{\"dimension42\":\"45392147\", \"dimension43\":\"솔루션·SI·CRM·ERP\", \"dimension44\":\"웹개발자,앱개발자,머신러닝엔지니어\", \"dimension45\":\"AI R&amp;D / 3D 비전 / 개발 / Data Scientist 병역 특례 전문연구요원 모집\", \"dimension46\":\"서울\", \"dimension65\":\"Y\", \"dimension66\":\"일반기업\", \"dimension70\":\"무료\", \"dimension47\":\"33183712\", \"dimension48\":\"㈜델타엑스\"}' data-gavirturl=\"https://www.jobkorea.co.kr/virtual/Recruit/GI_Read/45392147?Oem_Code=C1&amp;logpath=1&amp;stext=data scientist&amp;listno=8\" data-gino=\"47594689\" data-gno=\"45392147\" data-listno=\"8\" data-mem-sys=\"33183712\" data-mem-type=\"C\">\n",
       "<div class=\"list-section-corp\">\n",
       "<a class=\"corp-name-link dev-view\" href=\"/Recruit/GI_Read/45392147?Oem_Code=C1&amp;logpath=1&amp;stext=data scientist&amp;listno=8\" nav-src=\"/Search/_ContentsGIRead?Gno=45392147&amp;Mem_Type_Code=C&amp;Mem_Sys_No=33183712\" onclick=\"$(this).closest('.list-item').addClass('checked'); GA_Virtual_Dimension($(this).closest('.list-post[data-gno=45392147]').data('gainfo')); GA_Virtual('홈&gt;통합검색&gt;공고뷰', $(this).closest('.list-post[data-gno=45392147]').data('gavirturl')); GA_Event('통합검색_PC', '채용정보', '클릭');\" target=\"_blank\" title=\"㈜델타엑스\">\n",
       "                            ㈜델타엑스\n",
       "                        </a>\n",
       "<button class=\"button-favorite dev_favor-33183712\" onclick=\"GA_Event('통합검색_PC', '채용정보','관심_' + ($(this).hasClass('on')?'해제':'등록'));\" type=\"button\">\n",
       "<i></i>\n",
       "</button>\n",
       "<ul class=\"chips-circle-group\">\n",
       "</ul>\n",
       "</div>\n",
       "<div class=\"list-section-information\">\n",
       "<div class=\"information-title\">\n",
       "<a class=\"information-title-link dev-view\" href=\"/Recruit/GI_Read/45392147?Oem_Code=C1&amp;logpath=1&amp;stext=data scientist&amp;listno=8\" onclick=\"$(this).closest('.list-item').addClass('checked'); GA_Virtual_Dimension($(this).closest('.list-post[data-gno=45392147]').data('gainfo'));GA_Virtual('홈&gt;통합검색&gt;공고뷰', $(this).closest('.list-post[data-gno=45392147]').data('gavirturl'));GA_Event('통합검색_PC', '채용정보', '클릭');\" target=\"_blank\">\n",
       "                                AI R&amp;D / 3D 비전 / 개발 / <em class=\"match\">Data Scientist</em> 병역 특례 전문연구요원 모집\n",
       "                            </a>\n",
       "<button class=\"button-scrap dev_scrap-47594689\" data-brazeinfo=\"AI R&amp;D / 3D 비전 / 개발 / Data Scientist 병역 특례 전문연구요원 모집|45392147|47594689|yyyy-MM-dd|yyyy-MM-dd|㈜델타엑스|33183712\" onclick=\"GA_Event('통합검색_PC', '채용정보','스크랩_' + ($(this).hasClass('on')?'해제':'등록'));\" type=\"button\">\n",
       "<i></i> <span>스크랩</span>\n",
       "</button>\n",
       "</div>\n",
       "<ul class=\"chip-information-group\">\n",
       "<li class=\"chip-information-item\">신입·경력</li>\n",
       "<li class=\"chip-information-item\">석사↑</li>\n",
       "<li class=\"chip-information-item\">정규직 외</li>\n",
       "<li class=\"chip-information-item\">서울 구로구</li>\n",
       "<li class=\"chip-information-item\">상시채용</li>\n",
       "</ul>\n",
       "</div>\n",
       "<div class=\"list-section-util\">\n",
       "<button class=\"button-apply-now dev_direct_apply_list\" onclick=\"GA_Event('통합검색_PC', '채용정보', '즉시지원');\" type=\"button\">즉시지원</button>\n",
       "</div>\n",
       "</article>\n",
       "<article class=\"list-item\" data-gainfo='{\"dimension42\":\"45360429\", \"dimension43\":\"솔루션·SI·CRM·ERP\", \"dimension44\":\"데이터엔지니어,데이터사이언티스트,머신러닝엔지니어\", \"dimension45\":\"데이터 분석 (Data Scientist) 채용\", \"dimension46\":\"서울\", \"dimension65\":\"Y\", \"dimension66\":\"일반기업\", \"dimension70\":\"무료\", \"dimension47\":\"32056944\", \"dimension48\":\"㈜에이브랩스\"}' data-gavirturl=\"https://www.jobkorea.co.kr/virtual/Recruit/GI_Read/45360429?Oem_Code=C1&amp;logpath=1&amp;stext=data scientist&amp;listno=9\" data-gino=\"47566640\" data-gno=\"45360429\" data-listno=\"9\" data-mem-sys=\"32056944\" data-mem-type=\"C\">\n",
       "<div class=\"list-section-corp\">\n",
       "<a class=\"corp-name-link dev-view\" href=\"/Recruit/GI_Read/45360429?Oem_Code=C1&amp;logpath=1&amp;stext=data scientist&amp;listno=9\" nav-src=\"/Search/_ContentsGIRead?Gno=45360429&amp;Mem_Type_Code=C&amp;Mem_Sys_No=32056944\" onclick=\"$(this).closest('.list-item').addClass('checked'); GA_Virtual_Dimension($(this).closest('.list-post[data-gno=45360429]').data('gainfo')); GA_Virtual('홈&gt;통합검색&gt;공고뷰', $(this).closest('.list-post[data-gno=45360429]').data('gavirturl')); GA_Event('통합검색_PC', '채용정보', '클릭');\" target=\"_blank\" title=\"㈜에이브랩스\">\n",
       "                            ㈜에이브랩스\n",
       "                        </a>\n",
       "<button class=\"button-favorite dev_favor-32056944\" onclick=\"GA_Event('통합검색_PC', '채용정보','관심_' + ($(this).hasClass('on')?'해제':'등록'));\" type=\"button\">\n",
       "<i></i>\n",
       "</button>\n",
       "<ul class=\"chips-circle-group\">\n",
       "</ul>\n",
       "</div>\n",
       "<div class=\"list-section-information\">\n",
       "<div class=\"information-title\">\n",
       "<a class=\"information-title-link dev-view\" href=\"/Recruit/GI_Read/45360429?Oem_Code=C1&amp;logpath=1&amp;stext=data scientist&amp;listno=9\" onclick=\"$(this).closest('.list-item').addClass('checked'); GA_Virtual_Dimension($(this).closest('.list-post[data-gno=45360429]').data('gainfo'));GA_Virtual('홈&gt;통합검색&gt;공고뷰', $(this).closest('.list-post[data-gno=45360429]').data('gavirturl'));GA_Event('통합검색_PC', '채용정보', '클릭');\" target=\"_blank\">\n",
       "                                데이터 분석 (<em class=\"match\">Data Scientist</em>) 채용\n",
       "                            </a>\n",
       "<button class=\"button-scrap dev_scrap-47566640\" data-brazeinfo=\"데이터 분석 (Data Scientist) 채용|45360429|47566640|yyyy-MM-dd|yyyy-MM-dd|㈜에이브랩스|32056944\" onclick=\"GA_Event('통합검색_PC', '채용정보','스크랩_' + ($(this).hasClass('on')?'해제':'등록'));\" type=\"button\">\n",
       "<i></i> <span>스크랩</span>\n",
       "</button>\n",
       "</div>\n",
       "<ul class=\"chip-information-group\">\n",
       "<li class=\"chip-information-item\">신입·경력</li>\n",
       "<li class=\"chip-information-item\">학력무관</li>\n",
       "<li class=\"chip-information-item\">정규직 외</li>\n",
       "<li class=\"chip-information-item\">서울 용산구</li>\n",
       "<li class=\"chip-information-item\">D-13</li>\n",
       "</ul>\n",
       "</div>\n",
       "<div class=\"list-section-util\">\n",
       "<button class=\"button-apply-now dev_direct_apply_list\" onclick=\"GA_Event('통합검색_PC', '채용정보', '즉시지원');\" type=\"button\">즉시지원</button>\n",
       "</div>\n",
       "</article>\n",
       "<article class=\"list-item\" data-gainfo='{\"dimension42\":\"45619461\", \"dimension43\":\"네트워크·통신서비스\", \"dimension44\":\"시스템엔지니어\", \"dimension45\":\"[CTO] AI Scientist-추천/예측 경력사원 채용\", \"dimension46\":\"서울\", \"dimension65\":\"N\", \"dimension66\":\"일반기업\", \"dimension70\":\"무료\", \"dimension47\":\"22848630\", \"dimension48\":\"엘지유플러스\"}' data-gavirturl=\"https://www.jobkorea.co.kr/virtual/Recruit/GI_Read/45619461?Oem_Code=C1&amp;logpath=1&amp;stext=data scientist&amp;listno=10\" data-gino=\"47792515\" data-gno=\"45619461\" data-listno=\"10\" data-mem-sys=\"22848630\" data-mem-type=\"C\">\n",
       "<div class=\"list-section-corp\">\n",
       "<a class=\"corp-name-link dev-view\" href=\"/Recruit/GI_Read/45619461?Oem_Code=C1&amp;logpath=1&amp;stext=data scientist&amp;listno=10\" nav-src=\"/Search/_ContentsGIRead?Gno=45619461&amp;Mem_Type_Code=C&amp;Mem_Sys_No=22848630\" onclick=\"$(this).closest('.list-item').addClass('checked'); GA_Virtual_Dimension($(this).closest('.list-post[data-gno=45619461]').data('gainfo')); GA_Virtual('홈&gt;통합검색&gt;공고뷰', $(this).closest('.list-post[data-gno=45619461]').data('gavirturl')); GA_Event('통합검색_PC', '채용정보', '클릭');\" target=\"_blank\" title=\"엘지유플러스\">\n",
       "                            엘지유플러스\n",
       "                        </a>\n",
       "<button class=\"button-favorite dev_favor-22848630\" onclick=\"GA_Event('통합검색_PC', '채용정보','관심_' + ($(this).hasClass('on')?'해제':'등록'));\" type=\"button\">\n",
       "<i></i>\n",
       "</button>\n",
       "<ul class=\"chips-circle-group\">\n",
       "<li class=\"chips-circle-item\">LG그룹</li>\n",
       "<li class=\"chips-circle-item\">1000대기업</li>\n",
       "<li class=\"chips-circle-item\">수상기업</li>\n",
       "</ul>\n",
       "</div>\n",
       "<div class=\"list-section-information\">\n",
       "<div class=\"information-title\">\n",
       "<a class=\"information-title-link dev-view\" href=\"/Recruit/GI_Read/45619461?Oem_Code=C1&amp;logpath=1&amp;stext=data scientist&amp;listno=10\" onclick=\"$(this).closest('.list-item').addClass('checked'); GA_Virtual_Dimension($(this).closest('.list-post[data-gno=45619461]').data('gainfo'));GA_Virtual('홈&gt;통합검색&gt;공고뷰', $(this).closest('.list-post[data-gno=45619461]').data('gavirturl'));GA_Event('통합검색_PC', '채용정보', '클릭');\" target=\"_blank\">\n",
       "                                [CTO] AI Scientist-추천/예측 경력사원 채용\n",
       "                            </a>\n",
       "<button class=\"button-scrap dev_scrap-47792515\" data-brazeinfo=\"[CTO] AI Scientist-추천/예측 경력사원 채용|45619461|47792515|yyyy-MM-dd|yyyy-MM-dd|엘지유플러스|22848630\" onclick=\"GA_Event('통합검색_PC', '채용정보','스크랩_' + ($(this).hasClass('on')?'해제':'등록'));\" type=\"button\">\n",
       "<i></i> <span>스크랩</span>\n",
       "</button>\n",
       "</div>\n",
       "<ul class=\"chip-information-group\">\n",
       "<li class=\"chip-information-item\">경력</li>\n",
       "<li class=\"chip-information-item\">대졸↑</li>\n",
       "<li class=\"chip-information-item\">서울 강서구</li>\n",
       "<li class=\"chip-information-item\">D-8</li>\n",
       "</ul>\n",
       "</div>\n",
       "<div class=\"list-section-util\">\n",
       "<button class=\"button-apply-homepage dev_new_pop\" onclick=\"_LA.EVT('5283');GA_Event('통합검색_PC', '채용정보', '홈페이지 지원');\" src=\"/List_GI/GIB_Read_homepage_Link.asp?GI_NO=47792515\" type=\"button\"><span>홈페이지 지원</span></button>\n",
       "</div>\n",
       "</article>\n",
       "<article class=\"list-item\" data-gainfo='{\"dimension42\":\"45494043\", \"dimension43\":\"솔루션·SI·CRM·ERP\", \"dimension44\":\"경영·비즈니스기획,웹기획,PL·PM·PO,컨설턴트,경영지원,사무담당자,사무보조,백엔드개발자,프론트엔드개발자,웹개발자,시스템엔지니어,데이터엔지니어,데이터사이언티스트,소프트웨어개발자,클라우드엔지니어,웹퍼블리셔,IT·기술영업,영업관리,영업지원,기계엔지니어,필드엔지니어\", \"dimension45\":\"[브이엠에스솔루션스] 2024년 각부문별 채용\", \"dimension46\":\"서울, 경기, 충남, 충북\", \"dimension65\":\"N\", \"dimension66\":\"일반기업\", \"dimension70\":\"무료\", \"dimension47\":\"242754\", \"dimension48\":\"브이엠에스솔루션스\"}' data-gavirturl=\"https://www.jobkorea.co.kr/virtual/Recruit/GI_Read/45494043?Oem_Code=C1&amp;logpath=1&amp;stext=data scientist&amp;listno=11\" data-gino=\"47684166\" data-gno=\"45494043\" data-listno=\"11\" data-mem-sys=\"242754\" data-mem-type=\"C\">\n",
       "<div class=\"list-section-corp\">\n",
       "<a class=\"corp-name-link dev-view\" href=\"/Recruit/GI_Read/45494043?Oem_Code=C1&amp;logpath=1&amp;stext=data scientist&amp;listno=11\" nav-src=\"/Search/_ContentsGIRead?Gno=45494043&amp;Mem_Type_Code=C&amp;Mem_Sys_No=242754\" onclick=\"$(this).closest('.list-item').addClass('checked'); GA_Virtual_Dimension($(this).closest('.list-post[data-gno=45494043]').data('gainfo')); GA_Virtual('홈&gt;통합검색&gt;공고뷰', $(this).closest('.list-post[data-gno=45494043]').data('gavirturl')); GA_Event('통합검색_PC', '채용정보', '클릭');\" target=\"_blank\" title=\"브이엠에스솔루션스\">\n",
       "                            브이엠에스솔루션스\n",
       "                        </a>\n",
       "<button class=\"button-favorite dev_favor-242754\" onclick=\"GA_Event('통합검색_PC', '채용정보','관심_' + ($(this).hasClass('on')?'해제':'등록'));\" type=\"button\">\n",
       "<i></i>\n",
       "</button>\n",
       "<ul class=\"chips-circle-group\">\n",
       "<li class=\"chips-circle-item\">강소기업</li>\n",
       "</ul>\n",
       "</div>\n",
       "<div class=\"list-section-information\">\n",
       "<div class=\"information-title\">\n",
       "<a class=\"information-title-link dev-view\" href=\"/Recruit/GI_Read/45494043?Oem_Code=C1&amp;logpath=1&amp;stext=data scientist&amp;listno=11\" onclick=\"$(this).closest('.list-item').addClass('checked'); GA_Virtual_Dimension($(this).closest('.list-post[data-gno=45494043]').data('gainfo'));GA_Virtual('홈&gt;통합검색&gt;공고뷰', $(this).closest('.list-post[data-gno=45494043]').data('gavirturl'));GA_Event('통합검색_PC', '채용정보', '클릭');\" target=\"_blank\">\n",
       "                                [브이엠에스솔루션스] 2024년 각부문별 채용\n",
       "                            </a>\n",
       "<button class=\"button-scrap dev_scrap-47684166\" data-brazeinfo=\"[브이엠에스솔루션스] 2024년 각부문별 채용|45494043|47684166|yyyy-MM-dd|yyyy-MM-dd|브이엠에스솔루션스|242754\" onclick=\"GA_Event('통합검색_PC', '채용정보','스크랩_' + ($(this).hasClass('on')?'해제':'등록'));\" type=\"button\">\n",
       "<i></i> <span>스크랩</span>\n",
       "</button>\n",
       "</div>\n",
       "<ul class=\"chip-information-group\">\n",
       "<li class=\"chip-information-item\">신입·경력</li>\n",
       "<li class=\"chip-information-item\">학력무관</li>\n",
       "<li class=\"chip-information-item\">정규직 외</li>\n",
       "<li class=\"chip-information-item\">서울 전지역 외</li>\n",
       "<li class=\"chip-information-item\">D-10</li>\n",
       "</ul>\n",
       "</div>\n",
       "<div class=\"list-section-util\">\n",
       "<button class=\"button-apply-homepage dev_new_pop\" onclick=\"_LA.EVT('5283');GA_Event('통합검색_PC', '채용정보', '홈페이지 지원');\" src=\"/List_GI/GIB_Read_homepage_Link.asp?GI_NO=47684166\" type=\"button\"><span>홈페이지 지원</span></button>\n",
       "</div>\n",
       "</article>\n",
       "<article class=\"list-item\" data-gainfo='{\"dimension42\":\"45509028\", \"dimension43\":\"은행·금융\", \"dimension44\":\"데이터사이언티스트,머신러닝엔지니어\", \"dimension45\":\"[토스뱅크] CSS Modeler (기획/운영)\", \"dimension46\":\"서울\", \"dimension65\":\"N\", \"dimension66\":\"일반기업\", \"dimension70\":\"무료\", \"dimension47\":\"19576969\", \"dimension48\":\"㈜비바리퍼블리카\"}' data-gavirturl=\"https://www.jobkorea.co.kr/virtual/Recruit/GI_Read/45509028?Oem_Code=C1&amp;logpath=1&amp;stext=data scientist&amp;listno=12\" data-gino=\"47697202\" data-gno=\"45509028\" data-listno=\"12\" data-mem-sys=\"19576969\" data-mem-type=\"C\">\n",
       "<div class=\"list-section-corp\">\n",
       "<a class=\"corp-name-link dev-view\" href=\"/Recruit/GI_Read/45509028?Oem_Code=C1&amp;logpath=1&amp;stext=data scientist&amp;listno=12\" nav-src=\"/Search/_ContentsGIRead?Gno=45509028&amp;Mem_Type_Code=C&amp;Mem_Sys_No=19576969\" onclick=\"$(this).closest('.list-item').addClass('checked'); GA_Virtual_Dimension($(this).closest('.list-post[data-gno=45509028]').data('gainfo')); GA_Virtual('홈&gt;통합검색&gt;공고뷰', $(this).closest('.list-post[data-gno=45509028]').data('gavirturl')); GA_Event('통합검색_PC', '채용정보', '클릭');\" target=\"_blank\" title=\"㈜비바리퍼블리카\">\n",
       "                            ㈜비바리퍼블리카\n",
       "                        </a>\n",
       "<button class=\"button-favorite dev_favor-19576969\" onclick=\"GA_Event('통합검색_PC', '채용정보','관심_' + ($(this).hasClass('on')?'해제':'등록'));\" type=\"button\">\n",
       "<i></i>\n",
       "</button>\n",
       "<ul class=\"chips-circle-group\">\n",
       "</ul>\n",
       "</div>\n",
       "<div class=\"list-section-information\">\n",
       "<div class=\"information-title\">\n",
       "<a class=\"information-title-link dev-view\" href=\"/Recruit/GI_Read/45509028?Oem_Code=C1&amp;logpath=1&amp;stext=data scientist&amp;listno=12\" onclick=\"$(this).closest('.list-item').addClass('checked'); GA_Virtual_Dimension($(this).closest('.list-post[data-gno=45509028]').data('gainfo'));GA_Virtual('홈&gt;통합검색&gt;공고뷰', $(this).closest('.list-post[data-gno=45509028]').data('gavirturl'));GA_Event('통합검색_PC', '채용정보', '클릭');\" target=\"_blank\">\n",
       "                                [토스뱅크] CSS Modeler (기획/운영)\n",
       "                            </a>\n",
       "<button class=\"button-scrap dev_scrap-47697202\" data-brazeinfo=\"[토스뱅크] CSS Modeler (기획/운영)|45509028|47697202|yyyy-MM-dd|yyyy-MM-dd|㈜비바리퍼블리카|19576969\" onclick=\"GA_Event('통합검색_PC', '채용정보','스크랩_' + ($(this).hasClass('on')?'해제':'등록'));\" type=\"button\">\n",
       "<i></i> <span>스크랩</span>\n",
       "</button>\n",
       "</div>\n",
       "<ul class=\"chip-information-group\">\n",
       "<li class=\"chip-information-item\">경력3년↑</li>\n",
       "<li class=\"chip-information-item\">학력무관</li>\n",
       "<li class=\"chip-information-item\">정규직</li>\n",
       "<li class=\"chip-information-item\">서울 강남구</li>\n",
       "<li class=\"chip-information-item\">D-34</li>\n",
       "</ul>\n",
       "</div>\n",
       "<div class=\"list-section-util\">\n",
       "<button class=\"button-apply-homepage dev_new_pop\" onclick=\"_LA.EVT('5283');GA_Event('통합검색_PC', '채용정보', '홈페이지 지원');\" src=\"/List_GI/GIB_Read_homepage_Link.asp?GI_NO=47697202\" type=\"button\"><span>홈페이지 지원</span></button>\n",
       "</div>\n",
       "</article>\n",
       "<article class=\"list-item\" data-gainfo='{\"dimension42\":\"45628956\", \"dimension43\":\"컨설팅·연구·조사\", \"dimension44\":\"경영·비즈니스기획,바이오·제약연구원\", \"dimension45\":\"[성수동 스타트업] 바이오 생명공학 산업 분석 시장조사 리서치 직무 모집\", \"dimension46\":\"서울\", \"dimension65\":\"Y\", \"dimension66\":\"일반기업\", \"dimension70\":\"무료\", \"dimension47\":\"42636946\", \"dimension48\":\"바이오북㈜\"}' data-gavirturl=\"https://www.jobkorea.co.kr/virtual/Recruit/GI_Read/45628956?Oem_Code=C1&amp;logpath=1&amp;stext=data scientist&amp;listno=13\" data-gino=\"47800854\" data-gno=\"45628956\" data-listno=\"13\" data-mem-sys=\"42636946\" data-mem-type=\"C\">\n",
       "<div class=\"list-section-corp\">\n",
       "<a class=\"corp-name-link dev-view\" href=\"/Recruit/GI_Read/45628956?Oem_Code=C1&amp;logpath=1&amp;stext=data scientist&amp;listno=13\" nav-src=\"/Search/_ContentsGIRead?Gno=45628956&amp;Mem_Type_Code=C&amp;Mem_Sys_No=42636946\" onclick=\"$(this).closest('.list-item').addClass('checked'); GA_Virtual_Dimension($(this).closest('.list-post[data-gno=45628956]').data('gainfo')); GA_Virtual('홈&gt;통합검색&gt;공고뷰', $(this).closest('.list-post[data-gno=45628956]').data('gavirturl')); GA_Event('통합검색_PC', '채용정보', '클릭');\" target=\"_blank\" title=\"바이오북㈜\">\n",
       "                            바이오북㈜\n",
       "                        </a>\n",
       "<button class=\"button-favorite dev_favor-42636946\" onclick=\"GA_Event('통합검색_PC', '채용정보','관심_' + ($(this).hasClass('on')?'해제':'등록'));\" type=\"button\">\n",
       "<i></i>\n",
       "</button>\n",
       "<ul class=\"chips-circle-group\">\n",
       "</ul>\n",
       "</div>\n",
       "<div class=\"list-section-information\">\n",
       "<div class=\"information-title\">\n",
       "<a class=\"information-title-link dev-view\" href=\"/Recruit/GI_Read/45628956?Oem_Code=C1&amp;logpath=1&amp;stext=data scientist&amp;listno=13\" onclick=\"$(this).closest('.list-item').addClass('checked'); GA_Virtual_Dimension($(this).closest('.list-post[data-gno=45628956]').data('gainfo'));GA_Virtual('홈&gt;통합검색&gt;공고뷰', $(this).closest('.list-post[data-gno=45628956]').data('gavirturl'));GA_Event('통합검색_PC', '채용정보', '클릭');\" target=\"_blank\">\n",
       "                                [성수동 스타트업] 바이오 생명공학 산업 분석 시장조사 리서치 직무 모집\n",
       "                            </a>\n",
       "<button class=\"button-scrap dev_scrap-47800854\" data-brazeinfo=\"[성수동 스타트업] 바이오 생명공학 산업 분석 시장조사 리서치 직무 모집|45628956|47800854|yyyy-MM-dd|yyyy-MM-dd|바이오북㈜|42636946\" onclick=\"GA_Event('통합검색_PC', '채용정보','스크랩_' + ($(this).hasClass('on')?'해제':'등록'));\" type=\"button\">\n",
       "<i></i> <span>스크랩</span>\n",
       "</button>\n",
       "</div>\n",
       "<ul class=\"chip-information-group\">\n",
       "<li class=\"chip-information-item\">신입·경력</li>\n",
       "<li class=\"chip-information-item\">대졸↑</li>\n",
       "<li class=\"chip-information-item\">계약직</li>\n",
       "<li class=\"chip-information-item\">서울 성동구</li>\n",
       "<li class=\"chip-information-item\">D-25</li>\n",
       "</ul>\n",
       "</div>\n",
       "<div class=\"list-section-util\">\n",
       "<button class=\"button-apply-now dev_direct_apply_list\" onclick=\"GA_Event('통합검색_PC', '채용정보', '즉시지원');\" type=\"button\">즉시지원</button>\n",
       "</div>\n",
       "</article>\n",
       "<article class=\"list-item\" data-gainfo='{\"dimension42\":\"45478688\", \"dimension43\":\"솔루션·SI·CRM·ERP\", \"dimension44\":\"마케팅기획\", \"dimension45\":\"[AB180] Marketing Data Consultant 채용\", \"dimension46\":\"서울\", \"dimension65\":\"N\", \"dimension66\":\"일반기업\", \"dimension70\":\"무료\", \"dimension47\":\"23917749\", \"dimension48\":\"㈜에이비일팔공\"}' data-gavirturl=\"https://www.jobkorea.co.kr/virtual/Recruit/GI_Read/45478688?Oem_Code=C1&amp;logpath=1&amp;stext=data scientist&amp;listno=14\" data-gino=\"47670412\" data-gno=\"45478688\" data-listno=\"14\" data-mem-sys=\"23917749\" data-mem-type=\"C\">\n",
       "<div class=\"list-section-corp\">\n",
       "<a class=\"corp-name-link dev-view\" href=\"/Recruit/GI_Read/45478688?Oem_Code=C1&amp;logpath=1&amp;stext=data scientist&amp;listno=14\" nav-src=\"/Search/_ContentsGIRead?Gno=45478688&amp;Mem_Type_Code=C&amp;Mem_Sys_No=23917749\" onclick=\"$(this).closest('.list-item').addClass('checked'); GA_Virtual_Dimension($(this).closest('.list-post[data-gno=45478688]').data('gainfo')); GA_Virtual('홈&gt;통합검색&gt;공고뷰', $(this).closest('.list-post[data-gno=45478688]').data('gavirturl')); GA_Event('통합검색_PC', '채용정보', '클릭');\" target=\"_blank\" title=\"㈜에이비일팔공\">\n",
       "                            ㈜에이비일팔공\n",
       "                        </a>\n",
       "<button class=\"button-favorite dev_favor-23917749\" onclick=\"GA_Event('통합검색_PC', '채용정보','관심_' + ($(this).hasClass('on')?'해제':'등록'));\" type=\"button\">\n",
       "<i></i>\n",
       "</button>\n",
       "<ul class=\"chips-circle-group\">\n",
       "<li class=\"chips-circle-item\">강소기업</li>\n",
       "</ul>\n",
       "</div>\n",
       "<div class=\"list-section-information\">\n",
       "<div class=\"information-title\">\n",
       "<a class=\"information-title-link dev-view\" href=\"/Recruit/GI_Read/45478688?Oem_Code=C1&amp;logpath=1&amp;stext=data scientist&amp;listno=14\" onclick=\"$(this).closest('.list-item').addClass('checked'); GA_Virtual_Dimension($(this).closest('.list-post[data-gno=45478688]').data('gainfo'));GA_Virtual('홈&gt;통합검색&gt;공고뷰', $(this).closest('.list-post[data-gno=45478688]').data('gavirturl'));GA_Event('통합검색_PC', '채용정보', '클릭');\" target=\"_blank\">\n",
       "                                [AB180] Marketing Data Consultant 채용\n",
       "                            </a>\n",
       "<button class=\"button-scrap dev_scrap-47670412\" data-brazeinfo=\"[AB180] Marketing Data Consultant 채용|45478688|47670412|yyyy-MM-dd|yyyy-MM-dd|㈜에이비일팔공|23917749\" onclick=\"GA_Event('통합검색_PC', '채용정보','스크랩_' + ($(this).hasClass('on')?'해제':'등록'));\" type=\"button\">\n",
       "<i></i> <span>스크랩</span>\n",
       "</button>\n",
       "</div>\n",
       "<ul class=\"chip-information-group\">\n",
       "<li class=\"chip-information-item\">경력1년↑</li>\n",
       "<li class=\"chip-information-item\">학력무관</li>\n",
       "<li class=\"chip-information-item\">정규직</li>\n",
       "<li class=\"chip-information-item\">서울 서초구</li>\n",
       "<li class=\"chip-information-item\">상시채용</li>\n",
       "</ul>\n",
       "</div>\n",
       "<div class=\"list-section-util\">\n",
       "<button class=\"button-apply-homepage dev_new_pop\" onclick=\"_LA.EVT('5283');GA_Event('통합검색_PC', '채용정보', '홈페이지 지원');\" src=\"/List_GI/GIB_Read_homepage_Link.asp?GI_NO=47670412\" type=\"button\"><span>홈페이지 지원</span></button>\n",
       "</div>\n",
       "</article>\n",
       "<article class=\"list-item\" data-gainfo='{\"dimension42\":\"45582197\", \"dimension43\":\"컨설팅·연구·조사\", \"dimension44\":\"경영·비즈니스기획,컨설턴트\", \"dimension45\":\"[성수동 스타트업] 생명공학 계열 전공 글로벌 BD 모집\", \"dimension46\":\"서울\", \"dimension65\":\"Y\", \"dimension66\":\"일반기업\", \"dimension70\":\"무료\", \"dimension47\":\"42636946\", \"dimension48\":\"바이오북㈜\"}' data-gavirturl=\"https://www.jobkorea.co.kr/virtual/Recruit/GI_Read/45582197?Oem_Code=C1&amp;logpath=1&amp;stext=data scientist&amp;listno=15\" data-gino=\"47759578\" data-gno=\"45582197\" data-listno=\"15\" data-mem-sys=\"42636946\" data-mem-type=\"C\">\n",
       "<div class=\"list-section-corp\">\n",
       "<a class=\"corp-name-link dev-view\" href=\"/Recruit/GI_Read/45582197?Oem_Code=C1&amp;logpath=1&amp;stext=data scientist&amp;listno=15\" nav-src=\"/Search/_ContentsGIRead?Gno=45582197&amp;Mem_Type_Code=C&amp;Mem_Sys_No=42636946\" onclick=\"$(this).closest('.list-item').addClass('checked'); GA_Virtual_Dimension($(this).closest('.list-post[data-gno=45582197]').data('gainfo')); GA_Virtual('홈&gt;통합검색&gt;공고뷰', $(this).closest('.list-post[data-gno=45582197]').data('gavirturl')); GA_Event('통합검색_PC', '채용정보', '클릭');\" target=\"_blank\" title=\"바이오북㈜\">\n",
       "                            바이오북㈜\n",
       "                        </a>\n",
       "<button class=\"button-favorite dev_favor-42636946\" onclick=\"GA_Event('통합검색_PC', '채용정보','관심_' + ($(this).hasClass('on')?'해제':'등록'));\" type=\"button\">\n",
       "<i></i>\n",
       "</button>\n",
       "<ul class=\"chips-circle-group\">\n",
       "</ul>\n",
       "</div>\n",
       "<div class=\"list-section-information\">\n",
       "<div class=\"information-title\">\n",
       "<a class=\"information-title-link dev-view\" href=\"/Recruit/GI_Read/45582197?Oem_Code=C1&amp;logpath=1&amp;stext=data scientist&amp;listno=15\" onclick=\"$(this).closest('.list-item').addClass('checked'); GA_Virtual_Dimension($(this).closest('.list-post[data-gno=45582197]').data('gainfo'));GA_Virtual('홈&gt;통합검색&gt;공고뷰', $(this).closest('.list-post[data-gno=45582197]').data('gavirturl'));GA_Event('통합검색_PC', '채용정보', '클릭');\" target=\"_blank\">\n",
       "                                [성수동 스타트업] 생명공학 계열 전공 글로벌 BD 모집\n",
       "                            </a>\n",
       "<button class=\"button-scrap dev_scrap-47759578\" data-brazeinfo=\"[성수동 스타트업] 생명공학 계열 전공 글로벌 BD 모집|45582197|47759578|yyyy-MM-dd|yyyy-MM-dd|바이오북㈜|42636946\" onclick=\"GA_Event('통합검색_PC', '채용정보','스크랩_' + ($(this).hasClass('on')?'해제':'등록'));\" type=\"button\">\n",
       "<i></i> <span>스크랩</span>\n",
       "</button>\n",
       "</div>\n",
       "<ul class=\"chip-information-group\">\n",
       "<li class=\"chip-information-item\">경력</li>\n",
       "<li class=\"chip-information-item\">석사↑</li>\n",
       "<li class=\"chip-information-item\">정규직 외</li>\n",
       "<li class=\"chip-information-item\">서울 성동구</li>\n",
       "<li class=\"chip-information-item\">D-19</li>\n",
       "</ul>\n",
       "</div>\n",
       "<div class=\"list-section-util\">\n",
       "<button class=\"button-apply-now dev_direct_apply_list\" onclick=\"GA_Event('통합검색_PC', '채용정보', '즉시지원');\" type=\"button\">즉시지원</button>\n",
       "</div>\n",
       "</article>\n",
       "<article class=\"list-item\" data-gainfo='{\"dimension42\":\"45613513\", \"dimension43\":\"건축·설비·환경\", \"dimension44\":\"데이터사이언티스트\", \"dimension45\":\"국내 그룹사(산업 플랜트) - AI Data Scientist 경력직\", \"dimension46\":\"서울\", \"dimension65\":\"Y\", \"dimension66\":\"헤드헌팅\", \"dimension70\":\"무료\", \"dimension47\":\"11427448\", \"dimension48\":\"커리어앤스카우트\"}' data-gavirturl=\"https://www.jobkorea.co.kr/virtual/Recruit/GI_Read/45613513?PageGbn=HH&amp;logpath=1&amp;stext=data scientist&amp;listno=16\" data-gino=\"4397462\" data-gno=\"45613513\" data-listno=\"16\" data-mem-sys=\"11427448\" data-mem-type=\"S\">\n",
       "<div class=\"list-section-corp\">\n",
       "<a class=\"corp-name-link dev-view\" href=\"/Recruit/GI_Read/45613513?PageGbn=HH&amp;logpath=1&amp;stext=data scientist&amp;listno=16\" nav-src=\"/Search/_ContentsGIRead?Gno=45613513&amp;Mem_Type_Code=S&amp;Mem_Sys_No=11427448\" onclick=\"$(this).closest('.list-item').addClass('checked'); GA_Virtual_Dimension($(this).closest('.list-post[data-gno=45613513]').data('gainfo')); GA_Virtual('홈&gt;통합검색&gt;공고뷰', $(this).closest('.list-post[data-gno=45613513]').data('gavirturl')); GA_Event('통합검색_PC', '채용정보', '클릭');\" target=\"_blank\" title=\"대기업\">\n",
       "                            대기업\n",
       "                        </a>\n",
       "<ul class=\"chips-circle-group\">\n",
       "</ul>\n",
       "</div>\n",
       "<div class=\"list-section-information\">\n",
       "<div class=\"information-title\">\n",
       "<a class=\"information-title-link dev-view\" href=\"/Recruit/GI_Read/45613513?PageGbn=HH&amp;logpath=1&amp;stext=data scientist&amp;listno=16\" onclick=\"$(this).closest('.list-item').addClass('checked'); GA_Virtual_Dimension($(this).closest('.list-post[data-gno=45613513]').data('gainfo'));GA_Virtual('홈&gt;통합검색&gt;공고뷰', $(this).closest('.list-post[data-gno=45613513]').data('gavirturl'));GA_Event('통합검색_PC', '채용정보', '클릭');\" target=\"_blank\">\n",
       "                                국내 그룹사(산업 플랜트) - AI <em class=\"match\">Data Scientist</em> 경력직\n",
       "                            </a>\n",
       "<button class=\"button-scrap dev_scrap-4397462\" data-brazeinfo=\"국내 그룹사(산업 플랜트) - AI Data Scientist 경력직|45613513|4397462|yyyy-MM-dd|yyyy-MM-dd|커리어앤스카우트|11427448\" onclick=\"GA_Event('통합검색_PC', '채용정보','스크랩_' + ($(this).hasClass('on')?'해제':'등록'));\" type=\"button\">\n",
       "<i></i> <span>스크랩</span>\n",
       "</button>\n",
       "</div>\n",
       "<ul class=\"chip-information-group\">\n",
       "<li class=\"chip-information-item\">경력5년↑</li>\n",
       "<li class=\"chip-information-item\">석사↑</li>\n",
       "<li class=\"chip-information-item\">정규직</li>\n",
       "<li class=\"chip-information-item\">서울 전지역</li>\n",
       "<li class=\"chip-information-item\">D-23</li>\n",
       "</ul>\n",
       "</div>\n",
       "<div class=\"list-section-util\">\n",
       "<button class=\"button-apply-now dev_direct_apply_list\" onclick=\"GA_Event('통합검색_PC', '채용정보', '즉시지원');\" type=\"button\">즉시지원</button>\n",
       "</div>\n",
       "</article>\n",
       "<article class=\"list-item\" data-gainfo='{\"dimension42\":\"45429835\", \"dimension43\":\"서치펌·헤드헌팅\", \"dimension44\":\"R&amp;D·연구원\", \"dimension45\":\"[AI솔루션 기업] Data Scientist(4-8년차)\", \"dimension46\":\"서울\", \"dimension65\":\"Y\", \"dimension66\":\"헤드헌팅\", \"dimension70\":\"무료\", \"dimension47\":\"19037064\", \"dimension48\":\"㈜인코리아 프로페셔널\"}' data-gavirturl=\"https://www.jobkorea.co.kr/virtual/Recruit/GI_Read/45429835?PageGbn=HH&amp;logpath=1&amp;stext=data scientist&amp;listno=17\" data-gino=\"4373207\" data-gno=\"45429835\" data-listno=\"17\" data-mem-sys=\"19037064\" data-mem-type=\"S\">\n",
       "<div class=\"list-section-corp\">\n",
       "<a class=\"corp-name-link dev-view\" href=\"/Recruit/GI_Read/45429835?PageGbn=HH&amp;logpath=1&amp;stext=data scientist&amp;listno=17\" nav-src=\"/Search/_ContentsGIRead?Gno=45429835&amp;Mem_Type_Code=S&amp;Mem_Sys_No=19037064\" onclick=\"$(this).closest('.list-item').addClass('checked'); GA_Virtual_Dimension($(this).closest('.list-post[data-gno=45429835]').data('gainfo')); GA_Virtual('홈&gt;통합검색&gt;공고뷰', $(this).closest('.list-post[data-gno=45429835]').data('gavirturl')); GA_Event('통합검색_PC', '채용정보', '클릭');\" target=\"_blank\" title=\"중소기업(300명이하)\">\n",
       "                            중소기업(300명이하)\n",
       "                        </a>\n",
       "<ul class=\"chips-circle-group\">\n",
       "</ul>\n",
       "</div>\n",
       "<div class=\"list-section-information\">\n",
       "<div class=\"information-title\">\n",
       "<a class=\"information-title-link dev-view\" href=\"/Recruit/GI_Read/45429835?PageGbn=HH&amp;logpath=1&amp;stext=data scientist&amp;listno=17\" onclick=\"$(this).closest('.list-item').addClass('checked'); GA_Virtual_Dimension($(this).closest('.list-post[data-gno=45429835]').data('gainfo'));GA_Virtual('홈&gt;통합검색&gt;공고뷰', $(this).closest('.list-post[data-gno=45429835]').data('gavirturl'));GA_Event('통합검색_PC', '채용정보', '클릭');\" target=\"_blank\">\n",
       "                                [AI솔루션 기업] <em class=\"match\">Data Scientist</em>(4-8년차)\n",
       "                            </a>\n",
       "<button class=\"button-scrap dev_scrap-4373207\" data-brazeinfo=\"[AI솔루션 기업] Data Scientist(4-8년차)|45429835|4373207|yyyy-MM-dd|yyyy-MM-dd|㈜인코리아 프로페셔널|19037064\" onclick=\"GA_Event('통합검색_PC', '채용정보','스크랩_' + ($(this).hasClass('on')?'해제':'등록'));\" type=\"button\">\n",
       "<i></i> <span>스크랩</span>\n",
       "</button>\n",
       "</div>\n",
       "<ul class=\"chip-information-group\">\n",
       "<li class=\"chip-information-item\">경력4년↑</li>\n",
       "<li class=\"chip-information-item\">박사↑</li>\n",
       "<li class=\"chip-information-item\">정규직</li>\n",
       "<li class=\"chip-information-item\">서울 중구</li>\n",
       "<li class=\"chip-information-item\">D-54</li>\n",
       "</ul>\n",
       "</div>\n",
       "<div class=\"list-section-util\">\n",
       "<button class=\"button-apply-now dev_direct_apply_list\" onclick=\"GA_Event('통합검색_PC', '채용정보', '즉시지원');\" type=\"button\">즉시지원</button>\n",
       "</div>\n",
       "</article>\n",
       "<article class=\"list-item\" data-gainfo='{\"dimension42\":\"45084227\", \"dimension43\":\"컨설팅·연구·조사\", \"dimension44\":\"웹기획,데이터엔지니어,데이터사이언티스트\", \"dimension45\":\"06 DATA Engineer, Data Scientist [글로벌 헬스케어 스타트업 개발자 채용] - 베스트네트워크㈜\", \"dimension46\":\"서울\", \"dimension65\":\"Y\", \"dimension66\":\"헤드헌팅\", \"dimension70\":\"무료\", \"dimension47\":\"11427340\", \"dimension48\":\"베스트 네트워크\"}' data-gavirturl=\"https://www.jobkorea.co.kr/virtual/Recruit/GI_Read/45084227?PageGbn=HH&amp;logpath=1&amp;stext=data scientist&amp;listno=18\" data-gino=\"4332545\" data-gno=\"45084227\" data-listno=\"18\" data-mem-sys=\"11427340\" data-mem-type=\"S\">\n",
       "<div class=\"list-section-corp\">\n",
       "<a class=\"corp-name-link dev-view\" href=\"/Recruit/GI_Read/45084227?PageGbn=HH&amp;logpath=1&amp;stext=data scientist&amp;listno=18\" nav-src=\"/Search/_ContentsGIRead?Gno=45084227&amp;Mem_Type_Code=S&amp;Mem_Sys_No=11427340\" onclick=\"$(this).closest('.list-item').addClass('checked'); GA_Virtual_Dimension($(this).closest('.list-post[data-gno=45084227]').data('gainfo')); GA_Virtual('홈&gt;통합검색&gt;공고뷰', $(this).closest('.list-post[data-gno=45084227]').data('gavirturl')); GA_Event('통합검색_PC', '채용정보', '클릭');\" target=\"_blank\" title=\"중소기업(300명이하)\">\n",
       "                            중소기업(300명이하)\n",
       "                        </a>\n",
       "<ul class=\"chips-circle-group\">\n",
       "</ul>\n",
       "</div>\n",
       "<div class=\"list-section-information\">\n",
       "<div class=\"information-title\">\n",
       "<a class=\"information-title-link dev-view\" href=\"/Recruit/GI_Read/45084227?PageGbn=HH&amp;logpath=1&amp;stext=data scientist&amp;listno=18\" onclick=\"$(this).closest('.list-item').addClass('checked'); GA_Virtual_Dimension($(this).closest('.list-post[data-gno=45084227]').data('gainfo'));GA_Virtual('홈&gt;통합검색&gt;공고뷰', $(this).closest('.list-post[data-gno=45084227]').data('gavirturl'));GA_Event('통합검색_PC', '채용정보', '클릭');\" target=\"_blank\">\n",
       "                                06 DATA Engineer, <em class=\"match\">Data Scientist</em> [글로벌 헬스케어 스타트업 개발자 채용] - 베스트네트워크㈜\n",
       "                            </a>\n",
       "<button class=\"button-scrap dev_scrap-4332545\" data-brazeinfo=\"06 DATA Engineer, Data Scientist [글로벌 헬스케어 스타트업 개발자 채용] - 베스트네트워크㈜|45084227|4332545|yyyy-MM-dd|yyyy-MM-dd|베스트 네트워크|11427340\" onclick=\"GA_Event('통합검색_PC', '채용정보','스크랩_' + ($(this).hasClass('on')?'해제':'등록'));\" type=\"button\">\n",
       "<i></i> <span>스크랩</span>\n",
       "</button>\n",
       "</div>\n",
       "<ul class=\"chip-information-group\">\n",
       "<li class=\"chip-information-item\">경력</li>\n",
       "<li class=\"chip-information-item\">학력무관</li>\n",
       "<li class=\"chip-information-item\">정규직</li>\n",
       "<li class=\"chip-information-item\">서울 구로구</li>\n",
       "<li class=\"chip-information-item\">D-5</li>\n",
       "</ul>\n",
       "</div>\n",
       "<div class=\"list-section-util\">\n",
       "<button class=\"button-apply-now dev_direct_apply_list\" onclick=\"GA_Event('통합검색_PC', '채용정보', '즉시지원');\" type=\"button\">즉시지원</button>\n",
       "</div>\n",
       "</article>\n",
       "<article class=\"list-item\" data-gainfo='{\"dimension42\":\"45648698\", \"dimension43\":\"백화점·유통·도소매\", \"dimension44\":\"데이터사이언티스트\", \"dimension45\":\"Data Scientist-초대형 유통그룹 전자제품 전문 유통 회사\", \"dimension46\":\"서울\", \"dimension65\":\"Y\", \"dimension66\":\"헤드헌팅\", \"dimension70\":\"무료\", \"dimension47\":\"11427498\", \"dimension48\":\"드림에이치알\"}' data-gavirturl=\"https://www.jobkorea.co.kr/virtual/Recruit/GI_Read/45648698?PageGbn=HH&amp;logpath=1&amp;stext=data scientist&amp;listno=19\" data-gino=\"4402144\" data-gno=\"45648698\" data-listno=\"19\" data-mem-sys=\"11427498\" data-mem-type=\"S\">\n",
       "<div class=\"list-section-corp\">\n",
       "<a class=\"corp-name-link dev-view\" href=\"/Recruit/GI_Read/45648698?PageGbn=HH&amp;logpath=1&amp;stext=data scientist&amp;listno=19\" nav-src=\"/Search/_ContentsGIRead?Gno=45648698&amp;Mem_Type_Code=S&amp;Mem_Sys_No=11427498\" onclick=\"$(this).closest('.list-item').addClass('checked'); GA_Virtual_Dimension($(this).closest('.list-post[data-gno=45648698]').data('gainfo')); GA_Virtual('홈&gt;통합검색&gt;공고뷰', $(this).closest('.list-post[data-gno=45648698]').data('gavirturl')); GA_Event('통합검색_PC', '채용정보', '클릭');\" target=\"_blank\" title=\"중견기업(300명이상)\">\n",
       "                            중견기업(300명이상)\n",
       "                        </a>\n",
       "<ul class=\"chips-circle-group\">\n",
       "</ul>\n",
       "</div>\n",
       "<div class=\"list-section-information\">\n",
       "<div class=\"information-title\">\n",
       "<a class=\"information-title-link dev-view\" href=\"/Recruit/GI_Read/45648698?PageGbn=HH&amp;logpath=1&amp;stext=data scientist&amp;listno=19\" onclick=\"$(this).closest('.list-item').addClass('checked'); GA_Virtual_Dimension($(this).closest('.list-post[data-gno=45648698]').data('gainfo'));GA_Virtual('홈&gt;통합검색&gt;공고뷰', $(this).closest('.list-post[data-gno=45648698]').data('gavirturl'));GA_Event('통합검색_PC', '채용정보', '클릭');\" target=\"_blank\">\n",
       "<em class=\"match\">Data Scientist</em>-초대형 유통그룹 전자제품 전문 유통 회사\n",
       "                            </a>\n",
       "<button class=\"button-scrap dev_scrap-4402144\" data-brazeinfo=\"Data Scientist-초대형 유통그룹 전자제품 전문 유통 회사|45648698|4402144|yyyy-MM-dd|yyyy-MM-dd|드림에이치알|11427498\" onclick=\"GA_Event('통합검색_PC', '채용정보','스크랩_' + ($(this).hasClass('on')?'해제':'등록'));\" type=\"button\">\n",
       "<i></i> <span>스크랩</span>\n",
       "</button>\n",
       "</div>\n",
       "<ul class=\"chip-information-group\">\n",
       "<li class=\"chip-information-item\">경력5년↑</li>\n",
       "<li class=\"chip-information-item\">대졸↑</li>\n",
       "<li class=\"chip-information-item\">정규직</li>\n",
       "<li class=\"chip-information-item\">서울 전지역</li>\n",
       "<li class=\"chip-information-item\">D-29</li>\n",
       "</ul>\n",
       "</div>\n",
       "<div class=\"list-section-util\">\n",
       "<button class=\"button-apply-now dev_direct_apply_list\" onclick=\"GA_Event('통합검색_PC', '채용정보', '즉시지원');\" type=\"button\">즉시지원</button>\n",
       "</div>\n",
       "</article>\n",
       "<article class=\"list-item\" data-gainfo='{\"dimension42\":\"45632559\", \"dimension43\":\"솔루션·SI·CRM·ERP\", \"dimension44\":\"데이터엔지니어,머신러닝엔지니어\", \"dimension45\":\"Data Scientist(Dynamic Pricing)-종합물류 대기업\", \"dimension46\":\"서울\", \"dimension65\":\"Y\", \"dimension66\":\"헤드헌팅\", \"dimension70\":\"무료\", \"dimension47\":\"11427498\", \"dimension48\":\"드림에이치알\"}' data-gavirturl=\"https://www.jobkorea.co.kr/virtual/Recruit/GI_Read/45632559?PageGbn=HH&amp;logpath=1&amp;stext=data scientist&amp;listno=20\" data-gino=\"4399803\" data-gno=\"45632559\" data-listno=\"20\" data-mem-sys=\"11427498\" data-mem-type=\"S\">\n",
       "<div class=\"list-section-corp\">\n",
       "<a class=\"corp-name-link dev-view\" href=\"/Recruit/GI_Read/45632559?PageGbn=HH&amp;logpath=1&amp;stext=data scientist&amp;listno=20\" nav-src=\"/Search/_ContentsGIRead?Gno=45632559&amp;Mem_Type_Code=S&amp;Mem_Sys_No=11427498\" onclick=\"$(this).closest('.list-item').addClass('checked'); GA_Virtual_Dimension($(this).closest('.list-post[data-gno=45632559]').data('gainfo')); GA_Virtual('홈&gt;통합검색&gt;공고뷰', $(this).closest('.list-post[data-gno=45632559]').data('gavirturl')); GA_Event('통합검색_PC', '채용정보', '클릭');\" target=\"_blank\" title=\"대기업\">\n",
       "                            대기업\n",
       "                        </a>\n",
       "<ul class=\"chips-circle-group\">\n",
       "</ul>\n",
       "</div>\n",
       "<div class=\"list-section-information\">\n",
       "<div class=\"information-title\">\n",
       "<a class=\"information-title-link dev-view\" href=\"/Recruit/GI_Read/45632559?PageGbn=HH&amp;logpath=1&amp;stext=data scientist&amp;listno=20\" onclick=\"$(this).closest('.list-item').addClass('checked'); GA_Virtual_Dimension($(this).closest('.list-post[data-gno=45632559]').data('gainfo'));GA_Virtual('홈&gt;통합검색&gt;공고뷰', $(this).closest('.list-post[data-gno=45632559]').data('gavirturl'));GA_Event('통합검색_PC', '채용정보', '클릭');\" target=\"_blank\">\n",
       "<em class=\"match\">Data Scientist</em>(Dynamic Pricing)-종합물류 대기업\n",
       "                            </a>\n",
       "<button class=\"button-scrap dev_scrap-4399803\" data-brazeinfo=\"Data Scientist(Dynamic Pricing)-종합물류 대기업|45632559|4399803|yyyy-MM-dd|yyyy-MM-dd|드림에이치알|11427498\" onclick=\"GA_Event('통합검색_PC', '채용정보','스크랩_' + ($(this).hasClass('on')?'해제':'등록'));\" type=\"button\">\n",
       "<i></i> <span>스크랩</span>\n",
       "</button>\n",
       "</div>\n",
       "<ul class=\"chip-information-group\">\n",
       "<li class=\"chip-information-item\">경력7년↑</li>\n",
       "<li class=\"chip-information-item\">대졸↑</li>\n",
       "<li class=\"chip-information-item\">정규직</li>\n",
       "<li class=\"chip-information-item\">서울 전지역</li>\n",
       "<li class=\"chip-information-item\">D-26</li>\n",
       "</ul>\n",
       "</div>\n",
       "<div class=\"list-section-util\">\n",
       "<button class=\"button-apply-now dev_direct_apply_list\" onclick=\"GA_Event('통합검색_PC', '채용정보', '즉시지원');\" type=\"button\">즉시지원</button>\n",
       "</div>\n",
       "</article>\n",
       "</article>"
      ]
     },
     "metadata": {},
     "execution_count": 75
    }
   ],
   "source": [
    "soup.select('article .content-list .list')[0]"
   ]
  },
  {
   "cell_type": "code",
   "execution_count": 76,
   "metadata": {
    "colab": {
     "base_uri": "https://localhost:8080/"
    },
    "executionInfo": {
     "elapsed": 369,
     "status": "ok",
     "timestamp": 1727768799954,
     "user": {
      "displayName": "Yongjin Jeong",
      "userId": "03658406798560557048"
     },
     "user_tz": -540
    },
    "id": "h8SYVi_TIz4G",
    "outputId": "0c0031b6-aded-4dbe-e685-d20dd232fb91"
   },
   "outputs": [
    {
     "output_type": "execute_result",
     "data": {
      "text/plain": [
       "20"
      ]
     },
     "metadata": {},
     "execution_count": 76
    }
   ],
   "source": [
    "ss = soup.select('article .content-list .list')[0].select('.list-item')\n",
    "len(ss)"
   ]
  },
  {
   "cell_type": "code",
   "execution_count": 77,
   "metadata": {
    "colab": {
     "base_uri": "https://localhost:8080/",
     "height": 35
    },
    "executionInfo": {
     "elapsed": 29,
     "status": "ok",
     "timestamp": 1727768799954,
     "user": {
      "displayName": "Yongjin Jeong",
      "userId": "03658406798560557048"
     },
     "user_tz": -540
    },
    "id": "dHiC1pX-xzf8",
    "outputId": "771d9b7d-7fd2-471b-ead0-cf095335f383"
   },
   "outputs": [
    {
     "output_type": "execute_result",
     "data": {
      "text/plain": [
       "'한영회계법인'"
      ],
      "application/vnd.google.colaboratory.intrinsic+json": {
       "type": "string"
      }
     },
     "metadata": {},
     "execution_count": 77
    }
   ],
   "source": [
    "ss[0].select('.list-section-corp')[0].a.text.strip() # corp name"
   ]
  },
  {
   "cell_type": "code",
   "source": [
    "ss[0].select('.information-title')[0].a.text.strip() # title"
   ],
   "metadata": {
    "colab": {
     "base_uri": "https://localhost:8080/",
     "height": 35
    },
    "id": "r8Vr7icJuwwF",
    "executionInfo": {
     "status": "ok",
     "timestamp": 1727768799955,
     "user_tz": -540,
     "elapsed": 28,
     "user": {
      "displayName": "Yongjin Jeong",
      "userId": "03658406798560557048"
     }
    },
    "outputId": "8af6edfb-d25f-4840-b284-ae83205aaed7"
   },
   "execution_count": 78,
   "outputs": [
    {
     "output_type": "execute_result",
     "data": {
      "text/plain": [
       "'컨설팅부문 Customer 팀 Data Scientist 컨설턴트 경력직'"
      ],
      "application/vnd.google.colaboratory.intrinsic+json": {
       "type": "string"
      }
     },
     "metadata": {},
     "execution_count": 78
    }
   ]
  },
  {
   "cell_type": "code",
   "source": [
    "ss[0].select('.list-section-information')[0].select('ul')[0].find_all('li')"
   ],
   "metadata": {
    "colab": {
     "base_uri": "https://localhost:8080/"
    },
    "id": "RbYciTj6Qfpg",
    "executionInfo": {
     "status": "ok",
     "timestamp": 1727768799955,
     "user_tz": -540,
     "elapsed": 27,
     "user": {
      "displayName": "Yongjin Jeong",
      "userId": "03658406798560557048"
     }
    },
    "outputId": "6e31284e-5907-441b-a734-d3c145cdc6d1"
   },
   "execution_count": 79,
   "outputs": [
    {
     "output_type": "execute_result",
     "data": {
      "text/plain": [
       "[<li class=\"chip-information-item\">경력3년↑</li>,\n",
       " <li class=\"chip-information-item\">대졸↑</li>,\n",
       " <li class=\"chip-information-item\">정규직</li>,\n",
       " <li class=\"chip-information-item\">서울 영등포구</li>,\n",
       " <li class=\"chip-information-item\">D-5</li>]"
      ]
     },
     "metadata": {},
     "execution_count": 79
    }
   ]
  },
  {
   "cell_type": "code",
   "source": [
    "# location and other information\n",
    "[i.text for i in ss[0].select('.list-section-information')[0].select('ul')[0].find_all('li')]"
   ],
   "metadata": {
    "colab": {
     "base_uri": "https://localhost:8080/"
    },
    "id": "ZqaBTthSQfmm",
    "executionInfo": {
     "status": "ok",
     "timestamp": 1727768799955,
     "user_tz": -540,
     "elapsed": 24,
     "user": {
      "displayName": "Yongjin Jeong",
      "userId": "03658406798560557048"
     }
    },
    "outputId": "353fb292-7341-48d2-cf5d-6ed4a9b07f16"
   },
   "execution_count": 80,
   "outputs": [
    {
     "output_type": "execute_result",
     "data": {
      "text/plain": [
       "['경력3년↑', '대졸↑', '정규직', '서울 영등포구', 'D-5']"
      ]
     },
     "metadata": {},
     "execution_count": 80
    }
   ]
  },
  {
   "cell_type": "code",
   "source": [
    "ss = soup.select('article .content-list .list')[0].select('.list-item')\n",
    "\n",
    "names, titles, infos = [], [], []\n",
    "\n",
    "for k in range(len(ss)):\n",
    "    corp = ss[k]\n",
    "    name = ss[k].select('.list-section-corp')[0].a.text.strip()\n",
    "    title = ss[k].select('.information-title')[0].a.text.strip()\n",
    "    info = [i.text for i in ss[k].select('.list-section-information')[0]\\\n",
    "            .select('ul')[0].find_all('li')]\n",
    "    info_s  = \"\"\n",
    "    for i in info:\n",
    "        info_s = info_s + \" \" + i\n",
    "    names.append(name)\n",
    "    titles.append(title)\n",
    "    infos.append(info_s)\n"
   ],
   "metadata": {
    "id": "GBoin_UYQfjw",
    "executionInfo": {
     "status": "ok",
     "timestamp": 1727768799955,
     "user_tz": -540,
     "elapsed": 21,
     "user": {
      "displayName": "Yongjin Jeong",
      "userId": "03658406798560557048"
     }
    }
   },
   "execution_count": 81,
   "outputs": []
  },
  {
   "cell_type": "code",
   "source": [
    "names"
   ],
   "metadata": {
    "colab": {
     "base_uri": "https://localhost:8080/"
    },
    "id": "aTjpI63aYUdu",
    "executionInfo": {
     "status": "ok",
     "timestamp": 1727768799955,
     "user_tz": -540,
     "elapsed": 20,
     "user": {
      "displayName": "Yongjin Jeong",
      "userId": "03658406798560557048"
     }
    },
    "outputId": "ca794ed7-392f-435c-9e3e-46bb29687a44"
   },
   "execution_count": 82,
   "outputs": [
    {
     "output_type": "execute_result",
     "data": {
      "text/plain": [
       "['한영회계법인',\n",
       " '야놀자',\n",
       " '바이온사이트',\n",
       " '㈜빅밸류',\n",
       " '㈜코너스톤42',\n",
       " '㈜마인드에이아이',\n",
       " '주식회사 데이블',\n",
       " '㈜델타엑스',\n",
       " '㈜에이브랩스',\n",
       " '엘지유플러스',\n",
       " '브이엠에스솔루션스',\n",
       " '㈜비바리퍼블리카',\n",
       " '바이오북㈜',\n",
       " '㈜에이비일팔공',\n",
       " '바이오북㈜',\n",
       " '대기업',\n",
       " '중소기업(300명이하)',\n",
       " '중소기업(300명이하)',\n",
       " '중견기업(300명이상)',\n",
       " '대기업']"
      ]
     },
     "metadata": {},
     "execution_count": 82
    }
   ]
  },
  {
   "cell_type": "code",
   "source": [
    "titles"
   ],
   "metadata": {
    "colab": {
     "base_uri": "https://localhost:8080/"
    },
    "id": "HG340z82VigH",
    "executionInfo": {
     "status": "ok",
     "timestamp": 1727768799956,
     "user_tz": -540,
     "elapsed": 18,
     "user": {
      "displayName": "Yongjin Jeong",
      "userId": "03658406798560557048"
     }
    },
    "outputId": "52c4abe6-29d5-4a82-c5ce-b0eaf94a0347"
   },
   "execution_count": 83,
   "outputs": [
    {
     "output_type": "execute_result",
     "data": {
      "text/plain": [
       "['컨설팅부문 Customer 팀 Data Scientist 컨설턴트 경력직',\n",
       " 'Data Scientist',\n",
       " 'Data Scientist 채용',\n",
       " '[빅밸류] Data Scientist(공통) 모집',\n",
       " '[CORNERSTONE42] Data Scientist 모집',\n",
       " 'Data Scientist (영어회화 필수)',\n",
       " 'Senior Data Scientist (3년 이상)',\n",
       " 'AI R&D / 3D 비전 / 개발 / Data Scientist 병역 특례 전문연구요원 모집',\n",
       " '데이터 분석 (Data Scientist) 채용',\n",
       " '[CTO] AI Scientist-추천/예측 경력사원 채용',\n",
       " '[브이엠에스솔루션스] 2024년 각부문별 채용',\n",
       " '[토스뱅크] CSS Modeler (기획/운영)',\n",
       " '[성수동 스타트업] 바이오 생명공학 산업 분석 시장조사 리서치 직무 모집',\n",
       " '[AB180] Marketing Data Consultant 채용',\n",
       " '[성수동 스타트업] 생명공학 계열 전공 글로벌 BD 모집',\n",
       " '국내 그룹사(산업 플랜트) - AI Data Scientist 경력직',\n",
       " '[AI솔루션 기업] Data Scientist(4-8년차)',\n",
       " '06 DATA Engineer, Data Scientist [글로벌 헬스케어 스타트업 개발자 채용] - 베스트네트워크㈜',\n",
       " 'Data Scientist-초대형 유통그룹 전자제품 전문 유통 회사',\n",
       " 'Data Scientist(Dynamic Pricing)-종합물류 대기업']"
      ]
     },
     "metadata": {},
     "execution_count": 83
    }
   ]
  },
  {
   "cell_type": "code",
   "source": [
    "infos"
   ],
   "metadata": {
    "colab": {
     "base_uri": "https://localhost:8080/"
    },
    "id": "KbR-Kb6WY2e_",
    "executionInfo": {
     "status": "ok",
     "timestamp": 1727768800317,
     "user_tz": -540,
     "elapsed": 376,
     "user": {
      "displayName": "Yongjin Jeong",
      "userId": "03658406798560557048"
     }
    },
    "outputId": "5af2863f-b003-4389-b50b-2c9660608cba"
   },
   "execution_count": 84,
   "outputs": [
    {
     "output_type": "execute_result",
     "data": {
      "text/plain": [
       "[' 경력3년↑ 대졸↑ 정규직 서울 영등포구 D-5',\n",
       " ' 경력2년↑ 학력무관 정규직 서울 강남구 D-25',\n",
       " ' 경력3년↑ 대졸↑ 정규직 서울 성동구 상시채용',\n",
       " ' 경력무관 학력무관 정규직 서울 중구 상시채용',\n",
       " ' 신입·경력3년↑ 대졸↑ 정규직 서울 송파구 외 D-18',\n",
       " ' 경력3년↑ 석사↑ 정규직 서울 중구 D-21',\n",
       " ' 경력3년↑ 대졸↑ 정규직 서울 강남구 상시채용',\n",
       " ' 신입·경력 석사↑ 정규직 외 서울 구로구 상시채용',\n",
       " ' 신입·경력 학력무관 정규직 외 서울 용산구 D-13',\n",
       " ' 경력 대졸↑ 서울 강서구 D-8',\n",
       " ' 신입·경력 학력무관 정규직 외 서울 전지역 외 D-10',\n",
       " ' 경력3년↑ 학력무관 정규직 서울 강남구 D-34',\n",
       " ' 신입·경력 대졸↑ 계약직 서울 성동구 D-25',\n",
       " ' 경력1년↑ 학력무관 정규직 서울 서초구 상시채용',\n",
       " ' 경력 석사↑ 정규직 외 서울 성동구 D-19',\n",
       " ' 경력5년↑ 석사↑ 정규직 서울 전지역 D-23',\n",
       " ' 경력4년↑ 박사↑ 정규직 서울 중구 D-54',\n",
       " ' 경력 학력무관 정규직 서울 구로구 D-5',\n",
       " ' 경력5년↑ 대졸↑ 정규직 서울 전지역 D-29',\n",
       " ' 경력7년↑ 대졸↑ 정규직 서울 전지역 D-26']"
      ]
     },
     "metadata": {},
     "execution_count": 84
    }
   ]
  },
  {
   "cell_type": "code",
   "execution_count": 85,
   "metadata": {
    "colab": {
     "base_uri": "https://localhost:8080/",
     "height": 677
    },
    "executionInfo": {
     "elapsed": 27,
     "status": "ok",
     "timestamp": 1727768800317,
     "user": {
      "displayName": "Yongjin Jeong",
      "userId": "03658406798560557048"
     },
     "user_tz": -540
    },
    "id": "G-y93uo6QqJ_",
    "outputId": "d8250044-1913-4ebb-a511-90c95afe4987"
   },
   "outputs": [
    {
     "output_type": "execute_result",
     "data": {
      "text/plain": [
       "           names                                             titles  \\\n",
       "0         한영회계법인           컨설팅부문 Customer 팀 Data Scientist 컨설턴트 경력직   \n",
       "1            야놀자                                     Data Scientist   \n",
       "2         바이온사이트                                  Data Scientist 채용   \n",
       "3           ㈜빅밸류                        [빅밸류] Data Scientist(공통) 모집   \n",
       "4        ㈜코너스톤42                  [CORNERSTONE42] Data Scientist 모집   \n",
       "5       ㈜마인드에이아이                           Data Scientist (영어회화 필수)   \n",
       "6       주식회사 데이블                      Senior Data Scientist (3년 이상)   \n",
       "7          ㈜델타엑스  AI R&D / 3D 비전 / 개발 / Data Scientist 병역 특례 전문연...   \n",
       "8         ㈜에이브랩스                         데이터 분석 (Data Scientist) 채용   \n",
       "9         엘지유플러스                   [CTO] AI Scientist-추천/예측 경력사원 채용   \n",
       "10     브이엠에스솔루션스                          [브이엠에스솔루션스] 2024년 각부문별 채용   \n",
       "11      ㈜비바리퍼블리카                         [토스뱅크] CSS Modeler (기획/운영)   \n",
       "12         바이오북㈜           [성수동 스타트업] 바이오 생명공학 산업 분석 시장조사 리서치 직무 모집   \n",
       "13       ㈜에이비일팔공               [AB180] Marketing Data Consultant 채용   \n",
       "14         바이오북㈜                    [성수동 스타트업] 생명공학 계열 전공 글로벌 BD 모집   \n",
       "15           대기업             국내 그룹사(산업 플랜트) - AI Data Scientist 경력직   \n",
       "16  중소기업(300명이하)                   [AI솔루션 기업] Data Scientist(4-8년차)   \n",
       "17  중소기업(300명이하)  06 DATA Engineer, Data Scientist [글로벌 헬스케어 스타트...   \n",
       "18  중견기업(300명이상)              Data Scientist-초대형 유통그룹 전자제품 전문 유통 회사   \n",
       "19           대기업           Data Scientist(Dynamic Pricing)-종합물류 대기업   \n",
       "\n",
       "                              infos  \n",
       "0         경력3년↑ 대졸↑ 정규직 서울 영등포구 D-5  \n",
       "1        경력2년↑ 학력무관 정규직 서울 강남구 D-25  \n",
       "2         경력3년↑ 대졸↑ 정규직 서울 성동구 상시채용  \n",
       "3          경력무관 학력무관 정규직 서울 중구 상시채용  \n",
       "4    신입·경력3년↑ 대졸↑ 정규직 서울 송파구 외 D-18  \n",
       "5          경력3년↑ 석사↑ 정규직 서울 중구 D-21  \n",
       "6         경력3년↑ 대졸↑ 정규직 서울 강남구 상시채용  \n",
       "7       신입·경력 석사↑ 정규직 외 서울 구로구 상시채용  \n",
       "8      신입·경력 학력무관 정규직 외 서울 용산구 D-13  \n",
       "9                 경력 대졸↑ 서울 강서구 D-8  \n",
       "10   신입·경력 학력무관 정규직 외 서울 전지역 외 D-10  \n",
       "11       경력3년↑ 학력무관 정규직 서울 강남구 D-34  \n",
       "12        신입·경력 대졸↑ 계약직 서울 성동구 D-25  \n",
       "13       경력1년↑ 학력무관 정규직 서울 서초구 상시채용  \n",
       "14         경력 석사↑ 정규직 외 서울 성동구 D-19  \n",
       "15        경력5년↑ 석사↑ 정규직 서울 전지역 D-23  \n",
       "16         경력4년↑ 박사↑ 정규직 서울 중구 D-54  \n",
       "17           경력 학력무관 정규직 서울 구로구 D-5  \n",
       "18        경력5년↑ 대졸↑ 정규직 서울 전지역 D-29  \n",
       "19        경력7년↑ 대졸↑ 정규직 서울 전지역 D-26  "
      ],
      "text/html": [
       "\n",
       "  <div id=\"df-72e42428-eb97-4481-bd9b-08ec3e88ac15\" class=\"colab-df-container\">\n",
       "    <div>\n",
       "<style scoped>\n",
       "    .dataframe tbody tr th:only-of-type {\n",
       "        vertical-align: middle;\n",
       "    }\n",
       "\n",
       "    .dataframe tbody tr th {\n",
       "        vertical-align: top;\n",
       "    }\n",
       "\n",
       "    .dataframe thead th {\n",
       "        text-align: right;\n",
       "    }\n",
       "</style>\n",
       "<table border=\"1\" class=\"dataframe\">\n",
       "  <thead>\n",
       "    <tr style=\"text-align: right;\">\n",
       "      <th></th>\n",
       "      <th>names</th>\n",
       "      <th>titles</th>\n",
       "      <th>infos</th>\n",
       "    </tr>\n",
       "  </thead>\n",
       "  <tbody>\n",
       "    <tr>\n",
       "      <th>0</th>\n",
       "      <td>한영회계법인</td>\n",
       "      <td>컨설팅부문 Customer 팀 Data Scientist 컨설턴트 경력직</td>\n",
       "      <td>경력3년↑ 대졸↑ 정규직 서울 영등포구 D-5</td>\n",
       "    </tr>\n",
       "    <tr>\n",
       "      <th>1</th>\n",
       "      <td>야놀자</td>\n",
       "      <td>Data Scientist</td>\n",
       "      <td>경력2년↑ 학력무관 정규직 서울 강남구 D-25</td>\n",
       "    </tr>\n",
       "    <tr>\n",
       "      <th>2</th>\n",
       "      <td>바이온사이트</td>\n",
       "      <td>Data Scientist 채용</td>\n",
       "      <td>경력3년↑ 대졸↑ 정규직 서울 성동구 상시채용</td>\n",
       "    </tr>\n",
       "    <tr>\n",
       "      <th>3</th>\n",
       "      <td>㈜빅밸류</td>\n",
       "      <td>[빅밸류] Data Scientist(공통) 모집</td>\n",
       "      <td>경력무관 학력무관 정규직 서울 중구 상시채용</td>\n",
       "    </tr>\n",
       "    <tr>\n",
       "      <th>4</th>\n",
       "      <td>㈜코너스톤42</td>\n",
       "      <td>[CORNERSTONE42] Data Scientist 모집</td>\n",
       "      <td>신입·경력3년↑ 대졸↑ 정규직 서울 송파구 외 D-18</td>\n",
       "    </tr>\n",
       "    <tr>\n",
       "      <th>5</th>\n",
       "      <td>㈜마인드에이아이</td>\n",
       "      <td>Data Scientist (영어회화 필수)</td>\n",
       "      <td>경력3년↑ 석사↑ 정규직 서울 중구 D-21</td>\n",
       "    </tr>\n",
       "    <tr>\n",
       "      <th>6</th>\n",
       "      <td>주식회사 데이블</td>\n",
       "      <td>Senior Data Scientist (3년 이상)</td>\n",
       "      <td>경력3년↑ 대졸↑ 정규직 서울 강남구 상시채용</td>\n",
       "    </tr>\n",
       "    <tr>\n",
       "      <th>7</th>\n",
       "      <td>㈜델타엑스</td>\n",
       "      <td>AI R&amp;D / 3D 비전 / 개발 / Data Scientist 병역 특례 전문연...</td>\n",
       "      <td>신입·경력 석사↑ 정규직 외 서울 구로구 상시채용</td>\n",
       "    </tr>\n",
       "    <tr>\n",
       "      <th>8</th>\n",
       "      <td>㈜에이브랩스</td>\n",
       "      <td>데이터 분석 (Data Scientist) 채용</td>\n",
       "      <td>신입·경력 학력무관 정규직 외 서울 용산구 D-13</td>\n",
       "    </tr>\n",
       "    <tr>\n",
       "      <th>9</th>\n",
       "      <td>엘지유플러스</td>\n",
       "      <td>[CTO] AI Scientist-추천/예측 경력사원 채용</td>\n",
       "      <td>경력 대졸↑ 서울 강서구 D-8</td>\n",
       "    </tr>\n",
       "    <tr>\n",
       "      <th>10</th>\n",
       "      <td>브이엠에스솔루션스</td>\n",
       "      <td>[브이엠에스솔루션스] 2024년 각부문별 채용</td>\n",
       "      <td>신입·경력 학력무관 정규직 외 서울 전지역 외 D-10</td>\n",
       "    </tr>\n",
       "    <tr>\n",
       "      <th>11</th>\n",
       "      <td>㈜비바리퍼블리카</td>\n",
       "      <td>[토스뱅크] CSS Modeler (기획/운영)</td>\n",
       "      <td>경력3년↑ 학력무관 정규직 서울 강남구 D-34</td>\n",
       "    </tr>\n",
       "    <tr>\n",
       "      <th>12</th>\n",
       "      <td>바이오북㈜</td>\n",
       "      <td>[성수동 스타트업] 바이오 생명공학 산업 분석 시장조사 리서치 직무 모집</td>\n",
       "      <td>신입·경력 대졸↑ 계약직 서울 성동구 D-25</td>\n",
       "    </tr>\n",
       "    <tr>\n",
       "      <th>13</th>\n",
       "      <td>㈜에이비일팔공</td>\n",
       "      <td>[AB180] Marketing Data Consultant 채용</td>\n",
       "      <td>경력1년↑ 학력무관 정규직 서울 서초구 상시채용</td>\n",
       "    </tr>\n",
       "    <tr>\n",
       "      <th>14</th>\n",
       "      <td>바이오북㈜</td>\n",
       "      <td>[성수동 스타트업] 생명공학 계열 전공 글로벌 BD 모집</td>\n",
       "      <td>경력 석사↑ 정규직 외 서울 성동구 D-19</td>\n",
       "    </tr>\n",
       "    <tr>\n",
       "      <th>15</th>\n",
       "      <td>대기업</td>\n",
       "      <td>국내 그룹사(산업 플랜트) - AI Data Scientist 경력직</td>\n",
       "      <td>경력5년↑ 석사↑ 정규직 서울 전지역 D-23</td>\n",
       "    </tr>\n",
       "    <tr>\n",
       "      <th>16</th>\n",
       "      <td>중소기업(300명이하)</td>\n",
       "      <td>[AI솔루션 기업] Data Scientist(4-8년차)</td>\n",
       "      <td>경력4년↑ 박사↑ 정규직 서울 중구 D-54</td>\n",
       "    </tr>\n",
       "    <tr>\n",
       "      <th>17</th>\n",
       "      <td>중소기업(300명이하)</td>\n",
       "      <td>06 DATA Engineer, Data Scientist [글로벌 헬스케어 스타트...</td>\n",
       "      <td>경력 학력무관 정규직 서울 구로구 D-5</td>\n",
       "    </tr>\n",
       "    <tr>\n",
       "      <th>18</th>\n",
       "      <td>중견기업(300명이상)</td>\n",
       "      <td>Data Scientist-초대형 유통그룹 전자제품 전문 유통 회사</td>\n",
       "      <td>경력5년↑ 대졸↑ 정규직 서울 전지역 D-29</td>\n",
       "    </tr>\n",
       "    <tr>\n",
       "      <th>19</th>\n",
       "      <td>대기업</td>\n",
       "      <td>Data Scientist(Dynamic Pricing)-종합물류 대기업</td>\n",
       "      <td>경력7년↑ 대졸↑ 정규직 서울 전지역 D-26</td>\n",
       "    </tr>\n",
       "  </tbody>\n",
       "</table>\n",
       "</div>\n",
       "    <div class=\"colab-df-buttons\">\n",
       "\n",
       "  <div class=\"colab-df-container\">\n",
       "    <button class=\"colab-df-convert\" onclick=\"convertToInteractive('df-72e42428-eb97-4481-bd9b-08ec3e88ac15')\"\n",
       "            title=\"Convert this dataframe to an interactive table.\"\n",
       "            style=\"display:none;\">\n",
       "\n",
       "  <svg xmlns=\"http://www.w3.org/2000/svg\" height=\"24px\" viewBox=\"0 -960 960 960\">\n",
       "    <path d=\"M120-120v-720h720v720H120Zm60-500h600v-160H180v160Zm220 220h160v-160H400v160Zm0 220h160v-160H400v160ZM180-400h160v-160H180v160Zm440 0h160v-160H620v160ZM180-180h160v-160H180v160Zm440 0h160v-160H620v160Z\"/>\n",
       "  </svg>\n",
       "    </button>\n",
       "\n",
       "  <style>\n",
       "    .colab-df-container {\n",
       "      display:flex;\n",
       "      gap: 12px;\n",
       "    }\n",
       "\n",
       "    .colab-df-convert {\n",
       "      background-color: #E8F0FE;\n",
       "      border: none;\n",
       "      border-radius: 50%;\n",
       "      cursor: pointer;\n",
       "      display: none;\n",
       "      fill: #1967D2;\n",
       "      height: 32px;\n",
       "      padding: 0 0 0 0;\n",
       "      width: 32px;\n",
       "    }\n",
       "\n",
       "    .colab-df-convert:hover {\n",
       "      background-color: #E2EBFA;\n",
       "      box-shadow: 0px 1px 2px rgba(60, 64, 67, 0.3), 0px 1px 3px 1px rgba(60, 64, 67, 0.15);\n",
       "      fill: #174EA6;\n",
       "    }\n",
       "\n",
       "    .colab-df-buttons div {\n",
       "      margin-bottom: 4px;\n",
       "    }\n",
       "\n",
       "    [theme=dark] .colab-df-convert {\n",
       "      background-color: #3B4455;\n",
       "      fill: #D2E3FC;\n",
       "    }\n",
       "\n",
       "    [theme=dark] .colab-df-convert:hover {\n",
       "      background-color: #434B5C;\n",
       "      box-shadow: 0px 1px 3px 1px rgba(0, 0, 0, 0.15);\n",
       "      filter: drop-shadow(0px 1px 2px rgba(0, 0, 0, 0.3));\n",
       "      fill: #FFFFFF;\n",
       "    }\n",
       "  </style>\n",
       "\n",
       "    <script>\n",
       "      const buttonEl =\n",
       "        document.querySelector('#df-72e42428-eb97-4481-bd9b-08ec3e88ac15 button.colab-df-convert');\n",
       "      buttonEl.style.display =\n",
       "        google.colab.kernel.accessAllowed ? 'block' : 'none';\n",
       "\n",
       "      async function convertToInteractive(key) {\n",
       "        const element = document.querySelector('#df-72e42428-eb97-4481-bd9b-08ec3e88ac15');\n",
       "        const dataTable =\n",
       "          await google.colab.kernel.invokeFunction('convertToInteractive',\n",
       "                                                    [key], {});\n",
       "        if (!dataTable) return;\n",
       "\n",
       "        const docLinkHtml = 'Like what you see? Visit the ' +\n",
       "          '<a target=\"_blank\" href=https://colab.research.google.com/notebooks/data_table.ipynb>data table notebook</a>'\n",
       "          + ' to learn more about interactive tables.';\n",
       "        element.innerHTML = '';\n",
       "        dataTable['output_type'] = 'display_data';\n",
       "        await google.colab.output.renderOutput(dataTable, element);\n",
       "        const docLink = document.createElement('div');\n",
       "        docLink.innerHTML = docLinkHtml;\n",
       "        element.appendChild(docLink);\n",
       "      }\n",
       "    </script>\n",
       "  </div>\n",
       "\n",
       "\n",
       "<div id=\"df-bd037958-5d16-4b06-9c28-8d4353057013\">\n",
       "  <button class=\"colab-df-quickchart\" onclick=\"quickchart('df-bd037958-5d16-4b06-9c28-8d4353057013')\"\n",
       "            title=\"Suggest charts\"\n",
       "            style=\"display:none;\">\n",
       "\n",
       "<svg xmlns=\"http://www.w3.org/2000/svg\" height=\"24px\"viewBox=\"0 0 24 24\"\n",
       "     width=\"24px\">\n",
       "    <g>\n",
       "        <path d=\"M19 3H5c-1.1 0-2 .9-2 2v14c0 1.1.9 2 2 2h14c1.1 0 2-.9 2-2V5c0-1.1-.9-2-2-2zM9 17H7v-7h2v7zm4 0h-2V7h2v10zm4 0h-2v-4h2v4z\"/>\n",
       "    </g>\n",
       "</svg>\n",
       "  </button>\n",
       "\n",
       "<style>\n",
       "  .colab-df-quickchart {\n",
       "      --bg-color: #E8F0FE;\n",
       "      --fill-color: #1967D2;\n",
       "      --hover-bg-color: #E2EBFA;\n",
       "      --hover-fill-color: #174EA6;\n",
       "      --disabled-fill-color: #AAA;\n",
       "      --disabled-bg-color: #DDD;\n",
       "  }\n",
       "\n",
       "  [theme=dark] .colab-df-quickchart {\n",
       "      --bg-color: #3B4455;\n",
       "      --fill-color: #D2E3FC;\n",
       "      --hover-bg-color: #434B5C;\n",
       "      --hover-fill-color: #FFFFFF;\n",
       "      --disabled-bg-color: #3B4455;\n",
       "      --disabled-fill-color: #666;\n",
       "  }\n",
       "\n",
       "  .colab-df-quickchart {\n",
       "    background-color: var(--bg-color);\n",
       "    border: none;\n",
       "    border-radius: 50%;\n",
       "    cursor: pointer;\n",
       "    display: none;\n",
       "    fill: var(--fill-color);\n",
       "    height: 32px;\n",
       "    padding: 0;\n",
       "    width: 32px;\n",
       "  }\n",
       "\n",
       "  .colab-df-quickchart:hover {\n",
       "    background-color: var(--hover-bg-color);\n",
       "    box-shadow: 0 1px 2px rgba(60, 64, 67, 0.3), 0 1px 3px 1px rgba(60, 64, 67, 0.15);\n",
       "    fill: var(--button-hover-fill-color);\n",
       "  }\n",
       "\n",
       "  .colab-df-quickchart-complete:disabled,\n",
       "  .colab-df-quickchart-complete:disabled:hover {\n",
       "    background-color: var(--disabled-bg-color);\n",
       "    fill: var(--disabled-fill-color);\n",
       "    box-shadow: none;\n",
       "  }\n",
       "\n",
       "  .colab-df-spinner {\n",
       "    border: 2px solid var(--fill-color);\n",
       "    border-color: transparent;\n",
       "    border-bottom-color: var(--fill-color);\n",
       "    animation:\n",
       "      spin 1s steps(1) infinite;\n",
       "  }\n",
       "\n",
       "  @keyframes spin {\n",
       "    0% {\n",
       "      border-color: transparent;\n",
       "      border-bottom-color: var(--fill-color);\n",
       "      border-left-color: var(--fill-color);\n",
       "    }\n",
       "    20% {\n",
       "      border-color: transparent;\n",
       "      border-left-color: var(--fill-color);\n",
       "      border-top-color: var(--fill-color);\n",
       "    }\n",
       "    30% {\n",
       "      border-color: transparent;\n",
       "      border-left-color: var(--fill-color);\n",
       "      border-top-color: var(--fill-color);\n",
       "      border-right-color: var(--fill-color);\n",
       "    }\n",
       "    40% {\n",
       "      border-color: transparent;\n",
       "      border-right-color: var(--fill-color);\n",
       "      border-top-color: var(--fill-color);\n",
       "    }\n",
       "    60% {\n",
       "      border-color: transparent;\n",
       "      border-right-color: var(--fill-color);\n",
       "    }\n",
       "    80% {\n",
       "      border-color: transparent;\n",
       "      border-right-color: var(--fill-color);\n",
       "      border-bottom-color: var(--fill-color);\n",
       "    }\n",
       "    90% {\n",
       "      border-color: transparent;\n",
       "      border-bottom-color: var(--fill-color);\n",
       "    }\n",
       "  }\n",
       "</style>\n",
       "\n",
       "  <script>\n",
       "    async function quickchart(key) {\n",
       "      const quickchartButtonEl =\n",
       "        document.querySelector('#' + key + ' button');\n",
       "      quickchartButtonEl.disabled = true;  // To prevent multiple clicks.\n",
       "      quickchartButtonEl.classList.add('colab-df-spinner');\n",
       "      try {\n",
       "        const charts = await google.colab.kernel.invokeFunction(\n",
       "            'suggestCharts', [key], {});\n",
       "      } catch (error) {\n",
       "        console.error('Error during call to suggestCharts:', error);\n",
       "      }\n",
       "      quickchartButtonEl.classList.remove('colab-df-spinner');\n",
       "      quickchartButtonEl.classList.add('colab-df-quickchart-complete');\n",
       "    }\n",
       "    (() => {\n",
       "      let quickchartButtonEl =\n",
       "        document.querySelector('#df-bd037958-5d16-4b06-9c28-8d4353057013 button');\n",
       "      quickchartButtonEl.style.display =\n",
       "        google.colab.kernel.accessAllowed ? 'block' : 'none';\n",
       "    })();\n",
       "  </script>\n",
       "</div>\n",
       "\n",
       "    </div>\n",
       "  </div>\n"
      ],
      "application/vnd.google.colaboratory.intrinsic+json": {
       "type": "dataframe",
       "summary": "{\n  \"name\": \"             columns=[\\\"names\\\", \\\"titles\\\", \\\"infos\\\"])\",\n  \"rows\": 20,\n  \"fields\": [\n    {\n      \"column\": \"names\",\n      \"properties\": {\n        \"dtype\": \"string\",\n        \"num_unique_values\": 17,\n        \"samples\": [\n          \"\\ud55c\\uc601\\ud68c\\uacc4\\ubc95\\uc778\",\n          \"\\uc57c\\ub180\\uc790\",\n          \"\\u321c\\ub9c8\\uc778\\ub4dc\\uc5d0\\uc774\\uc544\\uc774\"\n        ],\n        \"semantic_type\": \"\",\n        \"description\": \"\"\n      }\n    },\n    {\n      \"column\": \"titles\",\n      \"properties\": {\n        \"dtype\": \"string\",\n        \"num_unique_values\": 20,\n        \"samples\": [\n          \"\\ucee8\\uc124\\ud305\\ubd80\\ubb38 Customer \\ud300 Data Scientist \\ucee8\\uc124\\ud134\\ud2b8 \\uacbd\\ub825\\uc9c1\",\n          \"06 DATA Engineer, Data Scientist [\\uae00\\ub85c\\ubc8c \\ud5ec\\uc2a4\\ucf00\\uc5b4 \\uc2a4\\ud0c0\\ud2b8\\uc5c5 \\uac1c\\ubc1c\\uc790 \\ucc44\\uc6a9] - \\ubca0\\uc2a4\\ud2b8\\ub124\\ud2b8\\uc6cc\\ud06c\\u321c\",\n          \"\\uad6d\\ub0b4 \\uadf8\\ub8f9\\uc0ac(\\uc0b0\\uc5c5 \\ud50c\\ub79c\\ud2b8) - AI Data Scientist \\uacbd\\ub825\\uc9c1\"\n        ],\n        \"semantic_type\": \"\",\n        \"description\": \"\"\n      }\n    },\n    {\n      \"column\": \"infos\",\n      \"properties\": {\n        \"dtype\": \"string\",\n        \"num_unique_values\": 20,\n        \"samples\": [\n          \" \\uacbd\\ub8253\\ub144\\u2191 \\ub300\\uc878\\u2191 \\uc815\\uaddc\\uc9c1 \\uc11c\\uc6b8 \\uc601\\ub4f1\\ud3ec\\uad6c D-5\",\n          \" \\uacbd\\ub825 \\ud559\\ub825\\ubb34\\uad00 \\uc815\\uaddc\\uc9c1 \\uc11c\\uc6b8 \\uad6c\\ub85c\\uad6c D-5\",\n          \" \\uacbd\\ub8255\\ub144\\u2191 \\uc11d\\uc0ac\\u2191 \\uc815\\uaddc\\uc9c1 \\uc11c\\uc6b8 \\uc804\\uc9c0\\uc5ed D-23\"\n        ],\n        \"semantic_type\": \"\",\n        \"description\": \"\"\n      }\n    }\n  ]\n}"
      }
     },
     "metadata": {},
     "execution_count": 85
    }
   ],
   "source": [
    "pd.DataFrame(np.c_[names, titles, infos],\n",
    "             columns=[\"names\", \"titles\", \"infos\"])"
   ]
  },
  {
   "cell_type": "markdown",
   "metadata": {
    "id": "kkdRqZdbxxiA"
   },
   "source": [
    "# Exercise\n",
    "- .text: extract the combined text content of an element and its descendants. (recommended)\n",
    "- .string: extract the text content of an individual element without considering any nested elements.\n",
    "- It's important to note that the string attribute can only be used when an element has a single string as its content. If an element has multiple strings or tags, string will return None.\n",
    "- In summary, text returns the combined text content of an element and its descendants, while string returns the text content of an individual element without considering its children.\n"
   ]
  },
  {
   "cell_type": "code",
   "execution_count": 86,
   "metadata": {
    "id": "A9_b58Z0mSow",
    "executionInfo": {
     "status": "ok",
     "timestamp": 1727768800317,
     "user_tz": -540,
     "elapsed": 24,
     "user": {
      "displayName": "Yongjin Jeong",
      "userId": "03658406798560557048"
     }
    }
   },
   "outputs": [],
   "source": [
    "# .text and .string\n",
    "html_text = \"\"\"\n",
    "<html>\n",
    "<body>\n",
    "  <td>some text</td>\n",
    "  <td></td>\n",
    "  <td><p>more text</p></td>\n",
    "  <td>even <p>more text</p></td>\"\n",
    "</body>\n",
    "</html>\n",
    "\"\"\"\n",
    "soup = BeautifulSoup(html_text, 'html.parser')"
   ]
  },
  {
   "cell_type": "code",
   "execution_count": 87,
   "metadata": {
    "colab": {
     "base_uri": "https://localhost:8080/"
    },
    "executionInfo": {
     "elapsed": 24,
     "status": "ok",
     "timestamp": 1727768800318,
     "user": {
      "displayName": "Yongjin Jeong",
      "userId": "03658406798560557048"
     },
     "user_tz": -540
    },
    "id": "i7GzPmb9no8p",
    "outputId": "51bcf2f8-795a-4d45-fdf1-6817067dac7e"
   },
   "outputs": [
    {
     "output_type": "execute_result",
     "data": {
      "text/plain": [
       "[<td>some text</td>,\n",
       " <td></td>,\n",
       " <td><p>more text</p></td>,\n",
       " <td>even <p>more text</p></td>]"
      ]
     },
     "metadata": {},
     "execution_count": 87
    }
   ],
   "source": [
    "soup.find_all('td')"
   ]
  },
  {
   "cell_type": "code",
   "execution_count": 88,
   "metadata": {
    "colab": {
     "base_uri": "https://localhost:8080/"
    },
    "executionInfo": {
     "elapsed": 18,
     "status": "ok",
     "timestamp": 1727768800318,
     "user": {
      "displayName": "Yongjin Jeong",
      "userId": "03658406798560557048"
     },
     "user_tz": -540
    },
    "id": "dQor6I9Xmvgn",
    "outputId": "a6602299-2609-4e04-80bf-1db22fcc68a9"
   },
   "outputs": [
    {
     "output_type": "stream",
     "name": "stdout",
     "text": [
      "some text\n",
      "None\n",
      "more text\n",
      "None\n"
     ]
    }
   ],
   "source": [
    "for i in soup.find_all('td'):\n",
    "    print(i.string)"
   ]
  },
  {
   "cell_type": "code",
   "execution_count": 89,
   "metadata": {
    "colab": {
     "base_uri": "https://localhost:8080/"
    },
    "executionInfo": {
     "elapsed": 12,
     "status": "ok",
     "timestamp": 1727768800318,
     "user": {
      "displayName": "Yongjin Jeong",
      "userId": "03658406798560557048"
     },
     "user_tz": -540
    },
    "id": "axjOERSenRjn",
    "outputId": "1f736b99-67d1-47fb-9282-5ea608fe319a"
   },
   "outputs": [
    {
     "output_type": "stream",
     "name": "stdout",
     "text": [
      "some text\n",
      "\n",
      "more text\n",
      "even more text\n"
     ]
    }
   ],
   "source": [
    "for i in soup.find_all('td'):\n",
    "    print(i.text)"
   ]
  },
  {
   "cell_type": "markdown",
   "metadata": {
    "id": "8focbzDsNUPZ"
   },
   "source": [
    "### Request\n",
    "- get\n",
    "- put"
   ]
  },
  {
   "cell_type": "code",
   "execution_count": 90,
   "metadata": {
    "colab": {
     "base_uri": "https://localhost:8080/"
    },
    "executionInfo": {
     "elapsed": 64484,
     "status": "ok",
     "timestamp": 1727768864792,
     "user": {
      "displayName": "Yongjin Jeong",
      "userId": "03658406798560557048"
     },
     "user_tz": -540
    },
    "id": "_qwLijJfNb8Z",
    "outputId": "7972ab1d-4590-4617-91e2-dec380f76b14"
   },
   "outputs": [
    {
     "output_type": "stream",
     "name": "stdout",
     "text": [
      "b'{\"timestamp\": 1727768863, \"iss_position\": {\"latitude\": \"-50.5621\", \"longitude\": \"-83.4433\"}, \"message\": \"success\"}'\n",
      "b'{\"timestamp\": 1727768864, \"iss_position\": {\"latitude\": \"-50.5689\", \"longitude\": \"-83.3958\"}, \"message\": \"success\"}'\n"
     ]
    }
   ],
   "source": [
    "import requests\n",
    "\n",
    "# the following two are the same.\n",
    "parameters = {\"lat\": 40.71, \"lon\": -74}\n",
    "response = requests.get(\"http://api.open-notify.org/iss-now.json\",\n",
    "                        params=parameters)\n",
    "print(response.content)\n",
    "\n",
    "response = requests.get(\"http://api.open-notify.org/iss-now.json?lat=40.71&lon=-74\")\n",
    "print(response.content)"
   ]
  },
  {
   "cell_type": "code",
   "execution_count": 91,
   "metadata": {
    "colab": {
     "base_uri": "https://localhost:8080/"
    },
    "executionInfo": {
     "elapsed": 6,
     "status": "ok",
     "timestamp": 1727768864792,
     "user": {
      "displayName": "Yongjin Jeong",
      "userId": "03658406798560557048"
     },
     "user_tz": -540
    },
    "id": "qwS-6A8bN7Fu",
    "outputId": "28d793fc-bd35-4178-96b2-6c9fc23d1913"
   },
   "outputs": [
    {
     "output_type": "execute_result",
     "data": {
      "text/plain": [
       "200"
      ]
     },
     "metadata": {},
     "execution_count": 91
    }
   ],
   "source": [
    "response.status_code"
   ]
  },
  {
   "cell_type": "code",
   "execution_count": 92,
   "metadata": {
    "id": "qQ37CGZKOMxe",
    "executionInfo": {
     "status": "ok",
     "timestamp": 1727768872073,
     "user_tz": -540,
     "elapsed": 7285,
     "user": {
      "displayName": "Yongjin Jeong",
      "userId": "03658406798560557048"
     }
    }
   },
   "outputs": [],
   "source": [
    "response = requests.get(\"http://api.open-notify.org/iss-now.json\")"
   ]
  },
  {
   "cell_type": "code",
   "execution_count": 93,
   "metadata": {
    "colab": {
     "base_uri": "https://localhost:8080/"
    },
    "executionInfo": {
     "elapsed": 39,
     "status": "ok",
     "timestamp": 1727768872073,
     "user": {
      "displayName": "Yongjin Jeong",
      "userId": "03658406798560557048"
     },
     "user_tz": -540
    },
    "id": "kkiDv8wDO4aO",
    "outputId": "ff10aec2-4f0a-42a6-a8f4-427d129c38e3"
   },
   "outputs": [
    {
     "output_type": "execute_result",
     "data": {
      "text/plain": [
       "b'{\"timestamp\": 1727768871, \"iss_position\": {\"latitude\": \"-50.6620\", \"longitude\": \"-82.7287\"}, \"message\": \"success\"}'"
      ]
     },
     "metadata": {},
     "execution_count": 93
    }
   ],
   "source": [
    "response.content"
   ]
  },
  {
   "cell_type": "markdown",
   "metadata": {
    "id": "vxA9yCzAP6G8"
   },
   "source": [
    "- getting JSON from a request"
   ]
  },
  {
   "cell_type": "code",
   "execution_count": 94,
   "metadata": {
    "colab": {
     "base_uri": "https://localhost:8080/"
    },
    "executionInfo": {
     "elapsed": 29,
     "status": "ok",
     "timestamp": 1727768872073,
     "user": {
      "displayName": "Yongjin Jeong",
      "userId": "03658406798560557048"
     },
     "user_tz": -540
    },
    "id": "n5amZUcbO5tV",
    "outputId": "0756acdf-b182-4767-ad7c-f94ebec4ea5f"
   },
   "outputs": [
    {
     "output_type": "stream",
     "name": "stdout",
     "text": [
      "<class 'dict'>\n",
      "{'timestamp': 1727768871, 'iss_position': {'latitude': '-50.6620', 'longitude': '-82.7287'}, 'message': 'success'}\n"
     ]
    }
   ],
   "source": [
    "# Make the same request we did\n",
    "\n",
    "response = requests.get(\"http://api.open-notify.org/iss-now.json\")\n",
    "\n",
    "# Get the response data as a Python object.  Verify that it's a dictionary.\n",
    "json_data = response.json()\n",
    "print(type(json_data))\n",
    "print(json_data)"
   ]
  },
  {
   "cell_type": "code",
   "execution_count": 95,
   "metadata": {
    "colab": {
     "base_uri": "https://localhost:8080/",
     "height": 53
    },
    "executionInfo": {
     "elapsed": 23,
     "status": "ok",
     "timestamp": 1727768872073,
     "user": {
      "displayName": "Yongjin Jeong",
      "userId": "03658406798560557048"
     },
     "user_tz": -540
    },
    "id": "W03tN8HvQVgS",
    "outputId": "4301386b-c662-4082-b7ae-ea84e930812f"
   },
   "outputs": [
    {
     "output_type": "stream",
     "name": "stdout",
     "text": [
      "{'Server': 'nginx/1.10.3', 'Date': 'Tue, 01 Oct 2024 07:47:51 GMT', 'Content-Type': 'application/json', 'Content-Length': '114', 'Connection': 'keep-alive', 'access-control-allow-origin': '*'}\n"
     ]
    },
    {
     "output_type": "execute_result",
     "data": {
      "text/plain": [
       "'application/json'"
      ],
      "application/vnd.google.colaboratory.intrinsic+json": {
       "type": "string"
      }
     },
     "metadata": {},
     "execution_count": 95
    }
   ],
   "source": [
    "# Headers is a dictionary\n",
    "print(response.headers)\n",
    "content_type = response.headers['Content-Type']\n",
    "content_type"
   ]
  }
 ],
 "metadata": {
  "colab": {
   "provenance": [],
   "collapsed_sections": [
    "qTwAdY9S5wGr"
   ]
  },
  "kernelspec": {
   "display_name": "Python 3",
   "language": "python",
   "name": "python3"
  },
  "language_info": {
   "codemirror_mode": {
    "name": "ipython",
    "version": 3
   },
   "file_extension": ".py",
   "mimetype": "text/x-python",
   "name": "python",
   "nbconvert_exporter": "python",
   "pygments_lexer": "ipython3",
   "version": "3.8.5"
  }
 },
 "nbformat": 4,
 "nbformat_minor": 0
}
