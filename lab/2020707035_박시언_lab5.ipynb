{
 "cells": [
  {
   "cell_type": "code",
   "id": "initial_id",
   "metadata": {
    "collapsed": true,
    "ExecuteTime": {
     "end_time": "2024-10-30T15:34:16.078819Z",
     "start_time": "2024-10-30T15:34:15.521037Z"
    }
   },
   "source": [
    "from tkinter import YView, XView\n",
    "\n",
    "import numpy as np\n",
    "import pandas as pd\n",
    "\n",
    "data = pd.read_csv(\"https://raw.githubusercontent.com/datasciencedojo/datasets/master/titanic.csv\")"
   ],
   "outputs": [],
   "execution_count": 127
  },
  {
   "metadata": {
    "ExecuteTime": {
     "end_time": "2024-10-30T15:34:16.095620Z",
     "start_time": "2024-10-30T15:34:16.089416Z"
    }
   },
   "cell_type": "code",
   "source": "data",
   "id": "8268d5988869eca3",
   "outputs": [
    {
     "data": {
      "text/plain": [
       "     PassengerId  Survived  Pclass  \\\n",
       "0              1         0       3   \n",
       "1              2         1       1   \n",
       "2              3         1       3   \n",
       "3              4         1       1   \n",
       "4              5         0       3   \n",
       "..           ...       ...     ...   \n",
       "886          887         0       2   \n",
       "887          888         1       1   \n",
       "888          889         0       3   \n",
       "889          890         1       1   \n",
       "890          891         0       3   \n",
       "\n",
       "                                                  Name     Sex   Age  SibSp  \\\n",
       "0                              Braund, Mr. Owen Harris    male  22.0      1   \n",
       "1    Cumings, Mrs. John Bradley (Florence Briggs Th...  female  38.0      1   \n",
       "2                               Heikkinen, Miss. Laina  female  26.0      0   \n",
       "3         Futrelle, Mrs. Jacques Heath (Lily May Peel)  female  35.0      1   \n",
       "4                             Allen, Mr. William Henry    male  35.0      0   \n",
       "..                                                 ...     ...   ...    ...   \n",
       "886                              Montvila, Rev. Juozas    male  27.0      0   \n",
       "887                       Graham, Miss. Margaret Edith  female  19.0      0   \n",
       "888           Johnston, Miss. Catherine Helen \"Carrie\"  female   NaN      1   \n",
       "889                              Behr, Mr. Karl Howell    male  26.0      0   \n",
       "890                                Dooley, Mr. Patrick    male  32.0      0   \n",
       "\n",
       "     Parch            Ticket     Fare Cabin Embarked  \n",
       "0        0         A/5 21171   7.2500   NaN        S  \n",
       "1        0          PC 17599  71.2833   C85        C  \n",
       "2        0  STON/O2. 3101282   7.9250   NaN        S  \n",
       "3        0            113803  53.1000  C123        S  \n",
       "4        0            373450   8.0500   NaN        S  \n",
       "..     ...               ...      ...   ...      ...  \n",
       "886      0            211536  13.0000   NaN        S  \n",
       "887      0            112053  30.0000   B42        S  \n",
       "888      2        W./C. 6607  23.4500   NaN        S  \n",
       "889      0            111369  30.0000  C148        C  \n",
       "890      0            370376   7.7500   NaN        Q  \n",
       "\n",
       "[891 rows x 12 columns]"
      ],
      "text/html": [
       "<div>\n",
       "<style scoped>\n",
       "    .dataframe tbody tr th:only-of-type {\n",
       "        vertical-align: middle;\n",
       "    }\n",
       "\n",
       "    .dataframe tbody tr th {\n",
       "        vertical-align: top;\n",
       "    }\n",
       "\n",
       "    .dataframe thead th {\n",
       "        text-align: right;\n",
       "    }\n",
       "</style>\n",
       "<table border=\"1\" class=\"dataframe\">\n",
       "  <thead>\n",
       "    <tr style=\"text-align: right;\">\n",
       "      <th></th>\n",
       "      <th>PassengerId</th>\n",
       "      <th>Survived</th>\n",
       "      <th>Pclass</th>\n",
       "      <th>Name</th>\n",
       "      <th>Sex</th>\n",
       "      <th>Age</th>\n",
       "      <th>SibSp</th>\n",
       "      <th>Parch</th>\n",
       "      <th>Ticket</th>\n",
       "      <th>Fare</th>\n",
       "      <th>Cabin</th>\n",
       "      <th>Embarked</th>\n",
       "    </tr>\n",
       "  </thead>\n",
       "  <tbody>\n",
       "    <tr>\n",
       "      <th>0</th>\n",
       "      <td>1</td>\n",
       "      <td>0</td>\n",
       "      <td>3</td>\n",
       "      <td>Braund, Mr. Owen Harris</td>\n",
       "      <td>male</td>\n",
       "      <td>22.0</td>\n",
       "      <td>1</td>\n",
       "      <td>0</td>\n",
       "      <td>A/5 21171</td>\n",
       "      <td>7.2500</td>\n",
       "      <td>NaN</td>\n",
       "      <td>S</td>\n",
       "    </tr>\n",
       "    <tr>\n",
       "      <th>1</th>\n",
       "      <td>2</td>\n",
       "      <td>1</td>\n",
       "      <td>1</td>\n",
       "      <td>Cumings, Mrs. John Bradley (Florence Briggs Th...</td>\n",
       "      <td>female</td>\n",
       "      <td>38.0</td>\n",
       "      <td>1</td>\n",
       "      <td>0</td>\n",
       "      <td>PC 17599</td>\n",
       "      <td>71.2833</td>\n",
       "      <td>C85</td>\n",
       "      <td>C</td>\n",
       "    </tr>\n",
       "    <tr>\n",
       "      <th>2</th>\n",
       "      <td>3</td>\n",
       "      <td>1</td>\n",
       "      <td>3</td>\n",
       "      <td>Heikkinen, Miss. Laina</td>\n",
       "      <td>female</td>\n",
       "      <td>26.0</td>\n",
       "      <td>0</td>\n",
       "      <td>0</td>\n",
       "      <td>STON/O2. 3101282</td>\n",
       "      <td>7.9250</td>\n",
       "      <td>NaN</td>\n",
       "      <td>S</td>\n",
       "    </tr>\n",
       "    <tr>\n",
       "      <th>3</th>\n",
       "      <td>4</td>\n",
       "      <td>1</td>\n",
       "      <td>1</td>\n",
       "      <td>Futrelle, Mrs. Jacques Heath (Lily May Peel)</td>\n",
       "      <td>female</td>\n",
       "      <td>35.0</td>\n",
       "      <td>1</td>\n",
       "      <td>0</td>\n",
       "      <td>113803</td>\n",
       "      <td>53.1000</td>\n",
       "      <td>C123</td>\n",
       "      <td>S</td>\n",
       "    </tr>\n",
       "    <tr>\n",
       "      <th>4</th>\n",
       "      <td>5</td>\n",
       "      <td>0</td>\n",
       "      <td>3</td>\n",
       "      <td>Allen, Mr. William Henry</td>\n",
       "      <td>male</td>\n",
       "      <td>35.0</td>\n",
       "      <td>0</td>\n",
       "      <td>0</td>\n",
       "      <td>373450</td>\n",
       "      <td>8.0500</td>\n",
       "      <td>NaN</td>\n",
       "      <td>S</td>\n",
       "    </tr>\n",
       "    <tr>\n",
       "      <th>...</th>\n",
       "      <td>...</td>\n",
       "      <td>...</td>\n",
       "      <td>...</td>\n",
       "      <td>...</td>\n",
       "      <td>...</td>\n",
       "      <td>...</td>\n",
       "      <td>...</td>\n",
       "      <td>...</td>\n",
       "      <td>...</td>\n",
       "      <td>...</td>\n",
       "      <td>...</td>\n",
       "      <td>...</td>\n",
       "    </tr>\n",
       "    <tr>\n",
       "      <th>886</th>\n",
       "      <td>887</td>\n",
       "      <td>0</td>\n",
       "      <td>2</td>\n",
       "      <td>Montvila, Rev. Juozas</td>\n",
       "      <td>male</td>\n",
       "      <td>27.0</td>\n",
       "      <td>0</td>\n",
       "      <td>0</td>\n",
       "      <td>211536</td>\n",
       "      <td>13.0000</td>\n",
       "      <td>NaN</td>\n",
       "      <td>S</td>\n",
       "    </tr>\n",
       "    <tr>\n",
       "      <th>887</th>\n",
       "      <td>888</td>\n",
       "      <td>1</td>\n",
       "      <td>1</td>\n",
       "      <td>Graham, Miss. Margaret Edith</td>\n",
       "      <td>female</td>\n",
       "      <td>19.0</td>\n",
       "      <td>0</td>\n",
       "      <td>0</td>\n",
       "      <td>112053</td>\n",
       "      <td>30.0000</td>\n",
       "      <td>B42</td>\n",
       "      <td>S</td>\n",
       "    </tr>\n",
       "    <tr>\n",
       "      <th>888</th>\n",
       "      <td>889</td>\n",
       "      <td>0</td>\n",
       "      <td>3</td>\n",
       "      <td>Johnston, Miss. Catherine Helen \"Carrie\"</td>\n",
       "      <td>female</td>\n",
       "      <td>NaN</td>\n",
       "      <td>1</td>\n",
       "      <td>2</td>\n",
       "      <td>W./C. 6607</td>\n",
       "      <td>23.4500</td>\n",
       "      <td>NaN</td>\n",
       "      <td>S</td>\n",
       "    </tr>\n",
       "    <tr>\n",
       "      <th>889</th>\n",
       "      <td>890</td>\n",
       "      <td>1</td>\n",
       "      <td>1</td>\n",
       "      <td>Behr, Mr. Karl Howell</td>\n",
       "      <td>male</td>\n",
       "      <td>26.0</td>\n",
       "      <td>0</td>\n",
       "      <td>0</td>\n",
       "      <td>111369</td>\n",
       "      <td>30.0000</td>\n",
       "      <td>C148</td>\n",
       "      <td>C</td>\n",
       "    </tr>\n",
       "    <tr>\n",
       "      <th>890</th>\n",
       "      <td>891</td>\n",
       "      <td>0</td>\n",
       "      <td>3</td>\n",
       "      <td>Dooley, Mr. Patrick</td>\n",
       "      <td>male</td>\n",
       "      <td>32.0</td>\n",
       "      <td>0</td>\n",
       "      <td>0</td>\n",
       "      <td>370376</td>\n",
       "      <td>7.7500</td>\n",
       "      <td>NaN</td>\n",
       "      <td>Q</td>\n",
       "    </tr>\n",
       "  </tbody>\n",
       "</table>\n",
       "<p>891 rows × 12 columns</p>\n",
       "</div>"
      ]
     },
     "execution_count": 128,
     "metadata": {},
     "output_type": "execute_result"
    }
   ],
   "execution_count": 128
  },
  {
   "metadata": {
    "ExecuteTime": {
     "end_time": "2024-10-30T15:34:16.159825Z",
     "start_time": "2024-10-30T15:34:16.157255Z"
    }
   },
   "cell_type": "code",
   "source": [
    "data['Age'].fillna(data['Age'].mean(),inplace=True)\n",
    "data['Cabin'].fillna('N',inplace=True)\n",
    "data['Embarked'].fillna('N',inplace=True)"
   ],
   "id": "ee665d557e5c4f88",
   "outputs": [
    {
     "name": "stderr",
     "output_type": "stream",
     "text": [
      "/tmp/ipykernel_9907/3057721139.py:1: FutureWarning: A value is trying to be set on a copy of a DataFrame or Series through chained assignment using an inplace method.\n",
      "The behavior will change in pandas 3.0. This inplace method will never work because the intermediate object on which we are setting values always behaves as a copy.\n",
      "\n",
      "For example, when doing 'df[col].method(value, inplace=True)', try using 'df.method({col: value}, inplace=True)' or df[col] = df[col].method(value) instead, to perform the operation inplace on the original object.\n",
      "\n",
      "\n",
      "  data['Age'].fillna(data['Age'].mean(),inplace=True)\n",
      "/tmp/ipykernel_9907/3057721139.py:2: FutureWarning: A value is trying to be set on a copy of a DataFrame or Series through chained assignment using an inplace method.\n",
      "The behavior will change in pandas 3.0. This inplace method will never work because the intermediate object on which we are setting values always behaves as a copy.\n",
      "\n",
      "For example, when doing 'df[col].method(value, inplace=True)', try using 'df.method({col: value}, inplace=True)' or df[col] = df[col].method(value) instead, to perform the operation inplace on the original object.\n",
      "\n",
      "\n",
      "  data['Cabin'].fillna('N',inplace=True)\n",
      "/tmp/ipykernel_9907/3057721139.py:3: FutureWarning: A value is trying to be set on a copy of a DataFrame or Series through chained assignment using an inplace method.\n",
      "The behavior will change in pandas 3.0. This inplace method will never work because the intermediate object on which we are setting values always behaves as a copy.\n",
      "\n",
      "For example, when doing 'df[col].method(value, inplace=True)', try using 'df.method({col: value}, inplace=True)' or df[col] = df[col].method(value) instead, to perform the operation inplace on the original object.\n",
      "\n",
      "\n",
      "  data['Embarked'].fillna('N',inplace=True)\n"
     ]
    }
   ],
   "execution_count": 129
  },
  {
   "metadata": {
    "ExecuteTime": {
     "end_time": "2024-10-30T15:34:16.207586Z",
     "start_time": "2024-10-30T15:34:16.203403Z"
    }
   },
   "cell_type": "code",
   "source": [
    "data.loc[data[\"Sex\"] == \"male\", \"Sex_encode\"] = 0\n",
    "data.loc[data[\"Sex\"] == \"female\", \"Sex_encode\"] = 1"
   ],
   "id": "38b216d7e9032e15",
   "outputs": [],
   "execution_count": 130
  },
  {
   "metadata": {
    "ExecuteTime": {
     "end_time": "2024-10-30T15:34:16.234458Z",
     "start_time": "2024-10-30T15:34:16.231614Z"
    }
   },
   "cell_type": "code",
   "source": [
    "from sklearn.preprocessing import LabelEncoder\n",
    "\n",
    "# Null 처리 함수\n",
    "def fillna(df):\n",
    "    df['Age'].fillna(df['Age'].mean(), inplace=True)\n",
    "    df['Cabin'].fillna('N', inplace=True)\n",
    "    df['Embarked'].fillna('N', inplace=True)\n",
    "    df['Fare'].fillna(0, inplace=True)\n",
    "    return df\n",
    "\n",
    "# 머신러닝 알고리즘에 불필요한 피처 제거\n",
    "def drop_features(df):\n",
    "    df.drop(['PassengerId', 'Name', 'Ticket'], axis=1, inplace=True)\n",
    "    return df\n",
    "\n",
    "# 레이블 인코딩 수행.\n",
    "def format_features(df):\n",
    "    df['Cabin'] = df['Cabin'].str[:1]\n",
    "    features = ['Cabin', 'Sex', 'Embarked']\n",
    "    for feature in features:\n",
    "        le = LabelEncoder()\n",
    "        le = le.fit(df[feature])\n",
    "        df[feature] = le.transform(df[feature])\n",
    "    return df\n",
    "\n",
    "# 앞에서 설정한 데이터 전처리 함수 호출\n",
    "def transform_features(df):\n",
    "    df = fillna(df)\n",
    "    df = drop_features(df)\n",
    "    df = format_features(df)\n",
    "    return df"
   ],
   "id": "3956d3ab46251a6b",
   "outputs": [],
   "execution_count": 131
  },
  {
   "metadata": {
    "ExecuteTime": {
     "end_time": "2024-10-30T15:34:16.270566Z",
     "start_time": "2024-10-30T15:34:16.269010Z"
    }
   },
   "cell_type": "code",
   "source": "",
   "id": "cdb8a1e303d94ee4",
   "outputs": [],
   "execution_count": null
  },
  {
   "metadata": {
    "ExecuteTime": {
     "end_time": "2024-10-30T15:34:16.319847Z",
     "start_time": "2024-10-30T15:34:16.316504Z"
    }
   },
   "cell_type": "code",
   "source": [
    "Y = data['Survived']\n",
    "X = data.drop('Survived', axis=1)\n"
   ],
   "id": "2a4e8c7ffdc2159d",
   "outputs": [],
   "execution_count": 132
  },
  {
   "metadata": {
    "ExecuteTime": {
     "end_time": "2024-10-30T15:34:16.374436Z",
     "start_time": "2024-10-30T15:34:16.367517Z"
    }
   },
   "cell_type": "code",
   "source": "X = transform_features(X)",
   "id": "98c58545e9bd61f3",
   "outputs": [
    {
     "name": "stderr",
     "output_type": "stream",
     "text": [
      "/tmp/ipykernel_9907/3807705002.py:5: FutureWarning: A value is trying to be set on a copy of a DataFrame or Series through chained assignment using an inplace method.\n",
      "The behavior will change in pandas 3.0. This inplace method will never work because the intermediate object on which we are setting values always behaves as a copy.\n",
      "\n",
      "For example, when doing 'df[col].method(value, inplace=True)', try using 'df.method({col: value}, inplace=True)' or df[col] = df[col].method(value) instead, to perform the operation inplace on the original object.\n",
      "\n",
      "\n",
      "  df['Age'].fillna(df['Age'].mean(), inplace=True)\n",
      "/tmp/ipykernel_9907/3807705002.py:6: FutureWarning: A value is trying to be set on a copy of a DataFrame or Series through chained assignment using an inplace method.\n",
      "The behavior will change in pandas 3.0. This inplace method will never work because the intermediate object on which we are setting values always behaves as a copy.\n",
      "\n",
      "For example, when doing 'df[col].method(value, inplace=True)', try using 'df.method({col: value}, inplace=True)' or df[col] = df[col].method(value) instead, to perform the operation inplace on the original object.\n",
      "\n",
      "\n",
      "  df['Cabin'].fillna('N', inplace=True)\n",
      "/tmp/ipykernel_9907/3807705002.py:7: FutureWarning: A value is trying to be set on a copy of a DataFrame or Series through chained assignment using an inplace method.\n",
      "The behavior will change in pandas 3.0. This inplace method will never work because the intermediate object on which we are setting values always behaves as a copy.\n",
      "\n",
      "For example, when doing 'df[col].method(value, inplace=True)', try using 'df.method({col: value}, inplace=True)' or df[col] = df[col].method(value) instead, to perform the operation inplace on the original object.\n",
      "\n",
      "\n",
      "  df['Embarked'].fillna('N', inplace=True)\n",
      "/tmp/ipykernel_9907/3807705002.py:8: FutureWarning: A value is trying to be set on a copy of a DataFrame or Series through chained assignment using an inplace method.\n",
      "The behavior will change in pandas 3.0. This inplace method will never work because the intermediate object on which we are setting values always behaves as a copy.\n",
      "\n",
      "For example, when doing 'df[col].method(value, inplace=True)', try using 'df.method({col: value}, inplace=True)' or df[col] = df[col].method(value) instead, to perform the operation inplace on the original object.\n",
      "\n",
      "\n",
      "  df['Fare'].fillna(0, inplace=True)\n"
     ]
    }
   ],
   "execution_count": 133
  },
  {
   "metadata": {
    "ExecuteTime": {
     "end_time": "2024-10-30T15:34:16.497933Z",
     "start_time": "2024-10-30T15:34:16.491267Z"
    }
   },
   "cell_type": "code",
   "source": [
    "import numpy as np\n",
    "\n",
    "# 로그 변환 적용 (값이 0 이하인 경우를 방지하기 위해 작은 값 더하기)\n",
    "X['Fare'] = np.log(X['Fare'] + 1)\n",
    "X['Age'] = np.log(X['Age'] + 1)\n",
    "\n"
   ],
   "id": "f9c749584b9d9a97",
   "outputs": [],
   "execution_count": 134
  },
  {
   "metadata": {
    "ExecuteTime": {
     "end_time": "2024-10-30T15:34:16.542646Z",
     "start_time": "2024-10-30T15:34:16.539777Z"
    }
   },
   "cell_type": "code",
   "source": [
    "from sklearn.model_selection import train_test_split\n",
    "X_train, X_test, y_train, y_test=train_test_split(X, Y, \\\n",
    "                                                  test_size=0.2, random_state=11)"
   ],
   "id": "5c5d3cd36646e8dc",
   "outputs": [],
   "execution_count": 135
  },
  {
   "metadata": {
    "ExecuteTime": {
     "end_time": "2024-10-30T15:34:16.602676Z",
     "start_time": "2024-10-30T15:34:16.589385Z"
    }
   },
   "cell_type": "code",
   "source": [
    "def batch_sampler(data, target, batch_size):\n",
    "    tot = len(data)\n",
    "    total_iter = tot // batch_size\n",
    "    for i in range(total_iter):\n",
    "        yield (data[i * batch_size:(i + 1) * batch_size],\n",
    "               target[i * batch_size:(i + 1) * batch_size])\n",
    "\n",
    "\n",
    "sampler = batch_sampler(data=X_train, target=y_train, batch_size=32)\n",
    "L = len(X_train) // 32\n",
    "for i in range(L):\n",
    "    next(sampler)\n",
    "print(X_train)"
   ],
   "id": "b7088fda25435d4",
   "outputs": [
    {
     "name": "stdout",
     "output_type": "stream",
     "text": [
      "     Pclass  Sex       Age  SibSp  Parch      Fare  Cabin  Embarked  \\\n",
      "333       3    1  2.833213      2      0  2.944439      7         3   \n",
      "662       1    1  3.871201      0      0  3.280441      4         3   \n",
      "382       3    1  3.496508      0      0  2.188856      7         3   \n",
      "331       1    1  3.839452      0      0  3.384390      2         3   \n",
      "149       2    1  3.761200      0      0  2.639057      7         3   \n",
      "..      ...  ...       ...    ...    ...       ...    ...       ...   \n",
      "269       1    0  3.583519      0      0  4.917301      2         3   \n",
      "337       1    0  3.737670      0      0  4.908972      4         0   \n",
      "91        3    1  3.044522      0      0  2.180892      7         3   \n",
      "80        3    1  3.135494      0      0  2.302585      7         3   \n",
      "703       3    1  3.258097      0      0  2.168105      7         2   \n",
      "\n",
      "     Sex_encode  \n",
      "333         0.0  \n",
      "662         0.0  \n",
      "382         0.0  \n",
      "331         0.0  \n",
      "149         0.0  \n",
      "..          ...  \n",
      "269         1.0  \n",
      "337         1.0  \n",
      "91          0.0  \n",
      "80          0.0  \n",
      "703         0.0  \n",
      "\n",
      "[712 rows x 9 columns]\n"
     ]
    }
   ],
   "execution_count": 136
  },
  {
   "metadata": {
    "ExecuteTime": {
     "end_time": "2024-10-30T15:34:16.730874Z",
     "start_time": "2024-10-30T15:34:16.725849Z"
    }
   },
   "cell_type": "code",
   "source": [
    "import numpy as np\n",
    "from tqdm import tqdm\n",
    "class LogisticRegression:\n",
    "    def __init__(self, learning_rate=0.01, epochs=400, n_features=9):\n",
    "        # 초기 가중치를 무작위로 설정\n",
    "        self.weights = np.random.randn(n_features)\n",
    "        self.b = np.random.randn()\n",
    "        self.learning_rate = learning_rate\n",
    "        self.epochs = epochs\n",
    "        self.loss_history = []\n",
    "\n",
    "    def sigmoid(self, z):\n",
    "        \"\"\"Sigmoid 활성화 함수\"\"\"\n",
    "        return 1.0 / (1 + np.exp(-z))\n",
    "\n",
    "    def compute_loss(self, preds, target):\n",
    "        \"\"\"교차 엔트로피 손실 계산\"\"\"\n",
    "        # 로그의 안정성을 위해 값들을 클리핑\n",
    "        preds = np.clip(preds, 1e-9, 1 - 1e-9)  # 0과 1의 범위를 벗어나지 않도록 함\n",
    "        loss = -((target * np.log(preds)) + (1 - target) * np.log(1 - preds)).mean()\n",
    "        return loss\n",
    "\n",
    "\n",
    "    def fit(self, X, y, batch_sampler):\n",
    "        \"\"\"모델 훈련 함수\"\"\"\n",
    "        for epoch in tqdm(range(self.epochs)):\n",
    "            sampler = batch_sampler(data=X, target=y, batch_size=4)\n",
    "            batch_loss = []\n",
    "    \n",
    "            for X_batch, Y_batch in sampler:\n",
    "                # 순방향 전파\n",
    "                preds = self.sigmoid(np.dot(X_batch, self.weights) + self.b)\n",
    "    \n",
    "                # 손실 계산\n",
    "                loss = self.compute_loss(preds, Y_batch)\n",
    "                batch_loss.append(loss)\n",
    "    \n",
    "                # 그래디언트 계산\n",
    "                dloss_dz = preds - Y_batch\n",
    "                weights_deriv = np.dot(X_batch.T, dloss_dz) / X_batch.shape[0]\n",
    "                b_deriv = dloss_dz.mean()\n",
    "    \n",
    "                # 가중치 및 바이어스 업데이트\n",
    "                self.weights -= self.learning_rate * weights_deriv\n",
    "                self.b -= self.learning_rate * b_deriv\n",
    "    \n",
    "            # Epoch별 손실 저장\n",
    "            epoch_loss = np.mean(batch_loss)\n",
    "            self.loss_history.append(epoch_loss)\n",
    "            \n",
    "            # 에포크마다 손실 출력\n",
    "            print(f\"Epoch {epoch + 1}/{self.epochs} - Loss: {epoch_loss:.4f}\")\n",
    "\n",
    "\n",
    "    def predict(self, X):\n",
    "        \"\"\"모델 예측 함수\"\"\"\n",
    "        linear_comb = np.dot(X, self.weights) + self.b\n",
    "        return self.sigmoid(linear_comb) > 0.55\n",
    "\n",
    "    def accuracy(self, X, y):\n",
    "        \"\"\"정확도 계산 함수\"\"\"\n",
    "        preds = self.predict(X)\n",
    "        return (preds == y).mean() * 100\n",
    "\n",
    "\n"
   ],
   "id": "c0a35c8cbd1c3f9a",
   "outputs": [],
   "execution_count": 137
  },
  {
   "metadata": {
    "ExecuteTime": {
     "end_time": "2024-10-30T15:34:26.331015Z",
     "start_time": "2024-10-30T15:34:16.796863Z"
    }
   },
   "cell_type": "code",
   "source": [
    "model = LogisticRegression(learning_rate=0.005, epochs=150, n_features=9)\n",
    "model.fit(X_train, y_train, batch_sampler=batch_sampler)"
   ],
   "id": "e20e60ecac1fdb8a",
   "outputs": [
    {
     "name": "stderr",
     "output_type": "stream",
     "text": [
      "  1%|▏         | 2/150 [00:00<00:09, 15.56it/s]"
     ]
    },
    {
     "name": "stdout",
     "output_type": "stream",
     "text": [
      "Epoch 1/150 - Loss: 2.1183\n",
      "Epoch 2/150 - Loss: 1.4067\n",
      "Epoch 3/150 - Loss: 1.1614\n",
      "Epoch 4/150 - Loss: 0.9809\n"
     ]
    },
    {
     "name": "stderr",
     "output_type": "stream",
     "text": [
      "  3%|▎         | 4/150 [00:00<00:09, 15.89it/s]"
     ]
    },
    {
     "name": "stdout",
     "output_type": "stream",
     "text": [
      "Epoch 5/150 - Loss: 0.8556\n"
     ]
    },
    {
     "name": "stderr",
     "output_type": "stream",
     "text": [
      "  5%|▌         | 8/150 [00:00<00:08, 15.96it/s]"
     ]
    },
    {
     "name": "stdout",
     "output_type": "stream",
     "text": [
      "Epoch 6/150 - Loss: 0.7708\n",
      "Epoch 7/150 - Loss: 0.7119\n",
      "Epoch 8/150 - Loss: 0.6688\n",
      "Epoch 9/150 - Loss: 0.6361\n",
      "Epoch 10/150 - Loss: 0.6106"
     ]
    },
    {
     "name": "stderr",
     "output_type": "stream",
     "text": [
      "  8%|▊         | 12/150 [00:00<00:08, 16.02it/s]"
     ]
    },
    {
     "name": "stdout",
     "output_type": "stream",
     "text": [
      "\n",
      "Epoch 11/150 - Loss: 0.5903\n",
      "Epoch 12/150 - Loss: 0.5738\n",
      "Epoch 13/150 - Loss: 0.5603\n",
      "Epoch 14/150 - Loss: 0.5489\n"
     ]
    },
    {
     "name": "stderr",
     "output_type": "stream",
     "text": [
      " 12%|█▏        | 18/150 [00:01<00:08, 16.12it/s]"
     ]
    },
    {
     "name": "stdout",
     "output_type": "stream",
     "text": [
      "Epoch 15/150 - Loss: 0.5393\n",
      "Epoch 16/150 - Loss: 0.5311\n",
      "Epoch 17/150 - Loss: 0.5241\n",
      "Epoch 18/150 - Loss: 0.5179\n",
      "Epoch 19/150 - Loss: 0.5126\n",
      "Epoch 20/150 - Loss: 0.5079\n"
     ]
    },
    {
     "name": "stderr",
     "output_type": "stream",
     "text": [
      " 16%|█▌        | 24/150 [00:01<00:07, 16.26it/s]"
     ]
    },
    {
     "name": "stdout",
     "output_type": "stream",
     "text": [
      "Epoch 21/150 - Loss: 0.5038\n",
      "Epoch 22/150 - Loss: 0.5001\n",
      "Epoch 23/150 - Loss: 0.4969\n",
      "Epoch 24/150 - Loss: 0.4940\n",
      "Epoch 25/150 - Loss: 0.4914\n"
     ]
    },
    {
     "name": "stderr",
     "output_type": "stream",
     "text": [
      " 20%|██        | 30/150 [00:01<00:07, 16.17it/s]"
     ]
    },
    {
     "name": "stdout",
     "output_type": "stream",
     "text": [
      "Epoch 26/150 - Loss: 0.4891\n",
      "Epoch 27/150 - Loss: 0.4870\n",
      "Epoch 28/150 - Loss: 0.4851\n",
      "Epoch 29/150 - Loss: 0.4834\n",
      "Epoch 30/150 - Loss: 0.4819\n"
     ]
    },
    {
     "name": "stderr",
     "output_type": "stream",
     "text": [
      " 23%|██▎       | 34/150 [00:02<00:07, 16.12it/s]"
     ]
    },
    {
     "name": "stdout",
     "output_type": "stream",
     "text": [
      "Epoch 31/150 - Loss: 0.4805\n",
      "Epoch 32/150 - Loss: 0.4792\n",
      "Epoch 33/150 - Loss: 0.4780\n",
      "Epoch 34/150 - Loss: 0.4769\n",
      "Epoch 35/150 - Loss: 0.4760\n"
     ]
    },
    {
     "name": "stderr",
     "output_type": "stream",
     "text": [
      " 27%|██▋       | 40/150 [00:02<00:06, 16.05it/s]"
     ]
    },
    {
     "name": "stdout",
     "output_type": "stream",
     "text": [
      "Epoch 36/150 - Loss: 0.4750\n",
      "Epoch 37/150 - Loss: 0.4742\n",
      "Epoch 38/150 - Loss: 0.4734\n",
      "Epoch 39/150 - Loss: 0.4727\n",
      "Epoch 40/150 - Loss: 0.4721\n"
     ]
    },
    {
     "name": "stderr",
     "output_type": "stream",
     "text": [
      " 29%|██▉       | 44/150 [00:02<00:06, 16.05it/s]"
     ]
    },
    {
     "name": "stdout",
     "output_type": "stream",
     "text": [
      "Epoch 41/150 - Loss: 0.4715\n",
      "Epoch 42/150 - Loss: 0.4709\n",
      "Epoch 43/150 - Loss: 0.4704\n",
      "Epoch 44/150 - Loss: 0.4699\n",
      "Epoch 45/150 - Loss: 0.4694\n"
     ]
    },
    {
     "name": "stderr",
     "output_type": "stream",
     "text": [
      " 33%|███▎      | 50/150 [00:03<00:06, 15.76it/s]"
     ]
    },
    {
     "name": "stdout",
     "output_type": "stream",
     "text": [
      "Epoch 46/150 - Loss: 0.4690\n",
      "Epoch 47/150 - Loss: 0.4686\n",
      "Epoch 48/150 - Loss: 0.4682\n",
      "Epoch 49/150 - Loss: 0.4679\n",
      "Epoch 50/150 - Loss: 0.4675\n"
     ]
    },
    {
     "name": "stderr",
     "output_type": "stream",
     "text": [
      " 36%|███▌      | 54/150 [00:03<00:06, 15.38it/s]"
     ]
    },
    {
     "name": "stdout",
     "output_type": "stream",
     "text": [
      "Epoch 51/150 - Loss: 0.4672\n",
      "Epoch 52/150 - Loss: 0.4669\n",
      "Epoch 53/150 - Loss: 0.4667\n",
      "Epoch 54/150 - Loss: 0.4664\n",
      "Epoch 55/150 - Loss: 0.4662\n"
     ]
    },
    {
     "name": "stderr",
     "output_type": "stream",
     "text": [
      " 39%|███▊      | 58/150 [00:03<00:05, 15.51it/s]"
     ]
    },
    {
     "name": "stdout",
     "output_type": "stream",
     "text": [
      "Epoch 56/150 - Loss: 0.4659\n",
      "Epoch 57/150 - Loss: 0.4657\n",
      "Epoch 58/150 - Loss: 0.4655\n",
      "Epoch 59/150 - Loss: 0.4653\n",
      "Epoch 60/150 - Loss: 0.4652\n"
     ]
    },
    {
     "name": "stderr",
     "output_type": "stream",
     "text": [
      " 43%|████▎     | 64/150 [00:04<00:05, 15.82it/s]"
     ]
    },
    {
     "name": "stdout",
     "output_type": "stream",
     "text": [
      "Epoch 61/150 - Loss: 0.4650\n",
      "Epoch 62/150 - Loss: 0.4648\n",
      "Epoch 63/150 - Loss: 0.4647\n",
      "Epoch 64/150 - Loss: 0.4645\n",
      "Epoch 65/150 - Loss: 0.4644\n",
      "Epoch 66/150 - Loss: 0.4643\n"
     ]
    },
    {
     "name": "stderr",
     "output_type": "stream",
     "text": [
      " 47%|████▋     | 70/150 [00:04<00:05, 15.91it/s]"
     ]
    },
    {
     "name": "stdout",
     "output_type": "stream",
     "text": [
      "Epoch 67/150 - Loss: 0.4641\n",
      "Epoch 68/150 - Loss: 0.4640\n",
      "Epoch 69/150 - Loss: 0.4639\n",
      "Epoch 70/150 - Loss: 0.4638\n",
      "Epoch 71/150 - Loss: 0.4637\n",
      "Epoch 72/150 - Loss: 0.4636\n"
     ]
    },
    {
     "name": "stderr",
     "output_type": "stream",
     "text": [
      " 51%|█████     | 76/150 [00:04<00:04, 15.54it/s]"
     ]
    },
    {
     "name": "stdout",
     "output_type": "stream",
     "text": [
      "Epoch 73/150 - Loss: 0.4635\n",
      "Epoch 74/150 - Loss: 0.4634\n",
      "Epoch 75/150 - Loss: 0.4633\n",
      "Epoch 76/150 - Loss: 0.4632\n",
      "Epoch 77/150 - Loss: 0.4632\n",
      "Epoch 78/150 - Loss: 0.4631\n"
     ]
    },
    {
     "name": "stderr",
     "output_type": "stream",
     "text": [
      " 55%|█████▍    | 82/150 [00:05<00:04, 15.57it/s]"
     ]
    },
    {
     "name": "stdout",
     "output_type": "stream",
     "text": [
      "Epoch 79/150 - Loss: 0.4630\n",
      "Epoch 80/150 - Loss: 0.4630\n",
      "Epoch 81/150 - Loss: 0.4629\n",
      "Epoch 82/150 - Loss: 0.4628\n"
     ]
    },
    {
     "name": "stderr",
     "output_type": "stream",
     "text": [
      " 59%|█████▊    | 88/150 [00:05<00:03, 15.77it/s]"
     ]
    },
    {
     "name": "stdout",
     "output_type": "stream",
     "text": [
      "Epoch 83/150 - Loss: 0.4628\n",
      "Epoch 84/150 - Loss: 0.4627\n",
      "Epoch 85/150 - Loss: 0.4627\n",
      "Epoch 86/150 - Loss: 0.4626\n",
      "Epoch 87/150 - Loss: 0.4625\n",
      "Epoch 88/150 - Loss: 0.4625\n"
     ]
    },
    {
     "name": "stderr",
     "output_type": "stream",
     "text": [
      " 61%|██████▏   | 92/150 [00:05<00:03, 15.68it/s]"
     ]
    },
    {
     "name": "stdout",
     "output_type": "stream",
     "text": [
      "Epoch 89/150 - Loss: 0.4625\n",
      "Epoch 90/150 - Loss: 0.4624\n",
      "Epoch 91/150 - Loss: 0.4624\n",
      "Epoch 92/150 - Loss: 0.4623\n",
      "Epoch 93/150 - Loss: 0.4623\n"
     ]
    },
    {
     "name": "stderr",
     "output_type": "stream",
     "text": [
      " 64%|██████▍   | 96/150 [00:06<00:03, 15.75it/s]"
     ]
    },
    {
     "name": "stdout",
     "output_type": "stream",
     "text": [
      "Epoch 94/150 - Loss: 0.4622\n",
      "Epoch 95/150 - Loss: 0.4622\n",
      "Epoch 96/150 - Loss: 0.4622\n",
      "Epoch 97/150 - Loss: 0.4621\n",
      "Epoch 98/150 - Loss: 0.4621\n"
     ]
    },
    {
     "name": "stderr",
     "output_type": "stream",
     "text": [
      " 69%|██████▉   | 104/150 [00:06<00:02, 15.91it/s]"
     ]
    },
    {
     "name": "stdout",
     "output_type": "stream",
     "text": [
      "Epoch 99/150 - Loss: 0.4621\n",
      "Epoch 100/150 - Loss: 0.4620\n",
      "Epoch 101/150 - Loss: 0.4620\n",
      "Epoch 102/150 - Loss: 0.4620\n",
      "Epoch 103/150 - Loss: 0.4619\n",
      "Epoch 104/150 - Loss: 0.4619\n"
     ]
    },
    {
     "name": "stderr",
     "output_type": "stream",
     "text": [
      " 72%|███████▏  | 108/150 [00:06<00:02, 15.85it/s]"
     ]
    },
    {
     "name": "stdout",
     "output_type": "stream",
     "text": [
      "Epoch 105/150 - Loss: 0.4619\n",
      "Epoch 106/150 - Loss: 0.4618\n",
      "Epoch 107/150 - Loss: 0.4618\n",
      "Epoch 108/150 - Loss: 0.4618\n",
      "Epoch 109/150 - Loss: 0.4618\n",
      "Epoch 110/150 - Loss: 0.4617\n"
     ]
    },
    {
     "name": "stderr",
     "output_type": "stream",
     "text": [
      " 76%|███████▌  | 114/150 [00:07<00:02, 15.91it/s]"
     ]
    },
    {
     "name": "stdout",
     "output_type": "stream",
     "text": [
      "Epoch 111/150 - Loss: 0.4617\n",
      "Epoch 112/150 - Loss: 0.4617\n",
      "Epoch 113/150 - Loss: 0.4617\n",
      "Epoch 114/150 - Loss: 0.4616\n"
     ]
    },
    {
     "name": "stderr",
     "output_type": "stream",
     "text": [
      " 79%|███████▊  | 118/150 [00:07<00:02, 15.76it/s]"
     ]
    },
    {
     "name": "stdout",
     "output_type": "stream",
     "text": [
      "Epoch 115/150 - Loss: 0.4616\n",
      "Epoch 116/150 - Loss: 0.4616\n",
      "Epoch 117/150 - Loss: 0.4616\n",
      "Epoch 118/150 - Loss: 0.4615\n"
     ]
    },
    {
     "name": "stderr",
     "output_type": "stream",
     "text": [
      " 81%|████████▏ | 122/150 [00:07<00:01, 15.58it/s]"
     ]
    },
    {
     "name": "stdout",
     "output_type": "stream",
     "text": [
      "Epoch 119/150 - Loss: 0.4615\n",
      "Epoch 120/150 - Loss: 0.4615\n",
      "Epoch 121/150 - Loss: 0.4615\n",
      "Epoch 122/150 - Loss: 0.4615\n",
      "Epoch 123/150 - Loss: 0.4614\n"
     ]
    },
    {
     "name": "stderr",
     "output_type": "stream",
     "text": [
      " 84%|████████▍ | 126/150 [00:07<00:01, 15.74it/s]"
     ]
    },
    {
     "name": "stdout",
     "output_type": "stream",
     "text": [
      "Epoch 124/150 - Loss: 0.4614\n",
      "Epoch 125/150 - Loss: 0.4614\n",
      "Epoch 126/150 - Loss: 0.4614\n",
      "Epoch 127/150 - Loss: 0.4614\n"
     ]
    },
    {
     "name": "stderr",
     "output_type": "stream",
     "text": [
      " 87%|████████▋ | 130/150 [00:08<00:01, 15.87it/s]"
     ]
    },
    {
     "name": "stdout",
     "output_type": "stream",
     "text": [
      "Epoch 128/150 - Loss: 0.4613\n",
      "Epoch 129/150 - Loss: 0.4613\n",
      "Epoch 130/150 - Loss: 0.4613\n",
      "Epoch 131/150 - Loss: 0.4613\n",
      "Epoch 132/150 - Loss: 0.4613\n"
     ]
    },
    {
     "name": "stderr",
     "output_type": "stream",
     "text": [
      " 91%|█████████ | 136/150 [00:08<00:00, 14.36it/s]"
     ]
    },
    {
     "name": "stdout",
     "output_type": "stream",
     "text": [
      "Epoch 133/150 - Loss: 0.4612\n",
      "Epoch 134/150 - Loss: 0.4612\n",
      "Epoch 135/150 - Loss: 0.4612\n",
      "Epoch 136/150 - Loss: 0.4612\n"
     ]
    },
    {
     "name": "stderr",
     "output_type": "stream",
     "text": [
      " 93%|█████████▎| 140/150 [00:08<00:00, 14.84it/s]"
     ]
    },
    {
     "name": "stdout",
     "output_type": "stream",
     "text": [
      "Epoch 137/150 - Loss: 0.4612\n",
      "Epoch 138/150 - Loss: 0.4612\n",
      "Epoch 139/150 - Loss: 0.4611\n",
      "Epoch 140/150 - Loss: 0.4611\n",
      "Epoch 141/150 - Loss: 0.4611\n",
      "Epoch 142/150 - Loss: 0.4611\n"
     ]
    },
    {
     "name": "stderr",
     "output_type": "stream",
     "text": [
      " 97%|█████████▋| 146/150 [00:09<00:00, 15.64it/s]"
     ]
    },
    {
     "name": "stdout",
     "output_type": "stream",
     "text": [
      "Epoch 143/150 - Loss: 0.4611\n",
      "Epoch 144/150 - Loss: 0.4611\n",
      "Epoch 145/150 - Loss: 0.4610\n",
      "Epoch 146/150 - Loss: 0.4610\n",
      "Epoch 147/150 - Loss: 0.4610\n"
     ]
    },
    {
     "name": "stderr",
     "output_type": "stream",
     "text": [
      "100%|██████████| 150/150 [00:09<00:00, 15.74it/s]"
     ]
    },
    {
     "name": "stdout",
     "output_type": "stream",
     "text": [
      "Epoch 148/150 - Loss: 0.4610\n",
      "Epoch 149/150 - Loss: 0.4610\n",
      "Epoch 150/150 - Loss: 0.4610\n"
     ]
    },
    {
     "name": "stderr",
     "output_type": "stream",
     "text": [
      "\n"
     ]
    }
   ],
   "execution_count": 138
  },
  {
   "metadata": {
    "ExecuteTime": {
     "end_time": "2024-10-30T15:34:26.534786Z",
     "start_time": "2024-10-30T15:34:26.525397Z"
    }
   },
   "cell_type": "code",
   "source": [
    "# X_test에 대한 예측값 생성\n",
    "predictions = model.predict(X_test)\n",
    "\n",
    "# 정확도 계산\n",
    "def calculate_accuracy(predictions, y_test):\n",
    "    \"\"\"예측값과 실제값을 비교하여 정확도를 계산\"\"\"\n",
    "    correct_predictions = (predictions == y_test).sum()\n",
    "    accuracy = (correct_predictions / len(y_test)) * 100\n",
    "    return accuracy\n",
    "\n",
    "# y_test와 비교하여 정확도 계산\n",
    "accuracy = calculate_accuracy(predictions, y_test)\n",
    "print(f\"Test Accuracy: {accuracy:.2f}%\")\n"
   ],
   "id": "302e2c1bdd331eea",
   "outputs": [
    {
     "name": "stdout",
     "output_type": "stream",
     "text": [
      "Test Accuracy: 87.15%\n"
     ]
    }
   ],
   "execution_count": 139
  },
  {
   "metadata": {
    "ExecuteTime": {
     "end_time": "2024-10-30T15:34:26.554807Z",
     "start_time": "2024-10-30T15:34:26.551003Z"
    }
   },
   "cell_type": "code",
   "source": "model.accuracy(X_test, y_test)",
   "id": "8467cddc9aa3c12d",
   "outputs": [
    {
     "data": {
      "text/plain": [
       "np.float64(87.15083798882681)"
      ]
     },
     "execution_count": 140,
     "metadata": {},
     "output_type": "execute_result"
    }
   ],
   "execution_count": 140
  },
  {
   "metadata": {
    "ExecuteTime": {
     "end_time": "2024-10-30T15:34:26.607986Z",
     "start_time": "2024-10-30T15:34:26.604786Z"
    }
   },
   "cell_type": "code",
   "source": "",
   "id": "faa9a1acf2c1ef91",
   "outputs": [],
   "execution_count": null
  }
 ],
 "metadata": {
  "kernelspec": {
   "display_name": "Python 3",
   "language": "python",
   "name": "python3"
  },
  "language_info": {
   "codemirror_mode": {
    "name": "ipython",
    "version": 2
   },
   "file_extension": ".py",
   "mimetype": "text/x-python",
   "name": "python",
   "nbconvert_exporter": "python",
   "pygments_lexer": "ipython2",
   "version": "2.7.6"
  }
 },
 "nbformat": 4,
 "nbformat_minor": 5
}
