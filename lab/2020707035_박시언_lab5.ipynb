{
 "cells": [
  {
   "cell_type": "code",
   "id": "initial_id",
   "metadata": {
    "collapsed": true,
    "ExecuteTime": {
     "end_time": "2024-10-31T05:41:06.662282Z",
     "start_time": "2024-10-31T05:41:06.000936Z"
    }
   },
   "source": [
    "from tkinter import YView, XView\n",
    "\n",
    "import numpy as np\n",
    "import pandas as pd\n",
    "np.random.seed = 123\n",
    "data = pd.read_csv(\"https://raw.githubusercontent.com/datasciencedojo/datasets/master/titanic.csv\")"
   ],
   "outputs": [],
   "execution_count": 614
  },
  {
   "metadata": {
    "ExecuteTime": {
     "end_time": "2024-10-31T05:41:06.671860Z",
     "start_time": "2024-10-31T05:41:06.663664Z"
    }
   },
   "cell_type": "code",
   "source": "data",
   "id": "8268d5988869eca3",
   "outputs": [
    {
     "data": {
      "text/plain": [
       "     PassengerId  Survived  Pclass  \\\n",
       "0              1         0       3   \n",
       "1              2         1       1   \n",
       "2              3         1       3   \n",
       "3              4         1       1   \n",
       "4              5         0       3   \n",
       "..           ...       ...     ...   \n",
       "886          887         0       2   \n",
       "887          888         1       1   \n",
       "888          889         0       3   \n",
       "889          890         1       1   \n",
       "890          891         0       3   \n",
       "\n",
       "                                                  Name     Sex   Age  SibSp  \\\n",
       "0                              Braund, Mr. Owen Harris    male  22.0      1   \n",
       "1    Cumings, Mrs. John Bradley (Florence Briggs Th...  female  38.0      1   \n",
       "2                               Heikkinen, Miss. Laina  female  26.0      0   \n",
       "3         Futrelle, Mrs. Jacques Heath (Lily May Peel)  female  35.0      1   \n",
       "4                             Allen, Mr. William Henry    male  35.0      0   \n",
       "..                                                 ...     ...   ...    ...   \n",
       "886                              Montvila, Rev. Juozas    male  27.0      0   \n",
       "887                       Graham, Miss. Margaret Edith  female  19.0      0   \n",
       "888           Johnston, Miss. Catherine Helen \"Carrie\"  female   NaN      1   \n",
       "889                              Behr, Mr. Karl Howell    male  26.0      0   \n",
       "890                                Dooley, Mr. Patrick    male  32.0      0   \n",
       "\n",
       "     Parch            Ticket     Fare Cabin Embarked  \n",
       "0        0         A/5 21171   7.2500   NaN        S  \n",
       "1        0          PC 17599  71.2833   C85        C  \n",
       "2        0  STON/O2. 3101282   7.9250   NaN        S  \n",
       "3        0            113803  53.1000  C123        S  \n",
       "4        0            373450   8.0500   NaN        S  \n",
       "..     ...               ...      ...   ...      ...  \n",
       "886      0            211536  13.0000   NaN        S  \n",
       "887      0            112053  30.0000   B42        S  \n",
       "888      2        W./C. 6607  23.4500   NaN        S  \n",
       "889      0            111369  30.0000  C148        C  \n",
       "890      0            370376   7.7500   NaN        Q  \n",
       "\n",
       "[891 rows x 12 columns]"
      ],
      "text/html": [
       "<div>\n",
       "<style scoped>\n",
       "    .dataframe tbody tr th:only-of-type {\n",
       "        vertical-align: middle;\n",
       "    }\n",
       "\n",
       "    .dataframe tbody tr th {\n",
       "        vertical-align: top;\n",
       "    }\n",
       "\n",
       "    .dataframe thead th {\n",
       "        text-align: right;\n",
       "    }\n",
       "</style>\n",
       "<table border=\"1\" class=\"dataframe\">\n",
       "  <thead>\n",
       "    <tr style=\"text-align: right;\">\n",
       "      <th></th>\n",
       "      <th>PassengerId</th>\n",
       "      <th>Survived</th>\n",
       "      <th>Pclass</th>\n",
       "      <th>Name</th>\n",
       "      <th>Sex</th>\n",
       "      <th>Age</th>\n",
       "      <th>SibSp</th>\n",
       "      <th>Parch</th>\n",
       "      <th>Ticket</th>\n",
       "      <th>Fare</th>\n",
       "      <th>Cabin</th>\n",
       "      <th>Embarked</th>\n",
       "    </tr>\n",
       "  </thead>\n",
       "  <tbody>\n",
       "    <tr>\n",
       "      <th>0</th>\n",
       "      <td>1</td>\n",
       "      <td>0</td>\n",
       "      <td>3</td>\n",
       "      <td>Braund, Mr. Owen Harris</td>\n",
       "      <td>male</td>\n",
       "      <td>22.0</td>\n",
       "      <td>1</td>\n",
       "      <td>0</td>\n",
       "      <td>A/5 21171</td>\n",
       "      <td>7.2500</td>\n",
       "      <td>NaN</td>\n",
       "      <td>S</td>\n",
       "    </tr>\n",
       "    <tr>\n",
       "      <th>1</th>\n",
       "      <td>2</td>\n",
       "      <td>1</td>\n",
       "      <td>1</td>\n",
       "      <td>Cumings, Mrs. John Bradley (Florence Briggs Th...</td>\n",
       "      <td>female</td>\n",
       "      <td>38.0</td>\n",
       "      <td>1</td>\n",
       "      <td>0</td>\n",
       "      <td>PC 17599</td>\n",
       "      <td>71.2833</td>\n",
       "      <td>C85</td>\n",
       "      <td>C</td>\n",
       "    </tr>\n",
       "    <tr>\n",
       "      <th>2</th>\n",
       "      <td>3</td>\n",
       "      <td>1</td>\n",
       "      <td>3</td>\n",
       "      <td>Heikkinen, Miss. Laina</td>\n",
       "      <td>female</td>\n",
       "      <td>26.0</td>\n",
       "      <td>0</td>\n",
       "      <td>0</td>\n",
       "      <td>STON/O2. 3101282</td>\n",
       "      <td>7.9250</td>\n",
       "      <td>NaN</td>\n",
       "      <td>S</td>\n",
       "    </tr>\n",
       "    <tr>\n",
       "      <th>3</th>\n",
       "      <td>4</td>\n",
       "      <td>1</td>\n",
       "      <td>1</td>\n",
       "      <td>Futrelle, Mrs. Jacques Heath (Lily May Peel)</td>\n",
       "      <td>female</td>\n",
       "      <td>35.0</td>\n",
       "      <td>1</td>\n",
       "      <td>0</td>\n",
       "      <td>113803</td>\n",
       "      <td>53.1000</td>\n",
       "      <td>C123</td>\n",
       "      <td>S</td>\n",
       "    </tr>\n",
       "    <tr>\n",
       "      <th>4</th>\n",
       "      <td>5</td>\n",
       "      <td>0</td>\n",
       "      <td>3</td>\n",
       "      <td>Allen, Mr. William Henry</td>\n",
       "      <td>male</td>\n",
       "      <td>35.0</td>\n",
       "      <td>0</td>\n",
       "      <td>0</td>\n",
       "      <td>373450</td>\n",
       "      <td>8.0500</td>\n",
       "      <td>NaN</td>\n",
       "      <td>S</td>\n",
       "    </tr>\n",
       "    <tr>\n",
       "      <th>...</th>\n",
       "      <td>...</td>\n",
       "      <td>...</td>\n",
       "      <td>...</td>\n",
       "      <td>...</td>\n",
       "      <td>...</td>\n",
       "      <td>...</td>\n",
       "      <td>...</td>\n",
       "      <td>...</td>\n",
       "      <td>...</td>\n",
       "      <td>...</td>\n",
       "      <td>...</td>\n",
       "      <td>...</td>\n",
       "    </tr>\n",
       "    <tr>\n",
       "      <th>886</th>\n",
       "      <td>887</td>\n",
       "      <td>0</td>\n",
       "      <td>2</td>\n",
       "      <td>Montvila, Rev. Juozas</td>\n",
       "      <td>male</td>\n",
       "      <td>27.0</td>\n",
       "      <td>0</td>\n",
       "      <td>0</td>\n",
       "      <td>211536</td>\n",
       "      <td>13.0000</td>\n",
       "      <td>NaN</td>\n",
       "      <td>S</td>\n",
       "    </tr>\n",
       "    <tr>\n",
       "      <th>887</th>\n",
       "      <td>888</td>\n",
       "      <td>1</td>\n",
       "      <td>1</td>\n",
       "      <td>Graham, Miss. Margaret Edith</td>\n",
       "      <td>female</td>\n",
       "      <td>19.0</td>\n",
       "      <td>0</td>\n",
       "      <td>0</td>\n",
       "      <td>112053</td>\n",
       "      <td>30.0000</td>\n",
       "      <td>B42</td>\n",
       "      <td>S</td>\n",
       "    </tr>\n",
       "    <tr>\n",
       "      <th>888</th>\n",
       "      <td>889</td>\n",
       "      <td>0</td>\n",
       "      <td>3</td>\n",
       "      <td>Johnston, Miss. Catherine Helen \"Carrie\"</td>\n",
       "      <td>female</td>\n",
       "      <td>NaN</td>\n",
       "      <td>1</td>\n",
       "      <td>2</td>\n",
       "      <td>W./C. 6607</td>\n",
       "      <td>23.4500</td>\n",
       "      <td>NaN</td>\n",
       "      <td>S</td>\n",
       "    </tr>\n",
       "    <tr>\n",
       "      <th>889</th>\n",
       "      <td>890</td>\n",
       "      <td>1</td>\n",
       "      <td>1</td>\n",
       "      <td>Behr, Mr. Karl Howell</td>\n",
       "      <td>male</td>\n",
       "      <td>26.0</td>\n",
       "      <td>0</td>\n",
       "      <td>0</td>\n",
       "      <td>111369</td>\n",
       "      <td>30.0000</td>\n",
       "      <td>C148</td>\n",
       "      <td>C</td>\n",
       "    </tr>\n",
       "    <tr>\n",
       "      <th>890</th>\n",
       "      <td>891</td>\n",
       "      <td>0</td>\n",
       "      <td>3</td>\n",
       "      <td>Dooley, Mr. Patrick</td>\n",
       "      <td>male</td>\n",
       "      <td>32.0</td>\n",
       "      <td>0</td>\n",
       "      <td>0</td>\n",
       "      <td>370376</td>\n",
       "      <td>7.7500</td>\n",
       "      <td>NaN</td>\n",
       "      <td>Q</td>\n",
       "    </tr>\n",
       "  </tbody>\n",
       "</table>\n",
       "<p>891 rows × 12 columns</p>\n",
       "</div>"
      ]
     },
     "execution_count": 615,
     "metadata": {},
     "output_type": "execute_result"
    }
   ],
   "execution_count": 615
  },
  {
   "metadata": {
    "ExecuteTime": {
     "end_time": "2024-10-31T05:41:06.676011Z",
     "start_time": "2024-10-31T05:41:06.672612Z"
    }
   },
   "cell_type": "code",
   "source": [
    "data['Age'].fillna(data['Age'].mean(),inplace=True)\n",
    "data['Cabin'].fillna('N',inplace=True)\n",
    "data['Embarked'].fillna('N',inplace=True)"
   ],
   "id": "ee665d557e5c4f88",
   "outputs": [
    {
     "name": "stderr",
     "output_type": "stream",
     "text": [
      "/var/folders/9d/lcchyqrx6jq_hz6pm4d1j7z80000gn/T/ipykernel_58162/3057721139.py:1: FutureWarning: A value is trying to be set on a copy of a DataFrame or Series through chained assignment using an inplace method.\n",
      "The behavior will change in pandas 3.0. This inplace method will never work because the intermediate object on which we are setting values always behaves as a copy.\n",
      "\n",
      "For example, when doing 'df[col].method(value, inplace=True)', try using 'df.method({col: value}, inplace=True)' or df[col] = df[col].method(value) instead, to perform the operation inplace on the original object.\n",
      "\n",
      "\n",
      "  data['Age'].fillna(data['Age'].mean(),inplace=True)\n",
      "/var/folders/9d/lcchyqrx6jq_hz6pm4d1j7z80000gn/T/ipykernel_58162/3057721139.py:2: FutureWarning: A value is trying to be set on a copy of a DataFrame or Series through chained assignment using an inplace method.\n",
      "The behavior will change in pandas 3.0. This inplace method will never work because the intermediate object on which we are setting values always behaves as a copy.\n",
      "\n",
      "For example, when doing 'df[col].method(value, inplace=True)', try using 'df.method({col: value}, inplace=True)' or df[col] = df[col].method(value) instead, to perform the operation inplace on the original object.\n",
      "\n",
      "\n",
      "  data['Cabin'].fillna('N',inplace=True)\n",
      "/var/folders/9d/lcchyqrx6jq_hz6pm4d1j7z80000gn/T/ipykernel_58162/3057721139.py:3: FutureWarning: A value is trying to be set on a copy of a DataFrame or Series through chained assignment using an inplace method.\n",
      "The behavior will change in pandas 3.0. This inplace method will never work because the intermediate object on which we are setting values always behaves as a copy.\n",
      "\n",
      "For example, when doing 'df[col].method(value, inplace=True)', try using 'df.method({col: value}, inplace=True)' or df[col] = df[col].method(value) instead, to perform the operation inplace on the original object.\n",
      "\n",
      "\n",
      "  data['Embarked'].fillna('N',inplace=True)\n"
     ]
    }
   ],
   "execution_count": 616
  },
  {
   "metadata": {
    "ExecuteTime": {
     "end_time": "2024-10-31T05:41:06.680434Z",
     "start_time": "2024-10-31T05:41:06.677523Z"
    }
   },
   "cell_type": "code",
   "source": [
    "data.loc[data[\"Sex\"] == \"male\", \"Sex_encode\"] = 0\n",
    "data.loc[data[\"Sex\"] == \"female\", \"Sex_encode\"] = 1"
   ],
   "id": "38b216d7e9032e15",
   "outputs": [],
   "execution_count": 617
  },
  {
   "metadata": {
    "ExecuteTime": {
     "end_time": "2024-10-31T05:41:06.684701Z",
     "start_time": "2024-10-31T05:41:06.681188Z"
    }
   },
   "cell_type": "code",
   "source": [
    "from sklearn.preprocessing import LabelEncoder\n",
    "\n",
    "# Null 처리 함수\n",
    "def fillna(df):\n",
    "    df['Age'].fillna(df['Age'].mean(), inplace=True)\n",
    "    df['Cabin'].fillna('N', inplace=True)\n",
    "    df['Embarked'].fillna('N', inplace=True)\n",
    "    df['Fare'].fillna(0, inplace=True)\n",
    "    return df\n",
    "\n",
    "# 머신러닝 알고리즘에 불필요한 피처 제거\n",
    "def drop_features(df):\n",
    "    df.drop(['PassengerId', 'Name', 'Ticket'], axis=1, inplace=True)\n",
    "    return df\n",
    "\n",
    "# 레이블 인코딩 수행.\n",
    "def format_features(df):\n",
    "    df['Cabin'] = df['Cabin'].str[:1]\n",
    "    features = ['Cabin', 'Sex', 'Embarked']\n",
    "    for feature in features:\n",
    "        le = LabelEncoder()\n",
    "        le = le.fit(df[feature])\n",
    "        df[feature] = le.transform(df[feature])\n",
    "    return df\n",
    "\n",
    "# 앞에서 설정한 데이터 전처리 함수 호출\n",
    "def transform_features(df):\n",
    "    df = fillna(df)\n",
    "    df = drop_features(df)\n",
    "    df = format_features(df)\n",
    "    return df"
   ],
   "id": "3956d3ab46251a6b",
   "outputs": [],
   "execution_count": 618
  },
  {
   "metadata": {
    "ExecuteTime": {
     "end_time": "2024-10-31T05:41:06.686695Z",
     "start_time": "2024-10-31T05:41:06.685496Z"
    }
   },
   "cell_type": "code",
   "source": "",
   "id": "cdb8a1e303d94ee4",
   "outputs": [],
   "execution_count": 618
  },
  {
   "metadata": {
    "ExecuteTime": {
     "end_time": "2024-10-31T05:41:06.689553Z",
     "start_time": "2024-10-31T05:41:06.687209Z"
    }
   },
   "cell_type": "code",
   "source": [
    "Y = data['Survived']\n",
    "X = data.drop('Survived', axis=1)\n"
   ],
   "id": "2a4e8c7ffdc2159d",
   "outputs": [],
   "execution_count": 619
  },
  {
   "metadata": {
    "ExecuteTime": {
     "end_time": "2024-10-31T05:41:06.694023Z",
     "start_time": "2024-10-31T05:41:06.690263Z"
    }
   },
   "cell_type": "code",
   "source": "X = transform_features(X)",
   "id": "98c58545e9bd61f3",
   "outputs": [
    {
     "name": "stderr",
     "output_type": "stream",
     "text": [
      "/var/folders/9d/lcchyqrx6jq_hz6pm4d1j7z80000gn/T/ipykernel_58162/3807705002.py:5: FutureWarning: A value is trying to be set on a copy of a DataFrame or Series through chained assignment using an inplace method.\n",
      "The behavior will change in pandas 3.0. This inplace method will never work because the intermediate object on which we are setting values always behaves as a copy.\n",
      "\n",
      "For example, when doing 'df[col].method(value, inplace=True)', try using 'df.method({col: value}, inplace=True)' or df[col] = df[col].method(value) instead, to perform the operation inplace on the original object.\n",
      "\n",
      "\n",
      "  df['Age'].fillna(df['Age'].mean(), inplace=True)\n",
      "/var/folders/9d/lcchyqrx6jq_hz6pm4d1j7z80000gn/T/ipykernel_58162/3807705002.py:6: FutureWarning: A value is trying to be set on a copy of a DataFrame or Series through chained assignment using an inplace method.\n",
      "The behavior will change in pandas 3.0. This inplace method will never work because the intermediate object on which we are setting values always behaves as a copy.\n",
      "\n",
      "For example, when doing 'df[col].method(value, inplace=True)', try using 'df.method({col: value}, inplace=True)' or df[col] = df[col].method(value) instead, to perform the operation inplace on the original object.\n",
      "\n",
      "\n",
      "  df['Cabin'].fillna('N', inplace=True)\n",
      "/var/folders/9d/lcchyqrx6jq_hz6pm4d1j7z80000gn/T/ipykernel_58162/3807705002.py:7: FutureWarning: A value is trying to be set on a copy of a DataFrame or Series through chained assignment using an inplace method.\n",
      "The behavior will change in pandas 3.0. This inplace method will never work because the intermediate object on which we are setting values always behaves as a copy.\n",
      "\n",
      "For example, when doing 'df[col].method(value, inplace=True)', try using 'df.method({col: value}, inplace=True)' or df[col] = df[col].method(value) instead, to perform the operation inplace on the original object.\n",
      "\n",
      "\n",
      "  df['Embarked'].fillna('N', inplace=True)\n",
      "/var/folders/9d/lcchyqrx6jq_hz6pm4d1j7z80000gn/T/ipykernel_58162/3807705002.py:8: FutureWarning: A value is trying to be set on a copy of a DataFrame or Series through chained assignment using an inplace method.\n",
      "The behavior will change in pandas 3.0. This inplace method will never work because the intermediate object on which we are setting values always behaves as a copy.\n",
      "\n",
      "For example, when doing 'df[col].method(value, inplace=True)', try using 'df.method({col: value}, inplace=True)' or df[col] = df[col].method(value) instead, to perform the operation inplace on the original object.\n",
      "\n",
      "\n",
      "  df['Fare'].fillna(0, inplace=True)\n"
     ]
    }
   ],
   "execution_count": 620
  },
  {
   "metadata": {
    "ExecuteTime": {
     "end_time": "2024-10-31T05:41:06.697040Z",
     "start_time": "2024-10-31T05:41:06.694536Z"
    }
   },
   "cell_type": "code",
   "source": [
    "import numpy as np\n",
    "\n",
    "# 로그 변환 적용 (값이 0 이하인 경우를 방지하기 위해 작은 값 더하기)\n",
    "X['Fare'] = np.log(X['Fare'] + 1)\n",
    "X['Age'] = np.log(X['Age'] + 1)\n",
    "\n"
   ],
   "id": "f9c749584b9d9a97",
   "outputs": [],
   "execution_count": 621
  },
  {
   "metadata": {
    "ExecuteTime": {
     "end_time": "2024-10-31T05:41:06.701468Z",
     "start_time": "2024-10-31T05:41:06.698937Z"
    }
   },
   "cell_type": "code",
   "source": [
    "from sklearn.model_selection import train_test_split\n",
    "X_train, X_test, y_train, y_test=train_test_split(X, Y, \\\n",
    "                                                  test_size=0.2, random_state=11)"
   ],
   "id": "5c5d3cd36646e8dc",
   "outputs": [],
   "execution_count": 622
  },
  {
   "metadata": {
    "ExecuteTime": {
     "end_time": "2024-10-31T05:41:06.706361Z",
     "start_time": "2024-10-31T05:41:06.702111Z"
    }
   },
   "cell_type": "code",
   "source": [
    "def batch_sampler(data, target, batch_size):\n",
    "    tot = len(data)\n",
    "    total_iter = tot // batch_size\n",
    "    for i in range(total_iter):\n",
    "        yield (data[i * batch_size:(i + 1) * batch_size],\n",
    "               target[i * batch_size:(i + 1) * batch_size])\n",
    "\n",
    "\n",
    "sampler = batch_sampler(data=X_train, target=y_train, batch_size=32)\n",
    "L = len(X_train) // 32\n",
    "for i in range(L):\n",
    "    next(sampler)\n",
    "print(X_train)"
   ],
   "id": "b7088fda25435d4",
   "outputs": [
    {
     "name": "stdout",
     "output_type": "stream",
     "text": [
      "     Pclass  Sex       Age  SibSp  Parch      Fare  Cabin  Embarked  \\\n",
      "333       3    1  2.833213      2      0  2.944439      7         3   \n",
      "662       1    1  3.871201      0      0  3.280441      4         3   \n",
      "382       3    1  3.496508      0      0  2.188856      7         3   \n",
      "331       1    1  3.839452      0      0  3.384390      2         3   \n",
      "149       2    1  3.761200      0      0  2.639057      7         3   \n",
      "..      ...  ...       ...    ...    ...       ...    ...       ...   \n",
      "269       1    0  3.583519      0      0  4.917301      2         3   \n",
      "337       1    0  3.737670      0      0  4.908972      4         0   \n",
      "91        3    1  3.044522      0      0  2.180892      7         3   \n",
      "80        3    1  3.135494      0      0  2.302585      7         3   \n",
      "703       3    1  3.258097      0      0  2.168105      7         2   \n",
      "\n",
      "     Sex_encode  \n",
      "333         0.0  \n",
      "662         0.0  \n",
      "382         0.0  \n",
      "331         0.0  \n",
      "149         0.0  \n",
      "..          ...  \n",
      "269         1.0  \n",
      "337         1.0  \n",
      "91          0.0  \n",
      "80          0.0  \n",
      "703         0.0  \n",
      "\n",
      "[712 rows x 9 columns]\n"
     ]
    }
   ],
   "execution_count": 623
  },
  {
   "metadata": {
    "ExecuteTime": {
     "end_time": "2024-10-31T05:41:06.711595Z",
     "start_time": "2024-10-31T05:41:06.706980Z"
    }
   },
   "cell_type": "code",
   "source": [
    "import numpy as np\n",
    "from tqdm import tqdm\n",
    "class LogisticRegression:\n",
    "    def __init__(self, learning_rate=0.01, epochs=400,batch_size = 32, n_features=9):\n",
    "        # 초기 가중치를 무작위로 설정\n",
    "        self.weights = np.random.randn(n_features)\n",
    "        self.b = np.random.randn()\n",
    "        self.learning_rate = learning_rate\n",
    "        self.epochs = epochs\n",
    "        self.loss_history = []\n",
    "        self.batch_size = batch_size\n",
    "\n",
    "    def sigmoid(self, z):\n",
    "        \"\"\"Sigmoid 활성화 함수\"\"\"\n",
    "        return 1.0 / (1 + np.exp(-z))\n",
    "\n",
    "    def compute_loss(self, preds, target):\n",
    "        \"\"\"교차 엔트로피 손실 계산\"\"\"\n",
    "        # 로그의 안정성을 위해 값들을 클리핑\n",
    "        preds = np.clip(preds, 1e-9, 1 - 1e-9)  # 0과 1의 범위를 벗어나지 않도록 함\n",
    "        loss = -((target * np.log(preds)) + (1 - target) * np.log(1 - preds)).mean()\n",
    "        return loss\n",
    "\n",
    "\n",
    "    def fit(self, X, y, batch_sampler):\n",
    "        \"\"\"모델 훈련 함수\"\"\"\n",
    "        for epoch in tqdm(range(self.epochs)):\n",
    "            sampler = batch_sampler(data=X, target=y, batch_size=self.batch_size)\n",
    "            batch_loss = []\n",
    "    \n",
    "            for X_batch, Y_batch in sampler:\n",
    "                # 순방향 전파\n",
    "                preds = self.sigmoid(np.dot(X_batch, self.weights) + self.b)\n",
    "    \n",
    "                # 손실 계산\n",
    "                loss = self.compute_loss(preds, Y_batch)\n",
    "                batch_loss.append(loss)\n",
    "    \n",
    "                # 그래디언트 계산\n",
    "                dloss_dz = preds - Y_batch\n",
    "                weights_deriv = np.dot(X_batch.T, dloss_dz) / X_batch.shape[0]\n",
    "                b_deriv = dloss_dz.mean()\n",
    "    \n",
    "                # 가중치 및 바이어스 업데이트\n",
    "                self.weights -= self.learning_rate * weights_deriv\n",
    "                self.b -= self.learning_rate * b_deriv\n",
    "    \n",
    "            # Epoch별 손실 저장\n",
    "            epoch_loss = np.mean(batch_loss)\n",
    "            self.loss_history.append(epoch_loss)\n",
    "            \n",
    "            # 에포크마다 손실 출력\n",
    "            print(f\"Epoch {epoch + 1}/{self.epochs} - Loss: {epoch_loss:.4f}\")\n",
    "\n",
    "\n",
    "    def predict(self, X):\n",
    "        \"\"\"모델 예측 함수\"\"\"\n",
    "        linear_comb = np.dot(X, self.weights) + self.b\n",
    "        return self.sigmoid(linear_comb) > 0.55\n",
    "\n",
    "    def accuracy(self, X, y):\n",
    "        \"\"\"정확도 계산 함수\"\"\"\n",
    "        preds = self.predict(X)\n",
    "        return (preds == y).mean() * 100\n",
    "\n",
    "\n"
   ],
   "id": "c0a35c8cbd1c3f9a",
   "outputs": [],
   "execution_count": 624
  },
  {
   "metadata": {
    "ExecuteTime": {
     "end_time": "2024-10-31T05:41:08.109080Z",
     "start_time": "2024-10-31T05:41:06.712137Z"
    }
   },
   "cell_type": "code",
   "source": [
    "model = LogisticRegression(learning_rate=0.005, epochs=200,batch_size=32, n_features=9)\n",
    "model.fit(X_train, y_train, batch_sampler=batch_sampler)\n",
    "# X_test에 대한 예측값 생성\n",
    "predictions = model.predict(X_test)\n",
    "\n",
    "# 정확도 계산\n",
    "def calculate_accuracy(predictions, y_test):\n",
    "    \"\"\"예측값과 실제값을 비교하여 정확도를 계산\"\"\"\n",
    "    correct_predictions = (predictions == y_test).sum()\n",
    "    accuracy = (correct_predictions / len(y_test)) * 100\n",
    "    return accuracy\n",
    "\n",
    "# y_test와 비교하여 정확도 계산\n",
    "accuracy = calculate_accuracy(predictions, y_test)\n",
    "print(f\"Test Accuracy: {accuracy:.2f}%\")\n"
   ],
   "id": "302e2c1bdd331eea",
   "outputs": [
    {
     "name": "stderr",
     "output_type": "stream",
     "text": [
      " 15%|█▌        | 30/200 [00:00<00:01, 145.32it/s]"
     ]
    },
    {
     "name": "stdout",
     "output_type": "stream",
     "text": [
      "Epoch 1/200 - Loss: 1.0670\n",
      "Epoch 2/200 - Loss: 0.9471\n",
      "Epoch 3/200 - Loss: 0.9028\n",
      "Epoch 4/200 - Loss: 0.8826\n",
      "Epoch 5/200 - Loss: 0.8688\n",
      "Epoch 6/200 - Loss: 0.8565\n",
      "Epoch 7/200 - Loss: 0.8447\n",
      "Epoch 8/200 - Loss: 0.8331\n",
      "Epoch 9/200 - Loss: 0.8217\n",
      "Epoch 10/200 - Loss: 0.8105\n",
      "Epoch 11/200 - Loss: 0.7995\n",
      "Epoch 12/200 - Loss: 0.7886\n",
      "Epoch 13/200 - Loss: 0.7780\n",
      "Epoch 14/200 - Loss: 0.7675\n",
      "Epoch 15/200 - Loss: 0.7572\n",
      "Epoch 16/200 - Loss: 0.7470\n",
      "Epoch 17/200 - Loss: 0.7371\n",
      "Epoch 18/200 - Loss: 0.7273\n",
      "Epoch 19/200 - Loss: 0.7178\n",
      "Epoch 20/200 - Loss: 0.7084\n",
      "Epoch 21/200 - Loss: 0.6993\n",
      "Epoch 22/200 - Loss: 0.6903\n",
      "Epoch 23/200 - Loss: 0.6816\n",
      "Epoch 24/200 - Loss: 0.6730\n",
      "Epoch 25/200 - Loss: 0.6647\n",
      "Epoch 26/200 - Loss: 0.6566\n",
      "Epoch 27/200 - Loss: 0.6487\n",
      "Epoch 28/200 - Loss: 0.6411\n",
      "Epoch 29/200 - Loss: 0.6336\n",
      "Epoch 30/200 - Loss: 0.6264\n"
     ]
    },
    {
     "name": "stderr",
     "output_type": "stream",
     "text": [
      " 22%|██▎       | 45/200 [00:00<00:01, 143.48it/s]"
     ]
    },
    {
     "name": "stdout",
     "output_type": "stream",
     "text": [
      "Epoch 31/200 - Loss: 0.6195\n",
      "Epoch 32/200 - Loss: 0.6127\n",
      "Epoch 33/200 - Loss: 0.6062\n",
      "Epoch 34/200 - Loss: 0.5999\n",
      "Epoch 35/200 - Loss: 0.5939\n",
      "Epoch 36/200 - Loss: 0.5881\n",
      "Epoch 37/200 - Loss: 0.5826\n",
      "Epoch 38/200 - Loss: 0.5773\n",
      "Epoch 39/200 - Loss: 0.5722\n",
      "Epoch 40/200 - Loss: 0.5673\n",
      "Epoch 41/200 - Loss: 0.5627\n",
      "Epoch 42/200 - Loss: 0.5583\n",
      "Epoch 43/200 - Loss: 0.5542\n",
      "Epoch 44/200 - Loss: 0.5502\n",
      "Epoch 45/200 - Loss: 0.5465\n"
     ]
    },
    {
     "name": "stderr",
     "output_type": "stream",
     "text": [
      " 30%|███       | 60/200 [00:00<00:00, 142.15it/s]"
     ]
    },
    {
     "name": "stdout",
     "output_type": "stream",
     "text": [
      "Epoch 46/200 - Loss: 0.5429\n",
      "Epoch 47/200 - Loss: 0.5395\n",
      "Epoch 48/200 - Loss: 0.5364\n",
      "Epoch 49/200 - Loss: 0.5334\n",
      "Epoch 50/200 - Loss: 0.5305\n",
      "Epoch 51/200 - Loss: 0.5278\n",
      "Epoch 52/200 - Loss: 0.5253\n",
      "Epoch 53/200 - Loss: 0.5229\n",
      "Epoch 54/200 - Loss: 0.5207\n",
      "Epoch 55/200 - Loss: 0.5185\n",
      "Epoch 56/200 - Loss: 0.5165\n",
      "Epoch 57/200 - Loss: 0.5146\n",
      "Epoch 58/200 - Loss: 0.5128\n",
      "Epoch 59/200 - Loss: 0.5111\n",
      "Epoch 60/200 - Loss: 0.5095\n",
      "Epoch 61/200 - Loss: 0.5080\n",
      "Epoch 62/200 - Loss: 0.5065\n",
      "Epoch 63/200 - Loss: 0.5052\n",
      "Epoch 64/200 - Loss: 0.5039\n",
      "Epoch 65/200 - Loss: 0.5026\n",
      "Epoch 66/200 - Loss: 0.5014\n",
      "Epoch 67/200 - Loss: 0.5003\n",
      "Epoch 68/200 - Loss: 0.4992\n",
      "Epoch 69/200 - Loss: 0.4982\n",
      "Epoch 70/200 - Loss: 0.4972\n",
      "Epoch 71/200 - Loss: 0.4963\n",
      "Epoch 72/200 - Loss: 0.4954\n",
      "Epoch 73/200 - Loss: 0.4946\n",
      "Epoch 74/200 - Loss: 0.4938\n",
      "Epoch 75/200 - Loss: 0.4930\n"
     ]
    },
    {
     "name": "stderr",
     "output_type": "stream",
     "text": [
      " 45%|████▌     | 90/200 [00:00<00:00, 143.57it/s]"
     ]
    },
    {
     "name": "stdout",
     "output_type": "stream",
     "text": [
      "Epoch 76/200 - Loss: 0.4922\n",
      "Epoch 77/200 - Loss: 0.4915\n",
      "Epoch 78/200 - Loss: 0.4908\n",
      "Epoch 79/200 - Loss: 0.4901\n",
      "Epoch 80/200 - Loss: 0.4895\n",
      "Epoch 81/200 - Loss: 0.4889\n",
      "Epoch 82/200 - Loss: 0.4883\n",
      "Epoch 83/200 - Loss: 0.4877\n",
      "Epoch 84/200 - Loss: 0.4871\n",
      "Epoch 85/200 - Loss: 0.4866\n",
      "Epoch 86/200 - Loss: 0.4861\n",
      "Epoch 87/200 - Loss: 0.4856\n",
      "Epoch 88/200 - Loss: 0.4851\n",
      "Epoch 89/200 - Loss: 0.4846\n",
      "Epoch 90/200 - Loss: 0.4842\n"
     ]
    },
    {
     "name": "stderr",
     "output_type": "stream",
     "text": [
      " 60%|██████    | 120/200 [00:00<00:00, 143.79it/s]"
     ]
    },
    {
     "name": "stdout",
     "output_type": "stream",
     "text": [
      "Epoch 91/200 - Loss: 0.4837\n",
      "Epoch 92/200 - Loss: 0.4833\n",
      "Epoch 93/200 - Loss: 0.4829\n",
      "Epoch 94/200 - Loss: 0.4825\n",
      "Epoch 95/200 - Loss: 0.4821\n",
      "Epoch 96/200 - Loss: 0.4817\n",
      "Epoch 97/200 - Loss: 0.4814\n",
      "Epoch 98/200 - Loss: 0.4810\n",
      "Epoch 99/200 - Loss: 0.4807\n",
      "Epoch 100/200 - Loss: 0.4803\n",
      "Epoch 101/200 - Loss: 0.4800\n",
      "Epoch 102/200 - Loss: 0.4797\n",
      "Epoch 103/200 - Loss: 0.4794\n",
      "Epoch 104/200 - Loss: 0.4790\n",
      "Epoch 105/200 - Loss: 0.4787\n",
      "Epoch 106/200 - Loss: 0.4785\n",
      "Epoch 107/200 - Loss: 0.4782\n",
      "Epoch 108/200 - Loss: 0.4779\n",
      "Epoch 109/200 - Loss: 0.4776\n",
      "Epoch 110/200 - Loss: 0.4774\n",
      "Epoch 111/200 - Loss: 0.4771\n",
      "Epoch 112/200 - Loss: 0.4768\n",
      "Epoch 113/200 - Loss: 0.4766\n",
      "Epoch 114/200 - Loss: 0.4764\n",
      "Epoch 115/200 - Loss: 0.4761\n",
      "Epoch 116/200 - Loss: 0.4759\n",
      "Epoch 117/200 - Loss: 0.4757\n",
      "Epoch 118/200 - Loss: 0.4754\n",
      "Epoch 119/200 - Loss: 0.4752\n",
      "Epoch 120/200 - Loss: 0.4750\n"
     ]
    },
    {
     "name": "stderr",
     "output_type": "stream",
     "text": [
      " 68%|██████▊   | 135/200 [00:00<00:00, 144.26it/s]"
     ]
    },
    {
     "name": "stdout",
     "output_type": "stream",
     "text": [
      "Epoch 121/200 - Loss: 0.4748\n",
      "Epoch 122/200 - Loss: 0.4746\n",
      "Epoch 123/200 - Loss: 0.4744\n",
      "Epoch 124/200 - Loss: 0.4742\n",
      "Epoch 125/200 - Loss: 0.4740\n",
      "Epoch 126/200 - Loss: 0.4738\n",
      "Epoch 127/200 - Loss: 0.4736\n",
      "Epoch 128/200 - Loss: 0.4734\n",
      "Epoch 129/200 - Loss: 0.4733\n",
      "Epoch 130/200 - Loss: 0.4731\n",
      "Epoch 131/200 - Loss: 0.4729\n",
      "Epoch 132/200 - Loss: 0.4727\n",
      "Epoch 133/200 - Loss: 0.4726\n",
      "Epoch 134/200 - Loss: 0.4724\n",
      "Epoch 135/200 - Loss: 0.4723\n"
     ]
    },
    {
     "name": "stderr",
     "output_type": "stream",
     "text": [
      " 75%|███████▌  | 150/200 [00:01<00:00, 145.15it/s]"
     ]
    },
    {
     "name": "stdout",
     "output_type": "stream",
     "text": [
      "Epoch 136/200 - Loss: 0.4721\n",
      "Epoch 137/200 - Loss: 0.4719\n",
      "Epoch 138/200 - Loss: 0.4718\n",
      "Epoch 139/200 - Loss: 0.4716\n",
      "Epoch 140/200 - Loss: 0.4715\n",
      "Epoch 141/200 - Loss: 0.4713\n",
      "Epoch 142/200 - Loss: 0.4712\n",
      "Epoch 143/200 - Loss: 0.4711\n",
      "Epoch 144/200 - Loss: 0.4709\n",
      "Epoch 145/200 - Loss: 0.4708\n",
      "Epoch 146/200 - Loss: 0.4707\n",
      "Epoch 147/200 - Loss: 0.4705\n",
      "Epoch 148/200 - Loss: 0.4704\n",
      "Epoch 149/200 - Loss: 0.4703\n",
      "Epoch 150/200 - Loss: 0.4701\n",
      "Epoch 151/200 - Loss: 0.4700\n",
      "Epoch 152/200 - Loss: 0.4699\n",
      "Epoch 153/200 - Loss: 0.4698\n",
      "Epoch 154/200 - Loss: 0.4697\n",
      "Epoch 155/200 - Loss: 0.4695\n",
      "Epoch 156/200 - Loss: 0.4694\n",
      "Epoch 157/200 - Loss: 0.4693\n",
      "Epoch 158/200 - Loss: 0.4692\n",
      "Epoch 159/200 - Loss: 0.4691\n",
      "Epoch 160/200 - Loss: 0.4690\n",
      "Epoch 161/200 - Loss: 0.4689\n",
      "Epoch 162/200 - Loss: 0.4688\n",
      "Epoch 163/200 - Loss: 0.4687\n",
      "Epoch 164/200 - Loss: 0.4686\n",
      "Epoch 165/200 - Loss: 0.4685\n"
     ]
    },
    {
     "name": "stderr",
     "output_type": "stream",
     "text": [
      " 90%|█████████ | 180/200 [00:01<00:00, 143.49it/s]"
     ]
    },
    {
     "name": "stdout",
     "output_type": "stream",
     "text": [
      "Epoch 166/200 - Loss: 0.4684\n",
      "Epoch 167/200 - Loss: 0.4683\n",
      "Epoch 168/200 - Loss: 0.4682\n",
      "Epoch 169/200 - Loss: 0.4681\n",
      "Epoch 170/200 - Loss: 0.4680\n",
      "Epoch 171/200 - Loss: 0.4679\n",
      "Epoch 172/200 - Loss: 0.4678\n",
      "Epoch 173/200 - Loss: 0.4677\n",
      "Epoch 174/200 - Loss: 0.4676\n",
      "Epoch 175/200 - Loss: 0.4675\n",
      "Epoch 176/200 - Loss: 0.4675\n",
      "Epoch 177/200 - Loss: 0.4674\n",
      "Epoch 178/200 - Loss: 0.4673\n",
      "Epoch 179/200 - Loss: 0.4672\n",
      "Epoch 180/200 - Loss: 0.4671\n"
     ]
    },
    {
     "name": "stderr",
     "output_type": "stream",
     "text": [
      "100%|██████████| 200/200 [00:01<00:00, 143.60it/s]"
     ]
    },
    {
     "name": "stdout",
     "output_type": "stream",
     "text": [
      "Epoch 181/200 - Loss: 0.4671\n",
      "Epoch 182/200 - Loss: 0.4670\n",
      "Epoch 183/200 - Loss: 0.4669\n",
      "Epoch 184/200 - Loss: 0.4668\n",
      "Epoch 185/200 - Loss: 0.4667\n",
      "Epoch 186/200 - Loss: 0.4667\n",
      "Epoch 187/200 - Loss: 0.4666\n",
      "Epoch 188/200 - Loss: 0.4665\n",
      "Epoch 189/200 - Loss: 0.4664\n",
      "Epoch 190/200 - Loss: 0.4664\n",
      "Epoch 191/200 - Loss: 0.4663\n",
      "Epoch 192/200 - Loss: 0.4662\n",
      "Epoch 193/200 - Loss: 0.4662\n",
      "Epoch 194/200 - Loss: 0.4661\n",
      "Epoch 195/200 - Loss: 0.4660\n",
      "Epoch 196/200 - Loss: 0.4660\n",
      "Epoch 197/200 - Loss: 0.4659\n",
      "Epoch 198/200 - Loss: 0.4658\n",
      "Epoch 199/200 - Loss: 0.4658\n",
      "Epoch 200/200 - Loss: 0.4657\n",
      "Test Accuracy: 84.92%\n"
     ]
    },
    {
     "name": "stderr",
     "output_type": "stream",
     "text": [
      "\n"
     ]
    }
   ],
   "execution_count": 625
  },
  {
   "metadata": {
    "ExecuteTime": {
     "end_time": "2024-10-31T05:41:08.838960Z",
     "start_time": "2024-10-31T05:41:08.109802Z"
    }
   },
   "cell_type": "code",
   "source": [
    "model = LogisticRegression(learning_rate=0.005, epochs=200,batch_size=64, n_features=9)\n",
    "model.fit(X_train, y_train, batch_sampler=batch_sampler)\n",
    "# X_test에 대한 예측값 생성\n",
    "predictions = model.predict(X_test)\n",
    "\n",
    "# 정확도 계산\n",
    "def calculate_accuracy(predictions, y_test):\n",
    "    \"\"\"예측값과 실제값을 비교하여 정확도를 계산\"\"\"\n",
    "    correct_predictions = (predictions == y_test).sum()\n",
    "    accuracy = (correct_predictions / len(y_test)) * 100\n",
    "    return accuracy\n",
    "\n",
    "# y_test와 비교하여 정확도 계산\n",
    "accuracy = calculate_accuracy(predictions, y_test)\n",
    "print(f\"Test Accuracy: {accuracy:.2f}%\")\n"
   ],
   "id": "8467cddc9aa3c12d",
   "outputs": [
    {
     "name": "stderr",
     "output_type": "stream",
     "text": [
      "  0%|          | 0/200 [00:00<?, ?it/s]"
     ]
    },
    {
     "name": "stdout",
     "output_type": "stream",
     "text": [
      "Epoch 1/200 - Loss: 2.1884\n",
      "Epoch 2/200 - Loss: 1.8866\n",
      "Epoch 3/200 - Loss: 1.7617\n",
      "Epoch 4/200 - Loss: 1.7061\n",
      "Epoch 5/200 - Loss: 1.6717\n",
      "Epoch 6/200 - Loss: 1.6434\n",
      "Epoch 7/200 - Loss: 1.6168\n",
      "Epoch 8/200 - Loss: 1.5909\n",
      "Epoch 9/200 - Loss: 1.5652\n",
      "Epoch 10/200 - Loss: 1.5397\n",
      "Epoch 11/200 - Loss: 1.5145\n",
      "Epoch 12/200 - Loss: 1.4894\n",
      "Epoch 13/200 - Loss: 1.4646\n",
      "Epoch 14/200 - Loss: 1.4400\n",
      "Epoch 15/200 - Loss: 1.4156\n",
      "Epoch 16/200 - Loss: 1.3914\n",
      "Epoch 17/200 - Loss: 1.3674\n",
      "Epoch 18/200 - Loss: 1.3437\n",
      "Epoch 19/200 - Loss: 1.3202\n"
     ]
    },
    {
     "name": "stderr",
     "output_type": "stream",
     "text": [
      " 24%|██▍       | 49/200 [00:00<00:00, 250.18it/s]"
     ]
    },
    {
     "name": "stdout",
     "output_type": "stream",
     "text": [
      "Epoch 20/200 - Loss: 1.2969\n",
      "Epoch 21/200 - Loss: 1.2739\n",
      "Epoch 22/200 - Loss: 1.2512\n",
      "Epoch 23/200 - Loss: 1.2287\n",
      "Epoch 24/200 - Loss: 1.2065\n",
      "Epoch 25/200 - Loss: 1.1845\n",
      "Epoch 26/200 - Loss: 1.1629\n",
      "Epoch 27/200 - Loss: 1.1415\n",
      "Epoch 28/200 - Loss: 1.1204\n",
      "Epoch 29/200 - Loss: 1.0997\n",
      "Epoch 30/200 - Loss: 1.0792\n",
      "Epoch 31/200 - Loss: 1.0591\n",
      "Epoch 32/200 - Loss: 1.0393\n",
      "Epoch 33/200 - Loss: 1.0199\n",
      "Epoch 34/200 - Loss: 1.0009\n",
      "Epoch 35/200 - Loss: 0.9822\n",
      "Epoch 36/200 - Loss: 0.9639\n",
      "Epoch 37/200 - Loss: 0.9460\n",
      "Epoch 38/200 - Loss: 0.9285\n",
      "Epoch 39/200 - Loss: 0.9115\n",
      "Epoch 40/200 - Loss: 0.8949\n",
      "Epoch 41/200 - Loss: 0.8787\n",
      "Epoch 42/200 - Loss: 0.8630\n",
      "Epoch 43/200 - Loss: 0.8478\n",
      "Epoch 44/200 - Loss: 0.8331\n",
      "Epoch 45/200 - Loss: 0.8188\n",
      "Epoch 46/200 - Loss: 0.8051\n",
      "Epoch 47/200 - Loss: 0.7919\n",
      "Epoch 48/200 - Loss: 0.7791\n",
      "Epoch 49/200 - Loss: 0.7669\n"
     ]
    },
    {
     "name": "stderr",
     "output_type": "stream",
     "text": [
      " 39%|███▉      | 78/200 [00:00<00:00, 267.15it/s]"
     ]
    },
    {
     "name": "stdout",
     "output_type": "stream",
     "text": [
      "Epoch 50/200 - Loss: 0.7552\n",
      "Epoch 51/200 - Loss: 0.7439\n",
      "Epoch 52/200 - Loss: 0.7332\n",
      "Epoch 53/200 - Loss: 0.7230\n",
      "Epoch 54/200 - Loss: 0.7132\n",
      "Epoch 55/200 - Loss: 0.7040\n",
      "Epoch 56/200 - Loss: 0.6951\n",
      "Epoch 57/200 - Loss: 0.6868\n",
      "Epoch 58/200 - Loss: 0.6788\n",
      "Epoch 59/200 - Loss: 0.6713\n",
      "Epoch 60/200 - Loss: 0.6642\n",
      "Epoch 61/200 - Loss: 0.6575\n",
      "Epoch 62/200 - Loss: 0.6511\n",
      "Epoch 63/200 - Loss: 0.6451\n",
      "Epoch 64/200 - Loss: 0.6395\n",
      "Epoch 65/200 - Loss: 0.6341\n",
      "Epoch 66/200 - Loss: 0.6290\n",
      "Epoch 67/200 - Loss: 0.6243\n",
      "Epoch 68/200 - Loss: 0.6198\n",
      "Epoch 69/200 - Loss: 0.6155\n",
      "Epoch 70/200 - Loss: 0.6115\n",
      "Epoch 71/200 - Loss: 0.6077\n",
      "Epoch 72/200 - Loss: 0.6042\n",
      "Epoch 73/200 - Loss: 0.6008\n",
      "Epoch 74/200 - Loss: 0.5976\n",
      "Epoch 75/200 - Loss: 0.5946\n",
      "Epoch 76/200 - Loss: 0.5917\n",
      "Epoch 77/200 - Loss: 0.5890\n",
      "Epoch 78/200 - Loss: 0.5864\n"
     ]
    },
    {
     "name": "stderr",
     "output_type": "stream",
     "text": [
      " 54%|█████▍    | 108/200 [00:00<00:00, 276.47it/s]"
     ]
    },
    {
     "name": "stdout",
     "output_type": "stream",
     "text": [
      "Epoch 79/200 - Loss: 0.5840\n",
      "Epoch 80/200 - Loss: 0.5817\n",
      "Epoch 81/200 - Loss: 0.5795\n",
      "Epoch 82/200 - Loss: 0.5774\n",
      "Epoch 83/200 - Loss: 0.5754\n",
      "Epoch 84/200 - Loss: 0.5735\n",
      "Epoch 85/200 - Loss: 0.5717\n",
      "Epoch 86/200 - Loss: 0.5700\n",
      "Epoch 87/200 - Loss: 0.5683\n",
      "Epoch 88/200 - Loss: 0.5667\n",
      "Epoch 89/200 - Loss: 0.5652\n",
      "Epoch 90/200 - Loss: 0.5638\n",
      "Epoch 91/200 - Loss: 0.5624\n",
      "Epoch 92/200 - Loss: 0.5610\n",
      "Epoch 93/200 - Loss: 0.5598\n",
      "Epoch 94/200 - Loss: 0.5585\n",
      "Epoch 95/200 - Loss: 0.5573\n",
      "Epoch 96/200 - Loss: 0.5562\n",
      "Epoch 97/200 - Loss: 0.5551\n",
      "Epoch 98/200 - Loss: 0.5540\n",
      "Epoch 99/200 - Loss: 0.5530\n",
      "Epoch 100/200 - Loss: 0.5520\n",
      "Epoch 101/200 - Loss: 0.5510\n",
      "Epoch 102/200 - Loss: 0.5500\n",
      "Epoch 103/200 - Loss: 0.5491\n",
      "Epoch 104/200 - Loss: 0.5482\n",
      "Epoch 105/200 - Loss: 0.5474\n",
      "Epoch 106/200 - Loss: 0.5465\n",
      "Epoch 107/200 - Loss: 0.5457\n",
      "Epoch 108/200 - Loss: 0.5449\n"
     ]
    },
    {
     "name": "stderr",
     "output_type": "stream",
     "text": [
      " 84%|████████▎ | 167/200 [00:00<00:00, 284.22it/s]"
     ]
    },
    {
     "name": "stdout",
     "output_type": "stream",
     "text": [
      "Epoch 109/200 - Loss: 0.5441\n",
      "Epoch 110/200 - Loss: 0.5434\n",
      "Epoch 111/200 - Loss: 0.5426\n",
      "Epoch 112/200 - Loss: 0.5419\n",
      "Epoch 113/200 - Loss: 0.5412\n",
      "Epoch 114/200 - Loss: 0.5405\n",
      "Epoch 115/200 - Loss: 0.5398\n",
      "Epoch 116/200 - Loss: 0.5392\n",
      "Epoch 117/200 - Loss: 0.5385\n",
      "Epoch 118/200 - Loss: 0.5379\n",
      "Epoch 119/200 - Loss: 0.5372\n",
      "Epoch 120/200 - Loss: 0.5366\n",
      "Epoch 121/200 - Loss: 0.5360\n",
      "Epoch 122/200 - Loss: 0.5354\n",
      "Epoch 123/200 - Loss: 0.5348\n",
      "Epoch 124/200 - Loss: 0.5343\n",
      "Epoch 125/200 - Loss: 0.5337\n",
      "Epoch 126/200 - Loss: 0.5331\n",
      "Epoch 127/200 - Loss: 0.5326\n",
      "Epoch 128/200 - Loss: 0.5320\n",
      "Epoch 129/200 - Loss: 0.5315\n",
      "Epoch 130/200 - Loss: 0.5310\n",
      "Epoch 131/200 - Loss: 0.5305\n",
      "Epoch 132/200 - Loss: 0.5299\n",
      "Epoch 133/200 - Loss: 0.5294\n",
      "Epoch 134/200 - Loss: 0.5289\n",
      "Epoch 135/200 - Loss: 0.5284\n",
      "Epoch 136/200 - Loss: 0.5280\n",
      "Epoch 137/200 - Loss: 0.5275\n",
      "Epoch 138/200 - Loss: 0.5270\n",
      "Epoch 139/200 - Loss: 0.5265\n",
      "Epoch 140/200 - Loss: 0.5261\n",
      "Epoch 141/200 - Loss: 0.5256\n",
      "Epoch 142/200 - Loss: 0.5251\n",
      "Epoch 143/200 - Loss: 0.5247\n",
      "Epoch 144/200 - Loss: 0.5243\n",
      "Epoch 145/200 - Loss: 0.5238\n",
      "Epoch 146/200 - Loss: 0.5234\n",
      "Epoch 147/200 - Loss: 0.5229\n",
      "Epoch 148/200 - Loss: 0.5225\n",
      "Epoch 149/200 - Loss: 0.5221\n",
      "Epoch 150/200 - Loss: 0.5217\n",
      "Epoch 151/200 - Loss: 0.5213\n",
      "Epoch 152/200 - Loss: 0.5209\n",
      "Epoch 153/200 - Loss: 0.5204\n",
      "Epoch 154/200 - Loss: 0.5200\n",
      "Epoch 155/200 - Loss: 0.5196\n",
      "Epoch 156/200 - Loss: 0.5193\n",
      "Epoch 157/200 - Loss: 0.5189\n",
      "Epoch 158/200 - Loss: 0.5185\n",
      "Epoch 159/200 - Loss: 0.5181\n",
      "Epoch 160/200 - Loss: 0.5177\n",
      "Epoch 161/200 - Loss: 0.5173\n",
      "Epoch 162/200 - Loss: 0.5170\n",
      "Epoch 163/200 - Loss: 0.5166\n",
      "Epoch 164/200 - Loss: 0.5162\n",
      "Epoch 165/200 - Loss: 0.5159\n",
      "Epoch 166/200 - Loss: 0.5155\n",
      "Epoch 167/200 - Loss: 0.5151\n"
     ]
    },
    {
     "name": "stderr",
     "output_type": "stream",
     "text": [
      "100%|██████████| 200/200 [00:00<00:00, 275.82it/s]"
     ]
    },
    {
     "name": "stdout",
     "output_type": "stream",
     "text": [
      "Epoch 168/200 - Loss: 0.5148\n",
      "Epoch 169/200 - Loss: 0.5144\n",
      "Epoch 170/200 - Loss: 0.5141\n",
      "Epoch 171/200 - Loss: 0.5137\n",
      "Epoch 172/200 - Loss: 0.5134\n",
      "Epoch 173/200 - Loss: 0.5131\n",
      "Epoch 174/200 - Loss: 0.5127\n",
      "Epoch 175/200 - Loss: 0.5124\n",
      "Epoch 176/200 - Loss: 0.5120\n",
      "Epoch 177/200 - Loss: 0.5117\n",
      "Epoch 178/200 - Loss: 0.5114\n",
      "Epoch 179/200 - Loss: 0.5111\n",
      "Epoch 180/200 - Loss: 0.5107\n",
      "Epoch 181/200 - Loss: 0.5104\n",
      "Epoch 182/200 - Loss: 0.5101\n",
      "Epoch 183/200 - Loss: 0.5098\n",
      "Epoch 184/200 - Loss: 0.5095\n",
      "Epoch 185/200 - Loss: 0.5092\n",
      "Epoch 186/200 - Loss: 0.5089\n",
      "Epoch 187/200 - Loss: 0.5086\n",
      "Epoch 188/200 - Loss: 0.5083\n",
      "Epoch 189/200 - Loss: 0.5080\n",
      "Epoch 190/200 - Loss: 0.5077\n",
      "Epoch 191/200 - Loss: 0.5074\n",
      "Epoch 192/200 - Loss: 0.5071\n",
      "Epoch 193/200 - Loss: 0.5068\n",
      "Epoch 194/200 - Loss: 0.5065\n",
      "Epoch 195/200 - Loss: 0.5062\n",
      "Epoch 196/200 - Loss: 0.5059\n",
      "Epoch 197/200 - Loss: 0.5056\n",
      "Epoch 198/200 - Loss: 0.5053\n",
      "Epoch 199/200 - Loss: 0.5051\n",
      "Epoch 200/200 - Loss: 0.5048\n",
      "Test Accuracy: 81.56%\n"
     ]
    },
    {
     "name": "stderr",
     "output_type": "stream",
     "text": [
      "\n"
     ]
    }
   ],
   "execution_count": 626
  },
  {
   "metadata": {
    "ExecuteTime": {
     "end_time": "2024-10-31T05:41:08.841267Z",
     "start_time": "2024-10-31T05:41:08.839942Z"
    }
   },
   "cell_type": "code",
   "source": "",
   "id": "faa9a1acf2c1ef91",
   "outputs": [],
   "execution_count": 626
  }
 ],
 "metadata": {
  "kernelspec": {
   "display_name": "Python 3",
   "language": "python",
   "name": "python3"
  },
  "language_info": {
   "codemirror_mode": {
    "name": "ipython",
    "version": 2
   },
   "file_extension": ".py",
   "mimetype": "text/x-python",
   "name": "python",
   "nbconvert_exporter": "python",
   "pygments_lexer": "ipython2",
   "version": "2.7.6"
  }
 },
 "nbformat": 4,
 "nbformat_minor": 5
}
