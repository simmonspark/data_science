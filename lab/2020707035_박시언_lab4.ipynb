{
 "cells": [
  {
   "metadata": {},
   "cell_type": "markdown",
   "source": [
    "### 2020707035 박시언 Lab4\n",
    "\n",
    "1. nan null data handling\n",
    "2. feature to feature corr check and drop\n",
    "3. feature to Y corr check and select\n",
    "4. hyperparameter tuning with Bayesian Optimization"
   ],
   "id": "92d0c367c0506418"
  },
  {
   "cell_type": "code",
   "id": "initial_id",
   "metadata": {
    "collapsed": true,
    "ExecuteTime": {
     "end_time": "2024-10-17T14:19:47.134378Z",
     "start_time": "2024-10-17T14:19:47.122387Z"
    }
   },
   "source": [
    "import pandas as pd\n",
    "import numpy as np\n",
    "import xgboost as xgb\n",
    "from sklearn.preprocessing import LabelEncoder, StandardScaler\n",
    "from sklearn.model_selection import train_test_split\n",
    "\n",
    "encoder = LabelEncoder()\n",
    "model = xgb.XGBRegressor()\n",
    "model_param = dict(min_samples_rate=0.9, n_extimators=10, max_depth=6)\n",
    "\n",
    "data = pd.read_csv('./train.csv')\n",
    "dum = np.random.rand(len(data), 5)\n",
    "train_df, test_df, _, __ = train_test_split(data, dum)\n",
    "object_columns = data.select_dtypes(include=['object']).columns\n"
   ],
   "outputs": [],
   "execution_count": 72
  },
  {
   "metadata": {
    "ExecuteTime": {
     "end_time": "2024-10-17T14:19:47.147970Z",
     "start_time": "2024-10-17T14:19:47.144815Z"
    }
   },
   "cell_type": "code",
   "source": "test_df['LotFrontage']",
   "id": "6a19e044b42159de",
   "outputs": [
    {
     "data": {
      "text/plain": [
       "190     70.0\n",
       "1235    96.0\n",
       "482     50.0\n",
       "879      NaN\n",
       "391     71.0\n",
       "        ... \n",
       "659     75.0\n",
       "843     80.0\n",
       "1086     NaN\n",
       "146     51.0\n",
       "1248    60.0\n",
       "Name: LotFrontage, Length: 365, dtype: float64"
      ]
     },
     "execution_count": 73,
     "metadata": {},
     "output_type": "execute_result"
    }
   ],
   "execution_count": 73
  },
  {
   "metadata": {
    "ExecuteTime": {
     "end_time": "2024-10-17T14:19:47.211280Z",
     "start_time": "2024-10-17T14:19:47.207047Z"
    }
   },
   "cell_type": "code",
   "source": "train_df.isna().sum()",
   "id": "e182e9bdcdc2db26",
   "outputs": [
    {
     "data": {
      "text/plain": [
       "Id                 0\n",
       "MSSubClass         0\n",
       "MSZoning           0\n",
       "LotFrontage      194\n",
       "LotArea            0\n",
       "                ... \n",
       "MoSold             0\n",
       "YrSold             0\n",
       "SaleType           0\n",
       "SaleCondition      0\n",
       "SalePrice          0\n",
       "Length: 81, dtype: int64"
      ]
     },
     "execution_count": 74,
     "metadata": {},
     "output_type": "execute_result"
    }
   ],
   "execution_count": 74
  },
  {
   "metadata": {
    "ExecuteTime": {
     "end_time": "2024-10-17T14:19:47.281680Z",
     "start_time": "2024-10-17T14:19:47.277760Z"
    }
   },
   "cell_type": "code",
   "source": "test_df.isna().sum()",
   "id": "fe72c9609413d554",
   "outputs": [
    {
     "data": {
      "text/plain": [
       "Id                0\n",
       "MSSubClass        0\n",
       "MSZoning          0\n",
       "LotFrontage      65\n",
       "LotArea           0\n",
       "                 ..\n",
       "MoSold            0\n",
       "YrSold            0\n",
       "SaleType          0\n",
       "SaleCondition     0\n",
       "SalePrice         0\n",
       "Length: 81, dtype: int64"
      ]
     },
     "execution_count": 75,
     "metadata": {},
     "output_type": "execute_result"
    }
   ],
   "execution_count": 75
  },
  {
   "metadata": {
    "ExecuteTime": {
     "end_time": "2024-10-17T14:19:47.351527Z",
     "start_time": "2024-10-17T14:19:47.347254Z"
    }
   },
   "cell_type": "code",
   "source": "train_df.isnull().sum()",
   "id": "48be49ba304a3cb",
   "outputs": [
    {
     "data": {
      "text/plain": [
       "Id                 0\n",
       "MSSubClass         0\n",
       "MSZoning           0\n",
       "LotFrontage      194\n",
       "LotArea            0\n",
       "                ... \n",
       "MoSold             0\n",
       "YrSold             0\n",
       "SaleType           0\n",
       "SaleCondition      0\n",
       "SalePrice          0\n",
       "Length: 81, dtype: int64"
      ]
     },
     "execution_count": 76,
     "metadata": {},
     "output_type": "execute_result"
    }
   ],
   "execution_count": 76
  },
  {
   "metadata": {
    "ExecuteTime": {
     "end_time": "2024-10-17T14:19:47.393066Z",
     "start_time": "2024-10-17T14:19:47.391023Z"
    }
   },
   "cell_type": "code",
   "source": "len(train_df)",
   "id": "722607626fbb2956",
   "outputs": [
    {
     "data": {
      "text/plain": [
       "1095"
      ]
     },
     "execution_count": 77,
     "metadata": {},
     "output_type": "execute_result"
    }
   ],
   "execution_count": 77
  },
  {
   "metadata": {
    "ExecuteTime": {
     "end_time": "2024-10-17T14:19:47.446435Z",
     "start_time": "2024-10-17T14:19:47.442852Z"
    }
   },
   "cell_type": "code",
   "source": [
    "def NullDropHandler(train, test):\n",
    "    tmp_stack = []\n",
    "\n",
    "    # 1. train과 test 데이터프레임의 공통 열만 처리\n",
    "    common_columns = train.columns.intersection(test.columns)\n",
    "\n",
    "    # 2. 결측값이 200개 이상인 열은 삭제\n",
    "    for column in common_columns:\n",
    "        if train[column].isnull().sum() > 500:\n",
    "            train = train.drop([column], axis=1)\n",
    "            test = test.drop([column], axis=1)\n",
    "            tmp_stack.append(column)  # 제거한 열을 스택에 저장\n",
    "\n",
    "    # 공통 열 리스트를 업데이트하여 삭제된 열을 제외\n",
    "    common_columns = train.columns.intersection(test.columns)\n",
    "\n",
    "    # 3. 결측값이 있는 열을 처리\n",
    "    for column in common_columns:\n",
    "        # train 데이터프레임에서 결측값이 있는 경우\n",
    "        if train[column].isnull().sum() > 0:\n",
    "            if train[column].dtype != 'object':  # 숫자형 데이터 확인\n",
    "                value_train = train[column].mean()\n",
    "                train[column] = train[column].fillna(value_train)\n",
    "            else:\n",
    "                train[column] = train[column].fillna(str('none'))\n",
    "\n",
    "                # test 데이터프레임에서 결측값이 있는 경우\n",
    "        if test[column].isnull().sum() > 0:\n",
    "            if test[column].dtype != 'object':  # 숫자형 데이터 확인\n",
    "                value_test = test[column].mean()\n",
    "                test[column] = test[column].fillna(value_test)\n",
    "            else:\n",
    "                test[column] = test[column].fillna(str('none'))\n",
    "\n",
    "    return train, test, tmp_stack  # 제거된 열 목록도 반환\n"
   ],
   "id": "4287458fe14d5910",
   "outputs": [],
   "execution_count": 78
  },
  {
   "metadata": {
    "ExecuteTime": {
     "end_time": "2024-10-17T14:19:47.501712Z",
     "start_time": "2024-10-17T14:19:47.499092Z"
    }
   },
   "cell_type": "code",
   "source": "len(train_df.columns)",
   "id": "6c0a0d4988a72786",
   "outputs": [
    {
     "data": {
      "text/plain": [
       "81"
      ]
     },
     "execution_count": 79,
     "metadata": {},
     "output_type": "execute_result"
    }
   ],
   "execution_count": 79
  },
  {
   "metadata": {
    "ExecuteTime": {
     "end_time": "2024-10-17T14:19:47.551590Z",
     "start_time": "2024-10-17T14:19:47.547882Z"
    }
   },
   "cell_type": "code",
   "source": "print(train_df.isnull().sum().sum())",
   "id": "4f570c3e8310255a",
   "outputs": [
    {
     "name": "stdout",
     "output_type": "stream",
     "text": [
      "5890\n"
     ]
    }
   ],
   "execution_count": 80
  },
  {
   "metadata": {
    "ExecuteTime": {
     "end_time": "2024-10-17T14:19:47.619225Z",
     "start_time": "2024-10-17T14:19:47.596195Z"
    }
   },
   "cell_type": "code",
   "source": [
    "def NaNHandler(train, test):\n",
    "    tmp_stack = []\n",
    "    common_columns = train.columns.intersection(test.columns)\n",
    "    # 1. NaN 값이 200개 이상인 열은 삭제\n",
    "    for column in common_columns:\n",
    "        if train[column].isna().sum() > 200:\n",
    "            train = train.drop([column], axis=1)\n",
    "            test = test.drop([column], axis=1)\n",
    "            tmp_stack.append(column)\n",
    "    common_columns = train.columns.intersection(test.columns)\n",
    "    # 2. NaN 값이 있는 열을 처리\n",
    "    for column in common_columns:\n",
    "        # train 데이터프레임에서 결측값이 있는 경우\n",
    "        if train[column].isna().sum() > 0:\n",
    "            if train[column].dtype != 'object':  # 숫자형 데이터 확인\n",
    "                value_train = train[column].mean()\n",
    "                train[column] = train[column].fillna(value_train)  # 평균값으로 NaN 채움\n",
    "            else:\n",
    "                train[column] = train[column].fillna(str('none'))\n",
    "\n",
    "                # test 데이터프레임에서 결측값이 있는 경우\n",
    "        if test[column].isna().sum() > 0:\n",
    "            if test[column].dtype != 'object':  # 숫자형 데이터 확인\n",
    "                value_test = test[column].mean()\n",
    "                test[column] = test[column].fillna(value_test)  # 평균값으로 NaN 채움\n",
    "            else:\n",
    "                test[column] = test[column].fillna(str('none'))\n",
    "\n",
    "    return train, test, tmp_stack\n",
    "\n",
    "\n",
    "train_df, test_df, removed_columns = NaNHandler(train_df, test_df)\n"
   ],
   "id": "9df3e08c113d12f5",
   "outputs": [],
   "execution_count": 81
  },
  {
   "metadata": {
    "ExecuteTime": {
     "end_time": "2024-10-17T14:19:47.656800Z",
     "start_time": "2024-10-17T14:19:47.652177Z"
    }
   },
   "cell_type": "code",
   "source": "test_df.isna().sum().sum()",
   "id": "560f7e5bb04a6a7e",
   "outputs": [
    {
     "data": {
      "text/plain": [
       "np.int64(0)"
      ]
     },
     "execution_count": 82,
     "metadata": {},
     "output_type": "execute_result"
    }
   ],
   "execution_count": 82
  },
  {
   "metadata": {
    "ExecuteTime": {
     "end_time": "2024-10-17T14:19:47.760822Z",
     "start_time": "2024-10-17T14:19:47.713310Z"
    }
   },
   "cell_type": "code",
   "source": [
    "from sklearn.preprocessing import LabelEncoder\n",
    "import numpy as np\n",
    "\n",
    "label_encoder = LabelEncoder()\n",
    "\n",
    "\n",
    "def Encoder(df1, df2):\n",
    "    for column in df1.columns:\n",
    "        if df1[column].dtype == 'object':  # 문자열 타입 확인\n",
    "            df1[column] = label_encoder.fit_transform(df1[column])\n",
    "\n",
    "            # test_df에 없는 값은 -1로 대체\n",
    "            df2[column] = df2[column].apply(lambda x: x if x in label_encoder.classes_ else 'none')\n",
    "            label_encoder.classes_ = np.append(label_encoder.classes_, 'none')\n",
    "            df2[column] = label_encoder.transform(df2[column])\n",
    "\n",
    "    return df1, df2\n",
    "\n",
    "\n",
    "train_df, test_df = Encoder(train_df, test_df)\n"
   ],
   "id": "a792a7a1fadb1356",
   "outputs": [],
   "execution_count": 83
  },
  {
   "metadata": {
    "ExecuteTime": {
     "end_time": "2024-10-17T14:19:47.819847Z",
     "start_time": "2024-10-17T14:19:47.810688Z"
    }
   },
   "cell_type": "code",
   "source": [
    "print(train_df.isna().sum().sum())\n",
    "print(test_df.isna().sum().sum())"
   ],
   "id": "8885d5530425a8ff",
   "outputs": [
    {
     "name": "stdout",
     "output_type": "stream",
     "text": [
      "0\n",
      "0\n"
     ]
    }
   ],
   "execution_count": 84
  },
  {
   "metadata": {
    "ExecuteTime": {
     "end_time": "2024-10-17T14:19:47.985030Z",
     "start_time": "2024-10-17T14:19:47.877195Z"
    }
   },
   "cell_type": "code",
   "source": [
    "def remove_collinear_features(train_df: pd.DataFrame, test_df: pd.DataFrame, threshold=0.8) -> tuple:\n",
    "    corr_matrix = train_df.corr()\n",
    "    iters = range(len(corr_matrix.columns) - 1)\n",
    "    drop_cols = []\n",
    "\n",
    "    for i in iters:\n",
    "        for j in range(i + 1):\n",
    "            item = corr_matrix.iloc[j:(j + 1), (i + 1):(i + 2)]\n",
    "            col = item.columns\n",
    "            row = item.index\n",
    "            # 절대값을 씌우는 이유는\n",
    "            # corr 절대값이 높은거를 제거하면 되기 때문에\n",
    "            val = abs(item.values)\n",
    "\n",
    "            if val >= threshold:\n",
    "                print(col.values[0], '|', row.values[0], '|', round(val[0][0], 2))\n",
    "                drop_cols.append(col.values[0])\n",
    "\n",
    "    drops = set(drop_cols)\n",
    "    drops.discard('SalePrice')\n",
    "    train_df = train_df.drop(columns=drops)\n",
    "    test_df = test_df.drop(columns=drops)\n",
    "\n",
    "    return train_df, test_df\n",
    "\n",
    "\n",
    "train_df, test_df = remove_collinear_features(train_df, test_df)\n"
   ],
   "id": "5958d83ae0588881",
   "outputs": [
    {
     "name": "stdout",
     "output_type": "stream",
     "text": [
      "Exterior2nd | Exterior1st | 0.88\n",
      "1stFlrSF | TotalBsmtSF | 0.83\n",
      "TotRmsAbvGrd | GrLivArea | 0.82\n",
      "GarageArea | GarageCars | 0.88\n"
     ]
    }
   ],
   "execution_count": 85
  },
  {
   "metadata": {
    "ExecuteTime": {
     "end_time": "2024-10-17T14:19:47.990705Z",
     "start_time": "2024-10-17T14:19:47.989299Z"
    }
   },
   "cell_type": "code",
   "source": "",
   "id": "8ce65f6ad08febdb",
   "outputs": [],
   "execution_count": null
  },
  {
   "metadata": {
    "ExecuteTime": {
     "end_time": "2024-10-17T14:19:48.048297Z",
     "start_time": "2024-10-17T14:19:48.038519Z"
    }
   },
   "cell_type": "code",
   "source": [
    "Y_train = train_df['SalePrice']\n",
    "X_train = train_df.drop(['SalePrice'], axis=1)\n",
    "Y_test = test_df['SalePrice']\n",
    "X_test = test_df.drop(['SalePrice'], axis=1)"
   ],
   "id": "80a6c4aac5244af2",
   "outputs": [],
   "execution_count": 86
  },
  {
   "metadata": {
    "ExecuteTime": {
     "end_time": "2024-10-17T14:19:48.104176Z",
     "start_time": "2024-10-17T14:19:48.090403Z"
    }
   },
   "cell_type": "code",
   "source": [
    "numeric_features = X_train.select_dtypes(include=[np.number])\n",
    "\n",
    "# X와 y 사이의 상관계수 계산\n",
    "correlation_matrix = numeric_features.corrwith(Y_train)\n",
    "\n",
    "# 상관계수가 높은 상위 5개의 특성 추출\n",
    "top_5_features = correlation_matrix.abs().sort_values(ascending=False).head(5)\n",
    "top_5_features"
   ],
   "id": "5dfe6e941161e1bc",
   "outputs": [
    {
     "data": {
      "text/plain": [
       "OverallQual    0.790460\n",
       "GrLivArea      0.685261\n",
       "ExterQual      0.650563\n",
       "BsmtQual       0.644285\n",
       "GarageCars     0.637911\n",
       "dtype: float64"
      ]
     },
     "execution_count": 87,
     "metadata": {},
     "output_type": "execute_result"
    }
   ],
   "execution_count": 87
  },
  {
   "metadata": {
    "ExecuteTime": {
     "end_time": "2024-10-17T14:19:48.173122Z",
     "start_time": "2024-10-17T14:19:48.164400Z"
    }
   },
   "cell_type": "code",
   "source": [
    "set_col = X_train.columns.intersection(object_columns)\n",
    "tmp = X_train[set_col]\n",
    "correlation_matrix = tmp.corrwith(Y_train)\n",
    "top_5_features_ob = correlation_matrix.abs().sort_values(ascending=False).head(5)\n",
    "top_5_features_ob"
   ],
   "id": "61b5110f5bd3d9e0",
   "outputs": [
    {
     "data": {
      "text/plain": [
       "ExterQual       0.650563\n",
       "BsmtQual        0.644285\n",
       "KitchenQual     0.603821\n",
       "GarageFinish    0.556895\n",
       "GarageType      0.431462\n",
       "dtype: float64"
      ]
     },
     "execution_count": 88,
     "metadata": {},
     "output_type": "execute_result"
    }
   ],
   "execution_count": 88
  },
  {
   "metadata": {
    "ExecuteTime": {
     "end_time": "2024-10-17T14:19:48.236733Z",
     "start_time": "2024-10-17T14:19:48.235081Z"
    }
   },
   "cell_type": "code",
   "source": "union_selected_cols = top_5_features.index.union(top_5_features_ob.index)",
   "id": "8a080c60fd9c3553",
   "outputs": [],
   "execution_count": 89
  },
  {
   "metadata": {
    "ExecuteTime": {
     "end_time": "2024-10-17T14:19:48.281571Z",
     "start_time": "2024-10-17T14:19:48.277946Z"
    }
   },
   "cell_type": "code",
   "source": [
    "X_train = X_train[union_selected_cols]\n",
    "X_test = X_test[union_selected_cols]"
   ],
   "id": "72402bb6bec74ad8",
   "outputs": [],
   "execution_count": 90
  },
  {
   "metadata": {
    "ExecuteTime": {
     "end_time": "2024-10-17T14:22:15.781327Z",
     "start_time": "2024-10-17T14:21:33.967382Z"
    }
   },
   "cell_type": "code",
   "source": [
    "from bayes_opt import BayesianOptimization\n",
    "from sklearn.metrics import mean_squared_error\n",
    "import xgboost as xgb\n",
    "\n",
    "\n",
    "def xgb_evaluate(max_depth, learning_rate, n_estimators, gamma, min_child_weight, subsample, colsample_bytree):\n",
    "    params = {\n",
    "        'max_depth': int(max_depth),\n",
    "        'learning_rate': learning_rate,\n",
    "        'n_estimators': int(n_estimators),\n",
    "        'gamma': gamma,\n",
    "        'min_child_weight': min_child_weight,\n",
    "        'subsample': subsample,\n",
    "        'colsample_bytree': colsample_bytree,\n",
    "        'objective': 'reg:squarederror',\n",
    "        'eval_metric': 'rmsle',\n",
    "        'seed': 42,\n",
    "        'device': 'cuda'\n",
    "    }\n",
    "\n",
    "    model = xgb.XGBRegressor(**params)\n",
    "    model.fit(X_train, Y_train)\n",
    "    predictions = model.predict(X_test)\n",
    "    rmse = np.sqrt(mean_squared_error(Y_test, predictions))\n",
    "    return -rmse  # 베이지안 최적화는 최대화를 목표로 하므로 음수로 변환\n",
    "\n",
    "\n",
    "# 베이지안 최적화 범위 설정\n",
    "pbounds = {\n",
    "    'max_depth': (3, 10),\n",
    "    'learning_rate': (0.01, 0.3),\n",
    "    'n_estimators': (50, 500),\n",
    "    'gamma': (0, 5),\n",
    "    'min_child_weight': (1, 10),\n",
    "    'subsample': (0.5, 1),\n",
    "    'colsample_bytree': (0.5, 1)\n",
    "}\n",
    "\n",
    "optimizer = BayesianOptimization(f=xgb_evaluate, pbounds=pbounds, random_state=42)\n",
    "optimizer.maximize(init_points=5, n_iter=100)\n",
    "\n",
    "# 최적의 하이퍼파라미터 출력\n",
    "print(optimizer.max)"
   ],
   "id": "30b3e90d61171aa2",
   "outputs": [
    {
     "name": "stdout",
     "output_type": "stream",
     "text": [
      "|   iter    |  target   | colsam... |   gamma   | learni... | max_depth | min_ch... | n_esti... | subsample |\n",
      "-------------------------------------------------------------------------------------------------------------\n",
      "| \u001B[39m1        \u001B[39m | \u001B[39m-3.49e+04\u001B[39m | \u001B[39m0.6873   \u001B[39m | \u001B[39m4.754    \u001B[39m | \u001B[39m0.2223   \u001B[39m | \u001B[39m7.191    \u001B[39m | \u001B[39m2.404    \u001B[39m | \u001B[39m120.2    \u001B[39m | \u001B[39m0.529    \u001B[39m |\n",
      "| \u001B[35m2        \u001B[39m | \u001B[35m-3.339e+0\u001B[39m | \u001B[35m0.9331   \u001B[39m | \u001B[35m3.006    \u001B[39m | \u001B[35m0.2153   \u001B[39m | \u001B[35m3.144    \u001B[39m | \u001B[35m9.729    \u001B[39m | \u001B[35m424.6    \u001B[39m | \u001B[35m0.6062   \u001B[39m |\n",
      "| \u001B[35m3        \u001B[39m | \u001B[35m-3.246e+0\u001B[39m | \u001B[35m0.5909   \u001B[39m | \u001B[35m0.917    \u001B[39m | \u001B[35m0.09823  \u001B[39m | \u001B[35m6.673    \u001B[39m | \u001B[35m4.888    \u001B[39m | \u001B[35m181.1    \u001B[39m | \u001B[35m0.8059   \u001B[39m |\n",
      "| \u001B[39m4        \u001B[39m | \u001B[39m-3.279e+0\u001B[39m | \u001B[39m0.5697   \u001B[39m | \u001B[39m1.461    \u001B[39m | \u001B[39m0.1162   \u001B[39m | \u001B[39m6.192    \u001B[39m | \u001B[39m8.067    \u001B[39m | \u001B[39m139.9    \u001B[39m | \u001B[39m0.7571   \u001B[39m |\n",
      "| \u001B[39m5        \u001B[39m | \u001B[39m-3.673e+0\u001B[39m | \u001B[39m0.7962   \u001B[39m | \u001B[39m0.2323   \u001B[39m | \u001B[39m0.1862   \u001B[39m | \u001B[39m4.194    \u001B[39m | \u001B[39m1.585    \u001B[39m | \u001B[39m477.0    \u001B[39m | \u001B[39m0.9828   \u001B[39m |\n",
      "| \u001B[39m6        \u001B[39m | \u001B[39m-3.334e+0\u001B[39m | \u001B[39m0.5522   \u001B[39m | \u001B[39m0.5878   \u001B[39m | \u001B[39m0.1628   \u001B[39m | \u001B[39m7.333    \u001B[39m | \u001B[39m4.642    \u001B[39m | \u001B[39m180.0    \u001B[39m | \u001B[39m0.9039   \u001B[39m |\n",
      "| \u001B[39m7        \u001B[39m | \u001B[39m-3.719e+0\u001B[39m | \u001B[39m0.6858   \u001B[39m | \u001B[39m1.724    \u001B[39m | \u001B[39m0.01     \u001B[39m | \u001B[39m5.055    \u001B[39m | \u001B[39m5.489    \u001B[39m | \u001B[39m183.6    \u001B[39m | \u001B[39m0.5669   \u001B[39m |\n",
      "| \u001B[39m8        \u001B[39m | \u001B[39m-3.737e+0\u001B[39m | \u001B[39m0.6179   \u001B[39m | \u001B[39m1.405    \u001B[39m | \u001B[39m0.01     \u001B[39m | \u001B[39m5.902    \u001B[39m | \u001B[39m5.526    \u001B[39m | \u001B[39m180.0    \u001B[39m | \u001B[39m0.848    \u001B[39m |\n",
      "| \u001B[35m9        \u001B[39m | \u001B[35m-3.242e+0\u001B[39m | \u001B[35m0.5833   \u001B[39m | \u001B[35m1.237    \u001B[39m | \u001B[35m0.1137   \u001B[39m | \u001B[35m6.443    \u001B[39m | \u001B[35m8.397    \u001B[39m | \u001B[35m139.6    \u001B[39m | \u001B[35m0.8179   \u001B[39m |\n",
      "| \u001B[39m10       \u001B[39m | \u001B[39m-3.506e+0\u001B[39m | \u001B[39m0.5608   \u001B[39m | \u001B[39m0.4985   \u001B[39m | \u001B[39m0.173    \u001B[39m | \u001B[39m7.381    \u001B[39m | \u001B[39m4.406    \u001B[39m | \u001B[39m181.4    \u001B[39m | \u001B[39m0.814    \u001B[39m |\n",
      "| \u001B[39m11       \u001B[39m | \u001B[39m-3.335e+0\u001B[39m | \u001B[39m0.7997   \u001B[39m | \u001B[39m0.4741   \u001B[39m | \u001B[39m0.1478   \u001B[39m | \u001B[39m6.881    \u001B[39m | \u001B[39m5.172    \u001B[39m | \u001B[39m180.7    \u001B[39m | \u001B[39m0.5021   \u001B[39m |\n",
      "| \u001B[39m12       \u001B[39m | \u001B[39m-3.319e+0\u001B[39m | \u001B[39m0.5642   \u001B[39m | \u001B[39m0.6678   \u001B[39m | \u001B[39m0.1344   \u001B[39m | \u001B[39m6.261    \u001B[39m | \u001B[39m7.874    \u001B[39m | \u001B[39m139.3    \u001B[39m | \u001B[39m0.5932   \u001B[39m |\n",
      "| \u001B[39m13       \u001B[39m | \u001B[39m-3.291e+0\u001B[39m | \u001B[39m0.5917   \u001B[39m | \u001B[39m1.609    \u001B[39m | \u001B[39m0.154    \u001B[39m | \u001B[39m5.954    \u001B[39m | \u001B[39m8.465    \u001B[39m | \u001B[39m138.9    \u001B[39m | \u001B[39m0.6744   \u001B[39m |\n",
      "| \u001B[35m14       \u001B[39m | \u001B[35m-3.228e+0\u001B[39m | \u001B[35m0.5722   \u001B[39m | \u001B[35m0.9478   \u001B[39m | \u001B[35m0.196    \u001B[39m | \u001B[35m5.622    \u001B[39m | \u001B[35m8.932    \u001B[39m | \u001B[35m139.7    \u001B[39m | \u001B[35m0.9824   \u001B[39m |\n",
      "| \u001B[39m15       \u001B[39m | \u001B[39m-3.566e+0\u001B[39m | \u001B[39m0.5      \u001B[39m | \u001B[39m1.589    \u001B[39m | \u001B[39m0.3      \u001B[39m | \u001B[39m6.21     \u001B[39m | \u001B[39m9.439    \u001B[39m | \u001B[39m139.9    \u001B[39m | \u001B[39m0.5      \u001B[39m |\n",
      "| \u001B[39m16       \u001B[39m | \u001B[39m-3.913e+0\u001B[39m | \u001B[39m1.0      \u001B[39m | \u001B[39m0.9932   \u001B[39m | \u001B[39m0.01     \u001B[39m | \u001B[39m5.631    \u001B[39m | \u001B[39m8.334    \u001B[39m | \u001B[39m139.4    \u001B[39m | \u001B[39m1.0      \u001B[39m |\n",
      "| \u001B[39m17       \u001B[39m | \u001B[39m-3.374e+0\u001B[39m | \u001B[39m0.838    \u001B[39m | \u001B[39m4.9      \u001B[39m | \u001B[39m0.2935   \u001B[39m | \u001B[39m3.092    \u001B[39m | \u001B[39m5.536    \u001B[39m | \u001B[39m260.8    \u001B[39m | \u001B[39m0.555    \u001B[39m |\n",
      "| \u001B[39m18       \u001B[39m | \u001B[39m-3.332e+0\u001B[39m | \u001B[39m0.727    \u001B[39m | \u001B[39m4.559    \u001B[39m | \u001B[39m0.04297  \u001B[39m | \u001B[39m4.925    \u001B[39m | \u001B[39m1.499    \u001B[39m | \u001B[39m382.9    \u001B[39m | \u001B[39m0.7575   \u001B[39m |\n",
      "| \u001B[39m19       \u001B[39m | \u001B[39m-3.37e+04\u001B[39m | \u001B[39m0.7451   \u001B[39m | \u001B[39m4.337    \u001B[39m | \u001B[39m0.04257  \u001B[39m | \u001B[39m4.942    \u001B[39m | \u001B[39m1.524    \u001B[39m | \u001B[39m382.6    \u001B[39m | \u001B[39m0.7562   \u001B[39m |\n",
      "| \u001B[39m20       \u001B[39m | \u001B[39m-3.377e+0\u001B[39m | \u001B[39m0.8724   \u001B[39m | \u001B[39m2.772    \u001B[39m | \u001B[39m0.1072   \u001B[39m | \u001B[39m9.03     \u001B[39m | \u001B[39m7.926    \u001B[39m | \u001B[39m425.4    \u001B[39m | \u001B[39m0.8338   \u001B[39m |\n",
      "| \u001B[35m21       \u001B[39m | \u001B[35m-3.22e+04\u001B[39m | \u001B[35m0.5      \u001B[39m | \u001B[35m1.451    \u001B[39m | \u001B[35m0.1544   \u001B[39m | \u001B[35m6.274    \u001B[39m | \u001B[35m8.241    \u001B[39m | \u001B[35m139.5    \u001B[39m | \u001B[35m0.6848   \u001B[39m |\n",
      "| \u001B[39m22       \u001B[39m | \u001B[39m-3.322e+0\u001B[39m | \u001B[39m0.5      \u001B[39m | \u001B[39m0.7653   \u001B[39m | \u001B[39m0.3      \u001B[39m | \u001B[39m5.541    \u001B[39m | \u001B[39m9.239    \u001B[39m | \u001B[39m139.9    \u001B[39m | \u001B[39m1.0      \u001B[39m |\n",
      "| \u001B[39m23       \u001B[39m | \u001B[39m-3.483e+0\u001B[39m | \u001B[39m0.5329   \u001B[39m | \u001B[39m3.761    \u001B[39m | \u001B[39m0.1745   \u001B[39m | \u001B[39m6.308    \u001B[39m | \u001B[39m1.11     \u001B[39m | \u001B[39m152.7    \u001B[39m | \u001B[39m0.9008   \u001B[39m |\n",
      "| \u001B[39m24       \u001B[39m | \u001B[39m-3.406e+0\u001B[39m | \u001B[39m0.5      \u001B[39m | \u001B[39m1.205    \u001B[39m | \u001B[39m0.2034   \u001B[39m | \u001B[39m6.56     \u001B[39m | \u001B[39m8.012    \u001B[39m | \u001B[39m139.6    \u001B[39m | \u001B[39m0.5478   \u001B[39m |\n",
      "| \u001B[39m25       \u001B[39m | \u001B[39m-3.54e+04\u001B[39m | \u001B[39m0.6768   \u001B[39m | \u001B[39m2.178    \u001B[39m | \u001B[39m0.2665   \u001B[39m | \u001B[39m3.4      \u001B[39m | \u001B[39m1.356    \u001B[39m | \u001B[39m203.9    \u001B[39m | \u001B[39m0.6655   \u001B[39m |\n",
      "| \u001B[39m26       \u001B[39m | \u001B[39m-3.231e+0\u001B[39m | \u001B[39m0.5      \u001B[39m | \u001B[39m1.652    \u001B[39m | \u001B[39m0.1565   \u001B[39m | \u001B[39m6.307    \u001B[39m | \u001B[39m8.466    \u001B[39m | \u001B[39m139.6    \u001B[39m | \u001B[39m0.9411   \u001B[39m |\n",
      "| \u001B[39m27       \u001B[39m | \u001B[39m-3.249e+0\u001B[39m | \u001B[39m0.5374   \u001B[39m | \u001B[39m4.438    \u001B[39m | \u001B[39m0.0209   \u001B[39m | \u001B[39m3.103    \u001B[39m | \u001B[39m1.602    \u001B[39m | \u001B[39m221.9    \u001B[39m | \u001B[39m0.6161   \u001B[39m |\n",
      "| \u001B[39m28       \u001B[39m | \u001B[39m-3.42e+04\u001B[39m | \u001B[39m0.6552   \u001B[39m | \u001B[39m1.345    \u001B[39m | \u001B[39m0.1264   \u001B[39m | \u001B[39m8.261    \u001B[39m | \u001B[39m9.496    \u001B[39m | \u001B[39m476.3    \u001B[39m | \u001B[39m0.9223   \u001B[39m |\n",
      "| \u001B[35m29       \u001B[39m | \u001B[35m-3.188e+0\u001B[39m | \u001B[35m0.7037   \u001B[39m | \u001B[35m4.67     \u001B[39m | \u001B[35m0.01495  \u001B[39m | \u001B[35m7.257    \u001B[39m | \u001B[35m5.729    \u001B[39m | \u001B[35m429.9    \u001B[39m | \u001B[35m0.9004   \u001B[39m |\n",
      "| \u001B[39m30       \u001B[39m | \u001B[39m-3.588e+0\u001B[39m | \u001B[39m0.8644   \u001B[39m | \u001B[39m4.833    \u001B[39m | \u001B[39m0.1695   \u001B[39m | \u001B[39m7.447    \u001B[39m | \u001B[39m5.946    \u001B[39m | \u001B[39m430.1    \u001B[39m | \u001B[39m0.9544   \u001B[39m |\n",
      "| \u001B[39m31       \u001B[39m | \u001B[39m-3.214e+0\u001B[39m | \u001B[39m0.5794   \u001B[39m | \u001B[39m4.544    \u001B[39m | \u001B[39m0.01     \u001B[39m | \u001B[39m7.11     \u001B[39m | \u001B[39m5.561    \u001B[39m | \u001B[39m429.8    \u001B[39m | \u001B[39m0.8586   \u001B[39m |\n",
      "| \u001B[39m32       \u001B[39m | \u001B[39m-3.464e+0\u001B[39m | \u001B[39m0.6833   \u001B[39m | \u001B[39m0.7317   \u001B[39m | \u001B[39m0.1661   \u001B[39m | \u001B[39m7.077    \u001B[39m | \u001B[39m4.496    \u001B[39m | \u001B[39m179.8    \u001B[39m | \u001B[39m0.9079   \u001B[39m |\n",
      "| \u001B[35m33       \u001B[39m | \u001B[35m-3.183e+0\u001B[39m | \u001B[35m0.6651   \u001B[39m | \u001B[35m4.418    \u001B[39m | \u001B[35m0.01     \u001B[39m | \u001B[35m7.045    \u001B[39m | \u001B[35m5.783    \u001B[39m | \u001B[35m430.0    \u001B[39m | \u001B[35m0.7851   \u001B[39m |\n",
      "| \u001B[39m34       \u001B[39m | \u001B[39m-3.186e+0\u001B[39m | \u001B[39m0.6707   \u001B[39m | \u001B[39m3.455    \u001B[39m | \u001B[39m0.03034  \u001B[39m | \u001B[39m4.125    \u001B[39m | \u001B[39m8.541    \u001B[39m | \u001B[39m313.1    \u001B[39m | \u001B[39m0.7331   \u001B[39m |\n",
      "| \u001B[39m35       \u001B[39m | \u001B[39m-3.189e+0\u001B[39m | \u001B[39m0.6416   \u001B[39m | \u001B[39m4.378    \u001B[39m | \u001B[39m0.01     \u001B[39m | \u001B[39m7.291    \u001B[39m | \u001B[39m5.853    \u001B[39m | \u001B[39m429.7    \u001B[39m | \u001B[39m0.6898   \u001B[39m |\n",
      "| \u001B[39m36       \u001B[39m | \u001B[39m-3.622e+0\u001B[39m | \u001B[39m0.5329   \u001B[39m | \u001B[39m1.594    \u001B[39m | \u001B[39m0.2107   \u001B[39m | \u001B[39m9.765    \u001B[39m | \u001B[39m2.568    \u001B[39m | \u001B[39m254.2    \u001B[39m | \u001B[39m0.9572   \u001B[39m |\n",
      "| \u001B[39m37       \u001B[39m | \u001B[39m-4.12e+04\u001B[39m | \u001B[39m0.5      \u001B[39m | \u001B[39m1.57     \u001B[39m | \u001B[39m0.01     \u001B[39m | \u001B[39m6.498    \u001B[39m | \u001B[39m8.538    \u001B[39m | \u001B[39m139.2    \u001B[39m | \u001B[39m0.7954   \u001B[39m |\n",
      "| \u001B[39m38       \u001B[39m | \u001B[39m-3.387e+0\u001B[39m | \u001B[39m0.6399   \u001B[39m | \u001B[39m3.818    \u001B[39m | \u001B[39m0.1716   \u001B[39m | \u001B[39m4.335    \u001B[39m | \u001B[39m5.293    \u001B[39m | \u001B[39m454.4    \u001B[39m | \u001B[39m0.9255   \u001B[39m |\n",
      "| \u001B[39m39       \u001B[39m | \u001B[39m-3.476e+0\u001B[39m | \u001B[39m0.867    \u001B[39m | \u001B[39m3.272    \u001B[39m | \u001B[39m0.2797   \u001B[39m | \u001B[39m4.606    \u001B[39m | \u001B[39m8.18     \u001B[39m | \u001B[39m494.3    \u001B[39m | \u001B[39m0.6965   \u001B[39m |\n",
      "| \u001B[39m40       \u001B[39m | \u001B[39m-3.34e+04\u001B[39m | \u001B[39m0.8723   \u001B[39m | \u001B[39m3.024    \u001B[39m | \u001B[39m0.08033  \u001B[39m | \u001B[39m9.127    \u001B[39m | \u001B[39m7.861    \u001B[39m | \u001B[39m342.3    \u001B[39m | \u001B[39m0.8387   \u001B[39m |\n",
      "| \u001B[39m41       \u001B[39m | \u001B[39m-3.343e+0\u001B[39m | \u001B[39m0.8232   \u001B[39m | \u001B[39m3.607    \u001B[39m | \u001B[39m0.02489  \u001B[39m | \u001B[39m9.013    \u001B[39m | \u001B[39m2.861    \u001B[39m | \u001B[39m101.5    \u001B[39m | \u001B[39m0.5592   \u001B[39m |\n",
      "| \u001B[39m42       \u001B[39m | \u001B[39m-3.297e+0\u001B[39m | \u001B[39m0.5      \u001B[39m | \u001B[39m0.9551   \u001B[39m | \u001B[39m0.3      \u001B[39m | \u001B[39m5.841    \u001B[39m | \u001B[39m8.979    \u001B[39m | \u001B[39m139.9    \u001B[39m | \u001B[39m1.0      \u001B[39m |\n",
      "| \u001B[39m43       \u001B[39m | \u001B[39m-3.283e+0\u001B[39m | \u001B[39m0.5789   \u001B[39m | \u001B[39m3.465    \u001B[39m | \u001B[39m0.01193  \u001B[39m | \u001B[39m6.671    \u001B[39m | \u001B[39m1.196    \u001B[39m | \u001B[39m396.2    \u001B[39m | \u001B[39m0.8949   \u001B[39m |\n",
      "| \u001B[39m44       \u001B[39m | \u001B[39m-3.22e+04\u001B[39m | \u001B[39m0.6421   \u001B[39m | \u001B[39m3.045    \u001B[39m | \u001B[39m0.1001   \u001B[39m | \u001B[39m6.705    \u001B[39m | \u001B[39m5.613    \u001B[39m | \u001B[39m305.0    \u001B[39m | \u001B[39m0.5131   \u001B[39m |\n",
      "| \u001B[39m45       \u001B[39m | \u001B[39m-3.882e+0\u001B[39m | \u001B[39m0.9512   \u001B[39m | \u001B[39m3.148    \u001B[39m | \u001B[39m0.2582   \u001B[39m | \u001B[39m3.301    \u001B[39m | \u001B[39m1.926    \u001B[39m | \u001B[39m153.9    \u001B[39m | \u001B[39m0.8214   \u001B[39m |\n",
      "| \u001B[39m46       \u001B[39m | \u001B[39m-3.214e+0\u001B[39m | \u001B[39m0.7058   \u001B[39m | \u001B[39m4.591    \u001B[39m | \u001B[39m0.01     \u001B[39m | \u001B[39m7.13     \u001B[39m | \u001B[39m5.744    \u001B[39m | \u001B[39m429.9    \u001B[39m | \u001B[39m0.62     \u001B[39m |\n",
      "| \u001B[39m47       \u001B[39m | \u001B[39m-3.369e+0\u001B[39m | \u001B[39m0.5      \u001B[39m | \u001B[39m1.402    \u001B[39m | \u001B[39m0.3      \u001B[39m | \u001B[39m6.198    \u001B[39m | \u001B[39m8.378    \u001B[39m | \u001B[39m139.7    \u001B[39m | \u001B[39m0.8189   \u001B[39m |\n",
      "| \u001B[39m48       \u001B[39m | \u001B[39m-3.514e+0\u001B[39m | \u001B[39m0.9731   \u001B[39m | \u001B[39m2.619    \u001B[39m | \u001B[39m0.1978   \u001B[39m | \u001B[39m9.71     \u001B[39m | \u001B[39m7.726    \u001B[39m | \u001B[39m238.2    \u001B[39m | \u001B[39m0.7683   \u001B[39m |\n",
      "| \u001B[39m49       \u001B[39m | \u001B[39m-3.24e+04\u001B[39m | \u001B[39m0.7295   \u001B[39m | \u001B[39m4.965    \u001B[39m | \u001B[39m0.04222  \u001B[39m | \u001B[39m8.13     \u001B[39m | \u001B[39m3.465    \u001B[39m | \u001B[39m167.3    \u001B[39m | \u001B[39m0.8274   \u001B[39m |\n",
      "| \u001B[39m50       \u001B[39m | \u001B[39m-3.278e+0\u001B[39m | \u001B[39m0.6227   \u001B[39m | \u001B[39m2.991    \u001B[39m | \u001B[39m0.09378  \u001B[39m | \u001B[39m6.732    \u001B[39m | \u001B[39m5.644    \u001B[39m | \u001B[39m304.7    \u001B[39m | \u001B[39m0.5      \u001B[39m |\n",
      "| \u001B[39m51       \u001B[39m | \u001B[39m-3.342e+0\u001B[39m | \u001B[39m0.9735   \u001B[39m | \u001B[39m4.178    \u001B[39m | \u001B[39m0.1225   \u001B[39m | \u001B[39m6.368    \u001B[39m | \u001B[39m2.763    \u001B[39m | \u001B[39m191.0    \u001B[39m | \u001B[39m0.8875   \u001B[39m |\n",
      "| \u001B[39m52       \u001B[39m | \u001B[39m-3.332e+0\u001B[39m | \u001B[39m0.5004   \u001B[39m | \u001B[39m4.528    \u001B[39m | \u001B[39m0.2026   \u001B[39m | \u001B[39m5.984    \u001B[39m | \u001B[39m9.856    \u001B[39m | \u001B[39m466.6    \u001B[39m | \u001B[39m0.9958   \u001B[39m |\n",
      "| \u001B[39m53       \u001B[39m | \u001B[39m-3.277e+0\u001B[39m | \u001B[39m0.9711   \u001B[39m | \u001B[39m1.806    \u001B[39m | \u001B[39m0.02908  \u001B[39m | \u001B[39m9.509    \u001B[39m | \u001B[39m2.913    \u001B[39m | \u001B[39m222.6    \u001B[39m | \u001B[39m0.9204   \u001B[39m |\n",
      "| \u001B[39m54       \u001B[39m | \u001B[39m-3.323e+0\u001B[39m | \u001B[39m0.7354   \u001B[39m | \u001B[39m2.958    \u001B[39m | \u001B[39m0.1696   \u001B[39m | \u001B[39m3.22     \u001B[39m | \u001B[39m2.473    \u001B[39m | \u001B[39m94.04    \u001B[39m | \u001B[39m0.5871   \u001B[39m |\n",
      "| \u001B[35m55       \u001B[39m | \u001B[35m-3.164e+0\u001B[39m | \u001B[35m0.8175   \u001B[39m | \u001B[35m4.396    \u001B[39m | \u001B[35m0.01     \u001B[39m | \u001B[35m7.181    \u001B[39m | \u001B[35m5.721    \u001B[39m | \u001B[35m429.8    \u001B[39m | \u001B[35m0.8755   \u001B[39m |\n",
      "| \u001B[39m56       \u001B[39m | \u001B[39m-3.447e+0\u001B[39m | \u001B[39m0.9806   \u001B[39m | \u001B[39m3.28     \u001B[39m | \u001B[39m0.1129   \u001B[39m | \u001B[39m6.966    \u001B[39m | \u001B[39m4.273    \u001B[39m | \u001B[39m414.2    \u001B[39m | \u001B[39m0.9083   \u001B[39m |\n",
      "| \u001B[39m57       \u001B[39m | \u001B[39m-3.267e+0\u001B[39m | \u001B[39m0.9618   \u001B[39m | \u001B[39m0.4949   \u001B[39m | \u001B[39m0.08191  \u001B[39m | \u001B[39m3.984    \u001B[39m | \u001B[39m3.782    \u001B[39m | \u001B[39m235.1    \u001B[39m | \u001B[39m0.7031   \u001B[39m |\n",
      "| \u001B[39m58       \u001B[39m | \u001B[39m-3.288e+0\u001B[39m | \u001B[39m0.7004   \u001B[39m | \u001B[39m4.399    \u001B[39m | \u001B[39m0.054    \u001B[39m | \u001B[39m3.429    \u001B[39m | \u001B[39m1.62     \u001B[39m | \u001B[39m221.8    \u001B[39m | \u001B[39m0.6      \u001B[39m |\n",
      "| \u001B[39m59       \u001B[39m | \u001B[39m-3.229e+0\u001B[39m | \u001B[39m0.5503   \u001B[39m | \u001B[39m1.514    \u001B[39m | \u001B[39m0.02824  \u001B[39m | \u001B[39m6.403    \u001B[39m | \u001B[39m8.191    \u001B[39m | \u001B[39m139.7    \u001B[39m | \u001B[39m0.9852   \u001B[39m |\n",
      "| \u001B[39m60       \u001B[39m | \u001B[39m-3.249e+0\u001B[39m | \u001B[39m0.8016   \u001B[39m | \u001B[39m2.554    \u001B[39m | \u001B[39m0.1054   \u001B[39m | \u001B[39m5.929    \u001B[39m | \u001B[39m5.274    \u001B[39m | \u001B[39m392.1    \u001B[39m | \u001B[39m0.9086   \u001B[39m |\n",
      "| \u001B[39m61       \u001B[39m | \u001B[39m-3.649e+0\u001B[39m | \u001B[39m0.8119   \u001B[39m | \u001B[39m2.903    \u001B[39m | \u001B[39m0.261    \u001B[39m | \u001B[39m7.09     \u001B[39m | \u001B[39m8.195    \u001B[39m | \u001B[39m409.4    \u001B[39m | \u001B[39m0.924    \u001B[39m |\n",
      "| \u001B[39m62       \u001B[39m | \u001B[39m-3.974e+0\u001B[39m | \u001B[39m0.7363   \u001B[39m | \u001B[39m1.871    \u001B[39m | \u001B[39m0.2837   \u001B[39m | \u001B[39m9.078    \u001B[39m | \u001B[39m1.128    \u001B[39m | \u001B[39m393.7    \u001B[39m | \u001B[39m0.8844   \u001B[39m |\n",
      "| \u001B[39m63       \u001B[39m | \u001B[39m-3.259e+0\u001B[39m | \u001B[39m0.5987   \u001B[39m | \u001B[39m3.341    \u001B[39m | \u001B[39m0.2017   \u001B[39m | \u001B[39m4.257    \u001B[39m | \u001B[39m8.4      \u001B[39m | \u001B[39m202.5    \u001B[39m | \u001B[39m0.7952   \u001B[39m |\n",
      "| \u001B[39m64       \u001B[39m | \u001B[39m-3.252e+0\u001B[39m | \u001B[39m0.6359   \u001B[39m | \u001B[39m3.149    \u001B[39m | \u001B[39m0.1669   \u001B[39m | \u001B[39m4.048    \u001B[39m | \u001B[39m8.573    \u001B[39m | \u001B[39m313.2    \u001B[39m | \u001B[39m0.8189   \u001B[39m |\n",
      "| \u001B[39m65       \u001B[39m | \u001B[39m-3.226e+0\u001B[39m | \u001B[39m0.5661   \u001B[39m | \u001B[39m4.349    \u001B[39m | \u001B[39m0.02383  \u001B[39m | \u001B[39m3.094    \u001B[39m | \u001B[39m1.938    \u001B[39m | \u001B[39m221.6    \u001B[39m | \u001B[39m0.6225   \u001B[39m |\n",
      "| \u001B[39m66       \u001B[39m | \u001B[39m-3.211e+0\u001B[39m | \u001B[39m0.7555   \u001B[39m | \u001B[39m4.32     \u001B[39m | \u001B[39m0.08712  \u001B[39m | \u001B[39m3.587    \u001B[39m | \u001B[39m8.773    \u001B[39m | \u001B[39m480.3    \u001B[39m | \u001B[39m0.8322   \u001B[39m |\n",
      "| \u001B[39m67       \u001B[39m | \u001B[39m-3.326e+0\u001B[39m | \u001B[39m0.6097   \u001B[39m | \u001B[39m0.1286   \u001B[39m | \u001B[39m0.1234   \u001B[39m | \u001B[39m9.942    \u001B[39m | \u001B[39m6.198    \u001B[39m | \u001B[39m365.2    \u001B[39m | \u001B[39m0.8017   \u001B[39m |\n",
      "| \u001B[39m68       \u001B[39m | \u001B[39m-3.254e+0\u001B[39m | \u001B[39m0.83     \u001B[39m | \u001B[39m2.495    \u001B[39m | \u001B[39m0.05476  \u001B[39m | \u001B[39m6.15     \u001B[39m | \u001B[39m5.161    \u001B[39m | \u001B[39m391.7    \u001B[39m | \u001B[39m0.9106   \u001B[39m |\n",
      "| \u001B[39m69       \u001B[39m | \u001B[39m-3.234e+0\u001B[39m | \u001B[39m0.9355   \u001B[39m | \u001B[39m1.601    \u001B[39m | \u001B[39m0.1675   \u001B[39m | \u001B[39m6.287    \u001B[39m | \u001B[39m8.223    \u001B[39m | \u001B[39m140.1    \u001B[39m | \u001B[39m0.9311   \u001B[39m |\n",
      "| \u001B[39m70       \u001B[39m | \u001B[39m-3.254e+0\u001B[39m | \u001B[39m0.6883   \u001B[39m | \u001B[39m3.093    \u001B[39m | \u001B[39m0.0824   \u001B[39m | \u001B[39m6.346    \u001B[39m | \u001B[39m5.7      \u001B[39m | \u001B[39m304.9    \u001B[39m | \u001B[39m0.7085   \u001B[39m |\n",
      "| \u001B[39m71       \u001B[39m | \u001B[39m-3.555e+0\u001B[39m | \u001B[39m0.8175   \u001B[39m | \u001B[39m2.72     \u001B[39m | \u001B[39m0.1878   \u001B[39m | \u001B[39m6.595    \u001B[39m | \u001B[39m5.615    \u001B[39m | \u001B[39m305.0    \u001B[39m | \u001B[39m0.7054   \u001B[39m |\n",
      "| \u001B[39m72       \u001B[39m | \u001B[39m-3.2e+04 \u001B[39m | \u001B[39m0.6305   \u001B[39m | \u001B[39m4.369    \u001B[39m | \u001B[39m0.01     \u001B[39m | \u001B[39m7.37     \u001B[39m | \u001B[39m5.592    \u001B[39m | \u001B[39m430.0    \u001B[39m | \u001B[39m0.7588   \u001B[39m |\n",
      "| \u001B[39m73       \u001B[39m | \u001B[39m-3.416e+0\u001B[39m | \u001B[39m0.9239   \u001B[39m | \u001B[39m4.185    \u001B[39m | \u001B[39m0.0339   \u001B[39m | \u001B[39m8.363    \u001B[39m | \u001B[39m1.064    \u001B[39m | \u001B[39m435.5    \u001B[39m | \u001B[39m0.7106   \u001B[39m |\n",
      "| \u001B[39m74       \u001B[39m | \u001B[39m-3.21e+04\u001B[39m | \u001B[39m0.6257   \u001B[39m | \u001B[39m1.333    \u001B[39m | \u001B[39m0.06296  \u001B[39m | \u001B[39m3.483    \u001B[39m | \u001B[39m4.041    \u001B[39m | \u001B[39m147.0    \u001B[39m | \u001B[39m0.8979   \u001B[39m |\n",
      "| \u001B[39m75       \u001B[39m | \u001B[39m-3.249e+0\u001B[39m | \u001B[39m0.6278   \u001B[39m | \u001B[39m0.3155   \u001B[39m | \u001B[39m0.04526  \u001B[39m | \u001B[39m6.299    \u001B[39m | \u001B[39m5.336    \u001B[39m | \u001B[39m296.8    \u001B[39m | \u001B[39m0.9487   \u001B[39m |\n",
      "| \u001B[39m76       \u001B[39m | \u001B[39m-3.521e+0\u001B[39m | \u001B[39m0.646    \u001B[39m | \u001B[39m2.712    \u001B[39m | \u001B[39m0.1928   \u001B[39m | \u001B[39m9.471    \u001B[39m | \u001B[39m5.391    \u001B[39m | \u001B[39m275.1    \u001B[39m | \u001B[39m0.5119   \u001B[39m |\n",
      "| \u001B[39m77       \u001B[39m | \u001B[39m-3.32e+04\u001B[39m | \u001B[39m0.5      \u001B[39m | \u001B[39m4.542    \u001B[39m | \u001B[39m0.06958  \u001B[39m | \u001B[39m3.1      \u001B[39m | \u001B[39m1.611    \u001B[39m | \u001B[39m221.5    \u001B[39m | \u001B[39m0.743    \u001B[39m |\n",
      "| \u001B[35m78       \u001B[39m | \u001B[35m-3.149e+0\u001B[39m | \u001B[35m0.8667   \u001B[39m | \u001B[35m4.52     \u001B[39m | \u001B[35m0.01     \u001B[39m | \u001B[35m7.099    \u001B[39m | \u001B[35m5.453    \u001B[39m | \u001B[35m430.1    \u001B[39m | \u001B[35m0.8421   \u001B[39m |\n",
      "| \u001B[39m79       \u001B[39m | \u001B[39m-3.439e+0\u001B[39m | \u001B[39m0.9132   \u001B[39m | \u001B[39m2.363    \u001B[39m | \u001B[39m0.2233   \u001B[39m | \u001B[39m5.901    \u001B[39m | \u001B[39m5.453    \u001B[39m | \u001B[39m413.3    \u001B[39m | \u001B[39m0.6754   \u001B[39m |\n",
      "| \u001B[39m80       \u001B[39m | \u001B[39m-3.434e+0\u001B[39m | \u001B[39m0.753    \u001B[39m | \u001B[39m2.112    \u001B[39m | \u001B[39m0.1546   \u001B[39m | \u001B[39m5.984    \u001B[39m | \u001B[39m5.207    \u001B[39m | \u001B[39m391.9    \u001B[39m | \u001B[39m0.8777   \u001B[39m |\n",
      "| \u001B[39m81       \u001B[39m | \u001B[39m-3.415e+0\u001B[39m | \u001B[39m0.5877   \u001B[39m | \u001B[39m2.79     \u001B[39m | \u001B[39m0.1061   \u001B[39m | \u001B[39m3.096    \u001B[39m | \u001B[39m1.88     \u001B[39m | \u001B[39m444.7    \u001B[39m | \u001B[39m0.6472   \u001B[39m |\n",
      "| \u001B[39m82       \u001B[39m | \u001B[39m-3.207e+0\u001B[39m | \u001B[39m0.7232   \u001B[39m | \u001B[39m0.802    \u001B[39m | \u001B[39m0.09965  \u001B[39m | \u001B[39m6.513    \u001B[39m | \u001B[39m5.207    \u001B[39m | \u001B[39m181.2    \u001B[39m | \u001B[39m0.5926   \u001B[39m |\n",
      "| \u001B[39m83       \u001B[39m | \u001B[39m-3.617e+0\u001B[39m | \u001B[39m0.6035   \u001B[39m | \u001B[39m2.067    \u001B[39m | \u001B[39m0.1334   \u001B[39m | \u001B[39m5.967    \u001B[39m | \u001B[39m1.335    \u001B[39m | \u001B[39m485.5    \u001B[39m | \u001B[39m0.6777   \u001B[39m |\n",
      "| \u001B[39m84       \u001B[39m | \u001B[39m-3.182e+0\u001B[39m | \u001B[39m0.5955   \u001B[39m | \u001B[39m0.8135   \u001B[39m | \u001B[39m0.2386   \u001B[39m | \u001B[39m3.564    \u001B[39m | \u001B[39m9.3      \u001B[39m | \u001B[39m76.23    \u001B[39m | \u001B[39m0.9091   \u001B[39m |\n",
      "| \u001B[39m85       \u001B[39m | \u001B[39m-3.219e+0\u001B[39m | \u001B[39m0.5      \u001B[39m | \u001B[39m0.914    \u001B[39m | \u001B[39m0.08855  \u001B[39m | \u001B[39m6.772    \u001B[39m | \u001B[39m5.345    \u001B[39m | \u001B[39m181.1    \u001B[39m | \u001B[39m0.7356   \u001B[39m |\n",
      "| \u001B[39m86       \u001B[39m | \u001B[39m-3.392e+0\u001B[39m | \u001B[39m0.501    \u001B[39m | \u001B[39m3.386    \u001B[39m | \u001B[39m0.01     \u001B[39m | \u001B[39m6.577    \u001B[39m | \u001B[39m5.672    \u001B[39m | \u001B[39m304.9    \u001B[39m | \u001B[39m0.5      \u001B[39m |\n",
      "| \u001B[39m87       \u001B[39m | \u001B[39m-3.268e+0\u001B[39m | \u001B[39m0.6798   \u001B[39m | \u001B[39m2.761    \u001B[39m | \u001B[39m0.04988  \u001B[39m | \u001B[39m9.201    \u001B[39m | \u001B[39m7.473    \u001B[39m | \u001B[39m77.5     \u001B[39m | \u001B[39m0.5829   \u001B[39m |\n",
      "| \u001B[39m88       \u001B[39m | \u001B[39m-3.179e+0\u001B[39m | \u001B[39m0.6693   \u001B[39m | \u001B[39m3.444    \u001B[39m | \u001B[39m0.03728  \u001B[39m | \u001B[39m3.79     \u001B[39m | \u001B[39m8.715    \u001B[39m | \u001B[39m313.0    \u001B[39m | \u001B[39m0.6673   \u001B[39m |\n",
      "| \u001B[39m89       \u001B[39m | \u001B[39m-3.201e+0\u001B[39m | \u001B[39m0.6977   \u001B[39m | \u001B[39m3.54     \u001B[39m | \u001B[39m0.1703   \u001B[39m | \u001B[39m3.803    \u001B[39m | \u001B[39m8.443    \u001B[39m | \u001B[39m313.3    \u001B[39m | \u001B[39m0.6721   \u001B[39m |\n",
      "| \u001B[39m90       \u001B[39m | \u001B[39m-3.415e+0\u001B[39m | \u001B[39m0.7672   \u001B[39m | \u001B[39m3.558    \u001B[39m | \u001B[39m0.2323   \u001B[39m | \u001B[39m4.649    \u001B[39m | \u001B[39m8.255    \u001B[39m | \u001B[39m392.4    \u001B[39m | \u001B[39m0.7665   \u001B[39m |\n",
      "| \u001B[39m91       \u001B[39m | \u001B[39m-3.337e+0\u001B[39m | \u001B[39m0.844    \u001B[39m | \u001B[39m0.1516   \u001B[39m | \u001B[39m0.1957   \u001B[39m | \u001B[39m4.348    \u001B[39m | \u001B[39m7.586    \u001B[39m | \u001B[39m497.7    \u001B[39m | \u001B[39m0.949    \u001B[39m |\n",
      "| \u001B[39m92       \u001B[39m | \u001B[39m-3.182e+0\u001B[39m | \u001B[39m0.8649   \u001B[39m | \u001B[39m4.212    \u001B[39m | \u001B[39m0.01     \u001B[39m | \u001B[39m7.056    \u001B[39m | \u001B[39m5.492    \u001B[39m | \u001B[39m430.0    \u001B[39m | \u001B[39m0.6191   \u001B[39m |\n",
      "| \u001B[39m93       \u001B[39m | \u001B[39m-3.305e+0\u001B[39m | \u001B[39m0.8947   \u001B[39m | \u001B[39m3.558    \u001B[39m | \u001B[39m0.2166   \u001B[39m | \u001B[39m3.923    \u001B[39m | \u001B[39m8.656    \u001B[39m | \u001B[39m313.1    \u001B[39m | \u001B[39m0.9062   \u001B[39m |\n",
      "| \u001B[35m94       \u001B[39m | \u001B[35m-3.122e+0\u001B[39m | \u001B[35m0.9639   \u001B[39m | \u001B[35m4.422    \u001B[39m | \u001B[35m0.01     \u001B[39m | \u001B[35m6.771    \u001B[39m | \u001B[35m5.571    \u001B[39m | \u001B[35m429.9    \u001B[39m | \u001B[35m0.8661   \u001B[39m |\n",
      "| \u001B[39m95       \u001B[39m | \u001B[39m-3.224e+0\u001B[39m | \u001B[39m0.7168   \u001B[39m | \u001B[39m2.348    \u001B[39m | \u001B[39m0.03908  \u001B[39m | \u001B[39m5.541    \u001B[39m | \u001B[39m2.411    \u001B[39m | \u001B[39m105.7    \u001B[39m | \u001B[39m0.9747   \u001B[39m |\n",
      "| \u001B[39m96       \u001B[39m | \u001B[39m-3.332e+0\u001B[39m | \u001B[39m0.5688   \u001B[39m | \u001B[39m3.595    \u001B[39m | \u001B[39m0.1235   \u001B[39m | \u001B[39m6.921    \u001B[39m | \u001B[39m3.576    \u001B[39m | \u001B[39m126.8    \u001B[39m | \u001B[39m0.7307   \u001B[39m |\n",
      "| \u001B[39m97       \u001B[39m | \u001B[39m-3.3e+04 \u001B[39m | \u001B[39m0.5839   \u001B[39m | \u001B[39m2.28     \u001B[39m | \u001B[39m0.1323   \u001B[39m | \u001B[39m5.674    \u001B[39m | \u001B[39m2.119    \u001B[39m | \u001B[39m106.0    \u001B[39m | \u001B[39m0.9332   \u001B[39m |\n",
      "| \u001B[39m98       \u001B[39m | \u001B[39m-3.247e+0\u001B[39m | \u001B[39m0.7822   \u001B[39m | \u001B[39m1.865    \u001B[39m | \u001B[39m0.1255   \u001B[39m | \u001B[39m7.55     \u001B[39m | \u001B[39m6.2      \u001B[39m | \u001B[39m169.5    \u001B[39m | \u001B[39m0.9313   \u001B[39m |\n",
      "| \u001B[39m99       \u001B[39m | \u001B[39m-3.47e+04\u001B[39m | \u001B[39m0.7213   \u001B[39m | \u001B[39m3.5      \u001B[39m | \u001B[39m0.2057   \u001B[39m | \u001B[39m8.914    \u001B[39m | \u001B[39m3.031    \u001B[39m | \u001B[39m101.2    \u001B[39m | \u001B[39m0.6569   \u001B[39m |\n",
      "| \u001B[39m100      \u001B[39m | \u001B[39m-3.126e+0\u001B[39m | \u001B[39m0.8811   \u001B[39m | \u001B[39m2.965    \u001B[39m | \u001B[39m0.01     \u001B[39m | \u001B[39m6.088    \u001B[39m | \u001B[39m5.234    \u001B[39m | \u001B[39m391.9    \u001B[39m | \u001B[39m0.9434   \u001B[39m |\n",
      "| \u001B[39m101      \u001B[39m | \u001B[39m-3.288e+0\u001B[39m | \u001B[39m0.8327   \u001B[39m | \u001B[39m4.051    \u001B[39m | \u001B[39m0.1921   \u001B[39m | \u001B[39m3.261    \u001B[39m | \u001B[39m7.846    \u001B[39m | \u001B[39m253.2    \u001B[39m | \u001B[39m0.8466   \u001B[39m |\n",
      "| \u001B[39m102      \u001B[39m | \u001B[39m-3.48e+04\u001B[39m | \u001B[39m0.5      \u001B[39m | \u001B[39m3.379    \u001B[39m | \u001B[39m0.01     \u001B[39m | \u001B[39m3.878    \u001B[39m | \u001B[39m8.371    \u001B[39m | \u001B[39m313.0    \u001B[39m | \u001B[39m0.5      \u001B[39m |\n",
      "| \u001B[39m103      \u001B[39m | \u001B[39m-3.57e+04\u001B[39m | \u001B[39m0.6527   \u001B[39m | \u001B[39m4.106    \u001B[39m | \u001B[39m0.1882   \u001B[39m | \u001B[39m3.026    \u001B[39m | \u001B[39m1.758    \u001B[39m | \u001B[39m221.7    \u001B[39m | \u001B[39m0.8244   \u001B[39m |\n",
      "| \u001B[39m104      \u001B[39m | \u001B[39m-3.339e+0\u001B[39m | \u001B[39m0.5542   \u001B[39m | \u001B[39m2.549    \u001B[39m | \u001B[39m0.2429   \u001B[39m | \u001B[39m5.898    \u001B[39m | \u001B[39m5.511    \u001B[39m | \u001B[39m135.5    \u001B[39m | \u001B[39m0.9886   \u001B[39m |\n",
      "| \u001B[39m105      \u001B[39m | \u001B[39m-3.527e+0\u001B[39m | \u001B[39m0.6261   \u001B[39m | \u001B[39m3.34     \u001B[39m | \u001B[39m0.1901   \u001B[39m | \u001B[39m9.562    \u001B[39m | \u001B[39m8.119    \u001B[39m | \u001B[39m368.4    \u001B[39m | \u001B[39m0.6452   \u001B[39m |\n",
      "=============================================================================================================\n",
      "{'target': np.float64(-31222.854814033137), 'params': {'colsample_bytree': np.float64(0.9638873096923298), 'gamma': np.float64(4.422460811825043), 'learning_rate': np.float64(0.01), 'max_depth': np.float64(6.771345174796985), 'min_child_weight': np.float64(5.570995548575406), 'n_estimators': np.float64(429.9255841987145), 'subsample': np.float64(0.8660763727288715)}}\n"
     ]
    }
   ],
   "execution_count": 97
  },
  {
   "metadata": {
    "ExecuteTime": {
     "end_time": "2024-10-17T14:22:22.826627Z",
     "start_time": "2024-10-17T14:22:22.686910Z"
    }
   },
   "cell_type": "code",
   "source": [
    "best_params = optimizer.max['params']\n",
    "best_params['max_depth'] = int(best_params['max_depth'])  # max_depth는 정수형이어야 함\n",
    "best_params['n_estimators'] = int(best_params['n_estimators'])  # n_estimators도 정수형이어야 함\n",
    "\n",
    "final_model = xgb.XGBRegressor(\n",
    "    max_depth=best_params['max_depth'],\n",
    "    learning_rate=best_params['learning_rate'],\n",
    "    n_estimators=best_params['n_estimators'],\n",
    "    gamma=best_params['gamma'],\n",
    "    min_child_weight=best_params['min_child_weight'],\n",
    "    subsample=best_params['subsample'],\n",
    "    colsample_bytree=best_params['colsample_bytree'],\n",
    "    objective='reg:squarederror',\n",
    "    seed=42\n",
    ")\n",
    "\n",
    "final_model.fit(X_train, Y_train)\n",
    "final_predictions = final_model.predict(X_test)\n",
    "final_rmse = np.sqrt(mean_squared_error(Y_test, final_predictions))\n",
    "\n",
    "print(f\"최종 모델의 RMSE: {final_rmse}\")"
   ],
   "id": "3e8691a1ed8ccd75",
   "outputs": [
    {
     "name": "stdout",
     "output_type": "stream",
     "text": [
      "최종 모델의 RMSE: 31256.650833803524\n"
     ]
    }
   ],
   "execution_count": 99
  },
  {
   "metadata": {
    "ExecuteTime": {
     "end_time": "2024-10-17T14:20:05.507622Z",
     "start_time": "2024-10-17T14:20:05.503895Z"
    }
   },
   "cell_type": "code",
   "source": "",
   "id": "96fb922b17917515",
   "outputs": [],
   "execution_count": null
  }
 ],
 "metadata": {
  "kernelspec": {
   "display_name": "Python 3",
   "language": "python",
   "name": "python3"
  },
  "language_info": {
   "codemirror_mode": {
    "name": "ipython",
    "version": 2
   },
   "file_extension": ".py",
   "mimetype": "text/x-python",
   "name": "python",
   "nbconvert_exporter": "python",
   "pygments_lexer": "ipython2",
   "version": "2.7.6"
  }
 },
 "nbformat": 4,
 "nbformat_minor": 5
}
