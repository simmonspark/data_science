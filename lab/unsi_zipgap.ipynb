{
 "cells": [
  {
   "cell_type": "code",
   "id": "initial_id",
   "metadata": {
    "collapsed": true,
    "ExecuteTime": {
     "end_time": "2024-10-16T18:06:29.113917Z",
     "start_time": "2024-10-16T18:06:29.079461Z"
    }
   },
   "source": [
    "import pandas as pd\n",
    "import numpy as np\n",
    "import xgboost as xgb\n",
    "from sklearn.preprocessing import LabelEncoder, StandardScaler\n",
    "from sklearn.model_selection import train_test_split\n",
    "encoder = LabelEncoder()\n",
    "model = xgb.XGBRegressor()\n",
    "model_param = dict(min_samples_rate=0.9, n_extimators=10, max_depth=6)\n",
    "\n",
    "data = pd.read_csv('./train.csv')\n",
    "dum = np.random.rand(len(data), 5)\n",
    "train_df, test_df , _, __ = train_test_split(data,dum)\n",
    "object_columns = data.select_dtypes(include=['object']).columns\n"
   ],
   "outputs": [],
   "execution_count": 150
  },
  {
   "metadata": {},
   "cell_type": "markdown",
   "source": "## NAN 값을 확인합니다. Nan 값이 존재하는 column은 data의 target corr가 손상되었다고 가정하고 drop합니다.",
   "id": "863de4d2433d821c"
  },
  {
   "metadata": {
    "ExecuteTime": {
     "end_time": "2024-10-16T18:06:29.120428Z",
     "start_time": "2024-10-16T18:06:29.115443Z"
    }
   },
   "cell_type": "code",
   "source": "test_df['LotFrontage']",
   "id": "6a19e044b42159de",
   "outputs": [
    {
     "data": {
      "text/plain": [
       "627      80.0\n",
       "279      83.0\n",
       "0        65.0\n",
       "35      108.0\n",
       "1146      NaN\n",
       "        ...  \n",
       "774     110.0\n",
       "1316     61.0\n",
       "853       NaN\n",
       "203       NaN\n",
       "602      80.0\n",
       "Name: LotFrontage, Length: 365, dtype: float64"
      ]
     },
     "execution_count": 151,
     "metadata": {},
     "output_type": "execute_result"
    }
   ],
   "execution_count": 151
  },
  {
   "metadata": {
    "ExecuteTime": {
     "end_time": "2024-10-16T18:06:29.137644Z",
     "start_time": "2024-10-16T18:06:29.132912Z"
    }
   },
   "cell_type": "code",
   "source": "train_df.isna().sum()",
   "id": "e182e9bdcdc2db26",
   "outputs": [
    {
     "data": {
      "text/plain": [
       "Id                 0\n",
       "MSSubClass         0\n",
       "MSZoning           0\n",
       "LotFrontage      189\n",
       "LotArea            0\n",
       "                ... \n",
       "MoSold             0\n",
       "YrSold             0\n",
       "SaleType           0\n",
       "SaleCondition      0\n",
       "SalePrice          0\n",
       "Length: 81, dtype: int64"
      ]
     },
     "execution_count": 152,
     "metadata": {},
     "output_type": "execute_result"
    }
   ],
   "execution_count": 152
  },
  {
   "metadata": {
    "ExecuteTime": {
     "end_time": "2024-10-16T18:06:29.149378Z",
     "start_time": "2024-10-16T18:06:29.145410Z"
    }
   },
   "cell_type": "code",
   "source": "test_df.isna().sum()",
   "id": "fe72c9609413d554",
   "outputs": [
    {
     "data": {
      "text/plain": [
       "Id                0\n",
       "MSSubClass        0\n",
       "MSZoning          0\n",
       "LotFrontage      70\n",
       "LotArea           0\n",
       "                 ..\n",
       "MoSold            0\n",
       "YrSold            0\n",
       "SaleType          0\n",
       "SaleCondition     0\n",
       "SalePrice         0\n",
       "Length: 81, dtype: int64"
      ]
     },
     "execution_count": 153,
     "metadata": {},
     "output_type": "execute_result"
    }
   ],
   "execution_count": 153
  },
  {
   "metadata": {
    "ExecuteTime": {
     "end_time": "2024-10-16T18:06:29.155300Z",
     "start_time": "2024-10-16T18:06:29.150393Z"
    }
   },
   "cell_type": "code",
   "source": "train_df.isnull().sum()",
   "id": "48be49ba304a3cb",
   "outputs": [
    {
     "data": {
      "text/plain": [
       "Id                 0\n",
       "MSSubClass         0\n",
       "MSZoning           0\n",
       "LotFrontage      189\n",
       "LotArea            0\n",
       "                ... \n",
       "MoSold             0\n",
       "YrSold             0\n",
       "SaleType           0\n",
       "SaleCondition      0\n",
       "SalePrice          0\n",
       "Length: 81, dtype: int64"
      ]
     },
     "execution_count": 154,
     "metadata": {},
     "output_type": "execute_result"
    }
   ],
   "execution_count": 154
  },
  {
   "metadata": {
    "ExecuteTime": {
     "end_time": "2024-10-16T18:06:29.158298Z",
     "start_time": "2024-10-16T18:06:29.156031Z"
    }
   },
   "cell_type": "code",
   "source": "len(train_df)",
   "id": "722607626fbb2956",
   "outputs": [
    {
     "data": {
      "text/plain": [
       "1095"
      ]
     },
     "execution_count": 155,
     "metadata": {},
     "output_type": "execute_result"
    }
   ],
   "execution_count": 155
  },
  {
   "metadata": {
    "ExecuteTime": {
     "end_time": "2024-10-16T18:06:29.163258Z",
     "start_time": "2024-10-16T18:06:29.159523Z"
    }
   },
   "cell_type": "code",
   "source": [
    "def NullDropHandler(train, test):\n",
    "    tmp_stack = []\n",
    "    \n",
    "    # 1. train과 test 데이터프레임의 공통 열만 처리\n",
    "    common_columns = train.columns.intersection(test.columns)\n",
    "\n",
    "    # 2. 결측값이 200개 이상인 열은 삭제\n",
    "    for column in common_columns:\n",
    "        if train[column].isnull().sum() > 200:\n",
    "            train = train.drop([column], axis=1)\n",
    "            test = test.drop([column], axis=1)\n",
    "            tmp_stack.append(column)  # 제거한 열을 스택에 저장\n",
    "\n",
    "    # 공통 열 리스트를 업데이트하여 삭제된 열을 제외\n",
    "    common_columns = train.columns.intersection(test.columns)\n",
    "\n",
    "    # 3. 결측값이 있는 열을 처리\n",
    "    for column in common_columns:\n",
    "        # train 데이터프레임에서 결측값이 있는 경우\n",
    "        if train[column].isnull().sum() > 0:\n",
    "            if train[column].dtype != 'object':  # 숫자형 데이터 확인\n",
    "                value_train = train[column].mean()\n",
    "                train[column] = train[column].fillna(value_train)  # 평균값으로 NaN 채움\n",
    "            else:\n",
    "                train[column] = train[column].fillna(str('none'))  \n",
    "\n",
    "        # test 데이터프레임에서 결측값이 있는 경우\n",
    "        if test[column].isnull().sum() > 0:\n",
    "            if test[column].dtype != 'object':  # 숫자형 데이터 확인\n",
    "                value_test = test[column].mean()\n",
    "                test[column] = test[column].fillna(value_test)  # 평균값으로 NaN 채움\n",
    "            else:\n",
    "                test[column] = test[column].fillna(str('none'))  # 문자열 데이터는 -1로 채움\n",
    "\n",
    "    return train, test, tmp_stack  # 제거된 열 목록도 반환\n"
   ],
   "id": "4287458fe14d5910",
   "outputs": [],
   "execution_count": 156
  },
  {
   "metadata": {
    "ExecuteTime": {
     "end_time": "2024-10-16T18:06:29.171955Z",
     "start_time": "2024-10-16T18:06:29.169152Z"
    }
   },
   "cell_type": "code",
   "source": "len(train_df.columns)",
   "id": "6c0a0d4988a72786",
   "outputs": [
    {
     "data": {
      "text/plain": [
       "81"
      ]
     },
     "execution_count": 157,
     "metadata": {},
     "output_type": "execute_result"
    }
   ],
   "execution_count": 157
  },
  {
   "metadata": {
    "ExecuteTime": {
     "end_time": "2024-10-16T18:06:29.176271Z",
     "start_time": "2024-10-16T18:06:29.172862Z"
    }
   },
   "cell_type": "code",
   "source": "print(train_df.isnull().sum().sum())",
   "id": "4f570c3e8310255a",
   "outputs": [
    {
     "name": "stdout",
     "output_type": "stream",
     "text": [
      "5888\n"
     ]
    }
   ],
   "execution_count": 158
  },
  {
   "metadata": {
    "ExecuteTime": {
     "end_time": "2024-10-16T18:06:29.202225Z",
     "start_time": "2024-10-16T18:06:29.178893Z"
    }
   },
   "cell_type": "code",
   "source": [
    "def NaNHandler(train, test):\n",
    "    tmp_stack = []\n",
    "    common_columns = train.columns.intersection(test.columns)   \n",
    "    # 1. NaN 값이 200개 이상인 열은 삭제\n",
    "    for column in common_columns:\n",
    "        if train[column].isna().sum() > 200:\n",
    "            train = train.drop([column], axis=1)\n",
    "            test = test.drop([column], axis=1)\n",
    "            tmp_stack.append(column)  # 제거한 열을 스택에 저장\n",
    "    common_columns = train.columns.intersection(test.columns)\n",
    "    # 2. NaN 값이 있는 열을 처리\n",
    "    for column in common_columns:\n",
    "        # train 데이터프레임에서 결측값이 있는 경우\n",
    "        if train[column].isna().sum() > 0:\n",
    "            if train[column].dtype != 'object':  # 숫자형 데이터 확인\n",
    "                value_train = train[column].mean()\n",
    "                train[column] = train[column].fillna(value_train)  # 평균값으로 NaN 채움\n",
    "            else:\n",
    "                train[column] = train[column].fillna(str('none'))  # 문자열 데이터는 -1로 채움\n",
    "\n",
    "        # test 데이터프레임에서 결측값이 있는 경우\n",
    "        if test[column].isna().sum() > 0:\n",
    "            if test[column].dtype != 'object':  # 숫자형 데이터 확인\n",
    "                value_test = test[column].mean()\n",
    "                test[column] = test[column].fillna(value_test)  # 평균값으로 NaN 채움\n",
    "            else:\n",
    "                test[column] = test[column].fillna(str('none'))  # 문자열 데이터는 -1로 채움\n",
    "\n",
    "    return train, test, tmp_stack  # 제거된 열 목록도 반환\n",
    "\n",
    "# 사용 예시\n",
    "train_df, test_df, removed_columns = NaNHandler(train_df, test_df)\n"
   ],
   "id": "9df3e08c113d12f5",
   "outputs": [],
   "execution_count": 159
  },
  {
   "metadata": {
    "ExecuteTime": {
     "end_time": "2024-10-16T18:06:29.208068Z",
     "start_time": "2024-10-16T18:06:29.204249Z"
    }
   },
   "cell_type": "code",
   "source": "test_df.isna().sum().sum()",
   "id": "560f7e5bb04a6a7e",
   "outputs": [
    {
     "data": {
      "text/plain": [
       "np.int64(0)"
      ]
     },
     "execution_count": 160,
     "metadata": {},
     "output_type": "execute_result"
    }
   ],
   "execution_count": 160
  },
  {
   "metadata": {
    "ExecuteTime": {
     "end_time": "2024-10-16T18:06:29.248264Z",
     "start_time": "2024-10-16T18:06:29.208951Z"
    }
   },
   "cell_type": "code",
   "source": [
    "from sklearn.preprocessing import LabelEncoder\n",
    "import numpy as np\n",
    "\n",
    "label_encoder = LabelEncoder()\n",
    "\n",
    "def Encoder(df1, df2):\n",
    "    for column in df1.columns:\n",
    "        if df1[column].dtype == 'object':  # 문자열 타입 확인\n",
    "            df1[column] = label_encoder.fit_transform(df1[column])\n",
    "            \n",
    "            # test_df에 없는 값은 -1로 대체\n",
    "            df2[column] = df2[column].apply(lambda x: x if x in label_encoder.classes_ else 'none')\n",
    "            label_encoder.classes_ = np.append(label_encoder.classes_, 'none')\n",
    "            df2[column] = label_encoder.transform(df2[column])\n",
    "            \n",
    "    return df1, df2\n",
    "\n",
    "train_df, test_df = Encoder(train_df, test_df)\n"
   ],
   "id": "a792a7a1fadb1356",
   "outputs": [],
   "execution_count": 161
  },
  {
   "metadata": {
    "ExecuteTime": {
     "end_time": "2024-10-16T18:06:29.253903Z",
     "start_time": "2024-10-16T18:06:29.249676Z"
    }
   },
   "cell_type": "code",
   "source": [
    "print(train_df.isna().sum().sum())\n",
    "print(test_df.isna().sum().sum())"
   ],
   "id": "8885d5530425a8ff",
   "outputs": [
    {
     "name": "stdout",
     "output_type": "stream",
     "text": [
      "0\n",
      "0\n"
     ]
    }
   ],
   "execution_count": 162
  },
  {
   "metadata": {
    "ExecuteTime": {
     "end_time": "2024-10-16T18:06:29.335646Z",
     "start_time": "2024-10-16T18:06:29.254496Z"
    }
   },
   "cell_type": "code",
   "source": [
    "def remove_collinear_features(train_df: pd.DataFrame, test_df: pd.DataFrame, threshold=0.5) -> tuple:\n",
    "    corr_matrix = train_df.corr()\n",
    "    iters = range(len(corr_matrix.columns) - 1)\n",
    "    drop_cols = []\n",
    "\n",
    "    for i in iters:\n",
    "        for j in range(i + 1):\n",
    "            item = corr_matrix.iloc[j:(j + 1), (i + 1):(i + 2)]\n",
    "            col = item.columns\n",
    "            row = item.index\n",
    "            # 절대값을 씌우는 이유는\n",
    "            # corr 절대값이 높은거를 제거하면 되기 때문에\n",
    "            val = abs(item.values)\n",
    "\n",
    "            if val >= threshold:\n",
    "                print(col.values[0], '|', row.values[0], '|', round(val[0][0], 2))\n",
    "                drop_cols.append(col.values[0])\n",
    "\n",
    "    drops = set(drop_cols)\n",
    "    drops.discard('SalePrice') \n",
    "    train_df = train_df.drop(columns=drops)\n",
    "    test_df = test_df.drop(columns=drops)\n",
    "\n",
    "    return train_df, test_df\n",
    "train_df, test_df = remove_collinear_features(train_df,test_df)\n"
   ],
   "id": "5958d83ae0588881",
   "outputs": [
    {
     "name": "stdout",
     "output_type": "stream",
     "text": [
      "BldgType | MSSubClass | 0.75\n",
      "YearBuilt | OverallQual | 0.58\n",
      "YearRemodAdd | OverallQual | 0.57\n",
      "YearRemodAdd | YearBuilt | 0.61\n",
      "Exterior2nd | Exterior1st | 0.85\n",
      "ExterQual | OverallQual | 0.63\n",
      "Foundation | YearBuilt | 0.64\n",
      "BsmtQual | OverallQual | 0.61\n",
      "BsmtQual | YearBuilt | 0.53\n",
      "BsmtQual | ExterQual | 0.59\n",
      "BsmtFinSF1 | BsmtFinType1 | 0.55\n",
      "BsmtFinSF2 | BsmtFinType2 | 0.73\n",
      "TotalBsmtSF | OverallQual | 0.54\n",
      "TotalBsmtSF | BsmtFinSF1 | 0.55\n",
      "1stFlrSF | TotalBsmtSF | 0.83\n",
      "GrLivArea | OverallQual | 0.58\n",
      "GrLivArea | 1stFlrSF | 0.59\n",
      "GrLivArea | 2ndFlrSF | 0.67\n",
      "BsmtFullBath | BsmtFinSF1 | 0.64\n",
      "FullBath | OverallQual | 0.53\n",
      "FullBath | GrLivArea | 0.62\n",
      "HalfBath | 2ndFlrSF | 0.59\n",
      "BedroomAbvGr | 2ndFlrSF | 0.51\n",
      "BedroomAbvGr | GrLivArea | 0.51\n",
      "KitchenQual | OverallQual | 0.55\n",
      "KitchenQual | ExterQual | 0.65\n",
      "KitchenQual | BsmtQual | 0.5\n",
      "TotRmsAbvGrd | 2ndFlrSF | 0.61\n",
      "TotRmsAbvGrd | GrLivArea | 0.83\n",
      "TotRmsAbvGrd | FullBath | 0.55\n",
      "TotRmsAbvGrd | BedroomAbvGr | 0.67\n",
      "GarageType | YearBuilt | 0.55\n",
      "GarageYrBlt | OverallQual | 0.5\n",
      "GarageYrBlt | YearBuilt | 0.78\n",
      "GarageYrBlt | YearRemodAdd | 0.62\n",
      "GarageYrBlt | ExterQual | 0.51\n",
      "GarageYrBlt | Foundation | 0.57\n",
      "GarageYrBlt | BsmtQual | 0.52\n",
      "GarageFinish | OverallQual | 0.56\n",
      "GarageFinish | YearBuilt | 0.6\n",
      "GarageFinish | GarageType | 0.58\n",
      "GarageCars | OverallQual | 0.6\n",
      "GarageCars | YearBuilt | 0.56\n",
      "GarageCars | GarageFinish | 0.58\n",
      "GarageArea | OverallQual | 0.57\n",
      "GarageArea | YearBuilt | 0.51\n",
      "GarageArea | 1stFlrSF | 0.5\n",
      "GarageArea | GarageFinish | 0.52\n",
      "GarageArea | GarageCars | 0.89\n",
      "GarageCond | GarageQual | 0.57\n",
      "SalePrice | OverallQual | 0.79\n",
      "SalePrice | YearBuilt | 0.54\n",
      "SalePrice | YearRemodAdd | 0.54\n",
      "SalePrice | ExterQual | 0.63\n",
      "SalePrice | BsmtQual | 0.62\n",
      "SalePrice | TotalBsmtSF | 0.61\n",
      "SalePrice | 1stFlrSF | 0.62\n",
      "SalePrice | GrLivArea | 0.69\n",
      "SalePrice | FullBath | 0.55\n",
      "SalePrice | KitchenQual | 0.59\n",
      "SalePrice | TotRmsAbvGrd | 0.52\n",
      "SalePrice | GarageFinish | 0.56\n",
      "SalePrice | GarageCars | 0.65\n",
      "SalePrice | GarageArea | 0.63\n"
     ]
    }
   ],
   "execution_count": 163
  },
  {
   "metadata": {
    "ExecuteTime": {
     "end_time": "2024-10-16T18:06:29.337535Z",
     "start_time": "2024-10-16T18:06:29.336250Z"
    }
   },
   "cell_type": "code",
   "source": "",
   "id": "8ce65f6ad08febdb",
   "outputs": [],
   "execution_count": 163
  },
  {
   "metadata": {
    "ExecuteTime": {
     "end_time": "2024-10-16T18:06:29.342111Z",
     "start_time": "2024-10-16T18:06:29.338209Z"
    }
   },
   "cell_type": "code",
   "source": [
    "Y_train = train_df['SalePrice']\n",
    "X_train = train_df.drop(['SalePrice'],axis = 1)\n",
    "Y_test = test_df['SalePrice']\n",
    "X_test = test_df.drop(['SalePrice'],axis = 1)"
   ],
   "id": "80a6c4aac5244af2",
   "outputs": [],
   "execution_count": 164
  },
  {
   "metadata": {
    "ExecuteTime": {
     "end_time": "2024-10-16T18:06:29.353846Z",
     "start_time": "2024-10-16T18:06:29.342738Z"
    }
   },
   "cell_type": "code",
   "source": [
    "numeric_features = X_train.select_dtypes(include=[np.number])\n",
    "\n",
    "# X와 y 사이의 상관계수 계산\n",
    "correlation_matrix = numeric_features.corrwith(Y_train)\n",
    "\n",
    "# 상관계수가 높은 상위 5개의 특성 추출\n",
    "top_5_features = correlation_matrix.abs().sort_values(ascending=False).head(5)\n",
    "top_5_features"
   ],
   "id": "5dfe6e941161e1bc",
   "outputs": [
    {
     "name": "stderr",
     "output_type": "stream",
     "text": [
      "/opt/anaconda3/envs/forml/lib/python3.10/site-packages/numpy/lib/_function_base_impl.py:2999: RuntimeWarning: invalid value encountered in divide\n",
      "  c /= stddev[:, None]\n",
      "/opt/anaconda3/envs/forml/lib/python3.10/site-packages/numpy/lib/_function_base_impl.py:3000: RuntimeWarning: invalid value encountered in divide\n",
      "  c /= stddev[None, :]\n"
     ]
    },
    {
     "data": {
      "text/plain": [
       "OverallQual    0.789935\n",
       "MasVnrArea     0.464950\n",
       "Fireplaces     0.463889\n",
       "HeatingQC      0.403165\n",
       "LotFrontage    0.338846\n",
       "dtype: float64"
      ]
     },
     "execution_count": 165,
     "metadata": {},
     "output_type": "execute_result"
    }
   ],
   "execution_count": 165
  },
  {
   "metadata": {
    "ExecuteTime": {
     "end_time": "2024-10-16T18:09:52.931653Z",
     "start_time": "2024-10-16T18:09:52.917705Z"
    }
   },
   "cell_type": "code",
   "source": [
    "set_col = X_train.columns.intersection(object_columns)   \n",
    "tmp = X_train[set_col]\n",
    "correlation_matrix = tmp.corrwith(Y_train)\n",
    "top_5_features_ob = correlation_matrix.abs().sort_values(ascending=False).head(5)\n",
    "top_5_features_ob"
   ],
   "id": "61b5110f5bd3d9e0",
   "outputs": [
    {
     "name": "stderr",
     "output_type": "stream",
     "text": [
      "/opt/anaconda3/envs/forml/lib/python3.10/site-packages/numpy/lib/_function_base_impl.py:2999: RuntimeWarning: invalid value encountered in divide\n",
      "  c /= stddev[:, None]\n",
      "/opt/anaconda3/envs/forml/lib/python3.10/site-packages/numpy/lib/_function_base_impl.py:3000: RuntimeWarning: invalid value encountered in divide\n",
      "  c /= stddev[None, :]\n"
     ]
    },
    {
     "data": {
      "text/plain": [
       "HeatingQC       0.403165\n",
       "BsmtExposure    0.319006\n",
       "CentralAir      0.254823\n",
       "LotShape        0.253462\n",
       "RoofStyle       0.248750\n",
       "dtype: float64"
      ]
     },
     "execution_count": 173,
     "metadata": {},
     "output_type": "execute_result"
    }
   ],
   "execution_count": 173
  },
  {
   "metadata": {
    "ExecuteTime": {
     "end_time": "2024-10-16T18:13:07.468749Z",
     "start_time": "2024-10-16T18:13:07.465297Z"
    }
   },
   "cell_type": "code",
   "source": "union_selected_cols = top_5_features.index.union(top_5_features_ob.index)",
   "id": "8a080c60fd9c3553",
   "outputs": [],
   "execution_count": 179
  },
  {
   "metadata": {
    "ExecuteTime": {
     "end_time": "2024-10-16T18:13:08.106309Z",
     "start_time": "2024-10-16T18:13:08.101673Z"
    }
   },
   "cell_type": "code",
   "source": [
    "X_train = X_train[union_selected_cols]\n",
    "X_test = X_test[union_selected_cols]"
   ],
   "id": "72402bb6bec74ad8",
   "outputs": [],
   "execution_count": 180
  },
  {
   "metadata": {
    "ExecuteTime": {
     "end_time": "2024-10-16T18:13:12.799827Z",
     "start_time": "2024-10-16T18:13:09.870044Z"
    }
   },
   "cell_type": "code",
   "source": [
    "from bayes_opt import BayesianOptimization\n",
    "from sklearn.metrics import mean_squared_error\n",
    "import xgboost as xgb\n",
    "def xgb_evaluate(max_depth, learning_rate, n_estimators, gamma, min_child_weight, subsample, colsample_bytree):\n",
    "    params = {\n",
    "        'max_depth': int(max_depth),\n",
    "        'learning_rate': learning_rate,\n",
    "        'n_estimators': int(n_estimators),\n",
    "        'gamma': gamma,\n",
    "        'min_child_weight': min_child_weight,\n",
    "        'subsample': subsample,\n",
    "        'colsample_bytree': colsample_bytree,\n",
    "        'objective': 'reg:squarederror',\n",
    "        'eval_metric': 'rmse',\n",
    "        'seed': 42\n",
    "    }\n",
    "    \n",
    "    model = xgb.XGBRegressor(**params)\n",
    "    model.fit(X_train, Y_train)\n",
    "    predictions = model.predict(X_test)\n",
    "    rmse = np.sqrt(mean_squared_error(Y_test, predictions))\n",
    "    return -rmse  # 베이지안 최적화는 최대화를 목표로 하므로 음수로 변환\n",
    "\n",
    "# 베이지안 최적화 범위 설정\n",
    "pbounds = {\n",
    "    'max_depth': (3, 10),\n",
    "    'learning_rate': (0.01, 0.3),\n",
    "    'n_estimators': (50, 500),\n",
    "    'gamma': (0, 5),\n",
    "    'min_child_weight': (1, 10),\n",
    "    'subsample': (0.5, 1),\n",
    "    'colsample_bytree': (0.5, 1)\n",
    "}\n",
    "\n",
    "optimizer = BayesianOptimization(f=xgb_evaluate, pbounds=pbounds, random_state=42)\n",
    "optimizer.maximize(init_points=5, n_iter=25)\n",
    "\n",
    "# 최적의 하이퍼파라미터 출력\n",
    "print(optimizer.max)"
   ],
   "id": "30b3e90d61171aa2",
   "outputs": [
    {
     "name": "stdout",
     "output_type": "stream",
     "text": [
      "|   iter    |  target   | colsam... |   gamma   | learni... | max_depth | min_ch... | n_esti... | subsample |\n",
      "-------------------------------------------------------------------------------------------------------------\n",
      "| \u001B[39m1        \u001B[39m | \u001B[39m-3.905e+0\u001B[39m | \u001B[39m0.6873   \u001B[39m | \u001B[39m4.754    \u001B[39m | \u001B[39m0.2223   \u001B[39m | \u001B[39m7.191    \u001B[39m | \u001B[39m2.404    \u001B[39m | \u001B[39m120.2    \u001B[39m | \u001B[39m0.529    \u001B[39m |\n",
      "| \u001B[35m2        \u001B[39m | \u001B[35m-3.835e+0\u001B[39m | \u001B[35m0.9331   \u001B[39m | \u001B[35m3.006    \u001B[39m | \u001B[35m0.2153   \u001B[39m | \u001B[35m3.144    \u001B[39m | \u001B[35m9.729    \u001B[39m | \u001B[35m424.6    \u001B[39m | \u001B[35m0.6062   \u001B[39m |\n",
      "| \u001B[35m3        \u001B[39m | \u001B[35m-3.575e+0\u001B[39m | \u001B[35m0.5909   \u001B[39m | \u001B[35m0.917    \u001B[39m | \u001B[35m0.09823  \u001B[39m | \u001B[35m6.673    \u001B[39m | \u001B[35m4.888    \u001B[39m | \u001B[35m181.1    \u001B[39m | \u001B[35m0.8059   \u001B[39m |\n",
      "| \u001B[39m4        \u001B[39m | \u001B[39m-3.716e+0\u001B[39m | \u001B[39m0.5697   \u001B[39m | \u001B[39m1.461    \u001B[39m | \u001B[39m0.1162   \u001B[39m | \u001B[39m6.192    \u001B[39m | \u001B[39m8.067    \u001B[39m | \u001B[39m139.9    \u001B[39m | \u001B[39m0.7571   \u001B[39m |\n",
      "| \u001B[39m5        \u001B[39m | \u001B[39m-3.946e+0\u001B[39m | \u001B[39m0.7962   \u001B[39m | \u001B[39m0.2323   \u001B[39m | \u001B[39m0.1862   \u001B[39m | \u001B[39m4.194    \u001B[39m | \u001B[39m1.585    \u001B[39m | \u001B[39m477.0    \u001B[39m | \u001B[39m0.9828   \u001B[39m |\n",
      "| \u001B[39m6        \u001B[39m | \u001B[39m-3.935e+0\u001B[39m | \u001B[39m0.5432   \u001B[39m | \u001B[39m0.5135   \u001B[39m | \u001B[39m0.1795   \u001B[39m | \u001B[39m7.495    \u001B[39m | \u001B[39m4.593    \u001B[39m | \u001B[39m181.2    \u001B[39m | \u001B[39m0.9287   \u001B[39m |\n",
      "| \u001B[39m7        \u001B[39m | \u001B[39m-3.653e+0\u001B[39m | \u001B[39m0.581    \u001B[39m | \u001B[39m2.192    \u001B[39m | \u001B[39m0.1381   \u001B[39m | \u001B[39m8.771    \u001B[39m | \u001B[39m1.189    \u001B[39m | \u001B[39m90.79    \u001B[39m | \u001B[39m0.6691   \u001B[39m |\n",
      "| \u001B[35m8        \u001B[39m | \u001B[35m-3.476e+0\u001B[39m | \u001B[35m0.7327   \u001B[39m | \u001B[35m4.473    \u001B[39m | \u001B[35m0.02366  \u001B[39m | \u001B[35m3.119    \u001B[39m | \u001B[35m5.464    \u001B[39m | \u001B[35m472.5    \u001B[39m | \u001B[35m0.7892   \u001B[39m |\n",
      "| \u001B[39m9        \u001B[39m | \u001B[39m-3.506e+0\u001B[39m | \u001B[39m0.5992   \u001B[39m | \u001B[39m3.814    \u001B[39m | \u001B[39m0.04716  \u001B[39m | \u001B[39m4.823    \u001B[39m | \u001B[39m1.491    \u001B[39m | \u001B[39m411.0    \u001B[39m | \u001B[39m0.815    \u001B[39m |\n",
      "| \u001B[39m10       \u001B[39m | \u001B[39m-3.51e+04\u001B[39m | \u001B[39m0.9631   \u001B[39m | \u001B[39m4.923    \u001B[39m | \u001B[39m0.02398  \u001B[39m | \u001B[39m6.602    \u001B[39m | \u001B[39m3.725    \u001B[39m | \u001B[39m475.9    \u001B[39m | \u001B[39m0.5586   \u001B[39m |\n",
      "| \u001B[39m11       \u001B[39m | \u001B[39m-3.562e+0\u001B[39m | \u001B[39m0.7546   \u001B[39m | \u001B[39m1.257    \u001B[39m | \u001B[39m0.01385  \u001B[39m | \u001B[39m7.874    \u001B[39m | \u001B[39m7.838    \u001B[39m | \u001B[39m265.8    \u001B[39m | \u001B[39m0.5482   \u001B[39m |\n",
      "| \u001B[39m12       \u001B[39m | \u001B[39m-3.69e+04\u001B[39m | \u001B[39m0.9109   \u001B[39m | \u001B[39m1.1      \u001B[39m | \u001B[39m0.1401   \u001B[39m | \u001B[39m4.568    \u001B[39m | \u001B[39m8.374    \u001B[39m | \u001B[39m209.1    \u001B[39m | \u001B[39m0.7752   \u001B[39m |\n",
      "| \u001B[39m13       \u001B[39m | \u001B[39m-3.851e+0\u001B[39m | \u001B[39m0.6416   \u001B[39m | \u001B[39m3.0      \u001B[39m | \u001B[39m0.1246   \u001B[39m | \u001B[39m8.512    \u001B[39m | \u001B[39m8.579    \u001B[39m | \u001B[39m256.4    \u001B[39m | \u001B[39m0.7861   \u001B[39m |\n",
      "| \u001B[39m14       \u001B[39m | \u001B[39m-4.24e+04\u001B[39m | \u001B[39m0.6399   \u001B[39m | \u001B[39m1.06     \u001B[39m | \u001B[39m0.2468   \u001B[39m | \u001B[39m5.631    \u001B[39m | \u001B[39m1.897    \u001B[39m | \u001B[39m471.4    \u001B[39m | \u001B[39m0.5018   \u001B[39m |\n",
      "| \u001B[39m15       \u001B[39m | \u001B[39m-3.801e+0\u001B[39m | \u001B[39m0.9571   \u001B[39m | \u001B[39m2.847    \u001B[39m | \u001B[39m0.2804   \u001B[39m | \u001B[39m9.219    \u001B[39m | \u001B[39m1.744    \u001B[39m | \u001B[39m122.5    \u001B[39m | \u001B[39m0.7636   \u001B[39m |\n",
      "| \u001B[39m16       \u001B[39m | \u001B[39m-3.86e+04\u001B[39m | \u001B[39m0.5663   \u001B[39m | \u001B[39m3.839    \u001B[39m | \u001B[39m0.2516   \u001B[39m | \u001B[39m8.383    \u001B[39m | \u001B[39m6.061    \u001B[39m | \u001B[39m97.56    \u001B[39m | \u001B[39m0.9115   \u001B[39m |\n",
      "| \u001B[39m17       \u001B[39m | \u001B[39m-4.053e+0\u001B[39m | \u001B[39m0.838    \u001B[39m | \u001B[39m4.9      \u001B[39m | \u001B[39m0.2935   \u001B[39m | \u001B[39m3.092    \u001B[39m | \u001B[39m5.536    \u001B[39m | \u001B[39m260.8    \u001B[39m | \u001B[39m0.555    \u001B[39m |\n",
      "| \u001B[39m18       \u001B[39m | \u001B[39m-3.486e+0\u001B[39m | \u001B[39m0.727    \u001B[39m | \u001B[39m4.559    \u001B[39m | \u001B[39m0.04297  \u001B[39m | \u001B[39m4.925    \u001B[39m | \u001B[39m1.499    \u001B[39m | \u001B[39m382.9    \u001B[39m | \u001B[39m0.7575   \u001B[39m |\n",
      "| \u001B[39m19       \u001B[39m | \u001B[39m-3.486e+0\u001B[39m | \u001B[39m0.6231   \u001B[39m | \u001B[39m0.384    \u001B[39m | \u001B[39m0.06217  \u001B[39m | \u001B[39m6.438    \u001B[39m | \u001B[39m2.578    \u001B[39m | \u001B[39m162.2    \u001B[39m | \u001B[39m0.8716   \u001B[39m |\n",
      "| \u001B[39m20       \u001B[39m | \u001B[39m-3.94e+04\u001B[39m | \u001B[39m0.8724   \u001B[39m | \u001B[39m2.772    \u001B[39m | \u001B[39m0.1072   \u001B[39m | \u001B[39m9.03     \u001B[39m | \u001B[39m7.926    \u001B[39m | \u001B[39m425.4    \u001B[39m | \u001B[39m0.8338   \u001B[39m |\n",
      "| \u001B[39m21       \u001B[39m | \u001B[39m-3.829e+0\u001B[39m | \u001B[39m0.8908   \u001B[39m | \u001B[39m1.548    \u001B[39m | \u001B[39m0.201    \u001B[39m | \u001B[39m3.541    \u001B[39m | \u001B[39m1.197    \u001B[39m | \u001B[39m484.3    \u001B[39m | \u001B[39m0.7561   \u001B[39m |\n",
      "| \u001B[39m22       \u001B[39m | \u001B[39m-3.836e+0\u001B[39m | \u001B[39m0.6771   \u001B[39m | \u001B[39m3.209    \u001B[39m | \u001B[39m0.1768   \u001B[39m | \u001B[39m5.918    \u001B[39m | \u001B[39m9.37     \u001B[39m | \u001B[39m488.9    \u001B[39m | \u001B[39m0.5744   \u001B[39m |\n",
      "| \u001B[39m23       \u001B[39m | \u001B[39m-3.738e+0\u001B[39m | \u001B[39m0.5329   \u001B[39m | \u001B[39m3.761    \u001B[39m | \u001B[39m0.1745   \u001B[39m | \u001B[39m6.308    \u001B[39m | \u001B[39m1.11     \u001B[39m | \u001B[39m152.7    \u001B[39m | \u001B[39m0.9008   \u001B[39m |\n",
      "| \u001B[39m24       \u001B[39m | \u001B[39m-3.761e+0\u001B[39m | \u001B[39m0.6341   \u001B[39m | \u001B[39m0.4139   \u001B[39m | \u001B[39m0.1656   \u001B[39m | \u001B[39m8.764    \u001B[39m | \u001B[39m4.128    \u001B[39m | \u001B[39m169.7    \u001B[39m | \u001B[39m0.5747   \u001B[39m |\n",
      "| \u001B[39m25       \u001B[39m | \u001B[39m-3.757e+0\u001B[39m | \u001B[39m0.6768   \u001B[39m | \u001B[39m2.178    \u001B[39m | \u001B[39m0.2665   \u001B[39m | \u001B[39m3.4      \u001B[39m | \u001B[39m1.356    \u001B[39m | \u001B[39m203.9    \u001B[39m | \u001B[39m0.6655   \u001B[39m |\n",
      "| \u001B[39m26       \u001B[39m | \u001B[39m-3.666e+0\u001B[39m | \u001B[39m0.8536   \u001B[39m | \u001B[39m0.985    \u001B[39m | \u001B[39m0.08893  \u001B[39m | \u001B[39m4.108    \u001B[39m | \u001B[39m9.813    \u001B[39m | \u001B[39m362.8    \u001B[39m | \u001B[39m0.5263   \u001B[39m |\n",
      "| \u001B[39m27       \u001B[39m | \u001B[39m-3.527e+0\u001B[39m | \u001B[39m0.5374   \u001B[39m | \u001B[39m4.438    \u001B[39m | \u001B[39m0.0209   \u001B[39m | \u001B[39m3.103    \u001B[39m | \u001B[39m1.602    \u001B[39m | \u001B[39m221.9    \u001B[39m | \u001B[39m0.6161   \u001B[39m |\n",
      "| \u001B[39m28       \u001B[39m | \u001B[39m-3.942e+0\u001B[39m | \u001B[39m0.6552   \u001B[39m | \u001B[39m1.345    \u001B[39m | \u001B[39m0.1264   \u001B[39m | \u001B[39m8.261    \u001B[39m | \u001B[39m9.496    \u001B[39m | \u001B[39m476.3    \u001B[39m | \u001B[39m0.9223   \u001B[39m |\n",
      "| \u001B[39m29       \u001B[39m | \u001B[39m-3.501e+0\u001B[39m | \u001B[39m0.7037   \u001B[39m | \u001B[39m4.67     \u001B[39m | \u001B[39m0.01495  \u001B[39m | \u001B[39m7.257    \u001B[39m | \u001B[39m5.729    \u001B[39m | \u001B[39m429.9    \u001B[39m | \u001B[39m0.9004   \u001B[39m |\n",
      "| \u001B[39m30       \u001B[39m | \u001B[39m-3.8e+04 \u001B[39m | \u001B[39m0.6383   \u001B[39m | \u001B[39m1.26     \u001B[39m | \u001B[39m0.08901  \u001B[39m | \u001B[39m8.061    \u001B[39m | \u001B[39m5.292    \u001B[39m | \u001B[39m473.8    \u001B[39m | \u001B[39m0.6743   \u001B[39m |\n",
      "=============================================================================================================\n",
      "{'target': np.float64(-34757.80254293077), 'params': {'colsample_bytree': np.float64(0.7326608092573987), 'gamma': np.float64(4.473156765538061), 'learning_rate': np.float64(0.023658138385876704), 'max_depth': np.float64(3.1190458226935736), 'min_child_weight': np.float64(5.4635979815251705), 'n_estimators': np.float64(472.5323607826832), 'subsample': np.float64(0.7891993177367003)}}\n"
     ]
    }
   ],
   "execution_count": 181
  },
  {
   "metadata": {
    "ExecuteTime": {
     "end_time": "2024-10-16T18:13:14.422619Z",
     "start_time": "2024-10-16T18:13:14.300316Z"
    }
   },
   "cell_type": "code",
   "source": [
    "best_params = optimizer.max['params']\n",
    "best_params['max_depth'] = int(best_params['max_depth'])  # max_depth는 정수형이어야 함\n",
    "best_params['n_estimators'] = int(best_params['n_estimators'])  # n_estimators도 정수형이어야 함\n",
    "\n",
    "final_model = xgb.XGBRegressor(\n",
    "    max_depth=best_params['max_depth'],\n",
    "    learning_rate=best_params['learning_rate'],\n",
    "    n_estimators=best_params['n_estimators'],\n",
    "    gamma=best_params['gamma'],\n",
    "    min_child_weight=best_params['min_child_weight'],\n",
    "    subsample=best_params['subsample'],\n",
    "    colsample_bytree=best_params['colsample_bytree'],\n",
    "    objective='reg:squarederror',\n",
    "    seed=42\n",
    ")\n",
    "\n",
    "final_model.fit(X_train, Y_train)\n",
    "final_predictions = final_model.predict(X_test)\n",
    "final_rmse = np.sqrt(mean_squared_error(Y_test, final_predictions))\n",
    "\n",
    "print(f\"최종 모델의 RMSE: {final_rmse}\")"
   ],
   "id": "3e8691a1ed8ccd75",
   "outputs": [
    {
     "name": "stdout",
     "output_type": "stream",
     "text": [
      "최종 모델의 RMSE: 34757.80254293077\n"
     ]
    }
   ],
   "execution_count": 182
  },
  {
   "metadata": {
    "ExecuteTime": {
     "end_time": "2024-10-16T18:06:35.922008Z",
     "start_time": "2024-10-16T18:06:35.920713Z"
    }
   },
   "cell_type": "code",
   "source": "",
   "id": "96fb922b17917515",
   "outputs": [],
   "execution_count": 167
  }
 ],
 "metadata": {
  "kernelspec": {
   "display_name": "Python 3",
   "language": "python",
   "name": "python3"
  },
  "language_info": {
   "codemirror_mode": {
    "name": "ipython",
    "version": 2
   },
   "file_extension": ".py",
   "mimetype": "text/x-python",
   "name": "python",
   "nbconvert_exporter": "python",
   "pygments_lexer": "ipython2",
   "version": "2.7.6"
  }
 },
 "nbformat": 4,
 "nbformat_minor": 5
}
