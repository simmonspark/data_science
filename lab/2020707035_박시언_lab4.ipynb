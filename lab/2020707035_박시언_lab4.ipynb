{
 "cells": [
  {
   "metadata": {},
   "cell_type": "markdown",
   "source": [
    "### 2020707035 박시언 Lab4\n",
    "\n",
    "1. nan null data handling\n",
    "2. feature to feature corr check and drop\n",
    "3. feature to Y corr check and select\n",
    "4. hyperparameter tuning with Bayesian Optimization"
   ],
   "id": "92d0c367c0506418"
  },
  {
   "cell_type": "code",
   "id": "initial_id",
   "metadata": {
    "collapsed": true,
    "ExecuteTime": {
     "end_time": "2024-10-16T18:16:16.598298Z",
     "start_time": "2024-10-16T18:16:16.582260Z"
    }
   },
   "source": [
    "import pandas as pd\n",
    "import numpy as np\n",
    "import xgboost as xgb\n",
    "from sklearn.preprocessing import LabelEncoder, StandardScaler\n",
    "from sklearn.model_selection import train_test_split\n",
    "encoder = LabelEncoder()\n",
    "model = xgb.XGBRegressor()\n",
    "model_param = dict(min_samples_rate=0.9, n_extimators=10, max_depth=6)\n",
    "\n",
    "data = pd.read_csv('./train.csv')\n",
    "dum = np.random.rand(len(data), 5)\n",
    "train_df, test_df , _, __ = train_test_split(data,dum)\n",
    "object_columns = data.select_dtypes(include=['object']).columns\n"
   ],
   "outputs": [],
   "execution_count": 64
  },
  {
   "metadata": {
    "ExecuteTime": {
     "end_time": "2024-10-16T18:16:16.618222Z",
     "start_time": "2024-10-16T18:16:16.614039Z"
    }
   },
   "cell_type": "code",
   "source": "test_df['LotFrontage']",
   "id": "6a19e044b42159de",
   "outputs": [
    {
     "data": {
      "text/plain": [
       "624      80.0\n",
       "421       NaN\n",
       "297      66.0\n",
       "580       NaN\n",
       "371      80.0\n",
       "        ...  \n",
       "1110      NaN\n",
       "471      92.0\n",
       "1232     70.0\n",
       "55      100.0\n",
       "1057      NaN\n",
       "Name: LotFrontage, Length: 365, dtype: float64"
      ]
     },
     "execution_count": 65,
     "metadata": {},
     "output_type": "execute_result"
    }
   ],
   "execution_count": 65
  },
  {
   "metadata": {
    "ExecuteTime": {
     "end_time": "2024-10-16T18:16:16.638025Z",
     "start_time": "2024-10-16T18:16:16.633411Z"
    }
   },
   "cell_type": "code",
   "source": "train_df.isna().sum()",
   "id": "e182e9bdcdc2db26",
   "outputs": [
    {
     "data": {
      "text/plain": [
       "Id                 0\n",
       "MSSubClass         0\n",
       "MSZoning           0\n",
       "LotFrontage      185\n",
       "LotArea            0\n",
       "                ... \n",
       "MoSold             0\n",
       "YrSold             0\n",
       "SaleType           0\n",
       "SaleCondition      0\n",
       "SalePrice          0\n",
       "Length: 81, dtype: int64"
      ]
     },
     "execution_count": 66,
     "metadata": {},
     "output_type": "execute_result"
    }
   ],
   "execution_count": 66
  },
  {
   "metadata": {
    "ExecuteTime": {
     "end_time": "2024-10-16T18:16:16.642532Z",
     "start_time": "2024-10-16T18:16:16.639034Z"
    }
   },
   "cell_type": "code",
   "source": "test_df.isna().sum()",
   "id": "fe72c9609413d554",
   "outputs": [
    {
     "data": {
      "text/plain": [
       "Id                0\n",
       "MSSubClass        0\n",
       "MSZoning          0\n",
       "LotFrontage      74\n",
       "LotArea           0\n",
       "                 ..\n",
       "MoSold            0\n",
       "YrSold            0\n",
       "SaleType          0\n",
       "SaleCondition     0\n",
       "SalePrice         0\n",
       "Length: 81, dtype: int64"
      ]
     },
     "execution_count": 67,
     "metadata": {},
     "output_type": "execute_result"
    }
   ],
   "execution_count": 67
  },
  {
   "metadata": {
    "ExecuteTime": {
     "end_time": "2024-10-16T18:16:16.650116Z",
     "start_time": "2024-10-16T18:16:16.646541Z"
    }
   },
   "cell_type": "code",
   "source": "train_df.isnull().sum()",
   "id": "48be49ba304a3cb",
   "outputs": [
    {
     "data": {
      "text/plain": [
       "Id                 0\n",
       "MSSubClass         0\n",
       "MSZoning           0\n",
       "LotFrontage      185\n",
       "LotArea            0\n",
       "                ... \n",
       "MoSold             0\n",
       "YrSold             0\n",
       "SaleType           0\n",
       "SaleCondition      0\n",
       "SalePrice          0\n",
       "Length: 81, dtype: int64"
      ]
     },
     "execution_count": 68,
     "metadata": {},
     "output_type": "execute_result"
    }
   ],
   "execution_count": 68
  },
  {
   "metadata": {
    "ExecuteTime": {
     "end_time": "2024-10-16T18:16:16.652946Z",
     "start_time": "2024-10-16T18:16:16.651012Z"
    }
   },
   "cell_type": "code",
   "source": "len(train_df)",
   "id": "722607626fbb2956",
   "outputs": [
    {
     "data": {
      "text/plain": [
       "1095"
      ]
     },
     "execution_count": 69,
     "metadata": {},
     "output_type": "execute_result"
    }
   ],
   "execution_count": 69
  },
  {
   "metadata": {
    "ExecuteTime": {
     "end_time": "2024-10-16T18:16:16.657032Z",
     "start_time": "2024-10-16T18:16:16.653746Z"
    }
   },
   "cell_type": "code",
   "source": [
    "def NullDropHandler(train, test):\n",
    "    tmp_stack = []\n",
    "    \n",
    "    # 1. train과 test 데이터프레임의 공통 열만 처리\n",
    "    common_columns = train.columns.intersection(test.columns)\n",
    "\n",
    "    # 2. 결측값이 200개 이상인 열은 삭제\n",
    "    for column in common_columns:\n",
    "        if train[column].isnull().sum() > 200:\n",
    "            train = train.drop([column], axis=1)\n",
    "            test = test.drop([column], axis=1)\n",
    "            tmp_stack.append(column)  # 제거한 열을 스택에 저장\n",
    "\n",
    "    # 공통 열 리스트를 업데이트하여 삭제된 열을 제외\n",
    "    common_columns = train.columns.intersection(test.columns)\n",
    "\n",
    "    # 3. 결측값이 있는 열을 처리\n",
    "    for column in common_columns:\n",
    "        # train 데이터프레임에서 결측값이 있는 경우\n",
    "        if train[column].isnull().sum() > 0:\n",
    "            if train[column].dtype != 'object':  # 숫자형 데이터 확인\n",
    "                value_train = train[column].mean()\n",
    "                train[column] = train[column].fillna(value_train)  \n",
    "            else:\n",
    "                train[column] = train[column].fillna(str('none'))  \n",
    "\n",
    "        # test 데이터프레임에서 결측값이 있는 경우\n",
    "        if test[column].isnull().sum() > 0:\n",
    "            if test[column].dtype != 'object':  # 숫자형 데이터 확인\n",
    "                value_test = test[column].mean()\n",
    "                test[column] = test[column].fillna(value_test)  \n",
    "            else:\n",
    "                test[column] = test[column].fillna(str('none')) \n",
    "\n",
    "    return train, test, tmp_stack  # 제거된 열 목록도 반환\n"
   ],
   "id": "4287458fe14d5910",
   "outputs": [],
   "execution_count": 70
  },
  {
   "metadata": {
    "ExecuteTime": {
     "end_time": "2024-10-16T18:16:16.661109Z",
     "start_time": "2024-10-16T18:16:16.659155Z"
    }
   },
   "cell_type": "code",
   "source": "len(train_df.columns)",
   "id": "6c0a0d4988a72786",
   "outputs": [
    {
     "data": {
      "text/plain": [
       "81"
      ]
     },
     "execution_count": 71,
     "metadata": {},
     "output_type": "execute_result"
    }
   ],
   "execution_count": 71
  },
  {
   "metadata": {
    "ExecuteTime": {
     "end_time": "2024-10-16T18:16:16.681711Z",
     "start_time": "2024-10-16T18:16:16.678410Z"
    }
   },
   "cell_type": "code",
   "source": "print(train_df.isnull().sum().sum())",
   "id": "4f570c3e8310255a",
   "outputs": [
    {
     "name": "stdout",
     "output_type": "stream",
     "text": [
      "5866\n"
     ]
    }
   ],
   "execution_count": 72
  },
  {
   "metadata": {
    "ExecuteTime": {
     "end_time": "2024-10-16T18:16:16.702728Z",
     "start_time": "2024-10-16T18:16:16.682622Z"
    }
   },
   "cell_type": "code",
   "source": [
    "def NaNHandler(train, test):\n",
    "    tmp_stack = []\n",
    "    common_columns = train.columns.intersection(test.columns)   \n",
    "    # 1. NaN 값이 200개 이상인 열은 삭제\n",
    "    for column in common_columns:\n",
    "        if train[column].isna().sum() > 200:\n",
    "            train = train.drop([column], axis=1)\n",
    "            test = test.drop([column], axis=1)\n",
    "            tmp_stack.append(column) \n",
    "    common_columns = train.columns.intersection(test.columns)\n",
    "    # 2. NaN 값이 있는 열을 처리\n",
    "    for column in common_columns:\n",
    "        # train 데이터프레임에서 결측값이 있는 경우\n",
    "        if train[column].isna().sum() > 0:\n",
    "            if train[column].dtype != 'object':  # 숫자형 데이터 확인\n",
    "                value_train = train[column].mean()\n",
    "                train[column] = train[column].fillna(value_train)  # 평균값으로 NaN 채움\n",
    "            else:\n",
    "                train[column] = train[column].fillna(str('none')) \n",
    "\n",
    "        # test 데이터프레임에서 결측값이 있는 경우\n",
    "        if test[column].isna().sum() > 0:\n",
    "            if test[column].dtype != 'object':  # 숫자형 데이터 확인\n",
    "                value_test = test[column].mean()\n",
    "                test[column] = test[column].fillna(value_test)  # 평균값으로 NaN 채움\n",
    "            else:\n",
    "                test[column] = test[column].fillna(str('none')) \n",
    "\n",
    "    return train, test, tmp_stack \n",
    "\n",
    "\n",
    "train_df, test_df, removed_columns = NaNHandler(train_df, test_df)\n"
   ],
   "id": "9df3e08c113d12f5",
   "outputs": [],
   "execution_count": 73
  },
  {
   "metadata": {
    "ExecuteTime": {
     "end_time": "2024-10-16T18:16:16.706996Z",
     "start_time": "2024-10-16T18:16:16.703895Z"
    }
   },
   "cell_type": "code",
   "source": "test_df.isna().sum().sum()",
   "id": "560f7e5bb04a6a7e",
   "outputs": [
    {
     "data": {
      "text/plain": [
       "np.int64(0)"
      ]
     },
     "execution_count": 74,
     "metadata": {},
     "output_type": "execute_result"
    }
   ],
   "execution_count": 74
  },
  {
   "metadata": {
    "ExecuteTime": {
     "end_time": "2024-10-16T18:16:16.746414Z",
     "start_time": "2024-10-16T18:16:16.707571Z"
    }
   },
   "cell_type": "code",
   "source": [
    "from sklearn.preprocessing import LabelEncoder\n",
    "import numpy as np\n",
    "\n",
    "label_encoder = LabelEncoder()\n",
    "\n",
    "def Encoder(df1, df2):\n",
    "    for column in df1.columns:\n",
    "        if df1[column].dtype == 'object':  # 문자열 타입 확인\n",
    "            df1[column] = label_encoder.fit_transform(df1[column])\n",
    "            \n",
    "            # test_df에 없는 값은 -1로 대체\n",
    "            df2[column] = df2[column].apply(lambda x: x if x in label_encoder.classes_ else 'none')\n",
    "            label_encoder.classes_ = np.append(label_encoder.classes_, 'none')\n",
    "            df2[column] = label_encoder.transform(df2[column])\n",
    "            \n",
    "    return df1, df2\n",
    "\n",
    "train_df, test_df = Encoder(train_df, test_df)\n"
   ],
   "id": "a792a7a1fadb1356",
   "outputs": [],
   "execution_count": 75
  },
  {
   "metadata": {
    "ExecuteTime": {
     "end_time": "2024-10-16T18:16:16.753362Z",
     "start_time": "2024-10-16T18:16:16.748917Z"
    }
   },
   "cell_type": "code",
   "source": [
    "print(train_df.isna().sum().sum())\n",
    "print(test_df.isna().sum().sum())"
   ],
   "id": "8885d5530425a8ff",
   "outputs": [
    {
     "name": "stdout",
     "output_type": "stream",
     "text": [
      "0\n",
      "0\n"
     ]
    }
   ],
   "execution_count": 76
  },
  {
   "metadata": {
    "ExecuteTime": {
     "end_time": "2024-10-16T18:16:16.840752Z",
     "start_time": "2024-10-16T18:16:16.754174Z"
    }
   },
   "cell_type": "code",
   "source": [
    "def remove_collinear_features(train_df: pd.DataFrame, test_df: pd.DataFrame, threshold=0.8) -> tuple:\n",
    "    corr_matrix = train_df.corr()\n",
    "    iters = range(len(corr_matrix.columns) - 1)\n",
    "    drop_cols = []\n",
    "\n",
    "    for i in iters:\n",
    "        for j in range(i + 1):\n",
    "            item = corr_matrix.iloc[j:(j + 1), (i + 1):(i + 2)]\n",
    "            col = item.columns\n",
    "            row = item.index\n",
    "            # 절대값을 씌우는 이유는\n",
    "            # corr 절대값이 높은거를 제거하면 되기 때문에\n",
    "            val = abs(item.values)\n",
    "\n",
    "            if val >= threshold:\n",
    "                print(col.values[0], '|', row.values[0], '|', round(val[0][0], 2))\n",
    "                drop_cols.append(col.values[0])\n",
    "\n",
    "    drops = set(drop_cols)\n",
    "    drops.discard('SalePrice') \n",
    "    train_df = train_df.drop(columns=drops)\n",
    "    test_df = test_df.drop(columns=drops)\n",
    "\n",
    "    return train_df, test_df\n",
    "train_df, test_df = remove_collinear_features(train_df,test_df)\n"
   ],
   "id": "5958d83ae0588881",
   "outputs": [
    {
     "name": "stdout",
     "output_type": "stream",
     "text": [
      "Exterior2nd | Exterior1st | 0.87\n",
      "1stFlrSF | TotalBsmtSF | 0.84\n",
      "TotRmsAbvGrd | GrLivArea | 0.83\n",
      "GarageArea | GarageCars | 0.88\n"
     ]
    }
   ],
   "execution_count": 77
  },
  {
   "metadata": {
    "ExecuteTime": {
     "end_time": "2024-10-16T18:16:16.842673Z",
     "start_time": "2024-10-16T18:16:16.841505Z"
    }
   },
   "cell_type": "code",
   "source": "",
   "id": "8ce65f6ad08febdb",
   "outputs": [],
   "execution_count": 77
  },
  {
   "metadata": {
    "ExecuteTime": {
     "end_time": "2024-10-16T18:16:16.846913Z",
     "start_time": "2024-10-16T18:16:16.843177Z"
    }
   },
   "cell_type": "code",
   "source": [
    "Y_train = train_df['SalePrice']\n",
    "X_train = train_df.drop(['SalePrice'],axis = 1)\n",
    "Y_test = test_df['SalePrice']\n",
    "X_test = test_df.drop(['SalePrice'],axis = 1)"
   ],
   "id": "80a6c4aac5244af2",
   "outputs": [],
   "execution_count": 78
  },
  {
   "metadata": {
    "ExecuteTime": {
     "end_time": "2024-10-16T18:16:16.858727Z",
     "start_time": "2024-10-16T18:16:16.847630Z"
    }
   },
   "cell_type": "code",
   "source": [
    "numeric_features = X_train.select_dtypes(include=[np.number])\n",
    "\n",
    "# X와 y 사이의 상관계수 계산\n",
    "correlation_matrix = numeric_features.corrwith(Y_train)\n",
    "\n",
    "# 상관계수가 높은 상위 5개의 특성 추출\n",
    "top_5_features = correlation_matrix.abs().sort_values(ascending=False).head(5)\n",
    "top_5_features"
   ],
   "id": "5dfe6e941161e1bc",
   "outputs": [
    {
     "data": {
      "text/plain": [
       "OverallQual    0.785660\n",
       "GrLivArea      0.698884\n",
       "GarageCars     0.634704\n",
       "BsmtQual       0.610871\n",
       "ExterQual      0.608780\n",
       "dtype: float64"
      ]
     },
     "execution_count": 79,
     "metadata": {},
     "output_type": "execute_result"
    }
   ],
   "execution_count": 79
  },
  {
   "metadata": {
    "ExecuteTime": {
     "end_time": "2024-10-16T18:16:16.868299Z",
     "start_time": "2024-10-16T18:16:16.859336Z"
    }
   },
   "cell_type": "code",
   "source": [
    "set_col = X_train.columns.intersection(object_columns)   \n",
    "tmp = X_train[set_col]\n",
    "correlation_matrix = tmp.corrwith(Y_train)\n",
    "top_5_features_ob = correlation_matrix.abs().sort_values(ascending=False).head(5)\n",
    "top_5_features_ob"
   ],
   "id": "61b5110f5bd3d9e0",
   "outputs": [
    {
     "data": {
      "text/plain": [
       "BsmtQual        0.610871\n",
       "ExterQual       0.608780\n",
       "KitchenQual     0.591580\n",
       "GarageFinish    0.543607\n",
       "GarageType      0.403782\n",
       "dtype: float64"
      ]
     },
     "execution_count": 80,
     "metadata": {},
     "output_type": "execute_result"
    }
   ],
   "execution_count": 80
  },
  {
   "metadata": {
    "ExecuteTime": {
     "end_time": "2024-10-16T18:16:16.874601Z",
     "start_time": "2024-10-16T18:16:16.872008Z"
    }
   },
   "cell_type": "code",
   "source": "union_selected_cols = top_5_features.index.union(top_5_features_ob.index)",
   "id": "8a080c60fd9c3553",
   "outputs": [],
   "execution_count": 81
  },
  {
   "metadata": {
    "ExecuteTime": {
     "end_time": "2024-10-16T18:16:16.878233Z",
     "start_time": "2024-10-16T18:16:16.875810Z"
    }
   },
   "cell_type": "code",
   "source": [
    "X_train = X_train[union_selected_cols]\n",
    "X_test = X_test[union_selected_cols]"
   ],
   "id": "72402bb6bec74ad8",
   "outputs": [],
   "execution_count": 82
  },
  {
   "metadata": {
    "ExecuteTime": {
     "end_time": "2024-10-16T18:16:22.005218Z",
     "start_time": "2024-10-16T18:16:16.879151Z"
    }
   },
   "cell_type": "code",
   "source": [
    "from bayes_opt import BayesianOptimization\n",
    "from sklearn.metrics import mean_squared_error\n",
    "import xgboost as xgb\n",
    "def xgb_evaluate(max_depth, learning_rate, n_estimators, gamma, min_child_weight, subsample, colsample_bytree):\n",
    "    params = {\n",
    "        'max_depth': int(max_depth),\n",
    "        'learning_rate': learning_rate,\n",
    "        'n_estimators': int(n_estimators),\n",
    "        'gamma': gamma,\n",
    "        'min_child_weight': min_child_weight,\n",
    "        'subsample': subsample,\n",
    "        'colsample_bytree': colsample_bytree,\n",
    "        'objective': 'reg:squarederror',\n",
    "        'eval_metric': 'rmse',\n",
    "        'seed': 42\n",
    "    }\n",
    "    \n",
    "    model = xgb.XGBRegressor(**params)\n",
    "    model.fit(X_train, Y_train)\n",
    "    predictions = model.predict(X_test)\n",
    "    rmse = np.sqrt(mean_squared_error(Y_test, predictions))\n",
    "    return -rmse  # 베이지안 최적화는 최대화를 목표로 하므로 음수로 변환\n",
    "\n",
    "# 베이지안 최적화 범위 설정\n",
    "pbounds = {\n",
    "    'max_depth': (3, 10),\n",
    "    'learning_rate': (0.01, 0.3),\n",
    "    'n_estimators': (50, 500),\n",
    "    'gamma': (0, 5),\n",
    "    'min_child_weight': (1, 10),\n",
    "    'subsample': (0.5, 1),\n",
    "    'colsample_bytree': (0.5, 1)\n",
    "}\n",
    "\n",
    "optimizer = BayesianOptimization(f=xgb_evaluate, pbounds=pbounds, random_state=42)\n",
    "optimizer.maximize(init_points=5, n_iter=25)\n",
    "\n",
    "# 최적의 하이퍼파라미터 출력\n",
    "print(optimizer.max)"
   ],
   "id": "30b3e90d61171aa2",
   "outputs": [
    {
     "name": "stdout",
     "output_type": "stream",
     "text": [
      "|   iter    |  target   | colsam... |   gamma   | learni... | max_depth | min_ch... | n_esti... | subsample |\n",
      "-------------------------------------------------------------------------------------------------------------\n",
      "| \u001B[39m1        \u001B[39m | \u001B[39m-3.895e+0\u001B[39m | \u001B[39m0.6873   \u001B[39m | \u001B[39m4.754    \u001B[39m | \u001B[39m0.2223   \u001B[39m | \u001B[39m7.191    \u001B[39m | \u001B[39m2.404    \u001B[39m | \u001B[39m120.2    \u001B[39m | \u001B[39m0.529    \u001B[39m |\n",
      "| \u001B[35m2        \u001B[39m | \u001B[35m-3.708e+0\u001B[39m | \u001B[35m0.9331   \u001B[39m | \u001B[35m3.006    \u001B[39m | \u001B[35m0.2153   \u001B[39m | \u001B[35m3.144    \u001B[39m | \u001B[35m9.729    \u001B[39m | \u001B[35m424.6    \u001B[39m | \u001B[35m0.6062   \u001B[39m |\n",
      "| \u001B[35m3        \u001B[39m | \u001B[35m-3.587e+0\u001B[39m | \u001B[35m0.5909   \u001B[39m | \u001B[35m0.917    \u001B[39m | \u001B[35m0.09823  \u001B[39m | \u001B[35m6.673    \u001B[39m | \u001B[35m4.888    \u001B[39m | \u001B[35m181.1    \u001B[39m | \u001B[35m0.8059   \u001B[39m |\n",
      "| \u001B[35m4        \u001B[39m | \u001B[35m-3.413e+0\u001B[39m | \u001B[35m0.5697   \u001B[39m | \u001B[35m1.461    \u001B[39m | \u001B[35m0.1162   \u001B[39m | \u001B[35m6.192    \u001B[39m | \u001B[35m8.067    \u001B[39m | \u001B[35m139.9    \u001B[39m | \u001B[35m0.7571   \u001B[39m |\n",
      "| \u001B[39m5        \u001B[39m | \u001B[39m-3.918e+0\u001B[39m | \u001B[39m0.7962   \u001B[39m | \u001B[39m0.2323   \u001B[39m | \u001B[39m0.1862   \u001B[39m | \u001B[39m4.194    \u001B[39m | \u001B[39m1.585    \u001B[39m | \u001B[39m477.0    \u001B[39m | \u001B[39m0.9828   \u001B[39m |\n",
      "| \u001B[39m6        \u001B[39m | \u001B[39m-3.431e+0\u001B[39m | \u001B[39m0.6909   \u001B[39m | \u001B[39m2.055    \u001B[39m | \u001B[39m0.1084   \u001B[39m | \u001B[39m6.844    \u001B[39m | \u001B[39m8.534    \u001B[39m | \u001B[39m139.8    \u001B[39m | \u001B[39m0.9432   \u001B[39m |\n",
      "| \u001B[35m7        \u001B[39m | \u001B[35m-3.329e+0\u001B[39m | \u001B[35m0.5      \u001B[39m | \u001B[35m0.0      \u001B[39m | \u001B[35m0.1512   \u001B[39m | \u001B[35m3.0      \u001B[39m | \u001B[35m5.304    \u001B[39m | \u001B[35m149.9    \u001B[39m | \u001B[35m0.5      \u001B[39m |\n",
      "| \u001B[39m8        \u001B[39m | \u001B[39m-4e+04   \u001B[39m | \u001B[39m0.5234   \u001B[39m | \u001B[39m4.116    \u001B[39m | \u001B[39m0.2889   \u001B[39m | \u001B[39m3.192    \u001B[39m | \u001B[39m1.056    \u001B[39m | \u001B[39m287.5    \u001B[39m | \u001B[39m0.8247   \u001B[39m |\n",
      "| \u001B[39m9        \u001B[39m | \u001B[39m-3.41e+04\u001B[39m | \u001B[39m1.0      \u001B[39m | \u001B[39m0.0      \u001B[39m | \u001B[39m0.01     \u001B[39m | \u001B[39m10.0     \u001B[39m | \u001B[39m1.0      \u001B[39m | \u001B[39m366.3    \u001B[39m | \u001B[39m1.0      \u001B[39m |\n",
      "| \u001B[39m10       \u001B[39m | \u001B[39m-3.515e+0\u001B[39m | \u001B[39m0.5      \u001B[39m | \u001B[39m5.0      \u001B[39m | \u001B[39m0.3      \u001B[39m | \u001B[39m3.0      \u001B[39m | \u001B[39m10.0     \u001B[39m | \u001B[39m347.3    \u001B[39m | \u001B[39m0.5      \u001B[39m |\n",
      "| \u001B[39m11       \u001B[39m | \u001B[39m-3.638e+0\u001B[39m | \u001B[39m0.5      \u001B[39m | \u001B[39m5.0      \u001B[39m | \u001B[39m0.3      \u001B[39m | \u001B[39m3.0      \u001B[39m | \u001B[39m10.0     \u001B[39m | \u001B[39m383.9    \u001B[39m | \u001B[39m0.5      \u001B[39m |\n",
      "| \u001B[35m12       \u001B[39m | \u001B[35m-3.254e+0\u001B[39m | \u001B[35m0.5      \u001B[39m | \u001B[35m0.0      \u001B[39m | \u001B[35m0.3      \u001B[39m | \u001B[35m3.0      \u001B[39m | \u001B[35m10.0     \u001B[39m | \u001B[35m50.0     \u001B[39m | \u001B[35m1.0      \u001B[39m |\n",
      "| \u001B[39m13       \u001B[39m | \u001B[39m-5.235e+0\u001B[39m | \u001B[39m1.0      \u001B[39m | \u001B[39m5.0      \u001B[39m | \u001B[39m0.01     \u001B[39m | \u001B[39m10.0     \u001B[39m | \u001B[39m1.0      \u001B[39m | \u001B[39m62.26    \u001B[39m | \u001B[39m1.0      \u001B[39m |\n",
      "| \u001B[39m14       \u001B[39m | \u001B[39m-3.858e+0\u001B[39m | \u001B[39m0.5      \u001B[39m | \u001B[39m5.0      \u001B[39m | \u001B[39m0.01     \u001B[39m | \u001B[39m10.0     \u001B[39m | \u001B[39m10.0     \u001B[39m | \u001B[39m156.8    \u001B[39m | \u001B[39m0.5      \u001B[39m |\n",
      "| \u001B[39m15       \u001B[39m | \u001B[39m-3.559e+0\u001B[39m | \u001B[39m0.5461   \u001B[39m | \u001B[39m4.546    \u001B[39m | \u001B[39m0.2741   \u001B[39m | \u001B[39m3.63     \u001B[39m | \u001B[39m9.189    \u001B[39m | \u001B[39m361.8    \u001B[39m | \u001B[39m0.546    \u001B[39m |\n",
      "| \u001B[39m16       \u001B[39m | \u001B[39m-3.41e+04\u001B[39m | \u001B[39m1.0      \u001B[39m | \u001B[39m0.0      \u001B[39m | \u001B[39m0.01     \u001B[39m | \u001B[39m10.0     \u001B[39m | \u001B[39m1.0      \u001B[39m | \u001B[39m353.3    \u001B[39m | \u001B[39m1.0      \u001B[39m |\n",
      "| \u001B[39m17       \u001B[39m | \u001B[39m-3.415e+0\u001B[39m | \u001B[39m1.0      \u001B[39m | \u001B[39m0.0      \u001B[39m | \u001B[39m0.01     \u001B[39m | \u001B[39m10.0     \u001B[39m | \u001B[39m1.0      \u001B[39m | \u001B[39m337.6    \u001B[39m | \u001B[39m1.0      \u001B[39m |\n",
      "| \u001B[35m18       \u001B[39m | \u001B[35m-3.185e+0\u001B[39m | \u001B[35m0.5      \u001B[39m | \u001B[35m4.447    \u001B[39m | \u001B[35m0.01     \u001B[39m | \u001B[35m3.0      \u001B[39m | \u001B[35m10.0     \u001B[39m | \u001B[35m328.4    \u001B[39m | \u001B[35m0.5      \u001B[39m |\n",
      "| \u001B[39m19       \u001B[39m | \u001B[39m-3.999e+0\u001B[39m | \u001B[39m1.0      \u001B[39m | \u001B[39m0.0      \u001B[39m | \u001B[39m0.3      \u001B[39m | \u001B[39m3.0      \u001B[39m | \u001B[39m1.0      \u001B[39m | \u001B[39m322.0    \u001B[39m | \u001B[39m1.0      \u001B[39m |\n",
      "| \u001B[39m20       \u001B[39m | \u001B[39m-3.861e+0\u001B[39m | \u001B[39m0.5      \u001B[39m | \u001B[39m5.0      \u001B[39m | \u001B[39m0.3      \u001B[39m | \u001B[39m10.0     \u001B[39m | \u001B[39m10.0     \u001B[39m | \u001B[39m334.2    \u001B[39m | \u001B[39m0.5      \u001B[39m |\n",
      "| \u001B[39m21       \u001B[39m | \u001B[39m-3.848e+0\u001B[39m | \u001B[39m1.0      \u001B[39m | \u001B[39m4.543    \u001B[39m | \u001B[39m0.3      \u001B[39m | \u001B[39m3.0      \u001B[39m | \u001B[39m1.0      \u001B[39m | \u001B[39m144.5    \u001B[39m | \u001B[39m1.0      \u001B[39m |\n",
      "| \u001B[39m22       \u001B[39m | \u001B[39m-3.194e+0\u001B[39m | \u001B[39m0.5      \u001B[39m | \u001B[39m5.0      \u001B[39m | \u001B[39m0.01     \u001B[39m | \u001B[39m3.0      \u001B[39m | \u001B[39m10.0     \u001B[39m | \u001B[39m322.8    \u001B[39m | \u001B[39m0.5      \u001B[39m |\n",
      "| \u001B[39m23       \u001B[39m | \u001B[39m-3.197e+0\u001B[39m | \u001B[39m1.0      \u001B[39m | \u001B[39m0.0      \u001B[39m | \u001B[39m0.01     \u001B[39m | \u001B[39m3.591    \u001B[39m | \u001B[39m1.0      \u001B[39m | \u001B[39m345.1    \u001B[39m | \u001B[39m1.0      \u001B[39m |\n",
      "| \u001B[39m24       \u001B[39m | \u001B[39m-4.214e+0\u001B[39m | \u001B[39m1.0      \u001B[39m | \u001B[39m5.0      \u001B[39m | \u001B[39m0.3      \u001B[39m | \u001B[39m9.601    \u001B[39m | \u001B[39m1.0      \u001B[39m | \u001B[39m345.6    \u001B[39m | \u001B[39m0.5      \u001B[39m |\n",
      "| \u001B[39m25       \u001B[39m | \u001B[39m-3.189e+0\u001B[39m | \u001B[39m0.5      \u001B[39m | \u001B[39m0.387    \u001B[39m | \u001B[39m0.01     \u001B[39m | \u001B[39m3.0      \u001B[39m | \u001B[39m10.0     \u001B[39m | \u001B[39m325.5    \u001B[39m | \u001B[39m0.5      \u001B[39m |\n",
      "| \u001B[39m26       \u001B[39m | \u001B[39m-3.201e+0\u001B[39m | \u001B[39m0.9117   \u001B[39m | \u001B[39m0.0      \u001B[39m | \u001B[39m0.01     \u001B[39m | \u001B[39m3.0      \u001B[39m | \u001B[39m3.096    \u001B[39m | \u001B[39m351.5    \u001B[39m | \u001B[39m1.0      \u001B[39m |\n",
      "| \u001B[39m27       \u001B[39m | \u001B[39m-3.198e+0\u001B[39m | \u001B[39m1.0      \u001B[39m | \u001B[39m0.0      \u001B[39m | \u001B[39m0.01     \u001B[39m | \u001B[39m3.0      \u001B[39m | \u001B[39m1.0      \u001B[39m | \u001B[39m359.1    \u001B[39m | \u001B[39m1.0      \u001B[39m |\n",
      "| \u001B[39m28       \u001B[39m | \u001B[39m-3.198e+0\u001B[39m | \u001B[39m0.5      \u001B[39m | \u001B[39m0.0      \u001B[39m | \u001B[39m0.01     \u001B[39m | \u001B[39m3.0      \u001B[39m | \u001B[39m4.043    \u001B[39m | \u001B[39m337.0    \u001B[39m | \u001B[39m1.0      \u001B[39m |\n",
      "| \u001B[39m29       \u001B[39m | \u001B[39m-3.953e+0\u001B[39m | \u001B[39m1.0      \u001B[39m | \u001B[39m0.0      \u001B[39m | \u001B[39m0.2795   \u001B[39m | \u001B[39m3.0      \u001B[39m | \u001B[39m1.0      \u001B[39m | \u001B[39m204.7    \u001B[39m | \u001B[39m0.9712   \u001B[39m |\n",
      "| \u001B[39m30       \u001B[39m | \u001B[39m-3.335e+0\u001B[39m | \u001B[39m0.5      \u001B[39m | \u001B[39m5.0      \u001B[39m | \u001B[39m0.01     \u001B[39m | \u001B[39m10.0     \u001B[39m | \u001B[39m10.0     \u001B[39m | \u001B[39m245.7    \u001B[39m | \u001B[39m0.5      \u001B[39m |\n",
      "=============================================================================================================\n",
      "{'target': np.float64(-31854.99106116922), 'params': {'colsample_bytree': np.float64(0.5), 'gamma': np.float64(4.447465872885776), 'learning_rate': np.float64(0.01), 'max_depth': np.float64(3.0), 'min_child_weight': np.float64(10.0), 'n_estimators': np.float64(328.416486120044), 'subsample': np.float64(0.5)}}\n"
     ]
    }
   ],
   "execution_count": 83
  },
  {
   "metadata": {
    "ExecuteTime": {
     "end_time": "2024-10-16T18:16:22.088539Z",
     "start_time": "2024-10-16T18:16:22.006103Z"
    }
   },
   "cell_type": "code",
   "source": [
    "best_params = optimizer.max['params']\n",
    "best_params['max_depth'] = int(best_params['max_depth'])  # max_depth는 정수형이어야 함\n",
    "best_params['n_estimators'] = int(best_params['n_estimators'])  # n_estimators도 정수형이어야 함\n",
    "\n",
    "final_model = xgb.XGBRegressor(\n",
    "    max_depth=best_params['max_depth'],\n",
    "    learning_rate=best_params['learning_rate'],\n",
    "    n_estimators=best_params['n_estimators'],\n",
    "    gamma=best_params['gamma'],\n",
    "    min_child_weight=best_params['min_child_weight'],\n",
    "    subsample=best_params['subsample'],\n",
    "    colsample_bytree=best_params['colsample_bytree'],\n",
    "    objective='reg:squarederror',\n",
    "    seed=42\n",
    ")\n",
    "\n",
    "final_model.fit(X_train, Y_train)\n",
    "final_predictions = final_model.predict(X_test)\n",
    "final_rmse = np.sqrt(mean_squared_error(Y_test, final_predictions))\n",
    "\n",
    "print(f\"최종 모델의 RMSE: {final_rmse}\")"
   ],
   "id": "3e8691a1ed8ccd75",
   "outputs": [
    {
     "name": "stdout",
     "output_type": "stream",
     "text": [
      "최종 모델의 RMSE: 31854.99106116922\n"
     ]
    }
   ],
   "execution_count": 84
  },
  {
   "metadata": {
    "ExecuteTime": {
     "end_time": "2024-10-16T18:16:22.090854Z",
     "start_time": "2024-10-16T18:16:22.089424Z"
    }
   },
   "cell_type": "code",
   "source": "",
   "id": "96fb922b17917515",
   "outputs": [],
   "execution_count": 84
  }
 ],
 "metadata": {
  "kernelspec": {
   "display_name": "Python 3",
   "language": "python",
   "name": "python3"
  },
  "language_info": {
   "codemirror_mode": {
    "name": "ipython",
    "version": 2
   },
   "file_extension": ".py",
   "mimetype": "text/x-python",
   "name": "python",
   "nbconvert_exporter": "python",
   "pygments_lexer": "ipython2",
   "version": "2.7.6"
  }
 },
 "nbformat": 4,
 "nbformat_minor": 5
}
