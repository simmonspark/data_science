{
 "cells": [
  {
   "metadata": {},
   "cell_type": "markdown",
   "source": "# 2020707035 박시언 lab6",
   "id": "5563a91b2d18af76"
  },
  {
   "metadata": {},
   "cell_type": "markdown",
   "source": [
    "### introduction\n",
    "1. 이전 과제들과 동일하게 데이터 전처리를 진행합니다.\n",
    "2. LogisticRegression, SVC, RandomForestClassifier, GradientBoostingClassifier 하이퍼파라미터 튜닝을 통해서 최적의 파라미터를 찾습니다.\n",
    "3. 최적의 파라미터를 착고 각각의 모델들로 성능을 평가합니다.(베이지안 최적화)\n",
    "4. 모니터링은 roc-auc를 기반으로 합니다.\n",
    "\n",
    "----------------------------------------\n",
    "### conclusion\n",
    "Model: LogisticRegression\n",
    "Accuracy: 0.8827\n",
    "F1-Score: 0.8205\n",
    "ROC-AUC: 0.8975\n",
    "----------------------------------------\n",
    "Model: SVC\n",
    "Accuracy: 0.8324\n",
    "F1-Score: 0.7541\n",
    "ROC-AUC: 0.8996\n",
    "----------------------------------------\n",
    "Model: RandomForestClassifier\n",
    "Accuracy: 0.8547\n",
    "F1-Score: 0.7719\n",
    "ROC-AUC: 0.9032\n",
    "----------------------------------------\n",
    "Model: GradientBoostingClassifier\n",
    "Accuracy: 0.8492\n",
    "F1-Score: 0.7692\n",
    "ROC-AUC: 0.9007\n",
    "----------------------------------------\n",
    "\n",
    ": 전체적인 성능을 보았을 때 LogisticRegression을 쓰는 것이 권장된다 생각한다.\n"
   ],
   "id": "ef55ef86e53a055e"
  },
  {
   "cell_type": "code",
   "id": "aa7813bcaefc052a",
   "metadata": {
    "collapsed": true,
    "ExecuteTime": {
     "end_time": "2024-11-20T11:32:41.542776Z",
     "start_time": "2024-11-20T11:32:40.966716Z"
    }
   },
   "source": [
    "'''\n",
    "\n",
    "given\n",
    "\n",
    "Logistic Regression, SVM, Random Forest, Gradient Boosting\n",
    "'''\n",
    "import pandas as pd\n",
    "import numpy as np\n",
    "from sklearn.linear_model import LogisticRegression\n",
    "from sklearn.svm import SVC\n",
    "from sklearn.ensemble import RandomForestClassifier, GradientBoostingClassifier"
   ],
   "outputs": [],
   "execution_count": 1
  },
  {
   "metadata": {
    "ExecuteTime": {
     "end_time": "2024-11-20T11:32:42.225904Z",
     "start_time": "2024-11-20T11:32:41.543485Z"
    }
   },
   "cell_type": "code",
   "source": [
    "data = pd.read_csv(\"https://raw.githubusercontent.com/datasciencedojo/datasets/master/titanic.csv\")\n",
    "data['Age'].fillna(data['Age'].mean(),inplace=True)\n",
    "data['Cabin'].fillna('N',inplace=True)\n",
    "data['Embarked'].fillna('N',inplace=True)\n",
    "\n",
    "data.loc[data[\"Sex\"] == \"male\", \"Sex_encode\"] = 0\n",
    "data.loc[data[\"Sex\"] == \"female\", \"Sex_encode\"] = 1"
   ],
   "id": "a76dcb5e26dcd6ae",
   "outputs": [
    {
     "name": "stderr",
     "output_type": "stream",
     "text": [
      "/tmp/ipykernel_16341/222278390.py:2: FutureWarning: A value is trying to be set on a copy of a DataFrame or Series through chained assignment using an inplace method.\n",
      "The behavior will change in pandas 3.0. This inplace method will never work because the intermediate object on which we are setting values always behaves as a copy.\n",
      "\n",
      "For example, when doing 'df[col].method(value, inplace=True)', try using 'df.method({col: value}, inplace=True)' or df[col] = df[col].method(value) instead, to perform the operation inplace on the original object.\n",
      "\n",
      "\n",
      "  data['Age'].fillna(data['Age'].mean(),inplace=True)\n",
      "/tmp/ipykernel_16341/222278390.py:3: FutureWarning: A value is trying to be set on a copy of a DataFrame or Series through chained assignment using an inplace method.\n",
      "The behavior will change in pandas 3.0. This inplace method will never work because the intermediate object on which we are setting values always behaves as a copy.\n",
      "\n",
      "For example, when doing 'df[col].method(value, inplace=True)', try using 'df.method({col: value}, inplace=True)' or df[col] = df[col].method(value) instead, to perform the operation inplace on the original object.\n",
      "\n",
      "\n",
      "  data['Cabin'].fillna('N',inplace=True)\n",
      "/tmp/ipykernel_16341/222278390.py:4: FutureWarning: A value is trying to be set on a copy of a DataFrame or Series through chained assignment using an inplace method.\n",
      "The behavior will change in pandas 3.0. This inplace method will never work because the intermediate object on which we are setting values always behaves as a copy.\n",
      "\n",
      "For example, when doing 'df[col].method(value, inplace=True)', try using 'df.method({col: value}, inplace=True)' or df[col] = df[col].method(value) instead, to perform the operation inplace on the original object.\n",
      "\n",
      "\n",
      "  data['Embarked'].fillna('N',inplace=True)\n"
     ]
    }
   ],
   "execution_count": 2
  },
  {
   "metadata": {
    "ExecuteTime": {
     "end_time": "2024-11-20T11:32:42.246516Z",
     "start_time": "2024-11-20T11:32:42.227883Z"
    }
   },
   "cell_type": "code",
   "source": [
    "from sklearn.preprocessing import LabelEncoder\n",
    "\n",
    "# Null 처리 함수\n",
    "def fillna(df):\n",
    "    df['Age'].fillna(df['Age'].mean(), inplace=True)\n",
    "    df['Cabin'].fillna('N', inplace=True)\n",
    "    df['Embarked'].fillna('N', inplace=True)\n",
    "    df['Fare'].fillna(0, inplace=True)\n",
    "    return df\n",
    "\n",
    "# 머신러닝 알고리즘에 불필요한 피처 제거\n",
    "def drop_features(df):\n",
    "    df.drop(['PassengerId', 'Name', 'Ticket'], axis=1, inplace=True)\n",
    "    return df\n",
    "\n",
    "# 레이블 인코딩 수행.\n",
    "def format_features(df):\n",
    "    df['Cabin'] = df['Cabin'].str[:1]\n",
    "    features = ['Cabin', 'Sex', 'Embarked']\n",
    "    for feature in features:\n",
    "        le = LabelEncoder()\n",
    "        le = le.fit(df[feature])\n",
    "        df[feature] = le.transform(df[feature])\n",
    "    return df\n",
    "\n",
    "# 앞에서 설정한 데이터 전처리 함수 호출\n",
    "def transform_features(df):\n",
    "    df = fillna(df)\n",
    "    df = drop_features(df)\n",
    "    df = format_features(df)\n",
    "    return df\n",
    "\n",
    "\n",
    "Y = data['Survived']\n",
    "X = data.drop('Survived', axis=1)\n",
    "X = transform_features(X)\n",
    "X['Fare'] = np.log(X['Fare'] + 1)\n",
    "X['Age'] = np.log(X['Age'] + 1)"
   ],
   "id": "e8959594a8766bbc",
   "outputs": [
    {
     "name": "stderr",
     "output_type": "stream",
     "text": [
      "/tmp/ipykernel_16341/2441370030.py:5: FutureWarning: A value is trying to be set on a copy of a DataFrame or Series through chained assignment using an inplace method.\n",
      "The behavior will change in pandas 3.0. This inplace method will never work because the intermediate object on which we are setting values always behaves as a copy.\n",
      "\n",
      "For example, when doing 'df[col].method(value, inplace=True)', try using 'df.method({col: value}, inplace=True)' or df[col] = df[col].method(value) instead, to perform the operation inplace on the original object.\n",
      "\n",
      "\n",
      "  df['Age'].fillna(df['Age'].mean(), inplace=True)\n",
      "/tmp/ipykernel_16341/2441370030.py:6: FutureWarning: A value is trying to be set on a copy of a DataFrame or Series through chained assignment using an inplace method.\n",
      "The behavior will change in pandas 3.0. This inplace method will never work because the intermediate object on which we are setting values always behaves as a copy.\n",
      "\n",
      "For example, when doing 'df[col].method(value, inplace=True)', try using 'df.method({col: value}, inplace=True)' or df[col] = df[col].method(value) instead, to perform the operation inplace on the original object.\n",
      "\n",
      "\n",
      "  df['Cabin'].fillna('N', inplace=True)\n",
      "/tmp/ipykernel_16341/2441370030.py:7: FutureWarning: A value is trying to be set on a copy of a DataFrame or Series through chained assignment using an inplace method.\n",
      "The behavior will change in pandas 3.0. This inplace method will never work because the intermediate object on which we are setting values always behaves as a copy.\n",
      "\n",
      "For example, when doing 'df[col].method(value, inplace=True)', try using 'df.method({col: value}, inplace=True)' or df[col] = df[col].method(value) instead, to perform the operation inplace on the original object.\n",
      "\n",
      "\n",
      "  df['Embarked'].fillna('N', inplace=True)\n",
      "/tmp/ipykernel_16341/2441370030.py:8: FutureWarning: A value is trying to be set on a copy of a DataFrame or Series through chained assignment using an inplace method.\n",
      "The behavior will change in pandas 3.0. This inplace method will never work because the intermediate object on which we are setting values always behaves as a copy.\n",
      "\n",
      "For example, when doing 'df[col].method(value, inplace=True)', try using 'df.method({col: value}, inplace=True)' or df[col] = df[col].method(value) instead, to perform the operation inplace on the original object.\n",
      "\n",
      "\n",
      "  df['Fare'].fillna(0, inplace=True)\n"
     ]
    }
   ],
   "execution_count": 3
  },
  {
   "metadata": {
    "ExecuteTime": {
     "end_time": "2024-11-20T11:32:42.314796Z",
     "start_time": "2024-11-20T11:32:42.248573Z"
    }
   },
   "cell_type": "code",
   "source": [
    "from sklearn.model_selection import train_test_split\n",
    "X_train, X_test, y_train, y_test=train_test_split(X, Y, \\\n",
    "                                                  test_size=0.2, random_state=11)\n",
    "\n",
    "from skopt import BayesSearchCV\n",
    "from sklearn.metrics import accuracy_score, f1_score, roc_auc_score\n",
    "from sklearn.model_selection import cross_val_score\n",
    "import warnings\n",
    "\n",
    "warnings.filterwarnings(\"ignore\")  # 경고 제거\n",
    "\n",
    "# 각 모델과 검색 공간 정의\n",
    "param_spaces = {\n",
    "    'LogisticRegression': {\n",
    "        'C': (1e-6, 1e+6, 'log-uniform'),  # 정규화 강도\n",
    "        'penalty': ['l2'],  # L2 규제\n",
    "        'solver': ['lbfgs'],  # solver 선택\n",
    "    },\n",
    "    'SVC': {\n",
    "        'C': (1e-3, 1e+3, 'log-uniform'),  # 정규화 강도\n",
    "        'kernel': ['linear', 'rbf'],  # 커널 선택\n",
    "        'gamma': (1e-4, 1e+1, 'log-uniform'),  # 감마 파라미터\n",
    "    },\n",
    "    'RandomForestClassifier': {\n",
    "        'n_estimators': (10, 500),  # 트리 개수\n",
    "        'max_depth': (3, 20),  # 최대 깊이\n",
    "        'min_samples_split': (2, 10),  # 최소 샘플 분리\n",
    "    },\n",
    "    'GradientBoostingClassifier': {\n",
    "        'learning_rate': (0.01, 1.0, 'log-uniform'),  # 학습률\n",
    "        'n_estimators': (10, 500),  # 트리 개수\n",
    "        'max_depth': (3, 20),  # 최대 깊이\n",
    "    }\n",
    "}\n",
    "\n",
    "models = {\n",
    "    'LogisticRegression': LogisticRegression(),\n",
    "    'SVC': SVC(probability=True),\n",
    "    'RandomForestClassifier': RandomForestClassifier(),\n",
    "    'GradientBoostingClassifier': GradientBoostingClassifier()\n",
    "}\n",
    "\n",
    "# 베이지안 최적화를 실행하고 결과 저장\n",
    "best_models = {}\n",
    "results = {}"
   ],
   "id": "cc87c715b6ede8ce",
   "outputs": [],
   "execution_count": 4
  },
  {
   "metadata": {
    "ExecuteTime": {
     "end_time": "2024-11-20T11:34:00.008080Z",
     "start_time": "2024-11-20T11:32:42.315506Z"
    }
   },
   "cell_type": "code",
   "source": [
    "for model_name, model in models.items():\n",
    "    print(f\"Optimizing {model_name}...\")\n",
    "    search = BayesSearchCV(\n",
    "        estimator=model,\n",
    "        search_spaces=param_spaces[model_name],\n",
    "        n_iter=30,  # 탐색 반복 횟수\n",
    "        cv=3,  # 3-Fold 교차 검증\n",
    "        scoring='roc_auc',  # ROC-AUC 점수 기준\n",
    "        n_jobs=-1,  # 병렬 처리\n",
    "        random_state=42\n",
    "    )\n",
    "    search.fit(X_train, y_train)\n",
    "    best_models[model_name] = search.best_estimator_\n",
    "    results[model_name] = {\n",
    "        'Best Params': search.best_params_,\n",
    "        'Best Score': search.best_score_\n",
    "    }\n",
    "    print(f\"Best Params for {model_name}: {search.best_params_}\")\n",
    "    print(f\"Best ROC-AUC Score for {model_name}: {search.best_score_}\")\n",
    "\n",
    "# 최적화 결과 출력\n",
    "for model_name, result in results.items():\n",
    "    print(f\"\\nModel: {model_name}\")\n",
    "    print(f\"Best Params: {result['Best Params']}\")\n",
    "    print(f\"Best ROC-AUC: {result['Best Score']:.4f}\")\n",
    "\n",
    "# 최적 모델 성능 평가\n",
    "print(\"\\nEvaluating best models on test set...\\n\")\n",
    "for model_name, model in best_models.items():\n",
    "    y_pred = model.predict(X_test)\n",
    "    y_pred_proba = model.predict_proba(X_test)[:, 1] if hasattr(model, \"predict_proba\") else None\n",
    "\n",
    "    acc = accuracy_score(y_test, y_pred)\n",
    "    f1 = f1_score(y_test, y_pred)\n",
    "    roc_auc = roc_auc_score(y_test, y_pred_proba) if y_pred_proba is not None else \"N/A\"\n",
    "\n",
    "    print(f\"Model: {model_name}\")\n",
    "    print(f\"Accuracy: {acc:.4f}\")\n",
    "    print(f\"F1-Score: {f1:.4f}\")\n",
    "    print(f\"ROC-AUC: {roc_auc:.4f}\" if roc_auc != \"N/A\" else \"ROC-AUC: Not available\")\n",
    "    print(\"-\" * 40)\n"
   ],
   "id": "initial_id",
   "outputs": [
    {
     "name": "stdout",
     "output_type": "stream",
     "text": [
      "Optimizing LogisticRegression...\n",
      "Best Params for LogisticRegression: OrderedDict({'C': 0.344330407655008, 'penalty': 'l2', 'solver': 'lbfgs'})\n",
      "Best ROC-AUC Score for LogisticRegression: 0.8517023376788018\n",
      "Optimizing SVC...\n",
      "Best Params for SVC: OrderedDict({'C': 86.95535347355771, 'gamma': 0.0008240929829517187, 'kernel': 'rbf'})\n",
      "Best ROC-AUC Score for SVC: 0.8458517726956014\n",
      "Optimizing RandomForestClassifier...\n",
      "Best Params for RandomForestClassifier: OrderedDict({'max_depth': 16, 'min_samples_split': 10, 'n_estimators': 500})\n",
      "Best ROC-AUC Score for RandomForestClassifier: 0.8681626307348397\n",
      "Optimizing GradientBoostingClassifier...\n",
      "Best Params for GradientBoostingClassifier: OrderedDict({'learning_rate': 0.19860463029029454, 'max_depth': 11, 'n_estimators': 362})\n",
      "Best ROC-AUC Score for GradientBoostingClassifier: 0.8433717385580518\n",
      "\n",
      "Model: LogisticRegression\n",
      "Best Params: OrderedDict({'C': 0.344330407655008, 'penalty': 'l2', 'solver': 'lbfgs'})\n",
      "Best ROC-AUC: 0.8517\n",
      "\n",
      "Model: SVC\n",
      "Best Params: OrderedDict({'C': 86.95535347355771, 'gamma': 0.0008240929829517187, 'kernel': 'rbf'})\n",
      "Best ROC-AUC: 0.8459\n",
      "\n",
      "Model: RandomForestClassifier\n",
      "Best Params: OrderedDict({'max_depth': 16, 'min_samples_split': 10, 'n_estimators': 500})\n",
      "Best ROC-AUC: 0.8682\n",
      "\n",
      "Model: GradientBoostingClassifier\n",
      "Best Params: OrderedDict({'learning_rate': 0.19860463029029454, 'max_depth': 11, 'n_estimators': 362})\n",
      "Best ROC-AUC: 0.8434\n",
      "\n",
      "Evaluating best models on test set...\n",
      "\n",
      "Model: LogisticRegression\n",
      "Accuracy: 0.8827\n",
      "F1-Score: 0.8205\n",
      "ROC-AUC: 0.8975\n",
      "----------------------------------------\n",
      "Model: SVC\n",
      "Accuracy: 0.8324\n",
      "F1-Score: 0.7541\n",
      "ROC-AUC: 0.8996\n",
      "----------------------------------------\n",
      "Model: RandomForestClassifier\n",
      "Accuracy: 0.8547\n",
      "F1-Score: 0.7719\n",
      "ROC-AUC: 0.9032\n",
      "----------------------------------------\n",
      "Model: GradientBoostingClassifier\n",
      "Accuracy: 0.8492\n",
      "F1-Score: 0.7692\n",
      "ROC-AUC: 0.9007\n",
      "----------------------------------------\n"
     ]
    }
   ],
   "execution_count": 5
  },
  {
   "metadata": {
    "ExecuteTime": {
     "end_time": "2024-11-20T11:34:00.010163Z",
     "start_time": "2024-11-20T11:34:00.008812Z"
    }
   },
   "cell_type": "code",
   "source": "",
   "id": "9642cfa7e888f94f",
   "outputs": [],
   "execution_count": 5
  }
 ],
 "metadata": {
  "kernelspec": {
   "display_name": "Python 3",
   "language": "python",
   "name": "python3"
  },
  "language_info": {
   "codemirror_mode": {
    "name": "ipython",
    "version": 2
   },
   "file_extension": ".py",
   "mimetype": "text/x-python",
   "name": "python",
   "nbconvert_exporter": "python",
   "pygments_lexer": "ipython2",
   "version": "2.7.6"
  }
 },
 "nbformat": 4,
 "nbformat_minor": 5
}
