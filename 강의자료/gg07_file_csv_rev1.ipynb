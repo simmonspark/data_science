{
 "nbformat": 4,
 "nbformat_minor": 0,
 "metadata": {
  "kernelspec": {
   "display_name": "Python 3",
   "language": "python",
   "name": "python3"
  },
  "language_info": {
   "codemirror_mode": {
    "name": "ipython",
    "version": 3
   },
   "file_extension": ".py",
   "mimetype": "text/x-python",
   "name": "python",
   "nbconvert_exporter": "python",
   "pygments_lexer": "ipython3",
   "version": "3.6.8"
  },
  "colab": {
   "provenance": []
  }
 },
 "cells": [
  {
   "cell_type": "markdown",
   "metadata": {
    "id": "8Zk6XkamujtT"
   },
   "source": [
    "## 파일 생성"
   ]
  },
  {
   "cell_type": "code",
   "metadata": {
    "id": "hOf2clRUujtT",
    "executionInfo": {
     "status": "ok",
     "timestamp": 1721030995160,
     "user_tz": -540,
     "elapsed": 970,
     "user": {
      "displayName": "Yongjin Jeong",
      "userId": "03658406798560557048"
     }
    },
    "ExecuteTime": {
     "end_time": "2024-10-11T11:58:55.228672Z",
     "start_time": "2024-10-11T11:58:54.845669Z"
    }
   },
   "source": [
    "from pandas import DataFrame, Series\n",
    "import pandas as pd\n",
    "\n",
    "f = open(\"test.csv\", \"w\")\n",
    "f.write(\"1,2,3,4,5 \\n\")\n",
    "f.close()"
   ],
   "outputs": [],
   "execution_count": 1
  },
  {
   "cell_type": "code",
   "metadata": {
    "id": "5kK6FTscujtT",
    "colab": {
     "base_uri": "https://localhost:8080/"
    },
    "executionInfo": {
     "status": "ok",
     "timestamp": 1721030995727,
     "user_tz": -540,
     "elapsed": 571,
     "user": {
      "displayName": "Yongjin Jeong",
      "userId": "03658406798560557048"
     }
    },
    "outputId": "9b31eb6d-4484-467e-b5e8-930f78143a8c",
    "ExecuteTime": {
     "end_time": "2024-10-11T11:58:55.367889Z",
     "start_time": "2024-10-11T11:58:55.229572Z"
    }
   },
   "source": [
    "!cat test.csv\n",
    "#!type test.csv"
   ],
   "outputs": [
    {
     "name": "stdout",
     "output_type": "stream",
     "text": [
      "1,2,3,4,5 \r\n"
     ]
    }
   ],
   "execution_count": 2
  },
  {
   "cell_type": "code",
   "metadata": {
    "id": "51xDHB8AujtV",
    "executionInfo": {
     "status": "ok",
     "timestamp": 1721030995728,
     "user_tz": -540,
     "elapsed": 16,
     "user": {
      "displayName": "Yongjin Jeong",
      "userId": "03658406798560557048"
     }
    },
    "ExecuteTime": {
     "end_time": "2024-10-11T11:58:55.376129Z",
     "start_time": "2024-10-11T11:58:55.371495Z"
    }
   },
   "source": [
    "with open(\"test.csv\", \"a\") as f:\n",
    "    f.write(\"1,2,3,4,5 \\n\")\n",
    "    f.write(\"1,2,3,4,5 \\n\")"
   ],
   "outputs": [],
   "execution_count": 3
  },
  {
   "cell_type": "code",
   "metadata": {
    "id": "2CicqPBMujtV",
    "colab": {
     "base_uri": "https://localhost:8080/"
    },
    "executionInfo": {
     "status": "ok",
     "timestamp": 1721030995728,
     "user_tz": -540,
     "elapsed": 16,
     "user": {
      "displayName": "Yongjin Jeong",
      "userId": "03658406798560557048"
     }
    },
    "outputId": "11dadb02-1648-48bd-a9c6-bc1b99a2d630",
    "ExecuteTime": {
     "end_time": "2024-10-11T11:58:55.509265Z",
     "start_time": "2024-10-11T11:58:55.379682Z"
    }
   },
   "source": [
    "!cat test.csv\n",
    "#!type test.csv"
   ],
   "outputs": [
    {
     "name": "stdout",
     "output_type": "stream",
     "text": [
      "1,2,3,4,5 \r\n",
      "1,2,3,4,5 \r\n",
      "1,2,3,4,5 \r\n"
     ]
    }
   ],
   "execution_count": 4
  },
  {
   "cell_type": "code",
   "metadata": {
    "id": "aeygsclFujtW",
    "colab": {
     "base_uri": "https://localhost:8080/"
    },
    "executionInfo": {
     "status": "ok",
     "timestamp": 1721030995728,
     "user_tz": -540,
     "elapsed": 13,
     "user": {
      "displayName": "Yongjin Jeong",
      "userId": "03658406798560557048"
     }
    },
    "outputId": "19bf23f5-4341-4473-e8d0-6b79265821b4",
    "ExecuteTime": {
     "end_time": "2024-10-11T11:58:55.512930Z",
     "start_time": "2024-10-11T11:58:55.510110Z"
    }
   },
   "source": [
    "with open(\"test.csv\",'r') as f:\n",
    "    for line in f:\n",
    "        print(line, end='\\t')"
   ],
   "outputs": [
    {
     "name": "stdout",
     "output_type": "stream",
     "text": [
      "1,2,3,4,5 \n",
      "\t1,2,3,4,5 \n",
      "\t1,2,3,4,5 \n",
      "\t"
     ]
    }
   ],
   "execution_count": 5
  },
  {
   "cell_type": "markdown",
   "metadata": {
    "id": "BoohSR7EujtW"
   },
   "source": [
    "## 옵션\n",
    "'r'\tOpen a file for reading. (default)  \n",
    "'w'\tOpen a file for writing. Creates a new file if it does not exist or truncates the file if it exists.  \n",
    "'x'\tOpen a file for exclusive creation. If the file already exists, the operation fails.  \n",
    "'a'\tOpen for appending at the end of the file without truncating it.   Creates a new file if it does not exist.\n",
    "'t'\tOpen in text mode. (default)  \n",
    "'b'\tOpen in binary mode.  \n",
    "'+'\tOpen a file for updating (reading and writing)  "
   ]
  },
  {
   "cell_type": "code",
   "metadata": {
    "id": "6R3plV7vujtW",
    "executionInfo": {
     "status": "ok",
     "timestamp": 1721030995728,
     "user_tz": -540,
     "elapsed": 12,
     "user": {
      "displayName": "Yongjin Jeong",
      "userId": "03658406798560557048"
     }
    },
    "ExecuteTime": {
     "end_time": "2024-10-11T11:58:55.516524Z",
     "start_time": "2024-10-11T11:58:55.513771Z"
    }
   },
   "source": [
    "with open(\"test.csv\", \"w\") as f:\n",
    "    f.write(\"a,b,c,d,message \\n\")\n",
    "    f.write(\"1,2,3,4,hello \\n\")\n",
    "    f.write(\"5,6,7,8,world \\n\")\n",
    "    f.write(\"9,10,11,12,foo \\n\")"
   ],
   "outputs": [],
   "execution_count": 6
  },
  {
   "cell_type": "code",
   "metadata": {
    "id": "tA77ij1wujtW",
    "colab": {
     "base_uri": "https://localhost:8080/"
    },
    "executionInfo": {
     "status": "ok",
     "timestamp": 1721030995729,
     "user_tz": -540,
     "elapsed": 12,
     "user": {
      "displayName": "Yongjin Jeong",
      "userId": "03658406798560557048"
     }
    },
    "outputId": "0e6691fd-6d58-43b7-ba05-f6d241b09e73",
    "ExecuteTime": {
     "end_time": "2024-10-11T11:58:55.636093Z",
     "start_time": "2024-10-11T11:58:55.517650Z"
    }
   },
   "source": [
    "!cat test.csv\n",
    "# !type test.csv"
   ],
   "outputs": [
    {
     "name": "stdout",
     "output_type": "stream",
     "text": [
      "a,b,c,d,message \r\n",
      "1,2,3,4,hello \r\n",
      "5,6,7,8,world \r\n",
      "9,10,11,12,foo \r\n"
     ]
    }
   ],
   "execution_count": 7
  },
  {
   "cell_type": "code",
   "metadata": {
    "id": "3fCxi-NtujtW",
    "colab": {
     "base_uri": "https://localhost:8080/",
     "height": 143
    },
    "executionInfo": {
     "status": "ok",
     "timestamp": 1721030995729,
     "user_tz": -540,
     "elapsed": 11,
     "user": {
      "displayName": "Yongjin Jeong",
      "userId": "03658406798560557048"
     }
    },
    "outputId": "38ab92ff-c6bc-4ae1-b6ef-415c983159e3",
    "ExecuteTime": {
     "end_time": "2024-10-11T11:58:55.651309Z",
     "start_time": "2024-10-11T11:58:55.637075Z"
    }
   },
   "source": [
    "pd.read_csv('test.csv')  # 자동으로 컬럼명을 만든다"
   ],
   "outputs": [
    {
     "data": {
      "text/plain": [
       "   a   b   c   d message \n",
       "0  1   2   3   4   hello \n",
       "1  5   6   7   8   world \n",
       "2  9  10  11  12     foo "
      ],
      "text/html": [
       "<div>\n",
       "<style scoped>\n",
       "    .dataframe tbody tr th:only-of-type {\n",
       "        vertical-align: middle;\n",
       "    }\n",
       "\n",
       "    .dataframe tbody tr th {\n",
       "        vertical-align: top;\n",
       "    }\n",
       "\n",
       "    .dataframe thead th {\n",
       "        text-align: right;\n",
       "    }\n",
       "</style>\n",
       "<table border=\"1\" class=\"dataframe\">\n",
       "  <thead>\n",
       "    <tr style=\"text-align: right;\">\n",
       "      <th></th>\n",
       "      <th>a</th>\n",
       "      <th>b</th>\n",
       "      <th>c</th>\n",
       "      <th>d</th>\n",
       "      <th>message</th>\n",
       "    </tr>\n",
       "  </thead>\n",
       "  <tbody>\n",
       "    <tr>\n",
       "      <th>0</th>\n",
       "      <td>1</td>\n",
       "      <td>2</td>\n",
       "      <td>3</td>\n",
       "      <td>4</td>\n",
       "      <td>hello</td>\n",
       "    </tr>\n",
       "    <tr>\n",
       "      <th>1</th>\n",
       "      <td>5</td>\n",
       "      <td>6</td>\n",
       "      <td>7</td>\n",
       "      <td>8</td>\n",
       "      <td>world</td>\n",
       "    </tr>\n",
       "    <tr>\n",
       "      <th>2</th>\n",
       "      <td>9</td>\n",
       "      <td>10</td>\n",
       "      <td>11</td>\n",
       "      <td>12</td>\n",
       "      <td>foo</td>\n",
       "    </tr>\n",
       "  </tbody>\n",
       "</table>\n",
       "</div>"
      ]
     },
     "execution_count": 8,
     "metadata": {},
     "output_type": "execute_result"
    }
   ],
   "execution_count": 8
  },
  {
   "cell_type": "code",
   "metadata": {
    "id": "R_5bLcaJujtW",
    "colab": {
     "base_uri": "https://localhost:8080/",
     "height": 174
    },
    "executionInfo": {
     "status": "ok",
     "timestamp": 1721030995729,
     "user_tz": -540,
     "elapsed": 10,
     "user": {
      "displayName": "Yongjin Jeong",
      "userId": "03658406798560557048"
     }
    },
    "outputId": "c8d3622f-6c6f-42c1-f396-cec080b8883c",
    "ExecuteTime": {
     "end_time": "2024-10-11T11:58:55.659091Z",
     "start_time": "2024-10-11T11:58:55.652007Z"
    }
   },
   "source": [
    "pd.read_csv('test.csv', header=None)"
   ],
   "outputs": [
    {
     "data": {
      "text/plain": [
       "   0   1   2   3         4\n",
       "0  a   b   c   d  message \n",
       "1  1   2   3   4    hello \n",
       "2  5   6   7   8    world \n",
       "3  9  10  11  12      foo "
      ],
      "text/html": [
       "<div>\n",
       "<style scoped>\n",
       "    .dataframe tbody tr th:only-of-type {\n",
       "        vertical-align: middle;\n",
       "    }\n",
       "\n",
       "    .dataframe tbody tr th {\n",
       "        vertical-align: top;\n",
       "    }\n",
       "\n",
       "    .dataframe thead th {\n",
       "        text-align: right;\n",
       "    }\n",
       "</style>\n",
       "<table border=\"1\" class=\"dataframe\">\n",
       "  <thead>\n",
       "    <tr style=\"text-align: right;\">\n",
       "      <th></th>\n",
       "      <th>0</th>\n",
       "      <th>1</th>\n",
       "      <th>2</th>\n",
       "      <th>3</th>\n",
       "      <th>4</th>\n",
       "    </tr>\n",
       "  </thead>\n",
       "  <tbody>\n",
       "    <tr>\n",
       "      <th>0</th>\n",
       "      <td>a</td>\n",
       "      <td>b</td>\n",
       "      <td>c</td>\n",
       "      <td>d</td>\n",
       "      <td>message</td>\n",
       "    </tr>\n",
       "    <tr>\n",
       "      <th>1</th>\n",
       "      <td>1</td>\n",
       "      <td>2</td>\n",
       "      <td>3</td>\n",
       "      <td>4</td>\n",
       "      <td>hello</td>\n",
       "    </tr>\n",
       "    <tr>\n",
       "      <th>2</th>\n",
       "      <td>5</td>\n",
       "      <td>6</td>\n",
       "      <td>7</td>\n",
       "      <td>8</td>\n",
       "      <td>world</td>\n",
       "    </tr>\n",
       "    <tr>\n",
       "      <th>3</th>\n",
       "      <td>9</td>\n",
       "      <td>10</td>\n",
       "      <td>11</td>\n",
       "      <td>12</td>\n",
       "      <td>foo</td>\n",
       "    </tr>\n",
       "  </tbody>\n",
       "</table>\n",
       "</div>"
      ]
     },
     "execution_count": 9,
     "metadata": {},
     "output_type": "execute_result"
    }
   ],
   "execution_count": 9
  },
  {
   "cell_type": "code",
   "metadata": {
    "id": "ycVkB9nqujtW",
    "colab": {
     "base_uri": "https://localhost:8080/",
     "height": 112
    },
    "executionInfo": {
     "status": "ok",
     "timestamp": 1721030995729,
     "user_tz": -540,
     "elapsed": 9,
     "user": {
      "displayName": "Yongjin Jeong",
      "userId": "03658406798560557048"
     }
    },
    "outputId": "c3d35646-b380-497d-d2b9-34db56718c41",
    "ExecuteTime": {
     "end_time": "2024-10-11T11:58:55.666035Z",
     "start_time": "2024-10-11T11:58:55.661124Z"
    }
   },
   "source": [
    "pd.read_csv('test.csv', header=1)"
   ],
   "outputs": [
    {
     "data": {
      "text/plain": [
       "   1   2   3   4  hello \n",
       "0  5   6   7   8  world \n",
       "1  9  10  11  12    foo "
      ],
      "text/html": [
       "<div>\n",
       "<style scoped>\n",
       "    .dataframe tbody tr th:only-of-type {\n",
       "        vertical-align: middle;\n",
       "    }\n",
       "\n",
       "    .dataframe tbody tr th {\n",
       "        vertical-align: top;\n",
       "    }\n",
       "\n",
       "    .dataframe thead th {\n",
       "        text-align: right;\n",
       "    }\n",
       "</style>\n",
       "<table border=\"1\" class=\"dataframe\">\n",
       "  <thead>\n",
       "    <tr style=\"text-align: right;\">\n",
       "      <th></th>\n",
       "      <th>1</th>\n",
       "      <th>2</th>\n",
       "      <th>3</th>\n",
       "      <th>4</th>\n",
       "      <th>hello</th>\n",
       "    </tr>\n",
       "  </thead>\n",
       "  <tbody>\n",
       "    <tr>\n",
       "      <th>0</th>\n",
       "      <td>5</td>\n",
       "      <td>6</td>\n",
       "      <td>7</td>\n",
       "      <td>8</td>\n",
       "      <td>world</td>\n",
       "    </tr>\n",
       "    <tr>\n",
       "      <th>1</th>\n",
       "      <td>9</td>\n",
       "      <td>10</td>\n",
       "      <td>11</td>\n",
       "      <td>12</td>\n",
       "      <td>foo</td>\n",
       "    </tr>\n",
       "  </tbody>\n",
       "</table>\n",
       "</div>"
      ]
     },
     "execution_count": 10,
     "metadata": {},
     "output_type": "execute_result"
    }
   ],
   "execution_count": 10
  },
  {
   "cell_type": "code",
   "metadata": {
    "id": "QlHkSqQlujtW",
    "colab": {
     "base_uri": "https://localhost:8080/",
     "height": 174
    },
    "executionInfo": {
     "status": "ok",
     "timestamp": 1721030995729,
     "user_tz": -540,
     "elapsed": 8,
     "user": {
      "displayName": "Yongjin Jeong",
      "userId": "03658406798560557048"
     }
    },
    "outputId": "debef2d5-a394-442a-d065-acab86ce7940",
    "ExecuteTime": {
     "end_time": "2024-10-11T11:58:55.671832Z",
     "start_time": "2024-10-11T11:58:55.666932Z"
    }
   },
   "source": [
    "pd.read_csv('test.csv', names=['A','B','C','D','E'])"
   ],
   "outputs": [
    {
     "data": {
      "text/plain": [
       "   A   B   C   D         E\n",
       "0  a   b   c   d  message \n",
       "1  1   2   3   4    hello \n",
       "2  5   6   7   8    world \n",
       "3  9  10  11  12      foo "
      ],
      "text/html": [
       "<div>\n",
       "<style scoped>\n",
       "    .dataframe tbody tr th:only-of-type {\n",
       "        vertical-align: middle;\n",
       "    }\n",
       "\n",
       "    .dataframe tbody tr th {\n",
       "        vertical-align: top;\n",
       "    }\n",
       "\n",
       "    .dataframe thead th {\n",
       "        text-align: right;\n",
       "    }\n",
       "</style>\n",
       "<table border=\"1\" class=\"dataframe\">\n",
       "  <thead>\n",
       "    <tr style=\"text-align: right;\">\n",
       "      <th></th>\n",
       "      <th>A</th>\n",
       "      <th>B</th>\n",
       "      <th>C</th>\n",
       "      <th>D</th>\n",
       "      <th>E</th>\n",
       "    </tr>\n",
       "  </thead>\n",
       "  <tbody>\n",
       "    <tr>\n",
       "      <th>0</th>\n",
       "      <td>a</td>\n",
       "      <td>b</td>\n",
       "      <td>c</td>\n",
       "      <td>d</td>\n",
       "      <td>message</td>\n",
       "    </tr>\n",
       "    <tr>\n",
       "      <th>1</th>\n",
       "      <td>1</td>\n",
       "      <td>2</td>\n",
       "      <td>3</td>\n",
       "      <td>4</td>\n",
       "      <td>hello</td>\n",
       "    </tr>\n",
       "    <tr>\n",
       "      <th>2</th>\n",
       "      <td>5</td>\n",
       "      <td>6</td>\n",
       "      <td>7</td>\n",
       "      <td>8</td>\n",
       "      <td>world</td>\n",
       "    </tr>\n",
       "    <tr>\n",
       "      <th>3</th>\n",
       "      <td>9</td>\n",
       "      <td>10</td>\n",
       "      <td>11</td>\n",
       "      <td>12</td>\n",
       "      <td>foo</td>\n",
       "    </tr>\n",
       "  </tbody>\n",
       "</table>\n",
       "</div>"
      ]
     },
     "execution_count": 11,
     "metadata": {},
     "output_type": "execute_result"
    }
   ],
   "execution_count": 11
  },
  {
   "cell_type": "code",
   "metadata": {
    "id": "_-LARTptujtX",
    "colab": {
     "base_uri": "https://localhost:8080/"
    },
    "executionInfo": {
     "status": "ok",
     "timestamp": 1721030996237,
     "user_tz": -540,
     "elapsed": 23,
     "user": {
      "displayName": "Yongjin Jeong",
      "userId": "03658406798560557048"
     }
    },
    "outputId": "ebbd7941-2ae0-4d8d-ae2e-9aa66c615bb8",
    "ExecuteTime": {
     "end_time": "2024-10-11T11:58:55.795933Z",
     "start_time": "2024-10-11T11:58:55.672444Z"
    }
   },
   "source": [
    "!cat test.csv"
   ],
   "outputs": [
    {
     "name": "stdout",
     "output_type": "stream",
     "text": [
      "a,b,c,d,message \r\n",
      "1,2,3,4,hello \r\n",
      "5,6,7,8,world \r\n",
      "9,10,11,12,foo \r\n"
     ]
    }
   ],
   "execution_count": 12
  },
  {
   "cell_type": "code",
   "metadata": {
    "id": "brSJBLk-ujtX",
    "colab": {
     "base_uri": "https://localhost:8080/",
     "height": 112
    },
    "executionInfo": {
     "status": "ok",
     "timestamp": 1721030996237,
     "user_tz": -540,
     "elapsed": 20,
     "user": {
      "displayName": "Yongjin Jeong",
      "userId": "03658406798560557048"
     }
    },
    "outputId": "7b487702-2fa7-4ea8-905f-78e5bf2fc765",
    "ExecuteTime": {
     "end_time": "2024-10-11T11:58:55.803556Z",
     "start_time": "2024-10-11T11:58:55.797280Z"
    }
   },
   "source": [
    "pd.read_csv('test.csv', nrows=2)  # 상위 2개의 행만 읽음\n",
    "# pd.read_csv('data/ex1.csv', index_col='message')"
   ],
   "outputs": [
    {
     "data": {
      "text/plain": [
       "   a  b  c  d message \n",
       "0  1  2  3  4   hello \n",
       "1  5  6  7  8   world "
      ],
      "text/html": [
       "<div>\n",
       "<style scoped>\n",
       "    .dataframe tbody tr th:only-of-type {\n",
       "        vertical-align: middle;\n",
       "    }\n",
       "\n",
       "    .dataframe tbody tr th {\n",
       "        vertical-align: top;\n",
       "    }\n",
       "\n",
       "    .dataframe thead th {\n",
       "        text-align: right;\n",
       "    }\n",
       "</style>\n",
       "<table border=\"1\" class=\"dataframe\">\n",
       "  <thead>\n",
       "    <tr style=\"text-align: right;\">\n",
       "      <th></th>\n",
       "      <th>a</th>\n",
       "      <th>b</th>\n",
       "      <th>c</th>\n",
       "      <th>d</th>\n",
       "      <th>message</th>\n",
       "    </tr>\n",
       "  </thead>\n",
       "  <tbody>\n",
       "    <tr>\n",
       "      <th>0</th>\n",
       "      <td>1</td>\n",
       "      <td>2</td>\n",
       "      <td>3</td>\n",
       "      <td>4</td>\n",
       "      <td>hello</td>\n",
       "    </tr>\n",
       "    <tr>\n",
       "      <th>1</th>\n",
       "      <td>5</td>\n",
       "      <td>6</td>\n",
       "      <td>7</td>\n",
       "      <td>8</td>\n",
       "      <td>world</td>\n",
       "    </tr>\n",
       "  </tbody>\n",
       "</table>\n",
       "</div>"
      ]
     },
     "execution_count": 13,
     "metadata": {},
     "output_type": "execute_result"
    }
   ],
   "execution_count": 13
  },
  {
   "cell_type": "code",
   "metadata": {
    "id": "0dK1-Q2oujtX",
    "colab": {
     "base_uri": "https://localhost:8080/",
     "height": 174
    },
    "executionInfo": {
     "status": "ok",
     "timestamp": 1721030996237,
     "user_tz": -540,
     "elapsed": 19,
     "user": {
      "displayName": "Yongjin Jeong",
      "userId": "03658406798560557048"
     }
    },
    "outputId": "f22cc574-ed86-40f1-bb16-38b581e3201e",
    "ExecuteTime": {
     "end_time": "2024-10-11T11:58:55.877425Z",
     "start_time": "2024-10-11T11:58:55.869797Z"
    }
   },
   "source": [
    "df = pd.read_csv('test.csv', index_col='a')\n",
    "df"
   ],
   "outputs": [
    {
     "data": {
      "text/plain": [
       "    b   c   d message \n",
       "a                     \n",
       "1   2   3   4   hello \n",
       "5   6   7   8   world \n",
       "9  10  11  12     foo "
      ],
      "text/html": [
       "<div>\n",
       "<style scoped>\n",
       "    .dataframe tbody tr th:only-of-type {\n",
       "        vertical-align: middle;\n",
       "    }\n",
       "\n",
       "    .dataframe tbody tr th {\n",
       "        vertical-align: top;\n",
       "    }\n",
       "\n",
       "    .dataframe thead th {\n",
       "        text-align: right;\n",
       "    }\n",
       "</style>\n",
       "<table border=\"1\" class=\"dataframe\">\n",
       "  <thead>\n",
       "    <tr style=\"text-align: right;\">\n",
       "      <th></th>\n",
       "      <th>b</th>\n",
       "      <th>c</th>\n",
       "      <th>d</th>\n",
       "      <th>message</th>\n",
       "    </tr>\n",
       "    <tr>\n",
       "      <th>a</th>\n",
       "      <th></th>\n",
       "      <th></th>\n",
       "      <th></th>\n",
       "      <th></th>\n",
       "    </tr>\n",
       "  </thead>\n",
       "  <tbody>\n",
       "    <tr>\n",
       "      <th>1</th>\n",
       "      <td>2</td>\n",
       "      <td>3</td>\n",
       "      <td>4</td>\n",
       "      <td>hello</td>\n",
       "    </tr>\n",
       "    <tr>\n",
       "      <th>5</th>\n",
       "      <td>6</td>\n",
       "      <td>7</td>\n",
       "      <td>8</td>\n",
       "      <td>world</td>\n",
       "    </tr>\n",
       "    <tr>\n",
       "      <th>9</th>\n",
       "      <td>10</td>\n",
       "      <td>11</td>\n",
       "      <td>12</td>\n",
       "      <td>foo</td>\n",
       "    </tr>\n",
       "  </tbody>\n",
       "</table>\n",
       "</div>"
      ]
     },
     "execution_count": 14,
     "metadata": {},
     "output_type": "execute_result"
    }
   ],
   "execution_count": 14
  },
  {
   "cell_type": "code",
   "metadata": {
    "id": "_-M9UjytujtX",
    "executionInfo": {
     "status": "ok",
     "timestamp": 1721030996237,
     "user_tz": -540,
     "elapsed": 18,
     "user": {
      "displayName": "Yongjin Jeong",
      "userId": "03658406798560557048"
     }
    },
    "ExecuteTime": {
     "end_time": "2024-10-11T11:58:56.197537Z",
     "start_time": "2024-10-11T11:58:56.193297Z"
    }
   },
   "source": [
    "df.to_csv('output.csv')"
   ],
   "outputs": [],
   "execution_count": 15
  },
  {
   "cell_type": "code",
   "metadata": {
    "id": "EgCSVl_IujtX",
    "colab": {
     "base_uri": "https://localhost:8080/"
    },
    "executionInfo": {
     "status": "ok",
     "timestamp": 1721030996238,
     "user_tz": -540,
     "elapsed": 19,
     "user": {
      "displayName": "Yongjin Jeong",
      "userId": "03658406798560557048"
     }
    },
    "outputId": "18c5af13-6cb0-46e2-91f0-1ed5953fac5b",
    "ExecuteTime": {
     "end_time": "2024-10-11T11:58:57.071697Z",
     "start_time": "2024-10-11T11:58:56.950879Z"
    }
   },
   "source": [
    "!cat output.csv"
   ],
   "outputs": [
    {
     "name": "stdout",
     "output_type": "stream",
     "text": [
      "a,b,c,d,message \r\n",
      "1,2,3,4,hello \r\n",
      "5,6,7,8,world \r\n",
      "9,10,11,12,foo \r\n"
     ]
    }
   ],
   "execution_count": 16
  },
  {
   "cell_type": "markdown",
   "metadata": {
    "id": "damLRd72ujtX"
   },
   "source": [
    "## 디렉토리 관리"
   ]
  },
  {
   "cell_type": "code",
   "metadata": {
    "id": "qQsLhesdujtX",
    "colab": {
     "base_uri": "https://localhost:8080/",
     "height": 35
    },
    "executionInfo": {
     "status": "ok",
     "timestamp": 1721030996238,
     "user_tz": -540,
     "elapsed": 17,
     "user": {
      "displayName": "Yongjin Jeong",
      "userId": "03658406798560557048"
     }
    },
    "outputId": "577c4f2d-6244-423a-c214-1d237ec31fdc"
   },
   "source": [
    "import os\n",
    "os.getcwd()   # pwd"
   ],
   "execution_count": 17,
   "outputs": [
    {
     "output_type": "execute_result",
     "data": {
      "text/plain": [
       "'/content'"
      ],
      "application/vnd.google.colaboratory.intrinsic+json": {
       "type": "string"
      }
     },
     "metadata": {},
     "execution_count": 17
    }
   ]
  },
  {
   "cell_type": "code",
   "metadata": {
    "id": "8hE9GrTuujtX",
    "colab": {
     "base_uri": "https://localhost:8080/"
    },
    "executionInfo": {
     "status": "ok",
     "timestamp": 1721030996238,
     "user_tz": -540,
     "elapsed": 17,
     "user": {
      "displayName": "Yongjin Jeong",
      "userId": "03658406798560557048"
     }
    },
    "outputId": "1c601ac9-700d-40ad-8022-032638398702"
   },
   "source": [
    "os.listdir()  # ls"
   ],
   "execution_count": 18,
   "outputs": [
    {
     "output_type": "execute_result",
     "data": {
      "text/plain": [
       "['.config', 'test.csv', 'output.csv', 'sample_data']"
      ]
     },
     "metadata": {},
     "execution_count": 18
    }
   ]
  },
  {
   "cell_type": "code",
   "metadata": {
    "id": "cee0IqVlujtX",
    "executionInfo": {
     "status": "ok",
     "timestamp": 1721030996238,
     "user_tz": -540,
     "elapsed": 15,
     "user": {
      "displayName": "Yongjin Jeong",
      "userId": "03658406798560557048"
     }
    }
   },
   "source": [
    "if 'data' not in os.listdir():\n",
    "    os.mkdir('data')"
   ],
   "execution_count": 19,
   "outputs": []
  },
  {
   "cell_type": "code",
   "metadata": {
    "id": "49IQKqpQujtX",
    "colab": {
     "base_uri": "https://localhost:8080/"
    },
    "executionInfo": {
     "status": "ok",
     "timestamp": 1721030996238,
     "user_tz": -540,
     "elapsed": 15,
     "user": {
      "displayName": "Yongjin Jeong",
      "userId": "03658406798560557048"
     }
    },
    "outputId": "415b8fec-1a70-4ae0-ba1c-b13df81b17c3"
   },
   "source": [
    "os.listdir()"
   ],
   "execution_count": 20,
   "outputs": [
    {
     "output_type": "execute_result",
     "data": {
      "text/plain": [
       "['.config', 'test.csv', 'output.csv', 'data', 'sample_data']"
      ]
     },
     "metadata": {},
     "execution_count": 20
    }
   ]
  },
  {
   "cell_type": "code",
   "metadata": {
    "scrolled": true,
    "id": "oSDbER6wujtX",
    "colab": {
     "base_uri": "https://localhost:8080/"
    },
    "executionInfo": {
     "status": "ok",
     "timestamp": 1721030996238,
     "user_tz": -540,
     "elapsed": 14,
     "user": {
      "displayName": "Yongjin Jeong",
      "userId": "03658406798560557048"
     }
    },
    "outputId": "626ba66f-5a73-424f-d07f-266d27d8f25f"
   },
   "source": [
    "os.chdir(\"data\")\n",
    "os.listdir()"
   ],
   "execution_count": 21,
   "outputs": [
    {
     "output_type": "execute_result",
     "data": {
      "text/plain": [
       "[]"
      ]
     },
     "metadata": {},
     "execution_count": 21
    }
   ]
  },
  {
   "cell_type": "code",
   "metadata": {
    "id": "5UhI9po6LvPy",
    "executionInfo": {
     "status": "ok",
     "timestamp": 1721030996238,
     "user_tz": -540,
     "elapsed": 13,
     "user": {
      "displayName": "Yongjin Jeong",
      "userId": "03658406798560557048"
     }
    }
   },
   "source": [
    "os.chdir(\"..\")"
   ],
   "execution_count": 22,
   "outputs": []
  },
  {
   "cell_type": "code",
   "metadata": {
    "id": "OQ4wwNEJujtX",
    "executionInfo": {
     "status": "ok",
     "timestamp": 1721030996238,
     "user_tz": -540,
     "elapsed": 12,
     "user": {
      "displayName": "Yongjin Jeong",
      "userId": "03658406798560557048"
     }
    }
   },
   "source": [
    "# os.rename('data','new_one')\n",
    "os.remove('output.csv')\n",
    "# os.rmdir('new_one')"
   ],
   "execution_count": 23,
   "outputs": []
  },
  {
   "cell_type": "code",
   "metadata": {
    "id": "1Y3HFpNaujtX",
    "colab": {
     "base_uri": "https://localhost:8080/"
    },
    "executionInfo": {
     "status": "ok",
     "timestamp": 1721030996239,
     "user_tz": -540,
     "elapsed": 13,
     "user": {
      "displayName": "Yongjin Jeong",
      "userId": "03658406798560557048"
     }
    },
    "outputId": "3bd95bdb-b8fe-493a-ccc7-2ef2669b9023"
   },
   "source": [
    "os.listdir()"
   ],
   "execution_count": 24,
   "outputs": [
    {
     "output_type": "execute_result",
     "data": {
      "text/plain": [
       "['.config', 'test.csv', 'data', 'sample_data']"
      ]
     },
     "metadata": {},
     "execution_count": 24
    }
   ]
  },
  {
   "cell_type": "markdown",
   "metadata": {
    "id": "ZJ4tlSYoujtX"
   },
   "source": [
    "## JSON\n",
    "- 속성(attribute)-값(value) 쌍으로 이루어진 개방형 표준 포맷 (앱 프로그램에서 자주 사용)\n",
    "- json 에서는 \"\"\". . . \"\"\" 로 묶어 표현해야 함."
   ]
  },
  {
   "cell_type": "code",
   "metadata": {
    "id": "AO5SWqTxujtX",
    "executionInfo": {
     "status": "ok",
     "timestamp": 1721030996239,
     "user_tz": -540,
     "elapsed": 12,
     "user": {
      "displayName": "Yongjin Jeong",
      "userId": "03658406798560557048"
     }
    }
   },
   "source": [
    "import json"
   ],
   "execution_count": 25,
   "outputs": []
  },
  {
   "cell_type": "code",
   "metadata": {
    "id": "V5Flbhf9ujtX",
    "executionInfo": {
     "status": "ok",
     "timestamp": 1721030996239,
     "user_tz": -540,
     "elapsed": 12,
     "user": {
      "displayName": "Yongjin Jeong",
      "userId": "03658406798560557048"
     }
    }
   },
   "source": [
    "# json은 python에서처럼 '으로 하면 안된다. 현재 \"\"\"로 감싸 문자열로 저장되어 있기 때문에\n",
    "# javascript에서는 '를 string 값으로 인식하지 않아서 에러 발생\n",
    "obj = \"\"\"\n",
    "{\n",
    "    \"name\": \"Kim\",\n",
    "    \"places_lived\": [\"Seoul\", \"Korea\"],\n",
    "    \"pet\": null,\n",
    "    \"siblings\": [{\"name\": \"Scott\", \"age\":25, \"pet\":\"Zuko\"}]\n",
    "}\n",
    "\"\"\""
   ],
   "execution_count": 26,
   "outputs": []
  },
  {
   "cell_type": "code",
   "metadata": {
    "id": "UrMEFvJiujtX",
    "colab": {
     "base_uri": "https://localhost:8080/"
    },
    "executionInfo": {
     "status": "ok",
     "timestamp": 1721030996239,
     "user_tz": -540,
     "elapsed": 11,
     "user": {
      "displayName": "Yongjin Jeong",
      "userId": "03658406798560557048"
     }
    },
    "outputId": "fd3e4165-0b20-4bb9-c1e8-1f8d8ceda23b"
   },
   "source": [
    "print(type(obj))\n",
    "print(obj)"
   ],
   "execution_count": 27,
   "outputs": [
    {
     "output_type": "stream",
     "name": "stdout",
     "text": [
      "<class 'str'>\n",
      "\n",
      "{\n",
      "    \"name\": \"Kim\",\n",
      "    \"places_lived\": [\"Seoul\", \"Korea\"],\n",
      "    \"pet\": null,\n",
      "    \"siblings\": [{\"name\": \"Scott\", \"age\":25, \"pet\":\"Zuko\"}]\n",
      "}\n",
      "\n"
     ]
    }
   ]
  },
  {
   "cell_type": "code",
   "metadata": {
    "id": "nXHYLAmwujtY",
    "colab": {
     "base_uri": "https://localhost:8080/"
    },
    "executionInfo": {
     "status": "ok",
     "timestamp": 1721030996721,
     "user_tz": -540,
     "elapsed": 492,
     "user": {
      "displayName": "Yongjin Jeong",
      "userId": "03658406798560557048"
     }
    },
    "outputId": "66f51f50-7ff2-4969-cd13-501cba68c7df"
   },
   "source": [
    "result = json.loads(obj)   # JSON decoding (json(string) -> dict)\n",
    "result"
   ],
   "execution_count": 28,
   "outputs": [
    {
     "output_type": "execute_result",
     "data": {
      "text/plain": [
       "{'name': 'Kim',\n",
       " 'places_lived': ['Seoul', 'Korea'],\n",
       " 'pet': None,\n",
       " 'siblings': [{'name': 'Scott', 'age': 25, 'pet': 'Zuko'}]}"
      ]
     },
     "metadata": {},
     "execution_count": 28
    }
   ]
  },
  {
   "cell_type": "code",
   "metadata": {
    "scrolled": true,
    "id": "hgyidUycujtY",
    "colab": {
     "base_uri": "https://localhost:8080/"
    },
    "executionInfo": {
     "status": "ok",
     "timestamp": 1721030996721,
     "user_tz": -540,
     "elapsed": 6,
     "user": {
      "displayName": "Yongjin Jeong",
      "userId": "03658406798560557048"
     }
    },
    "outputId": "b9bfcb93-f988-4b75-a7e9-5539410c9474"
   },
   "source": [
    "type(result)"
   ],
   "execution_count": 29,
   "outputs": [
    {
     "output_type": "execute_result",
     "data": {
      "text/plain": [
       "dict"
      ]
     },
     "metadata": {},
     "execution_count": 29
    }
   ]
  },
  {
   "cell_type": "code",
   "metadata": {
    "id": "kr3GbTlHujtY",
    "colab": {
     "base_uri": "https://localhost:8080/",
     "height": 35
    },
    "executionInfo": {
     "status": "ok",
     "timestamp": 1721030996721,
     "user_tz": -540,
     "elapsed": 4,
     "user": {
      "displayName": "Yongjin Jeong",
      "userId": "03658406798560557048"
     }
    },
    "outputId": "8125befc-c57c-4e8c-a055-0a2e964ec0cd"
   },
   "source": [
    "asjson = json.dumps(result)    # JSON encoding (dict -> json (string))\n",
    "asjson"
   ],
   "execution_count": 30,
   "outputs": [
    {
     "output_type": "execute_result",
     "data": {
      "text/plain": [
       "'{\"name\": \"Kim\", \"places_lived\": [\"Seoul\", \"Korea\"], \"pet\": null, \"siblings\": [{\"name\": \"Scott\", \"age\": 25, \"pet\": \"Zuko\"}]}'"
      ],
      "application/vnd.google.colaboratory.intrinsic+json": {
       "type": "string"
      }
     },
     "metadata": {},
     "execution_count": 30
    }
   ]
  },
  {
   "cell_type": "code",
   "metadata": {
    "id": "uPr6_W26ujtY",
    "colab": {
     "base_uri": "https://localhost:8080/"
    },
    "executionInfo": {
     "status": "ok",
     "timestamp": 1721030996721,
     "user_tz": -540,
     "elapsed": 3,
     "user": {
      "displayName": "Yongjin Jeong",
      "userId": "03658406798560557048"
     }
    },
    "outputId": "0a9df30d-cabe-4d73-cd1f-739c56b2744f"
   },
   "source": [
    "type(asjson)"
   ],
   "execution_count": 31,
   "outputs": [
    {
     "output_type": "execute_result",
     "data": {
      "text/plain": [
       "str"
      ]
     },
     "metadata": {},
     "execution_count": 31
    }
   ]
  }
 ]
}
