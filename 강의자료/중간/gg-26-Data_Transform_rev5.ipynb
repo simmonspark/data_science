{
 "nbformat": 4,
 "nbformat_minor": 0,
 "metadata": {
  "kernelspec": {
   "display_name": "Python 3",
   "language": "python",
   "name": "python3"
  },
  "language_info": {
   "codemirror_mode": {
    "name": "ipython",
    "version": 3
   },
   "file_extension": ".py",
   "mimetype": "text/x-python",
   "name": "python",
   "nbconvert_exporter": "python",
   "pygments_lexer": "ipython3",
   "version": "3.6.8"
  },
  "colab": {
   "provenance": [],
   "toc_visible": true
  }
 },
 "cells": [
  {
   "cell_type": "markdown",
   "metadata": {
    "id": "XV4mXc_tQ9SY"
   },
   "source": [
    "# Data Transformation\n",
    "- scaling\n",
    "- categorical encoding\n",
    "- text BOW (Bag of Words)"
   ]
  },
  {
   "cell_type": "markdown",
   "metadata": {
    "id": "M_ES_8I_Q_4g"
   },
   "source": [
    "## Scaling\n",
    "- MinMax scaling\n",
    "- Standard scaling\n",
    "- robust scaling"
   ]
  },
  {
   "cell_type": "code",
   "metadata": {
    "id": "wwp9h3_KPppk",
    "executionInfo": {
     "status": "ok",
     "timestamp": 1728723133191,
     "user_tz": -540,
     "elapsed": 4078,
     "user": {
      "displayName": "Yongjin Jeong",
      "userId": "03658406798560557048"
     }
    }
   },
   "source": [
    "import numpy as np\n",
    "import pandas as pd\n",
    "import seaborn as sns; sns.set(color_codes=True)\n",
    "from mpl_toolkits.mplot3d import Axes3D\n",
    "import matplotlib.pyplot as plt\n",
    "%matplotlib inline\n",
    "%config InlineBackend.figure_format = 'retina'"
   ],
   "execution_count": 1,
   "outputs": []
  },
  {
   "cell_type": "code",
   "metadata": {
    "id": "R-fVcJriPppn",
    "executionInfo": {
     "status": "ok",
     "timestamp": 1728723133193,
     "user_tz": -540,
     "elapsed": 14,
     "user": {
      "displayName": "Yongjin Jeong",
      "userId": "03658406798560557048"
     }
    }
   },
   "source": [
    "#Generating normally distributed data\n",
    "\n",
    "df = pd.DataFrame({\n",
    "    'x1': np.random.normal(0, 2, 10000),\n",
    "    'x2': np.random.normal(5, 3, 10000),\n",
    "    'x3': np.random.normal(-5, 5, 10000)\n",
    "})"
   ],
   "execution_count": 2,
   "outputs": []
  },
  {
   "cell_type": "code",
   "metadata": {
    "colab": {
     "base_uri": "https://localhost:8080/",
     "height": 206
    },
    "id": "C4UeodUqPppo",
    "executionInfo": {
     "status": "ok",
     "timestamp": 1728723133193,
     "user_tz": -540,
     "elapsed": 13,
     "user": {
      "displayName": "Yongjin Jeong",
      "userId": "03658406798560557048"
     }
    },
    "outputId": "90bd41c2-e445-42ba-f1a3-092f9b29d970"
   },
   "source": [
    "df.head()"
   ],
   "execution_count": 3,
   "outputs": [
    {
     "output_type": "execute_result",
     "data": {
      "text/plain": [
       "         x1        x2         x3\n",
       "0  4.257038  7.482122   4.075100\n",
       "1  0.498613  5.347403   4.983017\n",
       "2  1.695267  4.339700 -13.654472\n",
       "3  1.048933  5.950853  -3.295132\n",
       "4 -0.639551  4.690954  -8.909343"
      ],
      "text/html": [
       "\n",
       "  <div id=\"df-449abb79-472f-45c5-878e-2c603b3abaa5\" class=\"colab-df-container\">\n",
       "    <div>\n",
       "<style scoped>\n",
       "    .dataframe tbody tr th:only-of-type {\n",
       "        vertical-align: middle;\n",
       "    }\n",
       "\n",
       "    .dataframe tbody tr th {\n",
       "        vertical-align: top;\n",
       "    }\n",
       "\n",
       "    .dataframe thead th {\n",
       "        text-align: right;\n",
       "    }\n",
       "</style>\n",
       "<table border=\"1\" class=\"dataframe\">\n",
       "  <thead>\n",
       "    <tr style=\"text-align: right;\">\n",
       "      <th></th>\n",
       "      <th>x1</th>\n",
       "      <th>x2</th>\n",
       "      <th>x3</th>\n",
       "    </tr>\n",
       "  </thead>\n",
       "  <tbody>\n",
       "    <tr>\n",
       "      <th>0</th>\n",
       "      <td>4.257038</td>\n",
       "      <td>7.482122</td>\n",
       "      <td>4.075100</td>\n",
       "    </tr>\n",
       "    <tr>\n",
       "      <th>1</th>\n",
       "      <td>0.498613</td>\n",
       "      <td>5.347403</td>\n",
       "      <td>4.983017</td>\n",
       "    </tr>\n",
       "    <tr>\n",
       "      <th>2</th>\n",
       "      <td>1.695267</td>\n",
       "      <td>4.339700</td>\n",
       "      <td>-13.654472</td>\n",
       "    </tr>\n",
       "    <tr>\n",
       "      <th>3</th>\n",
       "      <td>1.048933</td>\n",
       "      <td>5.950853</td>\n",
       "      <td>-3.295132</td>\n",
       "    </tr>\n",
       "    <tr>\n",
       "      <th>4</th>\n",
       "      <td>-0.639551</td>\n",
       "      <td>4.690954</td>\n",
       "      <td>-8.909343</td>\n",
       "    </tr>\n",
       "  </tbody>\n",
       "</table>\n",
       "</div>\n",
       "    <div class=\"colab-df-buttons\">\n",
       "\n",
       "  <div class=\"colab-df-container\">\n",
       "    <button class=\"colab-df-convert\" onclick=\"convertToInteractive('df-449abb79-472f-45c5-878e-2c603b3abaa5')\"\n",
       "            title=\"Convert this dataframe to an interactive table.\"\n",
       "            style=\"display:none;\">\n",
       "\n",
       "  <svg xmlns=\"http://www.w3.org/2000/svg\" height=\"24px\" viewBox=\"0 -960 960 960\">\n",
       "    <path d=\"M120-120v-720h720v720H120Zm60-500h600v-160H180v160Zm220 220h160v-160H400v160Zm0 220h160v-160H400v160ZM180-400h160v-160H180v160Zm440 0h160v-160H620v160ZM180-180h160v-160H180v160Zm440 0h160v-160H620v160Z\"/>\n",
       "  </svg>\n",
       "    </button>\n",
       "\n",
       "  <style>\n",
       "    .colab-df-container {\n",
       "      display:flex;\n",
       "      gap: 12px;\n",
       "    }\n",
       "\n",
       "    .colab-df-convert {\n",
       "      background-color: #E8F0FE;\n",
       "      border: none;\n",
       "      border-radius: 50%;\n",
       "      cursor: pointer;\n",
       "      display: none;\n",
       "      fill: #1967D2;\n",
       "      height: 32px;\n",
       "      padding: 0 0 0 0;\n",
       "      width: 32px;\n",
       "    }\n",
       "\n",
       "    .colab-df-convert:hover {\n",
       "      background-color: #E2EBFA;\n",
       "      box-shadow: 0px 1px 2px rgba(60, 64, 67, 0.3), 0px 1px 3px 1px rgba(60, 64, 67, 0.15);\n",
       "      fill: #174EA6;\n",
       "    }\n",
       "\n",
       "    .colab-df-buttons div {\n",
       "      margin-bottom: 4px;\n",
       "    }\n",
       "\n",
       "    [theme=dark] .colab-df-convert {\n",
       "      background-color: #3B4455;\n",
       "      fill: #D2E3FC;\n",
       "    }\n",
       "\n",
       "    [theme=dark] .colab-df-convert:hover {\n",
       "      background-color: #434B5C;\n",
       "      box-shadow: 0px 1px 3px 1px rgba(0, 0, 0, 0.15);\n",
       "      filter: drop-shadow(0px 1px 2px rgba(0, 0, 0, 0.3));\n",
       "      fill: #FFFFFF;\n",
       "    }\n",
       "  </style>\n",
       "\n",
       "    <script>\n",
       "      const buttonEl =\n",
       "        document.querySelector('#df-449abb79-472f-45c5-878e-2c603b3abaa5 button.colab-df-convert');\n",
       "      buttonEl.style.display =\n",
       "        google.colab.kernel.accessAllowed ? 'block' : 'none';\n",
       "\n",
       "      async function convertToInteractive(key) {\n",
       "        const element = document.querySelector('#df-449abb79-472f-45c5-878e-2c603b3abaa5');\n",
       "        const dataTable =\n",
       "          await google.colab.kernel.invokeFunction('convertToInteractive',\n",
       "                                                    [key], {});\n",
       "        if (!dataTable) return;\n",
       "\n",
       "        const docLinkHtml = 'Like what you see? Visit the ' +\n",
       "          '<a target=\"_blank\" href=https://colab.research.google.com/notebooks/data_table.ipynb>data table notebook</a>'\n",
       "          + ' to learn more about interactive tables.';\n",
       "        element.innerHTML = '';\n",
       "        dataTable['output_type'] = 'display_data';\n",
       "        await google.colab.output.renderOutput(dataTable, element);\n",
       "        const docLink = document.createElement('div');\n",
       "        docLink.innerHTML = docLinkHtml;\n",
       "        element.appendChild(docLink);\n",
       "      }\n",
       "    </script>\n",
       "  </div>\n",
       "\n",
       "\n",
       "<div id=\"df-b18ecddd-f979-4400-bee0-60eee390d406\">\n",
       "  <button class=\"colab-df-quickchart\" onclick=\"quickchart('df-b18ecddd-f979-4400-bee0-60eee390d406')\"\n",
       "            title=\"Suggest charts\"\n",
       "            style=\"display:none;\">\n",
       "\n",
       "<svg xmlns=\"http://www.w3.org/2000/svg\" height=\"24px\"viewBox=\"0 0 24 24\"\n",
       "     width=\"24px\">\n",
       "    <g>\n",
       "        <path d=\"M19 3H5c-1.1 0-2 .9-2 2v14c0 1.1.9 2 2 2h14c1.1 0 2-.9 2-2V5c0-1.1-.9-2-2-2zM9 17H7v-7h2v7zm4 0h-2V7h2v10zm4 0h-2v-4h2v4z\"/>\n",
       "    </g>\n",
       "</svg>\n",
       "  </button>\n",
       "\n",
       "<style>\n",
       "  .colab-df-quickchart {\n",
       "      --bg-color: #E8F0FE;\n",
       "      --fill-color: #1967D2;\n",
       "      --hover-bg-color: #E2EBFA;\n",
       "      --hover-fill-color: #174EA6;\n",
       "      --disabled-fill-color: #AAA;\n",
       "      --disabled-bg-color: #DDD;\n",
       "  }\n",
       "\n",
       "  [theme=dark] .colab-df-quickchart {\n",
       "      --bg-color: #3B4455;\n",
       "      --fill-color: #D2E3FC;\n",
       "      --hover-bg-color: #434B5C;\n",
       "      --hover-fill-color: #FFFFFF;\n",
       "      --disabled-bg-color: #3B4455;\n",
       "      --disabled-fill-color: #666;\n",
       "  }\n",
       "\n",
       "  .colab-df-quickchart {\n",
       "    background-color: var(--bg-color);\n",
       "    border: none;\n",
       "    border-radius: 50%;\n",
       "    cursor: pointer;\n",
       "    display: none;\n",
       "    fill: var(--fill-color);\n",
       "    height: 32px;\n",
       "    padding: 0;\n",
       "    width: 32px;\n",
       "  }\n",
       "\n",
       "  .colab-df-quickchart:hover {\n",
       "    background-color: var(--hover-bg-color);\n",
       "    box-shadow: 0 1px 2px rgba(60, 64, 67, 0.3), 0 1px 3px 1px rgba(60, 64, 67, 0.15);\n",
       "    fill: var(--button-hover-fill-color);\n",
       "  }\n",
       "\n",
       "  .colab-df-quickchart-complete:disabled,\n",
       "  .colab-df-quickchart-complete:disabled:hover {\n",
       "    background-color: var(--disabled-bg-color);\n",
       "    fill: var(--disabled-fill-color);\n",
       "    box-shadow: none;\n",
       "  }\n",
       "\n",
       "  .colab-df-spinner {\n",
       "    border: 2px solid var(--fill-color);\n",
       "    border-color: transparent;\n",
       "    border-bottom-color: var(--fill-color);\n",
       "    animation:\n",
       "      spin 1s steps(1) infinite;\n",
       "  }\n",
       "\n",
       "  @keyframes spin {\n",
       "    0% {\n",
       "      border-color: transparent;\n",
       "      border-bottom-color: var(--fill-color);\n",
       "      border-left-color: var(--fill-color);\n",
       "    }\n",
       "    20% {\n",
       "      border-color: transparent;\n",
       "      border-left-color: var(--fill-color);\n",
       "      border-top-color: var(--fill-color);\n",
       "    }\n",
       "    30% {\n",
       "      border-color: transparent;\n",
       "      border-left-color: var(--fill-color);\n",
       "      border-top-color: var(--fill-color);\n",
       "      border-right-color: var(--fill-color);\n",
       "    }\n",
       "    40% {\n",
       "      border-color: transparent;\n",
       "      border-right-color: var(--fill-color);\n",
       "      border-top-color: var(--fill-color);\n",
       "    }\n",
       "    60% {\n",
       "      border-color: transparent;\n",
       "      border-right-color: var(--fill-color);\n",
       "    }\n",
       "    80% {\n",
       "      border-color: transparent;\n",
       "      border-right-color: var(--fill-color);\n",
       "      border-bottom-color: var(--fill-color);\n",
       "    }\n",
       "    90% {\n",
       "      border-color: transparent;\n",
       "      border-bottom-color: var(--fill-color);\n",
       "    }\n",
       "  }\n",
       "</style>\n",
       "\n",
       "  <script>\n",
       "    async function quickchart(key) {\n",
       "      const quickchartButtonEl =\n",
       "        document.querySelector('#' + key + ' button');\n",
       "      quickchartButtonEl.disabled = true;  // To prevent multiple clicks.\n",
       "      quickchartButtonEl.classList.add('colab-df-spinner');\n",
       "      try {\n",
       "        const charts = await google.colab.kernel.invokeFunction(\n",
       "            'suggestCharts', [key], {});\n",
       "      } catch (error) {\n",
       "        console.error('Error during call to suggestCharts:', error);\n",
       "      }\n",
       "      quickchartButtonEl.classList.remove('colab-df-spinner');\n",
       "      quickchartButtonEl.classList.add('colab-df-quickchart-complete');\n",
       "    }\n",
       "    (() => {\n",
       "      let quickchartButtonEl =\n",
       "        document.querySelector('#df-b18ecddd-f979-4400-bee0-60eee390d406 button');\n",
       "      quickchartButtonEl.style.display =\n",
       "        google.colab.kernel.accessAllowed ? 'block' : 'none';\n",
       "    })();\n",
       "  </script>\n",
       "</div>\n",
       "\n",
       "    </div>\n",
       "  </div>\n"
      ],
      "application/vnd.google.colaboratory.intrinsic+json": {
       "type": "dataframe",
       "variable_name": "df",
       "summary": "{\n  \"name\": \"df\",\n  \"rows\": 10000,\n  \"fields\": [\n    {\n      \"column\": \"x1\",\n      \"properties\": {\n        \"dtype\": \"number\",\n        \"std\": 1.9818074354690913,\n        \"min\": -6.760770726516859,\n        \"max\": 8.071427757620192,\n        \"num_unique_values\": 10000,\n        \"samples\": [\n          1.258714849000781,\n          4.170500429706041,\n          -3.7699707190316265\n        ],\n        \"semantic_type\": \"\",\n        \"description\": \"\"\n      }\n    },\n    {\n      \"column\": \"x2\",\n      \"properties\": {\n        \"dtype\": \"number\",\n        \"std\": 2.963694060438999,\n        \"min\": -6.180803171484396,\n        \"max\": 15.744352061646083,\n        \"num_unique_values\": 10000,\n        \"samples\": [\n          1.2399451249377362,\n          5.432914598980455,\n          12.83297256056968\n        ],\n        \"semantic_type\": \"\",\n        \"description\": \"\"\n      }\n    },\n    {\n      \"column\": \"x3\",\n      \"properties\": {\n        \"dtype\": \"number\",\n        \"std\": 5.005573638733341,\n        \"min\": -23.03102802784026,\n        \"max\": 14.74562062837996,\n        \"num_unique_values\": 10000,\n        \"samples\": [\n          -10.50024997960201,\n          -8.099698677911775,\n          -2.732881120476854\n        ],\n        \"semantic_type\": \"\",\n        \"description\": \"\"\n      }\n    }\n  ]\n}"
      }
     },
     "metadata": {},
     "execution_count": 3
    }
   ]
  },
  {
   "cell_type": "code",
   "metadata": {
    "colab": {
     "base_uri": "https://localhost:8080/",
     "height": 451
    },
    "id": "MIbn1DeAPppp",
    "executionInfo": {
     "status": "ok",
     "timestamp": 1728723137565,
     "user_tz": -540,
     "elapsed": 4381,
     "user": {
      "displayName": "Yongjin Jeong",
      "userId": "03658406798560557048"
     }
    },
    "outputId": "5d57e046-aaff-48d0-b61e-0b13e44776c2"
   },
   "source": [
    "# plotting data\n",
    "\n",
    "df.plot.kde()  # Generate Kernel Density Estimate plot using Gaussian kernels."
   ],
   "execution_count": 4,
   "outputs": [
    {
     "output_type": "execute_result",
     "data": {
      "text/plain": [
       "<Axes: ylabel='Density'>"
      ]
     },
     "metadata": {},
     "execution_count": 4
    },
    {
     "output_type": "display_data",
     "data": {
      "text/plain": [
       "<Figure size 640x480 with 1 Axes>"
      ],
      "image/png": "[encoded data removed]"
     },
     "metadata": {
      "image/png": {
       "width": 594,
       "height": 417
      }
     }
    }
   ]
  },
  {
   "cell_type": "markdown",
   "metadata": {
    "id": "YaqOcZ36QfPa"
   },
   "source": [
    "- Standard Scaling\n",
    "  - z = (x - mean) / std"
   ]
  },
  {
   "cell_type": "code",
   "metadata": {
    "id": "9GaOB4MoPppp",
    "executionInfo": {
     "status": "ok",
     "timestamp": 1728723137566,
     "user_tz": -540,
     "elapsed": 7,
     "user": {
      "displayName": "Yongjin Jeong",
      "userId": "03658406798560557048"
     }
    }
   },
   "source": [
    "from sklearn.preprocessing import StandardScaler\n",
    "ss = StandardScaler()\n",
    "data_tf = ss.fit_transform(df)     # returns an array\n",
    "df = pd.DataFrame(data_tf, columns=['x1','x2','x3'])"
   ],
   "execution_count": 5,
   "outputs": []
  },
  {
   "cell_type": "code",
   "metadata": {
    "colab": {
     "base_uri": "https://localhost:8080/",
     "height": 451
    },
    "id": "4brNRL_iPppq",
    "executionInfo": {
     "status": "ok",
     "timestamp": 1728723143035,
     "user_tz": -540,
     "elapsed": 5475,
     "user": {
      "displayName": "Yongjin Jeong",
      "userId": "03658406798560557048"
     }
    },
    "outputId": "5eb5788f-5086-4fc5-ca19-a5a869c21f57"
   },
   "source": [
    "df.plot.kde()"
   ],
   "execution_count": 6,
   "outputs": [
    {
     "output_type": "execute_result",
     "data": {
      "text/plain": [
       "<Axes: ylabel='Density'>"
      ]
     },
     "metadata": {},
     "execution_count": 6
    },
    {
     "output_type": "display_data",
     "data": {
      "text/plain": [
       "<Figure size 640x480 with 1 Axes>"
      ],
      "image/png": "[encoded data removed]"
     },
     "metadata": {
      "image/png": {
       "width": 585,
       "height": 417
      }
     }
    }
   ]
  },
  {
   "cell_type": "code",
   "metadata": {
    "colab": {
     "base_uri": "https://localhost:8080/",
     "height": 451
    },
    "id": "MqVUE98hPppq",
    "executionInfo": {
     "status": "ok",
     "timestamp": 1728723145288,
     "user_tz": -540,
     "elapsed": 2257,
     "user": {
      "displayName": "Yongjin Jeong",
      "userId": "03658406798560557048"
     }
    },
    "outputId": "a712cf0f-4738-4eb6-f4a0-7f0509be2b4e"
   },
   "source": [
    "df = pd.DataFrame({\n",
    "    # positive skew\n",
    "    'x1': np.random.chisquare(8, 1000),\n",
    "    # negative skew\n",
    "    'x2': np.random.beta(8, 2, 1000) * 40,\n",
    "    # no skew\n",
    "    'x3': np.random.normal(50, 3, 1000)\n",
    "})\n",
    "\n",
    "df.plot.kde()"
   ],
   "execution_count": 7,
   "outputs": [
    {
     "output_type": "execute_result",
     "data": {
      "text/plain": [
       "<Axes: ylabel='Density'>"
      ]
     },
     "metadata": {},
     "execution_count": 7
    },
    {
     "output_type": "display_data",
     "data": {
      "text/plain": [
       "<Figure size 640x480 with 1 Axes>"
      ],
      "image/png": "[encoded data removed]"
     },
     "metadata": {
      "image/png": {
       "width": 585,
       "height": 417
      }
     }
    }
   ]
  },
  {
   "cell_type": "markdown",
   "metadata": {
    "id": "Qq1sJ34LRPmw"
   },
   "source": [
    "- MinMax scaler"
   ]
  },
  {
   "cell_type": "code",
   "metadata": {
    "colab": {
     "base_uri": "https://localhost:8080/",
     "height": 451
    },
    "id": "qT9jmRARPppr",
    "executionInfo": {
     "status": "ok",
     "timestamp": 1728723147396,
     "user_tz": -540,
     "elapsed": 2113,
     "user": {
      "displayName": "Yongjin Jeong",
      "userId": "03658406798560557048"
     }
    },
    "outputId": "f0277365-7f0e-43d9-c350-53eeefb1485a"
   },
   "source": [
    "from sklearn.preprocessing import MinMaxScaler,StandardScaler,RobustScaler\n",
    "\n",
    "minmax = MinMaxScaler()\n",
    "data_tf = minmax.fit_transform(df)\n",
    "\n",
    "df = pd.DataFrame(data_tf,columns=['x1','x2','x3'])\n",
    "df.plot.kde()"
   ],
   "execution_count": 8,
   "outputs": [
    {
     "output_type": "execute_result",
     "data": {
      "text/plain": [
       "<Axes: ylabel='Density'>"
      ]
     },
     "metadata": {},
     "execution_count": 8
    },
    {
     "output_type": "display_data",
     "data": {
      "text/plain": [
       "<Figure size 640x480 with 1 Axes>"
      ],
      "image/png": "[encoded data removed]"
     },
     "metadata": {
      "image/png": {
       "width": 575,
       "height": 417
      }
     }
    }
   ]
  },
  {
   "cell_type": "code",
   "metadata": {
    "colab": {
     "base_uri": "https://localhost:8080/"
    },
    "id": "5BN5Pp6SPpps",
    "executionInfo": {
     "status": "ok",
     "timestamp": 1728723147396,
     "user_tz": -540,
     "elapsed": 6,
     "user": {
      "displayName": "Yongjin Jeong",
      "userId": "03658406798560557048"
     }
    },
    "outputId": "56ea4e91-d422-4d2d-d9b2-3a562b1e0c1c"
   },
   "source": [
    "df.x2.max(), df.x2.min()"
   ],
   "execution_count": 9,
   "outputs": [
    {
     "output_type": "execute_result",
     "data": {
      "text/plain": [
       "(1.0, 0.0)"
      ]
     },
     "metadata": {},
     "execution_count": 9
    }
   ]
  },
  {
   "cell_type": "code",
   "metadata": {
    "colab": {
     "base_uri": "https://localhost:8080/",
     "height": 451
    },
    "id": "Gv8-t22APpps",
    "executionInfo": {
     "status": "ok",
     "timestamp": 1728723148841,
     "user_tz": -540,
     "elapsed": 1450,
     "user": {
      "displayName": "Yongjin Jeong",
      "userId": "03658406798560557048"
     }
    },
    "outputId": "e69a1471-96cb-4fd3-da3e-944518dd539a"
   },
   "source": [
    "standardscaler = StandardScaler()\n",
    "data_tf = standardscaler.fit_transform(df)\n",
    "\n",
    "df = pd.DataFrame(data_tf,columns=['x1','x2','x3'])\n",
    "df.plot.kde()"
   ],
   "execution_count": 10,
   "outputs": [
    {
     "output_type": "execute_result",
     "data": {
      "text/plain": [
       "<Axes: ylabel='Density'>"
      ]
     },
     "metadata": {},
     "execution_count": 10
    },
    {
     "output_type": "display_data",
     "data": {
      "text/plain": [
       "<Figure size 640x480 with 1 Axes>"
      ],
      "image/png": "[encoded data removed]"
     },
     "metadata": {
      "image/png": {
       "width": 575,
       "height": 417
      }
     }
    }
   ]
  },
  {
   "cell_type": "code",
   "metadata": {
    "id": "ryGremVBPppt",
    "executionInfo": {
     "status": "ok",
     "timestamp": 1728723148842,
     "user_tz": -540,
     "elapsed": 4,
     "user": {
      "displayName": "Yongjin Jeong",
      "userId": "03658406798560557048"
     }
    }
   },
   "source": [
    "df = pd.DataFrame({\n",
    "    # Distribution with lower outliers\n",
    "    'x1': np.concatenate([np.random.normal(20, 2, 1000), np.random.normal(1, 1, 25)]),\n",
    "    # Distribution with higher outliers\n",
    "    'x2': np.concatenate([np.random.normal(30, 2, 1000), np.random.normal(50, 1, 25)]),\n",
    "})"
   ],
   "execution_count": 11,
   "outputs": []
  },
  {
   "cell_type": "code",
   "metadata": {
    "colab": {
     "base_uri": "https://localhost:8080/",
     "height": 451
    },
    "id": "NVVz2vgfPppt",
    "executionInfo": {
     "status": "ok",
     "timestamp": 1728723150266,
     "user_tz": -540,
     "elapsed": 1428,
     "user": {
      "displayName": "Yongjin Jeong",
      "userId": "03658406798560557048"
     }
    },
    "outputId": "71663651-8cbc-411d-cb68-7a1cabf1f92d"
   },
   "source": [
    "df.plot.kde()"
   ],
   "execution_count": 12,
   "outputs": [
    {
     "output_type": "execute_result",
     "data": {
      "text/plain": [
       "<Axes: ylabel='Density'>"
      ]
     },
     "metadata": {},
     "execution_count": 12
    },
    {
     "output_type": "display_data",
     "data": {
      "text/plain": [
       "<Figure size 640x480 with 1 Axes>"
      ],
      "image/png": "[encoded data removed]"
     },
     "metadata": {
      "image/png": {
       "width": 594,
       "height": 417
      }
     }
    }
   ]
  },
  {
   "cell_type": "markdown",
   "metadata": {
    "id": "zhLKsBDhPppt"
   },
   "source": [
    "- Robust scaler\n",
    "  - z = (x-median)/IQR\n",
    "  - robust to outliers\n",
    "  - This Scaler removes the median and scales the data according to the quartile range (defaults to IQR: Interquartile Range).\n"
   ]
  },
  {
   "cell_type": "code",
   "metadata": {
    "colab": {
     "base_uri": "https://localhost:8080/",
     "height": 451
    },
    "id": "n_hUwaYaPppv",
    "executionInfo": {
     "status": "ok",
     "timestamp": 1728723152500,
     "user_tz": -540,
     "elapsed": 2243,
     "user": {
      "displayName": "Yongjin Jeong",
      "userId": "03658406798560557048"
     }
    },
    "outputId": "4f2196d5-a095-4092-fd62-abeff97bcfcb"
   },
   "source": [
    "from sklearn.preprocessing import RobustScaler\n",
    "robustscaler = RobustScaler()\n",
    "\n",
    "data_tf = robustscaler.fit_transform(df)\n",
    "df = pd.DataFrame(data_tf, columns=['x1','x2'])\n",
    "df.plot.kde()"
   ],
   "execution_count": 13,
   "outputs": [
    {
     "output_type": "execute_result",
     "data": {
      "text/plain": [
       "<Axes: ylabel='Density'>"
      ]
     },
     "metadata": {},
     "execution_count": 13
    },
    {
     "output_type": "display_data",
     "data": {
      "text/plain": [
       "<Figure size 640x480 with 1 Axes>"
      ],
      "image/png": "[encoded data removed]"
     },
     "metadata": {
      "image/png": {
       "width": 575,
       "height": 417
      }
     }
    }
   ]
  },
  {
   "cell_type": "code",
   "metadata": {
    "colab": {
     "base_uri": "https://localhost:8080/",
     "height": 451
    },
    "id": "pGr-oYPtPppw",
    "executionInfo": {
     "status": "ok",
     "timestamp": 1728723154058,
     "user_tz": -540,
     "elapsed": 1565,
     "user": {
      "displayName": "Yongjin Jeong",
      "userId": "03658406798560557048"
     }
    },
    "outputId": "bf597cda-a6f5-4e21-d1c0-cc9d863716c1"
   },
   "source": [
    "from sklearn.preprocessing import StandardScaler\n",
    "standardscaler = StandardScaler()\n",
    "\n",
    "data_tf = standardscaler.fit_transform(df)\n",
    "df = pd.DataFrame(data_tf, columns=['x1','x2'])\n",
    "df.plot.kde()"
   ],
   "execution_count": 14,
   "outputs": [
    {
     "output_type": "execute_result",
     "data": {
      "text/plain": [
       "<Axes: ylabel='Density'>"
      ]
     },
     "metadata": {},
     "execution_count": 14
    },
    {
     "output_type": "display_data",
     "data": {
      "text/plain": [
       "<Figure size 640x480 with 1 Axes>"
      ],
      "image/png": "[encoded data removed]"
     },
     "metadata": {
      "image/png": {
       "width": 575,
       "height": 417
      }
     }
    }
   ]
  },
  {
   "cell_type": "markdown",
   "metadata": {
    "id": "6hl-R_p2Pppx"
   },
   "source": [
    "## 7. Categorical encoding"
   ]
  },
  {
   "cell_type": "markdown",
   "metadata": {
    "id": "1F7JZeHqRkW-"
   },
   "source": [
    "\n",
    "#### Encoding Ordinal Values\n",
    "* Ordinal Values - Low, Medium & High. Relationship between values\n",
    "* LabelEncoding with right mapping"
   ]
  },
  {
   "cell_type": "code",
   "metadata": {
    "id": "EfPFb4MuPppx",
    "colab": {
     "base_uri": "https://localhost:8080/",
     "height": 237
    },
    "executionInfo": {
     "status": "ok",
     "timestamp": 1728723154058,
     "user_tz": -540,
     "elapsed": 31,
     "user": {
      "displayName": "Yongjin Jeong",
      "userId": "03658406798560557048"
     }
    },
    "outputId": "6253a97a-13e4-468c-8efe-64dd2b762d10"
   },
   "source": [
    "df = pd.DataFrame({\n",
    "    'Age':[33,44,22,44,55,22],\n",
    "    'Income':['Low','Low','High','Medium','Medium','High']})\n",
    "df"
   ],
   "execution_count": 15,
   "outputs": [
    {
     "output_type": "execute_result",
     "data": {
      "text/plain": [
       "   Age  Income\n",
       "0   33     Low\n",
       "1   44     Low\n",
       "2   22    High\n",
       "3   44  Medium\n",
       "4   55  Medium\n",
       "5   22    High"
      ],
      "text/html": [
       "\n",
       "  <div id=\"df-e41c92a0-f70d-4229-98dd-55884a3709c6\" class=\"colab-df-container\">\n",
       "    <div>\n",
       "<style scoped>\n",
       "    .dataframe tbody tr th:only-of-type {\n",
       "        vertical-align: middle;\n",
       "    }\n",
       "\n",
       "    .dataframe tbody tr th {\n",
       "        vertical-align: top;\n",
       "    }\n",
       "\n",
       "    .dataframe thead th {\n",
       "        text-align: right;\n",
       "    }\n",
       "</style>\n",
       "<table border=\"1\" class=\"dataframe\">\n",
       "  <thead>\n",
       "    <tr style=\"text-align: right;\">\n",
       "      <th></th>\n",
       "      <th>Age</th>\n",
       "      <th>Income</th>\n",
       "    </tr>\n",
       "  </thead>\n",
       "  <tbody>\n",
       "    <tr>\n",
       "      <th>0</th>\n",
       "      <td>33</td>\n",
       "      <td>Low</td>\n",
       "    </tr>\n",
       "    <tr>\n",
       "      <th>1</th>\n",
       "      <td>44</td>\n",
       "      <td>Low</td>\n",
       "    </tr>\n",
       "    <tr>\n",
       "      <th>2</th>\n",
       "      <td>22</td>\n",
       "      <td>High</td>\n",
       "    </tr>\n",
       "    <tr>\n",
       "      <th>3</th>\n",
       "      <td>44</td>\n",
       "      <td>Medium</td>\n",
       "    </tr>\n",
       "    <tr>\n",
       "      <th>4</th>\n",
       "      <td>55</td>\n",
       "      <td>Medium</td>\n",
       "    </tr>\n",
       "    <tr>\n",
       "      <th>5</th>\n",
       "      <td>22</td>\n",
       "      <td>High</td>\n",
       "    </tr>\n",
       "  </tbody>\n",
       "</table>\n",
       "</div>\n",
       "    <div class=\"colab-df-buttons\">\n",
       "\n",
       "  <div class=\"colab-df-container\">\n",
       "    <button class=\"colab-df-convert\" onclick=\"convertToInteractive('df-e41c92a0-f70d-4229-98dd-55884a3709c6')\"\n",
       "            title=\"Convert this dataframe to an interactive table.\"\n",
       "            style=\"display:none;\">\n",
       "\n",
       "  <svg xmlns=\"http://www.w3.org/2000/svg\" height=\"24px\" viewBox=\"0 -960 960 960\">\n",
       "    <path d=\"M120-120v-720h720v720H120Zm60-500h600v-160H180v160Zm220 220h160v-160H400v160Zm0 220h160v-160H400v160ZM180-400h160v-160H180v160Zm440 0h160v-160H620v160ZM180-180h160v-160H180v160Zm440 0h160v-160H620v160Z\"/>\n",
       "  </svg>\n",
       "    </button>\n",
       "\n",
       "  <style>\n",
       "    .colab-df-container {\n",
       "      display:flex;\n",
       "      gap: 12px;\n",
       "    }\n",
       "\n",
       "    .colab-df-convert {\n",
       "      background-color: #E8F0FE;\n",
       "      border: none;\n",
       "      border-radius: 50%;\n",
       "      cursor: pointer;\n",
       "      display: none;\n",
       "      fill: #1967D2;\n",
       "      height: 32px;\n",
       "      padding: 0 0 0 0;\n",
       "      width: 32px;\n",
       "    }\n",
       "\n",
       "    .colab-df-convert:hover {\n",
       "      background-color: #E2EBFA;\n",
       "      box-shadow: 0px 1px 2px rgba(60, 64, 67, 0.3), 0px 1px 3px 1px rgba(60, 64, 67, 0.15);\n",
       "      fill: #174EA6;\n",
       "    }\n",
       "\n",
       "    .colab-df-buttons div {\n",
       "      margin-bottom: 4px;\n",
       "    }\n",
       "\n",
       "    [theme=dark] .colab-df-convert {\n",
       "      background-color: #3B4455;\n",
       "      fill: #D2E3FC;\n",
       "    }\n",
       "\n",
       "    [theme=dark] .colab-df-convert:hover {\n",
       "      background-color: #434B5C;\n",
       "      box-shadow: 0px 1px 3px 1px rgba(0, 0, 0, 0.15);\n",
       "      filter: drop-shadow(0px 1px 2px rgba(0, 0, 0, 0.3));\n",
       "      fill: #FFFFFF;\n",
       "    }\n",
       "  </style>\n",
       "\n",
       "    <script>\n",
       "      const buttonEl =\n",
       "        document.querySelector('#df-e41c92a0-f70d-4229-98dd-55884a3709c6 button.colab-df-convert');\n",
       "      buttonEl.style.display =\n",
       "        google.colab.kernel.accessAllowed ? 'block' : 'none';\n",
       "\n",
       "      async function convertToInteractive(key) {\n",
       "        const element = document.querySelector('#df-e41c92a0-f70d-4229-98dd-55884a3709c6');\n",
       "        const dataTable =\n",
       "          await google.colab.kernel.invokeFunction('convertToInteractive',\n",
       "                                                    [key], {});\n",
       "        if (!dataTable) return;\n",
       "\n",
       "        const docLinkHtml = 'Like what you see? Visit the ' +\n",
       "          '<a target=\"_blank\" href=https://colab.research.google.com/notebooks/data_table.ipynb>data table notebook</a>'\n",
       "          + ' to learn more about interactive tables.';\n",
       "        element.innerHTML = '';\n",
       "        dataTable['output_type'] = 'display_data';\n",
       "        await google.colab.output.renderOutput(dataTable, element);\n",
       "        const docLink = document.createElement('div');\n",
       "        docLink.innerHTML = docLinkHtml;\n",
       "        element.appendChild(docLink);\n",
       "      }\n",
       "    </script>\n",
       "  </div>\n",
       "\n",
       "\n",
       "<div id=\"df-e3eb101d-f376-47bd-a6d2-68b19f19292d\">\n",
       "  <button class=\"colab-df-quickchart\" onclick=\"quickchart('df-e3eb101d-f376-47bd-a6d2-68b19f19292d')\"\n",
       "            title=\"Suggest charts\"\n",
       "            style=\"display:none;\">\n",
       "\n",
       "<svg xmlns=\"http://www.w3.org/2000/svg\" height=\"24px\"viewBox=\"0 0 24 24\"\n",
       "     width=\"24px\">\n",
       "    <g>\n",
       "        <path d=\"M19 3H5c-1.1 0-2 .9-2 2v14c0 1.1.9 2 2 2h14c1.1 0 2-.9 2-2V5c0-1.1-.9-2-2-2zM9 17H7v-7h2v7zm4 0h-2V7h2v10zm4 0h-2v-4h2v4z\"/>\n",
       "    </g>\n",
       "</svg>\n",
       "  </button>\n",
       "\n",
       "<style>\n",
       "  .colab-df-quickchart {\n",
       "      --bg-color: #E8F0FE;\n",
       "      --fill-color: #1967D2;\n",
       "      --hover-bg-color: #E2EBFA;\n",
       "      --hover-fill-color: #174EA6;\n",
       "      --disabled-fill-color: #AAA;\n",
       "      --disabled-bg-color: #DDD;\n",
       "  }\n",
       "\n",
       "  [theme=dark] .colab-df-quickchart {\n",
       "      --bg-color: #3B4455;\n",
       "      --fill-color: #D2E3FC;\n",
       "      --hover-bg-color: #434B5C;\n",
       "      --hover-fill-color: #FFFFFF;\n",
       "      --disabled-bg-color: #3B4455;\n",
       "      --disabled-fill-color: #666;\n",
       "  }\n",
       "\n",
       "  .colab-df-quickchart {\n",
       "    background-color: var(--bg-color);\n",
       "    border: none;\n",
       "    border-radius: 50%;\n",
       "    cursor: pointer;\n",
       "    display: none;\n",
       "    fill: var(--fill-color);\n",
       "    height: 32px;\n",
       "    padding: 0;\n",
       "    width: 32px;\n",
       "  }\n",
       "\n",
       "  .colab-df-quickchart:hover {\n",
       "    background-color: var(--hover-bg-color);\n",
       "    box-shadow: 0 1px 2px rgba(60, 64, 67, 0.3), 0 1px 3px 1px rgba(60, 64, 67, 0.15);\n",
       "    fill: var(--button-hover-fill-color);\n",
       "  }\n",
       "\n",
       "  .colab-df-quickchart-complete:disabled,\n",
       "  .colab-df-quickchart-complete:disabled:hover {\n",
       "    background-color: var(--disabled-bg-color);\n",
       "    fill: var(--disabled-fill-color);\n",
       "    box-shadow: none;\n",
       "  }\n",
       "\n",
       "  .colab-df-spinner {\n",
       "    border: 2px solid var(--fill-color);\n",
       "    border-color: transparent;\n",
       "    border-bottom-color: var(--fill-color);\n",
       "    animation:\n",
       "      spin 1s steps(1) infinite;\n",
       "  }\n",
       "\n",
       "  @keyframes spin {\n",
       "    0% {\n",
       "      border-color: transparent;\n",
       "      border-bottom-color: var(--fill-color);\n",
       "      border-left-color: var(--fill-color);\n",
       "    }\n",
       "    20% {\n",
       "      border-color: transparent;\n",
       "      border-left-color: var(--fill-color);\n",
       "      border-top-color: var(--fill-color);\n",
       "    }\n",
       "    30% {\n",
       "      border-color: transparent;\n",
       "      border-left-color: var(--fill-color);\n",
       "      border-top-color: var(--fill-color);\n",
       "      border-right-color: var(--fill-color);\n",
       "    }\n",
       "    40% {\n",
       "      border-color: transparent;\n",
       "      border-right-color: var(--fill-color);\n",
       "      border-top-color: var(--fill-color);\n",
       "    }\n",
       "    60% {\n",
       "      border-color: transparent;\n",
       "      border-right-color: var(--fill-color);\n",
       "    }\n",
       "    80% {\n",
       "      border-color: transparent;\n",
       "      border-right-color: var(--fill-color);\n",
       "      border-bottom-color: var(--fill-color);\n",
       "    }\n",
       "    90% {\n",
       "      border-color: transparent;\n",
       "      border-bottom-color: var(--fill-color);\n",
       "    }\n",
       "  }\n",
       "</style>\n",
       "\n",
       "  <script>\n",
       "    async function quickchart(key) {\n",
       "      const quickchartButtonEl =\n",
       "        document.querySelector('#' + key + ' button');\n",
       "      quickchartButtonEl.disabled = true;  // To prevent multiple clicks.\n",
       "      quickchartButtonEl.classList.add('colab-df-spinner');\n",
       "      try {\n",
       "        const charts = await google.colab.kernel.invokeFunction(\n",
       "            'suggestCharts', [key], {});\n",
       "      } catch (error) {\n",
       "        console.error('Error during call to suggestCharts:', error);\n",
       "      }\n",
       "      quickchartButtonEl.classList.remove('colab-df-spinner');\n",
       "      quickchartButtonEl.classList.add('colab-df-quickchart-complete');\n",
       "    }\n",
       "    (() => {\n",
       "      let quickchartButtonEl =\n",
       "        document.querySelector('#df-e3eb101d-f376-47bd-a6d2-68b19f19292d button');\n",
       "      quickchartButtonEl.style.display =\n",
       "        google.colab.kernel.accessAllowed ? 'block' : 'none';\n",
       "    })();\n",
       "  </script>\n",
       "</div>\n",
       "\n",
       "  <div id=\"id_a3dc0175-ad7f-45d0-b2d6-890cc43f6d4f\">\n",
       "    <style>\n",
       "      .colab-df-generate {\n",
       "        background-color: #E8F0FE;\n",
       "        border: none;\n",
       "        border-radius: 50%;\n",
       "        cursor: pointer;\n",
       "        display: none;\n",
       "        fill: #1967D2;\n",
       "        height: 32px;\n",
       "        padding: 0 0 0 0;\n",
       "        width: 32px;\n",
       "      }\n",
       "\n",
       "      .colab-df-generate:hover {\n",
       "        background-color: #E2EBFA;\n",
       "        box-shadow: 0px 1px 2px rgba(60, 64, 67, 0.3), 0px 1px 3px 1px rgba(60, 64, 67, 0.15);\n",
       "        fill: #174EA6;\n",
       "      }\n",
       "\n",
       "      [theme=dark] .colab-df-generate {\n",
       "        background-color: #3B4455;\n",
       "        fill: #D2E3FC;\n",
       "      }\n",
       "\n",
       "      [theme=dark] .colab-df-generate:hover {\n",
       "        background-color: #434B5C;\n",
       "        box-shadow: 0px 1px 3px 1px rgba(0, 0, 0, 0.15);\n",
       "        filter: drop-shadow(0px 1px 2px rgba(0, 0, 0, 0.3));\n",
       "        fill: #FFFFFF;\n",
       "      }\n",
       "    </style>\n",
       "    <button class=\"colab-df-generate\" onclick=\"generateWithVariable('df')\"\n",
       "            title=\"Generate code using this dataframe.\"\n",
       "            style=\"display:none;\">\n",
       "\n",
       "  <svg xmlns=\"http://www.w3.org/2000/svg\" height=\"24px\"viewBox=\"0 0 24 24\"\n",
       "       width=\"24px\">\n",
       "    <path d=\"M7,19H8.4L18.45,9,17,7.55,7,17.6ZM5,21V16.75L18.45,3.32a2,2,0,0,1,2.83,0l1.4,1.43a1.91,1.91,0,0,1,.58,1.4,1.91,1.91,0,0,1-.58,1.4L9.25,21ZM18.45,9,17,7.55Zm-12,3A5.31,5.31,0,0,0,4.9,8.1,5.31,5.31,0,0,0,1,6.5,5.31,5.31,0,0,0,4.9,4.9,5.31,5.31,0,0,0,6.5,1,5.31,5.31,0,0,0,8.1,4.9,5.31,5.31,0,0,0,12,6.5,5.46,5.46,0,0,0,6.5,12Z\"/>\n",
       "  </svg>\n",
       "    </button>\n",
       "    <script>\n",
       "      (() => {\n",
       "      const buttonEl =\n",
       "        document.querySelector('#id_a3dc0175-ad7f-45d0-b2d6-890cc43f6d4f button.colab-df-generate');\n",
       "      buttonEl.style.display =\n",
       "        google.colab.kernel.accessAllowed ? 'block' : 'none';\n",
       "\n",
       "      buttonEl.onclick = () => {\n",
       "        google.colab.notebook.generateWithVariable('df');\n",
       "      }\n",
       "      })();\n",
       "    </script>\n",
       "  </div>\n",
       "\n",
       "    </div>\n",
       "  </div>\n"
      ],
      "application/vnd.google.colaboratory.intrinsic+json": {
       "type": "dataframe",
       "variable_name": "df",
       "summary": "{\n  \"name\": \"df\",\n  \"rows\": 6,\n  \"fields\": [\n    {\n      \"column\": \"Age\",\n      \"properties\": {\n        \"dtype\": \"number\",\n        \"std\": 13,\n        \"min\": 22,\n        \"max\": 55,\n        \"num_unique_values\": 4,\n        \"samples\": [\n          44,\n          55,\n          33\n        ],\n        \"semantic_type\": \"\",\n        \"description\": \"\"\n      }\n    },\n    {\n      \"column\": \"Income\",\n      \"properties\": {\n        \"dtype\": \"string\",\n        \"num_unique_values\": 3,\n        \"samples\": [\n          \"Low\",\n          \"High\",\n          \"Medium\"\n        ],\n        \"semantic_type\": \"\",\n        \"description\": \"\"\n      }\n    }\n  ]\n}"
      }
     },
     "metadata": {},
     "execution_count": 15
    }
   ]
  },
  {
   "cell_type": "code",
   "metadata": {
    "colab": {
     "base_uri": "https://localhost:8080/",
     "height": 272
    },
    "id": "BKjIjsIaPppx",
    "executionInfo": {
     "status": "ok",
     "timestamp": 1728723154058,
     "user_tz": -540,
     "elapsed": 29,
     "user": {
      "displayName": "Yongjin Jeong",
      "userId": "03658406798560557048"
     }
    },
    "outputId": "f55219ed-41ad-429d-81e6-58197fb50cf3"
   },
   "source": [
    "from sklearn.preprocessing import LabelEncoder, OneHotEncoder, OrdinalEncoder\n",
    "\n",
    "df.Income.map({'Low':1,'Medium':2,'High':3})"
   ],
   "execution_count": 16,
   "outputs": [
    {
     "output_type": "execute_result",
     "data": {
      "text/plain": [
       "0    1\n",
       "1    1\n",
       "2    3\n",
       "3    2\n",
       "4    2\n",
       "5    3\n",
       "Name: Income, dtype: int64"
      ],
      "text/html": [
       "<div>\n",
       "<style scoped>\n",
       "    .dataframe tbody tr th:only-of-type {\n",
       "        vertical-align: middle;\n",
       "    }\n",
       "\n",
       "    .dataframe tbody tr th {\n",
       "        vertical-align: top;\n",
       "    }\n",
       "\n",
       "    .dataframe thead th {\n",
       "        text-align: right;\n",
       "    }\n",
       "</style>\n",
       "<table border=\"1\" class=\"dataframe\">\n",
       "  <thead>\n",
       "    <tr style=\"text-align: right;\">\n",
       "      <th></th>\n",
       "      <th>Income</th>\n",
       "    </tr>\n",
       "  </thead>\n",
       "  <tbody>\n",
       "    <tr>\n",
       "      <th>0</th>\n",
       "      <td>1</td>\n",
       "    </tr>\n",
       "    <tr>\n",
       "      <th>1</th>\n",
       "      <td>1</td>\n",
       "    </tr>\n",
       "    <tr>\n",
       "      <th>2</th>\n",
       "      <td>3</td>\n",
       "    </tr>\n",
       "    <tr>\n",
       "      <th>3</th>\n",
       "      <td>2</td>\n",
       "    </tr>\n",
       "    <tr>\n",
       "      <th>4</th>\n",
       "      <td>2</td>\n",
       "    </tr>\n",
       "    <tr>\n",
       "      <th>5</th>\n",
       "      <td>3</td>\n",
       "    </tr>\n",
       "  </tbody>\n",
       "</table>\n",
       "</div><br><label><b>dtype:</b> int64</label>"
      ]
     },
     "metadata": {},
     "execution_count": 16
    }
   ]
  },
  {
   "cell_type": "code",
   "metadata": {
    "colab": {
     "base_uri": "https://localhost:8080/"
    },
    "id": "FqyoSgTuVh4p",
    "executionInfo": {
     "status": "ok",
     "timestamp": 1728723154058,
     "user_tz": -540,
     "elapsed": 28,
     "user": {
      "displayName": "Yongjin Jeong",
      "userId": "03658406798560557048"
     }
    },
    "outputId": "9df9db42-f58e-4a78-dac4-6d98226d30cd"
   },
   "source": [
    "ord = OrdinalEncoder(categories=[['Low','Medium','High']])\n",
    "ord.fit_transform(df['Income'].values.reshape(-1,1))"
   ],
   "execution_count": 17,
   "outputs": [
    {
     "output_type": "execute_result",
     "data": {
      "text/plain": [
       "array([[0.],\n",
       "       [0.],\n",
       "       [2.],\n",
       "       [1.],\n",
       "       [1.],\n",
       "       [2.]])"
      ]
     },
     "metadata": {},
     "execution_count": 17
    }
   ]
  },
  {
   "cell_type": "code",
   "metadata": {
    "colab": {
     "base_uri": "https://localhost:8080/"
    },
    "id": "41HURdQuYqYP",
    "executionInfo": {
     "status": "ok",
     "timestamp": 1728723154058,
     "user_tz": -540,
     "elapsed": 25,
     "user": {
      "displayName": "Yongjin Jeong",
      "userId": "03658406798560557048"
     }
    },
    "outputId": "77041596-801d-4cb4-d629-3cb681a1a97b"
   },
   "source": [
    "ord.categories_"
   ],
   "execution_count": 18,
   "outputs": [
    {
     "output_type": "execute_result",
     "data": {
      "text/plain": [
       "[array(['Low', 'Medium', 'High'], dtype=object)]"
      ]
     },
     "metadata": {},
     "execution_count": 18
    }
   ]
  },
  {
   "cell_type": "markdown",
   "metadata": {
    "id": "uOgWt_QpPppy"
   },
   "source": [
    "#### Encoding Nominal Values\n",
    "* Nominal Values - Male, Female. No relationship between data\n",
    "* One Hot Encoding for converting data into one-hot vector"
   ]
  },
  {
   "cell_type": "code",
   "metadata": {
    "id": "zqcRb6vYPppy",
    "colab": {
     "base_uri": "https://localhost:8080/",
     "height": 237
    },
    "executionInfo": {
     "status": "ok",
     "timestamp": 1728723154059,
     "user_tz": -540,
     "elapsed": 24,
     "user": {
      "displayName": "Yongjin Jeong",
      "userId": "03658406798560557048"
     }
    },
    "outputId": "20d2d150-602a-4421-8cc6-c2ad87f04738"
   },
   "source": [
    "df = pd.DataFrame({\n",
    "    'Age':[33,44,22,44,55,22],\n",
    "    'Gender':['Male','Female','Male','Female','Male','Male']})\n",
    "df"
   ],
   "execution_count": 19,
   "outputs": [
    {
     "output_type": "execute_result",
     "data": {
      "text/plain": [
       "   Age  Gender\n",
       "0   33    Male\n",
       "1   44  Female\n",
       "2   22    Male\n",
       "3   44  Female\n",
       "4   55    Male\n",
       "5   22    Male"
      ],
      "text/html": [
       "\n",
       "  <div id=\"df-fca72a08-d0bc-4b38-9767-a04d189b6e67\" class=\"colab-df-container\">\n",
       "    <div>\n",
       "<style scoped>\n",
       "    .dataframe tbody tr th:only-of-type {\n",
       "        vertical-align: middle;\n",
       "    }\n",
       "\n",
       "    .dataframe tbody tr th {\n",
       "        vertical-align: top;\n",
       "    }\n",
       "\n",
       "    .dataframe thead th {\n",
       "        text-align: right;\n",
       "    }\n",
       "</style>\n",
       "<table border=\"1\" class=\"dataframe\">\n",
       "  <thead>\n",
       "    <tr style=\"text-align: right;\">\n",
       "      <th></th>\n",
       "      <th>Age</th>\n",
       "      <th>Gender</th>\n",
       "    </tr>\n",
       "  </thead>\n",
       "  <tbody>\n",
       "    <tr>\n",
       "      <th>0</th>\n",
       "      <td>33</td>\n",
       "      <td>Male</td>\n",
       "    </tr>\n",
       "    <tr>\n",
       "      <th>1</th>\n",
       "      <td>44</td>\n",
       "      <td>Female</td>\n",
       "    </tr>\n",
       "    <tr>\n",
       "      <th>2</th>\n",
       "      <td>22</td>\n",
       "      <td>Male</td>\n",
       "    </tr>\n",
       "    <tr>\n",
       "      <th>3</th>\n",
       "      <td>44</td>\n",
       "      <td>Female</td>\n",
       "    </tr>\n",
       "    <tr>\n",
       "      <th>4</th>\n",
       "      <td>55</td>\n",
       "      <td>Male</td>\n",
       "    </tr>\n",
       "    <tr>\n",
       "      <th>5</th>\n",
       "      <td>22</td>\n",
       "      <td>Male</td>\n",
       "    </tr>\n",
       "  </tbody>\n",
       "</table>\n",
       "</div>\n",
       "    <div class=\"colab-df-buttons\">\n",
       "\n",
       "  <div class=\"colab-df-container\">\n",
       "    <button class=\"colab-df-convert\" onclick=\"convertToInteractive('df-fca72a08-d0bc-4b38-9767-a04d189b6e67')\"\n",
       "            title=\"Convert this dataframe to an interactive table.\"\n",
       "            style=\"display:none;\">\n",
       "\n",
       "  <svg xmlns=\"http://www.w3.org/2000/svg\" height=\"24px\" viewBox=\"0 -960 960 960\">\n",
       "    <path d=\"M120-120v-720h720v720H120Zm60-500h600v-160H180v160Zm220 220h160v-160H400v160Zm0 220h160v-160H400v160ZM180-400h160v-160H180v160Zm440 0h160v-160H620v160ZM180-180h160v-160H180v160Zm440 0h160v-160H620v160Z\"/>\n",
       "  </svg>\n",
       "    </button>\n",
       "\n",
       "  <style>\n",
       "    .colab-df-container {\n",
       "      display:flex;\n",
       "      gap: 12px;\n",
       "    }\n",
       "\n",
       "    .colab-df-convert {\n",
       "      background-color: #E8F0FE;\n",
       "      border: none;\n",
       "      border-radius: 50%;\n",
       "      cursor: pointer;\n",
       "      display: none;\n",
       "      fill: #1967D2;\n",
       "      height: 32px;\n",
       "      padding: 0 0 0 0;\n",
       "      width: 32px;\n",
       "    }\n",
       "\n",
       "    .colab-df-convert:hover {\n",
       "      background-color: #E2EBFA;\n",
       "      box-shadow: 0px 1px 2px rgba(60, 64, 67, 0.3), 0px 1px 3px 1px rgba(60, 64, 67, 0.15);\n",
       "      fill: #174EA6;\n",
       "    }\n",
       "\n",
       "    .colab-df-buttons div {\n",
       "      margin-bottom: 4px;\n",
       "    }\n",
       "\n",
       "    [theme=dark] .colab-df-convert {\n",
       "      background-color: #3B4455;\n",
       "      fill: #D2E3FC;\n",
       "    }\n",
       "\n",
       "    [theme=dark] .colab-df-convert:hover {\n",
       "      background-color: #434B5C;\n",
       "      box-shadow: 0px 1px 3px 1px rgba(0, 0, 0, 0.15);\n",
       "      filter: drop-shadow(0px 1px 2px rgba(0, 0, 0, 0.3));\n",
       "      fill: #FFFFFF;\n",
       "    }\n",
       "  </style>\n",
       "\n",
       "    <script>\n",
       "      const buttonEl =\n",
       "        document.querySelector('#df-fca72a08-d0bc-4b38-9767-a04d189b6e67 button.colab-df-convert');\n",
       "      buttonEl.style.display =\n",
       "        google.colab.kernel.accessAllowed ? 'block' : 'none';\n",
       "\n",
       "      async function convertToInteractive(key) {\n",
       "        const element = document.querySelector('#df-fca72a08-d0bc-4b38-9767-a04d189b6e67');\n",
       "        const dataTable =\n",
       "          await google.colab.kernel.invokeFunction('convertToInteractive',\n",
       "                                                    [key], {});\n",
       "        if (!dataTable) return;\n",
       "\n",
       "        const docLinkHtml = 'Like what you see? Visit the ' +\n",
       "          '<a target=\"_blank\" href=https://colab.research.google.com/notebooks/data_table.ipynb>data table notebook</a>'\n",
       "          + ' to learn more about interactive tables.';\n",
       "        element.innerHTML = '';\n",
       "        dataTable['output_type'] = 'display_data';\n",
       "        await google.colab.output.renderOutput(dataTable, element);\n",
       "        const docLink = document.createElement('div');\n",
       "        docLink.innerHTML = docLinkHtml;\n",
       "        element.appendChild(docLink);\n",
       "      }\n",
       "    </script>\n",
       "  </div>\n",
       "\n",
       "\n",
       "<div id=\"df-d3ba17ae-e327-4791-86ee-cadcaf9d7f73\">\n",
       "  <button class=\"colab-df-quickchart\" onclick=\"quickchart('df-d3ba17ae-e327-4791-86ee-cadcaf9d7f73')\"\n",
       "            title=\"Suggest charts\"\n",
       "            style=\"display:none;\">\n",
       "\n",
       "<svg xmlns=\"http://www.w3.org/2000/svg\" height=\"24px\"viewBox=\"0 0 24 24\"\n",
       "     width=\"24px\">\n",
       "    <g>\n",
       "        <path d=\"M19 3H5c-1.1 0-2 .9-2 2v14c0 1.1.9 2 2 2h14c1.1 0 2-.9 2-2V5c0-1.1-.9-2-2-2zM9 17H7v-7h2v7zm4 0h-2V7h2v10zm4 0h-2v-4h2v4z\"/>\n",
       "    </g>\n",
       "</svg>\n",
       "  </button>\n",
       "\n",
       "<style>\n",
       "  .colab-df-quickchart {\n",
       "      --bg-color: #E8F0FE;\n",
       "      --fill-color: #1967D2;\n",
       "      --hover-bg-color: #E2EBFA;\n",
       "      --hover-fill-color: #174EA6;\n",
       "      --disabled-fill-color: #AAA;\n",
       "      --disabled-bg-color: #DDD;\n",
       "  }\n",
       "\n",
       "  [theme=dark] .colab-df-quickchart {\n",
       "      --bg-color: #3B4455;\n",
       "      --fill-color: #D2E3FC;\n",
       "      --hover-bg-color: #434B5C;\n",
       "      --hover-fill-color: #FFFFFF;\n",
       "      --disabled-bg-color: #3B4455;\n",
       "      --disabled-fill-color: #666;\n",
       "  }\n",
       "\n",
       "  .colab-df-quickchart {\n",
       "    background-color: var(--bg-color);\n",
       "    border: none;\n",
       "    border-radius: 50%;\n",
       "    cursor: pointer;\n",
       "    display: none;\n",
       "    fill: var(--fill-color);\n",
       "    height: 32px;\n",
       "    padding: 0;\n",
       "    width: 32px;\n",
       "  }\n",
       "\n",
       "  .colab-df-quickchart:hover {\n",
       "    background-color: var(--hover-bg-color);\n",
       "    box-shadow: 0 1px 2px rgba(60, 64, 67, 0.3), 0 1px 3px 1px rgba(60, 64, 67, 0.15);\n",
       "    fill: var(--button-hover-fill-color);\n",
       "  }\n",
       "\n",
       "  .colab-df-quickchart-complete:disabled,\n",
       "  .colab-df-quickchart-complete:disabled:hover {\n",
       "    background-color: var(--disabled-bg-color);\n",
       "    fill: var(--disabled-fill-color);\n",
       "    box-shadow: none;\n",
       "  }\n",
       "\n",
       "  .colab-df-spinner {\n",
       "    border: 2px solid var(--fill-color);\n",
       "    border-color: transparent;\n",
       "    border-bottom-color: var(--fill-color);\n",
       "    animation:\n",
       "      spin 1s steps(1) infinite;\n",
       "  }\n",
       "\n",
       "  @keyframes spin {\n",
       "    0% {\n",
       "      border-color: transparent;\n",
       "      border-bottom-color: var(--fill-color);\n",
       "      border-left-color: var(--fill-color);\n",
       "    }\n",
       "    20% {\n",
       "      border-color: transparent;\n",
       "      border-left-color: var(--fill-color);\n",
       "      border-top-color: var(--fill-color);\n",
       "    }\n",
       "    30% {\n",
       "      border-color: transparent;\n",
       "      border-left-color: var(--fill-color);\n",
       "      border-top-color: var(--fill-color);\n",
       "      border-right-color: var(--fill-color);\n",
       "    }\n",
       "    40% {\n",
       "      border-color: transparent;\n",
       "      border-right-color: var(--fill-color);\n",
       "      border-top-color: var(--fill-color);\n",
       "    }\n",
       "    60% {\n",
       "      border-color: transparent;\n",
       "      border-right-color: var(--fill-color);\n",
       "    }\n",
       "    80% {\n",
       "      border-color: transparent;\n",
       "      border-right-color: var(--fill-color);\n",
       "      border-bottom-color: var(--fill-color);\n",
       "    }\n",
       "    90% {\n",
       "      border-color: transparent;\n",
       "      border-bottom-color: var(--fill-color);\n",
       "    }\n",
       "  }\n",
       "</style>\n",
       "\n",
       "  <script>\n",
       "    async function quickchart(key) {\n",
       "      const quickchartButtonEl =\n",
       "        document.querySelector('#' + key + ' button');\n",
       "      quickchartButtonEl.disabled = true;  // To prevent multiple clicks.\n",
       "      quickchartButtonEl.classList.add('colab-df-spinner');\n",
       "      try {\n",
       "        const charts = await google.colab.kernel.invokeFunction(\n",
       "            'suggestCharts', [key], {});\n",
       "      } catch (error) {\n",
       "        console.error('Error during call to suggestCharts:', error);\n",
       "      }\n",
       "      quickchartButtonEl.classList.remove('colab-df-spinner');\n",
       "      quickchartButtonEl.classList.add('colab-df-quickchart-complete');\n",
       "    }\n",
       "    (() => {\n",
       "      let quickchartButtonEl =\n",
       "        document.querySelector('#df-d3ba17ae-e327-4791-86ee-cadcaf9d7f73 button');\n",
       "      quickchartButtonEl.style.display =\n",
       "        google.colab.kernel.accessAllowed ? 'block' : 'none';\n",
       "    })();\n",
       "  </script>\n",
       "</div>\n",
       "\n",
       "  <div id=\"id_48fa2867-db9e-493b-955d-1a8fabeed9b3\">\n",
       "    <style>\n",
       "      .colab-df-generate {\n",
       "        background-color: #E8F0FE;\n",
       "        border: none;\n",
       "        border-radius: 50%;\n",
       "        cursor: pointer;\n",
       "        display: none;\n",
       "        fill: #1967D2;\n",
       "        height: 32px;\n",
       "        padding: 0 0 0 0;\n",
       "        width: 32px;\n",
       "      }\n",
       "\n",
       "      .colab-df-generate:hover {\n",
       "        background-color: #E2EBFA;\n",
       "        box-shadow: 0px 1px 2px rgba(60, 64, 67, 0.3), 0px 1px 3px 1px rgba(60, 64, 67, 0.15);\n",
       "        fill: #174EA6;\n",
       "      }\n",
       "\n",
       "      [theme=dark] .colab-df-generate {\n",
       "        background-color: #3B4455;\n",
       "        fill: #D2E3FC;\n",
       "      }\n",
       "\n",
       "      [theme=dark] .colab-df-generate:hover {\n",
       "        background-color: #434B5C;\n",
       "        box-shadow: 0px 1px 3px 1px rgba(0, 0, 0, 0.15);\n",
       "        filter: drop-shadow(0px 1px 2px rgba(0, 0, 0, 0.3));\n",
       "        fill: #FFFFFF;\n",
       "      }\n",
       "    </style>\n",
       "    <button class=\"colab-df-generate\" onclick=\"generateWithVariable('df')\"\n",
       "            title=\"Generate code using this dataframe.\"\n",
       "            style=\"display:none;\">\n",
       "\n",
       "  <svg xmlns=\"http://www.w3.org/2000/svg\" height=\"24px\"viewBox=\"0 0 24 24\"\n",
       "       width=\"24px\">\n",
       "    <path d=\"M7,19H8.4L18.45,9,17,7.55,7,17.6ZM5,21V16.75L18.45,3.32a2,2,0,0,1,2.83,0l1.4,1.43a1.91,1.91,0,0,1,.58,1.4,1.91,1.91,0,0,1-.58,1.4L9.25,21ZM18.45,9,17,7.55Zm-12,3A5.31,5.31,0,0,0,4.9,8.1,5.31,5.31,0,0,0,1,6.5,5.31,5.31,0,0,0,4.9,4.9,5.31,5.31,0,0,0,6.5,1,5.31,5.31,0,0,0,8.1,4.9,5.31,5.31,0,0,0,12,6.5,5.46,5.46,0,0,0,6.5,12Z\"/>\n",
       "  </svg>\n",
       "    </button>\n",
       "    <script>\n",
       "      (() => {\n",
       "      const buttonEl =\n",
       "        document.querySelector('#id_48fa2867-db9e-493b-955d-1a8fabeed9b3 button.colab-df-generate');\n",
       "      buttonEl.style.display =\n",
       "        google.colab.kernel.accessAllowed ? 'block' : 'none';\n",
       "\n",
       "      buttonEl.onclick = () => {\n",
       "        google.colab.notebook.generateWithVariable('df');\n",
       "      }\n",
       "      })();\n",
       "    </script>\n",
       "  </div>\n",
       "\n",
       "    </div>\n",
       "  </div>\n"
      ],
      "application/vnd.google.colaboratory.intrinsic+json": {
       "type": "dataframe",
       "variable_name": "df",
       "summary": "{\n  \"name\": \"df\",\n  \"rows\": 6,\n  \"fields\": [\n    {\n      \"column\": \"Age\",\n      \"properties\": {\n        \"dtype\": \"number\",\n        \"std\": 13,\n        \"min\": 22,\n        \"max\": 55,\n        \"num_unique_values\": 4,\n        \"samples\": [\n          44,\n          55,\n          33\n        ],\n        \"semantic_type\": \"\",\n        \"description\": \"\"\n      }\n    },\n    {\n      \"column\": \"Gender\",\n      \"properties\": {\n        \"dtype\": \"category\",\n        \"num_unique_values\": 2,\n        \"samples\": [\n          \"Female\",\n          \"Male\"\n        ],\n        \"semantic_type\": \"\",\n        \"description\": \"\"\n      }\n    }\n  ]\n}"
      }
     },
     "metadata": {},
     "execution_count": 19
    }
   ]
  },
  {
   "cell_type": "code",
   "metadata": {
    "colab": {
     "base_uri": "https://localhost:8080/"
    },
    "id": "gbsBnnPQPppy",
    "executionInfo": {
     "status": "ok",
     "timestamp": 1728723154059,
     "user_tz": -540,
     "elapsed": 22,
     "user": {
      "displayName": "Yongjin Jeong",
      "userId": "03658406798560557048"
     }
    },
    "outputId": "0adfbd15-6f4a-4ad2-de5c-ff18daa0bb5d"
   },
   "source": [
    "df.Gender.unique()"
   ],
   "execution_count": 20,
   "outputs": [
    {
     "output_type": "execute_result",
     "data": {
      "text/plain": [
       "array(['Male', 'Female'], dtype=object)"
      ]
     },
     "metadata": {},
     "execution_count": 20
    }
   ]
  },
  {
   "cell_type": "code",
   "metadata": {
    "id": "FFL4blVXPppz",
    "executionInfo": {
     "status": "ok",
     "timestamp": 1728723154059,
     "user_tz": -540,
     "elapsed": 19,
     "user": {
      "displayName": "Yongjin Jeong",
      "userId": "03658406798560557048"
     }
    }
   },
   "source": [
    "from sklearn.preprocessing import LabelEncoder,OneHotEncoder\n",
    "\n",
    "le = LabelEncoder()   # encode labels with values between 0 and (no. of class -1)\n",
    "df['gender_tf'] = le.fit_transform(df.Gender)"
   ],
   "execution_count": 21,
   "outputs": []
  },
  {
   "cell_type": "code",
   "metadata": {
    "colab": {
     "base_uri": "https://localhost:8080/",
     "height": 237
    },
    "id": "wYsKiU7EPppz",
    "executionInfo": {
     "status": "ok",
     "timestamp": 1728723154059,
     "user_tz": -540,
     "elapsed": 19,
     "user": {
      "displayName": "Yongjin Jeong",
      "userId": "03658406798560557048"
     }
    },
    "outputId": "ecccdfff-834c-4844-89da-f858e98b324d"
   },
   "source": [
    "df"
   ],
   "execution_count": 22,
   "outputs": [
    {
     "output_type": "execute_result",
     "data": {
      "text/plain": [
       "   Age  Gender  gender_tf\n",
       "0   33    Male          1\n",
       "1   44  Female          0\n",
       "2   22    Male          1\n",
       "3   44  Female          0\n",
       "4   55    Male          1\n",
       "5   22    Male          1"
      ],
      "text/html": [
       "\n",
       "  <div id=\"df-ceb08609-6af3-4b31-88c6-58edc3052ecb\" class=\"colab-df-container\">\n",
       "    <div>\n",
       "<style scoped>\n",
       "    .dataframe tbody tr th:only-of-type {\n",
       "        vertical-align: middle;\n",
       "    }\n",
       "\n",
       "    .dataframe tbody tr th {\n",
       "        vertical-align: top;\n",
       "    }\n",
       "\n",
       "    .dataframe thead th {\n",
       "        text-align: right;\n",
       "    }\n",
       "</style>\n",
       "<table border=\"1\" class=\"dataframe\">\n",
       "  <thead>\n",
       "    <tr style=\"text-align: right;\">\n",
       "      <th></th>\n",
       "      <th>Age</th>\n",
       "      <th>Gender</th>\n",
       "      <th>gender_tf</th>\n",
       "    </tr>\n",
       "  </thead>\n",
       "  <tbody>\n",
       "    <tr>\n",
       "      <th>0</th>\n",
       "      <td>33</td>\n",
       "      <td>Male</td>\n",
       "      <td>1</td>\n",
       "    </tr>\n",
       "    <tr>\n",
       "      <th>1</th>\n",
       "      <td>44</td>\n",
       "      <td>Female</td>\n",
       "      <td>0</td>\n",
       "    </tr>\n",
       "    <tr>\n",
       "      <th>2</th>\n",
       "      <td>22</td>\n",
       "      <td>Male</td>\n",
       "      <td>1</td>\n",
       "    </tr>\n",
       "    <tr>\n",
       "      <th>3</th>\n",
       "      <td>44</td>\n",
       "      <td>Female</td>\n",
       "      <td>0</td>\n",
       "    </tr>\n",
       "    <tr>\n",
       "      <th>4</th>\n",
       "      <td>55</td>\n",
       "      <td>Male</td>\n",
       "      <td>1</td>\n",
       "    </tr>\n",
       "    <tr>\n",
       "      <th>5</th>\n",
       "      <td>22</td>\n",
       "      <td>Male</td>\n",
       "      <td>1</td>\n",
       "    </tr>\n",
       "  </tbody>\n",
       "</table>\n",
       "</div>\n",
       "    <div class=\"colab-df-buttons\">\n",
       "\n",
       "  <div class=\"colab-df-container\">\n",
       "    <button class=\"colab-df-convert\" onclick=\"convertToInteractive('df-ceb08609-6af3-4b31-88c6-58edc3052ecb')\"\n",
       "            title=\"Convert this dataframe to an interactive table.\"\n",
       "            style=\"display:none;\">\n",
       "\n",
       "  <svg xmlns=\"http://www.w3.org/2000/svg\" height=\"24px\" viewBox=\"0 -960 960 960\">\n",
       "    <path d=\"M120-120v-720h720v720H120Zm60-500h600v-160H180v160Zm220 220h160v-160H400v160Zm0 220h160v-160H400v160ZM180-400h160v-160H180v160Zm440 0h160v-160H620v160ZM180-180h160v-160H180v160Zm440 0h160v-160H620v160Z\"/>\n",
       "  </svg>\n",
       "    </button>\n",
       "\n",
       "  <style>\n",
       "    .colab-df-container {\n",
       "      display:flex;\n",
       "      gap: 12px;\n",
       "    }\n",
       "\n",
       "    .colab-df-convert {\n",
       "      background-color: #E8F0FE;\n",
       "      border: none;\n",
       "      border-radius: 50%;\n",
       "      cursor: pointer;\n",
       "      display: none;\n",
       "      fill: #1967D2;\n",
       "      height: 32px;\n",
       "      padding: 0 0 0 0;\n",
       "      width: 32px;\n",
       "    }\n",
       "\n",
       "    .colab-df-convert:hover {\n",
       "      background-color: #E2EBFA;\n",
       "      box-shadow: 0px 1px 2px rgba(60, 64, 67, 0.3), 0px 1px 3px 1px rgba(60, 64, 67, 0.15);\n",
       "      fill: #174EA6;\n",
       "    }\n",
       "\n",
       "    .colab-df-buttons div {\n",
       "      margin-bottom: 4px;\n",
       "    }\n",
       "\n",
       "    [theme=dark] .colab-df-convert {\n",
       "      background-color: #3B4455;\n",
       "      fill: #D2E3FC;\n",
       "    }\n",
       "\n",
       "    [theme=dark] .colab-df-convert:hover {\n",
       "      background-color: #434B5C;\n",
       "      box-shadow: 0px 1px 3px 1px rgba(0, 0, 0, 0.15);\n",
       "      filter: drop-shadow(0px 1px 2px rgba(0, 0, 0, 0.3));\n",
       "      fill: #FFFFFF;\n",
       "    }\n",
       "  </style>\n",
       "\n",
       "    <script>\n",
       "      const buttonEl =\n",
       "        document.querySelector('#df-ceb08609-6af3-4b31-88c6-58edc3052ecb button.colab-df-convert');\n",
       "      buttonEl.style.display =\n",
       "        google.colab.kernel.accessAllowed ? 'block' : 'none';\n",
       "\n",
       "      async function convertToInteractive(key) {\n",
       "        const element = document.querySelector('#df-ceb08609-6af3-4b31-88c6-58edc3052ecb');\n",
       "        const dataTable =\n",
       "          await google.colab.kernel.invokeFunction('convertToInteractive',\n",
       "                                                    [key], {});\n",
       "        if (!dataTable) return;\n",
       "\n",
       "        const docLinkHtml = 'Like what you see? Visit the ' +\n",
       "          '<a target=\"_blank\" href=https://colab.research.google.com/notebooks/data_table.ipynb>data table notebook</a>'\n",
       "          + ' to learn more about interactive tables.';\n",
       "        element.innerHTML = '';\n",
       "        dataTable['output_type'] = 'display_data';\n",
       "        await google.colab.output.renderOutput(dataTable, element);\n",
       "        const docLink = document.createElement('div');\n",
       "        docLink.innerHTML = docLinkHtml;\n",
       "        element.appendChild(docLink);\n",
       "      }\n",
       "    </script>\n",
       "  </div>\n",
       "\n",
       "\n",
       "<div id=\"df-3a40a908-b0c1-44dd-b220-069a27004499\">\n",
       "  <button class=\"colab-df-quickchart\" onclick=\"quickchart('df-3a40a908-b0c1-44dd-b220-069a27004499')\"\n",
       "            title=\"Suggest charts\"\n",
       "            style=\"display:none;\">\n",
       "\n",
       "<svg xmlns=\"http://www.w3.org/2000/svg\" height=\"24px\"viewBox=\"0 0 24 24\"\n",
       "     width=\"24px\">\n",
       "    <g>\n",
       "        <path d=\"M19 3H5c-1.1 0-2 .9-2 2v14c0 1.1.9 2 2 2h14c1.1 0 2-.9 2-2V5c0-1.1-.9-2-2-2zM9 17H7v-7h2v7zm4 0h-2V7h2v10zm4 0h-2v-4h2v4z\"/>\n",
       "    </g>\n",
       "</svg>\n",
       "  </button>\n",
       "\n",
       "<style>\n",
       "  .colab-df-quickchart {\n",
       "      --bg-color: #E8F0FE;\n",
       "      --fill-color: #1967D2;\n",
       "      --hover-bg-color: #E2EBFA;\n",
       "      --hover-fill-color: #174EA6;\n",
       "      --disabled-fill-color: #AAA;\n",
       "      --disabled-bg-color: #DDD;\n",
       "  }\n",
       "\n",
       "  [theme=dark] .colab-df-quickchart {\n",
       "      --bg-color: #3B4455;\n",
       "      --fill-color: #D2E3FC;\n",
       "      --hover-bg-color: #434B5C;\n",
       "      --hover-fill-color: #FFFFFF;\n",
       "      --disabled-bg-color: #3B4455;\n",
       "      --disabled-fill-color: #666;\n",
       "  }\n",
       "\n",
       "  .colab-df-quickchart {\n",
       "    background-color: var(--bg-color);\n",
       "    border: none;\n",
       "    border-radius: 50%;\n",
       "    cursor: pointer;\n",
       "    display: none;\n",
       "    fill: var(--fill-color);\n",
       "    height: 32px;\n",
       "    padding: 0;\n",
       "    width: 32px;\n",
       "  }\n",
       "\n",
       "  .colab-df-quickchart:hover {\n",
       "    background-color: var(--hover-bg-color);\n",
       "    box-shadow: 0 1px 2px rgba(60, 64, 67, 0.3), 0 1px 3px 1px rgba(60, 64, 67, 0.15);\n",
       "    fill: var(--button-hover-fill-color);\n",
       "  }\n",
       "\n",
       "  .colab-df-quickchart-complete:disabled,\n",
       "  .colab-df-quickchart-complete:disabled:hover {\n",
       "    background-color: var(--disabled-bg-color);\n",
       "    fill: var(--disabled-fill-color);\n",
       "    box-shadow: none;\n",
       "  }\n",
       "\n",
       "  .colab-df-spinner {\n",
       "    border: 2px solid var(--fill-color);\n",
       "    border-color: transparent;\n",
       "    border-bottom-color: var(--fill-color);\n",
       "    animation:\n",
       "      spin 1s steps(1) infinite;\n",
       "  }\n",
       "\n",
       "  @keyframes spin {\n",
       "    0% {\n",
       "      border-color: transparent;\n",
       "      border-bottom-color: var(--fill-color);\n",
       "      border-left-color: var(--fill-color);\n",
       "    }\n",
       "    20% {\n",
       "      border-color: transparent;\n",
       "      border-left-color: var(--fill-color);\n",
       "      border-top-color: var(--fill-color);\n",
       "    }\n",
       "    30% {\n",
       "      border-color: transparent;\n",
       "      border-left-color: var(--fill-color);\n",
       "      border-top-color: var(--fill-color);\n",
       "      border-right-color: var(--fill-color);\n",
       "    }\n",
       "    40% {\n",
       "      border-color: transparent;\n",
       "      border-right-color: var(--fill-color);\n",
       "      border-top-color: var(--fill-color);\n",
       "    }\n",
       "    60% {\n",
       "      border-color: transparent;\n",
       "      border-right-color: var(--fill-color);\n",
       "    }\n",
       "    80% {\n",
       "      border-color: transparent;\n",
       "      border-right-color: var(--fill-color);\n",
       "      border-bottom-color: var(--fill-color);\n",
       "    }\n",
       "    90% {\n",
       "      border-color: transparent;\n",
       "      border-bottom-color: var(--fill-color);\n",
       "    }\n",
       "  }\n",
       "</style>\n",
       "\n",
       "  <script>\n",
       "    async function quickchart(key) {\n",
       "      const quickchartButtonEl =\n",
       "        document.querySelector('#' + key + ' button');\n",
       "      quickchartButtonEl.disabled = true;  // To prevent multiple clicks.\n",
       "      quickchartButtonEl.classList.add('colab-df-spinner');\n",
       "      try {\n",
       "        const charts = await google.colab.kernel.invokeFunction(\n",
       "            'suggestCharts', [key], {});\n",
       "      } catch (error) {\n",
       "        console.error('Error during call to suggestCharts:', error);\n",
       "      }\n",
       "      quickchartButtonEl.classList.remove('colab-df-spinner');\n",
       "      quickchartButtonEl.classList.add('colab-df-quickchart-complete');\n",
       "    }\n",
       "    (() => {\n",
       "      let quickchartButtonEl =\n",
       "        document.querySelector('#df-3a40a908-b0c1-44dd-b220-069a27004499 button');\n",
       "      quickchartButtonEl.style.display =\n",
       "        google.colab.kernel.accessAllowed ? 'block' : 'none';\n",
       "    })();\n",
       "  </script>\n",
       "</div>\n",
       "\n",
       "  <div id=\"id_e867bcc5-b601-470b-9794-2ea84b287b0c\">\n",
       "    <style>\n",
       "      .colab-df-generate {\n",
       "        background-color: #E8F0FE;\n",
       "        border: none;\n",
       "        border-radius: 50%;\n",
       "        cursor: pointer;\n",
       "        display: none;\n",
       "        fill: #1967D2;\n",
       "        height: 32px;\n",
       "        padding: 0 0 0 0;\n",
       "        width: 32px;\n",
       "      }\n",
       "\n",
       "      .colab-df-generate:hover {\n",
       "        background-color: #E2EBFA;\n",
       "        box-shadow: 0px 1px 2px rgba(60, 64, 67, 0.3), 0px 1px 3px 1px rgba(60, 64, 67, 0.15);\n",
       "        fill: #174EA6;\n",
       "      }\n",
       "\n",
       "      [theme=dark] .colab-df-generate {\n",
       "        background-color: #3B4455;\n",
       "        fill: #D2E3FC;\n",
       "      }\n",
       "\n",
       "      [theme=dark] .colab-df-generate:hover {\n",
       "        background-color: #434B5C;\n",
       "        box-shadow: 0px 1px 3px 1px rgba(0, 0, 0, 0.15);\n",
       "        filter: drop-shadow(0px 1px 2px rgba(0, 0, 0, 0.3));\n",
       "        fill: #FFFFFF;\n",
       "      }\n",
       "    </style>\n",
       "    <button class=\"colab-df-generate\" onclick=\"generateWithVariable('df')\"\n",
       "            title=\"Generate code using this dataframe.\"\n",
       "            style=\"display:none;\">\n",
       "\n",
       "  <svg xmlns=\"http://www.w3.org/2000/svg\" height=\"24px\"viewBox=\"0 0 24 24\"\n",
       "       width=\"24px\">\n",
       "    <path d=\"M7,19H8.4L18.45,9,17,7.55,7,17.6ZM5,21V16.75L18.45,3.32a2,2,0,0,1,2.83,0l1.4,1.43a1.91,1.91,0,0,1,.58,1.4,1.91,1.91,0,0,1-.58,1.4L9.25,21ZM18.45,9,17,7.55Zm-12,3A5.31,5.31,0,0,0,4.9,8.1,5.31,5.31,0,0,0,1,6.5,5.31,5.31,0,0,0,4.9,4.9,5.31,5.31,0,0,0,6.5,1,5.31,5.31,0,0,0,8.1,4.9,5.31,5.31,0,0,0,12,6.5,5.46,5.46,0,0,0,6.5,12Z\"/>\n",
       "  </svg>\n",
       "    </button>\n",
       "    <script>\n",
       "      (() => {\n",
       "      const buttonEl =\n",
       "        document.querySelector('#id_e867bcc5-b601-470b-9794-2ea84b287b0c button.colab-df-generate');\n",
       "      buttonEl.style.display =\n",
       "        google.colab.kernel.accessAllowed ? 'block' : 'none';\n",
       "\n",
       "      buttonEl.onclick = () => {\n",
       "        google.colab.notebook.generateWithVariable('df');\n",
       "      }\n",
       "      })();\n",
       "    </script>\n",
       "  </div>\n",
       "\n",
       "    </div>\n",
       "  </div>\n"
      ],
      "application/vnd.google.colaboratory.intrinsic+json": {
       "type": "dataframe",
       "variable_name": "df",
       "summary": "{\n  \"name\": \"df\",\n  \"rows\": 6,\n  \"fields\": [\n    {\n      \"column\": \"Age\",\n      \"properties\": {\n        \"dtype\": \"number\",\n        \"std\": 13,\n        \"min\": 22,\n        \"max\": 55,\n        \"num_unique_values\": 4,\n        \"samples\": [\n          44,\n          55,\n          33\n        ],\n        \"semantic_type\": \"\",\n        \"description\": \"\"\n      }\n    },\n    {\n      \"column\": \"Gender\",\n      \"properties\": {\n        \"dtype\": \"category\",\n        \"num_unique_values\": 2,\n        \"samples\": [\n          \"Female\",\n          \"Male\"\n        ],\n        \"semantic_type\": \"\",\n        \"description\": \"\"\n      }\n    },\n    {\n      \"column\": \"gender_tf\",\n      \"properties\": {\n        \"dtype\": \"number\",\n        \"std\": 0,\n        \"min\": 0,\n        \"max\": 1,\n        \"num_unique_values\": 2,\n        \"samples\": [\n          0,\n          1\n        ],\n        \"semantic_type\": \"\",\n        \"description\": \"\"\n      }\n    }\n  ]\n}"
      }
     },
     "metadata": {},
     "execution_count": 22
    }
   ]
  },
  {
   "cell_type": "code",
   "metadata": {
    "colab": {
     "base_uri": "https://localhost:8080/"
    },
    "id": "GYdln31dPppz",
    "executionInfo": {
     "status": "ok",
     "timestamp": 1728723154638,
     "user_tz": -540,
     "elapsed": 39,
     "user": {
      "displayName": "Yongjin Jeong",
      "userId": "03658406798560557048"
     }
    },
    "outputId": "08cc2621-4236-4247-a612-9c2c3dc82eb2"
   },
   "source": [
    "ohe = OneHotEncoder()\n",
    "ohe.fit_transform(df[['Gender']]).toarray()"
   ],
   "execution_count": 23,
   "outputs": [
    {
     "output_type": "execute_result",
     "data": {
      "text/plain": [
       "array([[0., 1.],\n",
       "       [1., 0.],\n",
       "       [0., 1.],\n",
       "       [1., 0.],\n",
       "       [0., 1.],\n",
       "       [0., 1.]])"
      ]
     },
     "metadata": {},
     "execution_count": 23
    }
   ]
  },
  {
   "cell_type": "code",
   "metadata": {
    "scrolled": true,
    "colab": {
     "base_uri": "https://localhost:8080/"
    },
    "id": "JhpOEt6RPppz",
    "executionInfo": {
     "status": "ok",
     "timestamp": 1728723154639,
     "user_tz": -540,
     "elapsed": 36,
     "user": {
      "displayName": "Yongjin Jeong",
      "userId": "03658406798560557048"
     }
    },
    "outputId": "df070a6e-7de3-4a46-91c2-8740d8990a72"
   },
   "source": [
    "# same as the above\n",
    "ohe.fit_transform(df[['gender_tf']]).toarray()"
   ],
   "execution_count": 24,
   "outputs": [
    {
     "output_type": "execute_result",
     "data": {
      "text/plain": [
       "array([[0., 1.],\n",
       "       [1., 0.],\n",
       "       [0., 1.],\n",
       "       [1., 0.],\n",
       "       [0., 1.],\n",
       "       [0., 1.]])"
      ]
     },
     "metadata": {},
     "execution_count": 24
    }
   ]
  },
  {
   "cell_type": "code",
   "metadata": {
    "colab": {
     "base_uri": "https://localhost:8080/"
    },
    "id": "6mA_QV8mUJa4",
    "executionInfo": {
     "status": "ok",
     "timestamp": 1728723154639,
     "user_tz": -540,
     "elapsed": 33,
     "user": {
      "displayName": "Yongjin Jeong",
      "userId": "03658406798560557048"
     }
    },
    "outputId": "b419e4b5-a27f-4452-883b-d3d9e7729898"
   },
   "source": [
    "ohe.get_feature_names_out()"
   ],
   "execution_count": 25,
   "outputs": [
    {
     "output_type": "execute_result",
     "data": {
      "text/plain": [
       "array(['gender_tf_0', 'gender_tf_1'], dtype=object)"
      ]
     },
     "metadata": {},
     "execution_count": 25
    }
   ]
  },
  {
   "cell_type": "markdown",
   "metadata": {
    "id": "e3brNpfHU513"
   },
   "source": [
    "- use pandas.dummies()"
   ]
  },
  {
   "cell_type": "code",
   "metadata": {
    "colab": {
     "base_uri": "https://localhost:8080/",
     "height": 237
    },
    "id": "SV7_HP_3S-3D",
    "executionInfo": {
     "status": "ok",
     "timestamp": 1728723154639,
     "user_tz": -540,
     "elapsed": 31,
     "user": {
      "displayName": "Yongjin Jeong",
      "userId": "03658406798560557048"
     }
    },
    "outputId": "683a8e22-7864-426e-b7cf-b4a1dc489159"
   },
   "source": [
    "pd.get_dummies(df['gender_tf'], prefix='gender')"
   ],
   "execution_count": 26,
   "outputs": [
    {
     "output_type": "execute_result",
     "data": {
      "text/plain": [
       "   gender_0  gender_1\n",
       "0     False      True\n",
       "1      True     False\n",
       "2     False      True\n",
       "3      True     False\n",
       "4     False      True\n",
       "5     False      True"
      ],
      "text/html": [
       "\n",
       "  <div id=\"df-37dcd0a9-20e9-4908-9d2c-f9c6cfbb5cf3\" class=\"colab-df-container\">\n",
       "    <div>\n",
       "<style scoped>\n",
       "    .dataframe tbody tr th:only-of-type {\n",
       "        vertical-align: middle;\n",
       "    }\n",
       "\n",
       "    .dataframe tbody tr th {\n",
       "        vertical-align: top;\n",
       "    }\n",
       "\n",
       "    .dataframe thead th {\n",
       "        text-align: right;\n",
       "    }\n",
       "</style>\n",
       "<table border=\"1\" class=\"dataframe\">\n",
       "  <thead>\n",
       "    <tr style=\"text-align: right;\">\n",
       "      <th></th>\n",
       "      <th>gender_0</th>\n",
       "      <th>gender_1</th>\n",
       "    </tr>\n",
       "  </thead>\n",
       "  <tbody>\n",
       "    <tr>\n",
       "      <th>0</th>\n",
       "      <td>False</td>\n",
       "      <td>True</td>\n",
       "    </tr>\n",
       "    <tr>\n",
       "      <th>1</th>\n",
       "      <td>True</td>\n",
       "      <td>False</td>\n",
       "    </tr>\n",
       "    <tr>\n",
       "      <th>2</th>\n",
       "      <td>False</td>\n",
       "      <td>True</td>\n",
       "    </tr>\n",
       "    <tr>\n",
       "      <th>3</th>\n",
       "      <td>True</td>\n",
       "      <td>False</td>\n",
       "    </tr>\n",
       "    <tr>\n",
       "      <th>4</th>\n",
       "      <td>False</td>\n",
       "      <td>True</td>\n",
       "    </tr>\n",
       "    <tr>\n",
       "      <th>5</th>\n",
       "      <td>False</td>\n",
       "      <td>True</td>\n",
       "    </tr>\n",
       "  </tbody>\n",
       "</table>\n",
       "</div>\n",
       "    <div class=\"colab-df-buttons\">\n",
       "\n",
       "  <div class=\"colab-df-container\">\n",
       "    <button class=\"colab-df-convert\" onclick=\"convertToInteractive('df-37dcd0a9-20e9-4908-9d2c-f9c6cfbb5cf3')\"\n",
       "            title=\"Convert this dataframe to an interactive table.\"\n",
       "            style=\"display:none;\">\n",
       "\n",
       "  <svg xmlns=\"http://www.w3.org/2000/svg\" height=\"24px\" viewBox=\"0 -960 960 960\">\n",
       "    <path d=\"M120-120v-720h720v720H120Zm60-500h600v-160H180v160Zm220 220h160v-160H400v160Zm0 220h160v-160H400v160ZM180-400h160v-160H180v160Zm440 0h160v-160H620v160ZM180-180h160v-160H180v160Zm440 0h160v-160H620v160Z\"/>\n",
       "  </svg>\n",
       "    </button>\n",
       "\n",
       "  <style>\n",
       "    .colab-df-container {\n",
       "      display:flex;\n",
       "      gap: 12px;\n",
       "    }\n",
       "\n",
       "    .colab-df-convert {\n",
       "      background-color: #E8F0FE;\n",
       "      border: none;\n",
       "      border-radius: 50%;\n",
       "      cursor: pointer;\n",
       "      display: none;\n",
       "      fill: #1967D2;\n",
       "      height: 32px;\n",
       "      padding: 0 0 0 0;\n",
       "      width: 32px;\n",
       "    }\n",
       "\n",
       "    .colab-df-convert:hover {\n",
       "      background-color: #E2EBFA;\n",
       "      box-shadow: 0px 1px 2px rgba(60, 64, 67, 0.3), 0px 1px 3px 1px rgba(60, 64, 67, 0.15);\n",
       "      fill: #174EA6;\n",
       "    }\n",
       "\n",
       "    .colab-df-buttons div {\n",
       "      margin-bottom: 4px;\n",
       "    }\n",
       "\n",
       "    [theme=dark] .colab-df-convert {\n",
       "      background-color: #3B4455;\n",
       "      fill: #D2E3FC;\n",
       "    }\n",
       "\n",
       "    [theme=dark] .colab-df-convert:hover {\n",
       "      background-color: #434B5C;\n",
       "      box-shadow: 0px 1px 3px 1px rgba(0, 0, 0, 0.15);\n",
       "      filter: drop-shadow(0px 1px 2px rgba(0, 0, 0, 0.3));\n",
       "      fill: #FFFFFF;\n",
       "    }\n",
       "  </style>\n",
       "\n",
       "    <script>\n",
       "      const buttonEl =\n",
       "        document.querySelector('#df-37dcd0a9-20e9-4908-9d2c-f9c6cfbb5cf3 button.colab-df-convert');\n",
       "      buttonEl.style.display =\n",
       "        google.colab.kernel.accessAllowed ? 'block' : 'none';\n",
       "\n",
       "      async function convertToInteractive(key) {\n",
       "        const element = document.querySelector('#df-37dcd0a9-20e9-4908-9d2c-f9c6cfbb5cf3');\n",
       "        const dataTable =\n",
       "          await google.colab.kernel.invokeFunction('convertToInteractive',\n",
       "                                                    [key], {});\n",
       "        if (!dataTable) return;\n",
       "\n",
       "        const docLinkHtml = 'Like what you see? Visit the ' +\n",
       "          '<a target=\"_blank\" href=https://colab.research.google.com/notebooks/data_table.ipynb>data table notebook</a>'\n",
       "          + ' to learn more about interactive tables.';\n",
       "        element.innerHTML = '';\n",
       "        dataTable['output_type'] = 'display_data';\n",
       "        await google.colab.output.renderOutput(dataTable, element);\n",
       "        const docLink = document.createElement('div');\n",
       "        docLink.innerHTML = docLinkHtml;\n",
       "        element.appendChild(docLink);\n",
       "      }\n",
       "    </script>\n",
       "  </div>\n",
       "\n",
       "\n",
       "<div id=\"df-4e6fd149-50fc-4af2-bfc6-e4e99a16277f\">\n",
       "  <button class=\"colab-df-quickchart\" onclick=\"quickchart('df-4e6fd149-50fc-4af2-bfc6-e4e99a16277f')\"\n",
       "            title=\"Suggest charts\"\n",
       "            style=\"display:none;\">\n",
       "\n",
       "<svg xmlns=\"http://www.w3.org/2000/svg\" height=\"24px\"viewBox=\"0 0 24 24\"\n",
       "     width=\"24px\">\n",
       "    <g>\n",
       "        <path d=\"M19 3H5c-1.1 0-2 .9-2 2v14c0 1.1.9 2 2 2h14c1.1 0 2-.9 2-2V5c0-1.1-.9-2-2-2zM9 17H7v-7h2v7zm4 0h-2V7h2v10zm4 0h-2v-4h2v4z\"/>\n",
       "    </g>\n",
       "</svg>\n",
       "  </button>\n",
       "\n",
       "<style>\n",
       "  .colab-df-quickchart {\n",
       "      --bg-color: #E8F0FE;\n",
       "      --fill-color: #1967D2;\n",
       "      --hover-bg-color: #E2EBFA;\n",
       "      --hover-fill-color: #174EA6;\n",
       "      --disabled-fill-color: #AAA;\n",
       "      --disabled-bg-color: #DDD;\n",
       "  }\n",
       "\n",
       "  [theme=dark] .colab-df-quickchart {\n",
       "      --bg-color: #3B4455;\n",
       "      --fill-color: #D2E3FC;\n",
       "      --hover-bg-color: #434B5C;\n",
       "      --hover-fill-color: #FFFFFF;\n",
       "      --disabled-bg-color: #3B4455;\n",
       "      --disabled-fill-color: #666;\n",
       "  }\n",
       "\n",
       "  .colab-df-quickchart {\n",
       "    background-color: var(--bg-color);\n",
       "    border: none;\n",
       "    border-radius: 50%;\n",
       "    cursor: pointer;\n",
       "    display: none;\n",
       "    fill: var(--fill-color);\n",
       "    height: 32px;\n",
       "    padding: 0;\n",
       "    width: 32px;\n",
       "  }\n",
       "\n",
       "  .colab-df-quickchart:hover {\n",
       "    background-color: var(--hover-bg-color);\n",
       "    box-shadow: 0 1px 2px rgba(60, 64, 67, 0.3), 0 1px 3px 1px rgba(60, 64, 67, 0.15);\n",
       "    fill: var(--button-hover-fill-color);\n",
       "  }\n",
       "\n",
       "  .colab-df-quickchart-complete:disabled,\n",
       "  .colab-df-quickchart-complete:disabled:hover {\n",
       "    background-color: var(--disabled-bg-color);\n",
       "    fill: var(--disabled-fill-color);\n",
       "    box-shadow: none;\n",
       "  }\n",
       "\n",
       "  .colab-df-spinner {\n",
       "    border: 2px solid var(--fill-color);\n",
       "    border-color: transparent;\n",
       "    border-bottom-color: var(--fill-color);\n",
       "    animation:\n",
       "      spin 1s steps(1) infinite;\n",
       "  }\n",
       "\n",
       "  @keyframes spin {\n",
       "    0% {\n",
       "      border-color: transparent;\n",
       "      border-bottom-color: var(--fill-color);\n",
       "      border-left-color: var(--fill-color);\n",
       "    }\n",
       "    20% {\n",
       "      border-color: transparent;\n",
       "      border-left-color: var(--fill-color);\n",
       "      border-top-color: var(--fill-color);\n",
       "    }\n",
       "    30% {\n",
       "      border-color: transparent;\n",
       "      border-left-color: var(--fill-color);\n",
       "      border-top-color: var(--fill-color);\n",
       "      border-right-color: var(--fill-color);\n",
       "    }\n",
       "    40% {\n",
       "      border-color: transparent;\n",
       "      border-right-color: var(--fill-color);\n",
       "      border-top-color: var(--fill-color);\n",
       "    }\n",
       "    60% {\n",
       "      border-color: transparent;\n",
       "      border-right-color: var(--fill-color);\n",
       "    }\n",
       "    80% {\n",
       "      border-color: transparent;\n",
       "      border-right-color: var(--fill-color);\n",
       "      border-bottom-color: var(--fill-color);\n",
       "    }\n",
       "    90% {\n",
       "      border-color: transparent;\n",
       "      border-bottom-color: var(--fill-color);\n",
       "    }\n",
       "  }\n",
       "</style>\n",
       "\n",
       "  <script>\n",
       "    async function quickchart(key) {\n",
       "      const quickchartButtonEl =\n",
       "        document.querySelector('#' + key + ' button');\n",
       "      quickchartButtonEl.disabled = true;  // To prevent multiple clicks.\n",
       "      quickchartButtonEl.classList.add('colab-df-spinner');\n",
       "      try {\n",
       "        const charts = await google.colab.kernel.invokeFunction(\n",
       "            'suggestCharts', [key], {});\n",
       "      } catch (error) {\n",
       "        console.error('Error during call to suggestCharts:', error);\n",
       "      }\n",
       "      quickchartButtonEl.classList.remove('colab-df-spinner');\n",
       "      quickchartButtonEl.classList.add('colab-df-quickchart-complete');\n",
       "    }\n",
       "    (() => {\n",
       "      let quickchartButtonEl =\n",
       "        document.querySelector('#df-4e6fd149-50fc-4af2-bfc6-e4e99a16277f button');\n",
       "      quickchartButtonEl.style.display =\n",
       "        google.colab.kernel.accessAllowed ? 'block' : 'none';\n",
       "    })();\n",
       "  </script>\n",
       "</div>\n",
       "\n",
       "    </div>\n",
       "  </div>\n"
      ],
      "application/vnd.google.colaboratory.intrinsic+json": {
       "type": "dataframe",
       "summary": "{\n  \"name\": \"pd\",\n  \"rows\": 6,\n  \"fields\": [\n    {\n      \"column\": \"gender_0\",\n      \"properties\": {\n        \"dtype\": \"boolean\",\n        \"num_unique_values\": 2,\n        \"samples\": [\n          true,\n          false\n        ],\n        \"semantic_type\": \"\",\n        \"description\": \"\"\n      }\n    },\n    {\n      \"column\": \"gender_1\",\n      \"properties\": {\n        \"dtype\": \"boolean\",\n        \"num_unique_values\": 2,\n        \"samples\": [\n          false,\n          true\n        ],\n        \"semantic_type\": \"\",\n        \"description\": \"\"\n      }\n    }\n  ]\n}"
      }
     },
     "metadata": {},
     "execution_count": 26
    }
   ]
  },
  {
   "cell_type": "code",
   "metadata": {
    "colab": {
     "base_uri": "https://localhost:8080/",
     "height": 237
    },
    "id": "2BaFp4QpT_mZ",
    "executionInfo": {
     "status": "ok",
     "timestamp": 1728723154639,
     "user_tz": -540,
     "elapsed": 30,
     "user": {
      "displayName": "Yongjin Jeong",
      "userId": "03658406798560557048"
     }
    },
    "outputId": "bd1863a0-596b-4519-de24-4dc0bd864393"
   },
   "source": [
    "pd.get_dummies(df['Gender'], prefix='gender')"
   ],
   "execution_count": 27,
   "outputs": [
    {
     "output_type": "execute_result",
     "data": {
      "text/plain": [
       "   gender_Female  gender_Male\n",
       "0          False         True\n",
       "1           True        False\n",
       "2          False         True\n",
       "3           True        False\n",
       "4          False         True\n",
       "5          False         True"
      ],
      "text/html": [
       "\n",
       "  <div id=\"df-6b5136e4-ca2f-46b5-88c9-4c61fbb00684\" class=\"colab-df-container\">\n",
       "    <div>\n",
       "<style scoped>\n",
       "    .dataframe tbody tr th:only-of-type {\n",
       "        vertical-align: middle;\n",
       "    }\n",
       "\n",
       "    .dataframe tbody tr th {\n",
       "        vertical-align: top;\n",
       "    }\n",
       "\n",
       "    .dataframe thead th {\n",
       "        text-align: right;\n",
       "    }\n",
       "</style>\n",
       "<table border=\"1\" class=\"dataframe\">\n",
       "  <thead>\n",
       "    <tr style=\"text-align: right;\">\n",
       "      <th></th>\n",
       "      <th>gender_Female</th>\n",
       "      <th>gender_Male</th>\n",
       "    </tr>\n",
       "  </thead>\n",
       "  <tbody>\n",
       "    <tr>\n",
       "      <th>0</th>\n",
       "      <td>False</td>\n",
       "      <td>True</td>\n",
       "    </tr>\n",
       "    <tr>\n",
       "      <th>1</th>\n",
       "      <td>True</td>\n",
       "      <td>False</td>\n",
       "    </tr>\n",
       "    <tr>\n",
       "      <th>2</th>\n",
       "      <td>False</td>\n",
       "      <td>True</td>\n",
       "    </tr>\n",
       "    <tr>\n",
       "      <th>3</th>\n",
       "      <td>True</td>\n",
       "      <td>False</td>\n",
       "    </tr>\n",
       "    <tr>\n",
       "      <th>4</th>\n",
       "      <td>False</td>\n",
       "      <td>True</td>\n",
       "    </tr>\n",
       "    <tr>\n",
       "      <th>5</th>\n",
       "      <td>False</td>\n",
       "      <td>True</td>\n",
       "    </tr>\n",
       "  </tbody>\n",
       "</table>\n",
       "</div>\n",
       "    <div class=\"colab-df-buttons\">\n",
       "\n",
       "  <div class=\"colab-df-container\">\n",
       "    <button class=\"colab-df-convert\" onclick=\"convertToInteractive('df-6b5136e4-ca2f-46b5-88c9-4c61fbb00684')\"\n",
       "            title=\"Convert this dataframe to an interactive table.\"\n",
       "            style=\"display:none;\">\n",
       "\n",
       "  <svg xmlns=\"http://www.w3.org/2000/svg\" height=\"24px\" viewBox=\"0 -960 960 960\">\n",
       "    <path d=\"M120-120v-720h720v720H120Zm60-500h600v-160H180v160Zm220 220h160v-160H400v160Zm0 220h160v-160H400v160ZM180-400h160v-160H180v160Zm440 0h160v-160H620v160ZM180-180h160v-160H180v160Zm440 0h160v-160H620v160Z\"/>\n",
       "  </svg>\n",
       "    </button>\n",
       "\n",
       "  <style>\n",
       "    .colab-df-container {\n",
       "      display:flex;\n",
       "      gap: 12px;\n",
       "    }\n",
       "\n",
       "    .colab-df-convert {\n",
       "      background-color: #E8F0FE;\n",
       "      border: none;\n",
       "      border-radius: 50%;\n",
       "      cursor: pointer;\n",
       "      display: none;\n",
       "      fill: #1967D2;\n",
       "      height: 32px;\n",
       "      padding: 0 0 0 0;\n",
       "      width: 32px;\n",
       "    }\n",
       "\n",
       "    .colab-df-convert:hover {\n",
       "      background-color: #E2EBFA;\n",
       "      box-shadow: 0px 1px 2px rgba(60, 64, 67, 0.3), 0px 1px 3px 1px rgba(60, 64, 67, 0.15);\n",
       "      fill: #174EA6;\n",
       "    }\n",
       "\n",
       "    .colab-df-buttons div {\n",
       "      margin-bottom: 4px;\n",
       "    }\n",
       "\n",
       "    [theme=dark] .colab-df-convert {\n",
       "      background-color: #3B4455;\n",
       "      fill: #D2E3FC;\n",
       "    }\n",
       "\n",
       "    [theme=dark] .colab-df-convert:hover {\n",
       "      background-color: #434B5C;\n",
       "      box-shadow: 0px 1px 3px 1px rgba(0, 0, 0, 0.15);\n",
       "      filter: drop-shadow(0px 1px 2px rgba(0, 0, 0, 0.3));\n",
       "      fill: #FFFFFF;\n",
       "    }\n",
       "  </style>\n",
       "\n",
       "    <script>\n",
       "      const buttonEl =\n",
       "        document.querySelector('#df-6b5136e4-ca2f-46b5-88c9-4c61fbb00684 button.colab-df-convert');\n",
       "      buttonEl.style.display =\n",
       "        google.colab.kernel.accessAllowed ? 'block' : 'none';\n",
       "\n",
       "      async function convertToInteractive(key) {\n",
       "        const element = document.querySelector('#df-6b5136e4-ca2f-46b5-88c9-4c61fbb00684');\n",
       "        const dataTable =\n",
       "          await google.colab.kernel.invokeFunction('convertToInteractive',\n",
       "                                                    [key], {});\n",
       "        if (!dataTable) return;\n",
       "\n",
       "        const docLinkHtml = 'Like what you see? Visit the ' +\n",
       "          '<a target=\"_blank\" href=https://colab.research.google.com/notebooks/data_table.ipynb>data table notebook</a>'\n",
       "          + ' to learn more about interactive tables.';\n",
       "        element.innerHTML = '';\n",
       "        dataTable['output_type'] = 'display_data';\n",
       "        await google.colab.output.renderOutput(dataTable, element);\n",
       "        const docLink = document.createElement('div');\n",
       "        docLink.innerHTML = docLinkHtml;\n",
       "        element.appendChild(docLink);\n",
       "      }\n",
       "    </script>\n",
       "  </div>\n",
       "\n",
       "\n",
       "<div id=\"df-405eba2c-602a-4490-a4df-e115a41bfd11\">\n",
       "  <button class=\"colab-df-quickchart\" onclick=\"quickchart('df-405eba2c-602a-4490-a4df-e115a41bfd11')\"\n",
       "            title=\"Suggest charts\"\n",
       "            style=\"display:none;\">\n",
       "\n",
       "<svg xmlns=\"http://www.w3.org/2000/svg\" height=\"24px\"viewBox=\"0 0 24 24\"\n",
       "     width=\"24px\">\n",
       "    <g>\n",
       "        <path d=\"M19 3H5c-1.1 0-2 .9-2 2v14c0 1.1.9 2 2 2h14c1.1 0 2-.9 2-2V5c0-1.1-.9-2-2-2zM9 17H7v-7h2v7zm4 0h-2V7h2v10zm4 0h-2v-4h2v4z\"/>\n",
       "    </g>\n",
       "</svg>\n",
       "  </button>\n",
       "\n",
       "<style>\n",
       "  .colab-df-quickchart {\n",
       "      --bg-color: #E8F0FE;\n",
       "      --fill-color: #1967D2;\n",
       "      --hover-bg-color: #E2EBFA;\n",
       "      --hover-fill-color: #174EA6;\n",
       "      --disabled-fill-color: #AAA;\n",
       "      --disabled-bg-color: #DDD;\n",
       "  }\n",
       "\n",
       "  [theme=dark] .colab-df-quickchart {\n",
       "      --bg-color: #3B4455;\n",
       "      --fill-color: #D2E3FC;\n",
       "      --hover-bg-color: #434B5C;\n",
       "      --hover-fill-color: #FFFFFF;\n",
       "      --disabled-bg-color: #3B4455;\n",
       "      --disabled-fill-color: #666;\n",
       "  }\n",
       "\n",
       "  .colab-df-quickchart {\n",
       "    background-color: var(--bg-color);\n",
       "    border: none;\n",
       "    border-radius: 50%;\n",
       "    cursor: pointer;\n",
       "    display: none;\n",
       "    fill: var(--fill-color);\n",
       "    height: 32px;\n",
       "    padding: 0;\n",
       "    width: 32px;\n",
       "  }\n",
       "\n",
       "  .colab-df-quickchart:hover {\n",
       "    background-color: var(--hover-bg-color);\n",
       "    box-shadow: 0 1px 2px rgba(60, 64, 67, 0.3), 0 1px 3px 1px rgba(60, 64, 67, 0.15);\n",
       "    fill: var(--button-hover-fill-color);\n",
       "  }\n",
       "\n",
       "  .colab-df-quickchart-complete:disabled,\n",
       "  .colab-df-quickchart-complete:disabled:hover {\n",
       "    background-color: var(--disabled-bg-color);\n",
       "    fill: var(--disabled-fill-color);\n",
       "    box-shadow: none;\n",
       "  }\n",
       "\n",
       "  .colab-df-spinner {\n",
       "    border: 2px solid var(--fill-color);\n",
       "    border-color: transparent;\n",
       "    border-bottom-color: var(--fill-color);\n",
       "    animation:\n",
       "      spin 1s steps(1) infinite;\n",
       "  }\n",
       "\n",
       "  @keyframes spin {\n",
       "    0% {\n",
       "      border-color: transparent;\n",
       "      border-bottom-color: var(--fill-color);\n",
       "      border-left-color: var(--fill-color);\n",
       "    }\n",
       "    20% {\n",
       "      border-color: transparent;\n",
       "      border-left-color: var(--fill-color);\n",
       "      border-top-color: var(--fill-color);\n",
       "    }\n",
       "    30% {\n",
       "      border-color: transparent;\n",
       "      border-left-color: var(--fill-color);\n",
       "      border-top-color: var(--fill-color);\n",
       "      border-right-color: var(--fill-color);\n",
       "    }\n",
       "    40% {\n",
       "      border-color: transparent;\n",
       "      border-right-color: var(--fill-color);\n",
       "      border-top-color: var(--fill-color);\n",
       "    }\n",
       "    60% {\n",
       "      border-color: transparent;\n",
       "      border-right-color: var(--fill-color);\n",
       "    }\n",
       "    80% {\n",
       "      border-color: transparent;\n",
       "      border-right-color: var(--fill-color);\n",
       "      border-bottom-color: var(--fill-color);\n",
       "    }\n",
       "    90% {\n",
       "      border-color: transparent;\n",
       "      border-bottom-color: var(--fill-color);\n",
       "    }\n",
       "  }\n",
       "</style>\n",
       "\n",
       "  <script>\n",
       "    async function quickchart(key) {\n",
       "      const quickchartButtonEl =\n",
       "        document.querySelector('#' + key + ' button');\n",
       "      quickchartButtonEl.disabled = true;  // To prevent multiple clicks.\n",
       "      quickchartButtonEl.classList.add('colab-df-spinner');\n",
       "      try {\n",
       "        const charts = await google.colab.kernel.invokeFunction(\n",
       "            'suggestCharts', [key], {});\n",
       "      } catch (error) {\n",
       "        console.error('Error during call to suggestCharts:', error);\n",
       "      }\n",
       "      quickchartButtonEl.classList.remove('colab-df-spinner');\n",
       "      quickchartButtonEl.classList.add('colab-df-quickchart-complete');\n",
       "    }\n",
       "    (() => {\n",
       "      let quickchartButtonEl =\n",
       "        document.querySelector('#df-405eba2c-602a-4490-a4df-e115a41bfd11 button');\n",
       "      quickchartButtonEl.style.display =\n",
       "        google.colab.kernel.accessAllowed ? 'block' : 'none';\n",
       "    })();\n",
       "  </script>\n",
       "</div>\n",
       "\n",
       "    </div>\n",
       "  </div>\n"
      ],
      "application/vnd.google.colaboratory.intrinsic+json": {
       "type": "dataframe",
       "summary": "{\n  \"name\": \"pd\",\n  \"rows\": 6,\n  \"fields\": [\n    {\n      \"column\": \"gender_Female\",\n      \"properties\": {\n        \"dtype\": \"boolean\",\n        \"num_unique_values\": 2,\n        \"samples\": [\n          true,\n          false\n        ],\n        \"semantic_type\": \"\",\n        \"description\": \"\"\n      }\n    },\n    {\n      \"column\": \"gender_Male\",\n      \"properties\": {\n        \"dtype\": \"boolean\",\n        \"num_unique_values\": 2,\n        \"samples\": [\n          false,\n          true\n        ],\n        \"semantic_type\": \"\",\n        \"description\": \"\"\n      }\n    }\n  ]\n}"
      }
     },
     "metadata": {},
     "execution_count": 27
    }
   ]
  },
  {
   "cell_type": "markdown",
   "metadata": {
    "id": "niDDILtHPppz"
   },
   "source": [
    "## Text Processing - CountVectorizer\n"
   ]
  },
  {
   "cell_type": "markdown",
   "metadata": {
    "id": "X5WPdb7QSCyq"
   },
   "source": [
    "- CountVectorizer\n",
    "  * Each column represents one word, count refers to frequency of the word\n",
    "  * Sequence of words are not maintained\n",
    "\n",
    "- Hyperparameters\n",
    "  * n_grams - Number of words considered for each column\n",
    "  * stop_words - words not considered\n",
    "  * vocabulary - only words considered\n"
   ]
  },
  {
   "cell_type": "code",
   "metadata": {
    "colab": {
     "base_uri": "https://localhost:8080/",
     "height": 175
    },
    "id": "MJrLiJOdPppz",
    "executionInfo": {
     "status": "ok",
     "timestamp": 1728723154639,
     "user_tz": -540,
     "elapsed": 28,
     "user": {
      "displayName": "Yongjin Jeong",
      "userId": "03658406798560557048"
     }
    },
    "outputId": "12ad755d-03b9-466c-c8aa-a8cb938a7404"
   },
   "source": [
    "corpus = [\n",
    "     'This is the first document awesome food.',\n",
    "     'This is the second second document.',\n",
    "     'And the third one the is mission impossible.',\n",
    "     'Is this the first document?',\n",
    "]\n",
    "df = pd.DataFrame({'Text':corpus})\n",
    "df"
   ],
   "execution_count": 28,
   "outputs": [
    {
     "output_type": "execute_result",
     "data": {
      "text/plain": [
       "                                           Text\n",
       "0      This is the first document awesome food.\n",
       "1           This is the second second document.\n",
       "2  And the third one the is mission impossible.\n",
       "3                   Is this the first document?"
      ],
      "text/html": [
       "\n",
       "  <div id=\"df-982e1adf-ef84-4f5e-85a5-af915cec28ba\" class=\"colab-df-container\">\n",
       "    <div>\n",
       "<style scoped>\n",
       "    .dataframe tbody tr th:only-of-type {\n",
       "        vertical-align: middle;\n",
       "    }\n",
       "\n",
       "    .dataframe tbody tr th {\n",
       "        vertical-align: top;\n",
       "    }\n",
       "\n",
       "    .dataframe thead th {\n",
       "        text-align: right;\n",
       "    }\n",
       "</style>\n",
       "<table border=\"1\" class=\"dataframe\">\n",
       "  <thead>\n",
       "    <tr style=\"text-align: right;\">\n",
       "      <th></th>\n",
       "      <th>Text</th>\n",
       "    </tr>\n",
       "  </thead>\n",
       "  <tbody>\n",
       "    <tr>\n",
       "      <th>0</th>\n",
       "      <td>This is the first document awesome food.</td>\n",
       "    </tr>\n",
       "    <tr>\n",
       "      <th>1</th>\n",
       "      <td>This is the second second document.</td>\n",
       "    </tr>\n",
       "    <tr>\n",
       "      <th>2</th>\n",
       "      <td>And the third one the is mission impossible.</td>\n",
       "    </tr>\n",
       "    <tr>\n",
       "      <th>3</th>\n",
       "      <td>Is this the first document?</td>\n",
       "    </tr>\n",
       "  </tbody>\n",
       "</table>\n",
       "</div>\n",
       "    <div class=\"colab-df-buttons\">\n",
       "\n",
       "  <div class=\"colab-df-container\">\n",
       "    <button class=\"colab-df-convert\" onclick=\"convertToInteractive('df-982e1adf-ef84-4f5e-85a5-af915cec28ba')\"\n",
       "            title=\"Convert this dataframe to an interactive table.\"\n",
       "            style=\"display:none;\">\n",
       "\n",
       "  <svg xmlns=\"http://www.w3.org/2000/svg\" height=\"24px\" viewBox=\"0 -960 960 960\">\n",
       "    <path d=\"M120-120v-720h720v720H120Zm60-500h600v-160H180v160Zm220 220h160v-160H400v160Zm0 220h160v-160H400v160ZM180-400h160v-160H180v160Zm440 0h160v-160H620v160ZM180-180h160v-160H180v160Zm440 0h160v-160H620v160Z\"/>\n",
       "  </svg>\n",
       "    </button>\n",
       "\n",
       "  <style>\n",
       "    .colab-df-container {\n",
       "      display:flex;\n",
       "      gap: 12px;\n",
       "    }\n",
       "\n",
       "    .colab-df-convert {\n",
       "      background-color: #E8F0FE;\n",
       "      border: none;\n",
       "      border-radius: 50%;\n",
       "      cursor: pointer;\n",
       "      display: none;\n",
       "      fill: #1967D2;\n",
       "      height: 32px;\n",
       "      padding: 0 0 0 0;\n",
       "      width: 32px;\n",
       "    }\n",
       "\n",
       "    .colab-df-convert:hover {\n",
       "      background-color: #E2EBFA;\n",
       "      box-shadow: 0px 1px 2px rgba(60, 64, 67, 0.3), 0px 1px 3px 1px rgba(60, 64, 67, 0.15);\n",
       "      fill: #174EA6;\n",
       "    }\n",
       "\n",
       "    .colab-df-buttons div {\n",
       "      margin-bottom: 4px;\n",
       "    }\n",
       "\n",
       "    [theme=dark] .colab-df-convert {\n",
       "      background-color: #3B4455;\n",
       "      fill: #D2E3FC;\n",
       "    }\n",
       "\n",
       "    [theme=dark] .colab-df-convert:hover {\n",
       "      background-color: #434B5C;\n",
       "      box-shadow: 0px 1px 3px 1px rgba(0, 0, 0, 0.15);\n",
       "      filter: drop-shadow(0px 1px 2px rgba(0, 0, 0, 0.3));\n",
       "      fill: #FFFFFF;\n",
       "    }\n",
       "  </style>\n",
       "\n",
       "    <script>\n",
       "      const buttonEl =\n",
       "        document.querySelector('#df-982e1adf-ef84-4f5e-85a5-af915cec28ba button.colab-df-convert');\n",
       "      buttonEl.style.display =\n",
       "        google.colab.kernel.accessAllowed ? 'block' : 'none';\n",
       "\n",
       "      async function convertToInteractive(key) {\n",
       "        const element = document.querySelector('#df-982e1adf-ef84-4f5e-85a5-af915cec28ba');\n",
       "        const dataTable =\n",
       "          await google.colab.kernel.invokeFunction('convertToInteractive',\n",
       "                                                    [key], {});\n",
       "        if (!dataTable) return;\n",
       "\n",
       "        const docLinkHtml = 'Like what you see? Visit the ' +\n",
       "          '<a target=\"_blank\" href=https://colab.research.google.com/notebooks/data_table.ipynb>data table notebook</a>'\n",
       "          + ' to learn more about interactive tables.';\n",
       "        element.innerHTML = '';\n",
       "        dataTable['output_type'] = 'display_data';\n",
       "        await google.colab.output.renderOutput(dataTable, element);\n",
       "        const docLink = document.createElement('div');\n",
       "        docLink.innerHTML = docLinkHtml;\n",
       "        element.appendChild(docLink);\n",
       "      }\n",
       "    </script>\n",
       "  </div>\n",
       "\n",
       "\n",
       "<div id=\"df-2dfea3b8-cf7c-4829-9968-5f4693cc587e\">\n",
       "  <button class=\"colab-df-quickchart\" onclick=\"quickchart('df-2dfea3b8-cf7c-4829-9968-5f4693cc587e')\"\n",
       "            title=\"Suggest charts\"\n",
       "            style=\"display:none;\">\n",
       "\n",
       "<svg xmlns=\"http://www.w3.org/2000/svg\" height=\"24px\"viewBox=\"0 0 24 24\"\n",
       "     width=\"24px\">\n",
       "    <g>\n",
       "        <path d=\"M19 3H5c-1.1 0-2 .9-2 2v14c0 1.1.9 2 2 2h14c1.1 0 2-.9 2-2V5c0-1.1-.9-2-2-2zM9 17H7v-7h2v7zm4 0h-2V7h2v10zm4 0h-2v-4h2v4z\"/>\n",
       "    </g>\n",
       "</svg>\n",
       "  </button>\n",
       "\n",
       "<style>\n",
       "  .colab-df-quickchart {\n",
       "      --bg-color: #E8F0FE;\n",
       "      --fill-color: #1967D2;\n",
       "      --hover-bg-color: #E2EBFA;\n",
       "      --hover-fill-color: #174EA6;\n",
       "      --disabled-fill-color: #AAA;\n",
       "      --disabled-bg-color: #DDD;\n",
       "  }\n",
       "\n",
       "  [theme=dark] .colab-df-quickchart {\n",
       "      --bg-color: #3B4455;\n",
       "      --fill-color: #D2E3FC;\n",
       "      --hover-bg-color: #434B5C;\n",
       "      --hover-fill-color: #FFFFFF;\n",
       "      --disabled-bg-color: #3B4455;\n",
       "      --disabled-fill-color: #666;\n",
       "  }\n",
       "\n",
       "  .colab-df-quickchart {\n",
       "    background-color: var(--bg-color);\n",
       "    border: none;\n",
       "    border-radius: 50%;\n",
       "    cursor: pointer;\n",
       "    display: none;\n",
       "    fill: var(--fill-color);\n",
       "    height: 32px;\n",
       "    padding: 0;\n",
       "    width: 32px;\n",
       "  }\n",
       "\n",
       "  .colab-df-quickchart:hover {\n",
       "    background-color: var(--hover-bg-color);\n",
       "    box-shadow: 0 1px 2px rgba(60, 64, 67, 0.3), 0 1px 3px 1px rgba(60, 64, 67, 0.15);\n",
       "    fill: var(--button-hover-fill-color);\n",
       "  }\n",
       "\n",
       "  .colab-df-quickchart-complete:disabled,\n",
       "  .colab-df-quickchart-complete:disabled:hover {\n",
       "    background-color: var(--disabled-bg-color);\n",
       "    fill: var(--disabled-fill-color);\n",
       "    box-shadow: none;\n",
       "  }\n",
       "\n",
       "  .colab-df-spinner {\n",
       "    border: 2px solid var(--fill-color);\n",
       "    border-color: transparent;\n",
       "    border-bottom-color: var(--fill-color);\n",
       "    animation:\n",
       "      spin 1s steps(1) infinite;\n",
       "  }\n",
       "\n",
       "  @keyframes spin {\n",
       "    0% {\n",
       "      border-color: transparent;\n",
       "      border-bottom-color: var(--fill-color);\n",
       "      border-left-color: var(--fill-color);\n",
       "    }\n",
       "    20% {\n",
       "      border-color: transparent;\n",
       "      border-left-color: var(--fill-color);\n",
       "      border-top-color: var(--fill-color);\n",
       "    }\n",
       "    30% {\n",
       "      border-color: transparent;\n",
       "      border-left-color: var(--fill-color);\n",
       "      border-top-color: var(--fill-color);\n",
       "      border-right-color: var(--fill-color);\n",
       "    }\n",
       "    40% {\n",
       "      border-color: transparent;\n",
       "      border-right-color: var(--fill-color);\n",
       "      border-top-color: var(--fill-color);\n",
       "    }\n",
       "    60% {\n",
       "      border-color: transparent;\n",
       "      border-right-color: var(--fill-color);\n",
       "    }\n",
       "    80% {\n",
       "      border-color: transparent;\n",
       "      border-right-color: var(--fill-color);\n",
       "      border-bottom-color: var(--fill-color);\n",
       "    }\n",
       "    90% {\n",
       "      border-color: transparent;\n",
       "      border-bottom-color: var(--fill-color);\n",
       "    }\n",
       "  }\n",
       "</style>\n",
       "\n",
       "  <script>\n",
       "    async function quickchart(key) {\n",
       "      const quickchartButtonEl =\n",
       "        document.querySelector('#' + key + ' button');\n",
       "      quickchartButtonEl.disabled = true;  // To prevent multiple clicks.\n",
       "      quickchartButtonEl.classList.add('colab-df-spinner');\n",
       "      try {\n",
       "        const charts = await google.colab.kernel.invokeFunction(\n",
       "            'suggestCharts', [key], {});\n",
       "      } catch (error) {\n",
       "        console.error('Error during call to suggestCharts:', error);\n",
       "      }\n",
       "      quickchartButtonEl.classList.remove('colab-df-spinner');\n",
       "      quickchartButtonEl.classList.add('colab-df-quickchart-complete');\n",
       "    }\n",
       "    (() => {\n",
       "      let quickchartButtonEl =\n",
       "        document.querySelector('#df-2dfea3b8-cf7c-4829-9968-5f4693cc587e button');\n",
       "      quickchartButtonEl.style.display =\n",
       "        google.colab.kernel.accessAllowed ? 'block' : 'none';\n",
       "    })();\n",
       "  </script>\n",
       "</div>\n",
       "\n",
       "  <div id=\"id_37a68edb-1c88-43df-aef3-2a10aa8eb063\">\n",
       "    <style>\n",
       "      .colab-df-generate {\n",
       "        background-color: #E8F0FE;\n",
       "        border: none;\n",
       "        border-radius: 50%;\n",
       "        cursor: pointer;\n",
       "        display: none;\n",
       "        fill: #1967D2;\n",
       "        height: 32px;\n",
       "        padding: 0 0 0 0;\n",
       "        width: 32px;\n",
       "      }\n",
       "\n",
       "      .colab-df-generate:hover {\n",
       "        background-color: #E2EBFA;\n",
       "        box-shadow: 0px 1px 2px rgba(60, 64, 67, 0.3), 0px 1px 3px 1px rgba(60, 64, 67, 0.15);\n",
       "        fill: #174EA6;\n",
       "      }\n",
       "\n",
       "      [theme=dark] .colab-df-generate {\n",
       "        background-color: #3B4455;\n",
       "        fill: #D2E3FC;\n",
       "      }\n",
       "\n",
       "      [theme=dark] .colab-df-generate:hover {\n",
       "        background-color: #434B5C;\n",
       "        box-shadow: 0px 1px 3px 1px rgba(0, 0, 0, 0.15);\n",
       "        filter: drop-shadow(0px 1px 2px rgba(0, 0, 0, 0.3));\n",
       "        fill: #FFFFFF;\n",
       "      }\n",
       "    </style>\n",
       "    <button class=\"colab-df-generate\" onclick=\"generateWithVariable('df')\"\n",
       "            title=\"Generate code using this dataframe.\"\n",
       "            style=\"display:none;\">\n",
       "\n",
       "  <svg xmlns=\"http://www.w3.org/2000/svg\" height=\"24px\"viewBox=\"0 0 24 24\"\n",
       "       width=\"24px\">\n",
       "    <path d=\"M7,19H8.4L18.45,9,17,7.55,7,17.6ZM5,21V16.75L18.45,3.32a2,2,0,0,1,2.83,0l1.4,1.43a1.91,1.91,0,0,1,.58,1.4,1.91,1.91,0,0,1-.58,1.4L9.25,21ZM18.45,9,17,7.55Zm-12,3A5.31,5.31,0,0,0,4.9,8.1,5.31,5.31,0,0,0,1,6.5,5.31,5.31,0,0,0,4.9,4.9,5.31,5.31,0,0,0,6.5,1,5.31,5.31,0,0,0,8.1,4.9,5.31,5.31,0,0,0,12,6.5,5.46,5.46,0,0,0,6.5,12Z\"/>\n",
       "  </svg>\n",
       "    </button>\n",
       "    <script>\n",
       "      (() => {\n",
       "      const buttonEl =\n",
       "        document.querySelector('#id_37a68edb-1c88-43df-aef3-2a10aa8eb063 button.colab-df-generate');\n",
       "      buttonEl.style.display =\n",
       "        google.colab.kernel.accessAllowed ? 'block' : 'none';\n",
       "\n",
       "      buttonEl.onclick = () => {\n",
       "        google.colab.notebook.generateWithVariable('df');\n",
       "      }\n",
       "      })();\n",
       "    </script>\n",
       "  </div>\n",
       "\n",
       "    </div>\n",
       "  </div>\n"
      ],
      "application/vnd.google.colaboratory.intrinsic+json": {
       "type": "dataframe",
       "variable_name": "df",
       "summary": "{\n  \"name\": \"df\",\n  \"rows\": 4,\n  \"fields\": [\n    {\n      \"column\": \"Text\",\n      \"properties\": {\n        \"dtype\": \"string\",\n        \"num_unique_values\": 4,\n        \"samples\": [\n          \"This is the second second document.\",\n          \"Is this the first document?\",\n          \"This is the first document awesome food.\"\n        ],\n        \"semantic_type\": \"\",\n        \"description\": \"\"\n      }\n    }\n  ]\n}"
      }
     },
     "metadata": {},
     "execution_count": 28
    }
   ]
  },
  {
   "cell_type": "code",
   "metadata": {
    "id": "LtvDDvtyPpp0",
    "executionInfo": {
     "status": "ok",
     "timestamp": 1728723154639,
     "user_tz": -540,
     "elapsed": 25,
     "user": {
      "displayName": "Yongjin Jeong",
      "userId": "03658406798560557048"
     }
    }
   },
   "source": [
    "from sklearn.feature_extraction.text import CountVectorizer\n",
    "cv = CountVectorizer()"
   ],
   "execution_count": 29,
   "outputs": []
  },
  {
   "cell_type": "code",
   "metadata": {
    "colab": {
     "base_uri": "https://localhost:8080/"
    },
    "id": "zu1wkAgUPpp0",
    "executionInfo": {
     "status": "ok",
     "timestamp": 1728723154639,
     "user_tz": -540,
     "elapsed": 25,
     "user": {
      "displayName": "Yongjin Jeong",
      "userId": "03658406798560557048"
     }
    },
    "outputId": "27affee3-15d8-404a-c83e-12a5dff131f5"
   },
   "source": [
    "cv.fit_transform(df.Text)"
   ],
   "execution_count": 30,
   "outputs": [
    {
     "output_type": "execute_result",
     "data": {
      "text/plain": [
       "<4x13 sparse matrix of type '<class 'numpy.int64'>'\n",
       "\twith 24 stored elements in Compressed Sparse Row format>"
      ]
     },
     "metadata": {},
     "execution_count": 30
    }
   ]
  },
  {
   "cell_type": "code",
   "metadata": {
    "colab": {
     "base_uri": "https://localhost:8080/"
    },
    "id": "uYggmyaFPpp0",
    "executionInfo": {
     "status": "ok",
     "timestamp": 1728723154639,
     "user_tz": -540,
     "elapsed": 23,
     "user": {
      "displayName": "Yongjin Jeong",
      "userId": "03658406798560557048"
     }
    },
    "outputId": "303b5ae4-2d9b-4879-b251-c8f3216500ae"
   },
   "source": [
    "cv.fit_transform(df.Text).toarray()"
   ],
   "execution_count": 31,
   "outputs": [
    {
     "output_type": "execute_result",
     "data": {
      "text/plain": [
       "array([[0, 1, 1, 1, 1, 0, 1, 0, 0, 0, 1, 0, 1],\n",
       "       [0, 0, 1, 0, 0, 0, 1, 0, 0, 2, 1, 0, 1],\n",
       "       [1, 0, 0, 0, 0, 1, 1, 1, 1, 0, 2, 1, 0],\n",
       "       [0, 0, 1, 1, 0, 0, 1, 0, 0, 0, 1, 0, 1]])"
      ]
     },
     "metadata": {},
     "execution_count": 31
    }
   ]
  },
  {
   "cell_type": "code",
   "metadata": {
    "colab": {
     "base_uri": "https://localhost:8080/"
    },
    "id": "U_0jPL_4Ppp0",
    "executionInfo": {
     "status": "ok",
     "timestamp": 1728723154639,
     "user_tz": -540,
     "elapsed": 20,
     "user": {
      "displayName": "Yongjin Jeong",
      "userId": "03658406798560557048"
     }
    },
    "outputId": "011a8c3c-ee59-4993-e391-3a8f47d6cb27"
   },
   "source": [
    "cv.get_feature_names_out()"
   ],
   "execution_count": 32,
   "outputs": [
    {
     "output_type": "execute_result",
     "data": {
      "text/plain": [
       "array(['and', 'awesome', 'document', 'first', 'food', 'impossible', 'is',\n",
       "       'mission', 'one', 'second', 'the', 'third', 'this'], dtype=object)"
      ]
     },
     "metadata": {},
     "execution_count": 32
    }
   ]
  },
  {
   "cell_type": "code",
   "metadata": {
    "colab": {
     "base_uri": "https://localhost:8080/"
    },
    "id": "j_7tHDHjPpp0",
    "executionInfo": {
     "status": "ok",
     "timestamp": 1728723154640,
     "user_tz": -540,
     "elapsed": 18,
     "user": {
      "displayName": "Yongjin Jeong",
      "userId": "03658406798560557048"
     }
    },
    "outputId": "df449857-00f2-492f-abc3-3697d8f4d0ad"
   },
   "source": [
    "cv.vocabulary_"
   ],
   "execution_count": 33,
   "outputs": [
    {
     "output_type": "execute_result",
     "data": {
      "text/plain": [
       "{'this': 12,\n",
       " 'is': 6,\n",
       " 'the': 10,\n",
       " 'first': 3,\n",
       " 'document': 2,\n",
       " 'awesome': 1,\n",
       " 'food': 4,\n",
       " 'second': 9,\n",
       " 'and': 0,\n",
       " 'third': 11,\n",
       " 'one': 8,\n",
       " 'mission': 7,\n",
       " 'impossible': 5}"
      ]
     },
     "metadata": {},
     "execution_count": 33
    }
   ]
  },
  {
   "cell_type": "code",
   "metadata": {
    "colab": {
     "base_uri": "https://localhost:8080/"
    },
    "id": "pcZrKpVRPpp1",
    "executionInfo": {
     "status": "ok",
     "timestamp": 1728723154640,
     "user_tz": -540,
     "elapsed": 16,
     "user": {
      "displayName": "Yongjin Jeong",
      "userId": "03658406798560557048"
     }
    },
    "outputId": "d9d8feb9-e3b8-4d67-e78d-9917ec935629"
   },
   "source": [
    "cv = CountVectorizer(stop_words=['the','is', 'this', 'and', 'one'])\n",
    "cv.fit_transform(df.Text).toarray()"
   ],
   "execution_count": 34,
   "outputs": [
    {
     "output_type": "execute_result",
     "data": {
      "text/plain": [
       "array([[1, 1, 1, 1, 0, 0, 0, 0],\n",
       "       [0, 1, 0, 0, 0, 0, 2, 0],\n",
       "       [0, 0, 0, 0, 1, 1, 0, 1],\n",
       "       [0, 1, 1, 0, 0, 0, 0, 0]])"
      ]
     },
     "metadata": {},
     "execution_count": 34
    }
   ]
  },
  {
   "cell_type": "code",
   "metadata": {
    "colab": {
     "base_uri": "https://localhost:8080/"
    },
    "id": "sNW-ZJ3BPpp1",
    "executionInfo": {
     "status": "ok",
     "timestamp": 1728723155300,
     "user_tz": -540,
     "elapsed": 673,
     "user": {
      "displayName": "Yongjin Jeong",
      "userId": "03658406798560557048"
     }
    },
    "outputId": "26ce98a9-043b-476d-82fb-cc18577846af"
   },
   "source": [
    "cv.vocabulary_"
   ],
   "execution_count": 35,
   "outputs": [
    {
     "output_type": "execute_result",
     "data": {
      "text/plain": [
       "{'first': 2,\n",
       " 'document': 1,\n",
       " 'awesome': 0,\n",
       " 'food': 3,\n",
       " 'second': 6,\n",
       " 'third': 7,\n",
       " 'mission': 5,\n",
       " 'impossible': 4}"
      ]
     },
     "metadata": {},
     "execution_count": 35
    }
   ]
  },
  {
   "cell_type": "code",
   "metadata": {
    "colab": {
     "base_uri": "https://localhost:8080/"
    },
    "id": "vpZtlZqHPpp1",
    "executionInfo": {
     "status": "ok",
     "timestamp": 1728723155300,
     "user_tz": -540,
     "elapsed": 21,
     "user": {
      "displayName": "Yongjin Jeong",
      "userId": "03658406798560557048"
     }
    },
    "outputId": "f7c5faf9-89da-42d1-fce8-8b7b54ea645f"
   },
   "source": [
    "cv = CountVectorizer(vocabulary=['mission','food','second'])\n",
    "cv.fit_transform(df.Text).toarray()\n",
    "cv.vocabulary_"
   ],
   "execution_count": 36,
   "outputs": [
    {
     "output_type": "execute_result",
     "data": {
      "text/plain": [
       "{'mission': 0, 'food': 1, 'second': 2}"
      ]
     },
     "metadata": {},
     "execution_count": 36
    }
   ]
  },
  {
   "cell_type": "code",
   "metadata": {
    "colab": {
     "base_uri": "https://localhost:8080/"
    },
    "id": "rOOIOUa0Ppp1",
    "executionInfo": {
     "status": "ok",
     "timestamp": 1728723155300,
     "user_tz": -540,
     "elapsed": 19,
     "user": {
      "displayName": "Yongjin Jeong",
      "userId": "03658406798560557048"
     }
    },
    "outputId": "a620fb66-6319-401a-a4f7-455c0935ce15"
   },
   "source": [
    "cv = CountVectorizer(ngram_range=(1,2))\n",
    "cv.fit_transform(df.Text).toarray()"
   ],
   "execution_count": 37,
   "outputs": [
    {
     "output_type": "execute_result",
     "data": {
      "text/plain": [
       "array([[0, 0, 1, 1, 1, 1, 1, 1, 1, 0, 1, 0, 1, 0, 0, 0, 0, 0, 0, 0, 0, 1,\n",
       "        1, 0, 0, 0, 0, 0, 1, 1, 0],\n",
       "       [0, 0, 0, 0, 1, 0, 0, 0, 0, 0, 1, 0, 1, 0, 0, 0, 0, 0, 2, 1, 1, 1,\n",
       "        0, 0, 1, 0, 0, 0, 1, 1, 0],\n",
       "       [1, 1, 0, 0, 0, 0, 0, 0, 0, 1, 1, 1, 0, 0, 1, 1, 1, 1, 0, 0, 0, 2,\n",
       "        0, 1, 0, 1, 1, 1, 0, 0, 0],\n",
       "       [0, 0, 0, 0, 1, 0, 1, 1, 0, 0, 1, 0, 0, 1, 0, 0, 0, 0, 0, 0, 0, 1,\n",
       "        1, 0, 0, 0, 0, 0, 1, 0, 1]])"
      ]
     },
     "metadata": {},
     "execution_count": 37
    }
   ]
  },
  {
   "cell_type": "code",
   "metadata": {
    "colab": {
     "base_uri": "https://localhost:8080/"
    },
    "id": "MGseLHSGPpp1",
    "executionInfo": {
     "status": "ok",
     "timestamp": 1728723155300,
     "user_tz": -540,
     "elapsed": 17,
     "user": {
      "displayName": "Yongjin Jeong",
      "userId": "03658406798560557048"
     }
    },
    "outputId": "55f3f574-280e-4e66-ee66-04dc534a6e2e"
   },
   "source": [
    "cv.vocabulary_, len(cv.vocabulary_)"
   ],
   "execution_count": 38,
   "outputs": [
    {
     "output_type": "execute_result",
     "data": {
      "text/plain": [
       "({'this': 28,\n",
       "  'is': 10,\n",
       "  'the': 21,\n",
       "  'first': 6,\n",
       "  'document': 4,\n",
       "  'awesome': 2,\n",
       "  'food': 8,\n",
       "  'this is': 29,\n",
       "  'is the': 12,\n",
       "  'the first': 22,\n",
       "  'first document': 7,\n",
       "  'document awesome': 5,\n",
       "  'awesome food': 3,\n",
       "  'second': 18,\n",
       "  'the second': 24,\n",
       "  'second second': 20,\n",
       "  'second document': 19,\n",
       "  'and': 0,\n",
       "  'third': 26,\n",
       "  'one': 16,\n",
       "  'mission': 14,\n",
       "  'impossible': 9,\n",
       "  'and the': 1,\n",
       "  'the third': 25,\n",
       "  'third one': 27,\n",
       "  'one the': 17,\n",
       "  'the is': 23,\n",
       "  'is mission': 11,\n",
       "  'mission impossible': 15,\n",
       "  'is this': 13,\n",
       "  'this the': 30},\n",
       " 31)"
      ]
     },
     "metadata": {},
     "execution_count": 38
    }
   ]
  },
  {
   "cell_type": "code",
   "metadata": {
    "colab": {
     "base_uri": "https://localhost:8080/"
    },
    "id": "yENF_wJBPpp1",
    "executionInfo": {
     "status": "ok",
     "timestamp": 1728723155301,
     "user_tz": -540,
     "elapsed": 15,
     "user": {
      "displayName": "Yongjin Jeong",
      "userId": "03658406798560557048"
     }
    },
    "outputId": "39e6e336-7570-4924-9b3c-6a608680b35d"
   },
   "source": [
    "cv = CountVectorizer(ngram_range=(1,2), stop_words='english')\n",
    "# stop_words: Stop Words 는 문서에서 단어장을 생성할 때 무시할 수 있는 단어를 말한다.\n",
    "# 보통 영어의 관사나 접속사, 한국어의 조사 등이 여기에 해당한다.\n",
    "cv.fit_transform(df.Text).toarray()"
   ],
   "execution_count": 39,
   "outputs": [
    {
     "output_type": "execute_result",
     "data": {
      "text/plain": [
       "array([[1, 1, 1, 1, 1, 0, 0, 0, 0, 0, 0],\n",
       "       [0, 0, 1, 0, 0, 0, 0, 0, 2, 1, 1],\n",
       "       [0, 0, 0, 0, 0, 1, 1, 1, 0, 0, 0],\n",
       "       [0, 0, 1, 0, 0, 0, 0, 0, 0, 0, 0]])"
      ]
     },
     "metadata": {},
     "execution_count": 39
    }
   ]
  },
  {
   "cell_type": "code",
   "metadata": {
    "colab": {
     "base_uri": "https://localhost:8080/"
    },
    "id": "-zTDtFvTPpp2",
    "executionInfo": {
     "status": "ok",
     "timestamp": 1728723155301,
     "user_tz": -540,
     "elapsed": 12,
     "user": {
      "displayName": "Yongjin Jeong",
      "userId": "03658406798560557048"
     }
    },
    "outputId": "104e45f0-508d-4425-92b5-dbd039113376"
   },
   "source": [
    "cv.vocabulary_"
   ],
   "execution_count": 40,
   "outputs": [
    {
     "output_type": "execute_result",
     "data": {
      "text/plain": [
       "{'document': 2,\n",
       " 'awesome': 0,\n",
       " 'food': 4,\n",
       " 'document awesome': 3,\n",
       " 'awesome food': 1,\n",
       " 'second': 8,\n",
       " 'second second': 10,\n",
       " 'second document': 9,\n",
       " 'mission': 6,\n",
       " 'impossible': 5,\n",
       " 'mission impossible': 7}"
      ]
     },
     "metadata": {},
     "execution_count": 40
    }
   ]
  },
  {
   "cell_type": "markdown",
   "metadata": {
    "id": "wWk2eUiiPpp2"
   },
   "source": [
    "## Text Processing - TfIdfVectorizer\n",
    "* Words occuring more frequently in a doc versus entire corpus is considered more important\n",
    "* The importance is in scale of 0 & 1"
   ]
  },
  {
   "cell_type": "code",
   "metadata": {
    "id": "60iyui8APpp2",
    "executionInfo": {
     "status": "ok",
     "timestamp": 1728723155301,
     "user_tz": -540,
     "elapsed": 9,
     "user": {
      "displayName": "Yongjin Jeong",
      "userId": "03658406798560557048"
     }
    }
   },
   "source": [
    "from sklearn.feature_extraction.text import TfidfVectorizer\n",
    "vectorizer1 = CountVectorizer(stop_words='english')\n",
    "vectorizer2 = TfidfVectorizer(stop_words='english')\n",
    "# a built-in stop word list for English is used."
   ],
   "execution_count": 41,
   "outputs": []
  },
  {
   "cell_type": "code",
   "metadata": {
    "colab": {
     "base_uri": "https://localhost:8080/"
    },
    "id": "FTRHFE8HPpp2",
    "executionInfo": {
     "status": "ok",
     "timestamp": 1728723155301,
     "user_tz": -540,
     "elapsed": 8,
     "user": {
      "displayName": "Yongjin Jeong",
      "userId": "03658406798560557048"
     }
    },
    "outputId": "233d24ee-cbf8-4b95-b71b-924398ec48d1"
   },
   "source": [
    "vectorizer1.fit_transform(df.Text).toarray().round(2)"
   ],
   "execution_count": 42,
   "outputs": [
    {
     "output_type": "execute_result",
     "data": {
      "text/plain": [
       "array([[1, 1, 1, 0, 0, 0],\n",
       "       [0, 1, 0, 0, 0, 2],\n",
       "       [0, 0, 0, 1, 1, 0],\n",
       "       [0, 1, 0, 0, 0, 0]])"
      ]
     },
     "metadata": {},
     "execution_count": 42
    }
   ]
  },
  {
   "cell_type": "code",
   "metadata": {
    "colab": {
     "base_uri": "https://localhost:8080/"
    },
    "id": "1QPNoJ1HPpp2",
    "executionInfo": {
     "status": "ok",
     "timestamp": 1728723155970,
     "user_tz": -540,
     "elapsed": 674,
     "user": {
      "displayName": "Yongjin Jeong",
      "userId": "03658406798560557048"
     }
    },
    "outputId": "072f6650-b6a7-40e1-e416-631f8defd45b"
   },
   "source": [
    "vectorizer2.fit_transform(df.Text).toarray().round(2)"
   ],
   "execution_count": 43,
   "outputs": [
    {
     "output_type": "execute_result",
     "data": {
      "text/plain": [
       "array([[0.64, 0.41, 0.64, 0.  , 0.  , 0.  ],\n",
       "       [0.  , 0.3 , 0.  , 0.  , 0.  , 0.95],\n",
       "       [0.  , 0.  , 0.  , 0.71, 0.71, 0.  ],\n",
       "       [0.  , 1.  , 0.  , 0.  , 0.  , 0.  ]])"
      ]
     },
     "metadata": {},
     "execution_count": 43
    }
   ]
  },
  {
   "cell_type": "code",
   "metadata": {
    "colab": {
     "base_uri": "https://localhost:8080/"
    },
    "id": "CRGkpqWrPpp2",
    "executionInfo": {
     "status": "ok",
     "timestamp": 1728723155970,
     "user_tz": -540,
     "elapsed": 18,
     "user": {
      "displayName": "Yongjin Jeong",
      "userId": "03658406798560557048"
     }
    },
    "outputId": "5fadaa77-39db-4ca6-d9a4-0461569220d6"
   },
   "source": [
    "vectorizer1.get_feature_names_out()"
   ],
   "execution_count": 44,
   "outputs": [
    {
     "output_type": "execute_result",
     "data": {
      "text/plain": [
       "array(['awesome', 'document', 'food', 'impossible', 'mission', 'second'],\n",
       "      dtype=object)"
      ]
     },
     "metadata": {},
     "execution_count": 44
    }
   ]
  },
  {
   "cell_type": "code",
   "metadata": {
    "colab": {
     "base_uri": "https://localhost:8080/"
    },
    "id": "J4erqTzBPpp3",
    "executionInfo": {
     "status": "ok",
     "timestamp": 1728723155970,
     "user_tz": -540,
     "elapsed": 15,
     "user": {
      "displayName": "Yongjin Jeong",
      "userId": "03658406798560557048"
     }
    },
    "outputId": "d07d7863-cd31-4731-c30f-501ce9860c74"
   },
   "source": [
    "vectorizer2.get_feature_names_out()"
   ],
   "execution_count": 45,
   "outputs": [
    {
     "output_type": "execute_result",
     "data": {
      "text/plain": [
       "array(['awesome', 'document', 'food', 'impossible', 'mission', 'second'],\n",
       "      dtype=object)"
      ]
     },
     "metadata": {},
     "execution_count": 45
    }
   ]
  },
  {
   "cell_type": "code",
   "metadata": {
    "colab": {
     "base_uri": "https://localhost:8080/"
    },
    "id": "ieKSqKiUPpp3",
    "executionInfo": {
     "status": "ok",
     "timestamp": 1728723155970,
     "user_tz": -540,
     "elapsed": 12,
     "user": {
      "displayName": "Yongjin Jeong",
      "userId": "03658406798560557048"
     }
    },
    "outputId": "46295c4c-3175-4758-9b28-e9da4c8d4c96"
   },
   "source": [
    "vectorizer2.vocabulary_"
   ],
   "execution_count": 46,
   "outputs": [
    {
     "output_type": "execute_result",
     "data": {
      "text/plain": [
       "{'document': 1,\n",
       " 'awesome': 0,\n",
       " 'food': 2,\n",
       " 'second': 5,\n",
       " 'mission': 4,\n",
       " 'impossible': 3}"
      ]
     },
     "metadata": {},
     "execution_count": 46
    }
   ]
  },
  {
   "cell_type": "markdown",
   "source": [
    "# Exercise"
   ],
   "metadata": {
    "id": "gaoD4jZ50o7a"
   }
  },
  {
   "cell_type": "markdown",
   "source": [
    "- normalization\n",
    "   - Each sample (i.e. `each row` of the data matrix) with t least one non zero component is rescaled independently of other samples so that its norm (l1, l2 or inf) equals one.\n",
    "   - normalized vector is ***y=x/z*** for the following z."
   ],
   "metadata": {
    "id": "CkNnWADrPpp3"
   }
  },
  {
   "cell_type": "markdown",
   "source": [
    "![image.png](data:image/png;base64,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)"
   ],
   "metadata": {
    "id": "jA6bkpxr6qeE"
   }
  },
  {
   "cell_type": "code",
   "source": [
    "from sklearn.preprocessing import normalize                   # function\n",
    "from sklearn.preprocessing import Normalizer, StandardScaler  # classes"
   ],
   "metadata": {
    "id": "biP0AnwX6c9c",
    "executionInfo": {
     "status": "ok",
     "timestamp": 1728723338937,
     "user_tz": -540,
     "elapsed": 486,
     "user": {
      "displayName": "Yongjin Jeong",
      "userId": "03658406798560557048"
     }
    }
   },
   "execution_count": 58,
   "outputs": []
  },
  {
   "cell_type": "code",
   "source": [
    "X = [[ 1., -1.,  2., 3.],\n",
    "     [ 2.,  0.,  0., 0.],\n",
    "     [ 0.,  1., -1., 2.]]"
   ],
   "metadata": {
    "id": "9BJuUw3U01jC",
    "executionInfo": {
     "status": "ok",
     "timestamp": 1728723764235,
     "user_tz": -540,
     "elapsed": 541,
     "user": {
      "displayName": "Yongjin Jeong",
      "userId": "03658406798560557048"
     }
    }
   },
   "execution_count": 78,
   "outputs": []
  },
  {
   "cell_type": "code",
   "source": [
    "# function\n",
    "normalize(X, norm='l2', axis=0).round(2)"
   ],
   "metadata": {
    "colab": {
     "base_uri": "https://localhost:8080/"
    },
    "id": "bgDeYFDPDohY",
    "executionInfo": {
     "status": "ok",
     "timestamp": 1728723766183,
     "user_tz": -540,
     "elapsed": 496,
     "user": {
      "displayName": "Yongjin Jeong",
      "userId": "03658406798560557048"
     }
    },
    "outputId": "f802a68d-76f5-4120-b550-fd00697bd459"
   },
   "execution_count": 79,
   "outputs": [
    {
     "output_type": "execute_result",
     "data": {
      "text/plain": [
       "array([[ 0.45, -0.71,  0.89,  0.83],\n",
       "       [ 0.89,  0.  ,  0.  ,  0.  ],\n",
       "       [ 0.  ,  0.71, -0.45,  0.55]])"
      ]
     },
     "metadata": {},
     "execution_count": 79
    }
   ]
  },
  {
   "cell_type": "code",
   "source": [
    "# L1-normalizer (class)\n",
    "X = np.array(X)\n",
    "nm = Normalizer(norm='l2')   # default - along the rows (samples)\n",
    "nm.fit(X.T)\n",
    "X_tr = nm.transform(X.T)\n",
    "X_tr.T"
   ],
   "metadata": {
    "colab": {
     "base_uri": "https://localhost:8080/"
    },
    "id": "3DGLsN_bHHF-",
    "executionInfo": {
     "status": "ok",
     "timestamp": 1728723770860,
     "user_tz": -540,
     "elapsed": 597,
     "user": {
      "displayName": "Yongjin Jeong",
      "userId": "03658406798560557048"
     }
    },
    "outputId": "48c90d64-b971-4d12-bf2f-8bf4bce5c88d"
   },
   "execution_count": 80,
   "outputs": [
    {
     "output_type": "execute_result",
     "data": {
      "text/plain": [
       "array([[ 0.4472136 , -0.70710678,  0.89442719,  0.83205029],\n",
       "       [ 0.89442719,  0.        ,  0.        ,  0.        ],\n",
       "       [ 0.        ,  0.70710678, -0.4472136 ,  0.5547002 ]])"
      ]
     },
     "metadata": {},
     "execution_count": 80
    }
   ]
  },
  {
   "cell_type": "code",
   "source": [
    "np.square(X_tr.T).sum(axis=0)"
   ],
   "metadata": {
    "colab": {
     "base_uri": "https://localhost:8080/"
    },
    "id": "eTulUUfPHpXL",
    "executionInfo": {
     "status": "ok",
     "timestamp": 1728723776510,
     "user_tz": -540,
     "elapsed": 447,
     "user": {
      "displayName": "Yongjin Jeong",
      "userId": "03658406798560557048"
     }
    },
    "outputId": "6a781469-56c6-4ead-d3d2-d463a4956ab4"
   },
   "execution_count": 81,
   "outputs": [
    {
     "output_type": "execute_result",
     "data": {
      "text/plain": [
       "array([1., 1., 1., 1.])"
      ]
     },
     "metadata": {},
     "execution_count": 81
    }
   ]
  },
  {
   "cell_type": "code",
   "source": [
    "# Standard scaler\n",
    "sc = StandardScaler()    # along the columns (features)\n",
    "sc.fit(X)\n",
    "print(sc.mean_, sc.var_)\n",
    "sc.transform(X)"
   ],
   "metadata": {
    "colab": {
     "base_uri": "https://localhost:8080/"
    },
    "id": "RwbQOnW2Cy3f",
    "executionInfo": {
     "status": "ok",
     "timestamp": 1728723816895,
     "user_tz": -540,
     "elapsed": 591,
     "user": {
      "displayName": "Yongjin Jeong",
      "userId": "03658406798560557048"
     }
    },
    "outputId": "976ccd52-2bfc-4273-e2d5-713815464d9f"
   },
   "execution_count": 82,
   "outputs": [
    {
     "output_type": "stream",
     "name": "stdout",
     "text": [
      "[1.         0.         0.33333333 1.66666667] [0.66666667 0.66666667 1.55555556 1.55555556]\n"
     ]
    },
    {
     "output_type": "execute_result",
     "data": {
      "text/plain": [
       "array([[ 0.        , -1.22474487,  1.33630621,  1.06904497],\n",
       "       [ 1.22474487,  0.        , -0.26726124, -1.33630621],\n",
       "       [-1.22474487,  1.22474487, -1.06904497,  0.26726124]])"
      ]
     },
     "metadata": {},
     "execution_count": 82
    }
   ]
  },
  {
   "cell_type": "code",
   "source": [
    "sc.transform([[-1.,1.,0.,0.]])"
   ],
   "metadata": {
    "colab": {
     "base_uri": "https://localhost:8080/"
    },
    "id": "IpmSZ9uX14xK",
    "executionInfo": {
     "status": "ok",
     "timestamp": 1728723843650,
     "user_tz": -540,
     "elapsed": 434,
     "user": {
      "displayName": "Yongjin Jeong",
      "userId": "03658406798560557048"
     }
    },
    "outputId": "148cb262-66fa-45f1-a5e0-f8cbec6ec550"
   },
   "execution_count": 84,
   "outputs": [
    {
     "output_type": "execute_result",
     "data": {
      "text/plain": [
       "array([[-2.44948974,  1.22474487, -0.26726124, -1.33630621]])"
      ]
     },
     "metadata": {},
     "execution_count": 84
    }
   ]
  },
  {
   "cell_type": "markdown",
   "source": [
    "--------------------------"
   ],
   "metadata": {
    "id": "9VL6CcF0HViv"
   }
  }
 ]
}
