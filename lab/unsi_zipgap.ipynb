{
 "cells": [
  {
   "cell_type": "code",
   "id": "initial_id",
   "metadata": {
    "collapsed": true,
    "ExecuteTime": {
     "end_time": "2024-10-16T04:43:37.620665Z",
     "start_time": "2024-10-16T04:43:36.140006Z"
    }
   },
   "source": [
    "import pandas as pd\n",
    "import numpy as np\n",
    "import xgboost as xgb\n",
    "from sklearn.preprocessing import LabelEncoder, StandardScaler\n",
    "encoder = LabelEncoder()\n",
    "model = xgb.XGBRegressor()\n",
    "model_param = dict(min_samples_rate = 0.9, n_extimators = 10, max_depth = 6)\n",
    "\n",
    "train_df = pd.read_csv('./train.csv')\n",
    "test_df = pd.read_csv('./test.csv')\n",
    "\n",
    "\n",
    "\n"
   ],
   "outputs": [],
   "execution_count": 1
  },
  {
   "metadata": {},
   "cell_type": "markdown",
   "source": "## NAN 값을 확인합니다. Nan 값이 존재하는 column은 data의 target corr가 손상되었다고 가정하고 drop합니다.",
   "id": "863de4d2433d821c"
  },
  {
   "metadata": {
    "ExecuteTime": {
     "end_time": "2024-10-16T04:45:31.216895Z",
     "start_time": "2024-10-16T04:45:31.204362Z"
    }
   },
   "cell_type": "code",
   "source": "train_df.isna().sum()",
   "id": "e182e9bdcdc2db26",
   "outputs": [
    {
     "data": {
      "text/plain": [
       "Id                 0\n",
       "MSSubClass         0\n",
       "MSZoning           0\n",
       "LotFrontage      259\n",
       "LotArea            0\n",
       "                ... \n",
       "MoSold             0\n",
       "YrSold             0\n",
       "SaleType           0\n",
       "SaleCondition      0\n",
       "SalePrice          0\n",
       "Length: 81, dtype: int64"
      ]
     },
     "execution_count": 6,
     "metadata": {},
     "output_type": "execute_result"
    }
   ],
   "execution_count": 6
  },
  {
   "metadata": {
    "ExecuteTime": {
     "end_time": "2024-10-16T04:45:31.456924Z",
     "start_time": "2024-10-16T04:45:31.451475Z"
    }
   },
   "cell_type": "code",
   "source": "test_df.isna().sum()",
   "id": "fe72c9609413d554",
   "outputs": [
    {
     "data": {
      "text/plain": [
       "Id                 0\n",
       "MSSubClass         0\n",
       "MSZoning           4\n",
       "LotFrontage      227\n",
       "LotArea            0\n",
       "                ... \n",
       "MiscVal            0\n",
       "MoSold             0\n",
       "YrSold             0\n",
       "SaleType           1\n",
       "SaleCondition      0\n",
       "Length: 80, dtype: int64"
      ]
     },
     "execution_count": 7,
     "metadata": {},
     "output_type": "execute_result"
    }
   ],
   "execution_count": 7
  },
  {
   "metadata": {
    "ExecuteTime": {
     "end_time": "2024-10-16T04:45:47.185081Z",
     "start_time": "2024-10-16T04:45:47.166411Z"
    }
   },
   "cell_type": "code",
   "source": "train_df.isnull().sum()",
   "id": "48be49ba304a3cb",
   "outputs": [
    {
     "data": {
      "text/plain": [
       "Id                 0\n",
       "MSSubClass         0\n",
       "MSZoning           0\n",
       "LotFrontage      259\n",
       "LotArea            0\n",
       "                ... \n",
       "MoSold             0\n",
       "YrSold             0\n",
       "SaleType           0\n",
       "SaleCondition      0\n",
       "SalePrice          0\n",
       "Length: 81, dtype: int64"
      ]
     },
     "execution_count": 8,
     "metadata": {},
     "output_type": "execute_result"
    }
   ],
   "execution_count": 8
  },
  {
   "metadata": {
    "ExecuteTime": {
     "end_time": "2024-10-16T04:53:45.340477Z",
     "start_time": "2024-10-16T04:53:45.335225Z"
    }
   },
   "cell_type": "code",
   "source": [
    "def NanHandler(dataf:pd.DataFrame)-> tuple:\n",
    "    col = dataf.columns\n",
    "    \n",
    "    for i in col:\n",
    "        if train_df[str(i)].isna().sum() !=0:\n",
    "            value = dataf[str(i)].mean()\n",
    "            train_df[str(i)]"
   ],
   "id": "8b5dd16413631d98",
   "outputs": [
    {
     "data": {
      "text/plain": [
       "array([   0,    0,    4,    0,    0,    0,    0,    2,    0,    0,    0,\n",
       "          0,    0,    0,    0,    0,    0,    0,    0,    0,    0,    1,\n",
       "          1,  894,   15,    0,    0,    0,   44,   45,   44,   42,    1,\n",
       "         42,    1,    1,    1,    0,    0,    0,    0,    0,    0,    0,\n",
       "          0,    2,    2,    0,    0,    0,    0,    1,    0,    2,    0,\n",
       "        730,   76,   78,   78,    1,    1,   78,   78,    0,    0,    0,\n",
       "          0,    0,    0,    0, 1456, 1169, 1408,    0,    0,    0,    1,\n",
       "          0])"
      ]
     },
     "execution_count": 24,
     "metadata": {},
     "output_type": "execute_result"
    }
   ],
   "execution_count": 24
  },
  {
   "metadata": {
    "ExecuteTime": {
     "end_time": "2024-10-16T04:51:36.602457Z",
     "start_time": "2024-10-16T04:51:36.596881Z"
    }
   },
   "cell_type": "code",
   "source": [
    "train_df = train_df.drop(['LotFrontage','Alley'],axis = 1)\n",
    "test_df = test_df.drop(['LotFrontage','Alley'],axis = 1)"
   ],
   "id": "67c85c4fe586bddf",
   "outputs": [],
   "execution_count": 11
  },
  {
   "metadata": {
    "ExecuteTime": {
     "end_time": "2024-10-16T04:52:14.752561Z",
     "start_time": "2024-10-16T04:52:14.738981Z"
    }
   },
   "cell_type": "code",
   "source": [
    "print(train_df.isna().sum().sum())\n",
    "print(test_df.isna().sum().sum())"
   ],
   "id": "8885d5530425a8ff",
   "outputs": [
    {
     "name": "stdout",
     "output_type": "stream",
     "text": [
      "6201\n",
      "6299\n"
     ]
    }
   ],
   "execution_count": 14
  },
  {
   "metadata": {},
   "cell_type": "code",
   "outputs": [],
   "execution_count": null,
   "source": [
    "def remove_collinear_features(train_df:pd.DataFrame,test_df:pd.DataFrame, threshold = 0.5) -> tuple:\n",
    "    corr_matrix = train_df.corr()\n",
    "    iters = range(len(corr_matrix.columns) - 1)\n",
    "    drop_cols = []\n",
    "    \n",
    "    for i in iters:\n",
    "        for j in range(i+1):\n",
    "            item = corr_matrix.iloc[j:(j+1), (i+1):(i+2)]\n",
    "            col = item.columns\n",
    "            row = item.index\n",
    "            # 절대값을 씌우는 이유는\n",
    "            # corr 절대값이 높은거를 제거하면 되기 때문에\n",
    "            val = abs(item.values)\n",
    "            \n",
    "            if val >= threshold:\n",
    "                print(col.values[0], '|', row.values[0], '|', round(val[0][0], 2))\n",
    "                drop_cols.append(col.values[0])\n",
    "                \n",
    "    drops = set(drop_cols)\n",
    "    x = x.drop(columns=drops)\n",
    "            \n",
    "    return x\n",
    "\n"
   ],
   "id": "5958d83ae0588881"
  }
 ],
 "metadata": {
  "kernelspec": {
   "display_name": "Python 3",
   "language": "python",
   "name": "python3"
  },
  "language_info": {
   "codemirror_mode": {
    "name": "ipython",
    "version": 2
   },
   "file_extension": ".py",
   "mimetype": "text/x-python",
   "name": "python",
   "nbconvert_exporter": "python",
   "pygments_lexer": "ipython2",
   "version": "2.7.6"
  }
 },
 "nbformat": 4,
 "nbformat_minor": 5
}
