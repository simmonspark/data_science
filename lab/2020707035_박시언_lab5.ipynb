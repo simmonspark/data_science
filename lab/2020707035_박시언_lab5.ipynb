{
 "cells": [
  {
   "cell_type": "code",
   "id": "initial_id",
   "metadata": {
    "collapsed": true,
    "ExecuteTime": {
     "end_time": "2024-10-31T05:38:27.288513Z",
     "start_time": "2024-10-31T05:38:26.647795Z"
    }
   },
   "source": [
    "from tkinter import YView, XView\n",
    "\n",
    "import numpy as np\n",
    "import pandas as pd\n",
    "np.random.seed = 123\n",
    "data = pd.read_csv(\"https://raw.githubusercontent.com/datasciencedojo/datasets/master/titanic.csv\")"
   ],
   "outputs": [],
   "execution_count": 422
  },
  {
   "metadata": {
    "ExecuteTime": {
     "end_time": "2024-10-31T05:38:27.297800Z",
     "start_time": "2024-10-31T05:38:27.289952Z"
    }
   },
   "cell_type": "code",
   "source": "data",
   "id": "8268d5988869eca3",
   "outputs": [
    {
     "data": {
      "text/plain": [
       "     PassengerId  Survived  Pclass  \\\n",
       "0              1         0       3   \n",
       "1              2         1       1   \n",
       "2              3         1       3   \n",
       "3              4         1       1   \n",
       "4              5         0       3   \n",
       "..           ...       ...     ...   \n",
       "886          887         0       2   \n",
       "887          888         1       1   \n",
       "888          889         0       3   \n",
       "889          890         1       1   \n",
       "890          891         0       3   \n",
       "\n",
       "                                                  Name     Sex   Age  SibSp  \\\n",
       "0                              Braund, Mr. Owen Harris    male  22.0      1   \n",
       "1    Cumings, Mrs. John Bradley (Florence Briggs Th...  female  38.0      1   \n",
       "2                               Heikkinen, Miss. Laina  female  26.0      0   \n",
       "3         Futrelle, Mrs. Jacques Heath (Lily May Peel)  female  35.0      1   \n",
       "4                             Allen, Mr. William Henry    male  35.0      0   \n",
       "..                                                 ...     ...   ...    ...   \n",
       "886                              Montvila, Rev. Juozas    male  27.0      0   \n",
       "887                       Graham, Miss. Margaret Edith  female  19.0      0   \n",
       "888           Johnston, Miss. Catherine Helen \"Carrie\"  female   NaN      1   \n",
       "889                              Behr, Mr. Karl Howell    male  26.0      0   \n",
       "890                                Dooley, Mr. Patrick    male  32.0      0   \n",
       "\n",
       "     Parch            Ticket     Fare Cabin Embarked  \n",
       "0        0         A/5 21171   7.2500   NaN        S  \n",
       "1        0          PC 17599  71.2833   C85        C  \n",
       "2        0  STON/O2. 3101282   7.9250   NaN        S  \n",
       "3        0            113803  53.1000  C123        S  \n",
       "4        0            373450   8.0500   NaN        S  \n",
       "..     ...               ...      ...   ...      ...  \n",
       "886      0            211536  13.0000   NaN        S  \n",
       "887      0            112053  30.0000   B42        S  \n",
       "888      2        W./C. 6607  23.4500   NaN        S  \n",
       "889      0            111369  30.0000  C148        C  \n",
       "890      0            370376   7.7500   NaN        Q  \n",
       "\n",
       "[891 rows x 12 columns]"
      ],
      "text/html": [
       "<div>\n",
       "<style scoped>\n",
       "    .dataframe tbody tr th:only-of-type {\n",
       "        vertical-align: middle;\n",
       "    }\n",
       "\n",
       "    .dataframe tbody tr th {\n",
       "        vertical-align: top;\n",
       "    }\n",
       "\n",
       "    .dataframe thead th {\n",
       "        text-align: right;\n",
       "    }\n",
       "</style>\n",
       "<table border=\"1\" class=\"dataframe\">\n",
       "  <thead>\n",
       "    <tr style=\"text-align: right;\">\n",
       "      <th></th>\n",
       "      <th>PassengerId</th>\n",
       "      <th>Survived</th>\n",
       "      <th>Pclass</th>\n",
       "      <th>Name</th>\n",
       "      <th>Sex</th>\n",
       "      <th>Age</th>\n",
       "      <th>SibSp</th>\n",
       "      <th>Parch</th>\n",
       "      <th>Ticket</th>\n",
       "      <th>Fare</th>\n",
       "      <th>Cabin</th>\n",
       "      <th>Embarked</th>\n",
       "    </tr>\n",
       "  </thead>\n",
       "  <tbody>\n",
       "    <tr>\n",
       "      <th>0</th>\n",
       "      <td>1</td>\n",
       "      <td>0</td>\n",
       "      <td>3</td>\n",
       "      <td>Braund, Mr. Owen Harris</td>\n",
       "      <td>male</td>\n",
       "      <td>22.0</td>\n",
       "      <td>1</td>\n",
       "      <td>0</td>\n",
       "      <td>A/5 21171</td>\n",
       "      <td>7.2500</td>\n",
       "      <td>NaN</td>\n",
       "      <td>S</td>\n",
       "    </tr>\n",
       "    <tr>\n",
       "      <th>1</th>\n",
       "      <td>2</td>\n",
       "      <td>1</td>\n",
       "      <td>1</td>\n",
       "      <td>Cumings, Mrs. John Bradley (Florence Briggs Th...</td>\n",
       "      <td>female</td>\n",
       "      <td>38.0</td>\n",
       "      <td>1</td>\n",
       "      <td>0</td>\n",
       "      <td>PC 17599</td>\n",
       "      <td>71.2833</td>\n",
       "      <td>C85</td>\n",
       "      <td>C</td>\n",
       "    </tr>\n",
       "    <tr>\n",
       "      <th>2</th>\n",
       "      <td>3</td>\n",
       "      <td>1</td>\n",
       "      <td>3</td>\n",
       "      <td>Heikkinen, Miss. Laina</td>\n",
       "      <td>female</td>\n",
       "      <td>26.0</td>\n",
       "      <td>0</td>\n",
       "      <td>0</td>\n",
       "      <td>STON/O2. 3101282</td>\n",
       "      <td>7.9250</td>\n",
       "      <td>NaN</td>\n",
       "      <td>S</td>\n",
       "    </tr>\n",
       "    <tr>\n",
       "      <th>3</th>\n",
       "      <td>4</td>\n",
       "      <td>1</td>\n",
       "      <td>1</td>\n",
       "      <td>Futrelle, Mrs. Jacques Heath (Lily May Peel)</td>\n",
       "      <td>female</td>\n",
       "      <td>35.0</td>\n",
       "      <td>1</td>\n",
       "      <td>0</td>\n",
       "      <td>113803</td>\n",
       "      <td>53.1000</td>\n",
       "      <td>C123</td>\n",
       "      <td>S</td>\n",
       "    </tr>\n",
       "    <tr>\n",
       "      <th>4</th>\n",
       "      <td>5</td>\n",
       "      <td>0</td>\n",
       "      <td>3</td>\n",
       "      <td>Allen, Mr. William Henry</td>\n",
       "      <td>male</td>\n",
       "      <td>35.0</td>\n",
       "      <td>0</td>\n",
       "      <td>0</td>\n",
       "      <td>373450</td>\n",
       "      <td>8.0500</td>\n",
       "      <td>NaN</td>\n",
       "      <td>S</td>\n",
       "    </tr>\n",
       "    <tr>\n",
       "      <th>...</th>\n",
       "      <td>...</td>\n",
       "      <td>...</td>\n",
       "      <td>...</td>\n",
       "      <td>...</td>\n",
       "      <td>...</td>\n",
       "      <td>...</td>\n",
       "      <td>...</td>\n",
       "      <td>...</td>\n",
       "      <td>...</td>\n",
       "      <td>...</td>\n",
       "      <td>...</td>\n",
       "      <td>...</td>\n",
       "    </tr>\n",
       "    <tr>\n",
       "      <th>886</th>\n",
       "      <td>887</td>\n",
       "      <td>0</td>\n",
       "      <td>2</td>\n",
       "      <td>Montvila, Rev. Juozas</td>\n",
       "      <td>male</td>\n",
       "      <td>27.0</td>\n",
       "      <td>0</td>\n",
       "      <td>0</td>\n",
       "      <td>211536</td>\n",
       "      <td>13.0000</td>\n",
       "      <td>NaN</td>\n",
       "      <td>S</td>\n",
       "    </tr>\n",
       "    <tr>\n",
       "      <th>887</th>\n",
       "      <td>888</td>\n",
       "      <td>1</td>\n",
       "      <td>1</td>\n",
       "      <td>Graham, Miss. Margaret Edith</td>\n",
       "      <td>female</td>\n",
       "      <td>19.0</td>\n",
       "      <td>0</td>\n",
       "      <td>0</td>\n",
       "      <td>112053</td>\n",
       "      <td>30.0000</td>\n",
       "      <td>B42</td>\n",
       "      <td>S</td>\n",
       "    </tr>\n",
       "    <tr>\n",
       "      <th>888</th>\n",
       "      <td>889</td>\n",
       "      <td>0</td>\n",
       "      <td>3</td>\n",
       "      <td>Johnston, Miss. Catherine Helen \"Carrie\"</td>\n",
       "      <td>female</td>\n",
       "      <td>NaN</td>\n",
       "      <td>1</td>\n",
       "      <td>2</td>\n",
       "      <td>W./C. 6607</td>\n",
       "      <td>23.4500</td>\n",
       "      <td>NaN</td>\n",
       "      <td>S</td>\n",
       "    </tr>\n",
       "    <tr>\n",
       "      <th>889</th>\n",
       "      <td>890</td>\n",
       "      <td>1</td>\n",
       "      <td>1</td>\n",
       "      <td>Behr, Mr. Karl Howell</td>\n",
       "      <td>male</td>\n",
       "      <td>26.0</td>\n",
       "      <td>0</td>\n",
       "      <td>0</td>\n",
       "      <td>111369</td>\n",
       "      <td>30.0000</td>\n",
       "      <td>C148</td>\n",
       "      <td>C</td>\n",
       "    </tr>\n",
       "    <tr>\n",
       "      <th>890</th>\n",
       "      <td>891</td>\n",
       "      <td>0</td>\n",
       "      <td>3</td>\n",
       "      <td>Dooley, Mr. Patrick</td>\n",
       "      <td>male</td>\n",
       "      <td>32.0</td>\n",
       "      <td>0</td>\n",
       "      <td>0</td>\n",
       "      <td>370376</td>\n",
       "      <td>7.7500</td>\n",
       "      <td>NaN</td>\n",
       "      <td>Q</td>\n",
       "    </tr>\n",
       "  </tbody>\n",
       "</table>\n",
       "<p>891 rows × 12 columns</p>\n",
       "</div>"
      ]
     },
     "execution_count": 423,
     "metadata": {},
     "output_type": "execute_result"
    }
   ],
   "execution_count": 423
  },
  {
   "metadata": {
    "ExecuteTime": {
     "end_time": "2024-10-31T05:38:27.301854Z",
     "start_time": "2024-10-31T05:38:27.298720Z"
    }
   },
   "cell_type": "code",
   "source": [
    "data['Age'].fillna(data['Age'].mean(),inplace=True)\n",
    "data['Cabin'].fillna('N',inplace=True)\n",
    "data['Embarked'].fillna('N',inplace=True)"
   ],
   "id": "ee665d557e5c4f88",
   "outputs": [
    {
     "name": "stderr",
     "output_type": "stream",
     "text": [
      "/var/folders/9d/lcchyqrx6jq_hz6pm4d1j7z80000gn/T/ipykernel_58162/3057721139.py:1: FutureWarning: A value is trying to be set on a copy of a DataFrame or Series through chained assignment using an inplace method.\n",
      "The behavior will change in pandas 3.0. This inplace method will never work because the intermediate object on which we are setting values always behaves as a copy.\n",
      "\n",
      "For example, when doing 'df[col].method(value, inplace=True)', try using 'df.method({col: value}, inplace=True)' or df[col] = df[col].method(value) instead, to perform the operation inplace on the original object.\n",
      "\n",
      "\n",
      "  data['Age'].fillna(data['Age'].mean(),inplace=True)\n",
      "/var/folders/9d/lcchyqrx6jq_hz6pm4d1j7z80000gn/T/ipykernel_58162/3057721139.py:2: FutureWarning: A value is trying to be set on a copy of a DataFrame or Series through chained assignment using an inplace method.\n",
      "The behavior will change in pandas 3.0. This inplace method will never work because the intermediate object on which we are setting values always behaves as a copy.\n",
      "\n",
      "For example, when doing 'df[col].method(value, inplace=True)', try using 'df.method({col: value}, inplace=True)' or df[col] = df[col].method(value) instead, to perform the operation inplace on the original object.\n",
      "\n",
      "\n",
      "  data['Cabin'].fillna('N',inplace=True)\n",
      "/var/folders/9d/lcchyqrx6jq_hz6pm4d1j7z80000gn/T/ipykernel_58162/3057721139.py:3: FutureWarning: A value is trying to be set on a copy of a DataFrame or Series through chained assignment using an inplace method.\n",
      "The behavior will change in pandas 3.0. This inplace method will never work because the intermediate object on which we are setting values always behaves as a copy.\n",
      "\n",
      "For example, when doing 'df[col].method(value, inplace=True)', try using 'df.method({col: value}, inplace=True)' or df[col] = df[col].method(value) instead, to perform the operation inplace on the original object.\n",
      "\n",
      "\n",
      "  data['Embarked'].fillna('N',inplace=True)\n"
     ]
    }
   ],
   "execution_count": 424
  },
  {
   "metadata": {
    "ExecuteTime": {
     "end_time": "2024-10-31T05:38:27.306356Z",
     "start_time": "2024-10-31T05:38:27.303430Z"
    }
   },
   "cell_type": "code",
   "source": [
    "data.loc[data[\"Sex\"] == \"male\", \"Sex_encode\"] = 0\n",
    "data.loc[data[\"Sex\"] == \"female\", \"Sex_encode\"] = 1"
   ],
   "id": "38b216d7e9032e15",
   "outputs": [],
   "execution_count": 425
  },
  {
   "metadata": {
    "ExecuteTime": {
     "end_time": "2024-10-31T05:38:27.310641Z",
     "start_time": "2024-10-31T05:38:27.307158Z"
    }
   },
   "cell_type": "code",
   "source": [
    "from sklearn.preprocessing import LabelEncoder\n",
    "\n",
    "# Null 처리 함수\n",
    "def fillna(df):\n",
    "    df['Age'].fillna(df['Age'].mean(), inplace=True)\n",
    "    df['Cabin'].fillna('N', inplace=True)\n",
    "    df['Embarked'].fillna('N', inplace=True)\n",
    "    df['Fare'].fillna(0, inplace=True)\n",
    "    return df\n",
    "\n",
    "# 머신러닝 알고리즘에 불필요한 피처 제거\n",
    "def drop_features(df):\n",
    "    df.drop(['PassengerId', 'Name', 'Ticket'], axis=1, inplace=True)\n",
    "    return df\n",
    "\n",
    "# 레이블 인코딩 수행.\n",
    "def format_features(df):\n",
    "    df['Cabin'] = df['Cabin'].str[:1]\n",
    "    features = ['Cabin', 'Sex', 'Embarked']\n",
    "    for feature in features:\n",
    "        le = LabelEncoder()\n",
    "        le = le.fit(df[feature])\n",
    "        df[feature] = le.transform(df[feature])\n",
    "    return df\n",
    "\n",
    "# 앞에서 설정한 데이터 전처리 함수 호출\n",
    "def transform_features(df):\n",
    "    df = fillna(df)\n",
    "    df = drop_features(df)\n",
    "    df = format_features(df)\n",
    "    return df"
   ],
   "id": "3956d3ab46251a6b",
   "outputs": [],
   "execution_count": 426
  },
  {
   "metadata": {
    "ExecuteTime": {
     "end_time": "2024-10-31T05:38:27.312681Z",
     "start_time": "2024-10-31T05:38:27.311381Z"
    }
   },
   "cell_type": "code",
   "source": "",
   "id": "cdb8a1e303d94ee4",
   "outputs": [],
   "execution_count": 426
  },
  {
   "metadata": {
    "ExecuteTime": {
     "end_time": "2024-10-31T05:38:27.315933Z",
     "start_time": "2024-10-31T05:38:27.313217Z"
    }
   },
   "cell_type": "code",
   "source": [
    "Y = data['Survived']\n",
    "X = data.drop('Survived', axis=1)\n"
   ],
   "id": "2a4e8c7ffdc2159d",
   "outputs": [],
   "execution_count": 427
  },
  {
   "metadata": {
    "ExecuteTime": {
     "end_time": "2024-10-31T05:38:27.320763Z",
     "start_time": "2024-10-31T05:38:27.316519Z"
    }
   },
   "cell_type": "code",
   "source": "X = transform_features(X)",
   "id": "98c58545e9bd61f3",
   "outputs": [
    {
     "name": "stderr",
     "output_type": "stream",
     "text": [
      "/var/folders/9d/lcchyqrx6jq_hz6pm4d1j7z80000gn/T/ipykernel_58162/3807705002.py:5: FutureWarning: A value is trying to be set on a copy of a DataFrame or Series through chained assignment using an inplace method.\n",
      "The behavior will change in pandas 3.0. This inplace method will never work because the intermediate object on which we are setting values always behaves as a copy.\n",
      "\n",
      "For example, when doing 'df[col].method(value, inplace=True)', try using 'df.method({col: value}, inplace=True)' or df[col] = df[col].method(value) instead, to perform the operation inplace on the original object.\n",
      "\n",
      "\n",
      "  df['Age'].fillna(df['Age'].mean(), inplace=True)\n",
      "/var/folders/9d/lcchyqrx6jq_hz6pm4d1j7z80000gn/T/ipykernel_58162/3807705002.py:6: FutureWarning: A value is trying to be set on a copy of a DataFrame or Series through chained assignment using an inplace method.\n",
      "The behavior will change in pandas 3.0. This inplace method will never work because the intermediate object on which we are setting values always behaves as a copy.\n",
      "\n",
      "For example, when doing 'df[col].method(value, inplace=True)', try using 'df.method({col: value}, inplace=True)' or df[col] = df[col].method(value) instead, to perform the operation inplace on the original object.\n",
      "\n",
      "\n",
      "  df['Cabin'].fillna('N', inplace=True)\n",
      "/var/folders/9d/lcchyqrx6jq_hz6pm4d1j7z80000gn/T/ipykernel_58162/3807705002.py:7: FutureWarning: A value is trying to be set on a copy of a DataFrame or Series through chained assignment using an inplace method.\n",
      "The behavior will change in pandas 3.0. This inplace method will never work because the intermediate object on which we are setting values always behaves as a copy.\n",
      "\n",
      "For example, when doing 'df[col].method(value, inplace=True)', try using 'df.method({col: value}, inplace=True)' or df[col] = df[col].method(value) instead, to perform the operation inplace on the original object.\n",
      "\n",
      "\n",
      "  df['Embarked'].fillna('N', inplace=True)\n",
      "/var/folders/9d/lcchyqrx6jq_hz6pm4d1j7z80000gn/T/ipykernel_58162/3807705002.py:8: FutureWarning: A value is trying to be set on a copy of a DataFrame or Series through chained assignment using an inplace method.\n",
      "The behavior will change in pandas 3.0. This inplace method will never work because the intermediate object on which we are setting values always behaves as a copy.\n",
      "\n",
      "For example, when doing 'df[col].method(value, inplace=True)', try using 'df.method({col: value}, inplace=True)' or df[col] = df[col].method(value) instead, to perform the operation inplace on the original object.\n",
      "\n",
      "\n",
      "  df['Fare'].fillna(0, inplace=True)\n"
     ]
    }
   ],
   "execution_count": 428
  },
  {
   "metadata": {
    "ExecuteTime": {
     "end_time": "2024-10-31T05:38:27.323645Z",
     "start_time": "2024-10-31T05:38:27.321461Z"
    }
   },
   "cell_type": "code",
   "source": [
    "import numpy as np\n",
    "\n",
    "# 로그 변환 적용 (값이 0 이하인 경우를 방지하기 위해 작은 값 더하기)\n",
    "X['Fare'] = np.log(X['Fare'] + 1)\n",
    "X['Age'] = np.log(X['Age'] + 1)\n",
    "\n"
   ],
   "id": "f9c749584b9d9a97",
   "outputs": [],
   "execution_count": 429
  },
  {
   "metadata": {
    "ExecuteTime": {
     "end_time": "2024-10-31T05:38:27.328030Z",
     "start_time": "2024-10-31T05:38:27.325508Z"
    }
   },
   "cell_type": "code",
   "source": [
    "from sklearn.model_selection import train_test_split\n",
    "X_train, X_test, y_train, y_test=train_test_split(X, Y, \\\n",
    "                                                  test_size=0.2, random_state=11)"
   ],
   "id": "5c5d3cd36646e8dc",
   "outputs": [],
   "execution_count": 430
  },
  {
   "metadata": {
    "ExecuteTime": {
     "end_time": "2024-10-31T05:38:27.333454Z",
     "start_time": "2024-10-31T05:38:27.328594Z"
    }
   },
   "cell_type": "code",
   "source": [
    "def batch_sampler(data, target, batch_size):\n",
    "    tot = len(data)\n",
    "    total_iter = tot // batch_size\n",
    "    for i in range(total_iter):\n",
    "        yield (data[i * batch_size:(i + 1) * batch_size],\n",
    "               target[i * batch_size:(i + 1) * batch_size])\n",
    "\n",
    "\n",
    "sampler = batch_sampler(data=X_train, target=y_train, batch_size=32)\n",
    "L = len(X_train) // 32\n",
    "for i in range(L):\n",
    "    next(sampler)\n",
    "print(X_train)"
   ],
   "id": "b7088fda25435d4",
   "outputs": [
    {
     "name": "stdout",
     "output_type": "stream",
     "text": [
      "     Pclass  Sex       Age  SibSp  Parch      Fare  Cabin  Embarked  \\\n",
      "333       3    1  2.833213      2      0  2.944439      7         3   \n",
      "662       1    1  3.871201      0      0  3.280441      4         3   \n",
      "382       3    1  3.496508      0      0  2.188856      7         3   \n",
      "331       1    1  3.839452      0      0  3.384390      2         3   \n",
      "149       2    1  3.761200      0      0  2.639057      7         3   \n",
      "..      ...  ...       ...    ...    ...       ...    ...       ...   \n",
      "269       1    0  3.583519      0      0  4.917301      2         3   \n",
      "337       1    0  3.737670      0      0  4.908972      4         0   \n",
      "91        3    1  3.044522      0      0  2.180892      7         3   \n",
      "80        3    1  3.135494      0      0  2.302585      7         3   \n",
      "703       3    1  3.258097      0      0  2.168105      7         2   \n",
      "\n",
      "     Sex_encode  \n",
      "333         0.0  \n",
      "662         0.0  \n",
      "382         0.0  \n",
      "331         0.0  \n",
      "149         0.0  \n",
      "..          ...  \n",
      "269         1.0  \n",
      "337         1.0  \n",
      "91          0.0  \n",
      "80          0.0  \n",
      "703         0.0  \n",
      "\n",
      "[712 rows x 9 columns]\n"
     ]
    }
   ],
   "execution_count": 431
  },
  {
   "metadata": {
    "ExecuteTime": {
     "end_time": "2024-10-31T05:38:27.339319Z",
     "start_time": "2024-10-31T05:38:27.334157Z"
    }
   },
   "cell_type": "code",
   "source": [
    "import numpy as np\n",
    "from tqdm import tqdm\n",
    "class LogisticRegression:\n",
    "    def __init__(self, learning_rate=0.01, epochs=400, n_features=9):\n",
    "        # 초기 가중치를 무작위로 설정\n",
    "        self.weights = np.random.randn(n_features)\n",
    "        self.b = np.random.randn()\n",
    "        self.learning_rate = learning_rate\n",
    "        self.epochs = epochs\n",
    "        self.loss_history = []\n",
    "\n",
    "    def sigmoid(self, z):\n",
    "        \"\"\"Sigmoid 활성화 함수\"\"\"\n",
    "        return 1.0 / (1 + np.exp(-z))\n",
    "\n",
    "    def compute_loss(self, preds, target):\n",
    "        \"\"\"교차 엔트로피 손실 계산\"\"\"\n",
    "        # 로그의 안정성을 위해 값들을 클리핑\n",
    "        preds = np.clip(preds, 1e-9, 1 - 1e-9)  # 0과 1의 범위를 벗어나지 않도록 함\n",
    "        loss = -((target * np.log(preds)) + (1 - target) * np.log(1 - preds)).mean()\n",
    "        return loss\n",
    "\n",
    "\n",
    "    def fit(self, X, y, batch_sampler):\n",
    "        \"\"\"모델 훈련 함수\"\"\"\n",
    "        for epoch in tqdm(range(self.epochs)):\n",
    "            sampler = batch_sampler(data=X, target=y, batch_size=32)\n",
    "            batch_loss = []\n",
    "    \n",
    "            for X_batch, Y_batch in sampler:\n",
    "                # 순방향 전파\n",
    "                preds = self.sigmoid(np.dot(X_batch, self.weights) + self.b)\n",
    "    \n",
    "                # 손실 계산\n",
    "                loss = self.compute_loss(preds, Y_batch)\n",
    "                batch_loss.append(loss)\n",
    "    \n",
    "                # 그래디언트 계산\n",
    "                dloss_dz = preds - Y_batch\n",
    "                weights_deriv = np.dot(X_batch.T, dloss_dz) / X_batch.shape[0]\n",
    "                b_deriv = dloss_dz.mean()\n",
    "    \n",
    "                # 가중치 및 바이어스 업데이트\n",
    "                self.weights -= self.learning_rate * weights_deriv\n",
    "                self.b -= self.learning_rate * b_deriv\n",
    "    \n",
    "            # Epoch별 손실 저장\n",
    "            epoch_loss = np.mean(batch_loss)\n",
    "            self.loss_history.append(epoch_loss)\n",
    "            \n",
    "            # 에포크마다 손실 출력\n",
    "            print(f\"Epoch {epoch + 1}/{self.epochs} - Loss: {epoch_loss:.4f}\")\n",
    "\n",
    "\n",
    "    def predict(self, X):\n",
    "        \"\"\"모델 예측 함수\"\"\"\n",
    "        linear_comb = np.dot(X, self.weights) + self.b\n",
    "        return self.sigmoid(linear_comb) > 0.55\n",
    "\n",
    "    def accuracy(self, X, y):\n",
    "        \"\"\"정확도 계산 함수\"\"\"\n",
    "        preds = self.predict(X)\n",
    "        return (preds == y).mean() * 100\n",
    "\n",
    "\n"
   ],
   "id": "c0a35c8cbd1c3f9a",
   "outputs": [],
   "execution_count": 432
  },
  {
   "metadata": {
    "ExecuteTime": {
     "end_time": "2024-10-31T05:38:28.722330Z",
     "start_time": "2024-10-31T05:38:27.340105Z"
    }
   },
   "cell_type": "code",
   "source": [
    "model = LogisticRegression(learning_rate=0.005, epochs=200, n_features=9)\n",
    "model.fit(X_train, y_train, batch_sampler=batch_sampler)"
   ],
   "id": "e20e60ecac1fdb8a",
   "outputs": [
    {
     "name": "stderr",
     "output_type": "stream",
     "text": [
      " 15%|█▌        | 30/200 [00:00<00:01, 146.29it/s]"
     ]
    },
    {
     "name": "stdout",
     "output_type": "stream",
     "text": [
      "Epoch 1/200 - Loss: 1.7556\n",
      "Epoch 2/200 - Loss: 0.8783\n",
      "Epoch 3/200 - Loss: 0.7995\n",
      "Epoch 4/200 - Loss: 0.7833\n",
      "Epoch 5/200 - Loss: 0.7721\n",
      "Epoch 6/200 - Loss: 0.7616\n",
      "Epoch 7/200 - Loss: 0.7516\n",
      "Epoch 8/200 - Loss: 0.7418\n",
      "Epoch 9/200 - Loss: 0.7325\n",
      "Epoch 10/200 - Loss: 0.7235\n",
      "Epoch 11/200 - Loss: 0.7148\n",
      "Epoch 12/200 - Loss: 0.7065\n",
      "Epoch 13/200 - Loss: 0.6986\n",
      "Epoch 14/200 - Loss: 0.6909\n",
      "Epoch 15/200 - Loss: 0.6836\n",
      "Epoch 16/200 - Loss: 0.6766\n",
      "Epoch 17/200 - Loss: 0.6698\n",
      "Epoch 18/200 - Loss: 0.6634\n",
      "Epoch 19/200 - Loss: 0.6572\n",
      "Epoch 20/200 - Loss: 0.6513\n",
      "Epoch 21/200 - Loss: 0.6456\n",
      "Epoch 22/200 - Loss: 0.6401\n",
      "Epoch 23/200 - Loss: 0.6349\n",
      "Epoch 24/200 - Loss: 0.6299\n",
      "Epoch 25/200 - Loss: 0.6251\n",
      "Epoch 26/200 - Loss: 0.6205\n",
      "Epoch 27/200 - Loss: 0.6160\n",
      "Epoch 28/200 - Loss: 0.6118\n",
      "Epoch 29/200 - Loss: 0.6077\n",
      "Epoch 30/200 - Loss: 0.6038\n",
      "Epoch 31/200 - Loss: 0.6000\n",
      "Epoch 32/200 - Loss: 0.5963\n",
      "Epoch 33/200 - Loss: 0.5928\n",
      "Epoch 34/200 - Loss: 0.5895\n",
      "Epoch 35/200 - Loss: 0.5862\n",
      "Epoch 36/200 - Loss: 0.5831\n",
      "Epoch 37/200 - Loss: 0.5800\n",
      "Epoch 38/200 - Loss: 0.5771\n",
      "Epoch 39/200 - Loss: 0.5743\n",
      "Epoch 40/200 - Loss: 0.5716\n",
      "Epoch 41/200 - Loss: 0.5690\n",
      "Epoch 42/200 - Loss: 0.5664\n",
      "Epoch 43/200 - Loss: 0.5639\n",
      "Epoch 44/200 - Loss: 0.5616\n",
      "Epoch 45/200 - Loss: 0.5593\n"
     ]
    },
    {
     "name": "stderr",
     "output_type": "stream",
     "text": [
      " 30%|███       | 60/200 [00:00<00:00, 145.45it/s]"
     ]
    },
    {
     "name": "stdout",
     "output_type": "stream",
     "text": [
      "Epoch 46/200 - Loss: 0.5570\n",
      "Epoch 47/200 - Loss: 0.5549\n",
      "Epoch 48/200 - Loss: 0.5528\n",
      "Epoch 49/200 - Loss: 0.5508\n",
      "Epoch 50/200 - Loss: 0.5488\n",
      "Epoch 51/200 - Loss: 0.5469\n",
      "Epoch 52/200 - Loss: 0.5451\n",
      "Epoch 53/200 - Loss: 0.5433\n",
      "Epoch 54/200 - Loss: 0.5415\n",
      "Epoch 55/200 - Loss: 0.5398\n",
      "Epoch 56/200 - Loss: 0.5382\n",
      "Epoch 57/200 - Loss: 0.5366\n",
      "Epoch 58/200 - Loss: 0.5351\n",
      "Epoch 59/200 - Loss: 0.5336\n",
      "Epoch 60/200 - Loss: 0.5321\n",
      "Epoch 61/200 - Loss: 0.5307\n",
      "Epoch 62/200 - Loss: 0.5293\n",
      "Epoch 63/200 - Loss: 0.5280\n",
      "Epoch 64/200 - Loss: 0.5267\n",
      "Epoch 65/200 - Loss: 0.5254\n",
      "Epoch 66/200 - Loss: 0.5242\n",
      "Epoch 67/200 - Loss: 0.5230\n",
      "Epoch 68/200 - Loss: 0.5218\n",
      "Epoch 69/200 - Loss: 0.5207\n",
      "Epoch 70/200 - Loss: 0.5196\n",
      "Epoch 71/200 - Loss: 0.5185\n",
      "Epoch 72/200 - Loss: 0.5175\n",
      "Epoch 73/200 - Loss: 0.5164\n",
      "Epoch 74/200 - Loss: 0.5154\n",
      "Epoch 75/200 - Loss: 0.5144\n"
     ]
    },
    {
     "name": "stderr",
     "output_type": "stream",
     "text": [
      " 45%|████▌     | 90/200 [00:00<00:00, 145.56it/s]"
     ]
    },
    {
     "name": "stdout",
     "output_type": "stream",
     "text": [
      "Epoch 76/200 - Loss: 0.5135\n",
      "Epoch 77/200 - Loss: 0.5126\n",
      "Epoch 78/200 - Loss: 0.5116\n",
      "Epoch 79/200 - Loss: 0.5107\n",
      "Epoch 80/200 - Loss: 0.5099\n",
      "Epoch 81/200 - Loss: 0.5090\n",
      "Epoch 82/200 - Loss: 0.5082\n",
      "Epoch 83/200 - Loss: 0.5074\n",
      "Epoch 84/200 - Loss: 0.5066\n",
      "Epoch 85/200 - Loss: 0.5058\n",
      "Epoch 86/200 - Loss: 0.5050\n",
      "Epoch 87/200 - Loss: 0.5043\n",
      "Epoch 88/200 - Loss: 0.5036\n",
      "Epoch 89/200 - Loss: 0.5028\n",
      "Epoch 90/200 - Loss: 0.5021\n"
     ]
    },
    {
     "name": "stderr",
     "output_type": "stream",
     "text": [
      " 60%|██████    | 121/200 [00:00<00:00, 146.90it/s]"
     ]
    },
    {
     "name": "stdout",
     "output_type": "stream",
     "text": [
      "Epoch 91/200 - Loss: 0.5015\n",
      "Epoch 92/200 - Loss: 0.5008\n",
      "Epoch 93/200 - Loss: 0.5001\n",
      "Epoch 94/200 - Loss: 0.4995\n",
      "Epoch 95/200 - Loss: 0.4988\n",
      "Epoch 96/200 - Loss: 0.4982\n",
      "Epoch 97/200 - Loss: 0.4976\n",
      "Epoch 98/200 - Loss: 0.4970\n",
      "Epoch 99/200 - Loss: 0.4964\n",
      "Epoch 100/200 - Loss: 0.4959\n",
      "Epoch 101/200 - Loss: 0.4953\n",
      "Epoch 102/200 - Loss: 0.4947\n",
      "Epoch 103/200 - Loss: 0.4942\n",
      "Epoch 104/200 - Loss: 0.4937\n",
      "Epoch 105/200 - Loss: 0.4931\n",
      "Epoch 106/200 - Loss: 0.4926\n",
      "Epoch 107/200 - Loss: 0.4921\n",
      "Epoch 108/200 - Loss: 0.4916\n",
      "Epoch 109/200 - Loss: 0.4911\n",
      "Epoch 110/200 - Loss: 0.4907\n",
      "Epoch 111/200 - Loss: 0.4902\n",
      "Epoch 112/200 - Loss: 0.4897\n",
      "Epoch 113/200 - Loss: 0.4893\n",
      "Epoch 114/200 - Loss: 0.4888\n",
      "Epoch 115/200 - Loss: 0.4884\n",
      "Epoch 116/200 - Loss: 0.4880\n",
      "Epoch 117/200 - Loss: 0.4875\n",
      "Epoch 118/200 - Loss: 0.4871\n",
      "Epoch 119/200 - Loss: 0.4867\n",
      "Epoch 120/200 - Loss: 0.4863\n",
      "Epoch 121/200 - Loss: 0.4859\n"
     ]
    },
    {
     "name": "stderr",
     "output_type": "stream",
     "text": [
      " 68%|██████▊   | 136/200 [00:00<00:00, 146.86it/s]"
     ]
    },
    {
     "name": "stdout",
     "output_type": "stream",
     "text": [
      "Epoch 122/200 - Loss: 0.4855\n",
      "Epoch 123/200 - Loss: 0.4851\n",
      "Epoch 124/200 - Loss: 0.4848\n",
      "Epoch 125/200 - Loss: 0.4844\n",
      "Epoch 126/200 - Loss: 0.4840\n",
      "Epoch 127/200 - Loss: 0.4837\n",
      "Epoch 128/200 - Loss: 0.4833\n",
      "Epoch 129/200 - Loss: 0.4830\n",
      "Epoch 130/200 - Loss: 0.4826\n",
      "Epoch 131/200 - Loss: 0.4823\n",
      "Epoch 132/200 - Loss: 0.4820\n",
      "Epoch 133/200 - Loss: 0.4816\n",
      "Epoch 134/200 - Loss: 0.4813\n",
      "Epoch 135/200 - Loss: 0.4810\n",
      "Epoch 136/200 - Loss: 0.4807\n"
     ]
    },
    {
     "name": "stderr",
     "output_type": "stream",
     "text": [
      " 76%|███████▌  | 151/200 [00:01<00:00, 144.26it/s]"
     ]
    },
    {
     "name": "stdout",
     "output_type": "stream",
     "text": [
      "Epoch 137/200 - Loss: 0.4804\n",
      "Epoch 138/200 - Loss: 0.4801\n",
      "Epoch 139/200 - Loss: 0.4798\n",
      "Epoch 140/200 - Loss: 0.4795\n",
      "Epoch 141/200 - Loss: 0.4792\n",
      "Epoch 142/200 - Loss: 0.4789\n",
      "Epoch 143/200 - Loss: 0.4786\n",
      "Epoch 144/200 - Loss: 0.4783\n",
      "Epoch 145/200 - Loss: 0.4781\n",
      "Epoch 146/200 - Loss: 0.4778\n",
      "Epoch 147/200 - Loss: 0.4775\n",
      "Epoch 148/200 - Loss: 0.4773\n",
      "Epoch 149/200 - Loss: 0.4770\n",
      "Epoch 150/200 - Loss: 0.4768\n",
      "Epoch 151/200 - Loss: 0.4765\n",
      "Epoch 152/200 - Loss: 0.4763\n",
      "Epoch 153/200 - Loss: 0.4760\n",
      "Epoch 154/200 - Loss: 0.4758\n",
      "Epoch 155/200 - Loss: 0.4755\n",
      "Epoch 156/200 - Loss: 0.4753\n",
      "Epoch 157/200 - Loss: 0.4751\n",
      "Epoch 158/200 - Loss: 0.4749\n",
      "Epoch 159/200 - Loss: 0.4746\n",
      "Epoch 160/200 - Loss: 0.4744\n",
      "Epoch 161/200 - Loss: 0.4742\n",
      "Epoch 162/200 - Loss: 0.4740\n",
      "Epoch 163/200 - Loss: 0.4738\n",
      "Epoch 164/200 - Loss: 0.4736\n"
     ]
    },
    {
     "name": "stderr",
     "output_type": "stream",
     "text": [
      " 90%|█████████ | 181/200 [00:01<00:00, 144.01it/s]"
     ]
    },
    {
     "name": "stdout",
     "output_type": "stream",
     "text": [
      "Epoch 165/200 - Loss: 0.4734\n",
      "Epoch 166/200 - Loss: 0.4732\n",
      "Epoch 167/200 - Loss: 0.4730\n",
      "Epoch 168/200 - Loss: 0.4728\n",
      "Epoch 169/200 - Loss: 0.4726\n",
      "Epoch 170/200 - Loss: 0.4724\n",
      "Epoch 171/200 - Loss: 0.4722\n",
      "Epoch 172/200 - Loss: 0.4720\n",
      "Epoch 173/200 - Loss: 0.4718\n",
      "Epoch 174/200 - Loss: 0.4716\n",
      "Epoch 175/200 - Loss: 0.4714\n",
      "Epoch 176/200 - Loss: 0.4713\n",
      "Epoch 177/200 - Loss: 0.4711\n",
      "Epoch 178/200 - Loss: 0.4709\n",
      "Epoch 179/200 - Loss: 0.4707\n",
      "Epoch 180/200 - Loss: 0.4706\n",
      "Epoch 181/200 - Loss: 0.4704\n"
     ]
    },
    {
     "name": "stderr",
     "output_type": "stream",
     "text": [
      " 98%|█████████▊| 196/200 [00:01<00:00, 144.98it/s]"
     ]
    },
    {
     "name": "stdout",
     "output_type": "stream",
     "text": [
      "Epoch 182/200 - Loss: 0.4702\n",
      "Epoch 183/200 - Loss: 0.4701\n",
      "Epoch 184/200 - Loss: 0.4699\n",
      "Epoch 185/200 - Loss: 0.4698\n",
      "Epoch 186/200 - Loss: 0.4696\n",
      "Epoch 187/200 - Loss: 0.4694\n",
      "Epoch 188/200 - Loss: 0.4693\n",
      "Epoch 189/200 - Loss: 0.4691\n",
      "Epoch 190/200 - Loss: 0.4690\n",
      "Epoch 191/200 - Loss: 0.4688\n",
      "Epoch 192/200 - Loss: 0.4687\n",
      "Epoch 193/200 - Loss: 0.4685\n",
      "Epoch 194/200 - Loss: 0.4684\n",
      "Epoch 195/200 - Loss: 0.4683\n",
      "Epoch 196/200 - Loss: 0.4681\n"
     ]
    },
    {
     "name": "stderr",
     "output_type": "stream",
     "text": [
      "100%|██████████| 200/200 [00:01<00:00, 145.02it/s]"
     ]
    },
    {
     "name": "stdout",
     "output_type": "stream",
     "text": [
      "Epoch 197/200 - Loss: 0.4680\n",
      "Epoch 198/200 - Loss: 0.4679\n",
      "Epoch 199/200 - Loss: 0.4677\n",
      "Epoch 200/200 - Loss: 0.4676\n"
     ]
    },
    {
     "name": "stderr",
     "output_type": "stream",
     "text": [
      "\n"
     ]
    }
   ],
   "execution_count": 433
  },
  {
   "metadata": {
    "ExecuteTime": {
     "end_time": "2024-10-31T05:38:28.725793Z",
     "start_time": "2024-10-31T05:38:28.723172Z"
    }
   },
   "cell_type": "code",
   "source": [
    "# X_test에 대한 예측값 생성\n",
    "predictions = model.predict(X_test)\n",
    "\n",
    "# 정확도 계산\n",
    "def calculate_accuracy(predictions, y_test):\n",
    "    \"\"\"예측값과 실제값을 비교하여 정확도를 계산\"\"\"\n",
    "    correct_predictions = (predictions == y_test).sum()\n",
    "    accuracy = (correct_predictions / len(y_test)) * 100\n",
    "    return accuracy\n",
    "\n",
    "# y_test와 비교하여 정확도 계산\n",
    "accuracy = calculate_accuracy(predictions, y_test)\n",
    "print(f\"Test Accuracy: {accuracy:.2f}%\")\n"
   ],
   "id": "302e2c1bdd331eea",
   "outputs": [
    {
     "name": "stdout",
     "output_type": "stream",
     "text": [
      "Test Accuracy: 86.03%\n"
     ]
    }
   ],
   "execution_count": 434
  },
  {
   "metadata": {
    "ExecuteTime": {
     "end_time": "2024-10-31T05:38:28.728936Z",
     "start_time": "2024-10-31T05:38:28.726411Z"
    }
   },
   "cell_type": "code",
   "source": "model.accuracy(X_test, y_test)",
   "id": "8467cddc9aa3c12d",
   "outputs": [
    {
     "data": {
      "text/plain": [
       "np.float64(86.03351955307262)"
      ]
     },
     "execution_count": 435,
     "metadata": {},
     "output_type": "execute_result"
    }
   ],
   "execution_count": 435
  },
  {
   "metadata": {
    "ExecuteTime": {
     "end_time": "2024-10-31T05:38:28.733193Z",
     "start_time": "2024-10-31T05:38:28.729560Z"
    }
   },
   "cell_type": "code",
   "source": "",
   "id": "faa9a1acf2c1ef91",
   "outputs": [],
   "execution_count": 435
  }
 ],
 "metadata": {
  "kernelspec": {
   "display_name": "Python 3",
   "language": "python",
   "name": "python3"
  },
  "language_info": {
   "codemirror_mode": {
    "name": "ipython",
    "version": 2
   },
   "file_extension": ".py",
   "mimetype": "text/x-python",
   "name": "python",
   "nbconvert_exporter": "python",
   "pygments_lexer": "ipython2",
   "version": "2.7.6"
  }
 },
 "nbformat": 4,
 "nbformat_minor": 5
}
