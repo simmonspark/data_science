{
 "cells": [
  {
   "cell_type": "markdown",
   "metadata": {
    "collapsed": true,
    "id": "C4i-gMU1C5-3"
   },
   "source": [
    "# Numpy\n",
    "- n 차원 배열 (ndarray)"
   ]
  },
  {
   "cell_type": "markdown",
   "metadata": {
    "id": "HVuKtWi8HKX6"
   },
   "source": [
    "## N-d arrays\n",
    "- indexing, slicing, vectror (element-wise) calculation\n",
    "- reshape, mean, sum, dot, sort"
   ]
  },
  {
   "cell_type": "code",
   "metadata": {
    "id": "UHDPEkjmC5-9",
    "executionInfo": {
     "status": "ok",
     "timestamp": 1721024032432,
     "user_tz": -540,
     "elapsed": 8,
     "user": {
      "displayName": "Yongjin Jeong",
      "userId": "03658406798560557048"
     }
    },
    "ExecuteTime": {
     "end_time": "2024-10-06T09:35:19.749350Z",
     "start_time": "2024-10-06T09:35:19.658842Z"
    }
   },
   "source": [
    "import numpy as np"
   ],
   "outputs": [],
   "execution_count": 1
  },
  {
   "cell_type": "code",
   "metadata": {
    "colab": {
     "base_uri": "https://localhost:8080/"
    },
    "executionInfo": {
     "elapsed": 9,
     "status": "ok",
     "timestamp": 1721024032433,
     "user": {
      "displayName": "Yongjin Jeong",
      "userId": "03658406798560557048"
     },
     "user_tz": -540
    },
    "id": "3odFtzxcC5--",
    "outputId": "d97a76d4-e255-4345-8291-3b4109111f90",
    "ExecuteTime": {
     "end_time": "2024-10-06T09:35:58.240660Z",
     "start_time": "2024-10-06T09:35:58.236330Z"
    }
   },
   "source": [
    "list = [1, 2, 10]\n",
    "print(list * 3)\n",
    "\n",
    "arr = np.array(list)\n",
    "print(arr * 3)"
   ],
   "outputs": [
    {
     "name": "stdout",
     "output_type": "stream",
     "text": [
      "[1, 2, 10, 1, 2, 10, 1, 2, 10]\n",
      "[ 3  6 30]\n"
     ]
    }
   ],
   "execution_count": 2
  },
  {
   "cell_type": "code",
   "metadata": {
    "colab": {
     "base_uri": "https://localhost:8080/"
    },
    "executionInfo": {
     "elapsed": 1692,
     "status": "ok",
     "timestamp": 1721024034119,
     "user": {
      "displayName": "Yongjin Jeong",
      "userId": "03658406798560557048"
     },
     "user_tz": -540
    },
    "id": "3MLevLOBC5--",
    "outputId": "88048ab5-a23a-4ec3-a3d7-c6be00d87c7e",
    "ExecuteTime": {
     "end_time": "2024-10-06T09:36:08.718100Z",
     "start_time": "2024-10-06T09:36:08.562422Z"
    }
   },
   "source": [
    "a=np.arange(1000000)\n",
    "%time a2 = a**2       # %time is Jupyter's magic command to print Wall time\n",
    "L = range(1000000)\n",
    "%time L2 = [i**2 for i in L]"
   ],
   "outputs": [
    {
     "name": "stdout",
     "output_type": "stream",
     "text": [
      "CPU times: user 782 μs, sys: 1.21 ms, total: 1.99 ms\n",
      "Wall time: 1.74 ms\n",
      "CPU times: user 143 ms, sys: 5.2 ms, total: 148 ms\n",
      "Wall time: 150 ms\n"
     ]
    }
   ],
   "execution_count": 3
  },
  {
   "cell_type": "code",
   "metadata": {
    "colab": {
     "base_uri": "https://localhost:8080/"
    },
    "executionInfo": {
     "elapsed": 28,
     "status": "ok",
     "timestamp": 1721024034119,
     "user": {
      "displayName": "Yongjin Jeong",
      "userId": "03658406798560557048"
     },
     "user_tz": -540
    },
    "id": "06T7vTwOC5-_",
    "outputId": "c1fafc3b-7fa6-4d47-cdd8-ec35d14a0e98",
    "ExecuteTime": {
     "end_time": "2024-10-15T12:48:03.074163Z",
     "start_time": "2024-10-15T12:48:03.068610Z"
    }
   },
   "source": [
    "# 2차원 리스트로부터 2차원 배열을 만드는 예\n",
    "data = [[1,2,3],[4,5,6],[7,8,9]]\n",
    "print(data)\n",
    "type(data)"
   ],
   "outputs": [
    {
     "name": "stdout",
     "output_type": "stream",
     "text": [
      "[[1, 2, 3], [4, 5, 6], [7, 8, 9]]\n"
     ]
    },
    {
     "data": {
      "text/plain": [
       "list"
      ]
     },
     "execution_count": 22,
     "metadata": {},
     "output_type": "execute_result"
    }
   ],
   "execution_count": 22
  },
  {
   "cell_type": "code",
   "metadata": {
    "colab": {
     "base_uri": "https://localhost:8080/"
    },
    "executionInfo": {
     "elapsed": 20,
     "status": "ok",
     "timestamp": 1721024034119,
     "user": {
      "displayName": "Yongjin Jeong",
      "userId": "03658406798560557048"
     },
     "user_tz": -540
    },
    "id": "Xw39_ku5C5-_",
    "outputId": "da768f59-f7e8-46af-857e-18e45b6ec9d3",
    "ExecuteTime": {
     "end_time": "2024-10-15T12:48:03.809024Z",
     "start_time": "2024-10-15T12:48:03.804580Z"
    }
   },
   "source": [
    "arr = np.array(data) # list를 ndarray로\n",
    "print(arr)\n",
    "type(arr)"
   ],
   "outputs": [
    {
     "name": "stdout",
     "output_type": "stream",
     "text": [
      "[[1 2 3]\n",
      " [4 5 6]\n",
      " [7 8 9]]\n"
     ]
    },
    {
     "data": {
      "text/plain": [
       "numpy.ndarray"
      ]
     },
     "execution_count": 23,
     "metadata": {},
     "output_type": "execute_result"
    }
   ],
   "execution_count": 23
  },
  {
   "cell_type": "code",
   "metadata": {
    "colab": {
     "base_uri": "https://localhost:8080/"
    },
    "executionInfo": {
     "elapsed": 18,
     "status": "ok",
     "timestamp": 1721024034120,
     "user": {
      "displayName": "Yongjin Jeong",
      "userId": "03658406798560557048"
     },
     "user_tz": -540
    },
    "id": "odWPixl6C5_A",
    "outputId": "7207a253-5e36-4746-ca8b-20a22481b136",
    "ExecuteTime": {
     "end_time": "2024-10-06T09:36:50.762045Z",
     "start_time": "2024-10-06T09:36:50.757715Z"
    }
   },
   "source": [
    "# 배열의 각 항목의 타입을 알아보려면 dtype 속성값을 보면 된다\n",
    "arr.dtype"
   ],
   "outputs": [
    {
     "data": {
      "text/plain": [
       "dtype('int64')"
      ]
     },
     "execution_count": 6,
     "metadata": {},
     "output_type": "execute_result"
    }
   ],
   "execution_count": 6
  },
  {
   "cell_type": "code",
   "metadata": {
    "colab": {
     "base_uri": "https://localhost:8080/"
    },
    "executionInfo": {
     "elapsed": 16,
     "status": "ok",
     "timestamp": 1721024034120,
     "user": {
      "displayName": "Yongjin Jeong",
      "userId": "03658406798560557048"
     },
     "user_tz": -540
    },
    "id": "M7tBwuzjC5_B",
    "outputId": "14fe5be6-8900-4cae-d014-afd1fc5a3d65",
    "ExecuteTime": {
     "end_time": "2024-10-06T09:36:58.802753Z",
     "start_time": "2024-10-06T09:36:58.799131Z"
    }
   },
   "source": [
    "arr"
   ],
   "outputs": [
    {
     "data": {
      "text/plain": [
       "array([[1, 2, 3],\n",
       "       [4, 5, 6],\n",
       "       [7, 8, 9]])"
      ]
     },
     "execution_count": 7,
     "metadata": {},
     "output_type": "execute_result"
    }
   ],
   "execution_count": 7
  },
  {
   "cell_type": "code",
   "metadata": {
    "colab": {
     "base_uri": "https://localhost:8080/"
    },
    "executionInfo": {
     "elapsed": 14,
     "status": "ok",
     "timestamp": 1721024034120,
     "user": {
      "displayName": "Yongjin Jeong",
      "userId": "03658406798560557048"
     },
     "user_tz": -540
    },
    "id": "YwvzNo3oC5_B",
    "outputId": "82928cbb-e44a-45a5-96f5-311616d7b99a",
    "ExecuteTime": {
     "end_time": "2024-10-06T09:36:59.983036Z",
     "start_time": "2024-10-06T09:36:59.979250Z"
    }
   },
   "source": [
    "# 배열의 구조를 보려면 shape 속성을 보면 된다\n",
    "arr.shape"
   ],
   "outputs": [
    {
     "data": {
      "text/plain": [
       "(3, 3)"
      ]
     },
     "execution_count": 8,
     "metadata": {},
     "output_type": "execute_result"
    }
   ],
   "execution_count": 8
  },
  {
   "cell_type": "code",
   "metadata": {
    "colab": {
     "base_uri": "https://localhost:8080/"
    },
    "executionInfo": {
     "elapsed": 12,
     "status": "ok",
     "timestamp": 1721024034120,
     "user": {
      "displayName": "Yongjin Jeong",
      "userId": "03658406798560557048"
     },
     "user_tz": -540
    },
    "id": "xqv8IPX5C5_B",
    "outputId": "33538d46-6677-496c-b92e-882493a25b0c",
    "ExecuteTime": {
     "end_time": "2024-10-06T09:37:08.665447Z",
     "start_time": "2024-10-06T09:37:08.661523Z"
    }
   },
   "source": [
    "\n",
    "print(arr[1,2], arr[1][2])"
   ],
   "outputs": [
    {
     "name": "stdout",
     "output_type": "stream",
     "text": [
      "6 6\n"
     ]
    }
   ],
   "execution_count": 9
  },
  {
   "cell_type": "code",
   "metadata": {
    "colab": {
     "base_uri": "https://localhost:8080/"
    },
    "executionInfo": {
     "elapsed": 9,
     "status": "ok",
     "timestamp": 1721024034120,
     "user": {
      "displayName": "Yongjin Jeong",
      "userId": "03658406798560557048"
     },
     "user_tz": -540
    },
    "id": "NB1PxrrIC5_C",
    "outputId": "e43665eb-7433-441d-89d0-f3a6acc11f4a",
    "ExecuteTime": {
     "end_time": "2024-10-06T09:38:40.046443Z",
     "start_time": "2024-10-06T09:38:40.042510Z"
    }
   },
   "source": [
    "arr[:2,:]"
   ],
   "outputs": [
    {
     "data": {
      "text/plain": [
       "array([[1, 2, 3],\n",
       "       [4, 5, 6]])"
      ]
     },
     "execution_count": 10,
     "metadata": {},
     "output_type": "execute_result"
    }
   ],
   "execution_count": 10
  },
  {
   "cell_type": "code",
   "metadata": {
    "colab": {
     "base_uri": "https://localhost:8080/"
    },
    "executionInfo": {
     "elapsed": 7,
     "status": "ok",
     "timestamp": 1721024034120,
     "user": {
      "displayName": "Yongjin Jeong",
      "userId": "03658406798560557048"
     },
     "user_tz": -540
    },
    "id": "IccQJpRHC5_C",
    "outputId": "1b8e38bc-70f0-4307-d0a8-3ad31009a727",
    "ExecuteTime": {
     "end_time": "2024-10-06T09:38:48.325020Z",
     "start_time": "2024-10-06T09:38:48.320173Z"
    }
   },
   "source": [
    "# 초기값이 0인 배열을 만드는 법\n",
    "np.zeros((2,3))"
   ],
   "outputs": [
    {
     "data": {
      "text/plain": [
       "array([[0., 0., 0.],\n",
       "       [0., 0., 0.]])"
      ]
     },
     "execution_count": 11,
     "metadata": {},
     "output_type": "execute_result"
    }
   ],
   "execution_count": 11
  },
  {
   "cell_type": "code",
   "metadata": {
    "colab": {
     "base_uri": "https://localhost:8080/"
    },
    "executionInfo": {
     "elapsed": 7,
     "status": "ok",
     "timestamp": 1721024034121,
     "user": {
      "displayName": "Yongjin Jeong",
      "userId": "03658406798560557048"
     },
     "user_tz": -540
    },
    "id": "WF6PeS-8C5_C",
    "outputId": "35672e0e-c699-402b-fe2d-0c82cc3cbff7",
    "ExecuteTime": {
     "end_time": "2024-10-06T09:38:49.257548Z",
     "start_time": "2024-10-06T09:38:49.253854Z"
    }
   },
   "source": [
    "np.ones((2,3))"
   ],
   "outputs": [
    {
     "data": {
      "text/plain": [
       "array([[1., 1., 1.],\n",
       "       [1., 1., 1.]])"
      ]
     },
     "execution_count": 12,
     "metadata": {},
     "output_type": "execute_result"
    }
   ],
   "execution_count": 12
  },
  {
   "cell_type": "code",
   "metadata": {
    "colab": {
     "base_uri": "https://localhost:8080/"
    },
    "executionInfo": {
     "elapsed": 935,
     "status": "ok",
     "timestamp": 1721024035051,
     "user": {
      "displayName": "Yongjin Jeong",
      "userId": "03658406798560557048"
     },
     "user_tz": -540
    },
    "id": "hrlSG5xVC5_C",
    "outputId": "4aa2085d-209c-4da2-8656-673c66fa10bb",
    "ExecuteTime": {
     "end_time": "2024-10-06T09:38:51.537841Z",
     "start_time": "2024-10-06T09:38:51.534348Z"
    }
   },
   "source": [
    "np.eye(3)"
   ],
   "outputs": [
    {
     "data": {
      "text/plain": [
       "array([[1., 0., 0.],\n",
       "       [0., 1., 0.],\n",
       "       [0., 0., 1.]])"
      ]
     },
     "execution_count": 13,
     "metadata": {},
     "output_type": "execute_result"
    }
   ],
   "execution_count": 13
  },
  {
   "cell_type": "code",
   "metadata": {
    "colab": {
     "base_uri": "https://localhost:8080/"
    },
    "executionInfo": {
     "elapsed": 42,
     "status": "ok",
     "timestamp": 1721024035051,
     "user": {
      "displayName": "Yongjin Jeong",
      "userId": "03658406798560557048"
     },
     "user_tz": -540
    },
    "id": "Lm3J-kwDC5_D",
    "outputId": "88a72755-040c-4630-f28a-83d6e9bec365",
    "ExecuteTime": {
     "end_time": "2024-10-06T09:41:12.036618Z",
     "start_time": "2024-10-06T09:41:12.031948Z"
    }
   },
   "source": [
    "# 레인지(범위)를 만드는 법\n",
    "x = range(5)\n",
    "print(type(x), x)\n",
    "print([i for i in x])\n",
    "\n",
    "# 레인지 형태로 배열을 만드는 법\n",
    "y = np.arange(5)\n",
    "print(type(y), y)"
   ],
   "outputs": [
    {
     "name": "stdout",
     "output_type": "stream",
     "text": [
      "<class 'range'> range(0, 5)\n",
      "[0, 1, 2, 3, 4]\n",
      "<class 'numpy.ndarray'> [0 1 2 3 4]\n"
     ]
    }
   ],
   "execution_count": 14
  },
  {
   "cell_type": "code",
   "metadata": {
    "colab": {
     "base_uri": "https://localhost:8080/"
    },
    "executionInfo": {
     "elapsed": 40,
     "status": "ok",
     "timestamp": 1721024035052,
     "user": {
      "displayName": "Yongjin Jeong",
      "userId": "03658406798560557048"
     },
     "user_tz": -540
    },
    "id": "-eBHVzGXcKRi",
    "outputId": "880fd14e-b85d-42f7-ae03-0dc1c144ea4a",
    "ExecuteTime": {
     "end_time": "2024-10-06T09:41:13.168062Z",
     "start_time": "2024-10-06T09:41:13.163798Z"
    }
   },
   "source": [
    "x, y"
   ],
   "outputs": [
    {
     "data": {
      "text/plain": [
       "(range(0, 5), array([0, 1, 2, 3, 4]))"
      ]
     },
     "execution_count": 15,
     "metadata": {},
     "output_type": "execute_result"
    }
   ],
   "execution_count": 15
  },
  {
   "metadata": {
    "ExecuteTime": {
     "end_time": "2024-10-15T10:08:51.631257Z",
     "start_time": "2024-10-15T10:08:51.627034Z"
    }
   },
   "cell_type": "code",
   "source": "dummy = [print(i) for i in range(1,5,2)]",
   "outputs": [
    {
     "name": "stdout",
     "output_type": "stream",
     "text": [
      "1\n",
      "3\n"
     ]
    }
   ],
   "execution_count": 1
  },
  {
   "cell_type": "code",
   "metadata": {
    "colab": {
     "base_uri": "https://localhost:8080/"
    },
    "executionInfo": {
     "elapsed": 39,
     "status": "ok",
     "timestamp": 1721024035052,
     "user": {
      "displayName": "Yongjin Jeong",
      "userId": "03658406798560557048"
     },
     "user_tz": -540
    },
    "id": "bO9GT41CC5_D",
    "outputId": "7292d5f3-e00b-4ab2-9673-fa8cf2ad756f",
    "ExecuteTime": {
     "end_time": "2024-10-06T09:41:23.702154Z",
     "start_time": "2024-10-06T09:41:23.698503Z"
    }
   },
   "source": [
    "\n",
    "x[2], y[2]"
   ],
   "outputs": [
    {
     "data": {
      "text/plain": [
       "(2, np.int64(2))"
      ]
     },
     "execution_count": 16,
     "metadata": {},
     "output_type": "execute_result"
    }
   ],
   "execution_count": 16
  },
  {
   "cell_type": "code",
   "metadata": {
    "colab": {
     "base_uri": "https://localhost:8080/"
    },
    "executionInfo": {
     "elapsed": 37,
     "status": "ok",
     "timestamp": 1721024035052,
     "user": {
      "displayName": "Yongjin Jeong",
      "userId": "03658406798560557048"
     },
     "user_tz": -540
    },
    "id": "OI7jeP8bcWL_",
    "outputId": "bb9205f7-b87b-43ff-d379-70863c4c14a1",
    "ExecuteTime": {
     "end_time": "2024-10-06T09:41:27.909128Z",
     "start_time": "2024-10-06T09:41:27.901575Z"
    }
   },
   "source": [
    "np.array([1.,2.]).dtype, np.array([1, 2]).dtype"
   ],
   "outputs": [
    {
     "data": {
      "text/plain": [
       "(dtype('float64'), dtype('int64'))"
      ]
     },
     "execution_count": 17,
     "metadata": {},
     "output_type": "execute_result"
    }
   ],
   "execution_count": 17
  },
  {
   "cell_type": "code",
   "metadata": {
    "colab": {
     "base_uri": "https://localhost:8080/"
    },
    "executionInfo": {
     "elapsed": 36,
     "status": "ok",
     "timestamp": 1721024035052,
     "user": {
      "displayName": "Yongjin Jeong",
      "userId": "03658406798560557048"
     },
     "user_tz": -540
    },
    "id": "mTF5kXSrC5_D",
    "outputId": "e252a4b0-0c6f-4464-8de0-358a49d4c0ea",
    "ExecuteTime": {
     "end_time": "2024-10-06T09:41:28.864625Z",
     "start_time": "2024-10-06T09:41:28.861102Z"
    }
   },
   "source": [
    "# 데이터의 타입을 변경하려면 astype을 사용한다\n",
    "z = y.astype(np.float32) ; z"
   ],
   "outputs": [
    {
     "data": {
      "text/plain": [
       "array([0., 1., 2., 3., 4.], dtype=float32)"
      ]
     },
     "execution_count": 18,
     "metadata": {},
     "output_type": "execute_result"
    }
   ],
   "execution_count": 18
  },
  {
   "cell_type": "code",
   "metadata": {
    "colab": {
     "base_uri": "https://localhost:8080/"
    },
    "executionInfo": {
     "elapsed": 34,
     "status": "ok",
     "timestamp": 1721024035052,
     "user": {
      "displayName": "Yongjin Jeong",
      "userId": "03658406798560557048"
     },
     "user_tz": -540
    },
    "id": "QG8l47iUC5_D",
    "outputId": "037b86c4-a5c0-4d45-c01e-51108f361f81",
    "ExecuteTime": {
     "end_time": "2024-10-06T09:41:33.940374Z",
     "start_time": "2024-10-06T09:41:33.935524Z"
    }
   },
   "source": [
    "# 벡터화: 배열에 상수를 곱하거나 더할 수 있다\n",
    "arr*2"
   ],
   "outputs": [
    {
     "data": {
      "text/plain": [
       "array([[ 2,  4,  6],\n",
       "       [ 8, 10, 12],\n",
       "       [14, 16, 18]])"
      ]
     },
     "execution_count": 19,
     "metadata": {},
     "output_type": "execute_result"
    }
   ],
   "execution_count": 19
  },
  {
   "cell_type": "code",
   "metadata": {
    "colab": {
     "base_uri": "https://localhost:8080/"
    },
    "executionInfo": {
     "elapsed": 33,
     "status": "ok",
     "timestamp": 1721024035052,
     "user": {
      "displayName": "Yongjin Jeong",
      "userId": "03658406798560557048"
     },
     "user_tz": -540
    },
    "id": "lmD70amcC5_E",
    "outputId": "00d62448-8ae4-42f3-9bf0-f4249b75856d",
    "ExecuteTime": {
     "end_time": "2024-10-06T09:41:39.418659Z",
     "start_time": "2024-10-06T09:41:39.415065Z"
    }
   },
   "source": [
    "arr + 1000"
   ],
   "outputs": [
    {
     "data": {
      "text/plain": [
       "array([[1001, 1002, 1003],\n",
       "       [1004, 1005, 1006],\n",
       "       [1007, 1008, 1009]])"
      ]
     },
     "execution_count": 20,
     "metadata": {},
     "output_type": "execute_result"
    }
   ],
   "execution_count": 20
  },
  {
   "cell_type": "code",
   "metadata": {
    "colab": {
     "base_uri": "https://localhost:8080/"
    },
    "executionInfo": {
     "elapsed": 32,
     "status": "ok",
     "timestamp": 1721024035052,
     "user": {
      "displayName": "Yongjin Jeong",
      "userId": "03658406798560557048"
     },
     "user_tz": -540
    },
    "id": "cRLKPD8oC5_E",
    "outputId": "58455ed3-b9f6-46cb-c56d-98b72deb6989",
    "ExecuteTime": {
     "end_time": "2024-10-06T09:41:50.064463Z",
     "start_time": "2024-10-06T09:41:50.060588Z"
    }
   },
   "source": [
    "# 배열을 곱하면 각 항목별로 곱셈을 한다\n",
    "arr*arr"
   ],
   "outputs": [
    {
     "data": {
      "text/plain": [
       "array([[ 1,  4,  9],\n",
       "       [16, 25, 36],\n",
       "       [49, 64, 81]])"
      ]
     },
     "execution_count": 21,
     "metadata": {},
     "output_type": "execute_result"
    }
   ],
   "execution_count": 21
  },
  {
   "cell_type": "code",
   "metadata": {
    "colab": {
     "base_uri": "https://localhost:8080/"
    },
    "executionInfo": {
     "elapsed": 31,
     "status": "ok",
     "timestamp": 1721024035052,
     "user": {
      "displayName": "Yongjin Jeong",
      "userId": "03658406798560557048"
     },
     "user_tz": -540
    },
    "id": "-zhuprwiC5_E",
    "outputId": "1700c0aa-6abe-4a05-db97-612b0b66f33e",
    "ExecuteTime": {
     "end_time": "2024-10-15T12:47:32.971624Z",
     "start_time": "2024-10-15T12:47:32.962977Z"
    }
   },
   "source": [
    "# 전체는 ':'로 표시할 수 있다\n",
    "import numpy as np \n",
    "arr = np.random.randint((3,4))\n",
    "print(arr)\n",
    "arr[:2]"
   ],
   "outputs": [
    {
     "name": "stdout",
     "output_type": "stream",
     "text": [
      "[0 1]\n"
     ]
    },
    {
     "data": {
      "text/plain": [
       "array([0, 1])"
      ]
     },
     "execution_count": 21,
     "metadata": {},
     "output_type": "execute_result"
    }
   ],
   "execution_count": 21
  },
  {
   "cell_type": "code",
   "metadata": {
    "colab": {
     "base_uri": "https://localhost:8080/"
    },
    "executionInfo": {
     "elapsed": 49,
     "status": "ok",
     "timestamp": 1721024035072,
     "user": {
      "displayName": "Yongjin Jeong",
      "userId": "03658406798560557048"
     },
     "user_tz": -540
    },
    "id": "4zmdL0dAC5_E",
    "outputId": "0b9115c5-a664-4e31-ac7e-40c03e7348a4",
    "ExecuteTime": {
     "end_time": "2024-10-15T10:10:12.003563Z",
     "start_time": "2024-10-15T10:10:11.934110Z"
    }
   },
   "source": [
    "# 0~11 값을 얻고 이를 4x3 배열로 재구성한다\n",
    "import numpy as np\n",
    "data = np.arange(12).reshape(4,3)\n",
    "data"
   ],
   "outputs": [
    {
     "data": {
      "text/plain": [
       "array([[ 0,  1,  2],\n",
       "       [ 3,  4,  5],\n",
       "       [ 6,  7,  8],\n",
       "       [ 9, 10, 11]])"
      ]
     },
     "execution_count": 2,
     "metadata": {},
     "output_type": "execute_result"
    }
   ],
   "execution_count": 2
  },
  {
   "cell_type": "code",
   "metadata": {
    "colab": {
     "base_uri": "https://localhost:8080/"
    },
    "executionInfo": {
     "elapsed": 49,
     "status": "ok",
     "timestamp": 1721024035073,
     "user": {
      "displayName": "Yongjin Jeong",
      "userId": "03658406798560557048"
     },
     "user_tz": -540
    },
    "id": "1AqEl4mOC5_F",
    "outputId": "2812784f-097a-4655-f710-879b275e34a4",
    "ExecuteTime": {
     "end_time": "2024-10-15T10:11:42.288203Z",
     "start_time": "2024-10-15T10:11:42.285727Z"
    }
   },
   "source": "'''mask = np.array(data > 5).astype(np.int32) '''# 언시 예제임 이런게 마스크... 왜 마스크를 만드는지 알겠지?",
   "outputs": [],
   "execution_count": 8
  },
  {
   "metadata": {
    "ExecuteTime": {
     "end_time": "2024-10-15T10:36:45.877692Z",
     "start_time": "2024-10-15T10:36:45.855730Z"
    }
   },
   "cell_type": "code",
   "source": "data * mask",
   "outputs": [
    {
     "data": {
      "text/plain": [
       "array([[ 0,  0,  0],\n",
       "       [ 0,  0,  0],\n",
       "       [ 6,  7,  8],\n",
       "       [ 9, 10, 11]])"
      ]
     },
     "execution_count": 17,
     "metadata": {},
     "output_type": "execute_result"
    }
   ],
   "execution_count": 17
  },
  {
   "metadata": {
    "ExecuteTime": {
     "end_time": "2024-10-15T10:10:55.476209Z",
     "start_time": "2024-10-15T10:10:55.473169Z"
    }
   },
   "cell_type": "code",
   "source": "data>5",
   "outputs": [
    {
     "data": {
      "text/plain": [
       "array([[False, False, False],\n",
       "       [False, False, False],\n",
       "       [ True,  True,  True],\n",
       "       [ True,  True,  True]])"
      ]
     },
     "execution_count": 6,
     "metadata": {},
     "output_type": "execute_result"
    }
   ],
   "execution_count": 6
  },
  {
   "cell_type": "code",
   "metadata": {
    "colab": {
     "base_uri": "https://localhost:8080/"
    },
    "executionInfo": {
     "elapsed": 49,
     "status": "ok",
     "timestamp": 1721024035074,
     "user": {
      "displayName": "Yongjin Jeong",
      "userId": "03658406798560557048"
     },
     "user_tz": -540
    },
    "id": "B4XyWrcjc-Jj",
    "outputId": "97eaf46e-c56b-4405-9d49-b46bb3ef59e7",
    "ExecuteTime": {
     "end_time": "2024-10-06T09:42:57.436877Z",
     "start_time": "2024-10-06T09:42:57.433675Z"
    }
   },
   "source": "data[data > 2]",
   "outputs": [
    {
     "data": {
      "text/plain": [
       "array([ 6,  7,  8,  9, 10, 11])"
      ]
     },
     "execution_count": 25,
     "metadata": {},
     "output_type": "execute_result"
    }
   ],
   "execution_count": 25
  },
  {
   "cell_type": "code",
   "metadata": {
    "colab": {
     "base_uri": "https://localhost:8080/"
    },
    "executionInfo": {
     "elapsed": 48,
     "status": "ok",
     "timestamp": 1721024035074,
     "user": {
      "displayName": "Yongjin Jeong",
      "userId": "03658406798560557048"
     },
     "user_tz": -540
    },
    "id": "9yev6-GGC5_F",
    "outputId": "b30c6c26-800c-4be4-df48-8e5d54b91a27",
    "ExecuteTime": {
     "end_time": "2024-10-06T09:43:10.040309Z",
     "start_time": "2024-10-06T09:43:10.035600Z"
    }
   },
   "source": [
    "# 5 보다 큰 값을 모두 5로 교체하는 방법\n",
    "data[data > 5] = 5            # data 값이 바뀜에 주의\n",
    "data"
   ],
   "outputs": [
    {
     "data": {
      "text/plain": [
       "array([[0, 1, 2],\n",
       "       [3, 4, 5],\n",
       "       [5, 5, 5],\n",
       "       [5, 5, 5]])"
      ]
     },
     "execution_count": 26,
     "metadata": {},
     "output_type": "execute_result"
    }
   ],
   "execution_count": 26
  },
  {
   "cell_type": "code",
   "metadata": {
    "colab": {
     "base_uri": "https://localhost:8080/"
    },
    "executionInfo": {
     "elapsed": 46,
     "status": "ok",
     "timestamp": 1721024035074,
     "user": {
      "displayName": "Yongjin Jeong",
      "userId": "03658406798560557048"
     },
     "user_tz": -540
    },
    "id": "8AxMpQMsC5_F",
    "outputId": "96bd483a-7cb2-4f92-fd3f-1724392186b9",
    "ExecuteTime": {
     "end_time": "2024-10-15T12:51:53.312319Z",
     "start_time": "2024-10-15T12:51:53.306346Z"
    }
   },
   "source": [
    "import numpy as np\n",
    "data = np.arange(12).reshape(4,3)\n",
    "data"
   ],
   "outputs": [
    {
     "data": {
      "text/plain": [
       "array([[ 0,  1,  2],\n",
       "       [ 3,  4,  5],\n",
       "       [ 6,  7,  8],\n",
       "       [ 9, 10, 11]])"
      ]
     },
     "execution_count": 24,
     "metadata": {},
     "output_type": "execute_result"
    }
   ],
   "execution_count": 24
  },
  {
   "cell_type": "code",
   "metadata": {
    "colab": {
     "base_uri": "https://localhost:8080/"
    },
    "executionInfo": {
     "elapsed": 45,
     "status": "ok",
     "timestamp": 1721024035074,
     "user": {
      "displayName": "Yongjin Jeong",
      "userId": "03658406798560557048"
     },
     "user_tz": -540
    },
    "id": "KjzZ8de8C5_F",
    "outputId": "e645c201-8143-4b23-eb6b-ec8aa43b03ef",
    "ExecuteTime": {
     "end_time": "2024-10-11T09:27:13.571925Z",
     "start_time": "2024-10-11T09:27:13.566963Z"
    }
   },
   "source": [
    "data.mean(), np.mean(data)"
   ],
   "outputs": [
    {
     "data": {
      "text/plain": [
       "(np.float64(5.5), np.float64(5.5))"
      ]
     },
     "execution_count": 3,
     "metadata": {},
     "output_type": "execute_result"
    }
   ],
   "execution_count": 3
  },
  {
   "cell_type": "code",
   "metadata": {
    "id": "vwWLRMK6dgiJ",
    "executionInfo": {
     "status": "ok",
     "timestamp": 1721024035074,
     "user_tz": -540,
     "elapsed": 44,
     "user": {
      "displayName": "Yongjin Jeong",
      "userId": "03658406798560557048"
     }
    },
    "ExecuteTime": {
     "end_time": "2024-10-11T09:27:14.803093Z",
     "start_time": "2024-10-11T09:27:14.800486Z"
    }
   },
   "source": [
    "# dir(np)"
   ],
   "outputs": [],
   "execution_count": 4
  },
  {
   "cell_type": "code",
   "metadata": {
    "colab": {
     "base_uri": "https://localhost:8080/"
    },
    "executionInfo": {
     "elapsed": 43,
     "status": "ok",
     "timestamp": 1721024035074,
     "user": {
      "displayName": "Yongjin Jeong",
      "userId": "03658406798560557048"
     },
     "user_tz": -540
    },
    "id": "OEG0XOGwC5_F",
    "outputId": "48114a87-414b-431c-cbf3-695554c6e27a",
    "ExecuteTime": {
     "end_time": "2024-10-11T09:27:15.339070Z",
     "start_time": "2024-10-11T09:27:15.335368Z"
    }
   },
   "source": [
    "data[0,1]                # data[0][1]"
   ],
   "outputs": [
    {
     "data": {
      "text/plain": [
       "np.int64(1)"
      ]
     },
     "execution_count": 5,
     "metadata": {},
     "output_type": "execute_result"
    }
   ],
   "execution_count": 5
  },
  {
   "cell_type": "code",
   "metadata": {
    "colab": {
     "base_uri": "https://localhost:8080/"
    },
    "executionInfo": {
     "elapsed": 43,
     "status": "ok",
     "timestamp": 1721024035075,
     "user": {
      "displayName": "Yongjin Jeong",
      "userId": "03658406798560557048"
     },
     "user_tz": -540
    },
    "id": "p4WgsKedC5_G",
    "outputId": "6ce5237f-500d-4cb5-812f-e14b7910306a",
    "ExecuteTime": {
     "end_time": "2024-10-06T09:43:27.909288Z",
     "start_time": "2024-10-06T09:43:27.904591Z"
    }
   },
   "source": [
    "data[0]      # data[0]"
   ],
   "outputs": [
    {
     "data": {
      "text/plain": [
       "array([0, 1, 2])"
      ]
     },
     "execution_count": 31,
     "metadata": {},
     "output_type": "execute_result"
    }
   ],
   "execution_count": 31
  },
  {
   "cell_type": "code",
   "metadata": {
    "colab": {
     "base_uri": "https://localhost:8080/"
    },
    "executionInfo": {
     "elapsed": 41,
     "status": "ok",
     "timestamp": 1721024035075,
     "user": {
      "displayName": "Yongjin Jeong",
      "userId": "03658406798560557048"
     },
     "user_tz": -540
    },
    "id": "RblRjbQ4C5_G",
    "outputId": "ca532251-be7e-449d-a65f-dd468f720fd8",
    "ExecuteTime": {
     "end_time": "2024-10-06T09:43:28.240084Z",
     "start_time": "2024-10-06T09:43:28.237265Z"
    }
   },
   "source": [
    "data[1]"
   ],
   "outputs": [
    {
     "data": {
      "text/plain": [
       "array([3, 4, 5])"
      ]
     },
     "execution_count": 32,
     "metadata": {},
     "output_type": "execute_result"
    }
   ],
   "execution_count": 32
  },
  {
   "cell_type": "code",
   "metadata": {
    "colab": {
     "base_uri": "https://localhost:8080/"
    },
    "executionInfo": {
     "elapsed": 40,
     "status": "ok",
     "timestamp": 1721024035075,
     "user": {
      "displayName": "Yongjin Jeong",
      "userId": "03658406798560557048"
     },
     "user_tz": -540
    },
    "id": "Dopsa5WjC5_G",
    "outputId": "c3bf0797-d2ec-4f56-ac57-1ce99ab6efa4",
    "ExecuteTime": {
     "end_time": "2024-10-15T10:38:24.492063Z",
     "start_time": "2024-10-15T10:38:24.488375Z"
    }
   },
   "source": "data[[0,1]]              # row number 0 ,1 인 rows",
   "outputs": [
    {
     "data": {
      "text/plain": [
       "array([[0, 1, 2],\n",
       "       [3, 4, 5]])"
      ]
     },
     "execution_count": 19,
     "metadata": {},
     "output_type": "execute_result"
    }
   ],
   "execution_count": 19
  },
  {
   "cell_type": "code",
   "metadata": {
    "colab": {
     "base_uri": "https://localhost:8080/"
    },
    "executionInfo": {
     "elapsed": 39,
     "status": "ok",
     "timestamp": 1721024035075,
     "user": {
      "displayName": "Yongjin Jeong",
      "userId": "03658406798560557048"
     },
     "user_tz": -540
    },
    "id": "8eyAD-NdC5_G",
    "outputId": "f7b91180-9dbe-4674-c752-634197f91b3d",
    "ExecuteTime": {
     "end_time": "2024-10-06T09:46:32.319919Z",
     "start_time": "2024-10-06T09:46:32.317128Z"
    }
   },
   "source": [
    "print(data[0], data[0].shape)        # 1 차원 어레이\n",
    "print(data[[0]], data[[0]].shape)    # 2차원 어레이"
   ],
   "outputs": [
    {
     "name": "stdout",
     "output_type": "stream",
     "text": [
      "[0 1 2] (3,)\n",
      "[[0 1 2]] (1, 3)\n"
     ]
    }
   ],
   "execution_count": 38
  },
  {
   "cell_type": "code",
   "metadata": {
    "colab": {
     "base_uri": "https://localhost:8080/"
    },
    "executionInfo": {
     "elapsed": 39,
     "status": "ok",
     "timestamp": 1721024035076,
     "user": {
      "displayName": "Yongjin Jeong",
      "userId": "03658406798560557048"
     },
     "user_tz": -540
    },
    "id": "IGWnzmA3C5_G",
    "outputId": "dc7d588b-a18b-4342-f9d7-fdeb4b01407e",
    "ExecuteTime": {
     "end_time": "2024-10-06T09:47:03.866566Z",
     "start_time": "2024-10-06T09:47:03.861998Z"
    }
   },
   "source": "data[[1,0]]            # 1,0 번째 row",
   "outputs": [
    {
     "data": {
      "text/plain": [
       "array([[3, 4, 5],\n",
       "       [0, 1, 2]])"
      ]
     },
     "execution_count": 39,
     "metadata": {},
     "output_type": "execute_result"
    }
   ],
   "execution_count": 39
  },
  {
   "cell_type": "code",
   "metadata": {
    "colab": {
     "base_uri": "https://localhost:8080/"
    },
    "executionInfo": {
     "elapsed": 37,
     "status": "ok",
     "timestamp": 1721024035076,
     "user": {
      "displayName": "Yongjin Jeong",
      "userId": "03658406798560557048"
     },
     "user_tz": -540
    },
    "id": "UzPVTQ_4C5_H",
    "outputId": "7a69a972-27a1-4e97-cd66-dc19d6435c55",
    "ExecuteTime": {
     "end_time": "2024-10-06T09:47:09.297169Z",
     "start_time": "2024-10-06T09:47:09.292790Z"
    }
   },
   "source": [
    "# 행의 순서를 임의의 순으로 바꿀 수 있다\n",
    "# 팬시 색인으로 배열을 바꾸면 복사본이 생기며 원래의 내용을 바뀌지 않는다\n",
    "data[[3,2,0,1]]"
   ],
   "outputs": [
    {
     "data": {
      "text/plain": [
       "array([[ 9, 10, 11],\n",
       "       [ 6,  7,  8],\n",
       "       [ 0,  1,  2],\n",
       "       [ 3,  4,  5]])"
      ]
     },
     "execution_count": 40,
     "metadata": {},
     "output_type": "execute_result"
    }
   ],
   "execution_count": 40
  },
  {
   "cell_type": "code",
   "metadata": {
    "colab": {
     "base_uri": "https://localhost:8080/"
    },
    "executionInfo": {
     "elapsed": 35,
     "status": "ok",
     "timestamp": 1721024035076,
     "user": {
      "displayName": "Yongjin Jeong",
      "userId": "03658406798560557048"
     },
     "user_tz": -540
    },
    "id": "zuR8HVTAC5_H",
    "outputId": "33dcf934-d2c2-4e81-b52d-e542ecff9391",
    "ExecuteTime": {
     "end_time": "2024-10-06T09:48:41.878110Z",
     "start_time": "2024-10-06T09:48:41.875148Z"
    }
   },
   "source": [
    "data\n",
    "# data 내용은 그대로 남아 있다"
   ],
   "outputs": [
    {
     "data": {
      "text/plain": [
       "array([[ 0,  1,  2],\n",
       "       [ 3,  4,  5],\n",
       "       [ 6,  7,  8],\n",
       "       [ 9, 10, 11]])"
      ]
     },
     "execution_count": 41,
     "metadata": {},
     "output_type": "execute_result"
    }
   ],
   "execution_count": 41
  },
  {
   "cell_type": "code",
   "metadata": {
    "colab": {
     "base_uri": "https://localhost:8080/"
    },
    "executionInfo": {
     "elapsed": 34,
     "status": "ok",
     "timestamp": 1721024035076,
     "user": {
      "displayName": "Yongjin Jeong",
      "userId": "03658406798560557048"
     },
     "user_tz": -540
    },
    "id": "S9UNpkrEea3c",
    "outputId": "cada8eec-4f36-44b9-bb56-2365dde51606",
    "ExecuteTime": {
     "end_time": "2024-10-06T09:49:34.771343Z",
     "start_time": "2024-10-06T09:49:34.757454Z"
    }
   },
   "source": "data[:,[0,1]]",
   "outputs": [
    {
     "data": {
      "text/plain": [
       "array([[ 0,  1],\n",
       "       [ 3,  4],\n",
       "       [ 6,  7],\n",
       "       [ 9, 10]])"
      ]
     },
     "execution_count": 43,
     "metadata": {},
     "output_type": "execute_result"
    }
   ],
   "execution_count": 43
  },
  {
   "cell_type": "code",
   "metadata": {
    "colab": {
     "base_uri": "https://localhost:8080/"
    },
    "executionInfo": {
     "elapsed": 33,
     "status": "ok",
     "timestamp": 1721024035076,
     "user": {
      "displayName": "Yongjin Jeong",
      "userId": "03658406798560557048"
     },
     "user_tz": -540
    },
    "id": "_rTXSni9C5_H",
    "outputId": "962ed88c-1e1f-4c6a-8109-752d3d679c4f",
    "ExecuteTime": {
     "end_time": "2024-10-06T09:49:39.796349Z",
     "start_time": "2024-10-06T09:49:39.793166Z"
    }
   },
   "source": [
    "# 열의 순서도 바꿀 수 있다\n",
    "data[:,[2,1,0]]"
   ],
   "outputs": [
    {
     "data": {
      "text/plain": [
       "array([[ 2,  1,  0],\n",
       "       [ 5,  4,  3],\n",
       "       [ 8,  7,  6],\n",
       "       [11, 10,  9]])"
      ]
     },
     "execution_count": 44,
     "metadata": {},
     "output_type": "execute_result"
    }
   ],
   "execution_count": 44
  },
  {
   "cell_type": "code",
   "metadata": {
    "colab": {
     "base_uri": "https://localhost:8080/"
    },
    "executionInfo": {
     "elapsed": 32,
     "status": "ok",
     "timestamp": 1721024035076,
     "user": {
      "displayName": "Yongjin Jeong",
      "userId": "03658406798560557048"
     },
     "user_tz": -540
    },
    "id": "HL2Tv20mC5_H",
    "outputId": "6ca5b2e7-20da-4088-b0d1-d52dad6e3b06",
    "ExecuteTime": {
     "end_time": "2024-10-06T09:49:55.058596Z",
     "start_time": "2024-10-06T09:49:55.055145Z"
    }
   },
   "source": [
    "# 행과 열을 모두 바꾸려면 아래와 같이 한다\n",
    "print(data[[3,2,1,0]])\n",
    "print(data[[3,2,1,0]][0:1,[2,1,0]])"
   ],
   "outputs": [
    {
     "name": "stdout",
     "output_type": "stream",
     "text": [
      "[[ 9 10 11]\n",
      " [ 6  7  8]\n",
      " [ 3  4  5]\n",
      " [ 0  1  2]]\n",
      "[[11 10  9]\n",
      " [ 8  7  6]\n",
      " [ 5  4  3]\n",
      " [ 2  1  0]]\n"
     ]
    }
   ],
   "execution_count": 45
  },
  {
   "cell_type": "code",
   "metadata": {
    "colab": {
     "base_uri": "https://localhost:8080/"
    },
    "executionInfo": {
     "elapsed": 1370,
     "status": "ok",
     "timestamp": 1721024036416,
     "user": {
      "displayName": "Yongjin Jeong",
      "userId": "03658406798560557048"
     },
     "user_tz": -540
    },
    "id": "g3rGDbFAC5_I",
    "outputId": "2db78d78-ad39-4388-8dc9-feb6d15d2b8c",
    "scrolled": true,
    "ExecuteTime": {
     "end_time": "2024-10-06T09:50:02.900339Z",
     "start_time": "2024-10-06T09:50:02.895944Z"
    }
   },
   "source": "(data[[3,2,1,0]][:,[2,1,0]]",
   "outputs": [
    {
     "data": {
      "text/plain": [
       "array([[11, 10,  9],\n",
       "       [ 8,  7,  6],\n",
       "       [ 5,  4,  3],\n",
       "       [ 2,  1,  0]])"
      ]
     },
     "execution_count": 46,
     "metadata": {},
     "output_type": "execute_result"
    }
   ],
   "execution_count": 46
  },
  {
   "cell_type": "code",
   "metadata": {
    "colab": {
     "base_uri": "https://localhost:8080/"
    },
    "executionInfo": {
     "elapsed": 19,
     "status": "ok",
     "timestamp": 1721024036416,
     "user": {
      "displayName": "Yongjin Jeong",
      "userId": "03658406798560557048"
     },
     "user_tz": -540
    },
    "id": "5Hn0O8Y6C5_I",
    "outputId": "30797ae7-3fbe-4f0e-d9ca-757a893b4c09",
    "ExecuteTime": {
     "end_time": "2024-10-06T09:50:31.397651Z",
     "start_time": "2024-10-06T09:50:31.393471Z"
    }
   },
   "source": [
    "(data[[3,2,1,0]])[[2,1,0]]"
   ],
   "outputs": [
    {
     "data": {
      "text/plain": [
       "array([[ 3,  4,  5],\n",
       "       [ 6,  7,  8],\n",
       "       [ 9, 10, 11]])"
      ]
     },
     "execution_count": 47,
     "metadata": {},
     "output_type": "execute_result"
    }
   ],
   "execution_count": 47
  },
  {
   "cell_type": "code",
   "metadata": {
    "colab": {
     "base_uri": "https://localhost:8080/"
    },
    "executionInfo": {
     "elapsed": 18,
     "status": "ok",
     "timestamp": 1721024036416,
     "user": {
      "displayName": "Yongjin Jeong",
      "userId": "03658406798560557048"
     },
     "user_tz": -540
    },
    "id": "5MWQaDcJC5_I",
    "outputId": "9dac77e6-7ed8-4e1e-a959-abfc413db7f7",
    "scrolled": true,
    "ExecuteTime": {
     "end_time": "2024-10-06T09:50:44.681944Z",
     "start_time": "2024-10-06T09:50:44.679017Z"
    }
   },
   "source": [
    "# 트랜스포즈는 행과 열의 위치를 바꾸는 것이다\n",
    "data.T"
   ],
   "outputs": [
    {
     "data": {
      "text/plain": [
       "array([[ 0,  3,  6,  9],\n",
       "       [ 1,  4,  7, 10],\n",
       "       [ 2,  5,  8, 11]])"
      ]
     },
     "execution_count": 48,
     "metadata": {},
     "output_type": "execute_result"
    }
   ],
   "execution_count": 48
  },
  {
   "cell_type": "code",
   "metadata": {
    "colab": {
     "base_uri": "https://localhost:8080/"
    },
    "executionInfo": {
     "elapsed": 16,
     "status": "ok",
     "timestamp": 1721024036416,
     "user": {
      "displayName": "Yongjin Jeong",
      "userId": "03658406798560557048"
     },
     "user_tz": -540
    },
    "id": "UAfR-55-C5_I",
    "outputId": "3ed7a0ba-d9e7-4adf-948d-20adf5661512",
    "scrolled": true,
    "ExecuteTime": {
     "end_time": "2024-10-06T09:50:49.461993Z",
     "start_time": "2024-10-06T09:50:49.457899Z"
    }
   },
   "source": [
    "# 배열의 곱셈은 np.dot()을 사용한다\n",
    "np.dot(data, data.T)"
   ],
   "outputs": [
    {
     "data": {
      "text/plain": [
       "array([[  5,  14,  23,  32],\n",
       "       [ 14,  50,  86, 122],\n",
       "       [ 23,  86, 149, 212],\n",
       "       [ 32, 122, 212, 302]])"
      ]
     },
     "execution_count": 49,
     "metadata": {},
     "output_type": "execute_result"
    }
   ],
   "execution_count": 49
  },
  {
   "cell_type": "code",
   "metadata": {
    "colab": {
     "base_uri": "https://localhost:8080/"
    },
    "executionInfo": {
     "elapsed": 15,
     "status": "ok",
     "timestamp": 1721024036416,
     "user": {
      "displayName": "Yongjin Jeong",
      "userId": "03658406798560557048"
     },
     "user_tz": -540
    },
    "id": "Ikk65HfRC5_I",
    "outputId": "720671a1-ecbc-41fc-ba4b-ad3f8ab1a5f5",
    "ExecuteTime": {
     "end_time": "2024-10-06T09:50:59.786367Z",
     "start_time": "2024-10-06T09:50:59.782349Z"
    }
   },
   "source": [
    "data.dot(data.T)"
   ],
   "outputs": [
    {
     "data": {
      "text/plain": [
       "array([[  5,  14,  23,  32],\n",
       "       [ 14,  50,  86, 122],\n",
       "       [ 23,  86, 149, 212],\n",
       "       [ 32, 122, 212, 302]])"
      ]
     },
     "execution_count": 50,
     "metadata": {},
     "output_type": "execute_result"
    }
   ],
   "execution_count": 50
  },
  {
   "cell_type": "code",
   "metadata": {
    "colab": {
     "base_uri": "https://localhost:8080/"
    },
    "executionInfo": {
     "elapsed": 15,
     "status": "ok",
     "timestamp": 1721024036417,
     "user": {
      "displayName": "Yongjin Jeong",
      "userId": "03658406798560557048"
     },
     "user_tz": -540
    },
    "id": "1Ji1rG--1-rg",
    "outputId": "b472818e-dd3f-47f0-aec2-88f91080ffe2",
    "ExecuteTime": {
     "end_time": "2024-10-06T09:51:03.035400Z",
     "start_time": "2024-10-06T09:51:03.031829Z"
    }
   },
   "source": [
    "data@data.T"
   ],
   "outputs": [
    {
     "data": {
      "text/plain": [
       "array([[  5,  14,  23,  32],\n",
       "       [ 14,  50,  86, 122],\n",
       "       [ 23,  86, 149, 212],\n",
       "       [ 32, 122, 212, 302]])"
      ]
     },
     "execution_count": 51,
     "metadata": {},
     "output_type": "execute_result"
    }
   ],
   "execution_count": 51
  },
  {
   "cell_type": "code",
   "metadata": {
    "colab": {
     "base_uri": "https://localhost:8080/"
    },
    "executionInfo": {
     "elapsed": 14,
     "status": "ok",
     "timestamp": 1721024036417,
     "user": {
      "displayName": "Yongjin Jeong",
      "userId": "03658406798560557048"
     },
     "user_tz": -540
    },
    "id": "RyaFg8Y6C5_J",
    "outputId": "b1ee276e-d16b-4388-83fe-5a5cba138aa9",
    "ExecuteTime": {
     "end_time": "2024-10-06T09:51:07.921104Z",
     "start_time": "2024-10-06T09:51:07.918043Z"
    }
   },
   "source": [
    "data"
   ],
   "outputs": [
    {
     "data": {
      "text/plain": [
       "array([[ 0,  1,  2],\n",
       "       [ 3,  4,  5],\n",
       "       [ 6,  7,  8],\n",
       "       [ 9, 10, 11]])"
      ]
     },
     "execution_count": 52,
     "metadata": {},
     "output_type": "execute_result"
    }
   ],
   "execution_count": 52
  },
  {
   "cell_type": "code",
   "metadata": {
    "colab": {
     "base_uri": "https://localhost:8080/"
    },
    "executionInfo": {
     "elapsed": 13,
     "status": "ok",
     "timestamp": 1721024036417,
     "user": {
      "displayName": "Yongjin Jeong",
      "userId": "03658406798560557048"
     },
     "user_tz": -540
    },
    "id": "LxQEQ5LLC5_J",
    "outputId": "0d488245-2cdb-4294-87c2-43ff136f4065",
    "ExecuteTime": {
     "end_time": "2024-10-06T09:51:12.009391Z",
     "start_time": "2024-10-06T09:51:12.006184Z"
    }
   },
   "source": [
    "print(data.mean())\n",
    "print(data.mean(axis=0)) # 각 열에 대한 평균\n",
    "print(data.mean(0))      # axis 생략 가능E\n",
    "print(data.mean(1))      # 각 행에 대한 평균"
   ],
   "outputs": [
    {
     "name": "stdout",
     "output_type": "stream",
     "text": [
      "5.5\n",
      "[4.5 5.5 6.5]\n",
      "[4.5 5.5 6.5]\n",
      "[ 1.  4.  7. 10.]\n"
     ]
    }
   ],
   "execution_count": 53
  },
  {
   "cell_type": "code",
   "metadata": {
    "colab": {
     "base_uri": "https://localhost:8080/"
    },
    "executionInfo": {
     "elapsed": 12,
     "status": "ok",
     "timestamp": 1721024036417,
     "user": {
      "displayName": "Yongjin Jeong",
      "userId": "03658406798560557048"
     },
     "user_tz": -540
    },
    "id": "Mst65SyAC5_J",
    "outputId": "d5196add-bd03-4e06-df59-7097eaab531b",
    "ExecuteTime": {
     "end_time": "2024-10-06T09:51:49.851907Z",
     "start_time": "2024-10-06T09:51:49.849230Z"
    }
   },
   "source": [
    "print(data.sum())\n",
    "print(data.sum(0))\n",
    "print(data.sum(1))"
   ],
   "outputs": [
    {
     "name": "stdout",
     "output_type": "stream",
     "text": [
      "66\n",
      "[18 22 26]\n",
      "[ 3 12 21 30]\n"
     ]
    }
   ],
   "execution_count": 54
  },
  {
   "cell_type": "code",
   "metadata": {
    "colab": {
     "base_uri": "https://localhost:8080/"
    },
    "executionInfo": {
     "elapsed": 11,
     "status": "ok",
     "timestamp": 1721024036417,
     "user": {
      "displayName": "Yongjin Jeong",
      "userId": "03658406798560557048"
     },
     "user_tz": -540
    },
    "id": "9bJf1A95C5_J",
    "outputId": "a20c1fce-abee-4f43-e6af-0a37f0c9600c",
    "ExecuteTime": {
     "end_time": "2024-10-06T09:51:50.177088Z",
     "start_time": "2024-10-06T09:51:50.173870Z"
    }
   },
   "source": [
    "# 배열에서 값이 특정 수보다 큰 원소의 갯수를 반환한다.\n",
    "x = np.array([1,2,3,4,5,6])\n",
    "print((x>4))\n",
    "(x>4).sum()"
   ],
   "outputs": [
    {
     "name": "stdout",
     "output_type": "stream",
     "text": [
      "[False False False False  True  True]\n"
     ]
    },
    {
     "data": {
      "text/plain": [
       "np.int64(2)"
      ]
     },
     "execution_count": 55,
     "metadata": {},
     "output_type": "execute_result"
    }
   ],
   "execution_count": 55
  },
  {
   "cell_type": "code",
   "metadata": {
    "colab": {
     "base_uri": "https://localhost:8080/"
    },
    "executionInfo": {
     "elapsed": 10,
     "status": "ok",
     "timestamp": 1721024036417,
     "user": {
      "displayName": "Yongjin Jeong",
      "userId": "03658406798560557048"
     },
     "user_tz": -540
    },
    "id": "KF3mXZjHC5_J",
    "outputId": "46ca68c0-8bf1-4664-aab8-47e6e2a80120",
    "ExecuteTime": {
     "end_time": "2024-10-06T09:52:43.290005Z",
     "start_time": "2024-10-06T09:52:43.284717Z"
    }
   },
   "source": [
    "print(x[x>4])\n",
    "x[x>4].sum()"
   ],
   "outputs": [
    {
     "name": "stdout",
     "output_type": "stream",
     "text": [
      "[5 6]\n"
     ]
    },
    {
     "data": {
      "text/plain": [
       "np.int64(11)"
      ]
     },
     "execution_count": 56,
     "metadata": {},
     "output_type": "execute_result"
    }
   ],
   "execution_count": 56
  },
  {
   "cell_type": "code",
   "metadata": {
    "colab": {
     "base_uri": "https://localhost:8080/"
    },
    "executionInfo": {
     "elapsed": 9,
     "status": "ok",
     "timestamp": 1721024036417,
     "user": {
      "displayName": "Yongjin Jeong",
      "userId": "03658406798560557048"
     },
     "user_tz": -540
    },
    "id": "M_6TjBbQC5_K",
    "outputId": "484e03a4-a337-4f45-9060-247886671ef4",
    "ExecuteTime": {
     "end_time": "2024-10-06T09:52:46.207088Z",
     "start_time": "2024-10-06T09:52:46.204097Z"
    }
   },
   "source": [
    "data"
   ],
   "outputs": [
    {
     "data": {
      "text/plain": [
       "array([[ 0,  1,  2],\n",
       "       [ 3,  4,  5],\n",
       "       [ 6,  7,  8],\n",
       "       [ 9, 10, 11]])"
      ]
     },
     "execution_count": 57,
     "metadata": {},
     "output_type": "execute_result"
    }
   ],
   "execution_count": 57
  },
  {
   "cell_type": "code",
   "metadata": {
    "colab": {
     "base_uri": "https://localhost:8080/"
    },
    "executionInfo": {
     "elapsed": 8,
     "status": "ok",
     "timestamp": 1721024036417,
     "user": {
      "displayName": "Yongjin Jeong",
      "userId": "03658406798560557048"
     },
     "user_tz": -540
    },
    "id": "bJ9GuAAfIxax",
    "outputId": "481539be-bc52-4c2a-d1ed-659394f07220",
    "ExecuteTime": {
     "end_time": "2024-10-06T09:52:52.374786Z",
     "start_time": "2024-10-06T09:52:52.371046Z"
    }
   },
   "source": [
    "data>4"
   ],
   "outputs": [
    {
     "data": {
      "text/plain": [
       "array([[False, False, False],\n",
       "       [False, False,  True],\n",
       "       [ True,  True,  True],\n",
       "       [ True,  True,  True]])"
      ]
     },
     "execution_count": 58,
     "metadata": {},
     "output_type": "execute_result"
    }
   ],
   "execution_count": 58
  },
  {
   "cell_type": "code",
   "metadata": {
    "colab": {
     "base_uri": "https://localhost:8080/"
    },
    "executionInfo": {
     "elapsed": 7,
     "status": "ok",
     "timestamp": 1721024036417,
     "user": {
      "displayName": "Yongjin Jeong",
      "userId": "03658406798560557048"
     },
     "user_tz": -540
    },
    "id": "5nEPCXiyC5_K",
    "outputId": "b4564ad6-4c06-4d92-daa6-1268c9d8de40",
    "ExecuteTime": {
     "end_time": "2024-10-06T09:52:52.755733Z",
     "start_time": "2024-10-06T09:52:52.751670Z"
    }
   },
   "source": [
    "(data>4), (data>4).sum()"
   ],
   "outputs": [
    {
     "data": {
      "text/plain": [
       "(array([[False, False, False],\n",
       "        [False, False,  True],\n",
       "        [ True,  True,  True],\n",
       "        [ True,  True,  True]]),\n",
       " np.int64(7))"
      ]
     },
     "execution_count": 59,
     "metadata": {},
     "output_type": "execute_result"
    }
   ],
   "execution_count": 59
  },
  {
   "cell_type": "code",
   "metadata": {
    "colab": {
     "base_uri": "https://localhost:8080/"
    },
    "executionInfo": {
     "elapsed": 6,
     "status": "ok",
     "timestamp": 1721024036417,
     "user": {
      "displayName": "Yongjin Jeong",
      "userId": "03658406798560557048"
     },
     "user_tz": -540
    },
    "id": "jVtrw4FHC5_K",
    "outputId": "bcd1f831-5a4e-4776-f093-a19bd89f0159",
    "ExecuteTime": {
     "end_time": "2024-10-11T09:33:16.465102Z",
     "start_time": "2024-10-11T09:33:16.458471Z"
    }
   },
   "source": [
    "z = np.random.randint(0,100, 10) ; z"
   ],
   "outputs": [
    {
     "data": {
      "text/plain": [
       "array([26, 46, 75, 42, 32, 91, 11, 64, 33, 45])"
      ]
     },
     "execution_count": 7,
     "metadata": {},
     "output_type": "execute_result"
    }
   ],
   "execution_count": 7
  },
  {
   "cell_type": "code",
   "metadata": {
    "colab": {
     "base_uri": "https://localhost:8080/"
    },
    "executionInfo": {
     "elapsed": 6,
     "status": "ok",
     "timestamp": 1721024036418,
     "user": {
      "displayName": "Yongjin Jeong",
      "userId": "03658406798560557048"
     },
     "user_tz": -540
    },
    "id": "pemK4XI4f8G-",
    "outputId": "22d01d66-2917-4b9f-a997-1206a9daa6b4",
    "ExecuteTime": {
     "end_time": "2024-10-11T09:33:20.251713Z",
     "start_time": "2024-10-11T09:33:20.248732Z"
    }
   },
   "source": [
    "np.random.randint(1, 7, size=(3,4))"
   ],
   "outputs": [
    {
     "data": {
      "text/plain": [
       "array([[2, 5, 5, 5],\n",
       "       [4, 4, 4, 3],\n",
       "       [5, 3, 4, 4]])"
      ]
     },
     "execution_count": 8,
     "metadata": {},
     "output_type": "execute_result"
    }
   ],
   "execution_count": 8
  },
  {
   "cell_type": "code",
   "metadata": {
    "executionInfo": {
     "elapsed": 17,
     "status": "ok",
     "timestamp": 1721024036986,
     "user": {
      "displayName": "Yongjin Jeong",
      "userId": "03658406798560557048"
     },
     "user_tz": -540
    },
    "id": "z1nATiEXC5_K",
    "scrolled": true,
    "ExecuteTime": {
     "end_time": "2024-10-11T09:33:21.206005Z",
     "start_time": "2024-10-11T09:33:21.204004Z"
    }
   },
   "source": [
    "z.sort()    # in-place"
   ],
   "outputs": [],
   "execution_count": 9
  },
  {
   "cell_type": "code",
   "metadata": {
    "colab": {
     "base_uri": "https://localhost:8080/"
    },
    "executionInfo": {
     "elapsed": 16,
     "status": "ok",
     "timestamp": 1721024036986,
     "user": {
      "displayName": "Yongjin Jeong",
      "userId": "03658406798560557048"
     },
     "user_tz": -540
    },
    "id": "h2qHGemkC5_K",
    "outputId": "ac67f590-bc52-4b33-c245-d32306b166e7",
    "ExecuteTime": {
     "end_time": "2024-10-11T09:33:21.769909Z",
     "start_time": "2024-10-11T09:33:21.766595Z"
    }
   },
   "source": [
    "z"
   ],
   "outputs": [
    {
     "data": {
      "text/plain": [
       "array([11, 26, 32, 33, 42, 45, 46, 64, 75, 91])"
      ]
     },
     "execution_count": 10,
     "metadata": {},
     "output_type": "execute_result"
    }
   ],
   "execution_count": 10
  },
  {
   "cell_type": "code",
   "metadata": {
    "colab": {
     "base_uri": "https://localhost:8080/"
    },
    "executionInfo": {
     "elapsed": 16,
     "status": "ok",
     "timestamp": 1721024036986,
     "user": {
      "displayName": "Yongjin Jeong",
      "userId": "03658406798560557048"
     },
     "user_tz": -540
    },
    "id": "LSFA3LJ9C5_L",
    "outputId": "7d3f0c43-ba3b-44af-b1fd-01bb10a5da47",
    "ExecuteTime": {
     "end_time": "2024-10-11T09:33:23.448085Z",
     "start_time": "2024-10-11T09:33:23.441634Z"
    }
   },
   "source": [
    "z = z[::-1]   # descending\n",
    "z"
   ],
   "outputs": [
    {
     "data": {
      "text/plain": [
       "array([91, 75, 64, 46, 45, 42, 33, 32, 26, 11])"
      ]
     },
     "execution_count": 11,
     "metadata": {},
     "output_type": "execute_result"
    }
   ],
   "execution_count": 11
  },
  {
   "cell_type": "code",
   "metadata": {
    "colab": {
     "base_uri": "https://localhost:8080/"
    },
    "executionInfo": {
     "elapsed": 338,
     "status": "ok",
     "timestamp": 1721024304310,
     "user": {
      "displayName": "Yongjin Jeong",
      "userId": "03658406798560557048"
     },
     "user_tz": -540
    },
    "id": "Q9rnC2tRC5_L",
    "outputId": "464aa6b3-5596-4ca7-ae16-e097f981ff72",
    "ExecuteTime": {
     "end_time": "2024-10-06T09:55:44.635423Z",
     "start_time": "2024-10-06T09:55:44.632640Z"
    }
   },
   "source": [
    "t = np.array([[8,4,11,5],[2,10,7,3],[9,12,1,6]])\n",
    "t"
   ],
   "outputs": [
    {
     "data": {
      "text/plain": [
       "array([[ 8,  4, 11,  5],\n",
       "       [ 2, 10,  7,  3],\n",
       "       [ 9, 12,  1,  6]])"
      ]
     },
     "execution_count": 66,
     "metadata": {},
     "output_type": "execute_result"
    }
   ],
   "execution_count": 66
  },
  {
   "cell_type": "code",
   "metadata": {
    "executionInfo": {
     "elapsed": 350,
     "status": "ok",
     "timestamp": 1721024311952,
     "user": {
      "displayName": "Yongjin Jeong",
      "userId": "03658406798560557048"
     },
     "user_tz": -540
    },
    "id": "Rv6LVM3GC5_L",
    "ExecuteTime": {
     "end_time": "2024-10-06T09:55:45.316753Z",
     "start_time": "2024-10-06T09:55:45.313926Z"
    }
   },
   "source": [
    "# 열을 기준으로 소팅 - 컬럼별로 독립적\n",
    "t.sort(axis=0)"
   ],
   "outputs": [],
   "execution_count": 67
  },
  {
   "cell_type": "code",
   "metadata": {
    "colab": {
     "base_uri": "https://localhost:8080/"
    },
    "executionInfo": {
     "elapsed": 333,
     "status": "ok",
     "timestamp": 1721024314399,
     "user": {
      "displayName": "Yongjin Jeong",
      "userId": "03658406798560557048"
     },
     "user_tz": -540
    },
    "id": "GCdQfbsohZt6",
    "outputId": "aed64727-0f5b-433a-87c8-0d84484ff180",
    "ExecuteTime": {
     "end_time": "2024-10-06T09:55:46.710654Z",
     "start_time": "2024-10-06T09:55:46.706966Z"
    }
   },
   "source": [
    "t        # all columns are sorted independently"
   ],
   "outputs": [
    {
     "data": {
      "text/plain": [
       "array([[ 2,  4,  1,  3],\n",
       "       [ 8, 10,  7,  5],\n",
       "       [ 9, 12, 11,  6]])"
      ]
     },
     "execution_count": 68,
     "metadata": {},
     "output_type": "execute_result"
    }
   ],
   "execution_count": 68
  },
  {
   "cell_type": "code",
   "metadata": {
    "colab": {
     "base_uri": "https://localhost:8080/"
    },
    "executionInfo": {
     "elapsed": 339,
     "status": "ok",
     "timestamp": 1721024324058,
     "user": {
      "displayName": "Yongjin Jeong",
      "userId": "03658406798560557048"
     },
     "user_tz": -540
    },
    "id": "M1xJjkNjC5_L",
    "outputId": "1add1202-fc81-40a2-de37-fe64864d1900",
    "ExecuteTime": {
     "end_time": "2024-10-06T09:55:48.323766Z",
     "start_time": "2024-10-06T09:55:48.320048Z"
    }
   },
   "source": [
    "# 행에서 소팅\n",
    "t.sort(axis=1) ; t   # in-place"
   ],
   "outputs": [
    {
     "data": {
      "text/plain": [
       "array([[ 1,  2,  3,  4],\n",
       "       [ 5,  7,  8, 10],\n",
       "       [ 6,  9, 11, 12]])"
      ]
     },
     "execution_count": 69,
     "metadata": {},
     "output_type": "execute_result"
    }
   ],
   "execution_count": 69
  },
  {
   "cell_type": "code",
   "metadata": {
    "colab": {
     "base_uri": "https://localhost:8080/"
    },
    "executionInfo": {
     "elapsed": 313,
     "status": "ok",
     "timestamp": 1721024349981,
     "user": {
      "displayName": "Yongjin Jeong",
      "userId": "03658406798560557048"
     },
     "user_tz": -540
    },
    "id": "tAKiSz1LC5_M",
    "outputId": "8abcca22-e95d-42c5-9df9-e2f0a1436570",
    "ExecuteTime": {
     "end_time": "2024-10-06T09:55:50.136388Z",
     "start_time": "2024-10-06T09:55:50.132812Z"
    }
   },
   "source": [
    "# 순서를 임의로 바꾸는 방법\n",
    "z = np.arange(10)\n",
    "np.random.permutation(z)"
   ],
   "outputs": [
    {
     "data": {
      "text/plain": [
       "array([0, 8, 9, 2, 6, 7, 4, 1, 5, 3])"
      ]
     },
     "execution_count": 70,
     "metadata": {},
     "output_type": "execute_result"
    }
   ],
   "execution_count": 70
  },
  {
   "cell_type": "code",
   "metadata": {
    "colab": {
     "base_uri": "https://localhost:8080/",
     "height": 430
    },
    "executionInfo": {
     "elapsed": 419,
     "status": "ok",
     "timestamp": 1721024356479,
     "user": {
      "displayName": "Yongjin Jeong",
      "userId": "03658406798560557048"
     },
     "user_tz": -540
    },
    "id": "Gt8U3unOC5_M",
    "outputId": "be1cfb5b-24ae-431a-a378-58833bed8c2e",
    "ExecuteTime": {
     "end_time": "2024-10-06T09:56:53.392947Z",
     "start_time": "2024-10-06T09:56:53.334340Z"
    }
   },
   "source": [
    "import numpy as np\n",
    "import matplotlib.pyplot as plt\n",
    "x = np.linspace(0, 3, 20)\n",
    "y = np.linspace(0, 9, 20)\n",
    "plt.plot(x, y)\n",
    "plt.plot(x, y, 'o')\n",
    "plt.show()"
   ],
   "outputs": [
    {
     "data": {
      "text/plain": [
       "<Figure size 640x480 with 1 Axes>"
      ],
      "image/png": "[encoded data removed]"
     },
     "metadata": {},
     "output_type": "display_data"
    }
   ],
   "execution_count": 77
  },
  {
   "cell_type": "markdown",
   "metadata": {
    "id": "18LgOOmEG98E"
   },
   "source": [
    "## Concatenation"
   ]
  },
  {
   "cell_type": "code",
   "metadata": {
    "colab": {
     "base_uri": "https://localhost:8080/"
    },
    "executionInfo": {
     "elapsed": 355,
     "status": "ok",
     "timestamp": 1721024375148,
     "user": {
      "displayName": "Yongjin Jeong",
      "userId": "03658406798560557048"
     },
     "user_tz": -540
    },
    "id": "UZlGV6YsC5_M",
    "outputId": "aea49d6c-2d65-465f-cffb-f4b0dc24f4a5",
    "ExecuteTime": {
     "end_time": "2024-10-06T09:57:02.760689Z",
     "start_time": "2024-10-06T09:57:02.755712Z"
    }
   },
   "source": [
    "# concatenation\n",
    "\n",
    "a = np.arange(12).reshape(3,4); a"
   ],
   "outputs": [
    {
     "data": {
      "text/plain": [
       "array([[ 0,  1,  2,  3],\n",
       "       [ 4,  5,  6,  7],\n",
       "       [ 8,  9, 10, 11]])"
      ]
     },
     "execution_count": 78,
     "metadata": {},
     "output_type": "execute_result"
    }
   ],
   "execution_count": 78
  },
  {
   "cell_type": "code",
   "metadata": {
    "colab": {
     "base_uri": "https://localhost:8080/"
    },
    "executionInfo": {
     "elapsed": 420,
     "status": "ok",
     "timestamp": 1721024389529,
     "user": {
      "displayName": "Yongjin Jeong",
      "userId": "03658406798560557048"
     },
     "user_tz": -540
    },
    "id": "vRMLIAYdC5_M",
    "outputId": "cf82cfe4-a4c1-4f15-f3eb-43b9e77fddb5",
    "ExecuteTime": {
     "end_time": "2024-10-06T09:57:07.671505Z",
     "start_time": "2024-10-06T09:57:07.668050Z"
    }
   },
   "source": [
    "b1 = np.array([7,7,7,7]); b1.shape"
   ],
   "outputs": [
    {
     "data": {
      "text/plain": [
       "(4,)"
      ]
     },
     "execution_count": 79,
     "metadata": {},
     "output_type": "execute_result"
    }
   ],
   "execution_count": 79
  },
  {
   "cell_type": "code",
   "metadata": {
    "colab": {
     "base_uri": "https://localhost:8080/"
    },
    "executionInfo": {
     "elapsed": 362,
     "status": "ok",
     "timestamp": 1721024400143,
     "user": {
      "displayName": "Yongjin Jeong",
      "userId": "03658406798560557048"
     },
     "user_tz": -540
    },
    "id": "Uhx6VYMDiGoW",
    "outputId": "6dc4d3a3-633d-4084-a0bd-640318e779a7",
    "ExecuteTime": {
     "end_time": "2024-10-06T09:57:16.652451Z",
     "start_time": "2024-10-06T09:57:16.648524Z"
    }
   },
   "source": [
    "b1.reshape(1,-1), b1.reshape(1,4), b1.reshape(2,-1) == b1.reshape(2,2)"
   ],
   "outputs": [
    {
     "data": {
      "text/plain": [
       "(array([[7, 7, 7, 7]]),\n",
       " array([[7, 7, 7, 7]]),\n",
       " array([[ True,  True],\n",
       "        [ True,  True]]))"
      ]
     },
     "execution_count": 80,
     "metadata": {},
     "output_type": "execute_result"
    }
   ],
   "execution_count": 80
  },
  {
   "cell_type": "code",
   "metadata": {
    "colab": {
     "base_uri": "https://localhost:8080/"
    },
    "executionInfo": {
     "elapsed": 423,
     "status": "ok",
     "timestamp": 1721024418704,
     "user": {
      "displayName": "Yongjin Jeong",
      "userId": "03658406798560557048"
     },
     "user_tz": -540
    },
    "id": "8lC_FpJyh-j5",
    "outputId": "74b2906d-0edb-4e19-eb1d-b620ed1b23f9",
    "ExecuteTime": {
     "end_time": "2024-10-06T09:57:37.800208Z",
     "start_time": "2024-10-06T09:57:37.795619Z"
    }
   },
   "source": [
    "np.concatenate([a,b1.reshape(1,4)],axis=0)"
   ],
   "outputs": [
    {
     "data": {
      "text/plain": [
       "array([[ 0,  1,  2,  3],\n",
       "       [ 4,  5,  6,  7],\n",
       "       [ 8,  9, 10, 11],\n",
       "       [ 7,  7,  7,  7]])"
      ]
     },
     "execution_count": 81,
     "metadata": {},
     "output_type": "execute_result"
    }
   ],
   "execution_count": 81
  },
  {
   "cell_type": "code",
   "metadata": {
    "colab": {
     "base_uri": "https://localhost:8080/"
    },
    "executionInfo": {
     "elapsed": 564,
     "status": "ok",
     "timestamp": 1721024422166,
     "user": {
      "displayName": "Yongjin Jeong",
      "userId": "03658406798560557048"
     },
     "user_tz": -540
    },
    "id": "469H4ZU4C5_N",
    "outputId": "6b45942d-8e09-449a-b68b-23ddff99940a",
    "ExecuteTime": {
     "end_time": "2024-10-06T09:58:28.744821Z",
     "start_time": "2024-10-06T09:58:28.740093Z"
    }
   },
   "source": [
    "b2 = np.array([9,9,9])\n",
    "np.concatenate((a,b2.reshape(3,1)), axis=1)"
   ],
   "outputs": [
    {
     "data": {
      "text/plain": [
       "array([[ 0,  1,  2,  3,  9],\n",
       "       [ 4,  5,  6,  7,  9],\n",
       "       [ 8,  9, 10, 11,  9]])"
      ]
     },
     "execution_count": 82,
     "metadata": {},
     "output_type": "execute_result"
    }
   ],
   "execution_count": 82
  },
  {
   "cell_type": "markdown",
   "metadata": {
    "id": "rYMhFUAvTrpo"
   },
   "source": [
    "- np.r_ and np.c_ (배열의 추가)"
   ]
  },
  {
   "cell_type": "code",
   "metadata": {
    "colab": {
     "base_uri": "https://localhost:8080/"
    },
    "executionInfo": {
     "elapsed": 357,
     "status": "ok",
     "timestamp": 1721024435690,
     "user": {
      "displayName": "Yongjin Jeong",
      "userId": "03658406798560557048"
     },
     "user_tz": -540
    },
    "id": "He1b0IHFUEm7",
    "outputId": "c7818341-1ec5-451d-86d1-f76905398fca",
    "ExecuteTime": {
     "end_time": "2024-10-06T09:59:01.220810Z",
     "start_time": "2024-10-06T09:59:01.212726Z"
    }
   },
   "source": [
    "a = np.arange(5)\n",
    "b = np.random.normal(size=5)\n",
    "a, b"
   ],
   "outputs": [
    {
     "data": {
      "text/plain": [
       "(array([0, 1, 2, 3, 4]),\n",
       " array([-2.45386887, -1.50595116, -0.0339901 , -0.63200716, -1.16754436]))"
      ]
     },
     "execution_count": 83,
     "metadata": {},
     "output_type": "execute_result"
    }
   ],
   "execution_count": 83
  },
  {
   "cell_type": "code",
   "metadata": {
    "colab": {
     "base_uri": "https://localhost:8080/"
    },
    "executionInfo": {
     "elapsed": 406,
     "status": "ok",
     "timestamp": 1721024467034,
     "user": {
      "displayName": "Yongjin Jeong",
      "userId": "03658406798560557048"
     },
     "user_tz": -540
    },
    "id": "SzI3xKdIUYSe",
    "outputId": "5e535d79-8d8f-4391-d287-4abaf87bce08",
    "ExecuteTime": {
     "end_time": "2024-10-06T09:59:12.053137Z",
     "start_time": "2024-10-06T09:59:12.049974Z"
    }
   },
   "source": [
    "np.r_[a,b]   # 행 추가"
   ],
   "outputs": [
    {
     "data": {
      "text/plain": [
       "array([ 0.        ,  1.        ,  2.        ,  3.        ,  4.        ,\n",
       "       -2.45386887, -1.50595116, -0.0339901 , -0.63200716, -1.16754436])"
      ]
     },
     "execution_count": 84,
     "metadata": {},
     "output_type": "execute_result"
    }
   ],
   "execution_count": 84
  },
  {
   "cell_type": "code",
   "metadata": {
    "colab": {
     "base_uri": "https://localhost:8080/"
    },
    "executionInfo": {
     "elapsed": 3,
     "status": "ok",
     "timestamp": 1721024468449,
     "user": {
      "displayName": "Yongjin Jeong",
      "userId": "03658406798560557048"
     },
     "user_tz": -540
    },
    "id": "CEG4nOgFUe_f",
    "outputId": "1862c50f-8633-4f7c-8c29-884826c82b6c",
    "ExecuteTime": {
     "end_time": "2024-10-06T09:59:12.908795Z",
     "start_time": "2024-10-06T09:59:12.906102Z"
    }
   },
   "source": [
    "np.c_[a,b]   # 열 추가"
   ],
   "outputs": [
    {
     "data": {
      "text/plain": [
       "array([[ 0.        , -2.45386887],\n",
       "       [ 1.        , -1.50595116],\n",
       "       [ 2.        , -0.0339901 ],\n",
       "       [ 3.        , -0.63200716],\n",
       "       [ 4.        , -1.16754436]])"
      ]
     },
     "execution_count": 85,
     "metadata": {},
     "output_type": "execute_result"
    }
   ],
   "execution_count": 85
  },
  {
   "cell_type": "code",
   "source": [
    "a = np.random.randint(1, 7, (2,5))\n",
    "b = np.random.randint(10, 20, (2,5))\n",
    "a, b"
   ],
   "metadata": {
    "colab": {
     "base_uri": "https://localhost:8080/"
    },
    "id": "1Avtx1EhDcfi",
    "executionInfo": {
     "status": "ok",
     "timestamp": 1721024576262,
     "user_tz": -540,
     "elapsed": 296,
     "user": {
      "displayName": "Yongjin Jeong",
      "userId": "03658406798560557048"
     }
    },
    "outputId": "cf79c846-409c-4f4e-c367-9c61d9bc8a08",
    "ExecuteTime": {
     "end_time": "2024-10-06T09:59:23.980569Z",
     "start_time": "2024-10-06T09:59:23.976807Z"
    }
   },
   "outputs": [
    {
     "data": {
      "text/plain": [
       "(array([[6, 5, 6, 5, 1],\n",
       "        [4, 4, 6, 1, 1]]),\n",
       " array([[19, 19, 18, 10, 16],\n",
       "        [19, 14, 18, 12, 15]]))"
      ]
     },
     "execution_count": 86,
     "metadata": {},
     "output_type": "execute_result"
    }
   ],
   "execution_count": 86
  },
  {
   "cell_type": "code",
   "source": [
    "np.r_[a,b]"
   ],
   "metadata": {
    "colab": {
     "base_uri": "https://localhost:8080/"
    },
    "id": "V48h2BsBDxNb",
    "executionInfo": {
     "status": "ok",
     "timestamp": 1721024592528,
     "user_tz": -540,
     "elapsed": 351,
     "user": {
      "displayName": "Yongjin Jeong",
      "userId": "03658406798560557048"
     }
    },
    "outputId": "bd1c9beb-a509-4fe3-a347-a9ff777c2147",
    "ExecuteTime": {
     "end_time": "2024-10-06T09:59:25.150452Z",
     "start_time": "2024-10-06T09:59:25.146860Z"
    }
   },
   "outputs": [
    {
     "data": {
      "text/plain": [
       "array([[ 6,  5,  6,  5,  1],\n",
       "       [ 4,  4,  6,  1,  1],\n",
       "       [19, 19, 18, 10, 16],\n",
       "       [19, 14, 18, 12, 15]])"
      ]
     },
     "execution_count": 87,
     "metadata": {},
     "output_type": "execute_result"
    }
   ],
   "execution_count": 87
  },
  {
   "cell_type": "code",
   "source": [
    "np.c_[a,b]"
   ],
   "metadata": {
    "colab": {
     "base_uri": "https://localhost:8080/"
    },
    "id": "eE5doJ75D2UK",
    "executionInfo": {
     "status": "ok",
     "timestamp": 1721024614923,
     "user_tz": -540,
     "elapsed": 347,
     "user": {
      "displayName": "Yongjin Jeong",
      "userId": "03658406798560557048"
     }
    },
    "outputId": "1ae4fdcd-fae5-4391-ef3b-cb18e7a57180",
    "ExecuteTime": {
     "end_time": "2024-10-06T09:59:25.475170Z",
     "start_time": "2024-10-06T09:59:25.472487Z"
    }
   },
   "outputs": [
    {
     "data": {
      "text/plain": [
       "array([[ 6,  5,  6,  5,  1, 19, 19, 18, 10, 16],\n",
       "       [ 4,  4,  6,  1,  1, 19, 14, 18, 12, 15]])"
      ]
     },
     "execution_count": 88,
     "metadata": {},
     "output_type": "execute_result"
    }
   ],
   "execution_count": 88
  },
  {
   "cell_type": "markdown",
   "metadata": {
    "id": "UU4NtApyz5hr"
   },
   "source": [
    "## argmax (and idxmax in DataFrame)"
   ]
  },
  {
   "cell_type": "code",
   "metadata": {
    "colab": {
     "base_uri": "https://localhost:8080/"
    },
    "executionInfo": {
     "elapsed": 3,
     "status": "ok",
     "timestamp": 1721024690362,
     "user": {
      "displayName": "Yongjin Jeong",
      "userId": "03658406798560557048"
     },
     "user_tz": -540
    },
    "id": "HGKv4tSXC5_N",
    "outputId": "58483423-567c-4cce-a5f9-fd85b7343891",
    "ExecuteTime": {
     "end_time": "2024-10-06T09:59:58.009124Z",
     "start_time": "2024-10-06T09:59:58.001468Z"
    }
   },
   "source": [
    "data = np.random.permutation(np.arange(15)).reshape(3,5)\n",
    "data"
   ],
   "outputs": [
    {
     "data": {
      "text/plain": [
       "array([[ 4, 10, 11,  5,  7],\n",
       "       [ 6,  8, 13, 12,  3],\n",
       "       [ 2,  9,  1,  0, 14]])"
      ]
     },
     "execution_count": 89,
     "metadata": {},
     "output_type": "execute_result"
    }
   ],
   "execution_count": 89
  },
  {
   "cell_type": "code",
   "metadata": {
    "colab": {
     "base_uri": "https://localhost:8080/"
    },
    "executionInfo": {
     "elapsed": 367,
     "status": "ok",
     "timestamp": 1721024705055,
     "user": {
      "displayName": "Yongjin Jeong",
      "userId": "03658406798560557048"
     },
     "user_tz": -540
    },
    "id": "-auquwaYyFIQ",
    "outputId": "ea9eac92-d2d3-4b59-aff3-b51cfc4be384",
    "ExecuteTime": {
     "end_time": "2024-10-06T10:00:11.679223Z",
     "start_time": "2024-10-06T10:00:11.673174Z"
    }
   },
   "source": [
    "data.max(), data.max(axis=0), data.max(axis=1)"
   ],
   "outputs": [
    {
     "data": {
      "text/plain": [
       "(np.int64(14), array([ 6, 10, 13, 12, 14]), array([11, 13, 14]))"
      ]
     },
     "execution_count": 90,
     "metadata": {},
     "output_type": "execute_result"
    }
   ],
   "execution_count": 90
  },
  {
   "cell_type": "code",
   "metadata": {
    "colab": {
     "base_uri": "https://localhost:8080/"
    },
    "executionInfo": {
     "elapsed": 337,
     "status": "ok",
     "timestamp": 1721024721159,
     "user": {
      "displayName": "Yongjin Jeong",
      "userId": "03658406798560557048"
     },
     "user_tz": -540
    },
    "id": "Opq7KajCyM8_",
    "outputId": "3d96af95-428b-4343-d9c7-ec620422140e",
    "ExecuteTime": {
     "end_time": "2024-10-06T10:00:12.567990Z",
     "start_time": "2024-10-06T10:00:12.564421Z"
    }
   },
   "source": [
    "data.argmax(axis=0), data.argmax(axis=1)"
   ],
   "outputs": [
    {
     "data": {
      "text/plain": [
       "(array([1, 0, 1, 1, 2]), array([2, 2, 4]))"
      ]
     },
     "execution_count": 91,
     "metadata": {},
     "output_type": "execute_result"
    }
   ],
   "execution_count": 91
  },
  {
   "cell_type": "code",
   "metadata": {
    "colab": {
     "base_uri": "https://localhost:8080/"
    },
    "executionInfo": {
     "elapsed": 352,
     "status": "ok",
     "timestamp": 1721024728923,
     "user": {
      "displayName": "Yongjin Jeong",
      "userId": "03658406798560557048"
     },
     "user_tz": -540
    },
    "id": "IqpZQoi9z_8F",
    "outputId": "b36d0377-e5da-43c0-9e20-2dbf7bf89ebd",
    "ExecuteTime": {
     "end_time": "2024-10-06T10:00:16.412239Z",
     "start_time": "2024-10-06T10:00:16.409918Z"
    }
   },
   "source": [
    "try:\n",
    "    data.idxmax(0)\n",
    "except:\n",
    "    print(\"Error: 'numpy.ndarray' object has no attribute 'idxmax'\")"
   ],
   "outputs": [
    {
     "name": "stdout",
     "output_type": "stream",
     "text": [
      "Error: 'numpy.ndarray' object has no attribute 'idxmax'\n"
     ]
    }
   ],
   "execution_count": 92
  },
  {
   "cell_type": "code",
   "metadata": {
    "colab": {
     "base_uri": "https://localhost:8080/",
     "height": 143
    },
    "executionInfo": {
     "elapsed": 1967,
     "status": "ok",
     "timestamp": 1721024039474,
     "user": {
      "displayName": "Yongjin Jeong",
      "userId": "03658406798560557048"
     },
     "user_tz": -540
    },
    "id": "YhTTzrfJySBm",
    "outputId": "ebe2f4a6-8a3a-4252-a8eb-8691773c487b",
    "ExecuteTime": {
     "end_time": "2024-10-06T10:00:27.617112Z",
     "start_time": "2024-10-06T10:00:27.605460Z"
    }
   },
   "source": [
    "import pandas as pd\n",
    "df = pd.DataFrame(data,\n",
    "                  columns=['a','b','c','d','e'],\n",
    "                  index = ['x','y','z'])\n",
    "df"
   ],
   "outputs": [
    {
     "data": {
      "text/plain": [
       "   a   b   c   d   e\n",
       "x  4  10  11   5   7\n",
       "y  6   8  13  12   3\n",
       "z  2   9   1   0  14"
      ],
      "text/html": [
       "<div>\n",
       "<style scoped>\n",
       "    .dataframe tbody tr th:only-of-type {\n",
       "        vertical-align: middle;\n",
       "    }\n",
       "\n",
       "    .dataframe tbody tr th {\n",
       "        vertical-align: top;\n",
       "    }\n",
       "\n",
       "    .dataframe thead th {\n",
       "        text-align: right;\n",
       "    }\n",
       "</style>\n",
       "<table border=\"1\" class=\"dataframe\">\n",
       "  <thead>\n",
       "    <tr style=\"text-align: right;\">\n",
       "      <th></th>\n",
       "      <th>a</th>\n",
       "      <th>b</th>\n",
       "      <th>c</th>\n",
       "      <th>d</th>\n",
       "      <th>e</th>\n",
       "    </tr>\n",
       "  </thead>\n",
       "  <tbody>\n",
       "    <tr>\n",
       "      <th>x</th>\n",
       "      <td>4</td>\n",
       "      <td>10</td>\n",
       "      <td>11</td>\n",
       "      <td>5</td>\n",
       "      <td>7</td>\n",
       "    </tr>\n",
       "    <tr>\n",
       "      <th>y</th>\n",
       "      <td>6</td>\n",
       "      <td>8</td>\n",
       "      <td>13</td>\n",
       "      <td>12</td>\n",
       "      <td>3</td>\n",
       "    </tr>\n",
       "    <tr>\n",
       "      <th>z</th>\n",
       "      <td>2</td>\n",
       "      <td>9</td>\n",
       "      <td>1</td>\n",
       "      <td>0</td>\n",
       "      <td>14</td>\n",
       "    </tr>\n",
       "  </tbody>\n",
       "</table>\n",
       "</div>"
      ]
     },
     "execution_count": 93,
     "metadata": {},
     "output_type": "execute_result"
    }
   ],
   "execution_count": 93
  },
  {
   "cell_type": "code",
   "metadata": {
    "colab": {
     "base_uri": "https://localhost:8080/"
    },
    "executionInfo": {
     "elapsed": 320,
     "status": "ok",
     "timestamp": 1721024786432,
     "user": {
      "displayName": "Yongjin Jeong",
      "userId": "03658406798560557048"
     },
     "user_tz": -540
    },
    "id": "cxzCKpX1kN7R",
    "outputId": "d3cefc5f-8b18-4591-c710-7abf545dade5",
    "ExecuteTime": {
     "end_time": "2024-10-06T10:00:32.920231Z",
     "start_time": "2024-10-06T10:00:32.914296Z"
    }
   },
   "source": [
    "df.values"
   ],
   "outputs": [
    {
     "data": {
      "text/plain": [
       "array([[ 4, 10, 11,  5,  7],\n",
       "       [ 6,  8, 13, 12,  3],\n",
       "       [ 2,  9,  1,  0, 14]])"
      ]
     },
     "execution_count": 94,
     "metadata": {},
     "output_type": "execute_result"
    }
   ],
   "execution_count": 94
  },
  {
   "cell_type": "code",
   "metadata": {
    "colab": {
     "base_uri": "https://localhost:8080/"
    },
    "executionInfo": {
     "elapsed": 425,
     "status": "ok",
     "timestamp": 1721024039896,
     "user": {
      "displayName": "Yongjin Jeong",
      "userId": "03658406798560557048"
     },
     "user_tz": -540
    },
    "id": "MSEtaJO4kkaa",
    "outputId": "d4737369-9fd8-4358-9428-4d488149526d",
    "ExecuteTime": {
     "end_time": "2024-10-06T10:00:36.737102Z",
     "start_time": "2024-10-06T10:00:36.732750Z"
    }
   },
   "source": [
    "df.idxmax() # default axis=0"
   ],
   "outputs": [
    {
     "data": {
      "text/plain": [
       "a    y\n",
       "b    x\n",
       "c    y\n",
       "d    y\n",
       "e    z\n",
       "dtype: object"
      ]
     },
     "execution_count": 95,
     "metadata": {},
     "output_type": "execute_result"
    }
   ],
   "execution_count": 95
  },
  {
   "cell_type": "code",
   "metadata": {
    "colab": {
     "base_uri": "https://localhost:8080/"
    },
    "executionInfo": {
     "elapsed": 349,
     "status": "ok",
     "timestamp": 1721024792811,
     "user": {
      "displayName": "Yongjin Jeong",
      "userId": "03658406798560557048"
     },
     "user_tz": -540
    },
    "id": "sQnhFtOCyju6",
    "outputId": "b2145689-03b5-40f7-8810-33502e64f31f",
    "ExecuteTime": {
     "end_time": "2024-10-06T10:00:38.870801Z",
     "start_time": "2024-10-06T10:00:38.866382Z"
    }
   },
   "source": [
    "df.idxmax(0), df.idxmax(1)"
   ],
   "outputs": [
    {
     "data": {
      "text/plain": [
       "(a    y\n",
       " b    x\n",
       " c    y\n",
       " d    y\n",
       " e    z\n",
       " dtype: object,\n",
       " x    c\n",
       " y    c\n",
       " z    e\n",
       " dtype: object)"
      ]
     },
     "execution_count": 96,
     "metadata": {},
     "output_type": "execute_result"
    }
   ],
   "execution_count": 96
  },
  {
   "cell_type": "code",
   "metadata": {
    "colab": {
     "base_uri": "https://localhost:8080/"
    },
    "executionInfo": {
     "elapsed": 348,
     "status": "ok",
     "timestamp": 1721024803152,
     "user": {
      "displayName": "Yongjin Jeong",
      "userId": "03658406798560557048"
     },
     "user_tz": -540
    },
    "id": "6nK0Ypf50EKC",
    "outputId": "d1416b75-6314-4ca7-d7d2-5a450882d0f0",
    "ExecuteTime": {
     "end_time": "2024-10-06T10:00:41.729969Z",
     "start_time": "2024-10-06T10:00:41.726894Z"
    }
   },
   "source": [
    "try:\n",
    "    df.argmax(0)\n",
    "except:\n",
    "    print(\"Error: 'DataFrame' object has no attribute 'argmax'\")"
   ],
   "outputs": [
    {
     "name": "stdout",
     "output_type": "stream",
     "text": [
      "Error: 'DataFrame' object has no attribute 'argmax'\n"
     ]
    }
   ],
   "execution_count": 97
  },
  {
   "cell_type": "code",
   "metadata": {
    "colab": {
     "base_uri": "https://localhost:8080/"
    },
    "executionInfo": {
     "elapsed": 355,
     "status": "ok",
     "timestamp": 1721024809630,
     "user": {
      "displayName": "Yongjin Jeong",
      "userId": "03658406798560557048"
     },
     "user_tz": -540
    },
    "id": "QE_k6fEqyrb3",
    "outputId": "f652af86-c7b6-4d06-e21b-27516d3b712c",
    "ExecuteTime": {
     "end_time": "2024-10-06T10:00:46.619392Z",
     "start_time": "2024-10-06T10:00:46.615508Z"
    }
   },
   "source": [
    "s = df['a']  # series\n",
    "s, type(s)"
   ],
   "outputs": [
    {
     "data": {
      "text/plain": [
       "(x    4\n",
       " y    6\n",
       " z    2\n",
       " Name: a, dtype: int64,\n",
       " pandas.core.series.Series)"
      ]
     },
     "execution_count": 98,
     "metadata": {},
     "output_type": "execute_result"
    }
   ],
   "execution_count": 98
  },
  {
   "cell_type": "code",
   "metadata": {
    "colab": {
     "base_uri": "https://localhost:8080/"
    },
    "executionInfo": {
     "elapsed": 435,
     "status": "ok",
     "timestamp": 1721024828686,
     "user": {
      "displayName": "Yongjin Jeong",
      "userId": "03658406798560557048"
     },
     "user_tz": -540
    },
    "id": "XNOWAQu8zMc3",
    "outputId": "5ee9491e-e602-44fb-f1f0-5547f4d045a1",
    "ExecuteTime": {
     "end_time": "2024-10-06T10:00:47.760796Z",
     "start_time": "2024-10-06T10:00:47.758597Z"
    }
   },
   "source": [
    "print(s.argmax())   # like an array\n",
    "print(s.idxmax())   # like a dataframe"
   ],
   "outputs": [
    {
     "name": "stdout",
     "output_type": "stream",
     "text": [
      "1\n",
      "y\n"
     ]
    }
   ],
   "execution_count": 99
  },
  {
   "cell_type": "markdown",
   "metadata": {
    "id": "6VGF1DLE_GML"
   },
   "source": [
    "## Random numbers"
   ]
  },
  {
   "cell_type": "code",
   "metadata": {
    "colab": {
     "base_uri": "https://localhost:8080/"
    },
    "executionInfo": {
     "elapsed": 331,
     "status": "ok",
     "timestamp": 1721024838589,
     "user": {
      "displayName": "Yongjin Jeong",
      "userId": "03658406798560557048"
     },
     "user_tz": -540
    },
    "id": "ufUbzL4E_IGk",
    "outputId": "d8896c03-19c5-41d8-ce83-2d68b49910ad",
    "ExecuteTime": {
     "end_time": "2024-10-06T10:01:29.555004Z",
     "start_time": "2024-10-06T10:01:29.548448Z"
    }
   },
   "source": [
    "a = np.array([1,2,3])\n",
    "a, a*2, a**2"
   ],
   "outputs": [
    {
     "data": {
      "text/plain": [
       "(array([1, 2, 3]), array([2, 4, 6]), array([1, 4, 9]))"
      ]
     },
     "execution_count": 100,
     "metadata": {},
     "output_type": "execute_result"
    }
   ],
   "execution_count": 100
  },
  {
   "cell_type": "code",
   "metadata": {
    "colab": {
     "base_uri": "https://localhost:8080/"
    },
    "executionInfo": {
     "elapsed": 364,
     "status": "ok",
     "timestamp": 1721024844385,
     "user": {
      "displayName": "Yongjin Jeong",
      "userId": "03658406798560557048"
     },
     "user_tz": -540
    },
    "id": "Ekdub0F3_LgU",
    "outputId": "3a1531b2-58ba-40a6-dd30-f31307197641",
    "ExecuteTime": {
     "end_time": "2024-10-06T10:01:56.192320Z",
     "start_time": "2024-10-06T10:01:56.188892Z"
    }
   },
   "source": [
    "np.random.randint(1,7,10)"
   ],
   "outputs": [
    {
     "data": {
      "text/plain": [
       "array([6, 5, 1, 3, 5, 3, 3, 6, 5, 3])"
      ]
     },
     "execution_count": 101,
     "metadata": {},
     "output_type": "execute_result"
    }
   ],
   "execution_count": 101
  },
  {
   "cell_type": "code",
   "metadata": {
    "colab": {
     "base_uri": "https://localhost:8080/"
    },
    "executionInfo": {
     "elapsed": 11,
     "status": "ok",
     "timestamp": 1721024039896,
     "user": {
      "displayName": "Yongjin Jeong",
      "userId": "03658406798560557048"
     },
     "user_tz": -540
    },
    "id": "WgeZKOWQ_LdR",
    "outputId": "b6b496b1-58fc-40d9-cf2e-8b6c46030871",
    "ExecuteTime": {
     "end_time": "2024-10-06T10:01:58.653576Z",
     "start_time": "2024-10-06T10:01:58.648498Z"
    }
   },
   "source": [
    "import numpy as np\n",
    "np.random.seed(42)\n",
    "print(np.random.rand(5))          # 0 과 1 사이의 랜덤 숫자 5개\n",
    "print(np.random.randn(5))         # normal distribution with mean 0, sigma 1\n",
    "\n",
    "print()\n",
    "print(5 + 0.5*np.random.rand(5).round(2))\n",
    "print(np.random.rand(2,3,4))      # 2x3x4 arrays\n",
    "print(np.random.randint(1,20,5))  # 5 개 in [1,20)\n",
    "print(np.random.randint(10, size=(2,3)))"
   ],
   "outputs": [
    {
     "name": "stdout",
     "output_type": "stream",
     "text": [
      "[0.37454012 0.95071431 0.73199394 0.59865848 0.15601864]\n",
      "[ 0.27904129  1.01051528 -0.58087813 -0.52516981 -0.57138017]\n",
      "\n",
      "[5.26  5.215 5.145 5.305 5.07 ]\n",
      "[[[0.29214465 0.36636184 0.45606998 0.78517596]\n",
      "  [0.19967378 0.51423444 0.59241457 0.04645041]\n",
      "  [0.60754485 0.17052412 0.06505159 0.94888554]]\n",
      "\n",
      " [[0.96563203 0.80839735 0.30461377 0.09767211]\n",
      "  [0.68423303 0.44015249 0.12203823 0.49517691]\n",
      "  [0.03438852 0.9093204  0.25877998 0.66252228]]]\n",
      "[ 2  6 10  4 18]\n",
      "[[9 1 9]\n",
      " [3 7 6]]\n"
     ]
    }
   ],
   "execution_count": 102
  },
  {
   "cell_type": "code",
   "metadata": {
    "colab": {
     "base_uri": "https://localhost:8080/"
    },
    "executionInfo": {
     "elapsed": 11,
     "status": "ok",
     "timestamp": 1721024039897,
     "user": {
      "displayName": "Yongjin Jeong",
      "userId": "03658406798560557048"
     },
     "user_tz": -540
    },
    "id": "_7CmXFls_LaK",
    "outputId": "366306a5-6967-4989-808a-8c309ee78b3b",
    "ExecuteTime": {
     "end_time": "2024-10-06T10:02:10.068191Z",
     "start_time": "2024-10-06T10:02:10.064729Z"
    }
   },
   "source": [
    "np.random.randint(0,5,10)"
   ],
   "outputs": [
    {
     "data": {
      "text/plain": [
       "array([3, 0, 4, 4, 1, 4, 1, 0, 3, 3])"
      ]
     },
     "execution_count": 103,
     "metadata": {},
     "output_type": "execute_result"
    }
   ],
   "execution_count": 103
  },
  {
   "cell_type": "code",
   "metadata": {
    "colab": {
     "base_uri": "https://localhost:8080/"
    },
    "executionInfo": {
     "elapsed": 9,
     "status": "ok",
     "timestamp": 1721024039897,
     "user": {
      "displayName": "Yongjin Jeong",
      "userId": "03658406798560557048"
     },
     "user_tz": -540
    },
    "id": "SRkmUeD2_LA5",
    "outputId": "da6cdf0f-64fa-4ebc-b6e7-ccb5b08f50ce",
    "ExecuteTime": {
     "end_time": "2024-10-06T10:02:29.070272Z",
     "start_time": "2024-10-06T10:02:29.066616Z"
    }
   },
   "source": [
    "print(np.linspace(1,5,5))\n",
    "print(np.logspace(1,5,5))"
   ],
   "outputs": [
    {
     "name": "stdout",
     "output_type": "stream",
     "text": [
      "[1. 2. 3. 4. 5.]\n",
      "[1.e+01 1.e+02 1.e+03 1.e+04 1.e+05]\n"
     ]
    }
   ],
   "execution_count": 104
  },
  {
   "cell_type": "code",
   "metadata": {
    "colab": {
     "base_uri": "https://localhost:8080/"
    },
    "executionInfo": {
     "elapsed": 8,
     "status": "ok",
     "timestamp": 1721024039897,
     "user": {
      "displayName": "Yongjin Jeong",
      "userId": "03658406798560557048"
     },
     "user_tz": -540
    },
    "id": "toLWgJEK_K9y",
    "outputId": "ab9b021b-499d-4731-98ec-635602d68394",
    "ExecuteTime": {
     "end_time": "2024-10-06T10:02:38.766071Z",
     "start_time": "2024-10-06T10:02:38.763271Z"
    }
   },
   "source": [
    "np.random.seed(7)\n",
    "print(np.random.randn(), np.random.normal())\n",
    "print(np.random.rand(), np.random.uniform())\n",
    "print(np.random.choice([3,5,7,9,11], size=(2,3)))"
   ],
   "outputs": [
    {
     "name": "stdout",
     "output_type": "stream",
     "text": [
      "1.690525703800356 -0.4659373705408328\n",
      "0.9779895119966027 0.5384958704104337\n",
      "[[ 3  5  7]\n",
      " [ 7  3 11]]\n"
     ]
    }
   ],
   "execution_count": 105
  },
  {
   "cell_type": "markdown",
   "metadata": {
    "id": "AjC1ootypRob"
   },
   "source": [
    "- two different functions to generate random numbers"
   ]
  },
  {
   "cell_type": "code",
   "metadata": {
    "colab": {
     "base_uri": "https://localhost:8080/"
    },
    "executionInfo": {
     "elapsed": 6,
     "status": "ok",
     "timestamp": 1721024039897,
     "user": {
      "displayName": "Yongjin Jeong",
      "userId": "03658406798560557048"
     },
     "user_tz": -540
    },
    "id": "tNaos9rI_YCj",
    "outputId": "1dd00313-9184-4d0c-dc25-a64fd7d44e48",
    "ExecuteTime": {
     "end_time": "2024-10-06T10:02:43.798305Z",
     "start_time": "2024-10-06T10:02:43.794040Z"
    }
   },
   "source": [
    "mu, sigma = 0, 0.1 # mean and standard deviation\n",
    "np.random.seed(42)\n",
    "print(np.random.normal(mu, sigma, size=(2,3)))\n",
    "print(np.random.uniform(10, 20, size=(2,3)))\n",
    "print()\n",
    "np.random.seed(42)\n",
    "print(np.random.randn(2,3)*sigma + mu)\n",
    "print(np.random.rand(2,3)*(20-10) + 10)"
   ],
   "outputs": [
    {
     "name": "stdout",
     "output_type": "stream",
     "text": [
      "[[ 0.04967142 -0.01382643  0.06476885]\n",
      " [ 0.15230299 -0.02341534 -0.0234137 ]]\n",
      "[[10.58083612 18.66176146 16.01115012]\n",
      " [17.08072578 10.20584494 19.69909852]]\n",
      "\n",
      "[[ 0.04967142 -0.01382643  0.06476885]\n",
      " [ 0.15230299 -0.02341534 -0.0234137 ]]\n",
      "[[10.58083612 18.66176146 16.01115012]\n",
      " [17.08072578 10.20584494 19.69909852]]\n"
     ]
    }
   ],
   "execution_count": 106
  },
  {
   "cell_type": "markdown",
   "metadata": {
    "id": "NDUXeIWTKyQ0"
   },
   "source": [
    "- random choice (sample)"
   ]
  },
  {
   "cell_type": "code",
   "metadata": {
    "colab": {
     "base_uri": "https://localhost:8080/"
    },
    "executionInfo": {
     "elapsed": 341,
     "status": "ok",
     "timestamp": 1721025099435,
     "user": {
      "displayName": "Yongjin Jeong",
      "userId": "03658406798560557048"
     },
     "user_tz": -540
    },
    "id": "3OgB_k6IK086",
    "outputId": "3bcb1ebc-d893-4344-fb1e-de6a4c4eb20e",
    "ExecuteTime": {
     "end_time": "2024-10-06T10:02:45.547202Z",
     "start_time": "2024-10-06T10:02:45.542997Z"
    }
   },
   "source": [
    "np.random.choice(5, 3)   # uniform random sample (equivalent to np.random.randint(0,5,3))"
   ],
   "outputs": [
    {
     "data": {
      "text/plain": [
       "array([3, 1, 3])"
      ]
     },
     "execution_count": 107,
     "metadata": {},
     "output_type": "execute_result"
    }
   ],
   "execution_count": 107
  },
  {
   "cell_type": "code",
   "metadata": {
    "colab": {
     "base_uri": "https://localhost:8080/"
    },
    "executionInfo": {
     "elapsed": 338,
     "status": "ok",
     "timestamp": 1721025113820,
     "user": {
      "displayName": "Yongjin Jeong",
      "userId": "03658406798560557048"
     },
     "user_tz": -540
    },
    "id": "vEpvhrU6LLvZ",
    "outputId": "72995911-8b07-4324-c810-a1d4c6596e35",
    "ExecuteTime": {
     "end_time": "2024-10-06T10:02:46.041473Z",
     "start_time": "2024-10-06T10:02:46.037917Z"
    }
   },
   "source": [
    "np.random.choice(5, 3, p=[0.1, 0.1, 0.3, 0.5, 0])  # non-uniform random sample"
   ],
   "outputs": [
    {
     "data": {
      "text/plain": [
       "array([1, 2, 3])"
      ]
     },
     "execution_count": 108,
     "metadata": {},
     "output_type": "execute_result"
    }
   ],
   "execution_count": 108
  },
  {
   "cell_type": "code",
   "metadata": {
    "colab": {
     "base_uri": "https://localhost:8080/"
    },
    "executionInfo": {
     "elapsed": 361,
     "status": "ok",
     "timestamp": 1721025147007,
     "user": {
      "displayName": "Yongjin Jeong",
      "userId": "03658406798560557048"
     },
     "user_tz": -540
    },
    "id": "4LPjnuo2Lr24",
    "outputId": "8097e2b1-d384-4318-c67a-daff33aa4ba6",
    "ExecuteTime": {
     "end_time": "2024-10-06T10:02:46.377529Z",
     "start_time": "2024-10-06T10:02:46.374561Z"
    }
   },
   "source": [
    "np.random.choice(5, 3, replace=False)  # uniform random sample without replacement"
   ],
   "outputs": [
    {
     "data": {
      "text/plain": [
       "array([1, 2, 4])"
      ]
     },
     "execution_count": 109,
     "metadata": {},
     "output_type": "execute_result"
    }
   ],
   "execution_count": 109
  },
  {
   "cell_type": "code",
   "metadata": {
    "colab": {
     "base_uri": "https://localhost:8080/"
    },
    "executionInfo": {
     "elapsed": 331,
     "status": "ok",
     "timestamp": 1721025161661,
     "user": {
      "displayName": "Yongjin Jeong",
      "userId": "03658406798560557048"
     },
     "user_tz": -540
    },
    "id": "RVzw8nYcLz2Z",
    "outputId": "1510f8c2-7c74-4754-ee62-fbaf035c6dc0",
    "ExecuteTime": {
     "end_time": "2024-10-06T10:02:46.665652Z",
     "start_time": "2024-10-06T10:02:46.661908Z"
    }
   },
   "source": [
    "for i in range(5):\n",
    "    print(np.random.choice(5, 3, replace=False, p=[0.1, 0, 0.3, 0.6, 0])) # non-unifrom, without replacement"
   ],
   "outputs": [
    {
     "name": "stdout",
     "output_type": "stream",
     "text": [
      "[3 2 0]\n",
      "[3 2 0]\n",
      "[3 0 2]\n",
      "[0 3 2]\n",
      "[2 0 3]\n"
     ]
    }
   ],
   "execution_count": 110
  },
  {
   "cell_type": "markdown",
   "metadata": {
    "id": "KhgwW5NrMZEY"
   },
   "source": [
    "- Any of the above can be repeated with an arbitrary array-like instead of just integers. For instance:"
   ]
  },
  {
   "cell_type": "code",
   "metadata": {
    "colab": {
     "base_uri": "https://localhost:8080/"
    },
    "executionInfo": {
     "elapsed": 353,
     "status": "ok",
     "timestamp": 1721025207536,
     "user": {
      "displayName": "Yongjin Jeong",
      "userId": "03658406798560557048"
     },
     "user_tz": -540
    },
    "id": "-7SaUXLKMSiQ",
    "outputId": "f0fb38e9-059e-471c-dc47-3774c7109507",
    "ExecuteTime": {
     "end_time": "2024-10-06T10:02:47.651414Z",
     "start_time": "2024-10-06T10:02:47.648705Z"
    }
   },
   "source": [
    "# A.A.Milne - english author of \"Winnie-the-Pooh\"\n",
    "aa_milne_arr = ['pooh', 'rabbit', 'piglet', 'Christopher']\n",
    "np.random.choice(aa_milne_arr, 5, p=[0.5, 0.1, 0.1, 0.3])"
   ],
   "outputs": [
    {
     "data": {
      "text/plain": [
       "array(['pooh', 'pooh', 'pooh', 'pooh', 'Christopher'], dtype='<U11')"
      ]
     },
     "execution_count": 111,
     "metadata": {},
     "output_type": "execute_result"
    }
   ],
   "execution_count": 111
  },
  {
   "cell_type": "markdown",
   "metadata": {
    "id": "zvTm17WEgFMh"
   },
   "source": [
    "# Exercise"
   ]
  },
  {
   "cell_type": "code",
   "metadata": {
    "colab": {
     "base_uri": "https://localhost:8080/"
    },
    "executionInfo": {
     "elapsed": 14,
     "status": "ok",
     "timestamp": 1721024040984,
     "user": {
      "displayName": "Yongjin Jeong",
      "userId": "03658406798560557048"
     },
     "user_tz": -540
    },
    "id": "hy-wdeSIgE0R",
    "outputId": "fe34b134-c53b-49e7-9cf1-2c9f2c1a9844",
    "ExecuteTime": {
     "end_time": "2024-10-06T10:02:48.709942Z",
     "start_time": "2024-10-06T10:02:48.706793Z"
    }
   },
   "source": [
    "a = np.array([[1,2,3],\n",
    "              [4,5,6],\n",
    "              [7,8,9]])\n",
    "a"
   ],
   "outputs": [
    {
     "data": {
      "text/plain": [
       "array([[1, 2, 3],\n",
       "       [4, 5, 6],\n",
       "       [7, 8, 9]])"
      ]
     },
     "execution_count": 112,
     "metadata": {},
     "output_type": "execute_result"
    }
   ],
   "execution_count": 112
  },
  {
   "cell_type": "code",
   "metadata": {
    "colab": {
     "base_uri": "https://localhost:8080/"
    },
    "executionInfo": {
     "elapsed": 9,
     "status": "ok",
     "timestamp": 1721024040984,
     "user": {
      "displayName": "Yongjin Jeong",
      "userId": "03658406798560557048"
     },
     "user_tz": -540
    },
    "id": "yKnGcME5gOjg",
    "outputId": "63d71cff-2ce1-4356-d926-338b1cdb0d91",
    "ExecuteTime": {
     "end_time": "2024-10-06T10:02:49.028880Z",
     "start_time": "2024-10-06T10:02:49.024816Z"
    }
   },
   "source": [
    "a[[0,2],[0,2]]"
   ],
   "outputs": [
    {
     "data": {
      "text/plain": [
       "array([1, 9])"
      ]
     },
     "execution_count": 113,
     "metadata": {},
     "output_type": "execute_result"
    }
   ],
   "execution_count": 113
  },
  {
   "cell_type": "code",
   "metadata": {
    "colab": {
     "base_uri": "https://localhost:8080/"
    },
    "executionInfo": {
     "elapsed": 7,
     "status": "ok",
     "timestamp": 1721024040984,
     "user": {
      "displayName": "Yongjin Jeong",
      "userId": "03658406798560557048"
     },
     "user_tz": -540
    },
    "id": "wEIHJ6dzgtjB",
    "outputId": "8cd665a6-ddc1-470e-8ae1-95b31352b0c7",
    "ExecuteTime": {
     "end_time": "2024-10-06T10:02:49.291396Z",
     "start_time": "2024-10-06T10:02:49.288919Z"
    }
   },
   "source": [
    "a[[1,2], [0,2]]"
   ],
   "outputs": [
    {
     "data": {
      "text/plain": [
       "array([4, 9])"
      ]
     },
     "execution_count": 114,
     "metadata": {},
     "output_type": "execute_result"
    }
   ],
   "execution_count": 114
  },
  {
   "cell_type": "code",
   "metadata": {
    "colab": {
     "base_uri": "https://localhost:8080/"
    },
    "executionInfo": {
     "elapsed": 5,
     "status": "ok",
     "timestamp": 1721024040984,
     "user": {
      "displayName": "Yongjin Jeong",
      "userId": "03658406798560557048"
     },
     "user_tz": -540
    },
    "id": "MioGF6oBhAsY",
    "outputId": "36bed1db-614f-4eb9-c3ab-dbc17d756eb4",
    "ExecuteTime": {
     "end_time": "2024-10-06T10:02:49.464618Z",
     "start_time": "2024-10-06T10:02:49.462188Z"
    }
   },
   "source": [
    "# what about (4, 7, 6, 9)?\n",
    "a[[1,2]]"
   ],
   "outputs": [
    {
     "data": {
      "text/plain": [
       "array([[4, 5, 6],\n",
       "       [7, 8, 9]])"
      ]
     },
     "execution_count": 115,
     "metadata": {},
     "output_type": "execute_result"
    }
   ],
   "execution_count": 115
  },
  {
   "cell_type": "code",
   "metadata": {
    "colab": {
     "base_uri": "https://localhost:8080/"
    },
    "executionInfo": {
     "elapsed": 749,
     "status": "ok",
     "timestamp": 1721024041730,
     "user": {
      "displayName": "Yongjin Jeong",
      "userId": "03658406798560557048"
     },
     "user_tz": -540
    },
    "id": "PicWA8PFhWbZ",
    "outputId": "600dec9d-65df-432f-eebf-755a0be9c3f0",
    "ExecuteTime": {
     "end_time": "2024-10-06T10:02:49.687696Z",
     "start_time": "2024-10-06T10:02:49.685349Z"
    }
   },
   "source": [
    "a[[1,2]][:,[0,2]]"
   ],
   "outputs": [
    {
     "data": {
      "text/plain": [
       "array([[4, 6],\n",
       "       [7, 9]])"
      ]
     },
     "execution_count": 116,
     "metadata": {},
     "output_type": "execute_result"
    }
   ],
   "execution_count": 116
  },
  {
   "cell_type": "code",
   "execution_count": 103,
   "metadata": {
    "id": "P4mR4IGkhdMZ",
    "executionInfo": {
     "status": "ok",
     "timestamp": 1721024041731,
     "user_tz": -540,
     "elapsed": 6,
     "user": {
      "displayName": "Yongjin Jeong",
      "userId": "03658406798560557048"
     }
    }
   },
   "outputs": [],
   "source": []
  }
 ],
 "metadata": {
  "colab": {
   "toc_visible": true,
   "provenance": []
  },
  "kernelspec": {
   "display_name": "Python 3",
   "language": "python",
   "name": "python3"
  },
  "language_info": {
   "codemirror_mode": {
    "name": "ipython",
    "version": 3
   },
   "file_extension": ".py",
   "mimetype": "text/x-python",
   "name": "python",
   "nbconvert_exporter": "python",
   "pygments_lexer": "ipython3",
   "version": "3.6.8"
  }
 },
 "nbformat": 4,
 "nbformat_minor": 0
}
