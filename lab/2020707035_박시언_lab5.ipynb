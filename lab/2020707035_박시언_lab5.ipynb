{
 "cells": [
  {
   "cell_type": "code",
   "id": "initial_id",
   "metadata": {
    "collapsed": true,
    "ExecuteTime": {
     "end_time": "2024-10-30T15:03:04.125796Z",
     "start_time": "2024-10-30T15:03:03.511200Z"
    }
   },
   "source": [
    "from tkinter import YView, XView\n",
    "\n",
    "import numpy as np\n",
    "import pandas as pd\n",
    "\n",
    "data = pd.read_csv(\"https://raw.githubusercontent.com/datasciencedojo/datasets/master/titanic.csv\")"
   ],
   "outputs": [],
   "execution_count": 10
  },
  {
   "metadata": {
    "ExecuteTime": {
     "end_time": "2024-10-30T15:03:04.167274Z",
     "start_time": "2024-10-30T15:03:04.154214Z"
    }
   },
   "cell_type": "code",
   "source": "data",
   "id": "8268d5988869eca3",
   "outputs": [
    {
     "data": {
      "text/plain": [
       "     PassengerId  Survived  Pclass  \\\n",
       "0              1         0       3   \n",
       "1              2         1       1   \n",
       "2              3         1       3   \n",
       "3              4         1       1   \n",
       "4              5         0       3   \n",
       "..           ...       ...     ...   \n",
       "886          887         0       2   \n",
       "887          888         1       1   \n",
       "888          889         0       3   \n",
       "889          890         1       1   \n",
       "890          891         0       3   \n",
       "\n",
       "                                                  Name     Sex   Age  SibSp  \\\n",
       "0                              Braund, Mr. Owen Harris    male  22.0      1   \n",
       "1    Cumings, Mrs. John Bradley (Florence Briggs Th...  female  38.0      1   \n",
       "2                               Heikkinen, Miss. Laina  female  26.0      0   \n",
       "3         Futrelle, Mrs. Jacques Heath (Lily May Peel)  female  35.0      1   \n",
       "4                             Allen, Mr. William Henry    male  35.0      0   \n",
       "..                                                 ...     ...   ...    ...   \n",
       "886                              Montvila, Rev. Juozas    male  27.0      0   \n",
       "887                       Graham, Miss. Margaret Edith  female  19.0      0   \n",
       "888           Johnston, Miss. Catherine Helen \"Carrie\"  female   NaN      1   \n",
       "889                              Behr, Mr. Karl Howell    male  26.0      0   \n",
       "890                                Dooley, Mr. Patrick    male  32.0      0   \n",
       "\n",
       "     Parch            Ticket     Fare Cabin Embarked  \n",
       "0        0         A/5 21171   7.2500   NaN        S  \n",
       "1        0          PC 17599  71.2833   C85        C  \n",
       "2        0  STON/O2. 3101282   7.9250   NaN        S  \n",
       "3        0            113803  53.1000  C123        S  \n",
       "4        0            373450   8.0500   NaN        S  \n",
       "..     ...               ...      ...   ...      ...  \n",
       "886      0            211536  13.0000   NaN        S  \n",
       "887      0            112053  30.0000   B42        S  \n",
       "888      2        W./C. 6607  23.4500   NaN        S  \n",
       "889      0            111369  30.0000  C148        C  \n",
       "890      0            370376   7.7500   NaN        Q  \n",
       "\n",
       "[891 rows x 12 columns]"
      ],
      "text/html": [
       "<div>\n",
       "<style scoped>\n",
       "    .dataframe tbody tr th:only-of-type {\n",
       "        vertical-align: middle;\n",
       "    }\n",
       "\n",
       "    .dataframe tbody tr th {\n",
       "        vertical-align: top;\n",
       "    }\n",
       "\n",
       "    .dataframe thead th {\n",
       "        text-align: right;\n",
       "    }\n",
       "</style>\n",
       "<table border=\"1\" class=\"dataframe\">\n",
       "  <thead>\n",
       "    <tr style=\"text-align: right;\">\n",
       "      <th></th>\n",
       "      <th>PassengerId</th>\n",
       "      <th>Survived</th>\n",
       "      <th>Pclass</th>\n",
       "      <th>Name</th>\n",
       "      <th>Sex</th>\n",
       "      <th>Age</th>\n",
       "      <th>SibSp</th>\n",
       "      <th>Parch</th>\n",
       "      <th>Ticket</th>\n",
       "      <th>Fare</th>\n",
       "      <th>Cabin</th>\n",
       "      <th>Embarked</th>\n",
       "    </tr>\n",
       "  </thead>\n",
       "  <tbody>\n",
       "    <tr>\n",
       "      <th>0</th>\n",
       "      <td>1</td>\n",
       "      <td>0</td>\n",
       "      <td>3</td>\n",
       "      <td>Braund, Mr. Owen Harris</td>\n",
       "      <td>male</td>\n",
       "      <td>22.0</td>\n",
       "      <td>1</td>\n",
       "      <td>0</td>\n",
       "      <td>A/5 21171</td>\n",
       "      <td>7.2500</td>\n",
       "      <td>NaN</td>\n",
       "      <td>S</td>\n",
       "    </tr>\n",
       "    <tr>\n",
       "      <th>1</th>\n",
       "      <td>2</td>\n",
       "      <td>1</td>\n",
       "      <td>1</td>\n",
       "      <td>Cumings, Mrs. John Bradley (Florence Briggs Th...</td>\n",
       "      <td>female</td>\n",
       "      <td>38.0</td>\n",
       "      <td>1</td>\n",
       "      <td>0</td>\n",
       "      <td>PC 17599</td>\n",
       "      <td>71.2833</td>\n",
       "      <td>C85</td>\n",
       "      <td>C</td>\n",
       "    </tr>\n",
       "    <tr>\n",
       "      <th>2</th>\n",
       "      <td>3</td>\n",
       "      <td>1</td>\n",
       "      <td>3</td>\n",
       "      <td>Heikkinen, Miss. Laina</td>\n",
       "      <td>female</td>\n",
       "      <td>26.0</td>\n",
       "      <td>0</td>\n",
       "      <td>0</td>\n",
       "      <td>STON/O2. 3101282</td>\n",
       "      <td>7.9250</td>\n",
       "      <td>NaN</td>\n",
       "      <td>S</td>\n",
       "    </tr>\n",
       "    <tr>\n",
       "      <th>3</th>\n",
       "      <td>4</td>\n",
       "      <td>1</td>\n",
       "      <td>1</td>\n",
       "      <td>Futrelle, Mrs. Jacques Heath (Lily May Peel)</td>\n",
       "      <td>female</td>\n",
       "      <td>35.0</td>\n",
       "      <td>1</td>\n",
       "      <td>0</td>\n",
       "      <td>113803</td>\n",
       "      <td>53.1000</td>\n",
       "      <td>C123</td>\n",
       "      <td>S</td>\n",
       "    </tr>\n",
       "    <tr>\n",
       "      <th>4</th>\n",
       "      <td>5</td>\n",
       "      <td>0</td>\n",
       "      <td>3</td>\n",
       "      <td>Allen, Mr. William Henry</td>\n",
       "      <td>male</td>\n",
       "      <td>35.0</td>\n",
       "      <td>0</td>\n",
       "      <td>0</td>\n",
       "      <td>373450</td>\n",
       "      <td>8.0500</td>\n",
       "      <td>NaN</td>\n",
       "      <td>S</td>\n",
       "    </tr>\n",
       "    <tr>\n",
       "      <th>...</th>\n",
       "      <td>...</td>\n",
       "      <td>...</td>\n",
       "      <td>...</td>\n",
       "      <td>...</td>\n",
       "      <td>...</td>\n",
       "      <td>...</td>\n",
       "      <td>...</td>\n",
       "      <td>...</td>\n",
       "      <td>...</td>\n",
       "      <td>...</td>\n",
       "      <td>...</td>\n",
       "      <td>...</td>\n",
       "    </tr>\n",
       "    <tr>\n",
       "      <th>886</th>\n",
       "      <td>887</td>\n",
       "      <td>0</td>\n",
       "      <td>2</td>\n",
       "      <td>Montvila, Rev. Juozas</td>\n",
       "      <td>male</td>\n",
       "      <td>27.0</td>\n",
       "      <td>0</td>\n",
       "      <td>0</td>\n",
       "      <td>211536</td>\n",
       "      <td>13.0000</td>\n",
       "      <td>NaN</td>\n",
       "      <td>S</td>\n",
       "    </tr>\n",
       "    <tr>\n",
       "      <th>887</th>\n",
       "      <td>888</td>\n",
       "      <td>1</td>\n",
       "      <td>1</td>\n",
       "      <td>Graham, Miss. Margaret Edith</td>\n",
       "      <td>female</td>\n",
       "      <td>19.0</td>\n",
       "      <td>0</td>\n",
       "      <td>0</td>\n",
       "      <td>112053</td>\n",
       "      <td>30.0000</td>\n",
       "      <td>B42</td>\n",
       "      <td>S</td>\n",
       "    </tr>\n",
       "    <tr>\n",
       "      <th>888</th>\n",
       "      <td>889</td>\n",
       "      <td>0</td>\n",
       "      <td>3</td>\n",
       "      <td>Johnston, Miss. Catherine Helen \"Carrie\"</td>\n",
       "      <td>female</td>\n",
       "      <td>NaN</td>\n",
       "      <td>1</td>\n",
       "      <td>2</td>\n",
       "      <td>W./C. 6607</td>\n",
       "      <td>23.4500</td>\n",
       "      <td>NaN</td>\n",
       "      <td>S</td>\n",
       "    </tr>\n",
       "    <tr>\n",
       "      <th>889</th>\n",
       "      <td>890</td>\n",
       "      <td>1</td>\n",
       "      <td>1</td>\n",
       "      <td>Behr, Mr. Karl Howell</td>\n",
       "      <td>male</td>\n",
       "      <td>26.0</td>\n",
       "      <td>0</td>\n",
       "      <td>0</td>\n",
       "      <td>111369</td>\n",
       "      <td>30.0000</td>\n",
       "      <td>C148</td>\n",
       "      <td>C</td>\n",
       "    </tr>\n",
       "    <tr>\n",
       "      <th>890</th>\n",
       "      <td>891</td>\n",
       "      <td>0</td>\n",
       "      <td>3</td>\n",
       "      <td>Dooley, Mr. Patrick</td>\n",
       "      <td>male</td>\n",
       "      <td>32.0</td>\n",
       "      <td>0</td>\n",
       "      <td>0</td>\n",
       "      <td>370376</td>\n",
       "      <td>7.7500</td>\n",
       "      <td>NaN</td>\n",
       "      <td>Q</td>\n",
       "    </tr>\n",
       "  </tbody>\n",
       "</table>\n",
       "<p>891 rows × 12 columns</p>\n",
       "</div>"
      ]
     },
     "execution_count": 11,
     "metadata": {},
     "output_type": "execute_result"
    }
   ],
   "execution_count": 11
  },
  {
   "metadata": {
    "ExecuteTime": {
     "end_time": "2024-10-30T15:03:05.016619Z",
     "start_time": "2024-10-30T15:03:05.013054Z"
    }
   },
   "cell_type": "code",
   "source": [
    "data['Age'].fillna(data['Age'].mean(),inplace=True)\n",
    "data['Cabin'].fillna('N',inplace=True)\n",
    "data['Embarked'].fillna('N',inplace=True)"
   ],
   "id": "ee665d557e5c4f88",
   "outputs": [
    {
     "name": "stderr",
     "output_type": "stream",
     "text": [
      "/tmp/ipykernel_8218/3057721139.py:1: FutureWarning: A value is trying to be set on a copy of a DataFrame or Series through chained assignment using an inplace method.\n",
      "The behavior will change in pandas 3.0. This inplace method will never work because the intermediate object on which we are setting values always behaves as a copy.\n",
      "\n",
      "For example, when doing 'df[col].method(value, inplace=True)', try using 'df.method({col: value}, inplace=True)' or df[col] = df[col].method(value) instead, to perform the operation inplace on the original object.\n",
      "\n",
      "\n",
      "  data['Age'].fillna(data['Age'].mean(),inplace=True)\n",
      "/tmp/ipykernel_8218/3057721139.py:2: FutureWarning: A value is trying to be set on a copy of a DataFrame or Series through chained assignment using an inplace method.\n",
      "The behavior will change in pandas 3.0. This inplace method will never work because the intermediate object on which we are setting values always behaves as a copy.\n",
      "\n",
      "For example, when doing 'df[col].method(value, inplace=True)', try using 'df.method({col: value}, inplace=True)' or df[col] = df[col].method(value) instead, to perform the operation inplace on the original object.\n",
      "\n",
      "\n",
      "  data['Cabin'].fillna('N',inplace=True)\n",
      "/tmp/ipykernel_8218/3057721139.py:3: FutureWarning: A value is trying to be set on a copy of a DataFrame or Series through chained assignment using an inplace method.\n",
      "The behavior will change in pandas 3.0. This inplace method will never work because the intermediate object on which we are setting values always behaves as a copy.\n",
      "\n",
      "For example, when doing 'df[col].method(value, inplace=True)', try using 'df.method({col: value}, inplace=True)' or df[col] = df[col].method(value) instead, to perform the operation inplace on the original object.\n",
      "\n",
      "\n",
      "  data['Embarked'].fillna('N',inplace=True)\n"
     ]
    }
   ],
   "execution_count": 12
  },
  {
   "metadata": {
    "ExecuteTime": {
     "end_time": "2024-10-30T15:03:08.746047Z",
     "start_time": "2024-10-30T15:03:08.742724Z"
    }
   },
   "cell_type": "code",
   "source": [
    "data.loc[data[\"Sex\"] == \"male\", \"Sex_encode\"] = 0\n",
    "data.loc[data[\"Sex\"] == \"female\", \"Sex_encode\"] = 1"
   ],
   "id": "38b216d7e9032e15",
   "outputs": [],
   "execution_count": 13
  },
  {
   "metadata": {
    "ExecuteTime": {
     "end_time": "2024-10-30T15:09:31.636932Z",
     "start_time": "2024-10-30T15:09:31.633614Z"
    }
   },
   "cell_type": "code",
   "source": [
    "from sklearn.preprocessing import LabelEncoder\n",
    "\n",
    "# Null 처리 함수\n",
    "def fillna(df):\n",
    "    df['Age'].fillna(df['Age'].mean(), inplace=True)\n",
    "    df['Cabin'].fillna('N', inplace=True)\n",
    "    df['Embarked'].fillna('N', inplace=True)\n",
    "    df['Fare'].fillna(0, inplace=True)\n",
    "    return df\n",
    "\n",
    "# 머신러닝 알고리즘에 불필요한 피처 제거\n",
    "def drop_features(df):\n",
    "    df.drop(['PassengerId', 'Name', 'Ticket'], axis=1, inplace=True)\n",
    "    return df\n",
    "\n",
    "# 레이블 인코딩 수행.\n",
    "def format_features(df):\n",
    "    df['Cabin'] = df['Cabin'].str[:1]\n",
    "    features = ['Cabin', 'Sex', 'Embarked']\n",
    "    for feature in features:\n",
    "        le = LabelEncoder()\n",
    "        le = le.fit(df[feature])\n",
    "        df[feature] = le.transform(df[feature])\n",
    "    return df\n",
    "\n",
    "# 앞에서 설정한 데이터 전처리 함수 호출\n",
    "def transform_features(df):\n",
    "    df = fillna(df)\n",
    "    df = drop_features(df)\n",
    "    df = format_features(df)\n",
    "    return df"
   ],
   "id": "3956d3ab46251a6b",
   "outputs": [],
   "execution_count": 26
  },
  {
   "metadata": {
    "ExecuteTime": {
     "end_time": "2024-10-30T15:09:32.223224Z",
     "start_time": "2024-10-30T15:09:32.221433Z"
    }
   },
   "cell_type": "code",
   "source": "",
   "id": "cdb8a1e303d94ee4",
   "outputs": [],
   "execution_count": null
  },
  {
   "metadata": {
    "ExecuteTime": {
     "end_time": "2024-10-30T15:09:33.006859Z",
     "start_time": "2024-10-30T15:09:33.003853Z"
    }
   },
   "cell_type": "code",
   "source": [
    "Y = data['Survived']\n",
    "X = data.drop('Survived', axis=1)\n"
   ],
   "id": "2a4e8c7ffdc2159d",
   "outputs": [],
   "execution_count": 27
  },
  {
   "metadata": {
    "ExecuteTime": {
     "end_time": "2024-10-30T15:09:33.801478Z",
     "start_time": "2024-10-30T15:09:33.794134Z"
    }
   },
   "cell_type": "code",
   "source": "X = transform_features(X)",
   "id": "98c58545e9bd61f3",
   "outputs": [
    {
     "name": "stderr",
     "output_type": "stream",
     "text": [
      "/tmp/ipykernel_8218/3807705002.py:5: FutureWarning: A value is trying to be set on a copy of a DataFrame or Series through chained assignment using an inplace method.\n",
      "The behavior will change in pandas 3.0. This inplace method will never work because the intermediate object on which we are setting values always behaves as a copy.\n",
      "\n",
      "For example, when doing 'df[col].method(value, inplace=True)', try using 'df.method({col: value}, inplace=True)' or df[col] = df[col].method(value) instead, to perform the operation inplace on the original object.\n",
      "\n",
      "\n",
      "  df['Age'].fillna(df['Age'].mean(), inplace=True)\n",
      "/tmp/ipykernel_8218/3807705002.py:6: FutureWarning: A value is trying to be set on a copy of a DataFrame or Series through chained assignment using an inplace method.\n",
      "The behavior will change in pandas 3.0. This inplace method will never work because the intermediate object on which we are setting values always behaves as a copy.\n",
      "\n",
      "For example, when doing 'df[col].method(value, inplace=True)', try using 'df.method({col: value}, inplace=True)' or df[col] = df[col].method(value) instead, to perform the operation inplace on the original object.\n",
      "\n",
      "\n",
      "  df['Cabin'].fillna('N', inplace=True)\n",
      "/tmp/ipykernel_8218/3807705002.py:7: FutureWarning: A value is trying to be set on a copy of a DataFrame or Series through chained assignment using an inplace method.\n",
      "The behavior will change in pandas 3.0. This inplace method will never work because the intermediate object on which we are setting values always behaves as a copy.\n",
      "\n",
      "For example, when doing 'df[col].method(value, inplace=True)', try using 'df.method({col: value}, inplace=True)' or df[col] = df[col].method(value) instead, to perform the operation inplace on the original object.\n",
      "\n",
      "\n",
      "  df['Embarked'].fillna('N', inplace=True)\n",
      "/tmp/ipykernel_8218/3807705002.py:8: FutureWarning: A value is trying to be set on a copy of a DataFrame or Series through chained assignment using an inplace method.\n",
      "The behavior will change in pandas 3.0. This inplace method will never work because the intermediate object on which we are setting values always behaves as a copy.\n",
      "\n",
      "For example, when doing 'df[col].method(value, inplace=True)', try using 'df.method({col: value}, inplace=True)' or df[col] = df[col].method(value) instead, to perform the operation inplace on the original object.\n",
      "\n",
      "\n",
      "  df['Fare'].fillna(0, inplace=True)\n"
     ]
    }
   ],
   "execution_count": 28
  },
  {
   "metadata": {
    "ExecuteTime": {
     "end_time": "2024-10-30T15:09:35.284016Z",
     "start_time": "2024-10-30T15:09:35.280711Z"
    }
   },
   "cell_type": "code",
   "source": [
    "from sklearn.model_selection import train_test_split\n",
    "X_train, X_test, y_train, y_test=train_test_split(X, Y, \\\n",
    "                                                  test_size=0.2, random_state=11)"
   ],
   "id": "5c5d3cd36646e8dc",
   "outputs": [],
   "execution_count": 29
  },
  {
   "metadata": {
    "ExecuteTime": {
     "end_time": "2024-10-30T15:09:36.154297Z",
     "start_time": "2024-10-30T15:09:36.148465Z"
    }
   },
   "cell_type": "code",
   "source": [
    "def batch_sampler(data, target, batch_size):\n",
    "    tot = len(data)\n",
    "    total_iter = tot // batch_size\n",
    "    for i in range(total_iter):\n",
    "        yield (data[i * batch_size:(i + 1) * batch_size],\n",
    "               target[i * batch_size:(i + 1) * batch_size])\n",
    "\n",
    "\n",
    "sampler = batch_sampler(data=X_train, target=y_train, batch_size=32)\n",
    "L = len(X_train) // 32\n",
    "for i in range(L):\n",
    "    next(sampler)\n",
    "print(X_train)"
   ],
   "id": "b7088fda25435d4",
   "outputs": [
    {
     "name": "stdout",
     "output_type": "stream",
     "text": [
      "     Pclass  Sex   Age  SibSp  Parch      Fare  Cabin  Embarked  Sex_encode\n",
      "333       3    1  16.0      2      0   18.0000      7         3         0.0\n",
      "662       1    1  47.0      0      0   25.5875      4         3         0.0\n",
      "382       3    1  32.0      0      0    7.9250      7         3         0.0\n",
      "331       1    1  45.5      0      0   28.5000      2         3         0.0\n",
      "149       2    1  42.0      0      0   13.0000      7         3         0.0\n",
      "..      ...  ...   ...    ...    ...       ...    ...       ...         ...\n",
      "269       1    0  35.0      0      0  135.6333      2         3         1.0\n",
      "337       1    0  41.0      0      0  134.5000      4         0         1.0\n",
      "91        3    1  20.0      0      0    7.8542      7         3         0.0\n",
      "80        3    1  22.0      0      0    9.0000      7         3         0.0\n",
      "703       3    1  25.0      0      0    7.7417      7         2         0.0\n",
      "\n",
      "[712 rows x 9 columns]\n"
     ]
    }
   ],
   "execution_count": 30
  },
  {
   "metadata": {
    "ExecuteTime": {
     "end_time": "2024-10-30T15:19:35.430501Z",
     "start_time": "2024-10-30T15:19:35.425791Z"
    }
   },
   "cell_type": "code",
   "source": [
    "import numpy as np\n",
    "from tqdm import tqdm\n",
    "class LogisticRegression:\n",
    "    def __init__(self, learning_rate=0.01, epochs=400, n_features=9):\n",
    "        # 초기 가중치를 무작위로 설정\n",
    "        self.weights = np.random.randn(n_features)\n",
    "        self.b = np.random.randn()\n",
    "        self.learning_rate = learning_rate\n",
    "        self.epochs = epochs\n",
    "        self.loss_history = []\n",
    "\n",
    "    def sigmoid(self, z):\n",
    "        \"\"\"Sigmoid 활성화 함수\"\"\"\n",
    "        return 1.0 / (1 + np.exp(-z))\n",
    "\n",
    "    def compute_loss(self, preds, target):\n",
    "        \"\"\"교차 엔트로피 손실 계산\"\"\"\n",
    "        # 로그의 안정성을 위해 값들을 클리핑\n",
    "        preds = np.clip(preds, 1e-9, 1 - 1e-9)  # 0과 1의 범위를 벗어나지 않도록 함\n",
    "        loss = -((target * np.log(preds)) + (1 - target) * np.log(1 - preds)).mean()\n",
    "        return loss\n",
    "\n",
    "\n",
    "    def fit(self, X, y, batch_sampler):\n",
    "        \"\"\"모델 훈련 함수\"\"\"\n",
    "        for epoch in tqdm(range(self.epochs)):\n",
    "            sampler = batch_sampler(data=X, target=y, batch_size=4)\n",
    "            batch_loss = []\n",
    "    \n",
    "            for X_batch, Y_batch in sampler:\n",
    "                # 순방향 전파\n",
    "                preds = self.sigmoid(np.dot(X_batch, self.weights) + self.b)\n",
    "    \n",
    "                # 손실 계산\n",
    "                loss = self.compute_loss(preds, Y_batch)\n",
    "                batch_loss.append(loss)\n",
    "    \n",
    "                # 그래디언트 계산\n",
    "                dloss_dz = preds - Y_batch\n",
    "                weights_deriv = np.dot(X_batch.T, dloss_dz) / X_batch.shape[0]\n",
    "                b_deriv = dloss_dz.mean()\n",
    "    \n",
    "                # 가중치 및 바이어스 업데이트\n",
    "                self.weights -= self.learning_rate * weights_deriv\n",
    "                self.b -= self.learning_rate * b_deriv\n",
    "    \n",
    "            # Epoch별 손실 저장\n",
    "            epoch_loss = np.mean(batch_loss)\n",
    "            self.loss_history.append(epoch_loss)\n",
    "            \n",
    "            # 에포크마다 손실 출력\n",
    "            print(f\"Epoch {epoch + 1}/{self.epochs} - Loss: {epoch_loss:.4f}\")\n",
    "\n",
    "\n",
    "    def predict(self, X):\n",
    "        \"\"\"모델 예측 함수\"\"\"\n",
    "        linear_comb = np.dot(X, self.weights) + self.b\n",
    "        return self.sigmoid(linear_comb) > 0.5\n",
    "\n",
    "    def accuracy(self, X, y):\n",
    "        \"\"\"정확도 계산 함수\"\"\"\n",
    "        preds = self.predict(X)\n",
    "        return (preds == y).mean() * 100\n",
    "\n",
    "\n"
   ],
   "id": "c0a35c8cbd1c3f9a",
   "outputs": [],
   "execution_count": 70
  },
  {
   "metadata": {
    "ExecuteTime": {
     "end_time": "2024-10-30T15:19:45.040712Z",
     "start_time": "2024-10-30T15:19:35.576326Z"
    }
   },
   "cell_type": "code",
   "source": [
    "model = LogisticRegression(learning_rate=0.005, epochs=150, n_features=9)\n",
    "model.fit(X_train, y_train, batch_sampler=batch_sampler)"
   ],
   "id": "e20e60ecac1fdb8a",
   "outputs": [
    {
     "name": "stderr",
     "output_type": "stream",
     "text": [
      "  0%|          | 0/150 [00:00<?, ?it/s]"
     ]
    },
    {
     "name": "stdout",
     "output_type": "stream",
     "text": [
      "Epoch 1/150 - Loss: 2.1571\n"
     ]
    },
    {
     "name": "stderr",
     "output_type": "stream",
     "text": [
      "  3%|▎         | 4/150 [00:00<00:09, 15.05it/s]"
     ]
    },
    {
     "name": "stdout",
     "output_type": "stream",
     "text": [
      "Epoch 2/150 - Loss: 1.8670\n",
      "Epoch 3/150 - Loss: 1.8393\n",
      "Epoch 4/150 - Loss: 1.8097\n",
      "Epoch 5/150 - Loss: 1.7807"
     ]
    },
    {
     "name": "stderr",
     "output_type": "stream",
     "text": [
      "  4%|▍         | 6/150 [00:00<00:09, 14.71it/s]"
     ]
    },
    {
     "name": "stdout",
     "output_type": "stream",
     "text": [
      "\n",
      "Epoch 6/150 - Loss: 1.7502\n",
      "Epoch 7/150 - Loss: 1.7230\n",
      "Epoch 8/150 - Loss: 1.7115\n"
     ]
    },
    {
     "name": "stderr",
     "output_type": "stream",
     "text": [
      "  8%|▊         | 12/150 [00:00<00:09, 15.02it/s]"
     ]
    },
    {
     "name": "stdout",
     "output_type": "stream",
     "text": [
      "Epoch 9/150 - Loss: 1.7249\n",
      "Epoch 10/150 - Loss: 1.7075\n",
      "Epoch 11/150 - Loss: 1.6886\n",
      "Epoch 12/150 - Loss: 1.6699\n",
      "Epoch 13/150 - Loss: 1.6519\n"
     ]
    },
    {
     "name": "stderr",
     "output_type": "stream",
     "text": [
      " 11%|█         | 16/150 [00:01<00:08, 15.38it/s]"
     ]
    },
    {
     "name": "stdout",
     "output_type": "stream",
     "text": [
      "Epoch 14/150 - Loss: 1.6351\n",
      "Epoch 15/150 - Loss: 1.6219\n",
      "Epoch 16/150 - Loss: 1.6114\n",
      "Epoch 17/150 - Loss: 1.6027\n"
     ]
    },
    {
     "name": "stderr",
     "output_type": "stream",
     "text": [
      " 13%|█▎        | 20/150 [00:01<00:08, 15.67it/s]"
     ]
    },
    {
     "name": "stdout",
     "output_type": "stream",
     "text": [
      "Epoch 18/150 - Loss: 1.5954\n",
      "Epoch 19/150 - Loss: 1.5885\n",
      "Epoch 20/150 - Loss: 1.5826\n",
      "Epoch 21/150 - Loss: 1.5774\n",
      "Epoch 22/150 - Loss: 1.5731\n"
     ]
    },
    {
     "name": "stderr",
     "output_type": "stream",
     "text": [
      " 17%|█▋        | 26/150 [00:01<00:07, 15.90it/s]"
     ]
    },
    {
     "name": "stdout",
     "output_type": "stream",
     "text": [
      "Epoch 23/150 - Loss: 1.5693\n",
      "Epoch 24/150 - Loss: 1.5659\n",
      "Epoch 25/150 - Loss: 1.5625\n",
      "Epoch 26/150 - Loss: 1.5593\n"
     ]
    },
    {
     "name": "stderr",
     "output_type": "stream",
     "text": [
      " 21%|██▏       | 32/150 [00:02<00:07, 16.02it/s]"
     ]
    },
    {
     "name": "stdout",
     "output_type": "stream",
     "text": [
      "Epoch 27/150 - Loss: 1.5582\n",
      "Epoch 28/150 - Loss: 1.5572\n",
      "Epoch 29/150 - Loss: 1.5556\n",
      "Epoch 30/150 - Loss: 1.5544\n",
      "Epoch 31/150 - Loss: 1.5530\n",
      "Epoch 32/150 - Loss: 1.5515\n"
     ]
    },
    {
     "name": "stderr",
     "output_type": "stream",
     "text": [
      " 24%|██▍       | 36/150 [00:02<00:07, 15.92it/s]"
     ]
    },
    {
     "name": "stdout",
     "output_type": "stream",
     "text": [
      "Epoch 33/150 - Loss: 1.5501\n",
      "Epoch 34/150 - Loss: 1.5488\n",
      "Epoch 35/150 - Loss: 1.5476\n",
      "Epoch 36/150 - Loss: 1.5465\n"
     ]
    },
    {
     "name": "stderr",
     "output_type": "stream",
     "text": [
      " 27%|██▋       | 40/150 [00:02<00:06, 15.94it/s]"
     ]
    },
    {
     "name": "stdout",
     "output_type": "stream",
     "text": [
      "Epoch 37/150 - Loss: 1.5457\n",
      "Epoch 38/150 - Loss: 1.5449\n",
      "Epoch 39/150 - Loss: 1.5442\n",
      "Epoch 40/150 - Loss: 1.5436\n",
      "Epoch 41/150 - Loss: 1.5431\n"
     ]
    },
    {
     "name": "stderr",
     "output_type": "stream",
     "text": [
      " 31%|███       | 46/150 [00:02<00:06, 16.03it/s]"
     ]
    },
    {
     "name": "stdout",
     "output_type": "stream",
     "text": [
      "Epoch 42/150 - Loss: 1.5427\n",
      "Epoch 43/150 - Loss: 1.5423\n",
      "Epoch 44/150 - Loss: 1.5419\n",
      "Epoch 45/150 - Loss: 1.5417\n",
      "Epoch 46/150 - Loss: 1.5414\n"
     ]
    },
    {
     "name": "stderr",
     "output_type": "stream",
     "text": [
      " 35%|███▍      | 52/150 [00:03<00:06, 16.15it/s]"
     ]
    },
    {
     "name": "stdout",
     "output_type": "stream",
     "text": [
      "Epoch 47/150 - Loss: 1.5413\n",
      "Epoch 48/150 - Loss: 1.5412\n",
      "Epoch 49/150 - Loss: 1.5411\n",
      "Epoch 50/150 - Loss: 1.5412\n",
      "Epoch 51/150 - Loss: 1.5413\n",
      "Epoch 52/150 - Loss: 1.5415\n"
     ]
    },
    {
     "name": "stderr",
     "output_type": "stream",
     "text": [
      " 37%|███▋      | 56/150 [00:03<00:05, 15.93it/s]"
     ]
    },
    {
     "name": "stdout",
     "output_type": "stream",
     "text": [
      "Epoch 53/150 - Loss: 1.5417\n",
      "Epoch 54/150 - Loss: 1.5421\n",
      "Epoch 55/150 - Loss: 1.5425\n",
      "Epoch 56/150 - Loss: 1.5431\n"
     ]
    },
    {
     "name": "stderr",
     "output_type": "stream",
     "text": [
      " 41%|████▏     | 62/150 [00:03<00:05, 15.68it/s]"
     ]
    },
    {
     "name": "stdout",
     "output_type": "stream",
     "text": [
      "Epoch 57/150 - Loss: 1.5437\n",
      "Epoch 58/150 - Loss: 1.5443\n",
      "Epoch 59/150 - Loss: 1.5450\n",
      "Epoch 60/150 - Loss: 1.5458\n",
      "Epoch 61/150 - Loss: 1.5466\n",
      "Epoch 62/150 - Loss: 1.5474\n"
     ]
    },
    {
     "name": "stderr",
     "output_type": "stream",
     "text": [
      " 44%|████▍     | 66/150 [00:04<00:05, 15.91it/s]"
     ]
    },
    {
     "name": "stdout",
     "output_type": "stream",
     "text": [
      "Epoch 63/150 - Loss: 1.5481\n",
      "Epoch 64/150 - Loss: 1.5485\n",
      "Epoch 65/150 - Loss: 1.5489\n",
      "Epoch 66/150 - Loss: 1.5492\n",
      "Epoch 67/150 - Loss: 1.5496\n",
      "Epoch 68/150 - Loss: 1.5499\n"
     ]
    },
    {
     "name": "stderr",
     "output_type": "stream",
     "text": [
      " 48%|████▊     | 72/150 [00:04<00:04, 15.99it/s]"
     ]
    },
    {
     "name": "stdout",
     "output_type": "stream",
     "text": [
      "Epoch 69/150 - Loss: 1.5502\n",
      "Epoch 70/150 - Loss: 1.5505\n",
      "Epoch 71/150 - Loss: 1.5507\n",
      "Epoch 72/150 - Loss: 1.5509\n",
      "Epoch 73/150 - Loss: 1.5510\n",
      "Epoch 74/150 - Loss: 1.5511\n"
     ]
    },
    {
     "name": "stderr",
     "output_type": "stream",
     "text": [
      " 52%|█████▏    | 78/150 [00:04<00:04, 16.09it/s]"
     ]
    },
    {
     "name": "stdout",
     "output_type": "stream",
     "text": [
      "Epoch 75/150 - Loss: 1.5511\n",
      "Epoch 76/150 - Loss: 1.5510\n",
      "Epoch 77/150 - Loss: 1.5510\n",
      "Epoch 78/150 - Loss: 1.5508\n",
      "Epoch 79/150 - Loss: 1.5506\n"
     ]
    },
    {
     "name": "stderr",
     "output_type": "stream",
     "text": [
      " 55%|█████▍    | 82/150 [00:05<00:04, 16.17it/s]"
     ]
    },
    {
     "name": "stdout",
     "output_type": "stream",
     "text": [
      "Epoch 80/150 - Loss: 1.5504\n",
      "Epoch 81/150 - Loss: 1.5501\n",
      "Epoch 82/150 - Loss: 1.5497\n",
      "Epoch 83/150 - Loss: 1.5494\n",
      "Epoch 84/150 - Loss: 1.5490\n"
     ]
    },
    {
     "name": "stderr",
     "output_type": "stream",
     "text": [
      " 59%|█████▊    | 88/150 [00:05<00:03, 16.09it/s]"
     ]
    },
    {
     "name": "stdout",
     "output_type": "stream",
     "text": [
      "Epoch 85/150 - Loss: 1.5487\n",
      "Epoch 86/150 - Loss: 1.5484\n",
      "Epoch 87/150 - Loss: 1.5482\n",
      "Epoch 88/150 - Loss: 1.5480\n",
      "Epoch 89/150 - Loss: 1.5480\n",
      "Epoch 90/150 - Loss: 1.5479\n"
     ]
    },
    {
     "name": "stderr",
     "output_type": "stream",
     "text": [
      " 64%|██████▍   | 96/150 [00:06<00:03, 16.06it/s]"
     ]
    },
    {
     "name": "stdout",
     "output_type": "stream",
     "text": [
      "Epoch 91/150 - Loss: 1.5480\n",
      "Epoch 92/150 - Loss: 1.5480\n",
      "Epoch 93/150 - Loss: 1.5479\n",
      "Epoch 94/150 - Loss: 1.5479\n",
      "Epoch 95/150 - Loss: 1.5478\n",
      "Epoch 96/150 - Loss: 1.5477\n"
     ]
    },
    {
     "name": "stderr",
     "output_type": "stream",
     "text": [
      " 67%|██████▋   | 100/150 [00:06<00:03, 16.17it/s]"
     ]
    },
    {
     "name": "stdout",
     "output_type": "stream",
     "text": [
      "Epoch 97/150 - Loss: 1.5476\n",
      "Epoch 98/150 - Loss: 1.5474\n",
      "Epoch 99/150 - Loss: 1.5473\n",
      "Epoch 100/150 - Loss: 1.5472\n",
      "Epoch 101/150 - Loss: 1.5471\n"
     ]
    },
    {
     "name": "stderr",
     "output_type": "stream",
     "text": [
      " 71%|███████   | 106/150 [00:06<00:02, 16.06it/s]"
     ]
    },
    {
     "name": "stdout",
     "output_type": "stream",
     "text": [
      "Epoch 102/150 - Loss: 1.5470\n",
      "Epoch 103/150 - Loss: 1.5469\n",
      "Epoch 104/150 - Loss: 1.5468\n",
      "Epoch 105/150 - Loss: 1.5467\n",
      "Epoch 106/150 - Loss: 1.5466\n"
     ]
    },
    {
     "name": "stderr",
     "output_type": "stream",
     "text": [
      " 73%|███████▎  | 110/150 [00:06<00:02, 16.19it/s]"
     ]
    },
    {
     "name": "stdout",
     "output_type": "stream",
     "text": [
      "Epoch 107/150 - Loss: 1.5465\n",
      "Epoch 108/150 - Loss: 1.5464\n",
      "Epoch 109/150 - Loss: 1.5463\n",
      "Epoch 110/150 - Loss: 1.5462\n",
      "Epoch 111/150 - Loss: 1.5461\n"
     ]
    },
    {
     "name": "stderr",
     "output_type": "stream",
     "text": [
      " 76%|███████▌  | 114/150 [00:07<00:02, 16.02it/s]"
     ]
    },
    {
     "name": "stdout",
     "output_type": "stream",
     "text": [
      "Epoch 112/150 - Loss: 1.5461\n",
      "Epoch 113/150 - Loss: 1.5460\n",
      "Epoch 114/150 - Loss: 1.5460\n",
      "Epoch 115/150 - Loss: 1.5460\n"
     ]
    },
    {
     "name": "stderr",
     "output_type": "stream",
     "text": [
      " 79%|███████▊  | 118/150 [00:07<00:02, 15.62it/s]"
     ]
    },
    {
     "name": "stdout",
     "output_type": "stream",
     "text": [
      "Epoch 116/150 - Loss: 1.5459\n",
      "Epoch 117/150 - Loss: 1.5459\n",
      "Epoch 118/150 - Loss: 1.5459\n",
      "Epoch 119/150 - Loss: 1.5458\n"
     ]
    },
    {
     "name": "stderr",
     "output_type": "stream",
     "text": [
      " 81%|████████▏ | 122/150 [00:07<00:01, 15.77it/s]"
     ]
    },
    {
     "name": "stdout",
     "output_type": "stream",
     "text": [
      "Epoch 120/150 - Loss: 1.5458\n",
      "Epoch 121/150 - Loss: 1.5458\n",
      "Epoch 122/150 - Loss: 1.5458\n",
      "Epoch 123/150 - Loss: 1.5457\n"
     ]
    },
    {
     "name": "stderr",
     "output_type": "stream",
     "text": [
      " 84%|████████▍ | 126/150 [00:07<00:01, 15.80it/s]"
     ]
    },
    {
     "name": "stdout",
     "output_type": "stream",
     "text": [
      "Epoch 124/150 - Loss: 1.5457\n",
      "Epoch 125/150 - Loss: 1.5457\n",
      "Epoch 126/150 - Loss: 1.5456\n",
      "Epoch 127/150 - Loss: 1.5456\n",
      "Epoch 128/150 - Loss: 1.5455\n"
     ]
    },
    {
     "name": "stderr",
     "output_type": "stream",
     "text": [
      " 88%|████████▊ | 132/150 [00:08<00:01, 15.84it/s]"
     ]
    },
    {
     "name": "stdout",
     "output_type": "stream",
     "text": [
      "Epoch 129/150 - Loss: 1.5455\n",
      "Epoch 130/150 - Loss: 1.5455\n",
      "Epoch 131/150 - Loss: 1.5454\n",
      "Epoch 132/150 - Loss: 1.5454\n"
     ]
    },
    {
     "name": "stderr",
     "output_type": "stream",
     "text": [
      " 91%|█████████ | 136/150 [00:08<00:00, 15.67it/s]"
     ]
    },
    {
     "name": "stdout",
     "output_type": "stream",
     "text": [
      "Epoch 133/150 - Loss: 1.5454\n",
      "Epoch 134/150 - Loss: 1.5453\n",
      "Epoch 135/150 - Loss: 1.5453\n",
      "Epoch 136/150 - Loss: 1.5453\n",
      "Epoch 137/150 - Loss: 1.5452\n"
     ]
    },
    {
     "name": "stderr",
     "output_type": "stream",
     "text": [
      " 93%|█████████▎| 140/150 [00:08<00:00, 15.73it/s]"
     ]
    },
    {
     "name": "stdout",
     "output_type": "stream",
     "text": [
      "Epoch 138/150 - Loss: 1.5452\n",
      "Epoch 139/150 - Loss: 1.5452\n",
      "Epoch 140/150 - Loss: 1.5451\n",
      "Epoch 141/150 - Loss: 1.5451\n"
     ]
    },
    {
     "name": "stderr",
     "output_type": "stream",
     "text": [
      " 97%|█████████▋| 146/150 [00:09<00:00, 15.85it/s]"
     ]
    },
    {
     "name": "stdout",
     "output_type": "stream",
     "text": [
      "Epoch 142/150 - Loss: 1.5451\n",
      "Epoch 143/150 - Loss: 1.5451\n",
      "Epoch 144/150 - Loss: 1.5450\n",
      "Epoch 145/150 - Loss: 1.5450\n",
      "Epoch 146/150 - Loss: 1.5450\n"
     ]
    },
    {
     "name": "stderr",
     "output_type": "stream",
     "text": [
      "100%|██████████| 150/150 [00:09<00:00, 15.86it/s]"
     ]
    },
    {
     "name": "stdout",
     "output_type": "stream",
     "text": [
      "Epoch 147/150 - Loss: 1.5449\n",
      "Epoch 148/150 - Loss: 1.5449\n",
      "Epoch 149/150 - Loss: 1.5449\n",
      "Epoch 150/150 - Loss: 1.5449\n"
     ]
    },
    {
     "name": "stderr",
     "output_type": "stream",
     "text": [
      "\n"
     ]
    }
   ],
   "execution_count": 71
  },
  {
   "metadata": {
    "ExecuteTime": {
     "end_time": "2024-10-30T15:19:45.142059Z",
     "start_time": "2024-10-30T15:19:45.138651Z"
    }
   },
   "cell_type": "code",
   "source": [
    "# X_test에 대한 예측값 생성\n",
    "predictions = model.predict(X_test)\n",
    "\n",
    "# 정확도 계산\n",
    "def calculate_accuracy(predictions, y_test):\n",
    "    \"\"\"예측값과 실제값을 비교하여 정확도를 계산\"\"\"\n",
    "    correct_predictions = (predictions == y_test).sum()\n",
    "    accuracy = (correct_predictions / len(y_test)) * 100\n",
    "    return accuracy\n",
    "\n",
    "# y_test와 비교하여 정확도 계산\n",
    "accuracy = calculate_accuracy(predictions, y_test)\n",
    "print(f\"Test Accuracy: {accuracy:.2f}%\")\n"
   ],
   "id": "302e2c1bdd331eea",
   "outputs": [
    {
     "name": "stdout",
     "output_type": "stream",
     "text": [
      "Test Accuracy: 84.36%\n"
     ]
    }
   ],
   "execution_count": 72
  },
  {
   "metadata": {},
   "cell_type": "code",
   "outputs": [],
   "execution_count": null,
   "source": "",
   "id": "b9f7f8e906bcf5ea"
  }
 ],
 "metadata": {
  "kernelspec": {
   "display_name": "Python 3",
   "language": "python",
   "name": "python3"
  },
  "language_info": {
   "codemirror_mode": {
    "name": "ipython",
    "version": 2
   },
   "file_extension": ".py",
   "mimetype": "text/x-python",
   "name": "python",
   "nbconvert_exporter": "python",
   "pygments_lexer": "ipython2",
   "version": "2.7.6"
  }
 },
 "nbformat": 4,
 "nbformat_minor": 5
}
