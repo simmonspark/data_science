{
 "cells": [
  {
   "metadata": {},
   "cell_type": "markdown",
   "source": [
    "### 2020707035 박시언 Lab4\n",
    "\n",
    "1. nan null data handling\n",
    "2. feature to feature corr check and drop\n",
    "3. feature to Y corr check and select\n",
    "4. hyperparameter tuning with Bayesian Optimization"
   ],
   "id": "92d0c367c0506418"
  },
  {
   "cell_type": "code",
   "id": "initial_id",
   "metadata": {
    "collapsed": true,
    "ExecuteTime": {
     "end_time": "2024-10-18T09:48:36.095104Z",
     "start_time": "2024-10-18T09:48:32.949232Z"
    }
   },
   "source": [
    "import pandas as pd\n",
    "import numpy as np\n",
    "import xgboost as xgb\n",
    "from sklearn.preprocessing import LabelEncoder, StandardScaler\n",
    "from sklearn.model_selection import train_test_split\n",
    "\n",
    "encoder = LabelEncoder()\n",
    "model = xgb.XGBRegressor()\n",
    "model_param = dict(min_samples_rate=0.9, n_extimators=10, max_depth=6)\n",
    "\n",
    "data = pd.read_csv('./train.csv')\n",
    "dum = np.random.rand(len(data), 5)\n",
    "train_df, test_df, _, __ = train_test_split(data, dum)\n",
    "object_columns = data.select_dtypes(include=['object']).columns\n"
   ],
   "outputs": [],
   "execution_count": 1
  },
  {
   "metadata": {
    "ExecuteTime": {
     "end_time": "2024-10-18T09:48:36.101178Z",
     "start_time": "2024-10-18T09:48:36.096419Z"
    }
   },
   "cell_type": "code",
   "source": "test_df['LotFrontage']",
   "id": "6a19e044b42159de",
   "outputs": [
    {
     "data": {
      "text/plain": [
       "1214     69.0\n",
       "55      100.0\n",
       "430      21.0\n",
       "665     106.0\n",
       "80      100.0\n",
       "        ...  \n",
       "600      74.0\n",
       "486      79.0\n",
       "871      70.0\n",
       "1302     92.0\n",
       "894      64.0\n",
       "Name: LotFrontage, Length: 365, dtype: float64"
      ]
     },
     "execution_count": 2,
     "metadata": {},
     "output_type": "execute_result"
    }
   ],
   "execution_count": 2
  },
  {
   "metadata": {
    "ExecuteTime": {
     "end_time": "2024-10-18T09:48:36.106075Z",
     "start_time": "2024-10-18T09:48:36.101963Z"
    }
   },
   "cell_type": "code",
   "source": "train_df.isna().sum()",
   "id": "e182e9bdcdc2db26",
   "outputs": [
    {
     "data": {
      "text/plain": [
       "Id                 0\n",
       "MSSubClass         0\n",
       "MSZoning           0\n",
       "LotFrontage      182\n",
       "LotArea            0\n",
       "                ... \n",
       "MoSold             0\n",
       "YrSold             0\n",
       "SaleType           0\n",
       "SaleCondition      0\n",
       "SalePrice          0\n",
       "Length: 81, dtype: int64"
      ]
     },
     "execution_count": 3,
     "metadata": {},
     "output_type": "execute_result"
    }
   ],
   "execution_count": 3
  },
  {
   "metadata": {
    "ExecuteTime": {
     "end_time": "2024-10-18T09:48:36.110562Z",
     "start_time": "2024-10-18T09:48:36.107325Z"
    }
   },
   "cell_type": "code",
   "source": "test_df.isna().sum()",
   "id": "fe72c9609413d554",
   "outputs": [
    {
     "data": {
      "text/plain": [
       "Id                0\n",
       "MSSubClass        0\n",
       "MSZoning          0\n",
       "LotFrontage      77\n",
       "LotArea           0\n",
       "                 ..\n",
       "MoSold            0\n",
       "YrSold            0\n",
       "SaleType          0\n",
       "SaleCondition     0\n",
       "SalePrice         0\n",
       "Length: 81, dtype: int64"
      ]
     },
     "execution_count": 4,
     "metadata": {},
     "output_type": "execute_result"
    }
   ],
   "execution_count": 4
  },
  {
   "metadata": {
    "ExecuteTime": {
     "end_time": "2024-10-18T09:48:36.115580Z",
     "start_time": "2024-10-18T09:48:36.111171Z"
    }
   },
   "cell_type": "code",
   "source": "train_df.isnull().sum()",
   "id": "48be49ba304a3cb",
   "outputs": [
    {
     "data": {
      "text/plain": [
       "Id                 0\n",
       "MSSubClass         0\n",
       "MSZoning           0\n",
       "LotFrontage      182\n",
       "LotArea            0\n",
       "                ... \n",
       "MoSold             0\n",
       "YrSold             0\n",
       "SaleType           0\n",
       "SaleCondition      0\n",
       "SalePrice          0\n",
       "Length: 81, dtype: int64"
      ]
     },
     "execution_count": 5,
     "metadata": {},
     "output_type": "execute_result"
    }
   ],
   "execution_count": 5
  },
  {
   "metadata": {
    "ExecuteTime": {
     "end_time": "2024-10-18T09:48:36.118884Z",
     "start_time": "2024-10-18T09:48:36.116105Z"
    }
   },
   "cell_type": "code",
   "source": "len(train_df)",
   "id": "722607626fbb2956",
   "outputs": [
    {
     "data": {
      "text/plain": [
       "1095"
      ]
     },
     "execution_count": 6,
     "metadata": {},
     "output_type": "execute_result"
    }
   ],
   "execution_count": 6
  },
  {
   "metadata": {
    "ExecuteTime": {
     "end_time": "2024-10-18T09:48:36.124624Z",
     "start_time": "2024-10-18T09:48:36.119798Z"
    }
   },
   "cell_type": "code",
   "source": [
    "def NullDropHandler(train, test):\n",
    "    tmp_stack = []\n",
    "\n",
    "    # 1. train과 test 데이터프레임의 공통 열만 처리\n",
    "    common_columns = train.columns.intersection(test.columns)\n",
    "\n",
    "    # 2. 결측값이 200개 이상인 열은 삭제\n",
    "    for column in common_columns:\n",
    "        if train[column].isnull().sum() > 500:\n",
    "            train = train.drop([column], axis=1)\n",
    "            test = test.drop([column], axis=1)\n",
    "            tmp_stack.append(column)  # 제거한 열을 스택에 저장\n",
    "\n",
    "    # 공통 열 리스트를 업데이트하여 삭제된 열을 제외\n",
    "    common_columns = train.columns.intersection(test.columns)\n",
    "\n",
    "    # 3. 결측값이 있는 열을 처리\n",
    "    for column in common_columns:\n",
    "        # train 데이터프레임에서 결측값이 있는 경우\n",
    "        if train[column].isnull().sum() > 0:\n",
    "            if train[column].dtype != 'object':  # 숫자형 데이터 확인\n",
    "                value_train = train[column].mean()\n",
    "                train[column] = train[column].fillna(value_train)\n",
    "            else:\n",
    "                train[column] = train[column].fillna(str('none'))\n",
    "\n",
    "                # test 데이터프레임에서 결측값이 있는 경우\n",
    "        if test[column].isnull().sum() > 0:\n",
    "            if test[column].dtype != 'object':  # 숫자형 데이터 확인\n",
    "                value_test = test[column].mean()\n",
    "                test[column] = test[column].fillna(value_test)\n",
    "            else:\n",
    "                test[column] = test[column].fillna(str('none'))\n",
    "\n",
    "    return train, test, tmp_stack  # 제거된 열 목록도 반환\n"
   ],
   "id": "4287458fe14d5910",
   "outputs": [],
   "execution_count": 7
  },
  {
   "metadata": {
    "ExecuteTime": {
     "end_time": "2024-10-18T09:48:36.127873Z",
     "start_time": "2024-10-18T09:48:36.125190Z"
    }
   },
   "cell_type": "code",
   "source": "len(train_df.columns)",
   "id": "6c0a0d4988a72786",
   "outputs": [
    {
     "data": {
      "text/plain": [
       "81"
      ]
     },
     "execution_count": 8,
     "metadata": {},
     "output_type": "execute_result"
    }
   ],
   "execution_count": 8
  },
  {
   "metadata": {
    "ExecuteTime": {
     "end_time": "2024-10-18T09:48:36.131848Z",
     "start_time": "2024-10-18T09:48:36.128487Z"
    }
   },
   "cell_type": "code",
   "source": "print(train_df.isnull().sum().sum())",
   "id": "4f570c3e8310255a",
   "outputs": [
    {
     "name": "stdout",
     "output_type": "stream",
     "text": [
      "5860\n"
     ]
    }
   ],
   "execution_count": 9
  },
  {
   "metadata": {
    "ExecuteTime": {
     "end_time": "2024-10-18T09:48:36.154762Z",
     "start_time": "2024-10-18T09:48:36.134044Z"
    }
   },
   "cell_type": "code",
   "source": [
    "def NaNHandler(train, test):\n",
    "    tmp_stack = []\n",
    "    common_columns = train.columns.intersection(test.columns)\n",
    "    # 1. NaN 값이 200개 이상인 열은 삭제\n",
    "    for column in common_columns:\n",
    "        if train[column].isna().sum() > 200:\n",
    "            train = train.drop([column], axis=1)\n",
    "            test = test.drop([column], axis=1)\n",
    "            tmp_stack.append(column)\n",
    "    common_columns = train.columns.intersection(test.columns)\n",
    "    # 2. NaN 값이 있는 열을 처리\n",
    "    for column in common_columns:\n",
    "        # train 데이터프레임에서 결측값이 있는 경우\n",
    "        if train[column].isna().sum() > 0:\n",
    "            if train[column].dtype != 'object':  # 숫자형 데이터 확인\n",
    "                value_train = train[column].mean()\n",
    "                train[column] = train[column].fillna(value_train)  # 평균값으로 NaN 채움\n",
    "            else:\n",
    "                train[column] = train[column].fillna(str('none'))\n",
    "\n",
    "                # test 데이터프레임에서 결측값이 있는 경우\n",
    "        if test[column].isna().sum() > 0:\n",
    "            if test[column].dtype != 'object':  # 숫자형 데이터 확인\n",
    "                value_test = test[column].mean()\n",
    "                test[column] = test[column].fillna(value_test)  # 평균값으로 NaN 채움\n",
    "            else:\n",
    "                test[column] = test[column].fillna(str('none'))\n",
    "\n",
    "    return train, test, tmp_stack\n",
    "\n",
    "\n",
    "train_df, test_df, removed_columns = NaNHandler(train_df, test_df)\n"
   ],
   "id": "9df3e08c113d12f5",
   "outputs": [],
   "execution_count": 10
  },
  {
   "metadata": {
    "ExecuteTime": {
     "end_time": "2024-10-18T09:48:36.158680Z",
     "start_time": "2024-10-18T09:48:36.155310Z"
    }
   },
   "cell_type": "code",
   "source": "test_df.isna().sum().sum()",
   "id": "560f7e5bb04a6a7e",
   "outputs": [
    {
     "data": {
      "text/plain": [
       "np.int64(0)"
      ]
     },
     "execution_count": 11,
     "metadata": {},
     "output_type": "execute_result"
    }
   ],
   "execution_count": 11
  },
  {
   "metadata": {
    "ExecuteTime": {
     "end_time": "2024-10-18T09:48:36.199641Z",
     "start_time": "2024-10-18T09:48:36.160570Z"
    }
   },
   "cell_type": "code",
   "source": [
    "from sklearn.preprocessing import LabelEncoder\n",
    "import numpy as np\n",
    "\n",
    "label_encoder = LabelEncoder()\n",
    "\n",
    "\n",
    "def Encoder(df1, df2):\n",
    "    for column in df1.columns:\n",
    "        if df1[column].dtype == 'object':  # 문자열 타입 확인\n",
    "            df1[column] = label_encoder.fit_transform(df1[column])\n",
    "\n",
    "            # test_df에 없는 값은 -1로 대체\n",
    "            df2[column] = df2[column].apply(lambda x: x if x in label_encoder.classes_ else 'none')\n",
    "            label_encoder.classes_ = np.append(label_encoder.classes_, 'none')\n",
    "            df2[column] = label_encoder.transform(df2[column])\n",
    "\n",
    "    return df1, df2\n",
    "\n",
    "\n",
    "train_df, test_df = Encoder(train_df, test_df)\n"
   ],
   "id": "a792a7a1fadb1356",
   "outputs": [],
   "execution_count": 12
  },
  {
   "metadata": {
    "ExecuteTime": {
     "end_time": "2024-10-18T09:48:36.204210Z",
     "start_time": "2024-10-18T09:48:36.200365Z"
    }
   },
   "cell_type": "code",
   "source": [
    "print(train_df.isna().sum().sum())\n",
    "print(test_df.isna().sum().sum())"
   ],
   "id": "8885d5530425a8ff",
   "outputs": [
    {
     "name": "stdout",
     "output_type": "stream",
     "text": [
      "0\n",
      "0\n"
     ]
    }
   ],
   "execution_count": 13
  },
  {
   "metadata": {
    "ExecuteTime": {
     "end_time": "2024-10-18T09:48:36.288577Z",
     "start_time": "2024-10-18T09:48:36.204971Z"
    }
   },
   "cell_type": "code",
   "source": [
    "def remove_collinear_features(train_df: pd.DataFrame, test_df: pd.DataFrame, threshold=0.8) -> tuple:\n",
    "    corr_matrix = train_df.corr()\n",
    "    iters = range(len(corr_matrix.columns) - 1)\n",
    "    drop_cols = []\n",
    "\n",
    "    for i in iters:\n",
    "        for j in range(i + 1):\n",
    "            item = corr_matrix.iloc[j:(j + 1), (i + 1):(i + 2)]\n",
    "            col = item.columns\n",
    "            row = item.index\n",
    "            # 절대값을 씌우는 이유는\n",
    "            # corr 절대값이 높은거를 제거하면 되기 때문에\n",
    "            val = abs(item.values)\n",
    "\n",
    "            if val >= threshold:\n",
    "                print(col.values[0], '|', row.values[0], '|', round(val[0][0], 2))\n",
    "                drop_cols.append(col.values[0])\n",
    "\n",
    "    drops = set(drop_cols)\n",
    "    drops.discard('SalePrice')\n",
    "    train_df = train_df.drop(columns=drops)\n",
    "    test_df = test_df.drop(columns=drops)\n",
    "\n",
    "    return train_df, test_df\n",
    "\n",
    "\n",
    "train_df, test_df = remove_collinear_features(train_df, test_df)\n"
   ],
   "id": "5958d83ae0588881",
   "outputs": [
    {
     "name": "stdout",
     "output_type": "stream",
     "text": [
      "Exterior2nd | Exterior1st | 0.87\n",
      "1stFlrSF | TotalBsmtSF | 0.82\n",
      "TotRmsAbvGrd | GrLivArea | 0.83\n",
      "GarageArea | GarageCars | 0.89\n"
     ]
    }
   ],
   "execution_count": 14
  },
  {
   "metadata": {
    "ExecuteTime": {
     "end_time": "2024-10-18T09:48:36.290560Z",
     "start_time": "2024-10-18T09:48:36.289452Z"
    }
   },
   "cell_type": "code",
   "source": "",
   "id": "8ce65f6ad08febdb",
   "outputs": [],
   "execution_count": 14
  },
  {
   "metadata": {
    "ExecuteTime": {
     "end_time": "2024-10-18T09:48:36.294930Z",
     "start_time": "2024-10-18T09:48:36.291228Z"
    }
   },
   "cell_type": "code",
   "source": [
    "Y_train = train_df['SalePrice']\n",
    "X_train = train_df.drop(['SalePrice'], axis=1)\n",
    "Y_test = test_df['SalePrice']\n",
    "X_test = test_df.drop(['SalePrice'], axis=1)"
   ],
   "id": "80a6c4aac5244af2",
   "outputs": [],
   "execution_count": 15
  },
  {
   "metadata": {
    "ExecuteTime": {
     "end_time": "2024-10-18T09:48:36.307232Z",
     "start_time": "2024-10-18T09:48:36.295522Z"
    }
   },
   "cell_type": "code",
   "source": [
    "numeric_features = X_train.select_dtypes(include=[np.number])\n",
    "\n",
    "# X와 y 사이의 상관계수 계산\n",
    "correlation_matrix = numeric_features.corrwith(Y_train)\n",
    "\n",
    "# 상관계수가 높은 상위 5개의 특성 추출\n",
    "top_5_features = correlation_matrix.abs().sort_values(ascending=False).head(5)\n",
    "top_5_features"
   ],
   "id": "5dfe6e941161e1bc",
   "outputs": [
    {
     "data": {
      "text/plain": [
       "OverallQual    0.789018\n",
       "GrLivArea      0.727104\n",
       "ExterQual      0.654926\n",
       "TotalBsmtSF    0.643011\n",
       "GarageCars     0.641559\n",
       "dtype: float64"
      ]
     },
     "execution_count": 16,
     "metadata": {},
     "output_type": "execute_result"
    }
   ],
   "execution_count": 16
  },
  {
   "metadata": {
    "ExecuteTime": {
     "end_time": "2024-10-18T09:48:36.317568Z",
     "start_time": "2024-10-18T09:48:36.308386Z"
    }
   },
   "cell_type": "code",
   "source": [
    "set_col = X_train.columns.intersection(object_columns)\n",
    "tmp = X_train[set_col]\n",
    "correlation_matrix = tmp.corrwith(Y_train)\n",
    "top_5_features_ob = correlation_matrix.abs().sort_values(ascending=False).head(5)\n",
    "top_5_features_ob"
   ],
   "id": "61b5110f5bd3d9e0",
   "outputs": [
    {
     "data": {
      "text/plain": [
       "ExterQual       0.654926\n",
       "BsmtQual        0.602568\n",
       "KitchenQual     0.577730\n",
       "GarageFinish    0.533656\n",
       "HeatingQC       0.421157\n",
       "dtype: float64"
      ]
     },
     "execution_count": 17,
     "metadata": {},
     "output_type": "execute_result"
    }
   ],
   "execution_count": 17
  },
  {
   "metadata": {
    "ExecuteTime": {
     "end_time": "2024-10-18T09:48:36.320226Z",
     "start_time": "2024-10-18T09:48:36.318261Z"
    }
   },
   "cell_type": "code",
   "source": "union_selected_cols = top_5_features.index.union(top_5_features_ob.index)",
   "id": "8a080c60fd9c3553",
   "outputs": [],
   "execution_count": 18
  },
  {
   "metadata": {
    "ExecuteTime": {
     "end_time": "2024-10-18T09:48:36.323194Z",
     "start_time": "2024-10-18T09:48:36.320833Z"
    }
   },
   "cell_type": "code",
   "source": [
    "X_train = X_train[union_selected_cols]\n",
    "X_test = X_test[union_selected_cols]"
   ],
   "id": "72402bb6bec74ad8",
   "outputs": [],
   "execution_count": 19
  },
  {
   "metadata": {
    "ExecuteTime": {
     "end_time": "2024-10-18T09:49:11.897686Z",
     "start_time": "2024-10-18T09:48:52.533506Z"
    }
   },
   "cell_type": "code",
   "source": [
    "from bayes_opt import BayesianOptimization\n",
    "from sklearn.metrics import mean_squared_error\n",
    "import xgboost as xgb\n",
    "\n",
    "\n",
    "def xgb_evaluate(max_depth, learning_rate, n_estimators, gamma, min_child_weight, subsample, colsample_bytree):\n",
    "    params = {\n",
    "        'max_depth': int(max_depth),\n",
    "        'learning_rate': learning_rate,\n",
    "        'n_estimators': int(n_estimators),\n",
    "        'gamma': gamma,\n",
    "        'min_child_weight': min_child_weight,\n",
    "        'subsample': subsample,\n",
    "        'colsample_bytree': colsample_bytree,\n",
    "        'objective': 'reg:squarederror',\n",
    "        'eval_metric': 'rmsle',\n",
    "        'seed': 42\n",
    "    }\n",
    "\n",
    "    model = xgb.XGBRegressor(**params)\n",
    "    model.fit(X_train, np.log(Y_train))\n",
    "    predictions = model.predict(X_test)\n",
    "    rmse = np.sqrt(mean_squared_error(np.log(Y_test), predictions))\n",
    "    return -rmse  # 베이지안 최적화는 최대화를 목표로 하므로 음수로 변환\n",
    "\n",
    "\n",
    "# 베이지안 최적화 범위 설정\n",
    "pbounds = {\n",
    "    'max_depth': (3, 10),\n",
    "    'learning_rate': (0.01, 0.3),\n",
    "    'n_estimators': (50, 500),\n",
    "    'gamma': (0, 5),\n",
    "    'min_child_weight': (1, 10),\n",
    "    'subsample': (0.5, 1),\n",
    "    'colsample_bytree': (0.5, 1)\n",
    "}\n",
    "\n",
    "optimizer = BayesianOptimization(f=xgb_evaluate, pbounds=pbounds, random_state=42)\n",
    "optimizer.maximize(init_points=5, n_iter=100)\n",
    "\n",
    "# 최적의 하이퍼파라미터 출력\n",
    "print(optimizer.max)"
   ],
   "id": "30b3e90d61171aa2",
   "outputs": [
    {
     "name": "stdout",
     "output_type": "stream",
     "text": [
      "|   iter    |  target   | colsam... |   gamma   | learni... | max_depth | min_ch... | n_esti... | subsample |\n",
      "-------------------------------------------------------------------------------------------------------------\n",
      "| \u001B[39m1        \u001B[39m | \u001B[39m-0.2218  \u001B[39m | \u001B[39m0.6873   \u001B[39m | \u001B[39m4.754    \u001B[39m | \u001B[39m0.2223   \u001B[39m | \u001B[39m7.191    \u001B[39m | \u001B[39m2.404    \u001B[39m | \u001B[39m120.2    \u001B[39m | \u001B[39m0.529    \u001B[39m |\n",
      "| \u001B[35m2        \u001B[39m | \u001B[35m-0.1957  \u001B[39m | \u001B[35m0.9331   \u001B[39m | \u001B[35m3.006    \u001B[39m | \u001B[35m0.2153   \u001B[39m | \u001B[35m3.144    \u001B[39m | \u001B[35m9.729    \u001B[39m | \u001B[35m424.6    \u001B[39m | \u001B[35m0.6062   \u001B[39m |\n",
      "| \u001B[35m3        \u001B[39m | \u001B[35m-0.1747  \u001B[39m | \u001B[35m0.5909   \u001B[39m | \u001B[35m0.917    \u001B[39m | \u001B[35m0.09823  \u001B[39m | \u001B[35m6.673    \u001B[39m | \u001B[35m4.888    \u001B[39m | \u001B[35m181.1    \u001B[39m | \u001B[35m0.8059   \u001B[39m |\n",
      "| \u001B[39m4        \u001B[39m | \u001B[39m-0.1813  \u001B[39m | \u001B[39m0.5697   \u001B[39m | \u001B[39m1.461    \u001B[39m | \u001B[39m0.1162   \u001B[39m | \u001B[39m6.192    \u001B[39m | \u001B[39m8.067    \u001B[39m | \u001B[39m139.9    \u001B[39m | \u001B[39m0.7571   \u001B[39m |\n",
      "| \u001B[35m5        \u001B[39m | \u001B[35m-0.1724  \u001B[39m | \u001B[35m0.7962   \u001B[39m | \u001B[35m0.2323   \u001B[39m | \u001B[35m0.1862   \u001B[39m | \u001B[35m4.194    \u001B[39m | \u001B[35m1.585    \u001B[39m | \u001B[35m477.0    \u001B[39m | \u001B[35m0.9828   \u001B[39m |\n",
      "| \u001B[39m6        \u001B[39m | \u001B[39m-0.1772  \u001B[39m | \u001B[39m0.9187   \u001B[39m | \u001B[39m0.04032  \u001B[39m | \u001B[39m0.0852   \u001B[39m | \u001B[39m3.734    \u001B[39m | \u001B[39m1.841    \u001B[39m | \u001B[39m475.8    \u001B[39m | \u001B[39m0.9698   \u001B[39m |\n",
      "| \u001B[39m7        \u001B[39m | \u001B[39m-0.1903  \u001B[39m | \u001B[39m0.5      \u001B[39m | \u001B[39m1.401    \u001B[39m | \u001B[39m0.3      \u001B[39m | \u001B[39m7.0      \u001B[39m | \u001B[39m1.0      \u001B[39m | \u001B[39m484.5    \u001B[39m | \u001B[39m1.0      \u001B[39m |\n",
      "| \u001B[39m8        \u001B[39m | \u001B[39m-0.1771  \u001B[39m | \u001B[39m0.5      \u001B[39m | \u001B[39m0.2106   \u001B[39m | \u001B[39m0.3      \u001B[39m | \u001B[39m10.0     \u001B[39m | \u001B[39m1.0      \u001B[39m | \u001B[39m476.3    \u001B[39m | \u001B[39m1.0      \u001B[39m |\n",
      "| \u001B[39m9        \u001B[39m | \u001B[39m-0.199   \u001B[39m | \u001B[39m0.7231   \u001B[39m | \u001B[39m3.141    \u001B[39m | \u001B[39m0.2773   \u001B[39m | \u001B[39m6.222    \u001B[39m | \u001B[39m1.771    \u001B[39m | \u001B[39m174.6    \u001B[39m | \u001B[39m0.9587   \u001B[39m |\n",
      "| \u001B[39m10       \u001B[39m | \u001B[39m-0.2227  \u001B[39m | \u001B[39m0.5      \u001B[39m | \u001B[39m5.0      \u001B[39m | \u001B[39m0.3      \u001B[39m | \u001B[39m5.911    \u001B[39m | \u001B[39m1.0      \u001B[39m | \u001B[39m477.1    \u001B[39m | \u001B[39m0.5      \u001B[39m |\n",
      "| \u001B[39m11       \u001B[39m | \u001B[39m-0.1964  \u001B[39m | \u001B[39m1.0      \u001B[39m | \u001B[39m0.0      \u001B[39m | \u001B[39m0.07897  \u001B[39m | \u001B[39m6.875    \u001B[39m | \u001B[39m2.348    \u001B[39m | \u001B[39m476.6    \u001B[39m | \u001B[39m1.0      \u001B[39m |\n",
      "| \u001B[39m12       \u001B[39m | \u001B[39m-0.2015  \u001B[39m | \u001B[39m0.5      \u001B[39m | \u001B[39m0.0      \u001B[39m | \u001B[39m0.3      \u001B[39m | \u001B[39m3.0      \u001B[39m | \u001B[39m1.0      \u001B[39m | \u001B[39m478.2    \u001B[39m | \u001B[39m1.0      \u001B[39m |\n",
      "| \u001B[39m13       \u001B[39m | \u001B[39m-0.1787  \u001B[39m | \u001B[39m1.0      \u001B[39m | \u001B[39m1.063    \u001B[39m | \u001B[39m0.3      \u001B[39m | \u001B[39m4.257    \u001B[39m | \u001B[39m2.36     \u001B[39m | \u001B[39m476.5    \u001B[39m | \u001B[39m1.0      \u001B[39m |\n",
      "| \u001B[39m14       \u001B[39m | \u001B[39m-0.1806  \u001B[39m | \u001B[39m0.5      \u001B[39m | \u001B[39m0.6013   \u001B[39m | \u001B[39m0.3      \u001B[39m | \u001B[39m4.803    \u001B[39m | \u001B[39m1.0      \u001B[39m | \u001B[39m476.0    \u001B[39m | \u001B[39m0.5      \u001B[39m |\n",
      "| \u001B[39m15       \u001B[39m | \u001B[39m-0.1974  \u001B[39m | \u001B[39m0.5865   \u001B[39m | \u001B[39m1.971    \u001B[39m | \u001B[39m0.01364  \u001B[39m | \u001B[39m6.421    \u001B[39m | \u001B[39m6.413    \u001B[39m | \u001B[39m180.7    \u001B[39m | \u001B[39m0.8245   \u001B[39m |\n",
      "| \u001B[39m16       \u001B[39m | \u001B[39m-0.1793  \u001B[39m | \u001B[39m0.5943   \u001B[39m | \u001B[39m0.04555  \u001B[39m | \u001B[39m0.1689   \u001B[39m | \u001B[39m6.875    \u001B[39m | \u001B[39m3.626    \u001B[39m | \u001B[39m181.4    \u001B[39m | \u001B[39m0.7911   \u001B[39m |\n",
      "| \u001B[39m17       \u001B[39m | \u001B[39m-0.1902  \u001B[39m | \u001B[39m0.5127   \u001B[39m | \u001B[39m1.415    \u001B[39m | \u001B[39m0.2799   \u001B[39m | \u001B[39m5.444    \u001B[39m | \u001B[39m3.771    \u001B[39m | \u001B[39m181.6    \u001B[39m | \u001B[39m0.9597   \u001B[39m |\n",
      "| \u001B[35m18       \u001B[39m | \u001B[35m-0.1719  \u001B[39m | \u001B[35m0.5      \u001B[39m | \u001B[35m0.0      \u001B[39m | \u001B[35m0.01     \u001B[39m | \u001B[35m4.161    \u001B[39m | \u001B[35m3.0      \u001B[39m | \u001B[35m477.0    \u001B[39m | \u001B[35m0.5      \u001B[39m |\n",
      "| \u001B[39m19       \u001B[39m | \u001B[39m-0.1897  \u001B[39m | \u001B[39m0.6847   \u001B[39m | \u001B[39m0.0      \u001B[39m | \u001B[39m0.01     \u001B[39m | \u001B[39m8.331    \u001B[39m | \u001B[39m4.965    \u001B[39m | \u001B[39m180.7    \u001B[39m | \u001B[39m0.6043   \u001B[39m |\n",
      "| \u001B[39m20       \u001B[39m | \u001B[39m-0.1739  \u001B[39m | \u001B[39m0.5      \u001B[39m | \u001B[39m0.0      \u001B[39m | \u001B[39m0.01     \u001B[39m | \u001B[39m3.008    \u001B[39m | \u001B[39m4.005    \u001B[39m | \u001B[39m476.2    \u001B[39m | \u001B[39m1.0      \u001B[39m |\n",
      "| \u001B[35m21       \u001B[39m | \u001B[35m-0.1708  \u001B[39m | \u001B[35m1.0      \u001B[39m | \u001B[35m0.0      \u001B[39m | \u001B[35m0.01     \u001B[39m | \u001B[35m3.786    \u001B[39m | \u001B[35m4.871    \u001B[39m | \u001B[35m477.6    \u001B[39m | \u001B[35m0.5      \u001B[39m |\n",
      "| \u001B[39m22       \u001B[39m | \u001B[39m-0.1709  \u001B[39m | \u001B[39m0.5      \u001B[39m | \u001B[39m0.0      \u001B[39m | \u001B[39m0.01     \u001B[39m | \u001B[39m4.497    \u001B[39m | \u001B[39m5.473    \u001B[39m | \u001B[39m476.1    \u001B[39m | \u001B[39m0.5      \u001B[39m |\n",
      "| \u001B[39m23       \u001B[39m | \u001B[39m-0.1861  \u001B[39m | \u001B[39m0.5      \u001B[39m | \u001B[39m1.254    \u001B[39m | \u001B[39m0.01     \u001B[39m | \u001B[39m3.086    \u001B[39m | \u001B[39m6.143    \u001B[39m | \u001B[39m476.7    \u001B[39m | \u001B[39m0.5      \u001B[39m |\n",
      "| \u001B[39m24       \u001B[39m | \u001B[39m-0.2068  \u001B[39m | \u001B[39m0.5      \u001B[39m | \u001B[39m0.0      \u001B[39m | \u001B[39m0.3      \u001B[39m | \u001B[39m5.463    \u001B[39m | \u001B[39m5.479    \u001B[39m | \u001B[39m477.7    \u001B[39m | \u001B[39m1.0      \u001B[39m |\n",
      "| \u001B[39m25       \u001B[39m | \u001B[39m-0.171   \u001B[39m | \u001B[39m1.0      \u001B[39m | \u001B[39m0.0      \u001B[39m | \u001B[39m0.01     \u001B[39m | \u001B[39m4.211    \u001B[39m | \u001B[39m4.223    \u001B[39m | \u001B[39m475.9    \u001B[39m | \u001B[39m0.5      \u001B[39m |\n",
      "| \u001B[39m26       \u001B[39m | \u001B[39m-0.1715  \u001B[39m | \u001B[39m0.5      \u001B[39m | \u001B[39m0.0      \u001B[39m | \u001B[39m0.01     \u001B[39m | \u001B[39m3.69     \u001B[39m | \u001B[39m5.38     \u001B[39m | \u001B[39m474.6    \u001B[39m | \u001B[39m0.5      \u001B[39m |\n",
      "| \u001B[35m27       \u001B[39m | \u001B[35m-0.1707  \u001B[39m | \u001B[35m1.0      \u001B[39m | \u001B[35m0.0      \u001B[39m | \u001B[35m0.01     \u001B[39m | \u001B[35m5.374    \u001B[39m | \u001B[35m5.776    \u001B[39m | \u001B[35m474.3    \u001B[39m | \u001B[35m0.5      \u001B[39m |\n",
      "| \u001B[35m28       \u001B[39m | \u001B[35m-0.1705  \u001B[39m | \u001B[35m1.0      \u001B[39m | \u001B[35m0.0      \u001B[39m | \u001B[35m0.01     \u001B[39m | \u001B[35m4.303    \u001B[39m | \u001B[35m7.349    \u001B[39m | \u001B[35m474.6    \u001B[39m | \u001B[35m0.5      \u001B[39m |\n",
      "| \u001B[39m29       \u001B[39m | \u001B[39m-0.2038  \u001B[39m | \u001B[39m0.5      \u001B[39m | \u001B[39m0.0      \u001B[39m | \u001B[39m0.3      \u001B[39m | \u001B[39m4.524    \u001B[39m | \u001B[39m6.829    \u001B[39m | \u001B[39m472.6    \u001B[39m | \u001B[39m0.5      \u001B[39m |\n",
      "| \u001B[39m30       \u001B[39m | \u001B[39m-0.182   \u001B[39m | \u001B[39m1.0      \u001B[39m | \u001B[39m1.186    \u001B[39m | \u001B[39m0.01     \u001B[39m | \u001B[39m4.667    \u001B[39m | \u001B[39m6.085    \u001B[39m | \u001B[39m475.0    \u001B[39m | \u001B[39m0.5      \u001B[39m |\n",
      "| \u001B[35m31       \u001B[39m | \u001B[35m-0.1703  \u001B[39m | \u001B[35m1.0      \u001B[39m | \u001B[35m0.0      \u001B[39m | \u001B[35m0.01     \u001B[39m | \u001B[35m3.213    \u001B[39m | \u001B[35m6.606    \u001B[39m | \u001B[35m475.5    \u001B[39m | \u001B[35m0.5      \u001B[39m |\n",
      "| \u001B[35m32       \u001B[39m | \u001B[35m-0.1702  \u001B[39m | \u001B[35m1.0      \u001B[39m | \u001B[35m0.0      \u001B[39m | \u001B[35m0.01     \u001B[39m | \u001B[35m3.722    \u001B[39m | \u001B[35m8.767    \u001B[39m | \u001B[35m475.8    \u001B[39m | \u001B[35m0.5      \u001B[39m |\n",
      "| \u001B[35m33       \u001B[39m | \u001B[35m-0.1697  \u001B[39m | \u001B[35m1.0      \u001B[39m | \u001B[35m0.0      \u001B[39m | \u001B[35m0.01     \u001B[39m | \u001B[35m5.723    \u001B[39m | \u001B[35m8.602    \u001B[39m | \u001B[35m475.5    \u001B[39m | \u001B[35m0.5      \u001B[39m |\n",
      "| \u001B[39m34       \u001B[39m | \u001B[39m-0.1823  \u001B[39m | \u001B[39m1.0      \u001B[39m | \u001B[39m1.2      \u001B[39m | \u001B[39m0.01     \u001B[39m | \u001B[39m4.856    \u001B[39m | \u001B[39m10.0     \u001B[39m | \u001B[39m475.0    \u001B[39m | \u001B[39m0.5      \u001B[39m |\n",
      "| \u001B[39m35       \u001B[39m | \u001B[39m-0.1713  \u001B[39m | \u001B[39m1.0      \u001B[39m | \u001B[39m0.0      \u001B[39m | \u001B[39m0.01     \u001B[39m | \u001B[39m7.232    \u001B[39m | \u001B[39m7.204    \u001B[39m | \u001B[39m474.7    \u001B[39m | \u001B[39m0.5      \u001B[39m |\n",
      "| \u001B[39m36       \u001B[39m | \u001B[39m-0.1702  \u001B[39m | \u001B[39m1.0      \u001B[39m | \u001B[39m0.0      \u001B[39m | \u001B[39m0.01     \u001B[39m | \u001B[39m8.122    \u001B[39m | \u001B[39m9.321    \u001B[39m | \u001B[39m475.3    \u001B[39m | \u001B[39m0.5      \u001B[39m |\n",
      "| \u001B[39m37       \u001B[39m | \u001B[39m-0.1778  \u001B[39m | \u001B[39m1.0      \u001B[39m | \u001B[39m0.0      \u001B[39m | \u001B[39m0.01     \u001B[39m | \u001B[39m9.496    \u001B[39m | \u001B[39m8.192    \u001B[39m | \u001B[39m473.9    \u001B[39m | \u001B[39m1.0      \u001B[39m |\n",
      "| \u001B[39m38       \u001B[39m | \u001B[39m-0.1939  \u001B[39m | \u001B[39m1.0      \u001B[39m | \u001B[39m1.992    \u001B[39m | \u001B[39m0.01     \u001B[39m | \u001B[39m8.064    \u001B[39m | \u001B[39m8.51     \u001B[39m | \u001B[39m475.4    \u001B[39m | \u001B[39m0.5      \u001B[39m |\n",
      "| \u001B[39m39       \u001B[39m | \u001B[39m-0.1728  \u001B[39m | \u001B[39m0.5      \u001B[39m | \u001B[39m0.0      \u001B[39m | \u001B[39m0.01     \u001B[39m | \u001B[39m7.147    \u001B[39m | \u001B[39m9.478    \u001B[39m | \u001B[39m473.8    \u001B[39m | \u001B[39m1.0      \u001B[39m |\n",
      "| \u001B[39m40       \u001B[39m | \u001B[39m-0.2123  \u001B[39m | \u001B[39m1.0      \u001B[39m | \u001B[39m0.0      \u001B[39m | \u001B[39m0.3      \u001B[39m | \u001B[39m8.868    \u001B[39m | \u001B[39m10.0     \u001B[39m | \u001B[39m472.3    \u001B[39m | \u001B[39m0.5      \u001B[39m |\n",
      "| \u001B[39m41       \u001B[39m | \u001B[39m-0.1725  \u001B[39m | \u001B[39m0.5      \u001B[39m | \u001B[39m0.0      \u001B[39m | \u001B[39m0.01     \u001B[39m | \u001B[39m6.785    \u001B[39m | \u001B[39m10.0     \u001B[39m | \u001B[39m476.1    \u001B[39m | \u001B[39m1.0      \u001B[39m |\n",
      "| \u001B[39m42       \u001B[39m | \u001B[39m-0.1803  \u001B[39m | \u001B[39m1.0      \u001B[39m | \u001B[39m0.0      \u001B[39m | \u001B[39m0.01     \u001B[39m | \u001B[39m8.542    \u001B[39m | \u001B[39m5.43     \u001B[39m | \u001B[39m473.6    \u001B[39m | \u001B[39m1.0      \u001B[39m |\n",
      "| \u001B[39m43       \u001B[39m | \u001B[39m-0.1733  \u001B[39m | \u001B[39m0.5      \u001B[39m | \u001B[39m0.0      \u001B[39m | \u001B[39m0.01     \u001B[39m | \u001B[39m9.41     \u001B[39m | \u001B[39m10.0     \u001B[39m | \u001B[39m477.0    \u001B[39m | \u001B[39m1.0      \u001B[39m |\n",
      "| \u001B[39m44       \u001B[39m | \u001B[39m-0.1703  \u001B[39m | \u001B[39m1.0      \u001B[39m | \u001B[39m0.0      \u001B[39m | \u001B[39m0.01     \u001B[39m | \u001B[39m7.646    \u001B[39m | \u001B[39m10.0     \u001B[39m | \u001B[39m478.5    \u001B[39m | \u001B[39m0.5      \u001B[39m |\n",
      "| \u001B[39m45       \u001B[39m | \u001B[39m-0.1757  \u001B[39m | \u001B[39m1.0      \u001B[39m | \u001B[39m0.0      \u001B[39m | \u001B[39m0.01     \u001B[39m | \u001B[39m9.536    \u001B[39m | \u001B[39m10.0     \u001B[39m | \u001B[39m479.7    \u001B[39m | \u001B[39m0.9856   \u001B[39m |\n",
      "| \u001B[39m46       \u001B[39m | \u001B[39m-0.207   \u001B[39m | \u001B[39m0.5      \u001B[39m | \u001B[39m0.0      \u001B[39m | \u001B[39m0.2271   \u001B[39m | \u001B[39m6.948    \u001B[39m | \u001B[39m10.0     \u001B[39m | \u001B[39m480.7    \u001B[39m | \u001B[39m0.5      \u001B[39m |\n",
      "| \u001B[39m47       \u001B[39m | \u001B[39m-0.181   \u001B[39m | \u001B[39m1.0      \u001B[39m | \u001B[39m1.48     \u001B[39m | \u001B[39m0.3      \u001B[39m | \u001B[39m8.865    \u001B[39m | \u001B[39m10.0     \u001B[39m | \u001B[39m478.2    \u001B[39m | \u001B[39m0.5      \u001B[39m |\n",
      "| \u001B[39m48       \u001B[39m | \u001B[39m-0.1707  \u001B[39m | \u001B[39m1.0      \u001B[39m | \u001B[39m0.0      \u001B[39m | \u001B[39m0.01     \u001B[39m | \u001B[39m7.934    \u001B[39m | \u001B[39m8.654    \u001B[39m | \u001B[39m477.2    \u001B[39m | \u001B[39m0.5      \u001B[39m |\n",
      "| \u001B[39m49       \u001B[39m | \u001B[39m-0.2038  \u001B[39m | \u001B[39m0.5      \u001B[39m | \u001B[39m0.0      \u001B[39m | \u001B[39m0.3      \u001B[39m | \u001B[39m10.0     \u001B[39m | \u001B[39m1.0      \u001B[39m | \u001B[39m473.3    \u001B[39m | \u001B[39m1.0      \u001B[39m |\n",
      "| \u001B[39m50       \u001B[39m | \u001B[39m-0.1778  \u001B[39m | \u001B[39m1.0      \u001B[39m | \u001B[39m0.0      \u001B[39m | \u001B[39m0.01     \u001B[39m | \u001B[39m10.0     \u001B[39m | \u001B[39m7.578    \u001B[39m | \u001B[39m476.4    \u001B[39m | \u001B[39m1.0      \u001B[39m |\n",
      "| \u001B[39m51       \u001B[39m | \u001B[39m-0.1705  \u001B[39m | \u001B[39m0.5924   \u001B[39m | \u001B[39m0.2794   \u001B[39m | \u001B[39m0.03009  \u001B[39m | \u001B[39m7.141    \u001B[39m | \u001B[39m9.73     \u001B[39m | \u001B[39m143.1    \u001B[39m | \u001B[39m0.7147   \u001B[39m |\n",
      "| \u001B[39m52       \u001B[39m | \u001B[39m-0.1859  \u001B[39m | \u001B[39m0.7162   \u001B[39m | \u001B[39m1.654    \u001B[39m | \u001B[39m0.04696  \u001B[39m | \u001B[39m8.325    \u001B[39m | \u001B[39m8.51     \u001B[39m | \u001B[39m143.4    \u001B[39m | \u001B[39m0.6247   \u001B[39m |\n",
      "| \u001B[39m53       \u001B[39m | \u001B[39m-0.21    \u001B[39m | \u001B[39m0.5      \u001B[39m | \u001B[39m0.0      \u001B[39m | \u001B[39m0.01     \u001B[39m | \u001B[39m5.135    \u001B[39m | \u001B[39m10.0     \u001B[39m | \u001B[39m142.8    \u001B[39m | \u001B[39m0.8652   \u001B[39m |\n",
      "| \u001B[39m54       \u001B[39m | \u001B[39m-0.1935  \u001B[39m | \u001B[39m0.5      \u001B[39m | \u001B[39m0.0      \u001B[39m | \u001B[39m0.01273  \u001B[39m | \u001B[39m8.615    \u001B[39m | \u001B[39m10.0     \u001B[39m | \u001B[39m142.5    \u001B[39m | \u001B[39m0.5564   \u001B[39m |\n",
      "| \u001B[39m55       \u001B[39m | \u001B[39m-0.172   \u001B[39m | \u001B[39m0.5      \u001B[39m | \u001B[39m0.0      \u001B[39m | \u001B[39m0.01     \u001B[39m | \u001B[39m6.004    \u001B[39m | \u001B[39m7.772    \u001B[39m | \u001B[39m474.6    \u001B[39m | \u001B[39m1.0      \u001B[39m |\n",
      "| \u001B[39m56       \u001B[39m | \u001B[39m-0.1707  \u001B[39m | \u001B[39m0.8261   \u001B[39m | \u001B[39m0.1494   \u001B[39m | \u001B[39m0.08515  \u001B[39m | \u001B[39m7.382    \u001B[39m | \u001B[39m9.76     \u001B[39m | \u001B[39m144.8    \u001B[39m | \u001B[39m0.7804   \u001B[39m |\n",
      "| \u001B[39m57       \u001B[39m | \u001B[39m-0.1705  \u001B[39m | \u001B[39m1.0      \u001B[39m | \u001B[39m0.0      \u001B[39m | \u001B[39m0.01     \u001B[39m | \u001B[39m4.657    \u001B[39m | \u001B[39m7.456    \u001B[39m | \u001B[39m476.1    \u001B[39m | \u001B[39m0.5      \u001B[39m |\n",
      "| \u001B[39m58       \u001B[39m | \u001B[39m-0.1887  \u001B[39m | \u001B[39m0.5      \u001B[39m | \u001B[39m1.854    \u001B[39m | \u001B[39m0.3      \u001B[39m | \u001B[39m6.924    \u001B[39m | \u001B[39m10.0     \u001B[39m | \u001B[39m144.7    \u001B[39m | \u001B[39m0.5      \u001B[39m |\n",
      "| \u001B[39m59       \u001B[39m | \u001B[39m-0.2002  \u001B[39m | \u001B[39m1.0      \u001B[39m | \u001B[39m0.0      \u001B[39m | \u001B[39m0.01     \u001B[39m | \u001B[39m7.147    \u001B[39m | \u001B[39m8.236    \u001B[39m | \u001B[39m144.1    \u001B[39m | \u001B[39m1.0      \u001B[39m |\n",
      "| \u001B[39m60       \u001B[39m | \u001B[39m-0.1699  \u001B[39m | \u001B[39m1.0      \u001B[39m | \u001B[39m0.0      \u001B[39m | \u001B[39m0.01     \u001B[39m | \u001B[39m6.166    \u001B[39m | \u001B[39m9.275    \u001B[39m | \u001B[39m477.4    \u001B[39m | \u001B[39m0.5      \u001B[39m |\n",
      "| \u001B[39m61       \u001B[39m | \u001B[39m-0.173   \u001B[39m | \u001B[39m0.5      \u001B[39m | \u001B[39m0.0      \u001B[39m | \u001B[39m0.01     \u001B[39m | \u001B[39m7.192    \u001B[39m | \u001B[39m8.3      \u001B[39m | \u001B[39m475.9    \u001B[39m | \u001B[39m1.0      \u001B[39m |\n",
      "| \u001B[39m62       \u001B[39m | \u001B[39m-0.1944  \u001B[39m | \u001B[39m0.5      \u001B[39m | \u001B[39m0.0      \u001B[39m | \u001B[39m0.3      \u001B[39m | \u001B[39m4.518    \u001B[39m | \u001B[39m9.555    \u001B[39m | \u001B[39m477.0    \u001B[39m | \u001B[39m1.0      \u001B[39m |\n",
      "| \u001B[39m63       \u001B[39m | \u001B[39m-0.2165  \u001B[39m | \u001B[39m1.0      \u001B[39m | \u001B[39m0.0      \u001B[39m | \u001B[39m0.3      \u001B[39m | \u001B[39m5.899    \u001B[39m | \u001B[39m6.724    \u001B[39m | \u001B[39m475.3    \u001B[39m | \u001B[39m0.5      \u001B[39m |\n",
      "| \u001B[39m64       \u001B[39m | \u001B[39m-0.1709  \u001B[39m | \u001B[39m0.8431   \u001B[39m | \u001B[39m0.0      \u001B[39m | \u001B[39m0.01     \u001B[39m | \u001B[39m6.904    \u001B[39m | \u001B[39m8.658    \u001B[39m | \u001B[39m474.7    \u001B[39m | \u001B[39m0.6684   \u001B[39m |\n",
      "| \u001B[39m65       \u001B[39m | \u001B[39m-0.1703  \u001B[39m | \u001B[39m0.9413   \u001B[39m | \u001B[39m0.0      \u001B[39m | \u001B[39m0.01     \u001B[39m | \u001B[39m7.387    \u001B[39m | \u001B[39m9.74     \u001B[39m | \u001B[39m477.2    \u001B[39m | \u001B[39m0.5753   \u001B[39m |\n",
      "| \u001B[39m66       \u001B[39m | \u001B[39m-0.1723  \u001B[39m | \u001B[39m0.5      \u001B[39m | \u001B[39m0.0      \u001B[39m | \u001B[39m0.01     \u001B[39m | \u001B[39m7.803    \u001B[39m | \u001B[39m7.961    \u001B[39m | \u001B[39m474.4    \u001B[39m | \u001B[39m1.0      \u001B[39m |\n",
      "| \u001B[39m67       \u001B[39m | \u001B[39m-0.1708  \u001B[39m | \u001B[39m0.5976   \u001B[39m | \u001B[39m0.0      \u001B[39m | \u001B[39m0.01     \u001B[39m | \u001B[39m4.482    \u001B[39m | \u001B[39m8.243    \u001B[39m | \u001B[39m475.2    \u001B[39m | \u001B[39m0.951    \u001B[39m |\n",
      "| \u001B[39m68       \u001B[39m | \u001B[39m-0.1711  \u001B[39m | \u001B[39m0.8754   \u001B[39m | \u001B[39m0.0      \u001B[39m | \u001B[39m0.01     \u001B[39m | \u001B[39m4.821    \u001B[39m | \u001B[39m4.718    \u001B[39m | \u001B[39m474.6    \u001B[39m | \u001B[39m0.5414   \u001B[39m |\n",
      "| \u001B[39m69       \u001B[39m | \u001B[39m-0.172   \u001B[39m | \u001B[39m0.5      \u001B[39m | \u001B[39m0.0      \u001B[39m | \u001B[39m0.01     \u001B[39m | \u001B[39m5.701    \u001B[39m | \u001B[39m9.057    \u001B[39m | \u001B[39m474.4    \u001B[39m | \u001B[39m1.0      \u001B[39m |\n",
      "| \u001B[39m70       \u001B[39m | \u001B[39m-0.173   \u001B[39m | \u001B[39m0.5      \u001B[39m | \u001B[39m0.0      \u001B[39m | \u001B[39m0.01     \u001B[39m | \u001B[39m7.134    \u001B[39m | \u001B[39m8.985    \u001B[39m | \u001B[39m478.0    \u001B[39m | \u001B[39m1.0      \u001B[39m |\n",
      "| \u001B[39m71       \u001B[39m | \u001B[39m-0.175   \u001B[39m | \u001B[39m1.0      \u001B[39m | \u001B[39m0.6638   \u001B[39m | \u001B[39m0.01     \u001B[39m | \u001B[39m6.666    \u001B[39m | \u001B[39m9.068    \u001B[39m | \u001B[39m476.4    \u001B[39m | \u001B[39m0.5      \u001B[39m |\n",
      "| \u001B[39m72       \u001B[39m | \u001B[39m-0.1751  \u001B[39m | \u001B[39m1.0      \u001B[39m | \u001B[39m0.0      \u001B[39m | \u001B[39m0.01     \u001B[39m | \u001B[39m6.818    \u001B[39m | \u001B[39m7.827    \u001B[39m | \u001B[39m473.5    \u001B[39m | \u001B[39m1.0      \u001B[39m |\n",
      "| \u001B[39m73       \u001B[39m | \u001B[39m-0.1752  \u001B[39m | \u001B[39m1.0      \u001B[39m | \u001B[39m0.703    \u001B[39m | \u001B[39m0.01     \u001B[39m | \u001B[39m3.315    \u001B[39m | \u001B[39m3.855    \u001B[39m | \u001B[39m477.3    \u001B[39m | \u001B[39m0.5      \u001B[39m |\n",
      "| \u001B[39m74       \u001B[39m | \u001B[39m-0.1711  \u001B[39m | \u001B[39m1.0      \u001B[39m | \u001B[39m0.0      \u001B[39m | \u001B[39m0.01     \u001B[39m | \u001B[39m5.963    \u001B[39m | \u001B[39m4.83     \u001B[39m | \u001B[39m473.5    \u001B[39m | \u001B[39m0.5      \u001B[39m |\n",
      "| \u001B[39m75       \u001B[39m | \u001B[39m-0.1764  \u001B[39m | \u001B[39m0.5      \u001B[39m | \u001B[39m0.588    \u001B[39m | \u001B[39m0.01     \u001B[39m | \u001B[39m7.622    \u001B[39m | \u001B[39m6.742    \u001B[39m | \u001B[39m473.7    \u001B[39m | \u001B[39m0.5      \u001B[39m |\n",
      "| \u001B[39m76       \u001B[39m | \u001B[39m-0.18    \u001B[39m | \u001B[39m1.0      \u001B[39m | \u001B[39m1.041    \u001B[39m | \u001B[39m0.01     \u001B[39m | \u001B[39m6.722    \u001B[39m | \u001B[39m10.0     \u001B[39m | \u001B[39m477.9    \u001B[39m | \u001B[39m0.5      \u001B[39m |\n",
      "| \u001B[39m77       \u001B[39m | \u001B[39m-0.1741  \u001B[39m | \u001B[39m1.0      \u001B[39m | \u001B[39m0.0      \u001B[39m | \u001B[39m0.01     \u001B[39m | \u001B[39m3.483    \u001B[39m | \u001B[39m5.333    \u001B[39m | \u001B[39m475.9    \u001B[39m | \u001B[39m1.0      \u001B[39m |\n",
      "| \u001B[39m78       \u001B[39m | \u001B[39m-0.1759  \u001B[39m | \u001B[39m1.0      \u001B[39m | \u001B[39m0.7655   \u001B[39m | \u001B[39m0.01     \u001B[39m | \u001B[39m3.63     \u001B[39m | \u001B[39m7.78     \u001B[39m | \u001B[39m475.5    \u001B[39m | \u001B[39m0.5      \u001B[39m |\n",
      "| \u001B[39m79       \u001B[39m | \u001B[39m-0.1748  \u001B[39m | \u001B[39m1.0      \u001B[39m | \u001B[39m0.0      \u001B[39m | \u001B[39m0.01     \u001B[39m | \u001B[39m8.83     \u001B[39m | \u001B[39m9.146    \u001B[39m | \u001B[39m478.2    \u001B[39m | \u001B[39m1.0      \u001B[39m |\n",
      "| \u001B[39m80       \u001B[39m | \u001B[39m-0.1722  \u001B[39m | \u001B[39m1.0      \u001B[39m | \u001B[39m0.0      \u001B[39m | \u001B[39m0.01     \u001B[39m | \u001B[39m8.568    \u001B[39m | \u001B[39m7.461    \u001B[39m | \u001B[39m475.3    \u001B[39m | \u001B[39m0.5      \u001B[39m |\n",
      "| \u001B[39m81       \u001B[39m | \u001B[39m-0.1708  \u001B[39m | \u001B[39m1.0      \u001B[39m | \u001B[39m0.0      \u001B[39m | \u001B[39m0.01     \u001B[39m | \u001B[39m3.0      \u001B[39m | \u001B[39m4.528    \u001B[39m | \u001B[39m478.9    \u001B[39m | \u001B[39m0.5      \u001B[39m |\n",
      "| \u001B[39m82       \u001B[39m | \u001B[39m-0.203   \u001B[39m | \u001B[39m0.7393   \u001B[39m | \u001B[39m0.0      \u001B[39m | \u001B[39m0.01     \u001B[39m | \u001B[39m8.303    \u001B[39m | \u001B[39m10.0     \u001B[39m | \u001B[39m146.0    \u001B[39m | \u001B[39m0.615    \u001B[39m |\n",
      "| \u001B[39m83       \u001B[39m | \u001B[39m-0.1799  \u001B[39m | \u001B[39m1.0      \u001B[39m | \u001B[39m1.068    \u001B[39m | \u001B[39m0.01     \u001B[39m | \u001B[39m5.18     \u001B[39m | \u001B[39m4.891    \u001B[39m | \u001B[39m473.7    \u001B[39m | \u001B[39m1.0      \u001B[39m |\n",
      "| \u001B[39m84       \u001B[39m | \u001B[39m-0.1868  \u001B[39m | \u001B[39m1.0      \u001B[39m | \u001B[39m1.493    \u001B[39m | \u001B[39m0.01     \u001B[39m | \u001B[39m3.0      \u001B[39m | \u001B[39m4.746    \u001B[39m | \u001B[39m479.2    \u001B[39m | \u001B[39m0.5      \u001B[39m |\n",
      "| \u001B[39m85       \u001B[39m | \u001B[39m-0.1748  \u001B[39m | \u001B[39m1.0      \u001B[39m | \u001B[39m0.0      \u001B[39m | \u001B[39m0.01     \u001B[39m | \u001B[39m3.848    \u001B[39m | \u001B[39m3.577    \u001B[39m | \u001B[39m478.4    \u001B[39m | \u001B[39m1.0      \u001B[39m |\n",
      "| \u001B[39m86       \u001B[39m | \u001B[39m-0.1702  \u001B[39m | \u001B[39m1.0      \u001B[39m | \u001B[39m0.0      \u001B[39m | \u001B[39m0.01     \u001B[39m | \u001B[39m3.101    \u001B[39m | \u001B[39m8.578    \u001B[39m | \u001B[39m474.4    \u001B[39m | \u001B[39m0.5      \u001B[39m |\n",
      "| \u001B[39m87       \u001B[39m | \u001B[39m-0.2039  \u001B[39m | \u001B[39m0.5      \u001B[39m | \u001B[39m0.0      \u001B[39m | \u001B[39m0.3      \u001B[39m | \u001B[39m3.416    \u001B[39m | \u001B[39m3.623    \u001B[39m | \u001B[39m474.6    \u001B[39m | \u001B[39m0.5      \u001B[39m |\n",
      "| \u001B[39m88       \u001B[39m | \u001B[39m-0.1728  \u001B[39m | \u001B[39m0.876    \u001B[39m | \u001B[39m0.165    \u001B[39m | \u001B[39m0.1079   \u001B[39m | \u001B[39m10.0     \u001B[39m | \u001B[39m5.946    \u001B[39m | \u001B[39m475.1    \u001B[39m | \u001B[39m0.5      \u001B[39m |\n",
      "| \u001B[39m89       \u001B[39m | \u001B[39m-0.1713  \u001B[39m | \u001B[39m0.5      \u001B[39m | \u001B[39m0.1786   \u001B[39m | \u001B[39m0.01     \u001B[39m | \u001B[39m8.961    \u001B[39m | \u001B[39m6.109    \u001B[39m | \u001B[39m476.2    \u001B[39m | \u001B[39m0.5      \u001B[39m |\n",
      "| \u001B[39m90       \u001B[39m | \u001B[39m-0.181   \u001B[39m | \u001B[39m1.0      \u001B[39m | \u001B[39m1.118    \u001B[39m | \u001B[39m0.01     \u001B[39m | \u001B[39m8.818    \u001B[39m | \u001B[39m6.06     \u001B[39m | \u001B[39m475.2    \u001B[39m | \u001B[39m0.5      \u001B[39m |\n",
      "| \u001B[39m91       \u001B[39m | \u001B[39m-0.1726  \u001B[39m | \u001B[39m0.5      \u001B[39m | \u001B[39m0.0      \u001B[39m | \u001B[39m0.01     \u001B[39m | \u001B[39m3.0      \u001B[39m | \u001B[39m9.771    \u001B[39m | \u001B[39m474.7    \u001B[39m | \u001B[39m1.0      \u001B[39m |\n",
      "| \u001B[39m92       \u001B[39m | \u001B[39m-0.2186  \u001B[39m | \u001B[39m0.5      \u001B[39m | \u001B[39m0.0      \u001B[39m | \u001B[39m0.3      \u001B[39m | \u001B[39m8.676    \u001B[39m | \u001B[39m7.245    \u001B[39m | \u001B[39m477.3    \u001B[39m | \u001B[39m0.5      \u001B[39m |\n",
      "| \u001B[39m93       \u001B[39m | \u001B[39m-0.1799  \u001B[39m | \u001B[39m0.5      \u001B[39m | \u001B[39m1.053    \u001B[39m | \u001B[39m0.01     \u001B[39m | \u001B[39m6.309    \u001B[39m | \u001B[39m8.47     \u001B[39m | \u001B[39m474.3    \u001B[39m | \u001B[39m1.0      \u001B[39m |\n",
      "| \u001B[39m94       \u001B[39m | \u001B[39m-0.1725  \u001B[39m | \u001B[39m0.5      \u001B[39m | \u001B[39m0.0      \u001B[39m | \u001B[39m0.01     \u001B[39m | \u001B[39m6.197    \u001B[39m | \u001B[39m9.134    \u001B[39m | \u001B[39m475.5    \u001B[39m | \u001B[39m1.0      \u001B[39m |\n",
      "| \u001B[35m95       \u001B[39m | \u001B[35m-0.1693  \u001B[39m | \u001B[35m1.0      \u001B[39m | \u001B[35m0.0      \u001B[39m | \u001B[35m0.01     \u001B[39m | \u001B[35m4.32     \u001B[39m | \u001B[35m9.006    \u001B[39m | \u001B[35m474.4    \u001B[39m | \u001B[35m0.5      \u001B[39m |\n",
      "| \u001B[39m96       \u001B[39m | \u001B[39m-0.1726  \u001B[39m | \u001B[39m1.0      \u001B[39m | \u001B[39m0.0      \u001B[39m | \u001B[39m0.01     \u001B[39m | \u001B[39m3.0      \u001B[39m | \u001B[39m7.087    \u001B[39m | \u001B[39m474.4    \u001B[39m | \u001B[39m1.0      \u001B[39m |\n",
      "| \u001B[39m97       \u001B[39m | \u001B[39m-0.1706  \u001B[39m | \u001B[39m0.5      \u001B[39m | \u001B[39m0.0      \u001B[39m | \u001B[39m0.01     \u001B[39m | \u001B[39m3.59     \u001B[39m | \u001B[39m7.511    \u001B[39m | \u001B[39m476.5    \u001B[39m | \u001B[39m0.5      \u001B[39m |\n",
      "| \u001B[39m98       \u001B[39m | \u001B[39m-0.1744  \u001B[39m | \u001B[39m0.5      \u001B[39m | \u001B[39m0.0      \u001B[39m | \u001B[39m0.01     \u001B[39m | \u001B[39m9.543    \u001B[39m | \u001B[39m4.918    \u001B[39m | \u001B[39m476.0    \u001B[39m | \u001B[39m0.7136   \u001B[39m |\n",
      "| \u001B[39m99       \u001B[39m | \u001B[39m-0.172   \u001B[39m | \u001B[39m1.0      \u001B[39m | \u001B[39m0.0      \u001B[39m | \u001B[39m0.01     \u001B[39m | \u001B[39m3.444    \u001B[39m | \u001B[39m9.689    \u001B[39m | \u001B[39m473.3    \u001B[39m | \u001B[39m1.0      \u001B[39m |\n",
      "| \u001B[39m100      \u001B[39m | \u001B[39m-0.1855  \u001B[39m | \u001B[39m0.5      \u001B[39m | \u001B[39m1.2      \u001B[39m | \u001B[39m0.01     \u001B[39m | \u001B[39m3.0      \u001B[39m | \u001B[39m9.319    \u001B[39m | \u001B[39m473.8    \u001B[39m | \u001B[39m0.5      \u001B[39m |\n",
      "| \u001B[39m101      \u001B[39m | \u001B[39m-0.1726  \u001B[39m | \u001B[39m1.0      \u001B[39m | \u001B[39m0.0      \u001B[39m | \u001B[39m0.01     \u001B[39m | \u001B[39m3.0      \u001B[39m | \u001B[39m7.959    \u001B[39m | \u001B[39m475.6    \u001B[39m | \u001B[39m1.0      \u001B[39m |\n",
      "| \u001B[39m102      \u001B[39m | \u001B[39m-0.1731  \u001B[39m | \u001B[39m1.0      \u001B[39m | \u001B[39m0.0      \u001B[39m | \u001B[39m0.01     \u001B[39m | \u001B[39m6.845    \u001B[39m | \u001B[39m3.885    \u001B[39m | \u001B[39m472.2    \u001B[39m | \u001B[39m0.5      \u001B[39m |\n",
      "| \u001B[39m103      \u001B[39m | \u001B[39m-0.1721  \u001B[39m | \u001B[39m0.7884   \u001B[39m | \u001B[39m0.3618   \u001B[39m | \u001B[39m0.1406   \u001B[39m | \u001B[39m7.657    \u001B[39m | \u001B[39m4.731    \u001B[39m | \u001B[39m471.0    \u001B[39m | \u001B[39m0.7596   \u001B[39m |\n",
      "| \u001B[39m104      \u001B[39m | \u001B[39m-0.1845  \u001B[39m | \u001B[39m1.0      \u001B[39m | \u001B[39m1.342    \u001B[39m | \u001B[39m0.01     \u001B[39m | \u001B[39m7.18     \u001B[39m | \u001B[39m4.848    \u001B[39m | \u001B[39m472.2    \u001B[39m | \u001B[39m0.5      \u001B[39m |\n",
      "| \u001B[39m105      \u001B[39m | \u001B[39m-0.2037  \u001B[39m | \u001B[39m0.7917   \u001B[39m | \u001B[39m0.0      \u001B[39m | \u001B[39m0.1318   \u001B[39m | \u001B[39m6.991    \u001B[39m | \u001B[39m3.421    \u001B[39m | \u001B[39m470.6    \u001B[39m | \u001B[39m0.8309   \u001B[39m |\n",
      "=============================================================================================================\n",
      "{'target': np.float64(-0.16929955103856215), 'params': {'colsample_bytree': np.float64(1.0), 'gamma': np.float64(0.0), 'learning_rate': np.float64(0.01), 'max_depth': np.float64(4.319535372568758), 'min_child_weight': np.float64(9.0055688172929), 'n_estimators': np.float64(474.36694327501306), 'subsample': np.float64(0.5)}}\n"
     ]
    }
   ],
   "execution_count": 21
  },
  {
   "metadata": {
    "ExecuteTime": {
     "end_time": "2024-10-18T09:49:15.559754Z",
     "start_time": "2024-10-18T09:49:15.370331Z"
    }
   },
   "cell_type": "code",
   "source": [
    "best_params = optimizer.max['params']\n",
    "best_params['max_depth'] = int(best_params['max_depth'])  # max_depth는 정수형이어야 함\n",
    "best_params['n_estimators'] = int(best_params['n_estimators'])  # n_estimators도 정수형이어야 함\n",
    "\n",
    "final_model = xgb.XGBRegressor(\n",
    "    max_depth=best_params['max_depth'],\n",
    "    learning_rate=best_params['learning_rate'],\n",
    "    n_estimators=best_params['n_estimators'],\n",
    "    gamma=best_params['gamma'],\n",
    "    min_child_weight=best_params['min_child_weight'],\n",
    "    subsample=best_params['subsample'],\n",
    "    colsample_bytree=best_params['colsample_bytree'],\n",
    "    objective='reg:squarederror',\n",
    "    seed=42\n",
    ")\n",
    "\n",
    "final_model.fit(X_train, np.log(Y_train))\n",
    "final_predictions = final_model.predict(X_test)\n",
    "final_rmse = np.sqrt(mean_squared_error(np.log(Y_test), final_predictions))\n",
    "\n",
    "print(f\"최종 모델의 RMSE: {final_rmse}\")"
   ],
   "id": "3e8691a1ed8ccd75",
   "outputs": [
    {
     "name": "stdout",
     "output_type": "stream",
     "text": [
      "최종 모델의 RMSE: 0.16929955103856215\n"
     ]
    }
   ],
   "execution_count": 22
  },
  {
   "metadata": {},
   "cell_type": "code",
   "source": "",
   "id": "96fb922b17917515",
   "outputs": [],
   "execution_count": null
  }
 ],
 "metadata": {
  "kernelspec": {
   "display_name": "Python 3",
   "language": "python",
   "name": "python3"
  },
  "language_info": {
   "codemirror_mode": {
    "name": "ipython",
    "version": 2
   },
   "file_extension": ".py",
   "mimetype": "text/x-python",
   "name": "python",
   "nbconvert_exporter": "python",
   "pygments_lexer": "ipython2",
   "version": "2.7.6"
  }
 },
 "nbformat": 4,
 "nbformat_minor": 5
}
